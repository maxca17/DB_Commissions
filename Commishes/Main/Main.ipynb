{
 "cells": [
  {
   "cell_type": "markdown",
   "id": "840fb76c-0eb4-48dd-b165-40fd6f8cfd48",
   "metadata": {
    "tags": []
   },
   "source": [
    "### Data Clean & Setup"
   ]
  },
  {
   "cell_type": "code",
   "execution_count": 1,
   "id": "79d6c906-5e45-4299-a871-db3fc1499ab5",
   "metadata": {},
   "outputs": [],
   "source": [
    "import openpyxl as py\n",
    "from openpyxl import *\n",
    "import pandas as pd\n",
    "from pandas import *\n",
    "import numpy as np\n",
    "import ast as ast\n",
    "\n",
    "#import pdfkit\n",
    "pd.options.mode.chained_assignment = None"
   ]
  },
  {
   "cell_type": "code",
   "execution_count": 2,
   "id": "ad347f17-3dda-4355-8ac1-690d3e5a0e0d",
   "metadata": {},
   "outputs": [],
   "source": [
    "#eoq = input('Is this the end of a quarter? (imput y or n)')"
   ]
  },
  {
   "cell_type": "code",
   "execution_count": 3,
   "id": "34045a76-3900-490e-b265-9922349262a2",
   "metadata": {},
   "outputs": [],
   "source": [
    "ep1 = pd.read_excel('../excel_sheets/Epicor.xlsx')"
   ]
  },
  {
   "cell_type": "code",
   "execution_count": 4,
   "id": "a67a85d4-c465-495e-a676-f583ac632d44",
   "metadata": {},
   "outputs": [
    {
     "data": {
      "text/html": [
       "<div>\n",
       "<style scoped>\n",
       "    .dataframe tbody tr th:only-of-type {\n",
       "        vertical-align: middle;\n",
       "    }\n",
       "\n",
       "    .dataframe tbody tr th {\n",
       "        vertical-align: top;\n",
       "    }\n",
       "\n",
       "    .dataframe thead th {\n",
       "        text-align: right;\n",
       "    }\n",
       "</style>\n",
       "<table border=\"1\" class=\"dataframe\">\n",
       "  <thead>\n",
       "    <tr style=\"text-align: right;\">\n",
       "      <th></th>\n",
       "      <th>Organization</th>\n",
       "      <th>Order #</th>\n",
       "      <th>Order Date</th>\n",
       "      <th>Salesman</th>\n",
       "      <th>Order Summary</th>\n",
       "      <th>Type</th>\n",
       "      <th>Term</th>\n",
       "      <th>Datacenter</th>\n",
       "      <th>payout</th>\n",
       "      <th>MRR</th>\n",
       "      <th>Service Type</th>\n",
       "    </tr>\n",
       "  </thead>\n",
       "  <tbody>\n",
       "    <tr>\n",
       "      <th>0</th>\n",
       "      <td>ADP</td>\n",
       "      <td>62450</td>\n",
       "      <td>2022-08-02 18:25:06.877</td>\n",
       "      <td>Paul Attallah</td>\n",
       "      <td>Cross Connect : CAT6E</td>\n",
       "      <td>New</td>\n",
       "      <td>12.0</td>\n",
       "      <td>SAN1</td>\n",
       "      <td>100.0</td>\n",
       "      <td>100.0</td>\n",
       "      <td>xConnect</td>\n",
       "    </tr>\n",
       "  </tbody>\n",
       "</table>\n",
       "</div>"
      ],
      "text/plain": [
       "  Organization Order #              Order Date        Salesman  \\\n",
       "0          ADP   62450 2022-08-02 18:25:06.877  Paul Attallah    \n",
       "\n",
       "           Order Summary Type  Term Datacenter  payout    MRR Service Type  \n",
       "0  Cross Connect : CAT6E  New  12.0       SAN1   100.0  100.0     xConnect  "
      ]
     },
     "execution_count": 4,
     "metadata": {},
     "output_type": "execute_result"
    }
   ],
   "source": [
    "ep1.head(1)"
   ]
  },
  {
   "cell_type": "code",
   "execution_count": 5,
   "id": "9649a6cd-4603-4769-a831-afe79f745026",
   "metadata": {},
   "outputs": [
    {
     "data": {
      "text/plain": [
       "Index(['Organization', 'Order #', 'Order Date', 'Salesman', 'Order Summary',\n",
       "       'Type', 'Term', 'Datacenter', 'payout', 'MRR', 'Service Type'],\n",
       "      dtype='object')"
      ]
     },
     "execution_count": 5,
     "metadata": {},
     "output_type": "execute_result"
    }
   ],
   "source": [
    "ep1.columns"
   ]
  },
  {
   "cell_type": "code",
   "execution_count": 6,
   "id": "e121fa86-0785-4cf1-90ae-0fc5a2abe039",
   "metadata": {},
   "outputs": [
    {
     "data": {
      "text/plain": [
       "Organization             object\n",
       "Order #                  object\n",
       "Order Date       datetime64[ns]\n",
       "Salesman                 object\n",
       "Order Summary            object\n",
       "Type                     object\n",
       "Term                    float64\n",
       "Datacenter               object\n",
       "payout                  float64\n",
       "MRR                     float64\n",
       "Service Type             object\n",
       "dtype: object"
      ]
     },
     "execution_count": 6,
     "metadata": {},
     "output_type": "execute_result"
    }
   ],
   "source": [
    "ep1.dtypes"
   ]
  },
  {
   "cell_type": "markdown",
   "id": "815d4601-234c-47d6-b9e8-7f00a195b82e",
   "metadata": {
    "jp-MarkdownHeadingCollapsed": true,
    "tags": []
   },
   "source": [
    "#### Clean Data"
   ]
  },
  {
   "cell_type": "code",
   "execution_count": 8,
   "id": "a4740fe4-8033-43cc-bc33-f9a2f70c640e",
   "metadata": {},
   "outputs": [
    {
     "data": {
      "text/html": [
       "<div>\n",
       "<style scoped>\n",
       "    .dataframe tbody tr th:only-of-type {\n",
       "        vertical-align: middle;\n",
       "    }\n",
       "\n",
       "    .dataframe tbody tr th {\n",
       "        vertical-align: top;\n",
       "    }\n",
       "\n",
       "    .dataframe thead th {\n",
       "        text-align: right;\n",
       "    }\n",
       "</style>\n",
       "<table border=\"1\" class=\"dataframe\">\n",
       "  <thead>\n",
       "    <tr style=\"text-align: right;\">\n",
       "      <th></th>\n",
       "      <th>Organization</th>\n",
       "      <th>Order #</th>\n",
       "      <th>Order Date</th>\n",
       "      <th>Salesman</th>\n",
       "      <th>Order Summary</th>\n",
       "      <th>Type</th>\n",
       "      <th>Term</th>\n",
       "      <th>Datacenter</th>\n",
       "      <th>payout</th>\n",
       "      <th>MRR</th>\n",
       "      <th>Service Type</th>\n",
       "    </tr>\n",
       "  </thead>\n",
       "  <tbody>\n",
       "    <tr>\n",
       "      <th>0</th>\n",
       "      <td>ADP</td>\n",
       "      <td>62450</td>\n",
       "      <td>2022-08-02 18:25:06.877</td>\n",
       "      <td>Paul Attallah</td>\n",
       "      <td>Cross Connect : CAT6E</td>\n",
       "      <td>New</td>\n",
       "      <td>12.0</td>\n",
       "      <td>SAN1</td>\n",
       "      <td>100.0</td>\n",
       "      <td>100.0</td>\n",
       "      <td>xConnect</td>\n",
       "    </tr>\n",
       "    <tr>\n",
       "      <th>1</th>\n",
       "      <td>ADP</td>\n",
       "      <td>65630</td>\n",
       "      <td>2022-08-25 14:02:22.043</td>\n",
       "      <td>Paul Attallah</td>\n",
       "      <td>Cross Connect : CAT6E</td>\n",
       "      <td>Change Order</td>\n",
       "      <td>12.0</td>\n",
       "      <td>SAN1</td>\n",
       "      <td>-100.0</td>\n",
       "      <td>-100.0</td>\n",
       "      <td>xConnect</td>\n",
       "    </tr>\n",
       "    <tr>\n",
       "      <th>2</th>\n",
       "      <td>ADP</td>\n",
       "      <td>65630</td>\n",
       "      <td>2022-08-25 14:02:22.043</td>\n",
       "      <td>Paul Attallah</td>\n",
       "      <td>Cross Connect : SMF</td>\n",
       "      <td>Change Order</td>\n",
       "      <td>12.0</td>\n",
       "      <td>SAN1</td>\n",
       "      <td>200.0</td>\n",
       "      <td>200.0</td>\n",
       "      <td>xConnect</td>\n",
       "    </tr>\n",
       "    <tr>\n",
       "      <th>3</th>\n",
       "      <td>AEG Vision</td>\n",
       "      <td>65793</td>\n",
       "      <td>2022-08-18 17:52:20.030</td>\n",
       "      <td>Mark McCants</td>\n",
       "      <td>Cross Connect : SMF</td>\n",
       "      <td>Agent - Existing</td>\n",
       "      <td>27.0</td>\n",
       "      <td>DFW3</td>\n",
       "      <td>100.0</td>\n",
       "      <td>100.0</td>\n",
       "      <td>xConnect</td>\n",
       "    </tr>\n",
       "    <tr>\n",
       "      <th>4</th>\n",
       "      <td>Afiniti Inc.</td>\n",
       "      <td>65824</td>\n",
       "      <td>2022-08-31 14:08:54.787</td>\n",
       "      <td>Phillip Berta</td>\n",
       "      <td>Cross Connect : SMF</td>\n",
       "      <td>New</td>\n",
       "      <td>13.0</td>\n",
       "      <td>IAD1</td>\n",
       "      <td>200.0</td>\n",
       "      <td>200.0</td>\n",
       "      <td>xConnect</td>\n",
       "    </tr>\n",
       "  </tbody>\n",
       "</table>\n",
       "</div>"
      ],
      "text/plain": [
       "   Organization Order #              Order Date        Salesman  \\\n",
       "0           ADP   62450 2022-08-02 18:25:06.877  Paul Attallah    \n",
       "1           ADP   65630 2022-08-25 14:02:22.043  Paul Attallah    \n",
       "2           ADP   65630 2022-08-25 14:02:22.043  Paul Attallah    \n",
       "3    AEG Vision   65793 2022-08-18 17:52:20.030    Mark McCants   \n",
       "4  Afiniti Inc.   65824 2022-08-31 14:08:54.787   Phillip Berta   \n",
       "\n",
       "           Order Summary              Type  Term Datacenter  payout    MRR  \\\n",
       "0  Cross Connect : CAT6E               New  12.0       SAN1   100.0  100.0   \n",
       "1  Cross Connect : CAT6E      Change Order  12.0       SAN1  -100.0 -100.0   \n",
       "2    Cross Connect : SMF      Change Order  12.0       SAN1   200.0  200.0   \n",
       "3    Cross Connect : SMF  Agent - Existing  27.0       DFW3   100.0  100.0   \n",
       "4    Cross Connect : SMF               New  13.0       IAD1   200.0  200.0   \n",
       "\n",
       "  Service Type  \n",
       "0     xConnect  \n",
       "1     xConnect  \n",
       "2     xConnect  \n",
       "3     xConnect  \n",
       "4     xConnect  "
      ]
     },
     "execution_count": 8,
     "metadata": {},
     "output_type": "execute_result"
    }
   ],
   "source": [
    "ep1.head()"
   ]
  },
  {
   "cell_type": "code",
   "execution_count": 9,
   "id": "396351e7-e200-4907-806a-0454f438c39f",
   "metadata": {},
   "outputs": [],
   "source": [
    "dc_services = pd.DataFrame({'Space': [.7, .8, 1.0,1.1, 1.3,1.5],\n",
    "                   'Power': [.7, .8, 1.0,1.1, 1.3,1.5],\n",
    "                   'xConnect': [.7, .8, 1.0, 1.1, 1.3,1.5]})\n",
    "dc_services.set_index(['Space','Power','xConnect']).T\n",
    "dc_services.index= ['1','2','3','4','5','7']\n",
    "dc_services = dc_services.T\n"
   ]
  },
  {
   "cell_type": "code",
   "execution_count": 10,
   "id": "771d4c0a-51cc-459c-9fd3-5b7013a28cff",
   "metadata": {},
   "outputs": [
    {
     "data": {
      "text/html": [
       "<div>\n",
       "<style scoped>\n",
       "    .dataframe tbody tr th:only-of-type {\n",
       "        vertical-align: middle;\n",
       "    }\n",
       "\n",
       "    .dataframe tbody tr th {\n",
       "        vertical-align: top;\n",
       "    }\n",
       "\n",
       "    .dataframe thead th {\n",
       "        text-align: right;\n",
       "    }\n",
       "</style>\n",
       "<table border=\"1\" class=\"dataframe\">\n",
       "  <thead>\n",
       "    <tr style=\"text-align: right;\">\n",
       "      <th></th>\n",
       "      <th>1</th>\n",
       "      <th>2</th>\n",
       "      <th>3</th>\n",
       "      <th>4</th>\n",
       "      <th>5</th>\n",
       "      <th>7</th>\n",
       "    </tr>\n",
       "  </thead>\n",
       "  <tbody>\n",
       "    <tr>\n",
       "      <th>Space</th>\n",
       "      <td>0.7</td>\n",
       "      <td>0.8</td>\n",
       "      <td>1.0</td>\n",
       "      <td>1.1</td>\n",
       "      <td>1.3</td>\n",
       "      <td>1.5</td>\n",
       "    </tr>\n",
       "    <tr>\n",
       "      <th>Power</th>\n",
       "      <td>0.7</td>\n",
       "      <td>0.8</td>\n",
       "      <td>1.0</td>\n",
       "      <td>1.1</td>\n",
       "      <td>1.3</td>\n",
       "      <td>1.5</td>\n",
       "    </tr>\n",
       "    <tr>\n",
       "      <th>xConnect</th>\n",
       "      <td>0.7</td>\n",
       "      <td>0.8</td>\n",
       "      <td>1.0</td>\n",
       "      <td>1.1</td>\n",
       "      <td>1.3</td>\n",
       "      <td>1.5</td>\n",
       "    </tr>\n",
       "  </tbody>\n",
       "</table>\n",
       "</div>"
      ],
      "text/plain": [
       "            1    2    3    4    5    7\n",
       "Space     0.7  0.8  1.0  1.1  1.3  1.5\n",
       "Power     0.7  0.8  1.0  1.1  1.3  1.5\n",
       "xConnect  0.7  0.8  1.0  1.1  1.3  1.5"
      ]
     },
     "execution_count": 10,
     "metadata": {},
     "output_type": "execute_result"
    }
   ],
   "source": [
    "dc_services"
   ]
  },
  {
   "cell_type": "code",
   "execution_count": 11,
   "id": "2010f681-5800-4d54-9a46-b17b6eed3495",
   "metadata": {},
   "outputs": [],
   "source": [
    "cloud_ms = pd.DataFrame({'Cloud': [.8, .9, 1.0, 1.3, 1.5,1.5],\n",
    "                   'Managed Services': [.8, .9, 1.0, 1.3, 1.5,1.5],\n",
    "                   'Software': [0,0,0,0,0,0]})\n",
    "cloud_ms.set_index(['Cloud','Managed Services','Software']).T\n",
    "cloud_ms.index= ['1','2','3','4','5','7']\n",
    "cloud_ms = cloud_ms.T"
   ]
  },
  {
   "cell_type": "code",
   "execution_count": 12,
   "id": "faa2fe0d-e45b-4793-9784-b5a365a3ae96",
   "metadata": {},
   "outputs": [
    {
     "data": {
      "text/html": [
       "<div>\n",
       "<style scoped>\n",
       "    .dataframe tbody tr th:only-of-type {\n",
       "        vertical-align: middle;\n",
       "    }\n",
       "\n",
       "    .dataframe tbody tr th {\n",
       "        vertical-align: top;\n",
       "    }\n",
       "\n",
       "    .dataframe thead th {\n",
       "        text-align: right;\n",
       "    }\n",
       "</style>\n",
       "<table border=\"1\" class=\"dataframe\">\n",
       "  <thead>\n",
       "    <tr style=\"text-align: right;\">\n",
       "      <th></th>\n",
       "      <th>1</th>\n",
       "      <th>2</th>\n",
       "      <th>3</th>\n",
       "      <th>4</th>\n",
       "      <th>5</th>\n",
       "      <th>7</th>\n",
       "    </tr>\n",
       "  </thead>\n",
       "  <tbody>\n",
       "    <tr>\n",
       "      <th>Cloud</th>\n",
       "      <td>0.8</td>\n",
       "      <td>0.9</td>\n",
       "      <td>1.0</td>\n",
       "      <td>1.3</td>\n",
       "      <td>1.5</td>\n",
       "      <td>1.5</td>\n",
       "    </tr>\n",
       "    <tr>\n",
       "      <th>Managed Services</th>\n",
       "      <td>0.8</td>\n",
       "      <td>0.9</td>\n",
       "      <td>1.0</td>\n",
       "      <td>1.3</td>\n",
       "      <td>1.5</td>\n",
       "      <td>1.5</td>\n",
       "    </tr>\n",
       "    <tr>\n",
       "      <th>Software</th>\n",
       "      <td>0.0</td>\n",
       "      <td>0.0</td>\n",
       "      <td>0.0</td>\n",
       "      <td>0.0</td>\n",
       "      <td>0.0</td>\n",
       "      <td>0.0</td>\n",
       "    </tr>\n",
       "  </tbody>\n",
       "</table>\n",
       "</div>"
      ],
      "text/plain": [
       "                    1    2    3    4    5    7\n",
       "Cloud             0.8  0.9  1.0  1.3  1.5  1.5\n",
       "Managed Services  0.8  0.9  1.0  1.3  1.5  1.5\n",
       "Software          0.0  0.0  0.0  0.0  0.0  0.0"
      ]
     },
     "execution_count": 12,
     "metadata": {},
     "output_type": "execute_result"
    }
   ],
   "source": [
    "cloud_ms"
   ]
  },
  {
   "cell_type": "code",
   "execution_count": 13,
   "id": "c59636a3-d9c4-4864-a8cb-32f85d1a84ef",
   "metadata": {},
   "outputs": [],
   "source": [
    "connect_services= pd.DataFrame({'Internet': [.7, .8, 1.0,1.0, 1.2,1.5],\n",
    "                   'inter-PoP MPLS': [.7, .8, 1.0,1.0, 1.2,1.5],\n",
    "                   'Resale Telco / IP': [0,0,0,0,0,0]})\n",
    "connect_services.set_index(['Internet','inter-PoP MPLS','Resale Telco / IP']).T\n",
    "connect_services.index= ['1','2','3','4','5','7']\n",
    "connect_services = connect_services.T"
   ]
  },
  {
   "cell_type": "code",
   "execution_count": 14,
   "id": "52f7eb94-7044-4c74-9fc9-edc76b00a1f4",
   "metadata": {},
   "outputs": [
    {
     "data": {
      "text/html": [
       "<div>\n",
       "<style scoped>\n",
       "    .dataframe tbody tr th:only-of-type {\n",
       "        vertical-align: middle;\n",
       "    }\n",
       "\n",
       "    .dataframe tbody tr th {\n",
       "        vertical-align: top;\n",
       "    }\n",
       "\n",
       "    .dataframe thead th {\n",
       "        text-align: right;\n",
       "    }\n",
       "</style>\n",
       "<table border=\"1\" class=\"dataframe\">\n",
       "  <thead>\n",
       "    <tr style=\"text-align: right;\">\n",
       "      <th></th>\n",
       "      <th>1</th>\n",
       "      <th>2</th>\n",
       "      <th>3</th>\n",
       "      <th>4</th>\n",
       "      <th>5</th>\n",
       "      <th>7</th>\n",
       "    </tr>\n",
       "  </thead>\n",
       "  <tbody>\n",
       "    <tr>\n",
       "      <th>Internet</th>\n",
       "      <td>0.7</td>\n",
       "      <td>0.8</td>\n",
       "      <td>1.0</td>\n",
       "      <td>1.0</td>\n",
       "      <td>1.2</td>\n",
       "      <td>1.5</td>\n",
       "    </tr>\n",
       "    <tr>\n",
       "      <th>inter-PoP MPLS</th>\n",
       "      <td>0.7</td>\n",
       "      <td>0.8</td>\n",
       "      <td>1.0</td>\n",
       "      <td>1.0</td>\n",
       "      <td>1.2</td>\n",
       "      <td>1.5</td>\n",
       "    </tr>\n",
       "    <tr>\n",
       "      <th>Resale Telco / IP</th>\n",
       "      <td>0.0</td>\n",
       "      <td>0.0</td>\n",
       "      <td>0.0</td>\n",
       "      <td>0.0</td>\n",
       "      <td>0.0</td>\n",
       "      <td>0.0</td>\n",
       "    </tr>\n",
       "  </tbody>\n",
       "</table>\n",
       "</div>"
      ],
      "text/plain": [
       "                     1    2    3    4    5    7\n",
       "Internet           0.7  0.8  1.0  1.0  1.2  1.5\n",
       "inter-PoP MPLS     0.7  0.8  1.0  1.0  1.2  1.5\n",
       "Resale Telco / IP  0.0  0.0  0.0  0.0  0.0  0.0"
      ]
     },
     "execution_count": 14,
     "metadata": {},
     "output_type": "execute_result"
    }
   ],
   "source": [
    "connect_services"
   ]
  },
  {
   "cell_type": "code",
   "execution_count": 15,
   "id": "98f777a2-861e-4070-9fa5-be04101d3927",
   "metadata": {},
   "outputs": [],
   "source": [
    "matrix = [dc_services,cloud_ms,connect_services]"
   ]
  },
  {
   "cell_type": "code",
   "execution_count": 16,
   "id": "2c4171bd-1455-4af9-88bf-ad847aef3f1b",
   "metadata": {},
   "outputs": [],
   "source": [
    "pmatrix = pd.concat(matrix)"
   ]
  },
  {
   "cell_type": "code",
   "execution_count": 17,
   "id": "b7385b0d-9bf5-480b-ace8-23dd70d5591b",
   "metadata": {},
   "outputs": [
    {
     "data": {
      "text/html": [
       "<div>\n",
       "<style scoped>\n",
       "    .dataframe tbody tr th:only-of-type {\n",
       "        vertical-align: middle;\n",
       "    }\n",
       "\n",
       "    .dataframe tbody tr th {\n",
       "        vertical-align: top;\n",
       "    }\n",
       "\n",
       "    .dataframe thead th {\n",
       "        text-align: right;\n",
       "    }\n",
       "</style>\n",
       "<table border=\"1\" class=\"dataframe\">\n",
       "  <thead>\n",
       "    <tr style=\"text-align: right;\">\n",
       "      <th></th>\n",
       "      <th>1</th>\n",
       "      <th>2</th>\n",
       "      <th>3</th>\n",
       "      <th>4</th>\n",
       "      <th>5</th>\n",
       "      <th>7</th>\n",
       "    </tr>\n",
       "  </thead>\n",
       "  <tbody>\n",
       "    <tr>\n",
       "      <th>Space</th>\n",
       "      <td>0.7</td>\n",
       "      <td>0.8</td>\n",
       "      <td>1.0</td>\n",
       "      <td>1.1</td>\n",
       "      <td>1.3</td>\n",
       "      <td>1.5</td>\n",
       "    </tr>\n",
       "    <tr>\n",
       "      <th>Power</th>\n",
       "      <td>0.7</td>\n",
       "      <td>0.8</td>\n",
       "      <td>1.0</td>\n",
       "      <td>1.1</td>\n",
       "      <td>1.3</td>\n",
       "      <td>1.5</td>\n",
       "    </tr>\n",
       "    <tr>\n",
       "      <th>xConnect</th>\n",
       "      <td>0.7</td>\n",
       "      <td>0.8</td>\n",
       "      <td>1.0</td>\n",
       "      <td>1.1</td>\n",
       "      <td>1.3</td>\n",
       "      <td>1.5</td>\n",
       "    </tr>\n",
       "    <tr>\n",
       "      <th>Cloud</th>\n",
       "      <td>0.8</td>\n",
       "      <td>0.9</td>\n",
       "      <td>1.0</td>\n",
       "      <td>1.3</td>\n",
       "      <td>1.5</td>\n",
       "      <td>1.5</td>\n",
       "    </tr>\n",
       "    <tr>\n",
       "      <th>Managed Services</th>\n",
       "      <td>0.8</td>\n",
       "      <td>0.9</td>\n",
       "      <td>1.0</td>\n",
       "      <td>1.3</td>\n",
       "      <td>1.5</td>\n",
       "      <td>1.5</td>\n",
       "    </tr>\n",
       "    <tr>\n",
       "      <th>Software</th>\n",
       "      <td>0.0</td>\n",
       "      <td>0.0</td>\n",
       "      <td>0.0</td>\n",
       "      <td>0.0</td>\n",
       "      <td>0.0</td>\n",
       "      <td>0.0</td>\n",
       "    </tr>\n",
       "    <tr>\n",
       "      <th>Internet</th>\n",
       "      <td>0.7</td>\n",
       "      <td>0.8</td>\n",
       "      <td>1.0</td>\n",
       "      <td>1.0</td>\n",
       "      <td>1.2</td>\n",
       "      <td>1.5</td>\n",
       "    </tr>\n",
       "    <tr>\n",
       "      <th>inter-PoP MPLS</th>\n",
       "      <td>0.7</td>\n",
       "      <td>0.8</td>\n",
       "      <td>1.0</td>\n",
       "      <td>1.0</td>\n",
       "      <td>1.2</td>\n",
       "      <td>1.5</td>\n",
       "    </tr>\n",
       "    <tr>\n",
       "      <th>Resale Telco / IP</th>\n",
       "      <td>0.0</td>\n",
       "      <td>0.0</td>\n",
       "      <td>0.0</td>\n",
       "      <td>0.0</td>\n",
       "      <td>0.0</td>\n",
       "      <td>0.0</td>\n",
       "    </tr>\n",
       "  </tbody>\n",
       "</table>\n",
       "</div>"
      ],
      "text/plain": [
       "                     1    2    3    4    5    7\n",
       "Space              0.7  0.8  1.0  1.1  1.3  1.5\n",
       "Power              0.7  0.8  1.0  1.1  1.3  1.5\n",
       "xConnect           0.7  0.8  1.0  1.1  1.3  1.5\n",
       "Cloud              0.8  0.9  1.0  1.3  1.5  1.5\n",
       "Managed Services   0.8  0.9  1.0  1.3  1.5  1.5\n",
       "Software           0.0  0.0  0.0  0.0  0.0  0.0\n",
       "Internet           0.7  0.8  1.0  1.0  1.2  1.5\n",
       "inter-PoP MPLS     0.7  0.8  1.0  1.0  1.2  1.5\n",
       "Resale Telco / IP  0.0  0.0  0.0  0.0  0.0  0.0"
      ]
     },
     "execution_count": 17,
     "metadata": {},
     "output_type": "execute_result"
    }
   ],
   "source": [
    "pmatrix"
   ]
  },
  {
   "cell_type": "code",
   "execution_count": 18,
   "id": "3a5ec586-26b3-4e2d-9787-cc5cfb250b23",
   "metadata": {},
   "outputs": [],
   "source": [
    "#if data in ep1[ep1['Term']] <= 12\n"
   ]
  },
  {
   "cell_type": "code",
   "execution_count": 19,
   "id": "a2677220-817b-41e3-83b8-02f91eec19bc",
   "metadata": {},
   "outputs": [
    {
     "name": "stdin",
     "output_type": "stream",
     "text": [
      "Is this a quarterly y\n"
     ]
    }
   ],
   "source": [
    "# y or n only\n",
    "qqq = input('Is this a quarterly')\n",
    "\n",
    "    \n",
    "    "
   ]
  },
  {
   "cell_type": "code",
   "execution_count": 20,
   "id": "6ae29f0a-7580-40d8-8a95-21d80cadc22c",
   "metadata": {},
   "outputs": [],
   "source": [
    "odaine_hudson= ep1[ep1['Salesman'] == 'Odaine Hudson']\n",
    "andrew_lewis = ep1[ep1['Salesman'] == 'Andrew Lewis']\n",
    "andrew_ramirez= ep1[ep1['Salesman'] == 'Andrew Ramirez']\n",
    "angela_rogalski = ep1[ep1['Salesman'] == 'Angela Rogalski']\n",
    "ashley_waller = ep1[ep1['Salesman'] == 'Ashley Waller ']\n",
    "bernard_petfield = ep1[ep1['Salesman'] == 'Bernard Petfield']\n",
    "#Bond, Clint = ep1[ep1['Salesman'] == 'Andrew Lewis']\n",
    "carlie_matel = ep1[ep1['Salesman'] == 'Carlie Matel']\n",
    "#Clary, Rob = ep1[ep1['Salesman'] == 'Andrew Lewis']\n",
    "dan_ephraim= ep1[ep1['Salesman'] == 'Andrew Lewis']\n",
    "daniel_smith= ep1[ep1['Salesman'] == 'Andrew Lewis']\n",
    "dennis_wilson = ep1[ep1['Salesman'] == 'pancake']\n",
    "jacob_zupancic= ep1[ep1['Salesman'] == 'Andrew Lewis']\n",
    "Jeffrey_Reinis= ep1[ep1['Salesman'] == 'Andrew Lewis']\n",
    "Jennifer_Bowman= ep1[ep1['Salesman'] == 'Andrew Lewis']\n",
    "Jonathan_Malcolm= ep1[ep1['Salesman'] == 'Jonathan Malcolm']\n",
    "Kathy_Geiser= ep1[ep1['Salesman'] == 'Andrew Lewis']\n",
    "#Knox, Chelsea= ep1[ep1['Salesman'] == 'Andrew Lewis']\n",
    "#Knutson, Shawn= ep1[ep1['Salesman'] == 'Andrew Lewis']\n",
    "Krystin_Tagaris= ep1[ep1['Salesman'] == 'Andrew Lewis']\n",
    "#Lachance, Laura= ep1[ep1['Salesman'] == 'Andrew Lewis']\n",
    "Mark_McCants= ep1[ep1['Salesman'] == 'Andrew Lewis']\n",
    "Matt_Horne= ep1[ep1['Salesman'] == 'Andrew Lewis']\n",
    "#Meyer, Catherine= ep1[ep1['Salesman'] == 'Andrew Lewis']\n",
    "Michael_DeBetta= ep1[ep1['Salesman'] == 'Andrew Lewis']\n",
    "Michael_Murray= ep1[ep1['Salesman'] == 'Andrew Lewis']\n",
    "Michael_Skalitzky= ep1[ep1['Salesman'] == 'Andrew Lewis']\n",
    "Morgan_Martensen= ep1[ep1['Salesman'] == 'Andrew Lewis']\n",
    "natalie_farr= ep1[ep1['Salesman'] == 'Natalie Farr']\n",
    "Phillip_Berta= ep1[ep1['Salesman'] == 'Andrew Lewis']\n",
    "RJ_Thibodeau= ep1[ep1['Salesman'] == 'Andrew Lewis']\n",
    "Rebecca_Shaffer= ep1[ep1['Salesman'] == 'Andrew Lewis']\n",
    "Robert_Doretti= ep1[ep1['Salesman'] == 'Andrew Lewis']\n",
    "Ronald_Heltemes= ep1[ep1['Salesman'] == 'Andrew Lewis']\n",
    "Samuel_Mickler= ep1[ep1['Salesman'] == 'Andrew Lewis']\n",
    "Scott_Palsgrove= ep1[ep1['Salesman'] == 'Andrew Lewis']\n",
    "Shelby_Locklear= ep1[ep1['Salesman'] == 'Andrew Lewis']\n",
    "Stephanie_Leyva= ep1[ep1['Salesman'] == 'Andrew Lewis']\n",
    "Stephen_Muoio = ep1[ep1['Salesman'] == 'Andrew Lewis']\n",
    "Tiffany_Dunson= ep1[ep1['Salesman'] == 'Andrew Lewis']\n",
    "Tim_Langan = ep1[ep1['Salesman'] == 'Andrew Lewis']\n",
    "Trey_Hardeman = ep1[ep1['Salesman'] == 'Andrew Lewis']"
   ]
  },
  {
   "cell_type": "markdown",
   "id": "b8560014-5e58-4d6f-a795-21cc66979a5b",
   "metadata": {},
   "source": [
    "### Managed services"
   ]
  },
  {
   "cell_type": "code",
   "execution_count": 7,
   "id": "4e0feaf7-f269-41fb-a8b8-157d9fcac719",
   "metadata": {},
   "outputs": [],
   "source": [
    "msdata = pd.read_excel('../excel_sheets/managed_services.xlsx')"
   ]
  },
  {
   "cell_type": "code",
   "execution_count": 8,
   "id": "0b9a1c40-decd-4e21-a0d8-06756e360f12",
   "metadata": {},
   "outputs": [
    {
     "data": {
      "text/html": [
       "<div>\n",
       "<style scoped>\n",
       "    .dataframe tbody tr th:only-of-type {\n",
       "        vertical-align: middle;\n",
       "    }\n",
       "\n",
       "    .dataframe tbody tr th {\n",
       "        vertical-align: top;\n",
       "    }\n",
       "\n",
       "    .dataframe thead th {\n",
       "        text-align: right;\n",
       "    }\n",
       "</style>\n",
       "<table border=\"1\" class=\"dataframe\">\n",
       "  <thead>\n",
       "    <tr style=\"text-align: right;\">\n",
       "      <th></th>\n",
       "      <th>Names</th>\n",
       "      <th>Gross MRR</th>\n",
       "    </tr>\n",
       "  </thead>\n",
       "  <tbody>\n",
       "    <tr>\n",
       "      <th>0</th>\n",
       "      <td>Jonathan Malcolm</td>\n",
       "      <td>0.0</td>\n",
       "    </tr>\n",
       "    <tr>\n",
       "      <th>1</th>\n",
       "      <td>Jonathan Malcolm</td>\n",
       "      <td>0.0</td>\n",
       "    </tr>\n",
       "    <tr>\n",
       "      <th>2</th>\n",
       "      <td>Jonathan Malcolm</td>\n",
       "      <td>0.0</td>\n",
       "    </tr>\n",
       "    <tr>\n",
       "      <th>3</th>\n",
       "      <td>Jonathan Malcolm</td>\n",
       "      <td>0.0</td>\n",
       "    </tr>\n",
       "    <tr>\n",
       "      <th>4</th>\n",
       "      <td>Jonathan Malcolm</td>\n",
       "      <td>0.0</td>\n",
       "    </tr>\n",
       "  </tbody>\n",
       "</table>\n",
       "</div>"
      ],
      "text/plain": [
       "              Names  Gross MRR\n",
       "0  Jonathan Malcolm        0.0\n",
       "1  Jonathan Malcolm        0.0\n",
       "2  Jonathan Malcolm        0.0\n",
       "3  Jonathan Malcolm        0.0\n",
       "4  Jonathan Malcolm        0.0"
      ]
     },
     "execution_count": 8,
     "metadata": {},
     "output_type": "execute_result"
    }
   ],
   "source": [
    "msdata.head()"
   ]
  },
  {
   "cell_type": "code",
   "execution_count": 9,
   "id": "f66f2c91-c60a-44a3-96d4-d0bb3a79c0cf",
   "metadata": {},
   "outputs": [
    {
     "data": {
      "text/html": [
       "<div>\n",
       "<style scoped>\n",
       "    .dataframe tbody tr th:only-of-type {\n",
       "        vertical-align: middle;\n",
       "    }\n",
       "\n",
       "    .dataframe tbody tr th {\n",
       "        vertical-align: top;\n",
       "    }\n",
       "\n",
       "    .dataframe thead th {\n",
       "        text-align: right;\n",
       "    }\n",
       "</style>\n",
       "<table border=\"1\" class=\"dataframe\">\n",
       "  <thead>\n",
       "    <tr style=\"text-align: right;\">\n",
       "      <th></th>\n",
       "      <th>Gross MRR</th>\n",
       "    </tr>\n",
       "    <tr>\n",
       "      <th>Names</th>\n",
       "      <th></th>\n",
       "    </tr>\n",
       "  </thead>\n",
       "  <tbody>\n",
       "    <tr>\n",
       "      <th>Andrew Ramirez</th>\n",
       "      <td>51.000000</td>\n",
       "    </tr>\n",
       "    <tr>\n",
       "      <th>Carlie Matel</th>\n",
       "      <td>25586.199000</td>\n",
       "    </tr>\n",
       "    <tr>\n",
       "      <th>Jonathan Malcolm</th>\n",
       "      <td>488.960000</td>\n",
       "    </tr>\n",
       "    <tr>\n",
       "      <th>Mark McCants</th>\n",
       "      <td>25.000000</td>\n",
       "    </tr>\n",
       "    <tr>\n",
       "      <th>Matt Horne</th>\n",
       "      <td>6693.915000</td>\n",
       "    </tr>\n",
       "    <tr>\n",
       "      <th>Mike Miceli</th>\n",
       "      <td>261.500000</td>\n",
       "    </tr>\n",
       "    <tr>\n",
       "      <th>Morgan Martensen</th>\n",
       "      <td>7313.617500</td>\n",
       "    </tr>\n",
       "    <tr>\n",
       "      <th>Natalie Farr</th>\n",
       "      <td>2799.380000</td>\n",
       "    </tr>\n",
       "    <tr>\n",
       "      <th>Odaine Hudson</th>\n",
       "      <td>250.000000</td>\n",
       "    </tr>\n",
       "    <tr>\n",
       "      <th>Phillip Berta</th>\n",
       "      <td>589.220800</td>\n",
       "    </tr>\n",
       "    <tr>\n",
       "      <th>Rebecca Shaffer</th>\n",
       "      <td>75.000000</td>\n",
       "    </tr>\n",
       "    <tr>\n",
       "      <th>Ronald Heltemes</th>\n",
       "      <td>43.480000</td>\n",
       "    </tr>\n",
       "    <tr>\n",
       "      <th>Shelby Locklear</th>\n",
       "      <td>161.530000</td>\n",
       "    </tr>\n",
       "    <tr>\n",
       "      <th>Stephen Muoio</th>\n",
       "      <td>211.305700</td>\n",
       "    </tr>\n",
       "    <tr>\n",
       "      <th>Trey Hardeman</th>\n",
       "      <td>2368.168264</td>\n",
       "    </tr>\n",
       "    <tr>\n",
       "      <th>ZGS</th>\n",
       "      <td>2091.060000</td>\n",
       "    </tr>\n",
       "  </tbody>\n",
       "</table>\n",
       "</div>"
      ],
      "text/plain": [
       "                     Gross MRR\n",
       "Names                         \n",
       "Andrew Ramirez       51.000000\n",
       "Carlie Matel      25586.199000\n",
       "Jonathan Malcolm    488.960000\n",
       "Mark McCants         25.000000\n",
       "Matt Horne         6693.915000\n",
       "Mike Miceli         261.500000\n",
       "Morgan Martensen   7313.617500\n",
       "Natalie Farr       2799.380000\n",
       "Odaine Hudson       250.000000\n",
       "Phillip Berta       589.220800\n",
       "Rebecca Shaffer      75.000000\n",
       "Ronald Heltemes      43.480000\n",
       "Shelby Locklear     161.530000\n",
       "Stephen Muoio       211.305700\n",
       "Trey Hardeman      2368.168264\n",
       "ZGS                2091.060000"
      ]
     },
     "execution_count": 9,
     "metadata": {},
     "output_type": "execute_result"
    }
   ],
   "source": [
    "msdata.groupby(['Names']).sum()"
   ]
  },
  {
   "cell_type": "code",
   "execution_count": 25,
   "id": "ecf30f29-77a3-45a9-b342-a378ac823b1a",
   "metadata": {},
   "outputs": [],
   "source": [
    "## Hjerpe "
   ]
  },
  {
   "cell_type": "code",
   "execution_count": null,
   "id": "0d752ded-f1a0-428c-90e0-571968d54c30",
   "metadata": {},
   "outputs": [],
   "source": []
  },
  {
   "cell_type": "code",
   "execution_count": null,
   "id": "f11f47c8-eb84-46e0-a2b8-03cfdcfdd4e4",
   "metadata": {},
   "outputs": [],
   "source": []
  },
  {
   "cell_type": "markdown",
   "id": "8fea979d-9c6b-4baf-8218-2a0c4053844c",
   "metadata": {
    "tags": []
   },
   "source": [
    "### AMW"
   ]
  },
  {
   "cell_type": "markdown",
   "id": "0d13edc9-70ad-4c14-b03e-8698f722eb22",
   "metadata": {
    "tags": []
   },
   "source": [
    "#### Oladine Hudson"
   ]
  },
  {
   "cell_type": "code",
   "execution_count": 43,
   "id": "0f3074e1-4303-4e31-81ac-2091cfb3fe7d",
   "metadata": {
    "tags": []
   },
   "outputs": [],
   "source": [
    "odaine_hudson = ep1[ep1['Salesman'] == 'Odaine Hudson']"
   ]
  },
  {
   "cell_type": "code",
   "execution_count": 44,
   "id": "f6945092-174e-4fb1-a663-1008dd744f90",
   "metadata": {},
   "outputs": [],
   "source": [
    "hudsonMS = msdata[msdata['Names'] == 'Odaine Hudson']\n",
    "qqq = 'y'\n",
    "if qqq == \"y\":\n",
    "    hudsonMSS = hudsonMS.drop(columns=['Names'])\n",
    "    hudsonMSSS = hudsonMSS.sum()\n",
    "    hudsonMSSS\n",
    "    hudson_quarterly = (hudsonMSSS/5000)*3000\n",
    "    odaine_hudson.loc[1110] = ['Hudson Managed Services Payout:', hudson_quarterly, '','','','','','','',0,'']\n",
    "    \n",
    "else:\n",
    "    pass\n",
    "    \n"
   ]
  },
  {
   "cell_type": "code",
   "execution_count": 45,
   "id": "a992c943-9153-47ef-9505-007e2d99490b",
   "metadata": {},
   "outputs": [],
   "source": [
    "odaine_hudson.loc[odaine_hudson['Datacenter'].isin(['ATL2','ACT1','AUS1','CLE1','DEN1','DEN4','DFW1','DFW2','DFW6','DFW7','EWR2','IAD2','KC2','MEM1','MSP1','LHR1','ORD2','ORD3','PHX1','SEA2','SLC1','SLC2']), 'payout'] *= .75\n",
    "odaine_hudson.loc[odaine_hudson['Datacenter'].isin(['ATL1', 'ATL3', 'BOS1', 'BWI1', 'DEN2', 'DEN3', 'DFW3','DFW4', 'DFW5','EWR1','IAD1','IND1','IND2','LAS1','LAX1','LGA1','LGA2','MCI1','MCI2','MCI3','MIA1','MSP2','MSP3','MSP4','ORD1','ORD4','PHL1','PHX2','PHX3','PIT1','PIT2','SAN1','SAN2','SEA1','SFO1','SLC3','SLC4','SLC5','SNA1','SNA2','PAR1','PAR2','PAR3','MPL1','TLS1']), 'payout'] *= .5"
   ]
  },
  {
   "cell_type": "code",
   "execution_count": 46,
   "id": "0bbe64ff-3f62-4593-9576-a04f92971ff1",
   "metadata": {},
   "outputs": [
    {
     "data": {
      "text/html": [
       "<div>\n",
       "<style scoped>\n",
       "    .dataframe tbody tr th:only-of-type {\n",
       "        vertical-align: middle;\n",
       "    }\n",
       "\n",
       "    .dataframe tbody tr th {\n",
       "        vertical-align: top;\n",
       "    }\n",
       "\n",
       "    .dataframe thead th {\n",
       "        text-align: right;\n",
       "    }\n",
       "</style>\n",
       "<table border=\"1\" class=\"dataframe\">\n",
       "  <thead>\n",
       "    <tr style=\"text-align: right;\">\n",
       "      <th></th>\n",
       "      <th>Organization</th>\n",
       "      <th>Order #</th>\n",
       "      <th>Order Date</th>\n",
       "      <th>Salesman</th>\n",
       "      <th>Order Summary</th>\n",
       "      <th>Type</th>\n",
       "      <th>Term</th>\n",
       "      <th>Datacenter</th>\n",
       "      <th>payout</th>\n",
       "      <th>MRR</th>\n",
       "      <th>Service Type</th>\n",
       "    </tr>\n",
       "  </thead>\n",
       "  <tbody>\n",
       "    <tr>\n",
       "      <th>630</th>\n",
       "      <td>Cobius Healthcare Solutions</td>\n",
       "      <td>66502</td>\n",
       "      <td>2022-08-31 12:00:10.417000</td>\n",
       "      <td>Odaine Hudson</td>\n",
       "      <td>Cross Connect : CAT6E</td>\n",
       "      <td>New</td>\n",
       "      <td>19.0</td>\n",
       "      <td>ORD4</td>\n",
       "      <td>82.5</td>\n",
       "      <td>165.0</td>\n",
       "      <td>xConnect</td>\n",
       "    </tr>\n",
       "    <tr>\n",
       "      <th>631</th>\n",
       "      <td>Cobius Healthcare Solutions</td>\n",
       "      <td>66502</td>\n",
       "      <td>2022-08-31 12:00:10.417000</td>\n",
       "      <td>Odaine Hudson</td>\n",
       "      <td>Cross Connect : CAT6E</td>\n",
       "      <td>New</td>\n",
       "      <td>19.0</td>\n",
       "      <td>ORD4</td>\n",
       "      <td>82.5</td>\n",
       "      <td>165.0</td>\n",
       "      <td>xConnect</td>\n",
       "    </tr>\n",
       "    <tr>\n",
       "      <th>1846</th>\n",
       "      <td>Kaiser Permanente - zColo</td>\n",
       "      <td>65733</td>\n",
       "      <td>2022-08-18 13:36:50.387000</td>\n",
       "      <td>Odaine Hudson</td>\n",
       "      <td>Cross Connect : SMF</td>\n",
       "      <td>Change Order</td>\n",
       "      <td>12.0</td>\n",
       "      <td>ATL2</td>\n",
       "      <td>150.0</td>\n",
       "      <td>200.0</td>\n",
       "      <td>xConnect</td>\n",
       "    </tr>\n",
       "    <tr>\n",
       "      <th>2530</th>\n",
       "      <td>Protera Technologies</td>\n",
       "      <td>65328</td>\n",
       "      <td>2022-08-25 08:53:32.070000</td>\n",
       "      <td>Odaine Hudson</td>\n",
       "      <td>Cross Connect : SMF</td>\n",
       "      <td>New</td>\n",
       "      <td>12.0</td>\n",
       "      <td>ORD4</td>\n",
       "      <td>37.5</td>\n",
       "      <td>75.0</td>\n",
       "      <td>xConnect</td>\n",
       "    </tr>\n",
       "    <tr>\n",
       "      <th>2531</th>\n",
       "      <td>Protera Technologies</td>\n",
       "      <td>65328</td>\n",
       "      <td>2022-08-25 08:53:32.070000</td>\n",
       "      <td>Odaine Hudson</td>\n",
       "      <td>Cross Connect : SMF</td>\n",
       "      <td>New</td>\n",
       "      <td>12.0</td>\n",
       "      <td>ORD4</td>\n",
       "      <td>37.5</td>\n",
       "      <td>75.0</td>\n",
       "      <td>xConnect</td>\n",
       "    </tr>\n",
       "    <tr>\n",
       "      <th>1110</th>\n",
       "      <td>Hudson Managed Services Payout:</td>\n",
       "      <td>Gross MRR    150.0\n",
       "dtype: float64</td>\n",
       "      <td></td>\n",
       "      <td></td>\n",
       "      <td></td>\n",
       "      <td></td>\n",
       "      <td></td>\n",
       "      <td></td>\n",
       "      <td></td>\n",
       "      <td>0.0</td>\n",
       "      <td></td>\n",
       "    </tr>\n",
       "  </tbody>\n",
       "</table>\n",
       "</div>"
      ],
      "text/plain": [
       "                         Organization                            Order #  \\\n",
       "630       Cobius Healthcare Solutions                              66502   \n",
       "631       Cobius Healthcare Solutions                              66502   \n",
       "1846        Kaiser Permanente - zColo                              65733   \n",
       "2530             Protera Technologies                              65328   \n",
       "2531             Protera Technologies                              65328   \n",
       "1110  Hudson Managed Services Payout:  Gross MRR    150.0\n",
       "dtype: float64   \n",
       "\n",
       "                      Order Date       Salesman          Order Summary  \\\n",
       "630   2022-08-31 12:00:10.417000  Odaine Hudson  Cross Connect : CAT6E   \n",
       "631   2022-08-31 12:00:10.417000  Odaine Hudson  Cross Connect : CAT6E   \n",
       "1846  2022-08-18 13:36:50.387000  Odaine Hudson    Cross Connect : SMF   \n",
       "2530  2022-08-25 08:53:32.070000  Odaine Hudson    Cross Connect : SMF   \n",
       "2531  2022-08-25 08:53:32.070000  Odaine Hudson    Cross Connect : SMF   \n",
       "1110                                                                     \n",
       "\n",
       "              Type  Term Datacenter payout    MRR Service Type  \n",
       "630            New  19.0       ORD4   82.5  165.0     xConnect  \n",
       "631            New  19.0       ORD4   82.5  165.0     xConnect  \n",
       "1846  Change Order  12.0       ATL2  150.0  200.0     xConnect  \n",
       "2530           New  12.0       ORD4   37.5   75.0     xConnect  \n",
       "2531           New  12.0       ORD4   37.5   75.0     xConnect  \n",
       "1110                                          0.0               "
      ]
     },
     "execution_count": 46,
     "metadata": {},
     "output_type": "execute_result"
    }
   ],
   "source": [
    "odaine_hudson"
   ]
  },
  {
   "cell_type": "code",
   "execution_count": 47,
   "id": "b8529d1b-1eda-4bc9-9f57-871bfe23ddae",
   "metadata": {},
   "outputs": [],
   "source": [
    "#odaine_hudson.loc[odaine_hudson['Type'].isin(['New']), 'payout'] *= 1.75\n",
    "# if he gets new logo... Ask monte"
   ]
  },
  {
   "cell_type": "code",
   "execution_count": 48,
   "id": "7bf7fe26-4dc9-4727-a9e0-91c15ac870e2",
   "metadata": {},
   "outputs": [
    {
     "ename": "TypeError",
     "evalue": "unsupported operand type(s) for +: 'float' and 'str'",
     "output_type": "error",
     "traceback": [
      "\u001b[1;31m---------------------------------------------------------------------------\u001b[0m",
      "\u001b[1;31mTypeError\u001b[0m                                 Traceback (most recent call last)",
      "\u001b[1;32m~\\AppData\\Local\\Temp/ipykernel_4436/2629037025.py\u001b[0m in \u001b[0;36m<module>\u001b[1;34m\u001b[0m\n\u001b[1;32m----> 1\u001b[1;33m \u001b[0mhudsonn\u001b[0m \u001b[1;33m=\u001b[0m \u001b[1;33m(\u001b[0m\u001b[0modaine_hudson\u001b[0m\u001b[1;33m[\u001b[0m\u001b[1;34m'payout'\u001b[0m\u001b[1;33m]\u001b[0m\u001b[1;33m.\u001b[0m\u001b[0msum\u001b[0m\u001b[1;33m(\u001b[0m\u001b[1;33m)\u001b[0m\u001b[1;33m)\u001b[0m\u001b[1;33m\u001b[0m\u001b[1;33m\u001b[0m\u001b[0m\n\u001b[0m\u001b[0;32m      2\u001b[0m \u001b[1;32mif\u001b[0m \u001b[0mqqq\u001b[0m \u001b[1;33m==\u001b[0m \u001b[1;34m\"y\"\u001b[0m\u001b[1;33m:\u001b[0m\u001b[1;33m\u001b[0m\u001b[1;33m\u001b[0m\u001b[0m\n\u001b[0;32m      3\u001b[0m     \u001b[0mhudson\u001b[0m \u001b[1;33m=\u001b[0m \u001b[0mhudsonn\u001b[0m \u001b[1;33m+\u001b[0m \u001b[0mhudson_quarterly\u001b[0m\u001b[1;33m\u001b[0m\u001b[1;33m\u001b[0m\u001b[0m\n\u001b[0;32m      4\u001b[0m \u001b[1;32melse\u001b[0m\u001b[1;33m:\u001b[0m\u001b[1;33m\u001b[0m\u001b[1;33m\u001b[0m\u001b[0m\n\u001b[0;32m      5\u001b[0m     \u001b[1;32mpass\u001b[0m\u001b[1;33m\u001b[0m\u001b[1;33m\u001b[0m\u001b[0m\n",
      "\u001b[1;32m~\\Anaconda3\\lib\\site-packages\\pandas\\core\\generic.py\u001b[0m in \u001b[0;36msum\u001b[1;34m(self, axis, skipna, level, numeric_only, min_count, **kwargs)\u001b[0m\n\u001b[0;32m  10706\u001b[0m             \u001b[1;33m**\u001b[0m\u001b[0mkwargs\u001b[0m\u001b[1;33m,\u001b[0m\u001b[1;33m\u001b[0m\u001b[1;33m\u001b[0m\u001b[0m\n\u001b[0;32m  10707\u001b[0m         ):\n\u001b[1;32m> 10708\u001b[1;33m             return NDFrame.sum(\n\u001b[0m\u001b[0;32m  10709\u001b[0m                 \u001b[0mself\u001b[0m\u001b[1;33m,\u001b[0m \u001b[0maxis\u001b[0m\u001b[1;33m,\u001b[0m \u001b[0mskipna\u001b[0m\u001b[1;33m,\u001b[0m \u001b[0mlevel\u001b[0m\u001b[1;33m,\u001b[0m \u001b[0mnumeric_only\u001b[0m\u001b[1;33m,\u001b[0m \u001b[0mmin_count\u001b[0m\u001b[1;33m,\u001b[0m \u001b[1;33m**\u001b[0m\u001b[0mkwargs\u001b[0m\u001b[1;33m\u001b[0m\u001b[1;33m\u001b[0m\u001b[0m\n\u001b[0;32m  10710\u001b[0m             )\n",
      "\u001b[1;32m~\\Anaconda3\\lib\\site-packages\\pandas\\core\\generic.py\u001b[0m in \u001b[0;36msum\u001b[1;34m(self, axis, skipna, level, numeric_only, min_count, **kwargs)\u001b[0m\n\u001b[0;32m  10444\u001b[0m         \u001b[1;33m**\u001b[0m\u001b[0mkwargs\u001b[0m\u001b[1;33m,\u001b[0m\u001b[1;33m\u001b[0m\u001b[1;33m\u001b[0m\u001b[0m\n\u001b[0;32m  10445\u001b[0m     ):\n\u001b[1;32m> 10446\u001b[1;33m         return self._min_count_stat_function(\n\u001b[0m\u001b[0;32m  10447\u001b[0m             \u001b[1;34m\"sum\"\u001b[0m\u001b[1;33m,\u001b[0m \u001b[0mnanops\u001b[0m\u001b[1;33m.\u001b[0m\u001b[0mnansum\u001b[0m\u001b[1;33m,\u001b[0m \u001b[0maxis\u001b[0m\u001b[1;33m,\u001b[0m \u001b[0mskipna\u001b[0m\u001b[1;33m,\u001b[0m \u001b[0mlevel\u001b[0m\u001b[1;33m,\u001b[0m \u001b[0mnumeric_only\u001b[0m\u001b[1;33m,\u001b[0m \u001b[0mmin_count\u001b[0m\u001b[1;33m,\u001b[0m \u001b[1;33m**\u001b[0m\u001b[0mkwargs\u001b[0m\u001b[1;33m\u001b[0m\u001b[1;33m\u001b[0m\u001b[0m\n\u001b[0;32m  10448\u001b[0m         )\n",
      "\u001b[1;32m~\\Anaconda3\\lib\\site-packages\\pandas\\core\\generic.py\u001b[0m in \u001b[0;36m_min_count_stat_function\u001b[1;34m(self, name, func, axis, skipna, level, numeric_only, min_count, **kwargs)\u001b[0m\n\u001b[0;32m  10426\u001b[0m                 \u001b[0mnumeric_only\u001b[0m\u001b[1;33m=\u001b[0m\u001b[0mnumeric_only\u001b[0m\u001b[1;33m,\u001b[0m\u001b[1;33m\u001b[0m\u001b[1;33m\u001b[0m\u001b[0m\n\u001b[0;32m  10427\u001b[0m             )\n\u001b[1;32m> 10428\u001b[1;33m         return self._reduce(\n\u001b[0m\u001b[0;32m  10429\u001b[0m             \u001b[0mfunc\u001b[0m\u001b[1;33m,\u001b[0m\u001b[1;33m\u001b[0m\u001b[1;33m\u001b[0m\u001b[0m\n\u001b[0;32m  10430\u001b[0m             \u001b[0mname\u001b[0m\u001b[1;33m=\u001b[0m\u001b[0mname\u001b[0m\u001b[1;33m,\u001b[0m\u001b[1;33m\u001b[0m\u001b[1;33m\u001b[0m\u001b[0m\n",
      "\u001b[1;32m~\\Anaconda3\\lib\\site-packages\\pandas\\core\\series.py\u001b[0m in \u001b[0;36m_reduce\u001b[1;34m(self, op, name, axis, skipna, numeric_only, filter_type, **kwds)\u001b[0m\n\u001b[0;32m   4390\u001b[0m                 )\n\u001b[0;32m   4391\u001b[0m             \u001b[1;32mwith\u001b[0m \u001b[0mnp\u001b[0m\u001b[1;33m.\u001b[0m\u001b[0merrstate\u001b[0m\u001b[1;33m(\u001b[0m\u001b[0mall\u001b[0m\u001b[1;33m=\u001b[0m\u001b[1;34m\"ignore\"\u001b[0m\u001b[1;33m)\u001b[0m\u001b[1;33m:\u001b[0m\u001b[1;33m\u001b[0m\u001b[1;33m\u001b[0m\u001b[0m\n\u001b[1;32m-> 4392\u001b[1;33m                 \u001b[1;32mreturn\u001b[0m \u001b[0mop\u001b[0m\u001b[1;33m(\u001b[0m\u001b[0mdelegate\u001b[0m\u001b[1;33m,\u001b[0m \u001b[0mskipna\u001b[0m\u001b[1;33m=\u001b[0m\u001b[0mskipna\u001b[0m\u001b[1;33m,\u001b[0m \u001b[1;33m**\u001b[0m\u001b[0mkwds\u001b[0m\u001b[1;33m)\u001b[0m\u001b[1;33m\u001b[0m\u001b[1;33m\u001b[0m\u001b[0m\n\u001b[0m\u001b[0;32m   4393\u001b[0m \u001b[1;33m\u001b[0m\u001b[0m\n\u001b[0;32m   4394\u001b[0m     def _reindex_indexer(\n",
      "\u001b[1;32m~\\Anaconda3\\lib\\site-packages\\pandas\\core\\nanops.py\u001b[0m in \u001b[0;36m_f\u001b[1;34m(*args, **kwargs)\u001b[0m\n\u001b[0;32m     91\u001b[0m             \u001b[1;32mtry\u001b[0m\u001b[1;33m:\u001b[0m\u001b[1;33m\u001b[0m\u001b[1;33m\u001b[0m\u001b[0m\n\u001b[0;32m     92\u001b[0m                 \u001b[1;32mwith\u001b[0m \u001b[0mnp\u001b[0m\u001b[1;33m.\u001b[0m\u001b[0merrstate\u001b[0m\u001b[1;33m(\u001b[0m\u001b[0minvalid\u001b[0m\u001b[1;33m=\u001b[0m\u001b[1;34m\"ignore\"\u001b[0m\u001b[1;33m)\u001b[0m\u001b[1;33m:\u001b[0m\u001b[1;33m\u001b[0m\u001b[1;33m\u001b[0m\u001b[0m\n\u001b[1;32m---> 93\u001b[1;33m                     \u001b[1;32mreturn\u001b[0m \u001b[0mf\u001b[0m\u001b[1;33m(\u001b[0m\u001b[1;33m*\u001b[0m\u001b[0margs\u001b[0m\u001b[1;33m,\u001b[0m \u001b[1;33m**\u001b[0m\u001b[0mkwargs\u001b[0m\u001b[1;33m)\u001b[0m\u001b[1;33m\u001b[0m\u001b[1;33m\u001b[0m\u001b[0m\n\u001b[0m\u001b[0;32m     94\u001b[0m             \u001b[1;32mexcept\u001b[0m \u001b[0mValueError\u001b[0m \u001b[1;32mas\u001b[0m \u001b[0me\u001b[0m\u001b[1;33m:\u001b[0m\u001b[1;33m\u001b[0m\u001b[1;33m\u001b[0m\u001b[0m\n\u001b[0;32m     95\u001b[0m                 \u001b[1;31m# we want to transform an object array\u001b[0m\u001b[1;33m\u001b[0m\u001b[1;33m\u001b[0m\u001b[0m\n",
      "\u001b[1;32m~\\Anaconda3\\lib\\site-packages\\pandas\\core\\nanops.py\u001b[0m in \u001b[0;36mnew_func\u001b[1;34m(values, axis, skipna, mask, **kwargs)\u001b[0m\n\u001b[0;32m    408\u001b[0m             \u001b[0mmask\u001b[0m \u001b[1;33m=\u001b[0m \u001b[0misna\u001b[0m\u001b[1;33m(\u001b[0m\u001b[0mvalues\u001b[0m\u001b[1;33m)\u001b[0m\u001b[1;33m\u001b[0m\u001b[1;33m\u001b[0m\u001b[0m\n\u001b[0;32m    409\u001b[0m \u001b[1;33m\u001b[0m\u001b[0m\n\u001b[1;32m--> 410\u001b[1;33m         \u001b[0mresult\u001b[0m \u001b[1;33m=\u001b[0m \u001b[0mfunc\u001b[0m\u001b[1;33m(\u001b[0m\u001b[0mvalues\u001b[0m\u001b[1;33m,\u001b[0m \u001b[0maxis\u001b[0m\u001b[1;33m=\u001b[0m\u001b[0maxis\u001b[0m\u001b[1;33m,\u001b[0m \u001b[0mskipna\u001b[0m\u001b[1;33m=\u001b[0m\u001b[0mskipna\u001b[0m\u001b[1;33m,\u001b[0m \u001b[0mmask\u001b[0m\u001b[1;33m=\u001b[0m\u001b[0mmask\u001b[0m\u001b[1;33m,\u001b[0m \u001b[1;33m**\u001b[0m\u001b[0mkwargs\u001b[0m\u001b[1;33m)\u001b[0m\u001b[1;33m\u001b[0m\u001b[1;33m\u001b[0m\u001b[0m\n\u001b[0m\u001b[0;32m    411\u001b[0m \u001b[1;33m\u001b[0m\u001b[0m\n\u001b[0;32m    412\u001b[0m         \u001b[1;32mif\u001b[0m \u001b[0mdatetimelike\u001b[0m\u001b[1;33m:\u001b[0m\u001b[1;33m\u001b[0m\u001b[1;33m\u001b[0m\u001b[0m\n",
      "\u001b[1;32m~\\Anaconda3\\lib\\site-packages\\pandas\\core\\nanops.py\u001b[0m in \u001b[0;36mnansum\u001b[1;34m(values, axis, skipna, min_count, mask)\u001b[0m\n\u001b[0;32m    588\u001b[0m         \u001b[0mdtype_sum\u001b[0m \u001b[1;33m=\u001b[0m \u001b[0mnp\u001b[0m\u001b[1;33m.\u001b[0m\u001b[0mfloat64\u001b[0m  \u001b[1;31m# type: ignore[assignment]\u001b[0m\u001b[1;33m\u001b[0m\u001b[1;33m\u001b[0m\u001b[0m\n\u001b[0;32m    589\u001b[0m \u001b[1;33m\u001b[0m\u001b[0m\n\u001b[1;32m--> 590\u001b[1;33m     \u001b[0mthe_sum\u001b[0m \u001b[1;33m=\u001b[0m \u001b[0mvalues\u001b[0m\u001b[1;33m.\u001b[0m\u001b[0msum\u001b[0m\u001b[1;33m(\u001b[0m\u001b[0maxis\u001b[0m\u001b[1;33m,\u001b[0m \u001b[0mdtype\u001b[0m\u001b[1;33m=\u001b[0m\u001b[0mdtype_sum\u001b[0m\u001b[1;33m)\u001b[0m\u001b[1;33m\u001b[0m\u001b[1;33m\u001b[0m\u001b[0m\n\u001b[0m\u001b[0;32m    591\u001b[0m     \u001b[0mthe_sum\u001b[0m \u001b[1;33m=\u001b[0m \u001b[0m_maybe_null_out\u001b[0m\u001b[1;33m(\u001b[0m\u001b[0mthe_sum\u001b[0m\u001b[1;33m,\u001b[0m \u001b[0maxis\u001b[0m\u001b[1;33m,\u001b[0m \u001b[0mmask\u001b[0m\u001b[1;33m,\u001b[0m \u001b[0mvalues\u001b[0m\u001b[1;33m.\u001b[0m\u001b[0mshape\u001b[0m\u001b[1;33m,\u001b[0m \u001b[0mmin_count\u001b[0m\u001b[1;33m=\u001b[0m\u001b[0mmin_count\u001b[0m\u001b[1;33m)\u001b[0m\u001b[1;33m\u001b[0m\u001b[1;33m\u001b[0m\u001b[0m\n\u001b[0;32m    592\u001b[0m \u001b[1;33m\u001b[0m\u001b[0m\n",
      "\u001b[1;32m~\\Anaconda3\\lib\\site-packages\\numpy\\core\\_methods.py\u001b[0m in \u001b[0;36m_sum\u001b[1;34m(a, axis, dtype, out, keepdims, initial, where)\u001b[0m\n\u001b[0;32m     45\u001b[0m def _sum(a, axis=None, dtype=None, out=None, keepdims=False,\n\u001b[0;32m     46\u001b[0m          initial=_NoValue, where=True):\n\u001b[1;32m---> 47\u001b[1;33m     \u001b[1;32mreturn\u001b[0m \u001b[0mumr_sum\u001b[0m\u001b[1;33m(\u001b[0m\u001b[0ma\u001b[0m\u001b[1;33m,\u001b[0m \u001b[0maxis\u001b[0m\u001b[1;33m,\u001b[0m \u001b[0mdtype\u001b[0m\u001b[1;33m,\u001b[0m \u001b[0mout\u001b[0m\u001b[1;33m,\u001b[0m \u001b[0mkeepdims\u001b[0m\u001b[1;33m,\u001b[0m \u001b[0minitial\u001b[0m\u001b[1;33m,\u001b[0m \u001b[0mwhere\u001b[0m\u001b[1;33m)\u001b[0m\u001b[1;33m\u001b[0m\u001b[1;33m\u001b[0m\u001b[0m\n\u001b[0m\u001b[0;32m     48\u001b[0m \u001b[1;33m\u001b[0m\u001b[0m\n\u001b[0;32m     49\u001b[0m def _prod(a, axis=None, dtype=None, out=None, keepdims=False,\n",
      "\u001b[1;31mTypeError\u001b[0m: unsupported operand type(s) for +: 'float' and 'str'"
     ]
    }
   ],
   "source": [
    "hudsonn = (odaine_hudson['payout'].sum())\n",
    "if qqq == \"y\":\n",
    "    hudson = hudsonn + hudson_quarterly\n",
    "else:\n",
    "    pass"
   ]
  },
  {
   "cell_type": "code",
   "execution_count": 49,
   "id": "9b43cf48-5f6c-4b26-84aa-579a8aad0c22",
   "metadata": {},
   "outputs": [],
   "source": [
    "odaine_hudson.loc[1111] = ['Comissions Payout:', hudson, '','','','','','','',0,'']\n"
   ]
  },
  {
   "cell_type": "code",
   "execution_count": null,
   "id": "88efc0ad-ee3c-4816-8401-92b00c5376c9",
   "metadata": {},
   "outputs": [],
   "source": []
  },
  {
   "cell_type": "code",
   "execution_count": 50,
   "id": "e3d30cdc-8656-467b-8df9-35dc08f8ddd6",
   "metadata": {},
   "outputs": [],
   "source": [
    "odaine_hudson.to_excel('../Output/Hudson.xlsx')"
   ]
  },
  {
   "cell_type": "markdown",
   "id": "65ee630e-1848-4ed2-ba6e-c37e788ba416",
   "metadata": {},
   "source": [
    "##### End Olidane Hudson"
   ]
  },
  {
   "cell_type": "markdown",
   "id": "20c3d2c8-0815-48dc-9141-1df9cbd0e7ec",
   "metadata": {
    "tags": []
   },
   "source": [
    "#### Andrew Ramirez"
   ]
  },
  {
   "cell_type": "code",
   "execution_count": 491,
   "id": "dd89d78c-6938-4f75-97ec-42775afaf036",
   "metadata": {},
   "outputs": [],
   "source": [
    "andrew_ramirez = ep1[ep1['Salesman'] == 'Andrew Ramirez']"
   ]
  },
  {
   "cell_type": "code",
   "execution_count": 492,
   "id": "dca08d18-5101-4e6f-9580-80baac6d92ed",
   "metadata": {},
   "outputs": [
    {
     "data": {
      "text/plain": [
       "13109.350000000002"
      ]
     },
     "execution_count": 492,
     "metadata": {},
     "output_type": "execute_result"
    }
   ],
   "source": [
    "(andrew_ramirez['payout'].sum())"
   ]
  },
  {
   "cell_type": "code",
   "execution_count": 493,
   "id": "9f9ca737-7748-4951-8db6-0f608506e284",
   "metadata": {},
   "outputs": [],
   "source": [
    "andrew_ramirez.loc[andrew_ramirez['Datacenter'].isin(['ATL2','ACT1','AUS1','CLE1','DEN1','DEN4','DFW1','DFW2','DFW6','DFW7','EWR2','IAD2','KC2','MEM1','MSP1','LHR1','ORD2','ORD3','PHX1','SEA2','SLC1','SLC2']), 'payout'] *= .75\n",
    "andrew_ramirez.loc[andrew_ramirez['Datacenter'].isin(['ATL1', 'ATL3', 'BOS1', 'BWI1', 'DEN2', 'DEN3', 'DFW3','DFW4', 'DFW5','EWR1','IAD1','IND1','IND2','LAS1','LAX1','LGA1','LGA2','MCI1','MCI2','MCI3','MIA1','MSP2','MSP3','MSP4','ORD1','ORD4','PHL1','PHX2','PHX3','PIT1','PIT2','SAN1','SAN2','SEA1','SFO1','SLC3','SLC4','SLC5','SNA1','SNA2','PAR1','PAR2','PAR3','MPL1','TLS1']), 'payout'] *= .5"
   ]
  },
  {
   "cell_type": "code",
   "execution_count": 494,
   "id": "7ebea6b5-c636-4d22-8c78-98eb511e21b9",
   "metadata": {},
   "outputs": [],
   "source": [
    "#andrew_ramirez.loc[odaine_hudson['Type'].isin(['New']), 'payout'] *= 1.75"
   ]
  },
  {
   "cell_type": "code",
   "execution_count": 495,
   "id": "744a2d22-6f77-462c-874e-bd667cbf4aea",
   "metadata": {},
   "outputs": [
    {
     "data": {
      "text/html": [
       "<div>\n",
       "<style scoped>\n",
       "    .dataframe tbody tr th:only-of-type {\n",
       "        vertical-align: middle;\n",
       "    }\n",
       "\n",
       "    .dataframe tbody tr th {\n",
       "        vertical-align: top;\n",
       "    }\n",
       "\n",
       "    .dataframe thead th {\n",
       "        text-align: right;\n",
       "    }\n",
       "</style>\n",
       "<table border=\"1\" class=\"dataframe\">\n",
       "  <thead>\n",
       "    <tr style=\"text-align: right;\">\n",
       "      <th></th>\n",
       "      <th>Organization</th>\n",
       "      <th>Order #</th>\n",
       "      <th>Order Date</th>\n",
       "      <th>Salesman</th>\n",
       "      <th>Order Summary</th>\n",
       "      <th>Type</th>\n",
       "      <th>Term</th>\n",
       "      <th>Datacenter</th>\n",
       "      <th>payout</th>\n",
       "      <th>MRR</th>\n",
       "      <th>Service Type</th>\n",
       "    </tr>\n",
       "  </thead>\n",
       "  <tbody>\n",
       "    <tr>\n",
       "      <th>333</th>\n",
       "      <td>Axcient</td>\n",
       "      <td>62026</td>\n",
       "      <td>2022-08-09 15:39:25.980</td>\n",
       "      <td>Andrew Ramirez</td>\n",
       "      <td>Cross Connect : SMF</td>\n",
       "      <td>Change Order</td>\n",
       "      <td>21.0</td>\n",
       "      <td>ATL2</td>\n",
       "      <td>112.5</td>\n",
       "      <td>150.0</td>\n",
       "      <td>xConnect</td>\n",
       "    </tr>\n",
       "  </tbody>\n",
       "</table>\n",
       "</div>"
      ],
      "text/plain": [
       "    Organization Order #              Order Date        Salesman  \\\n",
       "333      Axcient   62026 2022-08-09 15:39:25.980  Andrew Ramirez   \n",
       "\n",
       "           Order Summary          Type  Term Datacenter  payout    MRR  \\\n",
       "333  Cross Connect : SMF  Change Order  21.0       ATL2   112.5  150.0   \n",
       "\n",
       "    Service Type  \n",
       "333     xConnect  "
      ]
     },
     "execution_count": 495,
     "metadata": {},
     "output_type": "execute_result"
    }
   ],
   "source": [
    "andrew_ramirez.head(1)"
   ]
  },
  {
   "cell_type": "code",
   "execution_count": 496,
   "id": "bf6ee9f6-47b9-4256-845e-38669f7eccbe",
   "metadata": {},
   "outputs": [],
   "source": [
    "ramirez = (andrew_ramirez['payout'].sum())"
   ]
  },
  {
   "cell_type": "code",
   "execution_count": 699,
   "id": "9024128e-0736-4e8c-bf50-e3a873c66d13",
   "metadata": {},
   "outputs": [],
   "source": [
    "andrew_ramirez.loc[1111] = ['Comissions Payout:', ramirez, '','','','','','','',0,'']"
   ]
  },
  {
   "cell_type": "code",
   "execution_count": 498,
   "id": "3ce068cf-c2ff-4743-9c0c-e6943c2c719e",
   "metadata": {},
   "outputs": [],
   "source": [
    "\n",
    "if qqq == \"y\":\n",
    "    pass\n",
    "else:\n",
    "    pass\n",
    "    "
   ]
  },
  {
   "cell_type": "code",
   "execution_count": 499,
   "id": "e41cd9d3-f3fd-4514-9dca-19880890dd52",
   "metadata": {},
   "outputs": [],
   "source": [
    "andrew_ramirez.to_excel('Ramirez_September_2022.xlsx')"
   ]
  },
  {
   "cell_type": "markdown",
   "id": "46445460-813e-46ae-8c29-a028ecee3ece",
   "metadata": {
    "tags": []
   },
   "source": [
    "#### Carlie Matel"
   ]
  },
  {
   "cell_type": "code",
   "execution_count": 500,
   "id": "93684f64-3931-4c71-8cdd-ab9167f1c541",
   "metadata": {},
   "outputs": [],
   "source": [
    "carlie_matel = ep1[ep1['Salesman'] == 'Carlie Matel']"
   ]
  },
  {
   "cell_type": "code",
   "execution_count": 501,
   "id": "e62a2496-a705-4e52-b9c3-773c163b910f",
   "metadata": {},
   "outputs": [
    {
     "data": {
      "text/plain": [
       "2696.928"
      ]
     },
     "execution_count": 501,
     "metadata": {},
     "output_type": "execute_result"
    }
   ],
   "source": [
    "(carlie_matel['payout'].sum())"
   ]
  },
  {
   "cell_type": "code",
   "execution_count": 502,
   "id": "15955918-d216-4690-ba90-9767169be131",
   "metadata": {},
   "outputs": [],
   "source": [
    "carlie_matel.loc[carlie_matel['Datacenter'].isin(['ATL2','ACT1','AUS1','CLE1','DEN1','DEN4','DFW1','DFW2','DFW6','DFW7','EWR2','IAD2','KC2','MEM1','MSP1','LHR1','ORD2','ORD3','PHX1','SEA2','SLC1','SLC2']), 'payout'] *= .75\n",
    "carlie_matel.loc[carlie_matel['Datacenter'].isin(['ATL1', 'ATL3', 'BOS1', 'BWI1', 'DEN2', 'DEN3', 'DFW3','DFW4', 'DFW5','EWR1','IAD1','IND1','IND2','LAS1','LAX1','LGA1','LGA2','MCI1','MCI2','MCI3','MIA1','MSP2','MSP3','MSP4','ORD1','ORD4','PHL1','PHX2','PHX3','PIT1','PIT2','SAN1','SAN2','SEA1','SFO1','SLC3','SLC4','SLC5','SNA1','SNA2','PAR1','PAR2','PAR3','MPL1','TLS1']), 'payout'] *= .5"
   ]
  },
  {
   "cell_type": "code",
   "execution_count": 503,
   "id": "d7495979-3861-4c40-b498-8dce44f5b272",
   "metadata": {},
   "outputs": [],
   "source": [
    "#carlie_matel.loc[odaine_hudson['Type'].isin(['New']), 'payout'] *= 1.75"
   ]
  },
  {
   "cell_type": "code",
   "execution_count": 504,
   "id": "71953b45-4534-4d5a-80d6-bbc5bd8935dc",
   "metadata": {},
   "outputs": [
    {
     "data": {
      "text/html": [
       "<div>\n",
       "<style scoped>\n",
       "    .dataframe tbody tr th:only-of-type {\n",
       "        vertical-align: middle;\n",
       "    }\n",
       "\n",
       "    .dataframe tbody tr th {\n",
       "        vertical-align: top;\n",
       "    }\n",
       "\n",
       "    .dataframe thead th {\n",
       "        text-align: right;\n",
       "    }\n",
       "</style>\n",
       "<table border=\"1\" class=\"dataframe\">\n",
       "  <thead>\n",
       "    <tr style=\"text-align: right;\">\n",
       "      <th></th>\n",
       "      <th>Organization</th>\n",
       "      <th>Order #</th>\n",
       "      <th>Order Date</th>\n",
       "      <th>Salesman</th>\n",
       "      <th>Order Summary</th>\n",
       "      <th>Type</th>\n",
       "      <th>Term</th>\n",
       "      <th>Datacenter</th>\n",
       "      <th>payout</th>\n",
       "      <th>MRR</th>\n",
       "      <th>Service Type</th>\n",
       "    </tr>\n",
       "  </thead>\n",
       "  <tbody>\n",
       "    <tr>\n",
       "      <th>1318</th>\n",
       "      <td>First Digital Telecom, LLC</td>\n",
       "      <td>65059</td>\n",
       "      <td>2022-08-05 12:25:57.160</td>\n",
       "      <td>Carlie Matel</td>\n",
       "      <td>Cross Connect : SMF</td>\n",
       "      <td>Existing</td>\n",
       "      <td>12.0</td>\n",
       "      <td>SLC2</td>\n",
       "      <td>150.0</td>\n",
       "      <td>200.0</td>\n",
       "      <td>xConnect</td>\n",
       "    </tr>\n",
       "  </tbody>\n",
       "</table>\n",
       "</div>"
      ],
      "text/plain": [
       "                    Organization Order #              Order Date  \\\n",
       "1318  First Digital Telecom, LLC   65059 2022-08-05 12:25:57.160   \n",
       "\n",
       "          Salesman        Order Summary      Type  Term Datacenter  payout  \\\n",
       "1318  Carlie Matel  Cross Connect : SMF  Existing  12.0       SLC2   150.0   \n",
       "\n",
       "        MRR Service Type  \n",
       "1318  200.0     xConnect  "
      ]
     },
     "execution_count": 504,
     "metadata": {},
     "output_type": "execute_result"
    }
   ],
   "source": [
    "carlie_matel.head(1)"
   ]
  },
  {
   "cell_type": "code",
   "execution_count": 505,
   "id": "32e627bb-bd58-4060-a7a5-75fb5c8d65fb",
   "metadata": {},
   "outputs": [],
   "source": [
    "matel = (carlie_matel['payout'].sum())"
   ]
  },
  {
   "cell_type": "code",
   "execution_count": 700,
   "id": "4cf9e058-6bd5-4bb8-980a-a89ff310a25a",
   "metadata": {},
   "outputs": [],
   "source": [
    "carlie_matel.loc[1111] = ['Comissions Payout:', matel, '','','','','','','',0,'']"
   ]
  },
  {
   "cell_type": "code",
   "execution_count": 507,
   "id": "06a27b95-3a23-4555-a3d8-55fd4afef496",
   "metadata": {},
   "outputs": [],
   "source": [
    "if qqq == \"y\":\n",
    "    pass\n",
    "else:\n",
    "    pass\n",
    "    "
   ]
  },
  {
   "cell_type": "code",
   "execution_count": 508,
   "id": "308bb5cf-b9a1-4f96-99f3-474b3417ef60",
   "metadata": {},
   "outputs": [],
   "source": [
    "carlie_matel.to_excel('Matel_September_2022.xlsx')"
   ]
  },
  {
   "cell_type": "markdown",
   "id": "7e91f766-c124-4e85-b6e8-37768e682fef",
   "metadata": {
    "tags": []
   },
   "source": [
    "#### Jonathan Malcolm"
   ]
  },
  {
   "cell_type": "code",
   "execution_count": 509,
   "id": "203888ea-8854-4fd5-a83d-1522e851606a",
   "metadata": {},
   "outputs": [],
   "source": [
    "jonathan_malcolm = ep1[ep1['Salesman'] == 'Jonathan Malcolm']"
   ]
  },
  {
   "cell_type": "code",
   "execution_count": 510,
   "id": "b31b09ae-df11-4869-8a32-607045b4aba9",
   "metadata": {},
   "outputs": [
    {
     "data": {
      "text/plain": [
       "9227.71"
      ]
     },
     "execution_count": 510,
     "metadata": {},
     "output_type": "execute_result"
    }
   ],
   "source": [
    "(jonathan_malcolm['payout'].sum())"
   ]
  },
  {
   "cell_type": "code",
   "execution_count": 511,
   "id": "409192a3-2fb7-46cc-b1b2-03825f230006",
   "metadata": {},
   "outputs": [],
   "source": [
    "jonathan_malcolm.loc[jonathan_malcolm['Datacenter'].isin(['ATL2','ACT1','AUS1','CLE1','DEN1','DEN4','DFW1','DFW2','DFW6','DFW7','EWR2','IAD2','KC2','MEM1','MSP1','LHR1','ORD2','ORD3','PHX1','SEA2','SLC1','SLC2']), 'payout'] *= .75\n",
    "jonathan_malcolm.loc[jonathan_malcolm['Datacenter'].isin(['ATL1', 'ATL3', 'BOS1', 'BWI1', 'DEN2', 'DEN3', 'DFW3','DFW4', 'DFW5','EWR1','IAD1','IND1','IND2','LAS1','LAX1','LGA1','LGA2','MCI1','MCI2','MCI3','MIA1','MSP2','MSP3','MSP4','ORD1','ORD4','PHL1','PHX2','PHX3','PIT1','PIT2','SAN1','SAN2','SEA1','SFO1','SLC3','SLC4','SLC5','SNA1','SNA2','PAR1','PAR2','PAR3','MPL1','TLS1']), 'payout'] *= .5"
   ]
  },
  {
   "cell_type": "code",
   "execution_count": 512,
   "id": "642ba543-686e-4147-a815-eb821d16fa15",
   "metadata": {},
   "outputs": [],
   "source": [
    "#andrew_ramirez.loc[odaine_hudson['Type'].isin(['New']), 'payout'] *= .75"
   ]
  },
  {
   "cell_type": "code",
   "execution_count": 513,
   "id": "3bbfe220-e76b-4416-8982-c79e812ed583",
   "metadata": {},
   "outputs": [],
   "source": [
    "malcolm = (jonathan_malcolm['payout'].sum())"
   ]
  },
  {
   "cell_type": "code",
   "execution_count": 514,
   "id": "9231f15e-4c2c-4116-92b4-b2969a014dc6",
   "metadata": {},
   "outputs": [],
   "source": [
    "if qqq == \"y\":\n",
    "    pass\n",
    "else:\n",
    "    pass\n",
    "    "
   ]
  },
  {
   "cell_type": "code",
   "execution_count": 697,
   "id": "adc62d4f-c3ff-4097-84c5-9b856e309dce",
   "metadata": {},
   "outputs": [],
   "source": [
    "jonathan_malcolm.loc[111111] = ['Payout:', malcolm , '' , '' , '' , '' , '' , '' , '' , 0 , '' ]"
   ]
  },
  {
   "cell_type": "code",
   "execution_count": 516,
   "id": "c7627a1f-3f61-4553-aaa8-453e971578c4",
   "metadata": {},
   "outputs": [],
   "source": [
    "#jonathan_malcolm.to_excel('malcolm_September_2022.xlsx', index=False)"
   ]
  },
  {
   "cell_type": "markdown",
   "id": "2a29ab45-639b-4120-a02b-625922a02350",
   "metadata": {},
   "source": [
    "##### End Jonathan Malcolm"
   ]
  },
  {
   "cell_type": "markdown",
   "id": "d8d7f559-8f05-4b4e-ae76-f481c7713fa3",
   "metadata": {
    "tags": []
   },
   "source": [
    "#### Mike Miceli"
   ]
  },
  {
   "cell_type": "code",
   "execution_count": 517,
   "id": "337dfbe7-7318-44a4-8734-6a8c3ee0cc2b",
   "metadata": {},
   "outputs": [],
   "source": [
    "mike_miceli = ep1[ep1['Salesman'] == 'Mike Miceli']"
   ]
  },
  {
   "cell_type": "code",
   "execution_count": 518,
   "id": "abe8a2c4-0689-4f7d-ac7d-aa7597e3248e",
   "metadata": {},
   "outputs": [
    {
     "data": {
      "text/plain": [
       "2228.0"
      ]
     },
     "execution_count": 518,
     "metadata": {},
     "output_type": "execute_result"
    }
   ],
   "source": [
    "(mike_miceli['payout'].sum())"
   ]
  },
  {
   "cell_type": "code",
   "execution_count": 519,
   "id": "8f7bbf33-406a-4781-9a42-6ee531d4cb01",
   "metadata": {},
   "outputs": [],
   "source": [
    "mike_miceli.loc[mike_miceli['Datacenter'].isin(['ATL2','ACT1','AUS1','CLE1','DEN1','DEN4','DFW1','DFW2','DFW6','DFW7','EWR2','IAD2','KC2','MEM1','MSP1','LHR1','ORD2','ORD3','PHX1','SEA2','SLC1','SLC2']), 'payout'] *= .75\n",
    "mike_miceli.loc[mike_miceli['Datacenter'].isin(['ATL1', 'ATL3', 'BOS1', 'BWI1', 'DEN2', 'DEN3', 'DFW3','DFW4', 'DFW5','EWR1','IAD1','IND1','IND2','LAS1','LAX1','LGA1','LGA2','MCI1','MCI2','MCI3','MIA1','MSP2','MSP3','MSP4','ORD1','ORD4','PHL1','PHX2','PHX3','PIT1','PIT2','SAN1','SAN2','SEA1','SFO1','SLC3','SLC4','SLC5','SNA1','SNA2','PAR1','PAR2','PAR3','MPL1','TLS1']), 'payout'] *= .5"
   ]
  },
  {
   "cell_type": "code",
   "execution_count": 520,
   "id": "76b1d869-ba9b-4545-baa8-7cf06cd220ad",
   "metadata": {},
   "outputs": [],
   "source": [
    "#mike_miceli.loc[odaine_hudson['Type'].isin(['New']), 'payout'] *= .75"
   ]
  },
  {
   "cell_type": "code",
   "execution_count": 521,
   "id": "0a492b74-373a-4626-856a-904194f6ede1",
   "metadata": {},
   "outputs": [],
   "source": [
    "miceli = (mike_miceli['payout'].sum())"
   ]
  },
  {
   "cell_type": "code",
   "execution_count": 522,
   "id": "f9d2055c-d74c-4a2e-90dd-8c977af320d3",
   "metadata": {},
   "outputs": [],
   "source": [
    "if qqq == \"y\":\n",
    "    pass\n",
    "else:\n",
    "    pass\n",
    "    "
   ]
  },
  {
   "cell_type": "code",
   "execution_count": 696,
   "id": "15a17d52-b32a-4b87-9a0e-847f05f6fc40",
   "metadata": {},
   "outputs": [],
   "source": [
    "mike_miceli.loc[111111] = ['Payout:', miceli , '' , '' , '' , '' , '' , '' , '' , 0 , '' ]"
   ]
  },
  {
   "cell_type": "code",
   "execution_count": 524,
   "id": "dd3e7008-0b75-4ca0-ae8d-0b8bb67299ab",
   "metadata": {},
   "outputs": [],
   "source": [
    "#mike_miceli.to_excel('Miceli_September_2022.xlsx', index=False)"
   ]
  },
  {
   "cell_type": "markdown",
   "id": "0ca16a39-45a9-46e7-bddf-4361efafd2c9",
   "metadata": {},
   "source": [
    "##### End Mike Miceli"
   ]
  },
  {
   "cell_type": "markdown",
   "id": "e58caed8-f8a8-46f4-99b9-2817e93588be",
   "metadata": {
    "tags": []
   },
   "source": [
    "#### Tiffany Dunson"
   ]
  },
  {
   "cell_type": "code",
   "execution_count": 525,
   "id": "9d247ead-7a81-47a2-bafc-1efe03dfd9cf",
   "metadata": {},
   "outputs": [],
   "source": [
    "tiffany_dunson = ep1[ep1['Salesman'] == 'Tiffany Dunson']"
   ]
  },
  {
   "cell_type": "code",
   "execution_count": 526,
   "id": "707f002b-19e0-4a40-8115-97476914ecd8",
   "metadata": {},
   "outputs": [
    {
     "data": {
      "text/plain": [
       "11110.0"
      ]
     },
     "execution_count": 526,
     "metadata": {},
     "output_type": "execute_result"
    }
   ],
   "source": [
    "(tiffany_dunson['payout'].sum())"
   ]
  },
  {
   "cell_type": "code",
   "execution_count": 527,
   "id": "0e2bd6e6-96e3-41b8-ad7e-25e3e9bb5104",
   "metadata": {},
   "outputs": [],
   "source": [
    "tiffany_dunson.loc[tiffany_dunson['Datacenter'].isin(['ATL2','ACT1','AUS1','CLE1','DEN1','DEN4','DFW1','DFW2','DFW6','DFW7','EWR2','IAD2','KC2','MEM1','MSP1','LHR1','ORD2','ORD3','PHX1','SEA2','SLC1','SLC2']), 'payout'] *= .75\n",
    "tiffany_dunson.loc[tiffany_dunson['Datacenter'].isin(['ATL1', 'ATL3', 'BOS1', 'BWI1', 'DEN2', 'DEN3', 'DFW3','DFW4', 'DFW5','EWR1','IAD1','IND1','IND2','LAS1','LAX1','LGA1','LGA2','MCI1','MCI2','MCI3','MIA1','MSP2','MSP3','MSP4','ORD1','ORD4','PHL1','PHX2','PHX3','PIT1','PIT2','SAN1','SAN2','SEA1','SFO1','SLC3','SLC4','SLC5','SNA1','SNA2','PAR1','PAR2','PAR3','MPL1','TLS1']), 'payout'] *= .5"
   ]
  },
  {
   "cell_type": "code",
   "execution_count": 528,
   "id": "80116860-69b7-4b3c-b057-1fa959aeb20d",
   "metadata": {},
   "outputs": [],
   "source": [
    "#mike_miceli.loc[odaine_hudson['Type'].isin(['New']), 'payout'] *= .75"
   ]
  },
  {
   "cell_type": "code",
   "execution_count": 529,
   "id": "c5a90852-ac42-48b4-a9f8-fe2a19360706",
   "metadata": {},
   "outputs": [],
   "source": [
    "dunson = (tiffany_dunson['payout'].sum())"
   ]
  },
  {
   "cell_type": "code",
   "execution_count": 530,
   "id": "ef5b1bab-62f4-4558-aa64-99a3bf2f62d4",
   "metadata": {},
   "outputs": [],
   "source": [
    "if qqq == \"y\":\n",
    "    pass\n",
    "else:\n",
    "    pass\n",
    "    "
   ]
  },
  {
   "cell_type": "code",
   "execution_count": 695,
   "id": "447b40d4-6003-4d4b-8cee-4e3e52a8cdac",
   "metadata": {},
   "outputs": [],
   "source": [
    "tiffany_dunson.loc[111111] = ['Payout:', dunson , '' , '' , '' , '' , '' , '' , '' , 0 , '']"
   ]
  },
  {
   "cell_type": "code",
   "execution_count": 532,
   "id": "3320593f-3372-48bd-97c0-f19d406062e0",
   "metadata": {},
   "outputs": [],
   "source": [
    "#tiffany_dunson.to_excel('Dunson_September_2022.xlsx', index=False)"
   ]
  },
  {
   "cell_type": "markdown",
   "id": "2a426201-dde8-4370-822b-3f99a0a1e875",
   "metadata": {
    "tags": []
   },
   "source": [
    "##### End Tiffany Dunson"
   ]
  },
  {
   "cell_type": "markdown",
   "id": "36907c75-e747-400a-a981-8eea01063742",
   "metadata": {
    "tags": []
   },
   "source": [
    "#### Peccoralo"
   ]
  },
  {
   "cell_type": "code",
   "execution_count": 701,
   "id": "8d9b1c1a-be74-4cf5-9e88-29d7b2c32e0e",
   "metadata": {},
   "outputs": [],
   "source": [
    "peccoralo_monthly = tiffany_dunson['MRR'].sum() + mike_miceli['MRR'].sum() + jonathan_malcolm['MRR'].sum() + carlie_matel['MRR'].sum() + andrew_ramirez['MRR'].sum() + odaine_hudson['MRR'].sum()"
   ]
  },
  {
   "cell_type": "code",
   "execution_count": 534,
   "id": "c30812a9-2f47-4993-b7c2-a48d463cf498",
   "metadata": {},
   "outputs": [],
   "source": [
    "(peccoralo_monthly / 30000) * 6000"
   ]
  },
  {
   "cell_type": "code",
   "execution_count": 535,
   "id": "f65349ae-d3c2-4371-ad6c-08859a5a66e9",
   "metadata": {},
   "outputs": [],
   "source": [
    "brandon_peccoralo = ep1[ep1['Salesman'] == 'Brandon Peccoralo']"
   ]
  },
  {
   "cell_type": "code",
   "execution_count": null,
   "id": "617dc9b4-7c35-4827-ad40-3f68941255dd",
   "metadata": {},
   "outputs": [],
   "source": []
  },
  {
   "cell_type": "code",
   "execution_count": 536,
   "id": "5c1bafd2-2144-4763-bff4-a2da32006f4b",
   "metadata": {},
   "outputs": [],
   "source": [
    "if qqq == \"y\":\n",
    "    pass\n",
    "else:\n",
    "    pass\n",
    "    "
   ]
  },
  {
   "cell_type": "markdown",
   "id": "f1a00b9e-e5ce-4e89-9d7f-5ce921aca203",
   "metadata": {
    "jp-MarkdownHeadingCollapsed": true,
    "tags": []
   },
   "source": [
    "### AME"
   ]
  },
  {
   "cell_type": "markdown",
   "id": "0fe81f3a-51b5-43fa-aa8f-867f110a7d8f",
   "metadata": {
    "jp-MarkdownHeadingCollapsed": true,
    "tags": []
   },
   "source": [
    "#### Samuel Mickler "
   ]
  },
  {
   "cell_type": "code",
   "execution_count": 602,
   "id": "392d6e2d-5182-4e67-97de-f557e9146280",
   "metadata": {},
   "outputs": [],
   "source": [
    "samuel_mickler = ep1[ep1['Salesman'] == 'Samuel Mickler']"
   ]
  },
  {
   "cell_type": "code",
   "execution_count": 603,
   "id": "977f11b6-40b3-4a8a-a873-9ea056821dbf",
   "metadata": {},
   "outputs": [
    {
     "data": {
      "text/plain": [
       "1537.4650000000001"
      ]
     },
     "execution_count": 603,
     "metadata": {},
     "output_type": "execute_result"
    }
   ],
   "source": [
    "(samuel_mickler['payout'].sum())"
   ]
  },
  {
   "cell_type": "code",
   "execution_count": 604,
   "id": "5519c03e-3619-4e44-9976-0db68613049c",
   "metadata": {},
   "outputs": [],
   "source": [
    "samuel_mickler.loc[samuel_mickler['Datacenter'].isin(['ATL2','ACT1','AUS1','CLE1','DEN1','DEN4','DFW1','DFW2','DFW6','DFW7','EWR2','IAD2','KC2','MEM1','MSP1','LHR1','ORD2','ORD3','PHX1','SEA2','SLC1','SLC2']), 'payout'] *= .75\n",
    "samuel_mickler.loc[samuel_mickler['Datacenter'].isin(['ATL1', 'ATL3', 'BOS1', 'BWI1', 'DEN2', 'DEN3', 'DFW3','DFW4', 'DFW5','EWR1','IAD1','IND1','IND2','LAS1','LAX1','LGA1','LGA2','MCI1','MCI2','MCI3','MIA1','MSP2','MSP3','MSP4','ORD1','ORD4','PHL1','PHX2','PHX3','PIT1','PIT2','SAN1','SAN2','SEA1','SFO1','SLC3','SLC4','SLC5','SNA1','SNA2','PAR1','PAR2','PAR3','MPL1','TLS1']), 'payout'] *= .5"
   ]
  },
  {
   "cell_type": "code",
   "execution_count": 605,
   "id": "50b6e793-7023-481d-a0f9-8b6b1f0d9fb7",
   "metadata": {},
   "outputs": [],
   "source": [
    "#mike_miceli.loc[odaine_hudson['Type'].isin(['New']), 'payout'] *= .75"
   ]
  },
  {
   "cell_type": "code",
   "execution_count": 606,
   "id": "238931bd-a4da-4b0f-b081-d14110df63d9",
   "metadata": {},
   "outputs": [],
   "source": [
    "mickler = (samuel_mickler['payout'].sum())"
   ]
  },
  {
   "cell_type": "code",
   "execution_count": 607,
   "id": "c11a9653-3188-473f-b656-99b49ec9a028",
   "metadata": {},
   "outputs": [],
   "source": [
    "if qqq == \"y\":\n",
    "    pass\n",
    "else:\n",
    "    pass\n",
    "    "
   ]
  },
  {
   "cell_type": "code",
   "execution_count": 608,
   "id": "55d4a817-8033-4cab-be81-77f59c9a3433",
   "metadata": {},
   "outputs": [],
   "source": [
    "samuel_mickler.loc[111111] = ['Payout:', mickler , '' , '' , '' , '' , '' , '' , '' , 0 , '' ]"
   ]
  },
  {
   "cell_type": "code",
   "execution_count": 609,
   "id": "5d656958-1bc5-4d1b-8844-828710093b30",
   "metadata": {},
   "outputs": [],
   "source": [
    "#samuel_mickler.to_excel('Mickler_September_2022.xlsx', index=False)"
   ]
  },
  {
   "cell_type": "markdown",
   "id": "b5d142b7-50d2-4f5e-b8f2-95e2ca2ba5a3",
   "metadata": {},
   "source": [
    "##### End Sam Mickler "
   ]
  },
  {
   "cell_type": "markdown",
   "id": "12f98350-5006-438a-9d07-1ad2014bfcf0",
   "metadata": {
    "jp-MarkdownHeadingCollapsed": true,
    "tags": []
   },
   "source": [
    "#### Hardeman"
   ]
  },
  {
   "cell_type": "code",
   "execution_count": 610,
   "id": "aa522b04-2b7d-4307-a6a5-ad572de53ad5",
   "metadata": {},
   "outputs": [],
   "source": [
    "trey_hardeman = ep1[ep1['Salesman'] == 'Trey Hardeman']"
   ]
  },
  {
   "cell_type": "code",
   "execution_count": 611,
   "id": "0c981cf2-6bec-4f05-9efe-62a2d86d1850",
   "metadata": {},
   "outputs": [
    {
     "data": {
      "text/plain": [
       "4538.23"
      ]
     },
     "execution_count": 611,
     "metadata": {},
     "output_type": "execute_result"
    }
   ],
   "source": [
    "(trey_hardeman['payout'].sum())"
   ]
  },
  {
   "cell_type": "code",
   "execution_count": 612,
   "id": "173bd0ba-dd51-48b1-96ae-334fb414ab85",
   "metadata": {},
   "outputs": [],
   "source": [
    "trey_hardeman.loc[trey_hardeman['Datacenter'].isin(['ATL2','ACT1','AUS1','CLE1','DEN1','DEN4','DFW1','DFW2','DFW6','DFW7','EWR2','IAD2','KC2','MEM1','MSP1','LHR1','ORD2','ORD3','PHX1','SEA2','SLC1','SLC2']), 'payout'] *= .75\n",
    "trey_hardeman.loc[trey_hardeman['Datacenter'].isin(['ATL1', 'ATL3', 'BOS1', 'BWI1', 'DEN2', 'DEN3', 'DFW3','DFW4', 'DFW5','EWR1','IAD1','IND1','IND2','LAS1','LAX1','LGA1','LGA2','MCI1','MCI2','MCI3','MIA1','MSP2','MSP3','MSP4','ORD1','ORD4','PHL1','PHX2','PHX3','PIT1','PIT2','SAN1','SAN2','SEA1','SFO1','SLC3','SLC4','SLC5','SNA1','SNA2','PAR1','PAR2','PAR3','MPL1','TLS1']), 'payout'] *= .5"
   ]
  },
  {
   "cell_type": "code",
   "execution_count": 613,
   "id": "1a357510-d73d-477b-83fb-44fb9f055217",
   "metadata": {},
   "outputs": [],
   "source": [
    "#trey_hardeman.loc[odaine_hudson['Type'].isin(['New']), 'payout'] *= .75"
   ]
  },
  {
   "cell_type": "code",
   "execution_count": 614,
   "id": "6a0cf707-9ce7-406e-b9f6-f5625c78be8b",
   "metadata": {},
   "outputs": [],
   "source": [
    "hardeman = (trey_hardeman['payout'].sum())"
   ]
  },
  {
   "cell_type": "code",
   "execution_count": 615,
   "id": "dcd32a26-f597-4af7-b35f-223e2e3e5765",
   "metadata": {},
   "outputs": [],
   "source": [
    "if qqq == \"y\":\n",
    "    pass\n",
    "else:\n",
    "    pass\n",
    "    "
   ]
  },
  {
   "cell_type": "code",
   "execution_count": 616,
   "id": "016bf12c-170f-4fe1-ae24-e2600fe24ea2",
   "metadata": {},
   "outputs": [],
   "source": [
    "trey_hardeman.loc[111111] = ['Payout:', hardeman , '' , '' , '' , '' , '' , '' , '' , 0 , '' ]"
   ]
  },
  {
   "cell_type": "code",
   "execution_count": 617,
   "id": "85acf11b-c7d3-4c4a-bf8e-c8810f1050f5",
   "metadata": {},
   "outputs": [],
   "source": [
    "#trey_hardeman.to_excel('Hardeman_September_2022.xlsx', index=False)"
   ]
  },
  {
   "cell_type": "markdown",
   "id": "f64ba582-95ac-430b-81d3-4941aaebec5c",
   "metadata": {},
   "source": [
    "##### End Trey Hardeman"
   ]
  },
  {
   "cell_type": "markdown",
   "id": "f6ee763c-7304-4653-8b1a-8483ab50c905",
   "metadata": {
    "jp-MarkdownHeadingCollapsed": true,
    "tags": []
   },
   "source": [
    "#### Natalie Farr"
   ]
  },
  {
   "cell_type": "code",
   "execution_count": 618,
   "id": "3aa8c352-891b-4134-bdd9-05c3d19d5cf0",
   "metadata": {},
   "outputs": [],
   "source": [
    "natalie_farr = ep1[ep1['Salesman'] == 'Natalie Farr']"
   ]
  },
  {
   "cell_type": "code",
   "execution_count": 619,
   "id": "13cbcca9-33f9-437a-a6c8-591be974656f",
   "metadata": {},
   "outputs": [
    {
     "data": {
      "text/plain": [
       "1623.0276"
      ]
     },
     "execution_count": 619,
     "metadata": {},
     "output_type": "execute_result"
    }
   ],
   "source": [
    "(natalie_farr['payout'].sum())"
   ]
  },
  {
   "cell_type": "code",
   "execution_count": 620,
   "id": "342c696f-b320-4f2a-b1d7-7355382a33fd",
   "metadata": {},
   "outputs": [],
   "source": [
    "natalie_farr.loc[natalie_farr['Datacenter'].isin(['ATL2','ACT1','AUS1','CLE1','DEN1','DEN4','DFW1','DFW2','DFW6','DFW7','EWR2','IAD2','KC2','MEM1','MSP1','LHR1','ORD2','ORD3','PHX1','SEA2','SLC1','SLC2']), 'payout'] *= .75\n",
    "natalie_farr.loc[natalie_farr['Datacenter'].isin(['ATL1', 'ATL3', 'BOS1', 'BWI1', 'DEN2', 'DEN3', 'DFW3','DFW4', 'DFW5','EWR1','IAD1','IND1','IND2','LAS1','LAX1','LGA1','LGA2','MCI1','MCI2','MCI3','MIA1','MSP2','MSP3','MSP4','ORD1','ORD4','PHL1','PHX2','PHX3','PIT1','PIT2','SAN1','SAN2','SEA1','SFO1','SLC3','SLC4','SLC5','SNA1','SNA2','PAR1','PAR2','PAR3','MPL1','TLS1']), 'payout'] *= .5"
   ]
  },
  {
   "cell_type": "code",
   "execution_count": 621,
   "id": "c50e6592-2fe5-4943-863a-f92f69d4f8ea",
   "metadata": {},
   "outputs": [],
   "source": [
    "#natalie_farr.loc[odaine_hudson['Type'].isin(['New']), 'payout'] *= .75"
   ]
  },
  {
   "cell_type": "code",
   "execution_count": 622,
   "id": "634bb0cf-93c7-42fe-ad5f-e1bd03b588d7",
   "metadata": {},
   "outputs": [],
   "source": [
    "farr = (natalie_farr['payout'].sum())"
   ]
  },
  {
   "cell_type": "code",
   "execution_count": 623,
   "id": "dce8519e-ccb2-4e0c-b1f0-73fbd367fec8",
   "metadata": {},
   "outputs": [],
   "source": [
    "if qqq == \"y\":\n",
    "    pass\n",
    "else:\n",
    "    pass\n",
    "    "
   ]
  },
  {
   "cell_type": "code",
   "execution_count": 624,
   "id": "86498afa-ca38-4f4e-9098-66a2c7865470",
   "metadata": {},
   "outputs": [],
   "source": [
    "natalie_farr.loc[111111] = ['Payout:', farr , '' , '' , '' , '' , '' , '' , '' , 0 , '']"
   ]
  },
  {
   "cell_type": "code",
   "execution_count": 625,
   "id": "2fbeea07-7202-4144-a274-85addf86ec93",
   "metadata": {},
   "outputs": [],
   "source": [
    "#natalie_farr.to_excel('Farr_September_2022.xlsx', index=False)"
   ]
  },
  {
   "cell_type": "markdown",
   "id": "43ecdb04-adf5-4aa4-8250-9442d2bd608c",
   "metadata": {},
   "source": [
    "##### End Natalie Farr"
   ]
  },
  {
   "cell_type": "markdown",
   "id": "5b4ea3fe-e819-4a00-84bb-f33fea6df479",
   "metadata": {
    "jp-MarkdownHeadingCollapsed": true,
    "tags": []
   },
   "source": [
    "#### Shelby Locklear"
   ]
  },
  {
   "cell_type": "code",
   "execution_count": 626,
   "id": "cb959e68-2e80-4f09-b786-9a67a713f7b7",
   "metadata": {},
   "outputs": [],
   "source": [
    "shelby_locklear = ep1[ep1['Salesman'] == 'Shelby Locklear']"
   ]
  },
  {
   "cell_type": "code",
   "execution_count": 627,
   "id": "8e7812f6-955d-4bdf-8820-f55f6a67790e",
   "metadata": {},
   "outputs": [
    {
     "data": {
      "text/plain": [
       "7990.9585"
      ]
     },
     "execution_count": 627,
     "metadata": {},
     "output_type": "execute_result"
    }
   ],
   "source": [
    "(shelby_locklear['payout'].sum())"
   ]
  },
  {
   "cell_type": "code",
   "execution_count": 628,
   "id": "d2f40231-50f6-4a24-9e80-6413d89c8d66",
   "metadata": {},
   "outputs": [],
   "source": [
    "shelby_locklear.loc[shelby_locklear['Datacenter'].isin(['ATL2','ACT1','AUS1','CLE1','DEN1','DEN4','DFW1','DFW2','DFW6','DFW7','EWR2','IAD2','KC2','MEM1','MSP1','LHR1','ORD2','ORD3','PHX1','SEA2','SLC1','SLC2']), 'payout'] *= .75\n",
    "shelby_locklear.loc[shelby_locklear['Datacenter'].isin(['ATL1', 'ATL3', 'BOS1', 'BWI1', 'DEN2', 'DEN3', 'DFW3','DFW4', 'DFW5','EWR1','IAD1','IND1','IND2','LAS1','LAX1','LGA1','LGA2','MCI1','MCI2','MCI3','MIA1','MSP2','MSP3','MSP4','ORD1','ORD4','PHL1','PHX2','PHX3','PIT1','PIT2','SAN1','SAN2','SEA1','SFO1','SLC3','SLC4','SLC5','SNA1','SNA2','PAR1','PAR2','PAR3','MPL1','TLS1']), 'payout'] *= .5"
   ]
  },
  {
   "cell_type": "code",
   "execution_count": 629,
   "id": "4a30e027-788c-403f-8859-5b654779f4a8",
   "metadata": {},
   "outputs": [],
   "source": [
    "#natalie_farr.loc[odaine_hudson['Type'].isin(['New']), 'payout'] *= .75"
   ]
  },
  {
   "cell_type": "code",
   "execution_count": 630,
   "id": "54561587-7495-4fae-8045-44d31befe685",
   "metadata": {},
   "outputs": [],
   "source": [
    "locklear = (shelby_locklear['payout'].sum())"
   ]
  },
  {
   "cell_type": "code",
   "execution_count": 631,
   "id": "ef78ff2c-ad08-4f0a-af3b-62032cad2f22",
   "metadata": {},
   "outputs": [],
   "source": [
    "if qqq == \"y\":\n",
    "    pass\n",
    "else:\n",
    "    pass\n",
    "    "
   ]
  },
  {
   "cell_type": "code",
   "execution_count": 632,
   "id": "8a9563fb-9ad5-42cb-8028-af6d6882a318",
   "metadata": {},
   "outputs": [],
   "source": [
    "shelby_locklear.loc[111111] = ['Payout:', locklear , '' , '' , '' , '' , '' , '' , '' , 0 , '']"
   ]
  },
  {
   "cell_type": "code",
   "execution_count": 633,
   "id": "6c76aa82-deee-41cc-9bd1-cc865ae2562a",
   "metadata": {},
   "outputs": [],
   "source": [
    "#shelby_locklear.to_excel('Farr_September_2022.xlsx', index=False)"
   ]
  },
  {
   "cell_type": "markdown",
   "id": "acaf6616-5a2e-4f02-89fd-57b7351497ae",
   "metadata": {},
   "source": [
    "##### End Shelby Locklear"
   ]
  },
  {
   "cell_type": "markdown",
   "id": "3ac062e3-f885-4fc9-93ab-eb798c7cfef9",
   "metadata": {
    "jp-MarkdownHeadingCollapsed": true,
    "tags": []
   },
   "source": [
    "#### Kathy Geiser"
   ]
  },
  {
   "cell_type": "code",
   "execution_count": 634,
   "id": "56c5b1d6-84f7-4ad0-822e-e6a7cb85c3ab",
   "metadata": {},
   "outputs": [],
   "source": [
    "kathy_geiser = ep1[ep1['Salesman'] == 'Kathy J Geiser']"
   ]
  },
  {
   "cell_type": "code",
   "execution_count": 635,
   "id": "a0f3db4a-340e-4d2a-9c4c-b8be950e207a",
   "metadata": {},
   "outputs": [
    {
     "data": {
      "text/plain": [
       "8400.0"
      ]
     },
     "execution_count": 635,
     "metadata": {},
     "output_type": "execute_result"
    }
   ],
   "source": [
    "(kathy_geiser['payout'].sum())"
   ]
  },
  {
   "cell_type": "code",
   "execution_count": 636,
   "id": "c69cb53f-ad7f-498e-8faa-341065018279",
   "metadata": {},
   "outputs": [],
   "source": [
    "kathy_geiser.loc[kathy_geiser['Datacenter'].isin(['ATL2','ACT1','AUS1','CLE1','DEN1','DEN4','DFW1','DFW2','DFW6','DFW7','EWR2','IAD2','KC2','MEM1','MSP1','LHR1','ORD2','ORD3','PHX1','SEA2','SLC1','SLC2']), 'payout'] *= .75\n",
    "kathy_geiser.loc[kathy_geiser['Datacenter'].isin(['ATL1', 'ATL3', 'BOS1', 'BWI1', 'DEN2', 'DEN3', 'DFW3','DFW4', 'DFW5','EWR1','IAD1','IND1','IND2','LAS1','LAX1','LGA1','LGA2','MCI1','MCI2','MCI3','MIA1','MSP2','MSP3','MSP4','ORD1','ORD4','PHL1','PHX2','PHX3','PIT1','PIT2','SAN1','SAN2','SEA1','SFO1','SLC3','SLC4','SLC5','SNA1','SNA2','PAR1','PAR2','PAR3','MPL1','TLS1']), 'payout'] *= .5"
   ]
  },
  {
   "cell_type": "code",
   "execution_count": 637,
   "id": "66099b60-bd9c-4021-948d-443e5e11e0d1",
   "metadata": {},
   "outputs": [],
   "source": [
    "#kathy_geiser.loc[odaine_hudson['Type'].isin(['New']), 'payout'] *= .75"
   ]
  },
  {
   "cell_type": "code",
   "execution_count": 638,
   "id": "da8c1f7d-db93-4dda-ab5a-2119b5e6d748",
   "metadata": {},
   "outputs": [],
   "source": [
    "geiser = (kathy_geiser['payout'].sum())"
   ]
  },
  {
   "cell_type": "code",
   "execution_count": 639,
   "id": "b0d736a3-458d-44e1-814a-dcb1d2ebbace",
   "metadata": {},
   "outputs": [],
   "source": [
    "if qqq == \"y\":\n",
    "    pass\n",
    "else:\n",
    "    pass\n",
    "    "
   ]
  },
  {
   "cell_type": "code",
   "execution_count": 640,
   "id": "05c56bdc-107a-408d-b6ff-3bb42a0f6e76",
   "metadata": {},
   "outputs": [],
   "source": [
    "kathy_geiser.loc[111111] = ['Payout:', geiser , '' , '' , '' , '' , '' , '' , '' , 0 , '']"
   ]
  },
  {
   "cell_type": "code",
   "execution_count": 641,
   "id": "8e3d8746-17b5-48ca-a3f3-93fc8a950675",
   "metadata": {},
   "outputs": [],
   "source": [
    "#kathy_geiser.to_excel('Farr_September_2022.xlsx', index=False)"
   ]
  },
  {
   "cell_type": "markdown",
   "id": "171cddbf-3820-4c1d-beff-30a265b9696c",
   "metadata": {},
   "source": [
    "##### End Kathy Geiser "
   ]
  },
  {
   "cell_type": "markdown",
   "id": "00925e22-11fe-49c2-b6a9-901aa09b4c18",
   "metadata": {
    "jp-MarkdownHeadingCollapsed": true,
    "tags": []
   },
   "source": [
    "#### Stephen Muoio "
   ]
  },
  {
   "cell_type": "code",
   "execution_count": 642,
   "id": "a580f9bf-af48-4bf1-b765-26b1b83109d4",
   "metadata": {},
   "outputs": [],
   "source": [
    "stephen_muoio = ep1[ep1['Salesman'] == 'Stephen Muoio']"
   ]
  },
  {
   "cell_type": "code",
   "execution_count": 643,
   "id": "b4fa8cc4-cd84-472c-88a8-99a02a4bee9d",
   "metadata": {},
   "outputs": [
    {
     "data": {
      "text/plain": [
       "8863.568000000001"
      ]
     },
     "execution_count": 643,
     "metadata": {},
     "output_type": "execute_result"
    }
   ],
   "source": [
    "(stephen_muoio['payout'].sum())"
   ]
  },
  {
   "cell_type": "code",
   "execution_count": 644,
   "id": "f4c32da0-a8de-4553-b099-20a0bcb90313",
   "metadata": {},
   "outputs": [],
   "source": [
    "stephen_muoio.loc[stephen_muoio['Datacenter'].isin(['ATL2','ACT1','AUS1','CLE1','DEN1','DEN4','DFW1','DFW2','DFW6','DFW7','EWR2','IAD2','KC2','MEM1','MSP1','LHR1','ORD2','ORD3','PHX1','SEA2','SLC1','SLC2']), 'payout'] *= .75\n",
    "stephen_muoio.loc[stephen_muoio['Datacenter'].isin(['ATL1', 'ATL3', 'BOS1', 'BWI1', 'DEN2', 'DEN3', 'DFW3','DFW4', 'DFW5','EWR1','IAD1','IND1','IND2','LAS1','LAX1','LGA1','LGA2','MCI1','MCI2','MCI3','MIA1','MSP2','MSP3','MSP4','ORD1','ORD4','PHL1','PHX2','PHX3','PIT1','PIT2','SAN1','SAN2','SEA1','SFO1','SLC3','SLC4','SLC5','SNA1','SNA2','PAR1','PAR2','PAR3','MPL1','TLS1']), 'payout'] *= .5"
   ]
  },
  {
   "cell_type": "code",
   "execution_count": 645,
   "id": "bbdb77a1-c9af-4e3e-a112-592b69cf4ca4",
   "metadata": {},
   "outputs": [],
   "source": [
    "#stephen_muoio.loc[odaine_hudson['Type'].isin(['New']), 'payout'] *= .75"
   ]
  },
  {
   "cell_type": "code",
   "execution_count": 646,
   "id": "5c3e745e-05dd-4adc-b609-0b9d6c8a260c",
   "metadata": {},
   "outputs": [],
   "source": [
    "muoio = (stephen_muoio['payout'].sum())"
   ]
  },
  {
   "cell_type": "code",
   "execution_count": 647,
   "id": "c5511655-a876-4147-b140-f179b41366d4",
   "metadata": {},
   "outputs": [],
   "source": [
    "if qqq == \"y\":\n",
    "    pass\n",
    "else:\n",
    "    pass\n",
    "    "
   ]
  },
  {
   "cell_type": "code",
   "execution_count": 648,
   "id": "8981c47e-30a3-4a99-9eb0-b3db4d74e7e8",
   "metadata": {},
   "outputs": [],
   "source": [
    "stephen_muoio.loc[111111] = ['Payout:', muoio , '' , '' , '' , '' , '' , '' , '' , 0 , '']"
   ]
  },
  {
   "cell_type": "code",
   "execution_count": 649,
   "id": "c5e8eafa-91dc-4370-99e6-087c24b9cb85",
   "metadata": {},
   "outputs": [],
   "source": [
    "#stephen_muoio.to_excel('Muoio_September_2022.xlsx', index=False)"
   ]
  },
  {
   "cell_type": "markdown",
   "id": "f839f9a4-cc73-4a8a-8805-a164319040ce",
   "metadata": {
    "tags": []
   },
   "source": [
    "##### End Stephen Muoio"
   ]
  },
  {
   "cell_type": "markdown",
   "id": "72bcdc60-f3c2-4ace-9d99-809dd41d239a",
   "metadata": {
    "jp-MarkdownHeadingCollapsed": true,
    "tags": []
   },
   "source": [
    "#### Matt Horne "
   ]
  },
  {
   "cell_type": "code",
   "execution_count": 650,
   "id": "6e412aaf-a1e9-4d82-8cd7-26b88b710802",
   "metadata": {},
   "outputs": [],
   "source": [
    "matt_horne = ep1[ep1['Salesman'] == 'Matt Horne']"
   ]
  },
  {
   "cell_type": "code",
   "execution_count": 651,
   "id": "13e9d759-5d96-4963-b557-139dc7d5b1e3",
   "metadata": {},
   "outputs": [
    {
     "data": {
      "text/plain": [
       "12032.0321"
      ]
     },
     "execution_count": 651,
     "metadata": {},
     "output_type": "execute_result"
    }
   ],
   "source": [
    "(matt_horne['payout'].sum())"
   ]
  },
  {
   "cell_type": "code",
   "execution_count": 652,
   "id": "56fd6276-f427-456a-85a2-413256867954",
   "metadata": {},
   "outputs": [],
   "source": [
    "matt_horne.loc[matt_horne['Datacenter'].isin(['ATL2','ACT1','AUS1','CLE1','DEN1','DEN4','DFW1','DFW2','DFW6','DFW7','EWR2','IAD2','KC2','MEM1','MSP1','LHR1','ORD2','ORD3','PHX1','SEA2','SLC1','SLC2']), 'payout'] *= .75\n",
    "matt_horne.loc[matt_horne['Datacenter'].isin(['ATL1', 'ATL3', 'BOS1', 'BWI1', 'DEN2', 'DEN3', 'DFW3','DFW4', 'DFW5','EWR1','IAD1','IND1','IND2','LAS1','LAX1','LGA1','LGA2','MCI1','MCI2','MCI3','MIA1','MSP2','MSP3','MSP4','ORD1','ORD4','PHL1','PHX2','PHX3','PIT1','PIT2','SAN1','SAN2','SEA1','SFO1','SLC3','SLC4','SLC5','SNA1','SNA2','PAR1','PAR2','PAR3','MPL1','TLS1']), 'payout'] *= .5"
   ]
  },
  {
   "cell_type": "code",
   "execution_count": 653,
   "id": "733d6842-f07e-48fd-a0d5-dba7dc4ef33c",
   "metadata": {},
   "outputs": [],
   "source": [
    "#matt_horne.loc[odaine_hudson['Type'].isin(['New']), 'payout'] *= .75"
   ]
  },
  {
   "cell_type": "code",
   "execution_count": 654,
   "id": "4ab0eeb7-5229-45f7-9167-ac0a5d659c9f",
   "metadata": {},
   "outputs": [],
   "source": [
    "horne = (matt_horne['payout'].sum())"
   ]
  },
  {
   "cell_type": "code",
   "execution_count": 655,
   "id": "8fbb1f88-c3e6-4d54-b399-b1c4d6d87f7d",
   "metadata": {},
   "outputs": [],
   "source": [
    "if qqq == \"y\":\n",
    "    pass\n",
    "else:\n",
    "    pass\n",
    "    "
   ]
  },
  {
   "cell_type": "code",
   "execution_count": 656,
   "id": "8f1c45fd-f68d-4c47-a8a9-a7cf54c66223",
   "metadata": {},
   "outputs": [],
   "source": [
    "matt_horne.loc[111111] = ['Payout:', horne , '' , '' , '' , '' , '' , '' , '' , 0 , '']"
   ]
  },
  {
   "cell_type": "code",
   "execution_count": 657,
   "id": "6b75a785-3a1d-4811-8065-d3e95b22f3da",
   "metadata": {},
   "outputs": [],
   "source": [
    "#matt_horne.to_excel('Horne_September_2022.xlsx', index=False)"
   ]
  },
  {
   "cell_type": "markdown",
   "id": "447dae2f-3e98-4319-8fcb-a02923de379b",
   "metadata": {},
   "source": [
    "##### End Matt Horne"
   ]
  },
  {
   "cell_type": "markdown",
   "id": "dd0c568b-92d3-4cf8-a8d9-6d6634284bd3",
   "metadata": {
    "tags": []
   },
   "source": [
    "#### Dennis Wilson"
   ]
  },
  {
   "cell_type": "code",
   "execution_count": 702,
   "id": "b84540ed-cfa3-4b1b-99fc-bf0f5d8cb84c",
   "metadata": {},
   "outputs": [],
   "source": [
    "wilson_monthly = samuel_mickler['MRR'].sum() + trey_hardeman['MRR'].sum() + natalie_farr['MRR'].sum() + shelby_locklear['MRR'].sum() + kathy_geiser['MRR'].sum() + stephen_muoio['MRR'].sum() + matt_horne['MRR'].sum()"
   ]
  },
  {
   "cell_type": "code",
   "execution_count": 703,
   "id": "ca02f284-bfa5-4b86-8882-876c7aab4736",
   "metadata": {},
   "outputs": [
    {
     "data": {
      "text/plain": [
       "7294.9104648648645"
      ]
     },
     "execution_count": 703,
     "metadata": {},
     "output_type": "execute_result"
    }
   ],
   "source": [
    "(wilson_monthly / 37000) * 6000"
   ]
  },
  {
   "cell_type": "code",
   "execution_count": null,
   "id": "60dcd7f4-70d8-49fd-a841-702f3eb9da03",
   "metadata": {},
   "outputs": [],
   "source": [
    "brandon_peccoralo = ep1[ep1['Salesman'] == 'Brandon Peccoralo']"
   ]
  },
  {
   "cell_type": "code",
   "execution_count": null,
   "id": "8281c648-7bee-4f17-862d-409c05d31a9f",
   "metadata": {},
   "outputs": [],
   "source": [
    "if qqq == \"y\":\n",
    "    pass\n",
    "else:\n",
    "    pass\n",
    "    "
   ]
  },
  {
   "cell_type": "markdown",
   "id": "f1bf176c-6326-4dbf-a18b-46c7e1c71a7f",
   "metadata": {},
   "source": [
    "### Next"
   ]
  },
  {
   "cell_type": "code",
   "execution_count": null,
   "id": "a3068264-a41a-4f9e-88a1-2b4ac3b9c859",
   "metadata": {},
   "outputs": [],
   "source": []
  },
  {
   "cell_type": "markdown",
   "id": "29ec820c-cff4-4be4-92f7-89806f9a47d1",
   "metadata": {
    "tags": []
   },
   "source": [
    "#### Patrick Chapa"
   ]
  },
  {
   "cell_type": "code",
   "execution_count": null,
   "id": "69bc6d17-244f-44d6-a423-bfcf0d464265",
   "metadata": {},
   "outputs": [],
   "source": [
    "patrick_chapa = ep1[ep1['Salesman'] == 'Patrick Chapa']"
   ]
  },
  {
   "cell_type": "code",
   "execution_count": null,
   "id": "43bafb2b-73bf-4872-b7e3-ba84340b4b22",
   "metadata": {},
   "outputs": [],
   "source": [
    "patrick_chapa.head()"
   ]
  },
  {
   "cell_type": "code",
   "execution_count": null,
   "id": "46cbf120-a45c-4f52-b3b5-771718737622",
   "metadata": {},
   "outputs": [],
   "source": [
    "if patrick_chapa['payout'].sum() < 400:\n",
    "    patrick_chapa['payout'] = 0\n",
    "else: \n",
    "    pass"
   ]
  },
  {
   "cell_type": "code",
   "execution_count": null,
   "id": "8c54b4cf-3277-4307-acaf-0c59c3dc4614",
   "metadata": {},
   "outputs": [],
   "source": [
    "if patrick_chapa['Service Type'] == 'Managed Services' and patrick_chapa['Term'] == 12:\n",
    "    print(\"yeet\")\n",
    "else:\n",
    "    pass"
   ]
  },
  {
   "cell_type": "code",
   "execution_count": null,
   "id": "e6092f6f-35f2-4d34-90bf-06363fb16e0e",
   "metadata": {},
   "outputs": [],
   "source": [
    "patrick_chapa.loc[(patrick_chapa['Service Type'] == 'Managed Services') & (patrick_chapa['Term'] == 12), ['payout'] *= 1000\n",
    "                  "
   ]
  },
  {
   "cell_type": "code",
   "execution_count": null,
   "id": "d4f550d6-5356-41a1-b901-d516e1abe628",
   "metadata": {},
   "outputs": [],
   "source": []
  }
 ],
 "metadata": {
  "kernelspec": {
   "display_name": "Python 3 (ipykernel)",
   "language": "python",
   "name": "python3"
  },
  "language_info": {
   "codemirror_mode": {
    "name": "ipython",
    "version": 3
   },
   "file_extension": ".py",
   "mimetype": "text/x-python",
   "name": "python",
   "nbconvert_exporter": "python",
   "pygments_lexer": "ipython3",
   "version": "3.9.7"
  },
  "vscode": {
   "interpreter": {
    "hash": "93520e3b97abbf787051ab7b7f90e780b709a3c4bf21f048fe3840ad79373056"
   }
  }
 },
 "nbformat": 4,
 "nbformat_minor": 5
}
