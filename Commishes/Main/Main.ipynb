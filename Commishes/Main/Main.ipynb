{
 "cells": [
  {
   "cell_type": "markdown",
   "id": "840fb76c-0eb4-48dd-b165-40fd6f8cfd48",
   "metadata": {
    "tags": []
   },
   "source": [
    "### Data Clean & Setup"
   ]
  },
  {
   "cell_type": "code",
   "execution_count": 1,
   "id": "79d6c906-5e45-4299-a871-db3fc1499ab5",
   "metadata": {},
   "outputs": [],
   "source": [
    "import openpyxl as py\n",
    "from openpyxl import *\n",
    "import pandas as pd\n",
    "from pandas import *\n",
    "import numpy as np\n",
    "import ast as ast\n",
    "\n",
    "#import pdfkit\n",
    "pd.options.mode.chained_assignment = None"
   ]
  },
  {
   "cell_type": "code",
   "execution_count": 2,
   "id": "ad347f17-3dda-4355-8ac1-690d3e5a0e0d",
   "metadata": {},
   "outputs": [],
   "source": [
    "#eoq = input('Is this the end of a quarter? (imput y or n)')"
   ]
  },
  {
   "cell_type": "code",
   "execution_count": 3,
   "id": "34045a76-3900-490e-b265-9922349262a2",
   "metadata": {},
   "outputs": [],
   "source": [
    "ep1 = pd.read_excel('../excel_sheets/Epicor.xlsx')"
   ]
  },
  {
   "cell_type": "code",
   "execution_count": 4,
   "id": "a67a85d4-c465-495e-a676-f583ac632d44",
   "metadata": {},
   "outputs": [
    {
     "data": {
      "text/html": [
       "<div>\n",
       "<style scoped>\n",
       "    .dataframe tbody tr th:only-of-type {\n",
       "        vertical-align: middle;\n",
       "    }\n",
       "\n",
       "    .dataframe tbody tr th {\n",
       "        vertical-align: top;\n",
       "    }\n",
       "\n",
       "    .dataframe thead th {\n",
       "        text-align: right;\n",
       "    }\n",
       "</style>\n",
       "<table border=\"1\" class=\"dataframe\">\n",
       "  <thead>\n",
       "    <tr style=\"text-align: right;\">\n",
       "      <th></th>\n",
       "      <th>Organization</th>\n",
       "      <th>Order #</th>\n",
       "      <th>Order Date</th>\n",
       "      <th>Salesman</th>\n",
       "      <th>Order Summary</th>\n",
       "      <th>Type</th>\n",
       "      <th>Term</th>\n",
       "      <th>Datacenter</th>\n",
       "      <th>payout</th>\n",
       "      <th>MRR</th>\n",
       "      <th>Service Type</th>\n",
       "    </tr>\n",
       "  </thead>\n",
       "  <tbody>\n",
       "    <tr>\n",
       "      <th>0</th>\n",
       "      <td>ADP</td>\n",
       "      <td>62450</td>\n",
       "      <td>2022-08-02 18:25:06.877</td>\n",
       "      <td>Paul Attallah</td>\n",
       "      <td>Cross Connect : CAT6E</td>\n",
       "      <td>New</td>\n",
       "      <td>12.0</td>\n",
       "      <td>SAN1</td>\n",
       "      <td>100.0</td>\n",
       "      <td>100.0</td>\n",
       "      <td>xConnect</td>\n",
       "    </tr>\n",
       "  </tbody>\n",
       "</table>\n",
       "</div>"
      ],
      "text/plain": [
       "  Organization Order #              Order Date        Salesman  \\\n",
       "0          ADP   62450 2022-08-02 18:25:06.877  Paul Attallah    \n",
       "\n",
       "           Order Summary Type  Term Datacenter  payout    MRR Service Type  \n",
       "0  Cross Connect : CAT6E  New  12.0       SAN1   100.0  100.0     xConnect  "
      ]
     },
     "execution_count": 4,
     "metadata": {},
     "output_type": "execute_result"
    }
   ],
   "source": [
    "ep1.head(1)"
   ]
  },
  {
   "cell_type": "code",
   "execution_count": 5,
   "id": "9649a6cd-4603-4769-a831-afe79f745026",
   "metadata": {},
   "outputs": [
    {
     "data": {
      "text/plain": [
       "Index(['Organization', 'Order #', 'Order Date', 'Salesman', 'Order Summary',\n",
       "       'Type', 'Term', 'Datacenter', 'payout', 'MRR', 'Service Type'],\n",
       "      dtype='object')"
      ]
     },
     "execution_count": 5,
     "metadata": {},
     "output_type": "execute_result"
    }
   ],
   "source": [
    "ep1.columns"
   ]
  },
  {
   "cell_type": "code",
   "execution_count": 6,
   "id": "e121fa86-0785-4cf1-90ae-0fc5a2abe039",
   "metadata": {},
   "outputs": [
    {
     "data": {
      "text/plain": [
       "Organization             object\n",
       "Order #                  object\n",
       "Order Date       datetime64[ns]\n",
       "Salesman                 object\n",
       "Order Summary            object\n",
       "Type                     object\n",
       "Term                    float64\n",
       "Datacenter               object\n",
       "payout                  float64\n",
       "MRR                     float64\n",
       "Service Type             object\n",
       "dtype: object"
      ]
     },
     "execution_count": 6,
     "metadata": {},
     "output_type": "execute_result"
    }
   ],
   "source": [
    "ep1.dtypes"
   ]
  },
  {
   "cell_type": "markdown",
   "id": "815d4601-234c-47d6-b9e8-7f00a195b82e",
   "metadata": {
    "tags": []
   },
   "source": [
    "#### Clean Data"
   ]
  },
  {
   "cell_type": "code",
   "execution_count": 7,
   "id": "a4740fe4-8033-43cc-bc33-f9a2f70c640e",
   "metadata": {},
   "outputs": [
    {
     "data": {
      "text/html": [
       "<div>\n",
       "<style scoped>\n",
       "    .dataframe tbody tr th:only-of-type {\n",
       "        vertical-align: middle;\n",
       "    }\n",
       "\n",
       "    .dataframe tbody tr th {\n",
       "        vertical-align: top;\n",
       "    }\n",
       "\n",
       "    .dataframe thead th {\n",
       "        text-align: right;\n",
       "    }\n",
       "</style>\n",
       "<table border=\"1\" class=\"dataframe\">\n",
       "  <thead>\n",
       "    <tr style=\"text-align: right;\">\n",
       "      <th></th>\n",
       "      <th>Organization</th>\n",
       "      <th>Order #</th>\n",
       "      <th>Order Date</th>\n",
       "      <th>Salesman</th>\n",
       "      <th>Order Summary</th>\n",
       "      <th>Type</th>\n",
       "      <th>Term</th>\n",
       "      <th>Datacenter</th>\n",
       "      <th>payout</th>\n",
       "      <th>MRR</th>\n",
       "      <th>Service Type</th>\n",
       "    </tr>\n",
       "  </thead>\n",
       "  <tbody>\n",
       "    <tr>\n",
       "      <th>0</th>\n",
       "      <td>ADP</td>\n",
       "      <td>62450</td>\n",
       "      <td>2022-08-02 18:25:06.877</td>\n",
       "      <td>Paul Attallah</td>\n",
       "      <td>Cross Connect : CAT6E</td>\n",
       "      <td>New</td>\n",
       "      <td>12.0</td>\n",
       "      <td>SAN1</td>\n",
       "      <td>100.0</td>\n",
       "      <td>100.0</td>\n",
       "      <td>xConnect</td>\n",
       "    </tr>\n",
       "    <tr>\n",
       "      <th>1</th>\n",
       "      <td>ADP</td>\n",
       "      <td>65630</td>\n",
       "      <td>2022-08-25 14:02:22.043</td>\n",
       "      <td>Paul Attallah</td>\n",
       "      <td>Cross Connect : CAT6E</td>\n",
       "      <td>Change Order</td>\n",
       "      <td>12.0</td>\n",
       "      <td>SAN1</td>\n",
       "      <td>-100.0</td>\n",
       "      <td>-100.0</td>\n",
       "      <td>xConnect</td>\n",
       "    </tr>\n",
       "    <tr>\n",
       "      <th>2</th>\n",
       "      <td>ADP</td>\n",
       "      <td>65630</td>\n",
       "      <td>2022-08-25 14:02:22.043</td>\n",
       "      <td>Paul Attallah</td>\n",
       "      <td>Cross Connect : SMF</td>\n",
       "      <td>Change Order</td>\n",
       "      <td>12.0</td>\n",
       "      <td>SAN1</td>\n",
       "      <td>200.0</td>\n",
       "      <td>200.0</td>\n",
       "      <td>xConnect</td>\n",
       "    </tr>\n",
       "    <tr>\n",
       "      <th>3</th>\n",
       "      <td>AEG Vision</td>\n",
       "      <td>65793</td>\n",
       "      <td>2022-08-18 17:52:20.030</td>\n",
       "      <td>Mark McCants</td>\n",
       "      <td>Cross Connect : SMF</td>\n",
       "      <td>Agent - Existing</td>\n",
       "      <td>27.0</td>\n",
       "      <td>DFW3</td>\n",
       "      <td>100.0</td>\n",
       "      <td>100.0</td>\n",
       "      <td>xConnect</td>\n",
       "    </tr>\n",
       "    <tr>\n",
       "      <th>4</th>\n",
       "      <td>Afiniti Inc.</td>\n",
       "      <td>65824</td>\n",
       "      <td>2022-08-31 14:08:54.787</td>\n",
       "      <td>Phillip Berta</td>\n",
       "      <td>Cross Connect : SMF</td>\n",
       "      <td>New</td>\n",
       "      <td>13.0</td>\n",
       "      <td>IAD1</td>\n",
       "      <td>200.0</td>\n",
       "      <td>200.0</td>\n",
       "      <td>xConnect</td>\n",
       "    </tr>\n",
       "  </tbody>\n",
       "</table>\n",
       "</div>"
      ],
      "text/plain": [
       "   Organization Order #              Order Date        Salesman  \\\n",
       "0           ADP   62450 2022-08-02 18:25:06.877  Paul Attallah    \n",
       "1           ADP   65630 2022-08-25 14:02:22.043  Paul Attallah    \n",
       "2           ADP   65630 2022-08-25 14:02:22.043  Paul Attallah    \n",
       "3    AEG Vision   65793 2022-08-18 17:52:20.030    Mark McCants   \n",
       "4  Afiniti Inc.   65824 2022-08-31 14:08:54.787   Phillip Berta   \n",
       "\n",
       "           Order Summary              Type  Term Datacenter  payout    MRR  \\\n",
       "0  Cross Connect : CAT6E               New  12.0       SAN1   100.0  100.0   \n",
       "1  Cross Connect : CAT6E      Change Order  12.0       SAN1  -100.0 -100.0   \n",
       "2    Cross Connect : SMF      Change Order  12.0       SAN1   200.0  200.0   \n",
       "3    Cross Connect : SMF  Agent - Existing  27.0       DFW3   100.0  100.0   \n",
       "4    Cross Connect : SMF               New  13.0       IAD1   200.0  200.0   \n",
       "\n",
       "  Service Type  \n",
       "0     xConnect  \n",
       "1     xConnect  \n",
       "2     xConnect  \n",
       "3     xConnect  \n",
       "4     xConnect  "
      ]
     },
     "execution_count": 7,
     "metadata": {},
     "output_type": "execute_result"
    }
   ],
   "source": [
    "ep1.head()"
   ]
  },
  {
   "cell_type": "code",
   "execution_count": 8,
   "id": "396351e7-e200-4907-806a-0454f438c39f",
   "metadata": {},
   "outputs": [],
   "source": [
    "dc_services = pd.DataFrame({'Space': [.7, .8, 1.0,1.1, 1.3,1.5],\n",
    "                   'Power': [.7, .8, 1.0,1.1, 1.3,1.5],\n",
    "                   'xConnect': [.7, .8, 1.0, 1.1, 1.3,1.5]})\n",
    "dc_services.set_index(['Space','Power','xConnect']).T\n",
    "dc_services.index= ['1','2','3','4','5','7']\n",
    "dc_services = dc_services.T\n"
   ]
  },
  {
   "cell_type": "code",
   "execution_count": 9,
   "id": "771d4c0a-51cc-459c-9fd3-5b7013a28cff",
   "metadata": {},
   "outputs": [
    {
     "data": {
      "text/html": [
       "<div>\n",
       "<style scoped>\n",
       "    .dataframe tbody tr th:only-of-type {\n",
       "        vertical-align: middle;\n",
       "    }\n",
       "\n",
       "    .dataframe tbody tr th {\n",
       "        vertical-align: top;\n",
       "    }\n",
       "\n",
       "    .dataframe thead th {\n",
       "        text-align: right;\n",
       "    }\n",
       "</style>\n",
       "<table border=\"1\" class=\"dataframe\">\n",
       "  <thead>\n",
       "    <tr style=\"text-align: right;\">\n",
       "      <th></th>\n",
       "      <th>1</th>\n",
       "      <th>2</th>\n",
       "      <th>3</th>\n",
       "      <th>4</th>\n",
       "      <th>5</th>\n",
       "      <th>7</th>\n",
       "    </tr>\n",
       "  </thead>\n",
       "  <tbody>\n",
       "    <tr>\n",
       "      <th>Space</th>\n",
       "      <td>0.7</td>\n",
       "      <td>0.8</td>\n",
       "      <td>1.0</td>\n",
       "      <td>1.1</td>\n",
       "      <td>1.3</td>\n",
       "      <td>1.5</td>\n",
       "    </tr>\n",
       "    <tr>\n",
       "      <th>Power</th>\n",
       "      <td>0.7</td>\n",
       "      <td>0.8</td>\n",
       "      <td>1.0</td>\n",
       "      <td>1.1</td>\n",
       "      <td>1.3</td>\n",
       "      <td>1.5</td>\n",
       "    </tr>\n",
       "    <tr>\n",
       "      <th>xConnect</th>\n",
       "      <td>0.7</td>\n",
       "      <td>0.8</td>\n",
       "      <td>1.0</td>\n",
       "      <td>1.1</td>\n",
       "      <td>1.3</td>\n",
       "      <td>1.5</td>\n",
       "    </tr>\n",
       "  </tbody>\n",
       "</table>\n",
       "</div>"
      ],
      "text/plain": [
       "            1    2    3    4    5    7\n",
       "Space     0.7  0.8  1.0  1.1  1.3  1.5\n",
       "Power     0.7  0.8  1.0  1.1  1.3  1.5\n",
       "xConnect  0.7  0.8  1.0  1.1  1.3  1.5"
      ]
     },
     "execution_count": 9,
     "metadata": {},
     "output_type": "execute_result"
    }
   ],
   "source": [
    "dc_services"
   ]
  },
  {
   "cell_type": "code",
   "execution_count": 10,
   "id": "2010f681-5800-4d54-9a46-b17b6eed3495",
   "metadata": {},
   "outputs": [],
   "source": [
    "cloud_ms = pd.DataFrame({'Cloud': [.8, .9, 1.0, 1.3, 1.5,1.5],\n",
    "                   'Managed Services': [.8, .9, 1.0, 1.3, 1.5,1.5],\n",
    "                   'Software': [0,0,0,0,0,0]})\n",
    "cloud_ms.set_index(['Cloud','Managed Services','Software']).T\n",
    "cloud_ms.index= ['1','2','3','4','5','7']\n",
    "cloud_ms = cloud_ms.T"
   ]
  },
  {
   "cell_type": "code",
   "execution_count": 11,
   "id": "faa2fe0d-e45b-4793-9784-b5a365a3ae96",
   "metadata": {},
   "outputs": [
    {
     "data": {
      "text/html": [
       "<div>\n",
       "<style scoped>\n",
       "    .dataframe tbody tr th:only-of-type {\n",
       "        vertical-align: middle;\n",
       "    }\n",
       "\n",
       "    .dataframe tbody tr th {\n",
       "        vertical-align: top;\n",
       "    }\n",
       "\n",
       "    .dataframe thead th {\n",
       "        text-align: right;\n",
       "    }\n",
       "</style>\n",
       "<table border=\"1\" class=\"dataframe\">\n",
       "  <thead>\n",
       "    <tr style=\"text-align: right;\">\n",
       "      <th></th>\n",
       "      <th>1</th>\n",
       "      <th>2</th>\n",
       "      <th>3</th>\n",
       "      <th>4</th>\n",
       "      <th>5</th>\n",
       "      <th>7</th>\n",
       "    </tr>\n",
       "  </thead>\n",
       "  <tbody>\n",
       "    <tr>\n",
       "      <th>Cloud</th>\n",
       "      <td>0.8</td>\n",
       "      <td>0.9</td>\n",
       "      <td>1.0</td>\n",
       "      <td>1.3</td>\n",
       "      <td>1.5</td>\n",
       "      <td>1.5</td>\n",
       "    </tr>\n",
       "    <tr>\n",
       "      <th>Managed Services</th>\n",
       "      <td>0.8</td>\n",
       "      <td>0.9</td>\n",
       "      <td>1.0</td>\n",
       "      <td>1.3</td>\n",
       "      <td>1.5</td>\n",
       "      <td>1.5</td>\n",
       "    </tr>\n",
       "    <tr>\n",
       "      <th>Software</th>\n",
       "      <td>0.0</td>\n",
       "      <td>0.0</td>\n",
       "      <td>0.0</td>\n",
       "      <td>0.0</td>\n",
       "      <td>0.0</td>\n",
       "      <td>0.0</td>\n",
       "    </tr>\n",
       "  </tbody>\n",
       "</table>\n",
       "</div>"
      ],
      "text/plain": [
       "                    1    2    3    4    5    7\n",
       "Cloud             0.8  0.9  1.0  1.3  1.5  1.5\n",
       "Managed Services  0.8  0.9  1.0  1.3  1.5  1.5\n",
       "Software          0.0  0.0  0.0  0.0  0.0  0.0"
      ]
     },
     "execution_count": 11,
     "metadata": {},
     "output_type": "execute_result"
    }
   ],
   "source": [
    "cloud_ms"
   ]
  },
  {
   "cell_type": "code",
   "execution_count": 12,
   "id": "c59636a3-d9c4-4864-a8cb-32f85d1a84ef",
   "metadata": {},
   "outputs": [],
   "source": [
    "connect_services= pd.DataFrame({'Internet': [.7, .8, 1.0,1.0, 1.2,1.5],\n",
    "                   'inter-PoP MPLS': [.7, .8, 1.0,1.0, 1.2,1.5],\n",
    "                   'Resale Telco / IP': [0,0,0,0,0,0]})\n",
    "connect_services.set_index(['Internet','inter-PoP MPLS','Resale Telco / IP']).T\n",
    "connect_services.index= ['1','2','3','4','5','7']\n",
    "connect_services = connect_services.T"
   ]
  },
  {
   "cell_type": "code",
   "execution_count": 13,
   "id": "52f7eb94-7044-4c74-9fc9-edc76b00a1f4",
   "metadata": {},
   "outputs": [
    {
     "data": {
      "text/html": [
       "<div>\n",
       "<style scoped>\n",
       "    .dataframe tbody tr th:only-of-type {\n",
       "        vertical-align: middle;\n",
       "    }\n",
       "\n",
       "    .dataframe tbody tr th {\n",
       "        vertical-align: top;\n",
       "    }\n",
       "\n",
       "    .dataframe thead th {\n",
       "        text-align: right;\n",
       "    }\n",
       "</style>\n",
       "<table border=\"1\" class=\"dataframe\">\n",
       "  <thead>\n",
       "    <tr style=\"text-align: right;\">\n",
       "      <th></th>\n",
       "      <th>1</th>\n",
       "      <th>2</th>\n",
       "      <th>3</th>\n",
       "      <th>4</th>\n",
       "      <th>5</th>\n",
       "      <th>7</th>\n",
       "    </tr>\n",
       "  </thead>\n",
       "  <tbody>\n",
       "    <tr>\n",
       "      <th>Internet</th>\n",
       "      <td>0.7</td>\n",
       "      <td>0.8</td>\n",
       "      <td>1.0</td>\n",
       "      <td>1.0</td>\n",
       "      <td>1.2</td>\n",
       "      <td>1.5</td>\n",
       "    </tr>\n",
       "    <tr>\n",
       "      <th>inter-PoP MPLS</th>\n",
       "      <td>0.7</td>\n",
       "      <td>0.8</td>\n",
       "      <td>1.0</td>\n",
       "      <td>1.0</td>\n",
       "      <td>1.2</td>\n",
       "      <td>1.5</td>\n",
       "    </tr>\n",
       "    <tr>\n",
       "      <th>Resale Telco / IP</th>\n",
       "      <td>0.0</td>\n",
       "      <td>0.0</td>\n",
       "      <td>0.0</td>\n",
       "      <td>0.0</td>\n",
       "      <td>0.0</td>\n",
       "      <td>0.0</td>\n",
       "    </tr>\n",
       "  </tbody>\n",
       "</table>\n",
       "</div>"
      ],
      "text/plain": [
       "                     1    2    3    4    5    7\n",
       "Internet           0.7  0.8  1.0  1.0  1.2  1.5\n",
       "inter-PoP MPLS     0.7  0.8  1.0  1.0  1.2  1.5\n",
       "Resale Telco / IP  0.0  0.0  0.0  0.0  0.0  0.0"
      ]
     },
     "execution_count": 13,
     "metadata": {},
     "output_type": "execute_result"
    }
   ],
   "source": [
    "connect_services"
   ]
  },
  {
   "cell_type": "code",
   "execution_count": 14,
   "id": "98f777a2-861e-4070-9fa5-be04101d3927",
   "metadata": {},
   "outputs": [],
   "source": [
    "matrix = [dc_services,cloud_ms,connect_services]"
   ]
  },
  {
   "cell_type": "code",
   "execution_count": 15,
   "id": "2c4171bd-1455-4af9-88bf-ad847aef3f1b",
   "metadata": {},
   "outputs": [],
   "source": [
    "pmatrix = pd.concat(matrix)"
   ]
  },
  {
   "cell_type": "code",
   "execution_count": 16,
   "id": "b7385b0d-9bf5-480b-ace8-23dd70d5591b",
   "metadata": {},
   "outputs": [
    {
     "data": {
      "text/html": [
       "<div>\n",
       "<style scoped>\n",
       "    .dataframe tbody tr th:only-of-type {\n",
       "        vertical-align: middle;\n",
       "    }\n",
       "\n",
       "    .dataframe tbody tr th {\n",
       "        vertical-align: top;\n",
       "    }\n",
       "\n",
       "    .dataframe thead th {\n",
       "        text-align: right;\n",
       "    }\n",
       "</style>\n",
       "<table border=\"1\" class=\"dataframe\">\n",
       "  <thead>\n",
       "    <tr style=\"text-align: right;\">\n",
       "      <th></th>\n",
       "      <th>1</th>\n",
       "      <th>2</th>\n",
       "      <th>3</th>\n",
       "      <th>4</th>\n",
       "      <th>5</th>\n",
       "      <th>7</th>\n",
       "    </tr>\n",
       "  </thead>\n",
       "  <tbody>\n",
       "    <tr>\n",
       "      <th>Space</th>\n",
       "      <td>0.7</td>\n",
       "      <td>0.8</td>\n",
       "      <td>1.0</td>\n",
       "      <td>1.1</td>\n",
       "      <td>1.3</td>\n",
       "      <td>1.5</td>\n",
       "    </tr>\n",
       "    <tr>\n",
       "      <th>Power</th>\n",
       "      <td>0.7</td>\n",
       "      <td>0.8</td>\n",
       "      <td>1.0</td>\n",
       "      <td>1.1</td>\n",
       "      <td>1.3</td>\n",
       "      <td>1.5</td>\n",
       "    </tr>\n",
       "    <tr>\n",
       "      <th>xConnect</th>\n",
       "      <td>0.7</td>\n",
       "      <td>0.8</td>\n",
       "      <td>1.0</td>\n",
       "      <td>1.1</td>\n",
       "      <td>1.3</td>\n",
       "      <td>1.5</td>\n",
       "    </tr>\n",
       "    <tr>\n",
       "      <th>Cloud</th>\n",
       "      <td>0.8</td>\n",
       "      <td>0.9</td>\n",
       "      <td>1.0</td>\n",
       "      <td>1.3</td>\n",
       "      <td>1.5</td>\n",
       "      <td>1.5</td>\n",
       "    </tr>\n",
       "    <tr>\n",
       "      <th>Managed Services</th>\n",
       "      <td>0.8</td>\n",
       "      <td>0.9</td>\n",
       "      <td>1.0</td>\n",
       "      <td>1.3</td>\n",
       "      <td>1.5</td>\n",
       "      <td>1.5</td>\n",
       "    </tr>\n",
       "    <tr>\n",
       "      <th>Software</th>\n",
       "      <td>0.0</td>\n",
       "      <td>0.0</td>\n",
       "      <td>0.0</td>\n",
       "      <td>0.0</td>\n",
       "      <td>0.0</td>\n",
       "      <td>0.0</td>\n",
       "    </tr>\n",
       "    <tr>\n",
       "      <th>Internet</th>\n",
       "      <td>0.7</td>\n",
       "      <td>0.8</td>\n",
       "      <td>1.0</td>\n",
       "      <td>1.0</td>\n",
       "      <td>1.2</td>\n",
       "      <td>1.5</td>\n",
       "    </tr>\n",
       "    <tr>\n",
       "      <th>inter-PoP MPLS</th>\n",
       "      <td>0.7</td>\n",
       "      <td>0.8</td>\n",
       "      <td>1.0</td>\n",
       "      <td>1.0</td>\n",
       "      <td>1.2</td>\n",
       "      <td>1.5</td>\n",
       "    </tr>\n",
       "    <tr>\n",
       "      <th>Resale Telco / IP</th>\n",
       "      <td>0.0</td>\n",
       "      <td>0.0</td>\n",
       "      <td>0.0</td>\n",
       "      <td>0.0</td>\n",
       "      <td>0.0</td>\n",
       "      <td>0.0</td>\n",
       "    </tr>\n",
       "  </tbody>\n",
       "</table>\n",
       "</div>"
      ],
      "text/plain": [
       "                     1    2    3    4    5    7\n",
       "Space              0.7  0.8  1.0  1.1  1.3  1.5\n",
       "Power              0.7  0.8  1.0  1.1  1.3  1.5\n",
       "xConnect           0.7  0.8  1.0  1.1  1.3  1.5\n",
       "Cloud              0.8  0.9  1.0  1.3  1.5  1.5\n",
       "Managed Services   0.8  0.9  1.0  1.3  1.5  1.5\n",
       "Software           0.0  0.0  0.0  0.0  0.0  0.0\n",
       "Internet           0.7  0.8  1.0  1.0  1.2  1.5\n",
       "inter-PoP MPLS     0.7  0.8  1.0  1.0  1.2  1.5\n",
       "Resale Telco / IP  0.0  0.0  0.0  0.0  0.0  0.0"
      ]
     },
     "execution_count": 16,
     "metadata": {},
     "output_type": "execute_result"
    }
   ],
   "source": [
    "pmatrix"
   ]
  },
  {
   "cell_type": "code",
   "execution_count": 17,
   "id": "3a5ec586-26b3-4e2d-9787-cc5cfb250b23",
   "metadata": {},
   "outputs": [],
   "source": [
    "#if data in ep1[ep1['Term']] <= 12\n"
   ]
  },
  {
   "cell_type": "code",
   "execution_count": 18,
   "id": "a2677220-817b-41e3-83b8-02f91eec19bc",
   "metadata": {},
   "outputs": [
    {
     "name": "stdin",
     "output_type": "stream",
     "text": [
      "Is this a quarterly y\n"
     ]
    }
   ],
   "source": [
    "# y or n only\n",
    "qqq = input('Is this a quarterly')\n",
    "\n",
    "    \n",
    "    "
   ]
  },
  {
   "cell_type": "code",
   "execution_count": 19,
   "id": "6ae29f0a-7580-40d8-8a95-21d80cadc22c",
   "metadata": {},
   "outputs": [],
   "source": [
    "odaine_hudson= ep1[ep1['Salesman'] == 'Odaine Hudson']\n",
    "andrew_lewis = ep1[ep1['Salesman'] == 'Andrew Lewis']\n",
    "andrew_ramirez= ep1[ep1['Salesman'] == 'Andrew Ramirez']\n",
    "angela_rogalski = ep1[ep1['Salesman'] == 'Angela Rogalski']\n",
    "ashley_waller = ep1[ep1['Salesman'] == 'Ashley Waller ']\n",
    "bernard_petfield = ep1[ep1['Salesman'] == 'Bernard Petfield']\n",
    "#Bond, Clint = ep1[ep1['Salesman'] == 'Andrew Lewis']\n",
    "carlie_matel = ep1[ep1['Salesman'] == 'Carlie Matel']\n",
    "#Clary, Rob = ep1[ep1['Salesman'] == 'Andrew Lewis']\n",
    "dan_ephraim= ep1[ep1['Salesman'] == 'Andrew Lewis']\n",
    "daniel_smith= ep1[ep1['Salesman'] == 'Andrew Lewis']\n",
    "dennis_wilson = ep1[ep1['Salesman'] == 'pancake']\n",
    "#Glommen, Troy= ep1[ep1['Salesman'] == 'Andrew Lewis']\n",
    "#Haley, Richard= ep1[ep1['Salesman'] == 'Andrew Lewis']\n",
    "#Harter, Vicki= ep1[ep1['Salesman'] == 'Andrew Lewis']\n",
    "jacob_zupancic= ep1[ep1['Salesman'] == 'Andrew Lewis']\n",
    "Jeffrey_Reinis= ep1[ep1['Salesman'] == 'Andrew Lewis']\n",
    "Jennifer_Bowman= ep1[ep1['Salesman'] == 'Andrew Lewis']\n",
    "Jonathan_Malcolm= ep1[ep1['Salesman'] == 'Jonathan Malcolm']\n",
    "Kathy_Geiser= ep1[ep1['Salesman'] == 'Andrew Lewis']\n",
    "#Knox, Chelsea= ep1[ep1['Salesman'] == 'Andrew Lewis']\n",
    "#Knutson, Shawn= ep1[ep1['Salesman'] == 'Andrew Lewis']\n",
    "Krystin_Tagaris= ep1[ep1['Salesman'] == 'Andrew Lewis']\n",
    "#Lachance, Laura= ep1[ep1['Salesman'] == 'Andrew Lewis']\n",
    "Mark_McCants= ep1[ep1['Salesman'] == 'Andrew Lewis']\n",
    "Matt_Horne= ep1[ep1['Salesman'] == 'Andrew Lewis']\n",
    "#Meyer, Catherine= ep1[ep1['Salesman'] == 'Andrew Lewis']\n",
    "Michael_DeBetta= ep1[ep1['Salesman'] == 'Andrew Lewis']\n",
    "Michael_Murray= ep1[ep1['Salesman'] == 'Andrew Lewis']\n",
    "Michael_Skalitzky= ep1[ep1['Salesman'] == 'Andrew Lewis']\n",
    "Morgan_Martensen= ep1[ep1['Salesman'] == 'Andrew Lewis']\n",
    "natalie_farr= ep1[ep1['Salesman'] == 'Natalie Farr']\n",
    "#Padovano, Kathy= ep1[ep1['Salesman'] == 'Andrew Lewis']\n",
    "Patrick_Chapa= ep1[ep1['Salesman'] == 'Andrew Lewis']\n",
    "#Peckham, Kim= ep1[ep1['Salesman'] == 'Andrew Lewis']\n",
    "#Perry, Ben= ep1[ep1['Salesman'] == 'Andrew Lewis']\n",
    "Phillip_Berta= ep1[ep1['Salesman'] == 'Andrew Lewis']\n",
    "RJ_Thibodeau= ep1[ep1['Salesman'] == 'Andrew Lewis']\n",
    "Rebecca_Shaffer= ep1[ep1['Salesman'] == 'Andrew Lewis']\n",
    "Robert_Doretti= ep1[ep1['Salesman'] == 'Andrew Lewis']\n",
    "Ronald_Heltemes= ep1[ep1['Salesman'] == 'Andrew Lewis']\n",
    "Samuel_Mickler= ep1[ep1['Salesman'] == 'Andrew Lewis']\n",
    "Scott_Palsgrove= ep1[ep1['Salesman'] == 'Andrew Lewis']\n",
    "Shelby_Locklear= ep1[ep1['Salesman'] == 'Andrew Lewis']\n",
    "#Smithwick, Keisha= ep1[ep1['Salesman'] == 'Andrew Lewis']\n",
    "Stephanie_Leyva= ep1[ep1['Salesman'] == 'Andrew Lewis']\n",
    "Stephen_Muoio = ep1[ep1['Salesman'] == 'Andrew Lewis']\n",
    "Tiffany_Dunson= ep1[ep1['Salesman'] == 'Andrew Lewis']\n",
    "Tim_Langan = ep1[ep1['Salesman'] == 'Andrew Lewis']\n",
    "Trey_Hardeman = ep1[ep1['Salesman'] == 'Andrew Lewis']\n",
    "#Wallace, Denise = ep1[ep1['Salesman'] == 'Andrew Lewis']"
   ]
  },
  {
   "cell_type": "markdown",
   "id": "8fea979d-9c6b-4baf-8218-2a0c4053844c",
   "metadata": {
    "tags": []
   },
   "source": [
    "### AMW"
   ]
  },
  {
   "cell_type": "markdown",
   "id": "0d13edc9-70ad-4c14-b03e-8698f722eb22",
   "metadata": {
    "jp-MarkdownHeadingCollapsed": true,
    "tags": []
   },
   "source": [
    "#### Oladine Hudson"
   ]
  },
  {
   "cell_type": "code",
   "execution_count": 52,
   "id": "0f3074e1-4303-4e31-81ac-2091cfb3fe7d",
   "metadata": {
    "tags": []
   },
   "outputs": [
    {
     "data": {
      "text/plain": [
       "680.0"
      ]
     },
     "execution_count": 52,
     "metadata": {},
     "output_type": "execute_result"
    }
   ],
   "source": [
    "(odaine_hudson['payout'].sum())"
   ]
  },
  {
   "cell_type": "code",
   "execution_count": 53,
   "id": "a992c943-9153-47ef-9505-007e2d99490b",
   "metadata": {},
   "outputs": [],
   "source": [
    "odaine_hudson.loc[odaine_hudson['Datacenter'].isin(['ATL2','ACT1','AUS1','CLE1','DEN1','DEN4','DFW1','DFW2','DFW6','DFW7','EWR2','IAD2','KC2','MEM1','MSP1','LHR1','ORD2','ORD3','PHX1','SEA2','SLC1','SLC2']), 'payout'] *= .75\n",
    "odaine_hudson.loc[odaine_hudson['Datacenter'].isin(['ATL1', 'ATL3', 'BOS1', 'BWI1', 'DEN2', 'DEN3', 'DFW3','DFW4', 'DFW5','EWR1','IAD1','IND1','IND2','LAS1','LAX1','LGA1','LGA2','MCI1','MCI2','MCI3','MIA1','MSP2','MSP3','MSP4','ORD1','ORD4','PHL1','PHX2','PHX3','PIT1','PIT2','SAN1','SAN2','SEA1','SFO1','SLC3','SLC4','SLC5','SNA1','SNA2','PAR1','PAR2','PAR3','MPL1','TLS1']), 'payout'] *= .5"
   ]
  },
  {
   "cell_type": "code",
   "execution_count": 54,
   "id": "0bbe64ff-3f62-4593-9576-a04f92971ff1",
   "metadata": {},
   "outputs": [
    {
     "data": {
      "text/html": [
       "<div>\n",
       "<style scoped>\n",
       "    .dataframe tbody tr th:only-of-type {\n",
       "        vertical-align: middle;\n",
       "    }\n",
       "\n",
       "    .dataframe tbody tr th {\n",
       "        vertical-align: top;\n",
       "    }\n",
       "\n",
       "    .dataframe thead th {\n",
       "        text-align: right;\n",
       "    }\n",
       "</style>\n",
       "<table border=\"1\" class=\"dataframe\">\n",
       "  <thead>\n",
       "    <tr style=\"text-align: right;\">\n",
       "      <th></th>\n",
       "      <th>Organization</th>\n",
       "      <th>Order #</th>\n",
       "      <th>Order Date</th>\n",
       "      <th>Salesman</th>\n",
       "      <th>Order Summary</th>\n",
       "      <th>Type</th>\n",
       "      <th>Term</th>\n",
       "      <th>Datacenter</th>\n",
       "      <th>payout</th>\n",
       "      <th>MRR</th>\n",
       "      <th>Service Type</th>\n",
       "    </tr>\n",
       "  </thead>\n",
       "  <tbody>\n",
       "    <tr>\n",
       "      <th>630</th>\n",
       "      <td>Cobius Healthcare Solutions</td>\n",
       "      <td>66502</td>\n",
       "      <td>2022-08-31 12:00:10.417</td>\n",
       "      <td>Odaine Hudson</td>\n",
       "      <td>Cross Connect : CAT6E</td>\n",
       "      <td>New</td>\n",
       "      <td>19.0</td>\n",
       "      <td>ORD4</td>\n",
       "      <td>82.5</td>\n",
       "      <td>165.0</td>\n",
       "      <td>xConnect</td>\n",
       "    </tr>\n",
       "    <tr>\n",
       "      <th>631</th>\n",
       "      <td>Cobius Healthcare Solutions</td>\n",
       "      <td>66502</td>\n",
       "      <td>2022-08-31 12:00:10.417</td>\n",
       "      <td>Odaine Hudson</td>\n",
       "      <td>Cross Connect : CAT6E</td>\n",
       "      <td>New</td>\n",
       "      <td>19.0</td>\n",
       "      <td>ORD4</td>\n",
       "      <td>82.5</td>\n",
       "      <td>165.0</td>\n",
       "      <td>xConnect</td>\n",
       "    </tr>\n",
       "    <tr>\n",
       "      <th>1846</th>\n",
       "      <td>Kaiser Permanente - zColo</td>\n",
       "      <td>65733</td>\n",
       "      <td>2022-08-18 13:36:50.387</td>\n",
       "      <td>Odaine Hudson</td>\n",
       "      <td>Cross Connect : SMF</td>\n",
       "      <td>Change Order</td>\n",
       "      <td>12.0</td>\n",
       "      <td>ATL2</td>\n",
       "      <td>150.0</td>\n",
       "      <td>200.0</td>\n",
       "      <td>xConnect</td>\n",
       "    </tr>\n",
       "    <tr>\n",
       "      <th>2530</th>\n",
       "      <td>Protera Technologies</td>\n",
       "      <td>65328</td>\n",
       "      <td>2022-08-25 08:53:32.070</td>\n",
       "      <td>Odaine Hudson</td>\n",
       "      <td>Cross Connect : SMF</td>\n",
       "      <td>New</td>\n",
       "      <td>12.0</td>\n",
       "      <td>ORD4</td>\n",
       "      <td>37.5</td>\n",
       "      <td>75.0</td>\n",
       "      <td>xConnect</td>\n",
       "    </tr>\n",
       "    <tr>\n",
       "      <th>2531</th>\n",
       "      <td>Protera Technologies</td>\n",
       "      <td>65328</td>\n",
       "      <td>2022-08-25 08:53:32.070</td>\n",
       "      <td>Odaine Hudson</td>\n",
       "      <td>Cross Connect : SMF</td>\n",
       "      <td>New</td>\n",
       "      <td>12.0</td>\n",
       "      <td>ORD4</td>\n",
       "      <td>37.5</td>\n",
       "      <td>75.0</td>\n",
       "      <td>xConnect</td>\n",
       "    </tr>\n",
       "  </tbody>\n",
       "</table>\n",
       "</div>"
      ],
      "text/plain": [
       "                     Organization Order #              Order Date  \\\n",
       "630   Cobius Healthcare Solutions   66502 2022-08-31 12:00:10.417   \n",
       "631   Cobius Healthcare Solutions   66502 2022-08-31 12:00:10.417   \n",
       "1846    Kaiser Permanente - zColo   65733 2022-08-18 13:36:50.387   \n",
       "2530         Protera Technologies   65328 2022-08-25 08:53:32.070   \n",
       "2531         Protera Technologies   65328 2022-08-25 08:53:32.070   \n",
       "\n",
       "           Salesman          Order Summary          Type  Term Datacenter  \\\n",
       "630   Odaine Hudson  Cross Connect : CAT6E           New  19.0       ORD4   \n",
       "631   Odaine Hudson  Cross Connect : CAT6E           New  19.0       ORD4   \n",
       "1846  Odaine Hudson    Cross Connect : SMF  Change Order  12.0       ATL2   \n",
       "2530  Odaine Hudson    Cross Connect : SMF           New  12.0       ORD4   \n",
       "2531  Odaine Hudson    Cross Connect : SMF           New  12.0       ORD4   \n",
       "\n",
       "      payout    MRR Service Type  \n",
       "630     82.5  165.0     xConnect  \n",
       "631     82.5  165.0     xConnect  \n",
       "1846   150.0  200.0     xConnect  \n",
       "2530    37.5   75.0     xConnect  \n",
       "2531    37.5   75.0     xConnect  "
      ]
     },
     "execution_count": 54,
     "metadata": {},
     "output_type": "execute_result"
    }
   ],
   "source": [
    "odaine_hudson"
   ]
  },
  {
   "cell_type": "code",
   "execution_count": 29,
   "id": "b8529d1b-1eda-4bc9-9f57-871bfe23ddae",
   "metadata": {},
   "outputs": [],
   "source": [
    "#odaine_hudson.loc[odaine_hudson['Type'].isin(['New']), 'payout'] *= 1.75\n",
    "# if he gets new logo... Ask monte"
   ]
  },
  {
   "cell_type": "code",
   "execution_count": 25,
   "id": "7bf7fe26-4dc9-4727-a9e0-91c15ac870e2",
   "metadata": {},
   "outputs": [],
   "source": [
    "hudson = (odaine_hudson['payout'].sum())"
   ]
  },
  {
   "cell_type": "code",
   "execution_count": 26,
   "id": "9b43cf48-5f6c-4b26-84aa-579a8aad0c22",
   "metadata": {},
   "outputs": [],
   "source": [
    "odaine_hudson.loc[1111] = ['Comissions Payout:', hudson, '','','','','','','','','']\n"
   ]
  },
  {
   "cell_type": "code",
   "execution_count": 25,
   "id": "f6945092-174e-4fb1-a663-1008dd744f90",
   "metadata": {},
   "outputs": [],
   "source": [
    "if qqq == \"y\":\n",
    "    pass\n",
    "else:\n",
    "    pass\n",
    "    \n"
   ]
  },
  {
   "cell_type": "code",
   "execution_count": null,
   "id": "e3d30cdc-8656-467b-8df9-35dc08f8ddd6",
   "metadata": {},
   "outputs": [],
   "source": [
    "odaine_hudson.to_excel('../Output/Hudson.xlsx')"
   ]
  },
  {
   "cell_type": "markdown",
   "id": "65ee630e-1848-4ed2-ba6e-c37e788ba416",
   "metadata": {},
   "source": [
    "##### End Olidane Hudson"
   ]
  },
  {
   "cell_type": "markdown",
   "id": "20c3d2c8-0815-48dc-9141-1df9cbd0e7ec",
   "metadata": {
    "jp-MarkdownHeadingCollapsed": true,
    "tags": []
   },
   "source": [
    "#### Andrew Ramirez"
   ]
  },
  {
   "cell_type": "code",
   "execution_count": 21,
   "id": "dd89d78c-6938-4f75-97ec-42775afaf036",
   "metadata": {},
   "outputs": [],
   "source": [
    "andrew_ramirez = ep1[ep1['Salesman'] == 'Andrew Ramirez']"
   ]
  },
  {
   "cell_type": "code",
   "execution_count": 22,
   "id": "dca08d18-5101-4e6f-9580-80baac6d92ed",
   "metadata": {},
   "outputs": [
    {
     "data": {
      "text/plain": [
       "13109.350000000002"
      ]
     },
     "execution_count": 22,
     "metadata": {},
     "output_type": "execute_result"
    }
   ],
   "source": [
    "(andrew_ramirez['payout'].sum())"
   ]
  },
  {
   "cell_type": "code",
   "execution_count": 23,
   "id": "9f9ca737-7748-4951-8db6-0f608506e284",
   "metadata": {},
   "outputs": [],
   "source": [
    "andrew_ramirez.loc[andrew_ramirez['Datacenter'].isin(['ATL2','ACT1','AUS1','CLE1','DEN1','DEN4','DFW1','DFW2','DFW6','DFW7','EWR2','IAD2','KC2','MEM1','MSP1','LHR1','ORD2','ORD3','PHX1','SEA2','SLC1','SLC2']), 'payout'] *= .75\n",
    "andrew_ramirez.loc[andrew_ramirez['Datacenter'].isin(['ATL1', 'ATL3', 'BOS1', 'BWI1', 'DEN2', 'DEN3', 'DFW3','DFW4', 'DFW5','EWR1','IAD1','IND1','IND2','LAS1','LAX1','LGA1','LGA2','MCI1','MCI2','MCI3','MIA1','MSP2','MSP3','MSP4','ORD1','ORD4','PHL1','PHX2','PHX3','PIT1','PIT2','SAN1','SAN2','SEA1','SFO1','SLC3','SLC4','SLC5','SNA1','SNA2','PAR1','PAR2','PAR3','MPL1','TLS1']), 'payout'] *= .5"
   ]
  },
  {
   "cell_type": "code",
   "execution_count": 24,
   "id": "7ebea6b5-c636-4d22-8c78-98eb511e21b9",
   "metadata": {},
   "outputs": [],
   "source": [
    "#andrew_ramirez.loc[odaine_hudson['Type'].isin(['New']), 'payout'] *= 1.75"
   ]
  },
  {
   "cell_type": "code",
   "execution_count": 25,
   "id": "744a2d22-6f77-462c-874e-bd667cbf4aea",
   "metadata": {},
   "outputs": [
    {
     "data": {
      "text/html": [
       "<div>\n",
       "<style scoped>\n",
       "    .dataframe tbody tr th:only-of-type {\n",
       "        vertical-align: middle;\n",
       "    }\n",
       "\n",
       "    .dataframe tbody tr th {\n",
       "        vertical-align: top;\n",
       "    }\n",
       "\n",
       "    .dataframe thead th {\n",
       "        text-align: right;\n",
       "    }\n",
       "</style>\n",
       "<table border=\"1\" class=\"dataframe\">\n",
       "  <thead>\n",
       "    <tr style=\"text-align: right;\">\n",
       "      <th></th>\n",
       "      <th>Organization</th>\n",
       "      <th>Order #</th>\n",
       "      <th>Order Date</th>\n",
       "      <th>Salesman</th>\n",
       "      <th>Order Summary</th>\n",
       "      <th>Type</th>\n",
       "      <th>Term</th>\n",
       "      <th>Datacenter</th>\n",
       "      <th>payout</th>\n",
       "      <th>MRR</th>\n",
       "      <th>Service Type</th>\n",
       "    </tr>\n",
       "  </thead>\n",
       "  <tbody>\n",
       "    <tr>\n",
       "      <th>333</th>\n",
       "      <td>Axcient</td>\n",
       "      <td>62026</td>\n",
       "      <td>2022-08-09 15:39:25.980</td>\n",
       "      <td>Andrew Ramirez</td>\n",
       "      <td>Cross Connect : SMF</td>\n",
       "      <td>Change Order</td>\n",
       "      <td>21.0</td>\n",
       "      <td>ATL2</td>\n",
       "      <td>112.5</td>\n",
       "      <td>150.0</td>\n",
       "      <td>xConnect</td>\n",
       "    </tr>\n",
       "  </tbody>\n",
       "</table>\n",
       "</div>"
      ],
      "text/plain": [
       "    Organization Order #              Order Date        Salesman  \\\n",
       "333      Axcient   62026 2022-08-09 15:39:25.980  Andrew Ramirez   \n",
       "\n",
       "           Order Summary          Type  Term Datacenter  payout    MRR  \\\n",
       "333  Cross Connect : SMF  Change Order  21.0       ATL2   112.5  150.0   \n",
       "\n",
       "    Service Type  \n",
       "333     xConnect  "
      ]
     },
     "execution_count": 25,
     "metadata": {},
     "output_type": "execute_result"
    }
   ],
   "source": [
    "andrew_ramirez.head(1)"
   ]
  },
  {
   "cell_type": "code",
   "execution_count": 31,
   "id": "bf6ee9f6-47b9-4256-845e-38669f7eccbe",
   "metadata": {},
   "outputs": [],
   "source": [
    "ramirez = (andrew_ramirez['payout'].sum())"
   ]
  },
  {
   "cell_type": "code",
   "execution_count": null,
   "id": "9024128e-0736-4e8c-bf50-e3a873c66d13",
   "metadata": {},
   "outputs": [],
   "source": [
    "andrew_ramirez.loc[1111] = ['Comissions Payout:', ramirez, '','','','','','','','','']"
   ]
  },
  {
   "cell_type": "code",
   "execution_count": null,
   "id": "3ce068cf-c2ff-4743-9c0c-e6943c2c719e",
   "metadata": {},
   "outputs": [],
   "source": [
    "if qqq == \"y\":\n",
    "    pass\n",
    "else:\n",
    "    pass\n",
    "    "
   ]
  },
  {
   "cell_type": "code",
   "execution_count": null,
   "id": "e41cd9d3-f3fd-4514-9dca-19880890dd52",
   "metadata": {},
   "outputs": [],
   "source": [
    "andrew_ramirez.to_excel('Ramirez_September_2022.xlsx')"
   ]
  },
  {
   "cell_type": "markdown",
   "id": "46445460-813e-46ae-8c29-a028ecee3ece",
   "metadata": {
    "jp-MarkdownHeadingCollapsed": true,
    "tags": []
   },
   "source": [
    "#### Carlie Matel"
   ]
  },
  {
   "cell_type": "code",
   "execution_count": 27,
   "id": "93684f64-3931-4c71-8cdd-ab9167f1c541",
   "metadata": {},
   "outputs": [],
   "source": [
    "carlie_matel = ep1[ep1['Salesman'] == 'Carlie Matel']"
   ]
  },
  {
   "cell_type": "code",
   "execution_count": 28,
   "id": "e62a2496-a705-4e52-b9c3-773c163b910f",
   "metadata": {},
   "outputs": [
    {
     "data": {
      "text/plain": [
       "2696.928"
      ]
     },
     "execution_count": 28,
     "metadata": {},
     "output_type": "execute_result"
    }
   ],
   "source": [
    "(carlie_matel['payout'].sum())"
   ]
  },
  {
   "cell_type": "code",
   "execution_count": 29,
   "id": "15955918-d216-4690-ba90-9767169be131",
   "metadata": {},
   "outputs": [],
   "source": [
    "carlie_matel.loc[carlie_matel['Datacenter'].isin(['ATL2','ACT1','AUS1','CLE1','DEN1','DEN4','DFW1','DFW2','DFW6','DFW7','EWR2','IAD2','KC2','MEM1','MSP1','LHR1','ORD2','ORD3','PHX1','SEA2','SLC1','SLC2']), 'payout'] *= .75\n",
    "carlie_matel.loc[carlie_matel['Datacenter'].isin(['ATL1', 'ATL3', 'BOS1', 'BWI1', 'DEN2', 'DEN3', 'DFW3','DFW4', 'DFW5','EWR1','IAD1','IND1','IND2','LAS1','LAX1','LGA1','LGA2','MCI1','MCI2','MCI3','MIA1','MSP2','MSP3','MSP4','ORD1','ORD4','PHL1','PHX2','PHX3','PIT1','PIT2','SAN1','SAN2','SEA1','SFO1','SLC3','SLC4','SLC5','SNA1','SNA2','PAR1','PAR2','PAR3','MPL1','TLS1']), 'payout'] *= .5"
   ]
  },
  {
   "cell_type": "code",
   "execution_count": 24,
   "id": "d7495979-3861-4c40-b498-8dce44f5b272",
   "metadata": {},
   "outputs": [],
   "source": [
    "#carlie_matel.loc[odaine_hudson['Type'].isin(['New']), 'payout'] *= 1.75"
   ]
  },
  {
   "cell_type": "code",
   "execution_count": 25,
   "id": "71953b45-4534-4d5a-80d6-bbc5bd8935dc",
   "metadata": {},
   "outputs": [
    {
     "data": {
      "text/html": [
       "<div>\n",
       "<style scoped>\n",
       "    .dataframe tbody tr th:only-of-type {\n",
       "        vertical-align: middle;\n",
       "    }\n",
       "\n",
       "    .dataframe tbody tr th {\n",
       "        vertical-align: top;\n",
       "    }\n",
       "\n",
       "    .dataframe thead th {\n",
       "        text-align: right;\n",
       "    }\n",
       "</style>\n",
       "<table border=\"1\" class=\"dataframe\">\n",
       "  <thead>\n",
       "    <tr style=\"text-align: right;\">\n",
       "      <th></th>\n",
       "      <th>Organization</th>\n",
       "      <th>Order #</th>\n",
       "      <th>Order Date</th>\n",
       "      <th>Salesman</th>\n",
       "      <th>Order Summary</th>\n",
       "      <th>Type</th>\n",
       "      <th>Term</th>\n",
       "      <th>Datacenter</th>\n",
       "      <th>payout</th>\n",
       "      <th>MRR</th>\n",
       "      <th>Service Type</th>\n",
       "    </tr>\n",
       "  </thead>\n",
       "  <tbody>\n",
       "    <tr>\n",
       "      <th>333</th>\n",
       "      <td>Axcient</td>\n",
       "      <td>62026</td>\n",
       "      <td>2022-08-09 15:39:25.980</td>\n",
       "      <td>Andrew Ramirez</td>\n",
       "      <td>Cross Connect : SMF</td>\n",
       "      <td>Change Order</td>\n",
       "      <td>21.0</td>\n",
       "      <td>ATL2</td>\n",
       "      <td>112.5</td>\n",
       "      <td>150.0</td>\n",
       "      <td>xConnect</td>\n",
       "    </tr>\n",
       "  </tbody>\n",
       "</table>\n",
       "</div>"
      ],
      "text/plain": [
       "    Organization Order #              Order Date        Salesman  \\\n",
       "333      Axcient   62026 2022-08-09 15:39:25.980  Andrew Ramirez   \n",
       "\n",
       "           Order Summary          Type  Term Datacenter  payout    MRR  \\\n",
       "333  Cross Connect : SMF  Change Order  21.0       ATL2   112.5  150.0   \n",
       "\n",
       "    Service Type  \n",
       "333     xConnect  "
      ]
     },
     "execution_count": 25,
     "metadata": {},
     "output_type": "execute_result"
    }
   ],
   "source": [
    "carlie_matel.head(1)"
   ]
  },
  {
   "cell_type": "code",
   "execution_count": 30,
   "id": "32e627bb-bd58-4060-a7a5-75fb5c8d65fb",
   "metadata": {},
   "outputs": [],
   "source": [
    "matel = (carlie_matel['payout'].sum())"
   ]
  },
  {
   "cell_type": "code",
   "execution_count": null,
   "id": "4cf9e058-6bd5-4bb8-980a-a89ff310a25a",
   "metadata": {},
   "outputs": [],
   "source": [
    "carlie_matel.loc[1111] = ['Comissions Payout:', matel, '','','','','','','','','']"
   ]
  },
  {
   "cell_type": "code",
   "execution_count": null,
   "id": "06a27b95-3a23-4555-a3d8-55fd4afef496",
   "metadata": {},
   "outputs": [],
   "source": [
    "if qqq == \"y\":\n",
    "    pass\n",
    "else:\n",
    "    pass\n",
    "    "
   ]
  },
  {
   "cell_type": "code",
   "execution_count": null,
   "id": "308bb5cf-b9a1-4f96-99f3-474b3417ef60",
   "metadata": {},
   "outputs": [],
   "source": [
    "carlie_matel.to_excel('Matel_September_2022.xlsx')"
   ]
  },
  {
   "cell_type": "markdown",
   "id": "7e91f766-c124-4e85-b6e8-37768e682fef",
   "metadata": {
    "jp-MarkdownHeadingCollapsed": true,
    "tags": []
   },
   "source": [
    "#### Jonathan Malcolm"
   ]
  },
  {
   "cell_type": "code",
   "execution_count": null,
   "id": "203888ea-8854-4fd5-a83d-1522e851606a",
   "metadata": {},
   "outputs": [],
   "source": [
    "jonathan_malcolm = ep1[ep1['Salesman'] == 'Jonathan Malcolm']"
   ]
  },
  {
   "cell_type": "code",
   "execution_count": null,
   "id": "b31b09ae-df11-4869-8a32-607045b4aba9",
   "metadata": {},
   "outputs": [],
   "source": [
    "(jonathan_malcolm['payout'].sum())"
   ]
  },
  {
   "cell_type": "code",
   "execution_count": null,
   "id": "409192a3-2fb7-46cc-b1b2-03825f230006",
   "metadata": {},
   "outputs": [],
   "source": [
    "jonathan_malcolm.loc[jonathan_malcolm['Datacenter'].isin(['ATL2','ACT1','AUS1','CLE1','DEN1','DEN4','DFW1','DFW2','DFW6','DFW7','EWR2','IAD2','KC2','MEM1','MSP1','LHR1','ORD2','ORD3','PHX1','SEA2','SLC1','SLC2']), 'payout'] *= .75\n",
    "jonathan_malcolm.loc[jonathan_malcolm['Datacenter'].isin(['ATL1', 'ATL3', 'BOS1', 'BWI1', 'DEN2', 'DEN3', 'DFW3','DFW4', 'DFW5','EWR1','IAD1','IND1','IND2','LAS1','LAX1','LGA1','LGA2','MCI1','MCI2','MCI3','MIA1','MSP2','MSP3','MSP4','ORD1','ORD4','PHL1','PHX2','PHX3','PIT1','PIT2','SAN1','SAN2','SEA1','SFO1','SLC3','SLC4','SLC5','SNA1','SNA2','PAR1','PAR2','PAR3','MPL1','TLS1']), 'payout'] *= .5"
   ]
  },
  {
   "cell_type": "code",
   "execution_count": null,
   "id": "642ba543-686e-4147-a815-eb821d16fa15",
   "metadata": {},
   "outputs": [],
   "source": [
    "#andrew_ramirez.loc[odaine_hudson['Type'].isin(['New']), 'payout'] *= .75"
   ]
  },
  {
   "cell_type": "code",
   "execution_count": null,
   "id": "3bbfe220-e76b-4416-8982-c79e812ed583",
   "metadata": {},
   "outputs": [],
   "source": [
    "malcolm = (jonathan_malcolm['payout'].sum())"
   ]
  },
  {
   "cell_type": "code",
   "execution_count": null,
   "id": "9231f15e-4c2c-4116-92b4-b2969a014dc6",
   "metadata": {},
   "outputs": [],
   "source": [
    "if qqq == \"y\":\n",
    "    pass\n",
    "else:\n",
    "    pass\n",
    "    "
   ]
  },
  {
   "cell_type": "code",
   "execution_count": null,
   "id": "adc62d4f-c3ff-4097-84c5-9b856e309dce",
   "metadata": {},
   "outputs": [],
   "source": [
    "jonathan_malcolm.loc[111111] = ['Payout:', malcolm , '' , '' , '' , '' , '' , '' , '' , '' , '' , '']"
   ]
  },
  {
   "cell_type": "code",
   "execution_count": null,
   "id": "c7627a1f-3f61-4553-aaa8-453e971578c4",
   "metadata": {},
   "outputs": [],
   "source": [
    "#jonathan_malcolm.to_excel('malcolm_September_2022.xlsx', index=False)"
   ]
  },
  {
   "cell_type": "markdown",
   "id": "2a29ab45-639b-4120-a02b-625922a02350",
   "metadata": {},
   "source": [
    "##### End Jonathan Malcolm"
   ]
  },
  {
   "cell_type": "markdown",
   "id": "d8d7f559-8f05-4b4e-ae76-f481c7713fa3",
   "metadata": {
    "jp-MarkdownHeadingCollapsed": true,
    "tags": []
   },
   "source": [
    "#### Mike Miceli"
   ]
  },
  {
   "cell_type": "code",
   "execution_count": 32,
   "id": "337dfbe7-7318-44a4-8734-6a8c3ee0cc2b",
   "metadata": {},
   "outputs": [],
   "source": [
    "mike_miceli = ep1[ep1['Salesman'] == 'Mike Miceli']"
   ]
  },
  {
   "cell_type": "code",
   "execution_count": 33,
   "id": "abe8a2c4-0689-4f7d-ac7d-aa7597e3248e",
   "metadata": {},
   "outputs": [
    {
     "data": {
      "text/plain": [
       "2228.0"
      ]
     },
     "execution_count": 33,
     "metadata": {},
     "output_type": "execute_result"
    }
   ],
   "source": [
    "(mike_miceli['payout'].sum())"
   ]
  },
  {
   "cell_type": "code",
   "execution_count": null,
   "id": "8f7bbf33-406a-4781-9a42-6ee531d4cb01",
   "metadata": {},
   "outputs": [],
   "source": [
    "mike_miceli.loc[mike_miceli['Datacenter'].isin(['ATL2','ACT1','AUS1','CLE1','DEN1','DEN4','DFW1','DFW2','DFW6','DFW7','EWR2','IAD2','KC2','MEM1','MSP1','LHR1','ORD2','ORD3','PHX1','SEA2','SLC1','SLC2']), 'payout'] *= .75\n",
    "mike_miceli.loc[mike_miceli['Datacenter'].isin(['ATL1', 'ATL3', 'BOS1', 'BWI1', 'DEN2', 'DEN3', 'DFW3','DFW4', 'DFW5','EWR1','IAD1','IND1','IND2','LAS1','LAX1','LGA1','LGA2','MCI1','MCI2','MCI3','MIA1','MSP2','MSP3','MSP4','ORD1','ORD4','PHL1','PHX2','PHX3','PIT1','PIT2','SAN1','SAN2','SEA1','SFO1','SLC3','SLC4','SLC5','SNA1','SNA2','PAR1','PAR2','PAR3','MPL1','TLS1']), 'payout'] *= .5"
   ]
  },
  {
   "cell_type": "code",
   "execution_count": null,
   "id": "76b1d869-ba9b-4545-baa8-7cf06cd220ad",
   "metadata": {},
   "outputs": [],
   "source": [
    "#mike_miceli.loc[odaine_hudson['Type'].isin(['New']), 'payout'] *= .75"
   ]
  },
  {
   "cell_type": "code",
   "execution_count": null,
   "id": "0a492b74-373a-4626-856a-904194f6ede1",
   "metadata": {},
   "outputs": [],
   "source": [
    "miceli = (mike_miceli['payout'].sum())"
   ]
  },
  {
   "cell_type": "code",
   "execution_count": null,
   "id": "f9d2055c-d74c-4a2e-90dd-8c977af320d3",
   "metadata": {},
   "outputs": [],
   "source": [
    "if qqq == \"y\":\n",
    "    pass\n",
    "else:\n",
    "    pass\n",
    "    "
   ]
  },
  {
   "cell_type": "code",
   "execution_count": null,
   "id": "15a17d52-b32a-4b87-9a0e-847f05f6fc40",
   "metadata": {},
   "outputs": [],
   "source": [
    "mike_miceli.loc[111111] = ['Payout:', miceli , '' , '' , '' , '' , '' , '' , '' , '' , '' , '']"
   ]
  },
  {
   "cell_type": "code",
   "execution_count": null,
   "id": "dd3e7008-0b75-4ca0-ae8d-0b8bb67299ab",
   "metadata": {},
   "outputs": [],
   "source": [
    "#mike_miceli.to_excel('Miceli_September_2022.xlsx', index=False)"
   ]
  },
  {
   "cell_type": "markdown",
   "id": "0ca16a39-45a9-46e7-bddf-4361efafd2c9",
   "metadata": {},
   "source": [
    "##### End Mike Miceli"
   ]
  },
  {
   "cell_type": "markdown",
   "id": "e58caed8-f8a8-46f4-99b9-2817e93588be",
   "metadata": {
    "jp-MarkdownHeadingCollapsed": true,
    "tags": []
   },
   "source": [
    "#### Tiffany Dunson"
   ]
  },
  {
   "cell_type": "code",
   "execution_count": 37,
   "id": "9d247ead-7a81-47a2-bafc-1efe03dfd9cf",
   "metadata": {},
   "outputs": [],
   "source": [
    "tiffany_dunson = ep1[ep1['Salesman'] == 'Tiffany Dunson']"
   ]
  },
  {
   "cell_type": "code",
   "execution_count": 38,
   "id": "707f002b-19e0-4a40-8115-97476914ecd8",
   "metadata": {},
   "outputs": [
    {
     "data": {
      "text/plain": [
       "11110.0"
      ]
     },
     "execution_count": 38,
     "metadata": {},
     "output_type": "execute_result"
    }
   ],
   "source": [
    "(tiffany_dunson['payout'].sum())"
   ]
  },
  {
   "cell_type": "code",
   "execution_count": null,
   "id": "0e2bd6e6-96e3-41b8-ad7e-25e3e9bb5104",
   "metadata": {},
   "outputs": [],
   "source": [
    "tiffany_dunson.loc[tiffany_dunson['Datacenter'].isin(['ATL2','ACT1','AUS1','CLE1','DEN1','DEN4','DFW1','DFW2','DFW6','DFW7','EWR2','IAD2','KC2','MEM1','MSP1','LHR1','ORD2','ORD3','PHX1','SEA2','SLC1','SLC2']), 'payout'] *= .75\n",
    "tiffany_dunson.loc[tiffany_dunson['Datacenter'].isin(['ATL1', 'ATL3', 'BOS1', 'BWI1', 'DEN2', 'DEN3', 'DFW3','DFW4', 'DFW5','EWR1','IAD1','IND1','IND2','LAS1','LAX1','LGA1','LGA2','MCI1','MCI2','MCI3','MIA1','MSP2','MSP3','MSP4','ORD1','ORD4','PHL1','PHX2','PHX3','PIT1','PIT2','SAN1','SAN2','SEA1','SFO1','SLC3','SLC4','SLC5','SNA1','SNA2','PAR1','PAR2','PAR3','MPL1','TLS1']), 'payout'] *= .5"
   ]
  },
  {
   "cell_type": "code",
   "execution_count": null,
   "id": "80116860-69b7-4b3c-b057-1fa959aeb20d",
   "metadata": {},
   "outputs": [],
   "source": [
    "#mike_miceli.loc[odaine_hudson['Type'].isin(['New']), 'payout'] *= .75"
   ]
  },
  {
   "cell_type": "code",
   "execution_count": null,
   "id": "c5a90852-ac42-48b4-a9f8-fe2a19360706",
   "metadata": {},
   "outputs": [],
   "source": [
    "dunson = (tiffany_dunson['payout'].sum())"
   ]
  },
  {
   "cell_type": "code",
   "execution_count": null,
   "id": "ef5b1bab-62f4-4558-aa64-99a3bf2f62d4",
   "metadata": {},
   "outputs": [],
   "source": [
    "if qqq == \"y\":\n",
    "    pass\n",
    "else:\n",
    "    pass\n",
    "    "
   ]
  },
  {
   "cell_type": "code",
   "execution_count": null,
   "id": "447b40d4-6003-4d4b-8cee-4e3e52a8cdac",
   "metadata": {},
   "outputs": [],
   "source": [
    "tiffany_dunson.loc[111111] = ['Payout:', dunson , '' , '' , '' , '' , '' , '' , '' , '' , '' , '']"
   ]
  },
  {
   "cell_type": "code",
   "execution_count": null,
   "id": "3320593f-3372-48bd-97c0-f19d406062e0",
   "metadata": {},
   "outputs": [],
   "source": [
    "#tiffany_dunson.to_excel('Dunson_September_2022.xlsx', index=False)"
   ]
  },
  {
   "cell_type": "markdown",
   "id": "2a426201-dde8-4370-822b-3f99a0a1e875",
   "metadata": {},
   "source": [
    "##### End Tiffany Dunson"
   ]
  },
  {
   "cell_type": "markdown",
   "id": "36907c75-e747-400a-a981-8eea01063742",
   "metadata": {
    "jp-MarkdownHeadingCollapsed": true,
    "tags": []
   },
   "source": [
    "#### Pecooralo"
   ]
  },
  {
   "cell_type": "markdown",
   "id": "29ec820c-cff4-4be4-92f7-89806f9a47d1",
   "metadata": {
    "tags": []
   },
   "source": [
    "#### Patrick Chapa"
   ]
  },
  {
   "cell_type": "code",
   "execution_count": null,
   "id": "69bc6d17-244f-44d6-a423-bfcf0d464265",
   "metadata": {},
   "outputs": [],
   "source": [
    "patrick_chapa = ep1[ep1['Salesman'] == 'Patrick Chapa']"
   ]
  },
  {
   "cell_type": "code",
   "execution_count": null,
   "id": "43bafb2b-73bf-4872-b7e3-ba84340b4b22",
   "metadata": {},
   "outputs": [],
   "source": [
    "patrick_chapa.head()"
   ]
  },
  {
   "cell_type": "code",
   "execution_count": null,
   "id": "46cbf120-a45c-4f52-b3b5-771718737622",
   "metadata": {},
   "outputs": [],
   "source": [
    "if patrick_chapa['payout'].sum() < 400:\n",
    "    patrick_chapa['payout'] = 0\n",
    "else: \n",
    "    pass"
   ]
  },
  {
   "cell_type": "code",
   "execution_count": null,
   "id": "8c54b4cf-3277-4307-acaf-0c59c3dc4614",
   "metadata": {},
   "outputs": [],
   "source": [
    "if patrick_chapa['Service Type'] == 'Managed Services' and patrick_chapa['Term'] == 12:\n",
    "    print(\"yeet\")\n",
    "else:\n",
    "    pass"
   ]
  },
  {
   "cell_type": "code",
   "execution_count": null,
   "id": "e6092f6f-35f2-4d34-90bf-06363fb16e0e",
   "metadata": {},
   "outputs": [],
   "source": [
    "patrick_chapa.loc[(patrick_chapa['Service Type'] == 'Managed Services') & (patrick_chapa['Term'] == 12), ['payout'] *= 1000\n",
    "                  "
   ]
  },
  {
   "cell_type": "code",
   "execution_count": null,
   "id": "d4f550d6-5356-41a1-b901-d516e1abe628",
   "metadata": {},
   "outputs": [],
   "source": []
  }
 ],
 "metadata": {
  "kernelspec": {
   "display_name": "Python 3 (ipykernel)",
   "language": "python",
   "name": "python3"
  },
  "language_info": {
   "codemirror_mode": {
    "name": "ipython",
    "version": 3
   },
   "file_extension": ".py",
   "mimetype": "text/x-python",
   "name": "python",
   "nbconvert_exporter": "python",
   "pygments_lexer": "ipython3",
   "version": "3.9.7"
  },
  "vscode": {
   "interpreter": {
    "hash": "93520e3b97abbf787051ab7b7f90e780b709a3c4bf21f048fe3840ad79373056"
   }
  }
 },
 "nbformat": 4,
 "nbformat_minor": 5
}
