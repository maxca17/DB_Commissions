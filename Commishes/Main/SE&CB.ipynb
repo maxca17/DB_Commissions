{
 "cells": [
  {
   "cell_type": "markdown",
   "id": "ae0a89d6-3f3c-4f54-a5d3-ace709a23906",
   "metadata": {
    "tags": []
   },
   "source": [
    "## Sales Engineers"
   ]
  },
  {
   "cell_type": "markdown",
   "id": "91f6712b-6fcf-4fea-b6d8-8016a754b97a",
   "metadata": {
    "tags": []
   },
   "source": [
    "### All imports will be used / are needed"
   ]
  },
  {
   "cell_type": "code",
   "execution_count": 1,
   "id": "973ac0b7-ede6-4f38-b7da-9dcb3acb7cf0",
   "metadata": {},
   "outputs": [],
   "source": [
    "import openpyxl as py\n",
    "from openpyxl import *\n",
    "import pandas as pd\n",
    "from pandas import *\n",
    "import numpy as np\n",
    "import ast as ast\n",
    "import pdfkit\n",
    "pd.options.mode.chained_assignment = None\n",
    "import os.path\n"
   ]
  },
  {
   "cell_type": "markdown",
   "id": "ef97f531-5bf0-43c6-9823-e061ac94007f",
   "metadata": {
    "tags": []
   },
   "source": [
    "### Closed Won With SE"
   ]
  },
  {
   "cell_type": "code",
   "execution_count": 2,
   "id": "e4f173fb-e657-4552-97cb-96db632e7a28",
   "metadata": {},
   "outputs": [],
   "source": [
    "se = pd.read_excel('../excel_sheets/SE.xlsx')"
   ]
  },
  {
   "cell_type": "code",
   "execution_count": 3,
   "id": "3c0fa8a8-e3f1-4fe2-8eaa-714041112494",
   "metadata": {},
   "outputs": [
    {
     "data": {
      "text/html": [
       "<div>\n",
       "<style scoped>\n",
       "    .dataframe tbody tr th:only-of-type {\n",
       "        vertical-align: middle;\n",
       "    }\n",
       "\n",
       "    .dataframe tbody tr th {\n",
       "        vertical-align: top;\n",
       "    }\n",
       "\n",
       "    .dataframe thead th {\n",
       "        text-align: right;\n",
       "    }\n",
       "</style>\n",
       "<table border=\"1\" class=\"dataframe\">\n",
       "  <thead>\n",
       "    <tr style=\"text-align: right;\">\n",
       "      <th></th>\n",
       "      <th>SE Assigned</th>\n",
       "      <th>Account Name</th>\n",
       "      <th>Opportunity Name</th>\n",
       "      <th>Net Amount</th>\n",
       "      <th>Close Date</th>\n",
       "      <th>Order Number</th>\n",
       "      <th>Data Centers</th>\n",
       "      <th>Type</th>\n",
       "      <th>Stage</th>\n",
       "    </tr>\n",
       "  </thead>\n",
       "  <tbody>\n",
       "    <tr>\n",
       "      <th>0</th>\n",
       "      <td>Anthony McCloud</td>\n",
       "      <td>Trading Technologies</td>\n",
       "      <td>Trading Technologies - 6Mo Renewal - ORD1 - 08...</td>\n",
       "      <td>5332.25</td>\n",
       "      <td>2022-08-31 00:00:00</td>\n",
       "      <td>66558</td>\n",
       "      <td>ORD1</td>\n",
       "      <td>Renewal</td>\n",
       "      <td>Closed Won</td>\n",
       "    </tr>\n",
       "  </tbody>\n",
       "</table>\n",
       "</div>"
      ],
      "text/plain": [
       "       SE Assigned          Account Name  \\\n",
       "0  Anthony McCloud  Trading Technologies   \n",
       "\n",
       "                                    Opportunity Name  Net Amount  \\\n",
       "0  Trading Technologies - 6Mo Renewal - ORD1 - 08...     5332.25   \n",
       "\n",
       "            Close Date Order Number Data Centers     Type       Stage  \n",
       "0  2022-08-31 00:00:00        66558         ORD1  Renewal  Closed Won  "
      ]
     },
     "execution_count": 3,
     "metadata": {},
     "output_type": "execute_result"
    }
   ],
   "source": [
    "se.head(1)"
   ]
  },
  {
   "cell_type": "code",
   "execution_count": 4,
   "id": "52d803d0-75fb-424b-b78a-4e27dcc4bbbb",
   "metadata": {},
   "outputs": [
    {
     "data": {
      "text/plain": [
       "Index(['SE Assigned', 'Account Name', 'Opportunity Name', 'Net Amount',\n",
       "       'Close Date', 'Order Number', 'Data Centers', 'Type', 'Stage'],\n",
       "      dtype='object')"
      ]
     },
     "execution_count": 4,
     "metadata": {},
     "output_type": "execute_result"
    }
   ],
   "source": [
    "se.columns"
   ]
  },
  {
   "cell_type": "code",
   "execution_count": 5,
   "id": "0835d644-8c54-48a4-a0c4-c6f224fc673e",
   "metadata": {},
   "outputs": [
    {
     "name": "stdout",
     "output_type": "stream",
     "text": [
      "Anthony McCloud\n",
      "Subtotal\n",
      "Brendon Yoder\n",
      "nan\n",
      "Christopher Chandler\n",
      "Daniel Bartholomew\n",
      "Eric Wooster\n",
      "Grady Vogt\n",
      "Gregory Manning\n",
      "Greg Ryman\n",
      "John Davis\n",
      "Marshall Sapp\n",
      "Michael Alvaro\n",
      "Perry Allen\n",
      "William Brucker\n"
     ]
    }
   ],
   "source": [
    "for names in se['SE Assigned'].drop_duplicates():\n",
    "    print(names)"
   ]
  },
  {
   "cell_type": "code",
   "execution_count": 6,
   "id": "1593f00c-11bf-42a2-bd29-daba06a867c3",
   "metadata": {},
   "outputs": [],
   "source": [
    "anthony_mccloud = se[se['SE Assigned'] == 'Anthony McCloud']\n",
    "brendon_yoder = se[se['SE Assigned'] == 'Brendon Yoder']\n",
    "christopher_chandler = se[se['SE Assigned'] == 'Christopher Chandler']\n",
    "daniel_bartholomew = se[se['SE Assigned'] == 'Daniel Bartholomew']\n",
    "eric_wooster = se[se['SE Assigned'] == 'Eric Wooster']\n",
    "grady_vogt = se[se['SE Assigned'] == 'Grady Vogt']\n",
    "greg_ryman = se[se['SE Assigned'] == 'Greg Ryman']\n",
    "greg_shamieh = se[se['SE Assigned'] == 'Greg Shamieh']\n",
    "marshall_sapp = se[se['SE Assigned'] == 'Marshall Sapp']\n",
    "michael_alvaro = se[se['SE Assigned'] == 'Michael Alvaro']\n",
    "perry_allen = se[se['SE Assigned'] == 'Perry Allen']\n",
    "william_brucker = se[se['SE Assigned'] == 'William Brucker']\n",
    "greg_manning = se[se['SE Assigned'] == 'Gregory Manning']\n",
    "john_davis = se[se['SE Assigned'] == 'John Davis']\n",
    "robert_zimmerman = se[se['SE Assigned'] == 'Robert Zimmerman']\n",
    "eric_carter = se[se['SE Assigned'] == 'Eric Carter']\n",
    "#East \n",
    "east = greg_shamieh['Net Amount'].sum() + brendon_yoder['Net Amount'].sum() + eric_wooster['Net Amount'].sum() + greg_manning['Net Amount'].sum() + john_davis['Net Amount'].sum() + marshall_sapp['Net Amount'].sum()+ michael_alvaro['Net Amount'].sum()\n",
    "#eastf = (east/177500)*667"
   ]
  },
  {
   "cell_type": "code",
   "execution_count": 7,
   "id": "94301369-cf6a-4fd1-ab04-d48ed7d074ec",
   "metadata": {},
   "outputs": [
    {
     "name": "stdout",
     "output_type": "stream",
     "text": [
      "149953.11\n"
     ]
    }
   ],
   "source": [
    "print(east)"
   ]
  },
  {
   "cell_type": "code",
   "execution_count": 8,
   "id": "abdf440a-3a89-4c8c-8352-d86062b087e5",
   "metadata": {},
   "outputs": [],
   "source": [
    "#West\n",
    "west = anthony_mccloud['Net Amount'].sum() + christopher_chandler['Net Amount'].sum() + daniel_bartholomew['Net Amount'].sum() + grady_vogt['Net Amount'].sum() + greg_ryman['Net Amount'].sum() + perry_allen['Net Amount'].sum() + william_brucker['Net Amount'].sum()\n",
    "westf = west/170000"
   ]
  },
  {
   "cell_type": "code",
   "execution_count": 9,
   "id": "9bcb5432-57c9-43fd-9188-fc3f9b6d14fc",
   "metadata": {},
   "outputs": [
    {
     "name": "stdout",
     "output_type": "stream",
     "text": [
      "0.9527873529411766\n"
     ]
    }
   ],
   "source": [
    "print(westf)"
   ]
  },
  {
   "cell_type": "code",
   "execution_count": 10,
   "id": "9aa0d06c-b9c5-4755-ab4b-d2b7fbde3e97",
   "metadata": {},
   "outputs": [],
   "source": [
    "eastf = (east/177500)"
   ]
  },
  {
   "cell_type": "code",
   "execution_count": 11,
   "id": "6bd1fe06-aac1-4c0c-97f5-b778fb1bab5c",
   "metadata": {},
   "outputs": [
    {
     "name": "stdout",
     "output_type": "stream",
     "text": [
      "0.8448062535211267\n"
     ]
    }
   ],
   "source": [
    "print(eastf)"
   ]
  },
  {
   "cell_type": "markdown",
   "id": "67f1a718-07db-46d7-89b2-b63a79563d19",
   "metadata": {
    "tags": []
   },
   "source": [
    "## Robert Zimmerman - East"
   ]
  },
  {
   "cell_type": "code",
   "execution_count": 12,
   "id": "a50c5728-1dd8-463f-8a93-eda088d9aa71",
   "metadata": {},
   "outputs": [],
   "source": [
    "robert_zimmerman_1  = (east/177500)*3333"
   ]
  },
  {
   "cell_type": "code",
   "execution_count": 13,
   "id": "07602144-4287-40c2-9c27-8f9fdab555c5",
   "metadata": {},
   "outputs": [],
   "source": [
    "zimmerman = pd.DataFrame(columns=['Name:', 'Payout:', 'East Quota %:' , 'Formula Used:'])"
   ]
  },
  {
   "cell_type": "code",
   "execution_count": 14,
   "id": "b1caa34c-ef0e-4ce1-ab47-26eb420da782",
   "metadata": {},
   "outputs": [],
   "source": [
    "zimmerman.loc[1111] = ['Robert Zimmerman', robert_zimmerman_1, eastf , '(east/177500)*3333' ]"
   ]
  },
  {
   "cell_type": "code",
   "execution_count": 15,
   "id": "2848e782-59bb-46f2-a1c7-364b8e2fdc71",
   "metadata": {},
   "outputs": [
    {
     "name": "stdout",
     "output_type": "stream",
     "text": [
      "                 Name:      Payout:  East Quota %:       Formula Used:\n",
      "1111  Robert Zimmerman  2815.739243       0.844806  (east/177500)*3333\n"
     ]
    }
   ],
   "source": [
    "print(zimmerman)"
   ]
  },
  {
   "cell_type": "code",
   "execution_count": 16,
   "id": "80f1b552-8c0e-406a-918e-2ce9fc7010e5",
   "metadata": {},
   "outputs": [],
   "source": [
    "zimmerman.to_excel(os.path.join('../SE','zimmerman_September_2022.xlsx'), index=False)"
   ]
  },
  {
   "cell_type": "markdown",
   "id": "3eb307c4-42ff-4e12-a1da-cbb6edaf439d",
   "metadata": {
    "tags": []
   },
   "source": [
    "### End Zimmerman"
   ]
  },
  {
   "cell_type": "markdown",
   "id": "74c3efe0-3872-4261-8c0b-741dc3af21a2",
   "metadata": {
    "tags": []
   },
   "source": [
    "### Brendon Yoder - East"
   ]
  },
  {
   "cell_type": "code",
   "execution_count": 17,
   "id": "57f63d4a-e410-4932-903e-6297030d81db",
   "metadata": {},
   "outputs": [
    {
     "data": {
      "text/html": [
       "<div>\n",
       "<style scoped>\n",
       "    .dataframe tbody tr th:only-of-type {\n",
       "        vertical-align: middle;\n",
       "    }\n",
       "\n",
       "    .dataframe tbody tr th {\n",
       "        vertical-align: top;\n",
       "    }\n",
       "\n",
       "    .dataframe thead th {\n",
       "        text-align: right;\n",
       "    }\n",
       "</style>\n",
       "<table border=\"1\" class=\"dataframe\">\n",
       "  <thead>\n",
       "    <tr style=\"text-align: right;\">\n",
       "      <th></th>\n",
       "      <th>SE Assigned</th>\n",
       "      <th>Account Name</th>\n",
       "      <th>Opportunity Name</th>\n",
       "      <th>Net Amount</th>\n",
       "      <th>Close Date</th>\n",
       "      <th>Order Number</th>\n",
       "      <th>Data Centers</th>\n",
       "      <th>Type</th>\n",
       "      <th>Stage</th>\n",
       "    </tr>\n",
       "  </thead>\n",
       "  <tbody>\n",
       "    <tr>\n",
       "      <th>40</th>\n",
       "      <td>Brendon Yoder</td>\n",
       "      <td>HeiTech Services, Inc</td>\n",
       "      <td>HeiTechServices/IaaS&amp;PaaS/DFW3FedRAMP/8152022</td>\n",
       "      <td>7508.84</td>\n",
       "      <td>2022-08-30 00:00:00</td>\n",
       "      <td>65834</td>\n",
       "      <td>DFW3-FedRAMP</td>\n",
       "      <td>Change Order</td>\n",
       "      <td>Closed Won</td>\n",
       "    </tr>\n",
       "  </tbody>\n",
       "</table>\n",
       "</div>"
      ],
      "text/plain": [
       "      SE Assigned           Account Name  \\\n",
       "40  Brendon Yoder  HeiTech Services, Inc   \n",
       "\n",
       "                                 Opportunity Name  Net Amount  \\\n",
       "40  HeiTechServices/IaaS&PaaS/DFW3FedRAMP/8152022     7508.84   \n",
       "\n",
       "             Close Date Order Number  Data Centers          Type       Stage  \n",
       "40  2022-08-30 00:00:00        65834  DFW3-FedRAMP  Change Order  Closed Won  "
      ]
     },
     "execution_count": 17,
     "metadata": {},
     "output_type": "execute_result"
    }
   ],
   "source": [
    "brendon_yoder.head(1)"
   ]
  },
  {
   "cell_type": "code",
   "execution_count": 18,
   "id": "9c6948f0-5d58-474f-b2b8-bee3a569fa19",
   "metadata": {},
   "outputs": [],
   "source": [
    "yoder_indivdual = brendon_yoder['Net Amount'].sum()"
   ]
  },
  {
   "cell_type": "code",
   "execution_count": 19,
   "id": "bfbd0dec-d106-46c7-9cdc-6b9011002e79",
   "metadata": {},
   "outputs": [
    {
     "name": "stdout",
     "output_type": "stream",
     "text": [
      "19208.32\n"
     ]
    }
   ],
   "source": [
    "print(yoder_indivdual)"
   ]
  },
  {
   "cell_type": "code",
   "execution_count": 20,
   "id": "cd8e0b29-423a-49c4-9dc2-515a74e67290",
   "metadata": {},
   "outputs": [],
   "source": [
    "yoder_regional = (east/177500)*500 "
   ]
  },
  {
   "cell_type": "code",
   "execution_count": 21,
   "id": "ffb8b87e-d526-48db-ad98-5588eb22dfb5",
   "metadata": {},
   "outputs": [
    {
     "name": "stdout",
     "output_type": "stream",
     "text": [
      "422.40312676056334\n"
     ]
    }
   ],
   "source": [
    "print(yoder_regional)"
   ]
  },
  {
   "cell_type": "code",
   "execution_count": 22,
   "id": "02ad455d-ecf1-43b7-bf15-08601de7cabf",
   "metadata": {},
   "outputs": [],
   "source": [
    "yoder_1 = (brendon_yoder['Net Amount'] * 0.0666).sum() + yoder_regional"
   ]
  },
  {
   "cell_type": "code",
   "execution_count": 23,
   "id": "2d4c27fc-77dd-4dd2-accf-4a005412eeed",
   "metadata": {},
   "outputs": [
    {
     "name": "stdout",
     "output_type": "stream",
     "text": [
      "1701.6772387605633\n"
     ]
    }
   ],
   "source": [
    "print(yoder_1)"
   ]
  },
  {
   "cell_type": "code",
   "execution_count": 24,
   "id": "3566b166-0d34-47f8-8d17-f91d06e4ef27",
   "metadata": {},
   "outputs": [],
   "source": [
    "brendon_yoder.loc[11111] = ['Total Indivdual Bookings:', yoder_indivdual, '', '' ,'','','','','']"
   ]
  },
  {
   "cell_type": "code",
   "execution_count": 25,
   "id": "c3a6216a-23d7-4459-bb33-7f58f176f7f4",
   "metadata": {},
   "outputs": [],
   "source": [
    "brendon_yoder.loc[11112] = ['Regional Payment:', yoder_regional , '', '' ,'','','','','']"
   ]
  },
  {
   "cell_type": "code",
   "execution_count": 26,
   "id": "5c72a6b3-526a-4233-8451-7a233a07d9d0",
   "metadata": {},
   "outputs": [],
   "source": [
    "brendon_yoder.loc[11113] = ['Total Payout:', yoder_1, '', '' ,'','','','','']"
   ]
  },
  {
   "cell_type": "code",
   "execution_count": 27,
   "id": "4f7a9102-55f1-42a9-9125-c5f5278eb353",
   "metadata": {},
   "outputs": [],
   "source": [
    "brendon_yoder.to_excel(os.path.join('../SE','yoder_September_2022.xlsx'), index=False)"
   ]
  },
  {
   "cell_type": "markdown",
   "id": "0685d567-e013-4243-a4c8-3c1b349d4ecf",
   "metadata": {},
   "source": [
    "#### End Brendon Yoder"
   ]
  },
  {
   "cell_type": "markdown",
   "id": "6d208c04-50c8-4752-af66-f3f7fe094488",
   "metadata": {
    "tags": []
   },
   "source": [
    "### Eric Wooster - East"
   ]
  },
  {
   "cell_type": "code",
   "execution_count": 28,
   "id": "ecab3497-5e7e-4e5e-8f73-41d323d174ba",
   "metadata": {},
   "outputs": [
    {
     "data": {
      "text/html": [
       "<div>\n",
       "<style scoped>\n",
       "    .dataframe tbody tr th:only-of-type {\n",
       "        vertical-align: middle;\n",
       "    }\n",
       "\n",
       "    .dataframe tbody tr th {\n",
       "        vertical-align: top;\n",
       "    }\n",
       "\n",
       "    .dataframe thead th {\n",
       "        text-align: right;\n",
       "    }\n",
       "</style>\n",
       "<table border=\"1\" class=\"dataframe\">\n",
       "  <thead>\n",
       "    <tr style=\"text-align: right;\">\n",
       "      <th></th>\n",
       "      <th>SE Assigned</th>\n",
       "      <th>Account Name</th>\n",
       "      <th>Opportunity Name</th>\n",
       "      <th>Net Amount</th>\n",
       "      <th>Close Date</th>\n",
       "      <th>Order Number</th>\n",
       "      <th>Data Centers</th>\n",
       "      <th>Type</th>\n",
       "      <th>Stage</th>\n",
       "    </tr>\n",
       "  </thead>\n",
       "  <tbody>\n",
       "    <tr>\n",
       "      <th>115</th>\n",
       "      <td>Eric Wooster</td>\n",
       "      <td>Computer Associates of NY</td>\n",
       "      <td>Computer Associates DFW3 08232022</td>\n",
       "      <td>17195.96</td>\n",
       "      <td>2022-08-23 00:00:00</td>\n",
       "      <td>66069</td>\n",
       "      <td>DFW3</td>\n",
       "      <td>Existing</td>\n",
       "      <td>Closed Won</td>\n",
       "    </tr>\n",
       "  </tbody>\n",
       "</table>\n",
       "</div>"
      ],
      "text/plain": [
       "      SE Assigned               Account Name  \\\n",
       "115  Eric Wooster  Computer Associates of NY   \n",
       "\n",
       "                      Opportunity Name  Net Amount           Close Date  \\\n",
       "115  Computer Associates DFW3 08232022    17195.96  2022-08-23 00:00:00   \n",
       "\n",
       "    Order Number Data Centers      Type       Stage  \n",
       "115        66069         DFW3  Existing  Closed Won  "
      ]
     },
     "execution_count": 28,
     "metadata": {},
     "output_type": "execute_result"
    }
   ],
   "source": [
    "eric_wooster.head(1)"
   ]
  },
  {
   "cell_type": "code",
   "execution_count": 29,
   "id": "925766bf-bc9d-4fe6-b5e8-4154ce2adc20",
   "metadata": {},
   "outputs": [],
   "source": [
    "wooster_indivdual = eric_wooster['Net Amount'].sum()"
   ]
  },
  {
   "cell_type": "code",
   "execution_count": 30,
   "id": "a9cf01e2-1a7a-4428-999a-060ab6704273",
   "metadata": {},
   "outputs": [
    {
     "name": "stdout",
     "output_type": "stream",
     "text": [
      "25419.56\n"
     ]
    }
   ],
   "source": [
    "print(wooster_indivdual)"
   ]
  },
  {
   "cell_type": "code",
   "execution_count": 31,
   "id": "845f6a90-726e-4b86-b4a2-01ba34f24c24",
   "metadata": {},
   "outputs": [],
   "source": [
    "wooster_regional = (east/177500)*667"
   ]
  },
  {
   "cell_type": "code",
   "execution_count": 32,
   "id": "70e6b954-2f25-441d-a91d-d2a1f861cda7",
   "metadata": {},
   "outputs": [
    {
     "name": "stdout",
     "output_type": "stream",
     "text": [
      "563.4857710985915\n"
     ]
    }
   ],
   "source": [
    "print(wooster_regional)"
   ]
  },
  {
   "cell_type": "code",
   "execution_count": 33,
   "id": "511a8e7a-49ed-4f08-912a-01f9ceda2c7a",
   "metadata": {},
   "outputs": [],
   "source": [
    "wooster_1 = (eric_wooster['Net Amount'] * 0.0888).sum() + wooster_regional"
   ]
  },
  {
   "cell_type": "code",
   "execution_count": 34,
   "id": "4a5032f7-ef4c-46ba-9df4-4915e25b8cfc",
   "metadata": {},
   "outputs": [
    {
     "name": "stdout",
     "output_type": "stream",
     "text": [
      "2820.742699098592\n"
     ]
    }
   ],
   "source": [
    "print(wooster_1)"
   ]
  },
  {
   "cell_type": "code",
   "execution_count": 35,
   "id": "ba20d062-f0a8-4d37-84c6-54bfc6ebdb46",
   "metadata": {},
   "outputs": [],
   "source": [
    "eric_wooster.loc[11111] = ['Total Indivdual Bookings:', wooster_indivdual, '', '' ,'','','','','']"
   ]
  },
  {
   "cell_type": "code",
   "execution_count": 36,
   "id": "fef7c867-f603-4587-a261-ad9ad7b15a35",
   "metadata": {},
   "outputs": [],
   "source": [
    "eric_wooster.loc[11112] = ['Regional Payment:', wooster_regional, '', '' ,'','','','','']"
   ]
  },
  {
   "cell_type": "code",
   "execution_count": 37,
   "id": "514d5277-e9c5-4dfa-969b-a320d8b74219",
   "metadata": {},
   "outputs": [],
   "source": [
    "eric_wooster.loc[11113] = ['Total Payout:', wooster_1, '', '' ,'','','','','']"
   ]
  },
  {
   "cell_type": "code",
   "execution_count": 38,
   "id": "308a8b7e-e97b-4b90-a463-6dd54a0f9797",
   "metadata": {},
   "outputs": [],
   "source": [
    "eric_wooster.to_excel(os.path.join('../SE','wooster_September_2022.xlsx'), index=False)"
   ]
  },
  {
   "cell_type": "markdown",
   "id": "53495cc4-2980-42d3-92db-db228d9db93f",
   "metadata": {
    "tags": []
   },
   "source": [
    "#### End Eric Wooster"
   ]
  },
  {
   "cell_type": "markdown",
   "id": "84b106f1-f484-447a-bc80-150862ce7a58",
   "metadata": {
    "tags": []
   },
   "source": [
    "### Greg Manning - East"
   ]
  },
  {
   "cell_type": "code",
   "execution_count": 39,
   "id": "ee013921-a360-4106-a5e3-c5ad242dece4",
   "metadata": {},
   "outputs": [
    {
     "data": {
      "text/html": [
       "<div>\n",
       "<style scoped>\n",
       "    .dataframe tbody tr th:only-of-type {\n",
       "        vertical-align: middle;\n",
       "    }\n",
       "\n",
       "    .dataframe tbody tr th {\n",
       "        vertical-align: top;\n",
       "    }\n",
       "\n",
       "    .dataframe thead th {\n",
       "        text-align: right;\n",
       "    }\n",
       "</style>\n",
       "<table border=\"1\" class=\"dataframe\">\n",
       "  <thead>\n",
       "    <tr style=\"text-align: right;\">\n",
       "      <th></th>\n",
       "      <th>SE Assigned</th>\n",
       "      <th>Account Name</th>\n",
       "      <th>Opportunity Name</th>\n",
       "      <th>Net Amount</th>\n",
       "      <th>Close Date</th>\n",
       "      <th>Order Number</th>\n",
       "      <th>Data Centers</th>\n",
       "      <th>Type</th>\n",
       "      <th>Stage</th>\n",
       "    </tr>\n",
       "  </thead>\n",
       "  <tbody>\n",
       "    <tr>\n",
       "      <th>176</th>\n",
       "      <td>Gregory Manning</td>\n",
       "      <td>Livewire Cloud</td>\n",
       "      <td>Livewire Cloud/1CabColo/ORD4/08012022</td>\n",
       "      <td>1819.0</td>\n",
       "      <td>2022-08-31 00:00:00</td>\n",
       "      <td>66562</td>\n",
       "      <td>ORD4</td>\n",
       "      <td>Existing</td>\n",
       "      <td>Closed Won</td>\n",
       "    </tr>\n",
       "  </tbody>\n",
       "</table>\n",
       "</div>"
      ],
      "text/plain": [
       "         SE Assigned    Account Name                       Opportunity Name  \\\n",
       "176  Gregory Manning  Livewire Cloud  Livewire Cloud/1CabColo/ORD4/08012022   \n",
       "\n",
       "     Net Amount           Close Date Order Number Data Centers      Type  \\\n",
       "176      1819.0  2022-08-31 00:00:00        66562         ORD4  Existing   \n",
       "\n",
       "          Stage  \n",
       "176  Closed Won  "
      ]
     },
     "execution_count": 39,
     "metadata": {},
     "output_type": "execute_result"
    }
   ],
   "source": [
    "greg_manning.head(1)"
   ]
  },
  {
   "cell_type": "code",
   "execution_count": 40,
   "id": "c6f1fd75-5c2d-4161-bd4d-4d2c29bb830f",
   "metadata": {},
   "outputs": [],
   "source": [
    "manning_indivdual = greg_manning['Net Amount'].sum()"
   ]
  },
  {
   "cell_type": "code",
   "execution_count": 41,
   "id": "697c521e-6a39-47dd-867a-5e8f8cdefe63",
   "metadata": {},
   "outputs": [
    {
     "name": "stdout",
     "output_type": "stream",
     "text": [
      "9561.94\n"
     ]
    }
   ],
   "source": [
    "print(manning_indivdual)"
   ]
  },
  {
   "cell_type": "code",
   "execution_count": 42,
   "id": "7384b64d-c5d2-49e2-8664-57e95703e62d",
   "metadata": {},
   "outputs": [],
   "source": [
    "manning_regional = (east/177500)*750"
   ]
  },
  {
   "cell_type": "code",
   "execution_count": 43,
   "id": "2b27f6f2-c718-42e0-a0fd-b6b6fbfc65c0",
   "metadata": {},
   "outputs": [],
   "source": [
    "manning_1 = (greg_manning['Net Amount'] * 0.1).sum() + manning_regional"
   ]
  },
  {
   "cell_type": "code",
   "execution_count": 44,
   "id": "db84b73c-75ca-43f9-92c8-093f2079a87d",
   "metadata": {},
   "outputs": [
    {
     "name": "stdout",
     "output_type": "stream",
     "text": [
      "1589.7986901408449\n"
     ]
    }
   ],
   "source": [
    "print(manning_1)"
   ]
  },
  {
   "cell_type": "code",
   "execution_count": 45,
   "id": "e28676d1-ce67-4091-a441-de0404d31bba",
   "metadata": {},
   "outputs": [],
   "source": [
    "greg_manning.loc[11111] = ['Total Indivdual Bookings:', manning_indivdual, '', '' ,'','','','','']"
   ]
  },
  {
   "cell_type": "code",
   "execution_count": 46,
   "id": "147e399d-db45-4ec5-841c-c4f17dec0bff",
   "metadata": {},
   "outputs": [],
   "source": [
    "greg_manning.loc[11112] = ['Regional Payment:', manning_regional, '', '' ,'','','','','']"
   ]
  },
  {
   "cell_type": "code",
   "execution_count": 47,
   "id": "99947ac8-e47b-456c-af13-59b5617ba30a",
   "metadata": {},
   "outputs": [],
   "source": [
    "greg_manning.loc[11113] = ['Total Payout:', manning_1, '', '' ,'','','','','']"
   ]
  },
  {
   "cell_type": "code",
   "execution_count": 48,
   "id": "85d0815b-2403-4acc-b066-9331cd526232",
   "metadata": {},
   "outputs": [],
   "source": [
    "greg_manning.to_excel(os.path.join('../SE','manning_September_2022.xlsx'), index=False)"
   ]
  },
  {
   "cell_type": "markdown",
   "id": "9478efff-90bc-4caf-b2f2-a9b5e9e43178",
   "metadata": {
    "tags": []
   },
   "source": [
    "#### End Greg Manning"
   ]
  },
  {
   "cell_type": "markdown",
   "id": "83848237-ff1b-4890-949e-617fbf7b691e",
   "metadata": {
    "tags": []
   },
   "source": [
    "### John Davis - East"
   ]
  },
  {
   "cell_type": "code",
   "execution_count": 49,
   "id": "248589d3-2b9b-4129-8510-bb4388658745",
   "metadata": {},
   "outputs": [
    {
     "data": {
      "text/html": [
       "<div>\n",
       "<style scoped>\n",
       "    .dataframe tbody tr th:only-of-type {\n",
       "        vertical-align: middle;\n",
       "    }\n",
       "\n",
       "    .dataframe tbody tr th {\n",
       "        vertical-align: top;\n",
       "    }\n",
       "\n",
       "    .dataframe thead th {\n",
       "        text-align: right;\n",
       "    }\n",
       "</style>\n",
       "<table border=\"1\" class=\"dataframe\">\n",
       "  <thead>\n",
       "    <tr style=\"text-align: right;\">\n",
       "      <th></th>\n",
       "      <th>SE Assigned</th>\n",
       "      <th>Account Name</th>\n",
       "      <th>Opportunity Name</th>\n",
       "      <th>Net Amount</th>\n",
       "      <th>Close Date</th>\n",
       "      <th>Order Number</th>\n",
       "      <th>Data Centers</th>\n",
       "      <th>Type</th>\n",
       "      <th>Stage</th>\n",
       "    </tr>\n",
       "  </thead>\n",
       "  <tbody>\n",
       "    <tr>\n",
       "      <th>209</th>\n",
       "      <td>John Davis</td>\n",
       "      <td>Empower Services</td>\n",
       "      <td>Empower-1/2 Cab-DFW3-07112022</td>\n",
       "      <td>2019.0</td>\n",
       "      <td>2022-08-12 00:00:00</td>\n",
       "      <td>65080</td>\n",
       "      <td>DFW3</td>\n",
       "      <td>Agent - New</td>\n",
       "      <td>Closed Won</td>\n",
       "    </tr>\n",
       "    <tr>\n",
       "      <th>210</th>\n",
       "      <td>John Davis</td>\n",
       "      <td>Caliber Collision</td>\n",
       "      <td>Caliber-BW Increase-DFW3-07272022</td>\n",
       "      <td>1937.5</td>\n",
       "      <td>2022-08-22 00:00:00</td>\n",
       "      <td>64881</td>\n",
       "      <td>DFW3</td>\n",
       "      <td>Existing</td>\n",
       "      <td>Closed Won</td>\n",
       "    </tr>\n",
       "    <tr>\n",
       "      <th>211</th>\n",
       "      <td>John Davis</td>\n",
       "      <td>Kinley Construction</td>\n",
       "      <td>Kinley-HalfCab-08102022</td>\n",
       "      <td>1379.0</td>\n",
       "      <td>2022-08-16 00:00:00</td>\n",
       "      <td>65369</td>\n",
       "      <td>DFW1</td>\n",
       "      <td>Agent - New</td>\n",
       "      <td>Closed Won</td>\n",
       "    </tr>\n",
       "    <tr>\n",
       "      <th>212</th>\n",
       "      <td>John Davis</td>\n",
       "      <td>CTGTECH LLC</td>\n",
       "      <td>CTG-HalfCab-DFW1-07202022</td>\n",
       "      <td>1029.0</td>\n",
       "      <td>2022-08-23 00:00:00</td>\n",
       "      <td>64476</td>\n",
       "      <td>DFW1</td>\n",
       "      <td>New</td>\n",
       "      <td>Closed Won</td>\n",
       "    </tr>\n",
       "    <tr>\n",
       "      <th>213</th>\n",
       "      <td>John Davis</td>\n",
       "      <td>Targa Resources</td>\n",
       "      <td>Targa/XC/DFW1/08292022</td>\n",
       "      <td>300.0</td>\n",
       "      <td>2022-08-30 00:00:00</td>\n",
       "      <td>66374</td>\n",
       "      <td>DFW1</td>\n",
       "      <td>Existing</td>\n",
       "      <td>Closed Won</td>\n",
       "    </tr>\n",
       "  </tbody>\n",
       "</table>\n",
       "</div>"
      ],
      "text/plain": [
       "    SE Assigned         Account Name                   Opportunity Name  \\\n",
       "209  John Davis     Empower Services      Empower-1/2 Cab-DFW3-07112022   \n",
       "210  John Davis    Caliber Collision  Caliber-BW Increase-DFW3-07272022   \n",
       "211  John Davis  Kinley Construction            Kinley-HalfCab-08102022   \n",
       "212  John Davis          CTGTECH LLC          CTG-HalfCab-DFW1-07202022   \n",
       "213  John Davis      Targa Resources             Targa/XC/DFW1/08292022   \n",
       "\n",
       "     Net Amount           Close Date Order Number Data Centers         Type  \\\n",
       "209      2019.0  2022-08-12 00:00:00        65080         DFW3  Agent - New   \n",
       "210      1937.5  2022-08-22 00:00:00        64881         DFW3     Existing   \n",
       "211      1379.0  2022-08-16 00:00:00        65369         DFW1  Agent - New   \n",
       "212      1029.0  2022-08-23 00:00:00        64476         DFW1          New   \n",
       "213       300.0  2022-08-30 00:00:00        66374         DFW1     Existing   \n",
       "\n",
       "          Stage  \n",
       "209  Closed Won  \n",
       "210  Closed Won  \n",
       "211  Closed Won  \n",
       "212  Closed Won  \n",
       "213  Closed Won  "
      ]
     },
     "execution_count": 49,
     "metadata": {},
     "output_type": "execute_result"
    }
   ],
   "source": [
    "john_davis.head()"
   ]
  },
  {
   "cell_type": "code",
   "execution_count": 50,
   "id": "82322864-e3e6-44a3-bae4-d009ba02a434",
   "metadata": {},
   "outputs": [],
   "source": [
    "davis_indivdual = john_davis['Net Amount'].sum()"
   ]
  },
  {
   "cell_type": "code",
   "execution_count": 51,
   "id": "bcae7824-1c98-48d1-856a-dbd5e04ae659",
   "metadata": {},
   "outputs": [
    {
     "name": "stdout",
     "output_type": "stream",
     "text": [
      "7900.66\n"
     ]
    }
   ],
   "source": [
    "print(davis_indivdual)"
   ]
  },
  {
   "cell_type": "code",
   "execution_count": 52,
   "id": "21fac9e4-3553-4353-878c-292572e94299",
   "metadata": {},
   "outputs": [],
   "source": [
    "davis_regional = (east/177500)*833.33"
   ]
  },
  {
   "cell_type": "code",
   "execution_count": 53,
   "id": "156104c9-4965-43f9-89e5-aef23b49226e",
   "metadata": {},
   "outputs": [
    {
     "name": "stdout",
     "output_type": "stream",
     "text": [
      "704.0023952467606\n"
     ]
    }
   ],
   "source": [
    "print(davis_regional)"
   ]
  },
  {
   "cell_type": "code",
   "execution_count": 54,
   "id": "394bc70e-a541-488f-aef5-02a1c13ce851",
   "metadata": {},
   "outputs": [],
   "source": [
    "davis_1 = (john_davis['Net Amount'] * .1111).sum() + davis_regional "
   ]
  },
  {
   "cell_type": "code",
   "execution_count": 55,
   "id": "aeeac558-bece-4852-927c-d5c686da1a6c",
   "metadata": {},
   "outputs": [
    {
     "name": "stdout",
     "output_type": "stream",
     "text": [
      "1581.7657212467604\n"
     ]
    }
   ],
   "source": [
    "print(davis_1)"
   ]
  },
  {
   "cell_type": "code",
   "execution_count": 56,
   "id": "71f3921a-8175-4025-b7ee-b0f9c9c35119",
   "metadata": {},
   "outputs": [],
   "source": [
    "john_davis.loc[11111] = ['Total Indivdual Bookings:', davis_indivdual, '', '' ,'','','','','']"
   ]
  },
  {
   "cell_type": "code",
   "execution_count": 57,
   "id": "566dbcdd-14c2-4dab-85e8-068e8699c9b5",
   "metadata": {},
   "outputs": [],
   "source": [
    "john_davis.loc[11112] = ['Regional Payment:', davis_regional, '', '' ,'','','','','']"
   ]
  },
  {
   "cell_type": "code",
   "execution_count": 58,
   "id": "401ee526-f5ab-4035-9088-0adab001e9e6",
   "metadata": {},
   "outputs": [],
   "source": [
    "john_davis.loc[11113] = ['Total Payout:', davis_1, '', '' ,'','','','','']"
   ]
  },
  {
   "cell_type": "code",
   "execution_count": 59,
   "id": "4b44133f-cf69-4d2e-b35f-244af19aa83d",
   "metadata": {},
   "outputs": [],
   "source": [
    "john_davis.to_excel(os.path.join('../SE','davis_September_2022.xlsx'), index=False)"
   ]
  },
  {
   "cell_type": "markdown",
   "id": "56a2110c-3a2b-4e89-9c76-3900a1b388be",
   "metadata": {},
   "source": [
    "#### End John Davis"
   ]
  },
  {
   "cell_type": "markdown",
   "id": "49979393-2ba9-4a39-9114-a1eaefed5167",
   "metadata": {
    "tags": []
   },
   "source": [
    "### Marshall Sapp - East"
   ]
  },
  {
   "cell_type": "code",
   "execution_count": 60,
   "id": "bbd6b124-d084-446b-9972-a75bab0bf560",
   "metadata": {},
   "outputs": [
    {
     "data": {
      "text/html": [
       "<div>\n",
       "<style scoped>\n",
       "    .dataframe tbody tr th:only-of-type {\n",
       "        vertical-align: middle;\n",
       "    }\n",
       "\n",
       "    .dataframe tbody tr th {\n",
       "        vertical-align: top;\n",
       "    }\n",
       "\n",
       "    .dataframe thead th {\n",
       "        text-align: right;\n",
       "    }\n",
       "</style>\n",
       "<table border=\"1\" class=\"dataframe\">\n",
       "  <thead>\n",
       "    <tr style=\"text-align: right;\">\n",
       "      <th></th>\n",
       "      <th>SE Assigned</th>\n",
       "      <th>Account Name</th>\n",
       "      <th>Opportunity Name</th>\n",
       "      <th>Net Amount</th>\n",
       "      <th>Close Date</th>\n",
       "      <th>Order Number</th>\n",
       "      <th>Data Centers</th>\n",
       "      <th>Type</th>\n",
       "      <th>Stage</th>\n",
       "    </tr>\n",
       "  </thead>\n",
       "  <tbody>\n",
       "    <tr>\n",
       "      <th>230</th>\n",
       "      <td>Marshall Sapp</td>\n",
       "      <td>Forescout Technologies Inc</td>\n",
       "      <td>Forescout/Colo-expansion/DFW3/06152022</td>\n",
       "      <td>6270.0</td>\n",
       "      <td>2022-08-08 00:00:00</td>\n",
       "      <td>64566</td>\n",
       "      <td>DFW3</td>\n",
       "      <td>Existing</td>\n",
       "      <td>Closed Won</td>\n",
       "    </tr>\n",
       "  </tbody>\n",
       "</table>\n",
       "</div>"
      ],
      "text/plain": [
       "       SE Assigned                Account Name  \\\n",
       "230  Marshall Sapp  Forescout Technologies Inc   \n",
       "\n",
       "                           Opportunity Name  Net Amount           Close Date  \\\n",
       "230  Forescout/Colo-expansion/DFW3/06152022      6270.0  2022-08-08 00:00:00   \n",
       "\n",
       "    Order Number Data Centers      Type       Stage  \n",
       "230        64566         DFW3  Existing  Closed Won  "
      ]
     },
     "execution_count": 60,
     "metadata": {},
     "output_type": "execute_result"
    }
   ],
   "source": [
    "marshall_sapp.head(1)"
   ]
  },
  {
   "cell_type": "code",
   "execution_count": 61,
   "id": "e1ec5824-e900-469c-9042-93ab6b987c4b",
   "metadata": {},
   "outputs": [],
   "source": [
    "sapp_indivdual = marshall_sapp['Net Amount'].sum()"
   ]
  },
  {
   "cell_type": "code",
   "execution_count": 62,
   "id": "c539ffa6-31f5-4642-a426-29d638e05a5a",
   "metadata": {},
   "outputs": [
    {
     "name": "stdout",
     "output_type": "stream",
     "text": [
      "32374.9\n"
     ]
    }
   ],
   "source": [
    "print(sapp_indivdual)"
   ]
  },
  {
   "cell_type": "code",
   "execution_count": 63,
   "id": "37fb9ada-7ddc-40db-b4ad-873b2e343f10",
   "metadata": {},
   "outputs": [],
   "source": [
    "sapp_regional = (east/177500)*833.33"
   ]
  },
  {
   "cell_type": "code",
   "execution_count": 64,
   "id": "0774e856-8b82-4e39-b5f7-03e140af1c56",
   "metadata": {},
   "outputs": [
    {
     "name": "stdout",
     "output_type": "stream",
     "text": [
      "704.0023952467606\n"
     ]
    }
   ],
   "source": [
    "print(sapp_regional)"
   ]
  },
  {
   "cell_type": "code",
   "execution_count": 65,
   "id": "6a1d575d-4eb6-4ad3-8110-bad2c878a99d",
   "metadata": {},
   "outputs": [],
   "source": [
    "sapp_1 = (marshall_sapp['Net Amount'] * 0.1111).sum() + sapp_regional"
   ]
  },
  {
   "cell_type": "code",
   "execution_count": 66,
   "id": "23f1f4c9-79f3-4ff4-9a3d-d77f22d7c3db",
   "metadata": {},
   "outputs": [
    {
     "name": "stdout",
     "output_type": "stream",
     "text": [
      "4300.853785246761\n"
     ]
    }
   ],
   "source": [
    "print(sapp_1)"
   ]
  },
  {
   "cell_type": "code",
   "execution_count": 67,
   "id": "ee22dacc-b1de-4aea-8a8f-37ca21a3a109",
   "metadata": {},
   "outputs": [],
   "source": [
    "marshall_sapp.loc[11111] = ['Total Indivdual Bookings:', sapp_indivdual, '', '' ,'','','','','']"
   ]
  },
  {
   "cell_type": "code",
   "execution_count": 68,
   "id": "46249dcf-4550-4822-81cb-4eb1295c6e31",
   "metadata": {},
   "outputs": [],
   "source": [
    "marshall_sapp.loc[11112] = ['Regional Payment:', sapp_regional, '', '' ,'','','','','']"
   ]
  },
  {
   "cell_type": "code",
   "execution_count": 69,
   "id": "76a56e93-b6de-43f0-b214-1617349754a4",
   "metadata": {},
   "outputs": [],
   "source": [
    "marshall_sapp.loc[11113] = ['Total Payout:', sapp_1, '', '' ,'','','','','']"
   ]
  },
  {
   "cell_type": "code",
   "execution_count": 70,
   "id": "c957a611-978e-48ae-9ac7-0895843642eb",
   "metadata": {},
   "outputs": [],
   "source": [
    "marshall_sapp.to_excel(os.path.join('../SE','sapp_September_2022.xlsx'), index=False)"
   ]
  },
  {
   "cell_type": "markdown",
   "id": "37d3dcf0-07ac-4a91-99d9-d997efbbbbdd",
   "metadata": {},
   "source": [
    "#### Marshall Sapp"
   ]
  },
  {
   "cell_type": "markdown",
   "id": "37761f7c-0abb-477d-8d6f-2b805fcfa1b1",
   "metadata": {},
   "source": [
    "### Mike Alvaro - East"
   ]
  },
  {
   "cell_type": "code",
   "execution_count": 71,
   "id": "67a1ab2b-c74d-4130-ae60-6c6794aceaf0",
   "metadata": {},
   "outputs": [
    {
     "data": {
      "text/html": [
       "<div>\n",
       "<style scoped>\n",
       "    .dataframe tbody tr th:only-of-type {\n",
       "        vertical-align: middle;\n",
       "    }\n",
       "\n",
       "    .dataframe tbody tr th {\n",
       "        vertical-align: top;\n",
       "    }\n",
       "\n",
       "    .dataframe thead th {\n",
       "        text-align: right;\n",
       "    }\n",
       "</style>\n",
       "<table border=\"1\" class=\"dataframe\">\n",
       "  <thead>\n",
       "    <tr style=\"text-align: right;\">\n",
       "      <th></th>\n",
       "      <th>SE Assigned</th>\n",
       "      <th>Account Name</th>\n",
       "      <th>Opportunity Name</th>\n",
       "      <th>Net Amount</th>\n",
       "      <th>Close Date</th>\n",
       "      <th>Order Number</th>\n",
       "      <th>Data Centers</th>\n",
       "      <th>Type</th>\n",
       "      <th>Stage</th>\n",
       "    </tr>\n",
       "  </thead>\n",
       "  <tbody>\n",
       "    <tr>\n",
       "      <th>286</th>\n",
       "      <td>Michael Alvaro</td>\n",
       "      <td>Akamai Technologies</td>\n",
       "      <td>AKMI/Split/Colocation/IAD1/16 Linode Racks - P...</td>\n",
       "      <td>13200.0</td>\n",
       "      <td>2022-08-30 00:00:00</td>\n",
       "      <td>66649</td>\n",
       "      <td>IAD1</td>\n",
       "      <td>New</td>\n",
       "      <td>Closed Won</td>\n",
       "    </tr>\n",
       "  </tbody>\n",
       "</table>\n",
       "</div>"
      ],
      "text/plain": [
       "        SE Assigned         Account Name  \\\n",
       "286  Michael Alvaro  Akamai Technologies   \n",
       "\n",
       "                                      Opportunity Name  Net Amount  \\\n",
       "286  AKMI/Split/Colocation/IAD1/16 Linode Racks - P...     13200.0   \n",
       "\n",
       "              Close Date Order Number Data Centers Type       Stage  \n",
       "286  2022-08-30 00:00:00        66649         IAD1  New  Closed Won  "
      ]
     },
     "execution_count": 71,
     "metadata": {},
     "output_type": "execute_result"
    }
   ],
   "source": [
    "michael_alvaro.head(1)"
   ]
  },
  {
   "cell_type": "code",
   "execution_count": 72,
   "id": "d3779cb0-3cdc-4d0f-a75d-15889bc75a27",
   "metadata": {},
   "outputs": [],
   "source": [
    "alvaro_indivdual = michael_alvaro['Net Amount'].sum()"
   ]
  },
  {
   "cell_type": "code",
   "execution_count": 73,
   "id": "11880c42-dcef-4525-8fd4-b31d3301b296",
   "metadata": {},
   "outputs": [
    {
     "name": "stdout",
     "output_type": "stream",
     "text": [
      "55487.729999999996\n"
     ]
    }
   ],
   "source": [
    "print(alvaro_indivdual)"
   ]
  },
  {
   "cell_type": "code",
   "execution_count": 74,
   "id": "47059039-d41f-4512-bea4-667a9ac37cc8",
   "metadata": {},
   "outputs": [],
   "source": [
    "alvaro_regional = (east/177500)*667"
   ]
  },
  {
   "cell_type": "code",
   "execution_count": 75,
   "id": "c0d06ab6-a630-4c6d-9391-5c884591f3c7",
   "metadata": {},
   "outputs": [],
   "source": [
    "alvaro_1 = (michael_alvaro['Net Amount'] * 0.0888).sum() + alvaro_regional"
   ]
  },
  {
   "cell_type": "code",
   "execution_count": 76,
   "id": "eaeeeab3-7d34-4a20-82e6-24395bc43d0f",
   "metadata": {},
   "outputs": [
    {
     "name": "stdout",
     "output_type": "stream",
     "text": [
      "5490.796195098593\n"
     ]
    }
   ],
   "source": [
    "print(alvaro_1)"
   ]
  },
  {
   "cell_type": "code",
   "execution_count": 77,
   "id": "ae6319ee-b5d1-43c1-8354-1b60f59c1c60",
   "metadata": {},
   "outputs": [],
   "source": [
    "michael_alvaro.loc[11111] = ['Total Indivdual Bookings:', alvaro_indivdual, '', '' ,'','','','','']"
   ]
  },
  {
   "cell_type": "code",
   "execution_count": 78,
   "id": "ae13365a-f8ea-4d8c-9526-04e7ab33ef79",
   "metadata": {},
   "outputs": [],
   "source": [
    "michael_alvaro.loc[11112] = ['Regional Payment:', alvaro_regional, '', '' ,'','','','','']"
   ]
  },
  {
   "cell_type": "code",
   "execution_count": 79,
   "id": "1f316c3d-d85b-459f-af89-d27fc9d74414",
   "metadata": {},
   "outputs": [],
   "source": [
    "michael_alvaro.loc[11113] = ['Total Payout:', alvaro_1, '', '' ,'','','','','']"
   ]
  },
  {
   "cell_type": "code",
   "execution_count": 80,
   "id": "ccec0e6b-56af-48ca-9c88-0ac43e14e527",
   "metadata": {},
   "outputs": [],
   "source": [
    "michael_alvaro.to_excel(os.path.join('../SE','alvaro_September_2022.xlsx'), index=False)"
   ]
  },
  {
   "cell_type": "markdown",
   "id": "09ea8566-c10b-41c4-8b91-31d0d107afe9",
   "metadata": {},
   "source": [
    "#### End Michael Alvaro"
   ]
  },
  {
   "cell_type": "markdown",
   "id": "28f38be2-005f-440c-b19f-c1fef0d59a6d",
   "metadata": {
    "tags": []
   },
   "source": [
    "### Greg Shamieh - East"
   ]
  },
  {
   "cell_type": "code",
   "execution_count": 81,
   "id": "981263ed-44de-410d-88ba-fd74181b4196",
   "metadata": {},
   "outputs": [],
   "source": [
    "#greg_shamieh.head(1)"
   ]
  },
  {
   "cell_type": "code",
   "execution_count": 82,
   "id": "0fcdef58-b8f1-41fc-a2f4-f8d0f7ce195a",
   "metadata": {},
   "outputs": [],
   "source": [
    "#shamieh_indivdual = greg_shamieh['Net Amount'].sum()"
   ]
  },
  {
   "cell_type": "code",
   "execution_count": 83,
   "id": "8f966fda-9270-4ac7-a9c5-1f603f501709",
   "metadata": {},
   "outputs": [],
   "source": [
    "#print(shamieh_indivdual)"
   ]
  },
  {
   "cell_type": "code",
   "execution_count": 84,
   "id": "28b36e41-c3fc-433d-b61c-70f75e47eb66",
   "metadata": {},
   "outputs": [],
   "source": [
    "#shamieh_regional = (east/177500)*583"
   ]
  },
  {
   "cell_type": "code",
   "execution_count": 85,
   "id": "83f495be-f7d3-4763-b849-12969f873a64",
   "metadata": {},
   "outputs": [],
   "source": [
    "#shamieh_1 = (greg_shamieh['Net Amount'] * 0.0777).sum() + shamieh_regional "
   ]
  },
  {
   "cell_type": "code",
   "execution_count": 86,
   "id": "a56116a7-3200-4ef9-ad44-e6594901460b",
   "metadata": {},
   "outputs": [],
   "source": [
    "#print(shamieh_1)"
   ]
  },
  {
   "cell_type": "code",
   "execution_count": 87,
   "id": "393a5ccf-2abd-4114-868b-9fd03452bf3e",
   "metadata": {},
   "outputs": [],
   "source": [
    "#greg_shamieh.loc[11111] = ['Total Indivdual Bookings:', shamieh_indivdual, '', '' ,'','','','','','','','','','','','','']"
   ]
  },
  {
   "cell_type": "code",
   "execution_count": 88,
   "id": "41d49f1e-43b6-4e13-acd3-ee44e53bd851",
   "metadata": {},
   "outputs": [],
   "source": [
    "#greg_shamieh.loc[11112] = ['Regional Payment:', shamieh_regional, '', '' ,'','','','','','','','','','','','','']"
   ]
  },
  {
   "cell_type": "code",
   "execution_count": 89,
   "id": "1d87d266-b5b6-424b-88b3-14a962971d3f",
   "metadata": {},
   "outputs": [],
   "source": [
    "#greg_shamieh.loc[11113] = ['Total Payout:', shamieh_1, '', '' ,'','','','','','','','','','','','','']"
   ]
  },
  {
   "cell_type": "code",
   "execution_count": 90,
   "id": "5c257a67-0e53-4a73-a373-084561ac601f",
   "metadata": {},
   "outputs": [],
   "source": [
    "#greg_shamieh.to_excel(os.path.join(../SE','shamieh_September_2022.xlsx'), index=False)"
   ]
  },
  {
   "cell_type": "markdown",
   "id": "586f135a-1483-421f-9758-2e7bf9b776d3",
   "metadata": {},
   "source": [
    "#### End Greg Shamieh"
   ]
  },
  {
   "cell_type": "markdown",
   "id": "b5056314-d923-4f7d-8c2f-8f4a2efb9555",
   "metadata": {
    "tags": []
   },
   "source": [
    "## Eric Carter - West"
   ]
  },
  {
   "cell_type": "code",
   "execution_count": 91,
   "id": "a69ba14b-62f1-40cc-a2bf-e22235c3fd78",
   "metadata": {},
   "outputs": [],
   "source": [
    "eric_carter_1  = (west/170000)*3333"
   ]
  },
  {
   "cell_type": "code",
   "execution_count": 92,
   "id": "2bd14d09-461f-4725-b65d-aa4260ac36d7",
   "metadata": {},
   "outputs": [
    {
     "name": "stdout",
     "output_type": "stream",
     "text": [
      "3175.6402473529415\n"
     ]
    }
   ],
   "source": [
    "print(eric_carter_1)"
   ]
  },
  {
   "cell_type": "code",
   "execution_count": 93,
   "id": "caa2095d-91d2-4045-b9db-0488f378f9c8",
   "metadata": {},
   "outputs": [],
   "source": [
    "carter = pd.DataFrame(columns=['Name:', 'Payout:', 'East Quota %:' , 'Formula Used:'])"
   ]
  },
  {
   "cell_type": "code",
   "execution_count": 94,
   "id": "681ae6a0-0474-480e-96e0-94d538a23427",
   "metadata": {},
   "outputs": [],
   "source": [
    "carter.loc[1111] = ['Eric Carter', eric_carter_1, westf , '(west/170000)*3333' ]"
   ]
  },
  {
   "cell_type": "code",
   "execution_count": 95,
   "id": "fcf8ed6d-e4ce-4b49-ba7b-ce37afa8665f",
   "metadata": {},
   "outputs": [
    {
     "name": "stdout",
     "output_type": "stream",
     "text": [
      "            Name:      Payout:  East Quota %:       Formula Used:\n",
      "1111  Eric Carter  3175.640247       0.952787  (west/170000)*3333\n"
     ]
    }
   ],
   "source": [
    "print(carter)"
   ]
  },
  {
   "cell_type": "code",
   "execution_count": 96,
   "id": "a42bda7e-d843-483a-82ec-c1f91803e4e3",
   "metadata": {},
   "outputs": [],
   "source": [
    "carter.to_excel(os.path.join('../SE','carter_September_2022.xlsx'), index=False)"
   ]
  },
  {
   "cell_type": "markdown",
   "id": "c43a2fc5-1d02-4621-b699-1489106ec94d",
   "metadata": {
    "jp-MarkdownHeadingCollapsed": true,
    "tags": []
   },
   "source": [
    "#### End Eric Carter"
   ]
  },
  {
   "cell_type": "markdown",
   "id": "48936de1-f1ae-486a-b9ce-4524aa2b3cfc",
   "metadata": {
    "tags": []
   },
   "source": [
    "### Anthony Mccloud - West"
   ]
  },
  {
   "cell_type": "code",
   "execution_count": 97,
   "id": "51691ed2-9ffe-48bb-89ba-6745a53f1dbd",
   "metadata": {},
   "outputs": [
    {
     "data": {
      "text/html": [
       "<div>\n",
       "<style scoped>\n",
       "    .dataframe tbody tr th:only-of-type {\n",
       "        vertical-align: middle;\n",
       "    }\n",
       "\n",
       "    .dataframe tbody tr th {\n",
       "        vertical-align: top;\n",
       "    }\n",
       "\n",
       "    .dataframe thead th {\n",
       "        text-align: right;\n",
       "    }\n",
       "</style>\n",
       "<table border=\"1\" class=\"dataframe\">\n",
       "  <thead>\n",
       "    <tr style=\"text-align: right;\">\n",
       "      <th></th>\n",
       "      <th>SE Assigned</th>\n",
       "      <th>Account Name</th>\n",
       "      <th>Opportunity Name</th>\n",
       "      <th>Net Amount</th>\n",
       "      <th>Close Date</th>\n",
       "      <th>Order Number</th>\n",
       "      <th>Data Centers</th>\n",
       "      <th>Type</th>\n",
       "      <th>Stage</th>\n",
       "    </tr>\n",
       "  </thead>\n",
       "  <tbody>\n",
       "    <tr>\n",
       "      <th>0</th>\n",
       "      <td>Anthony McCloud</td>\n",
       "      <td>Trading Technologies</td>\n",
       "      <td>Trading Technologies - 6Mo Renewal - ORD1 - 08...</td>\n",
       "      <td>5332.25</td>\n",
       "      <td>2022-08-31 00:00:00</td>\n",
       "      <td>66558</td>\n",
       "      <td>ORD1</td>\n",
       "      <td>Renewal</td>\n",
       "      <td>Closed Won</td>\n",
       "    </tr>\n",
       "  </tbody>\n",
       "</table>\n",
       "</div>"
      ],
      "text/plain": [
       "       SE Assigned          Account Name  \\\n",
       "0  Anthony McCloud  Trading Technologies   \n",
       "\n",
       "                                    Opportunity Name  Net Amount  \\\n",
       "0  Trading Technologies - 6Mo Renewal - ORD1 - 08...     5332.25   \n",
       "\n",
       "            Close Date Order Number Data Centers     Type       Stage  \n",
       "0  2022-08-31 00:00:00        66558         ORD1  Renewal  Closed Won  "
      ]
     },
     "execution_count": 97,
     "metadata": {},
     "output_type": "execute_result"
    }
   ],
   "source": [
    "anthony_mccloud.head(1)"
   ]
  },
  {
   "cell_type": "code",
   "execution_count": 98,
   "id": "de216b86-0892-4fc4-a52c-57cc6d82ee1c",
   "metadata": {},
   "outputs": [],
   "source": [
    "mccloud_indivdual = anthony_mccloud['Net Amount'].sum()"
   ]
  },
  {
   "cell_type": "code",
   "execution_count": 99,
   "id": "e6d1aead-2a96-4973-931e-35763bc96393",
   "metadata": {},
   "outputs": [
    {
     "name": "stdout",
     "output_type": "stream",
     "text": [
      "21193.86\n"
     ]
    }
   ],
   "source": [
    "print(mccloud_indivdual)"
   ]
  },
  {
   "cell_type": "code",
   "execution_count": 100,
   "id": "1df5683f-129b-4efc-9972-9900f5dbdf12",
   "metadata": {},
   "outputs": [],
   "source": [
    "mccloud_regional = (west/170000)*500"
   ]
  },
  {
   "cell_type": "code",
   "execution_count": 101,
   "id": "5dcb95a0-673e-48e0-b0d8-c61cc66d2c97",
   "metadata": {},
   "outputs": [],
   "source": [
    "mccloud_1 = (anthony_mccloud['Net Amount'] * 0.0666).sum() + mccloud_regional"
   ]
  },
  {
   "cell_type": "code",
   "execution_count": 102,
   "id": "3bb7d2e7-ad74-468f-a284-6f80aed9ee95",
   "metadata": {},
   "outputs": [
    {
     "name": "stdout",
     "output_type": "stream",
     "text": [
      "1887.9047524705884\n"
     ]
    }
   ],
   "source": [
    "print(mccloud_1)"
   ]
  },
  {
   "cell_type": "code",
   "execution_count": 103,
   "id": "40d0f4da-8607-4827-84f8-96248bf5ed25",
   "metadata": {},
   "outputs": [],
   "source": [
    "anthony_mccloud.loc[11111] = ['Total Indivdual Bookings:', '', '', mccloud_indivdual ,'','','','','']"
   ]
  },
  {
   "cell_type": "code",
   "execution_count": 104,
   "id": "fa8cec46-8bb0-41b7-b800-fb2ea0b28363",
   "metadata": {},
   "outputs": [],
   "source": [
    "anthony_mccloud.loc[11112] = ['Regional Payment:', '', '', mccloud_regional ,'','','','','']"
   ]
  },
  {
   "cell_type": "code",
   "execution_count": 105,
   "id": "741a6354-171e-4489-820c-4f29447cad34",
   "metadata": {},
   "outputs": [],
   "source": [
    "anthony_mccloud.loc[11113] = ['Total Payout:', '', '', mccloud_1 ,'','','','','']"
   ]
  },
  {
   "cell_type": "code",
   "execution_count": 106,
   "id": "a0cc2abb-e0ef-4386-9060-018d4fc49d29",
   "metadata": {},
   "outputs": [],
   "source": [
    "anthony_mccloud.to_excel(os.path.join('../SE','mccloud_September_2022.xlsx'), index=False)"
   ]
  },
  {
   "cell_type": "markdown",
   "id": "625564ad-6dd4-4566-beca-1e81cbec29bc",
   "metadata": {},
   "source": [
    "#### End Anthony Mccloud"
   ]
  },
  {
   "cell_type": "markdown",
   "id": "9f0ebcb7-ec61-4149-80ed-95d9fa410112",
   "metadata": {
    "tags": []
   },
   "source": [
    "### Christopher Chandler - West"
   ]
  },
  {
   "cell_type": "code",
   "execution_count": 107,
   "id": "203c3b2d-61fa-45c2-a0e0-0d08ffb28aaf",
   "metadata": {},
   "outputs": [
    {
     "data": {
      "text/html": [
       "<div>\n",
       "<style scoped>\n",
       "    .dataframe tbody tr th:only-of-type {\n",
       "        vertical-align: middle;\n",
       "    }\n",
       "\n",
       "    .dataframe tbody tr th {\n",
       "        vertical-align: top;\n",
       "    }\n",
       "\n",
       "    .dataframe thead th {\n",
       "        text-align: right;\n",
       "    }\n",
       "</style>\n",
       "<table border=\"1\" class=\"dataframe\">\n",
       "  <thead>\n",
       "    <tr style=\"text-align: right;\">\n",
       "      <th></th>\n",
       "      <th>SE Assigned</th>\n",
       "      <th>Account Name</th>\n",
       "      <th>Opportunity Name</th>\n",
       "      <th>Net Amount</th>\n",
       "      <th>Close Date</th>\n",
       "      <th>Order Number</th>\n",
       "      <th>Data Centers</th>\n",
       "      <th>Type</th>\n",
       "      <th>Stage</th>\n",
       "    </tr>\n",
       "  </thead>\n",
       "  <tbody>\n",
       "    <tr>\n",
       "      <th>75</th>\n",
       "      <td>Christopher Chandler</td>\n",
       "      <td>Prince Minerals LCC</td>\n",
       "      <td>Prince Minerals - DFW3 - RU Space - 8/10/2022</td>\n",
       "      <td>1070.97</td>\n",
       "      <td>2022-08-18 00:00:00</td>\n",
       "      <td>65574</td>\n",
       "      <td>DFW3</td>\n",
       "      <td>Change Order</td>\n",
       "      <td>Closed Won</td>\n",
       "    </tr>\n",
       "  </tbody>\n",
       "</table>\n",
       "</div>"
      ],
      "text/plain": [
       "             SE Assigned         Account Name  \\\n",
       "75  Christopher Chandler  Prince Minerals LCC   \n",
       "\n",
       "                                 Opportunity Name  Net Amount  \\\n",
       "75  Prince Minerals - DFW3 - RU Space - 8/10/2022     1070.97   \n",
       "\n",
       "             Close Date Order Number Data Centers          Type       Stage  \n",
       "75  2022-08-18 00:00:00        65574         DFW3  Change Order  Closed Won  "
      ]
     },
     "execution_count": 107,
     "metadata": {},
     "output_type": "execute_result"
    }
   ],
   "source": [
    "christopher_chandler.head(1)"
   ]
  },
  {
   "cell_type": "code",
   "execution_count": 108,
   "id": "89339eb2-2020-4a23-9d56-60a03302da01",
   "metadata": {},
   "outputs": [],
   "source": [
    "chandler_indivdual = christopher_chandler['Net Amount'].sum()"
   ]
  },
  {
   "cell_type": "code",
   "execution_count": 109,
   "id": "732a8766-d071-4ad2-b347-0c827e964f15",
   "metadata": {},
   "outputs": [
    {
     "name": "stdout",
     "output_type": "stream",
     "text": [
      "3246.9300000000003\n"
     ]
    }
   ],
   "source": [
    "print(chandler_indivdual)"
   ]
  },
  {
   "cell_type": "code",
   "execution_count": 110,
   "id": "5c64abcd-478a-48b7-9d83-3f4874ca6b1c",
   "metadata": {},
   "outputs": [],
   "source": [
    "chandler_regional = (west/170000)*500"
   ]
  },
  {
   "cell_type": "code",
   "execution_count": 111,
   "id": "268d1dd5-a4a7-4dbc-9357-9e924638b45c",
   "metadata": {},
   "outputs": [
    {
     "name": "stdout",
     "output_type": "stream",
     "text": [
      "476.3936764705883\n"
     ]
    }
   ],
   "source": [
    "print(chandler_regional)"
   ]
  },
  {
   "cell_type": "code",
   "execution_count": 112,
   "id": "751446af-380c-473b-9df8-37ec94e2f265",
   "metadata": {},
   "outputs": [],
   "source": [
    "chandler_1 = (christopher_chandler['Net Amount'] * 0.0666).sum() + chandler_regional"
   ]
  },
  {
   "cell_type": "code",
   "execution_count": 113,
   "id": "5c8d400e-2fd4-4279-8fae-b72a5a255455",
   "metadata": {},
   "outputs": [
    {
     "name": "stdout",
     "output_type": "stream",
     "text": [
      "692.6392144705883\n"
     ]
    }
   ],
   "source": [
    "print(chandler_1)"
   ]
  },
  {
   "cell_type": "code",
   "execution_count": 114,
   "id": "c0c6a5c1-bb48-4ca1-9990-83eba3a11104",
   "metadata": {},
   "outputs": [],
   "source": [
    "christopher_chandler.loc[11111] = ['Total Indivdual Bookings:', chandler_indivdual, '', '' ,'','','','','']"
   ]
  },
  {
   "cell_type": "code",
   "execution_count": 115,
   "id": "f98e535e-f973-4ef0-a383-23cd972f848c",
   "metadata": {},
   "outputs": [],
   "source": [
    "christopher_chandler.loc[11112] = ['Regional Payment:', chandler_regional, '', '' ,'','','','','']"
   ]
  },
  {
   "cell_type": "code",
   "execution_count": 116,
   "id": "d1918276-1985-49d6-9c31-7750ce30a5ae",
   "metadata": {},
   "outputs": [],
   "source": [
    "christopher_chandler.loc[11113] = ['Total Payout:', chandler_1, '', '' ,'','','','','']"
   ]
  },
  {
   "cell_type": "code",
   "execution_count": 117,
   "id": "962a1dff-28bd-4831-aa12-d70e33db6e39",
   "metadata": {},
   "outputs": [],
   "source": [
    "christopher_chandler.to_excel(os.path.join('../SE','chandler_September_2022.xlsx'), index=False)"
   ]
  },
  {
   "cell_type": "markdown",
   "id": "fc083580-ed9c-41bd-915f-87cb06a3a7ef",
   "metadata": {},
   "source": [
    "#### End Christopher Chandler "
   ]
  },
  {
   "cell_type": "markdown",
   "id": "39541d8c-099a-4ad7-9801-58d1afcd9413",
   "metadata": {
    "tags": []
   },
   "source": [
    "### William Brucker - West"
   ]
  },
  {
   "cell_type": "code",
   "execution_count": 118,
   "id": "e01e5467-5ce2-4eed-8acf-5c0c9d70c827",
   "metadata": {},
   "outputs": [
    {
     "data": {
      "text/html": [
       "<div>\n",
       "<style scoped>\n",
       "    .dataframe tbody tr th:only-of-type {\n",
       "        vertical-align: middle;\n",
       "    }\n",
       "\n",
       "    .dataframe tbody tr th {\n",
       "        vertical-align: top;\n",
       "    }\n",
       "\n",
       "    .dataframe thead th {\n",
       "        text-align: right;\n",
       "    }\n",
       "</style>\n",
       "<table border=\"1\" class=\"dataframe\">\n",
       "  <thead>\n",
       "    <tr style=\"text-align: right;\">\n",
       "      <th></th>\n",
       "      <th>SE Assigned</th>\n",
       "      <th>Account Name</th>\n",
       "      <th>Opportunity Name</th>\n",
       "      <th>Net Amount</th>\n",
       "      <th>Close Date</th>\n",
       "      <th>Order Number</th>\n",
       "      <th>Data Centers</th>\n",
       "      <th>Type</th>\n",
       "      <th>Stage</th>\n",
       "    </tr>\n",
       "  </thead>\n",
       "  <tbody>\n",
       "    <tr>\n",
       "      <th>366</th>\n",
       "      <td>William Brucker</td>\n",
       "      <td>Proofpoint, Inc.</td>\n",
       "      <td>Proofpoint/CageColo/SLC5/08112022</td>\n",
       "      <td>29897.6</td>\n",
       "      <td>2022-08-18 00:00:00</td>\n",
       "      <td>65518</td>\n",
       "      <td>SLC5</td>\n",
       "      <td>Existing</td>\n",
       "      <td>Closed Won</td>\n",
       "    </tr>\n",
       "  </tbody>\n",
       "</table>\n",
       "</div>"
      ],
      "text/plain": [
       "         SE Assigned      Account Name                   Opportunity Name  \\\n",
       "366  William Brucker  Proofpoint, Inc.  Proofpoint/CageColo/SLC5/08112022   \n",
       "\n",
       "     Net Amount           Close Date Order Number Data Centers      Type  \\\n",
       "366     29897.6  2022-08-18 00:00:00        65518         SLC5  Existing   \n",
       "\n",
       "          Stage  \n",
       "366  Closed Won  "
      ]
     },
     "execution_count": 118,
     "metadata": {},
     "output_type": "execute_result"
    }
   ],
   "source": [
    "william_brucker.head(1)"
   ]
  },
  {
   "cell_type": "code",
   "execution_count": 119,
   "id": "b07315f3-be0d-4564-bf48-b9266efe69d1",
   "metadata": {},
   "outputs": [],
   "source": [
    "brucker_indivdual = william_brucker['Net Amount'].sum()"
   ]
  },
  {
   "cell_type": "code",
   "execution_count": 120,
   "id": "d734d733-cff5-4bdf-a8aa-0d45ce96581a",
   "metadata": {},
   "outputs": [
    {
     "name": "stdout",
     "output_type": "stream",
     "text": [
      "61407.8\n"
     ]
    }
   ],
   "source": [
    "print(brucker_indivdual)"
   ]
  },
  {
   "cell_type": "code",
   "execution_count": 121,
   "id": "895a9748-a85e-472c-a357-9037cf388282",
   "metadata": {},
   "outputs": [],
   "source": [
    "brucker_regional = (west/170000)*500"
   ]
  },
  {
   "cell_type": "code",
   "execution_count": 122,
   "id": "bac25b94-0fc5-443f-92cc-9539e6e5404c",
   "metadata": {},
   "outputs": [],
   "source": [
    "brucker_1 = (william_brucker['Net Amount'] * 0.0666).sum() + brucker_regional"
   ]
  },
  {
   "cell_type": "code",
   "execution_count": 123,
   "id": "4e44aad6-a165-4bca-8e1c-5853e221f319",
   "metadata": {},
   "outputs": [
    {
     "name": "stdout",
     "output_type": "stream",
     "text": [
      "4566.153156470589\n"
     ]
    }
   ],
   "source": [
    "print(brucker_1)"
   ]
  },
  {
   "cell_type": "code",
   "execution_count": 124,
   "id": "bba9d9b7-6678-4396-83fd-b2e4cd2d648f",
   "metadata": {},
   "outputs": [],
   "source": [
    "william_brucker.loc[11111] = ['Total Indivdual Bookings:', brucker_indivdual, '', '' ,'','','','','']"
   ]
  },
  {
   "cell_type": "code",
   "execution_count": 125,
   "id": "8e0b6afa-9830-464c-bbbc-7cec83a43284",
   "metadata": {},
   "outputs": [],
   "source": [
    "william_brucker.loc[11112] = ['Regional Payment:', brucker_regional, '', '' ,'','','','','']"
   ]
  },
  {
   "cell_type": "code",
   "execution_count": 126,
   "id": "b2c5e348-7566-4782-b6d8-e06487d522da",
   "metadata": {},
   "outputs": [],
   "source": [
    "william_brucker.loc[11113] = ['Total Payout:', brucker_1, '', '' ,'','','','','']"
   ]
  },
  {
   "cell_type": "code",
   "execution_count": 127,
   "id": "0dee11b2-6fa7-4e0f-935f-a47649a3199a",
   "metadata": {},
   "outputs": [],
   "source": [
    "william_brucker.to_excel(os.path.join('../SE','brucker_September_2022.xlsx'), index=False)"
   ]
  },
  {
   "cell_type": "markdown",
   "id": "e4f672bf-2cd5-4752-a6ed-9d6a900a6fc8",
   "metadata": {},
   "source": [
    "#### End William Brucker"
   ]
  },
  {
   "cell_type": "markdown",
   "id": "a32d3942-aede-4943-8708-82571ac32aa4",
   "metadata": {},
   "source": [
    "### Perry Allen - West"
   ]
  },
  {
   "cell_type": "code",
   "execution_count": 128,
   "id": "1198f923-935c-49b8-a2f6-5eb5b5271e8c",
   "metadata": {},
   "outputs": [
    {
     "data": {
      "text/html": [
       "<div>\n",
       "<style scoped>\n",
       "    .dataframe tbody tr th:only-of-type {\n",
       "        vertical-align: middle;\n",
       "    }\n",
       "\n",
       "    .dataframe tbody tr th {\n",
       "        vertical-align: top;\n",
       "    }\n",
       "\n",
       "    .dataframe thead th {\n",
       "        text-align: right;\n",
       "    }\n",
       "</style>\n",
       "<table border=\"1\" class=\"dataframe\">\n",
       "  <thead>\n",
       "    <tr style=\"text-align: right;\">\n",
       "      <th></th>\n",
       "      <th>SE Assigned</th>\n",
       "      <th>Account Name</th>\n",
       "      <th>Opportunity Name</th>\n",
       "      <th>Net Amount</th>\n",
       "      <th>Close Date</th>\n",
       "      <th>Order Number</th>\n",
       "      <th>Data Centers</th>\n",
       "      <th>Type</th>\n",
       "      <th>Stage</th>\n",
       "    </tr>\n",
       "  </thead>\n",
       "  <tbody>\n",
       "    <tr>\n",
       "      <th>351</th>\n",
       "      <td>Perry Allen</td>\n",
       "      <td>Seitel Inc</td>\n",
       "      <td>Seitel/Colo/HOU2/05052022</td>\n",
       "      <td>15000.0</td>\n",
       "      <td>2022-08-31 00:00:00</td>\n",
       "      <td>66377</td>\n",
       "      <td>HOU2</td>\n",
       "      <td>New</td>\n",
       "      <td>Closed Won</td>\n",
       "    </tr>\n",
       "  </tbody>\n",
       "</table>\n",
       "</div>"
      ],
      "text/plain": [
       "     SE Assigned Account Name           Opportunity Name  Net Amount  \\\n",
       "351  Perry Allen   Seitel Inc  Seitel/Colo/HOU2/05052022     15000.0   \n",
       "\n",
       "              Close Date Order Number Data Centers Type       Stage  \n",
       "351  2022-08-31 00:00:00        66377         HOU2  New  Closed Won  "
      ]
     },
     "execution_count": 128,
     "metadata": {},
     "output_type": "execute_result"
    }
   ],
   "source": [
    "perry_allen.head(1)"
   ]
  },
  {
   "cell_type": "code",
   "execution_count": 129,
   "id": "6db59f2b-747c-4edc-88d3-c995a4bcafe4",
   "metadata": {},
   "outputs": [],
   "source": [
    "allen_indivdual = perry_allen['Net Amount'].sum()"
   ]
  },
  {
   "cell_type": "code",
   "execution_count": 130,
   "id": "5d7b3fca-92af-4e74-b1df-32fc5662701e",
   "metadata": {},
   "outputs": [
    {
     "name": "stdout",
     "output_type": "stream",
     "text": [
      "30650.0\n"
     ]
    }
   ],
   "source": [
    "print(allen_indivdual)"
   ]
  },
  {
   "cell_type": "code",
   "execution_count": 131,
   "id": "9344fcac-0e99-4905-bc8d-4907ecc7860a",
   "metadata": {},
   "outputs": [],
   "source": [
    "allen_regional = (west/170000)*667"
   ]
  },
  {
   "cell_type": "code",
   "execution_count": 132,
   "id": "aea25b1a-4c70-4b6d-8fa5-3ed21a50ceb0",
   "metadata": {},
   "outputs": [],
   "source": [
    "allen_1 = (perry_allen['Net Amount'] * 0.0888).sum() + allen_regional"
   ]
  },
  {
   "cell_type": "code",
   "execution_count": 133,
   "id": "b4c20234-02a6-4096-9553-30b45dd41f3a",
   "metadata": {},
   "outputs": [
    {
     "name": "stdout",
     "output_type": "stream",
     "text": [
      "3357.2291644117645\n"
     ]
    }
   ],
   "source": [
    "print(allen_1)"
   ]
  },
  {
   "cell_type": "code",
   "execution_count": 134,
   "id": "195a7434-4264-4c88-a29d-9adc98bba05c",
   "metadata": {},
   "outputs": [],
   "source": [
    "perry_allen.loc[11111] = ['Total Indivdual Bookings:', allen_indivdual, '', '' ,'','','','','']"
   ]
  },
  {
   "cell_type": "code",
   "execution_count": 135,
   "id": "dd05183e-e8d2-45aa-9212-472a6b6a4ba7",
   "metadata": {},
   "outputs": [],
   "source": [
    "perry_allen.loc[11112] = ['Regional Payment:', allen_regional, '', '' ,'','','','','']"
   ]
  },
  {
   "cell_type": "code",
   "execution_count": 136,
   "id": "a50ede93-222c-4470-8e34-2f1f25547a5d",
   "metadata": {},
   "outputs": [],
   "source": [
    "perry_allen.loc[11113] = ['Total Payout:', allen_1, '', '' ,'','','','','']"
   ]
  },
  {
   "cell_type": "code",
   "execution_count": 137,
   "id": "5f2c2f27-805c-40a7-9173-ff3c7d82ec23",
   "metadata": {},
   "outputs": [],
   "source": [
    "perry_allen.to_excel(os.path.join('../SE','allen_September_2022.xlsx'), index=False)"
   ]
  },
  {
   "cell_type": "markdown",
   "id": "8b00c25e-c6bb-4b44-80a3-2de299945f8b",
   "metadata": {},
   "source": [
    "#### End Perry Allen "
   ]
  },
  {
   "cell_type": "markdown",
   "id": "8f0bdb22-73f5-4cb5-8eee-1d3055b1b33d",
   "metadata": {},
   "source": [
    "### Greg Ryman - West"
   ]
  },
  {
   "cell_type": "code",
   "execution_count": 138,
   "id": "8fcf71ba-d721-456d-b453-0721b5643cec",
   "metadata": {},
   "outputs": [
    {
     "data": {
      "text/html": [
       "<div>\n",
       "<style scoped>\n",
       "    .dataframe tbody tr th:only-of-type {\n",
       "        vertical-align: middle;\n",
       "    }\n",
       "\n",
       "    .dataframe tbody tr th {\n",
       "        vertical-align: top;\n",
       "    }\n",
       "\n",
       "    .dataframe thead th {\n",
       "        text-align: right;\n",
       "    }\n",
       "</style>\n",
       "<table border=\"1\" class=\"dataframe\">\n",
       "  <thead>\n",
       "    <tr style=\"text-align: right;\">\n",
       "      <th></th>\n",
       "      <th>SE Assigned</th>\n",
       "      <th>Account Name</th>\n",
       "      <th>Opportunity Name</th>\n",
       "      <th>Net Amount</th>\n",
       "      <th>Close Date</th>\n",
       "      <th>Order Number</th>\n",
       "      <th>Data Centers</th>\n",
       "      <th>Type</th>\n",
       "      <th>Stage</th>\n",
       "    </tr>\n",
       "  </thead>\n",
       "  <tbody>\n",
       "    <tr>\n",
       "      <th>188</th>\n",
       "      <td>Greg Ryman</td>\n",
       "      <td>CrowdStrike Services - zColo</td>\n",
       "      <td>Crowdstrike - Den 2 - Power Add 50/208-3P - a9...</td>\n",
       "      <td>2073.04</td>\n",
       "      <td>2022-08-25 00:00:00</td>\n",
       "      <td>64818</td>\n",
       "      <td>DEN2</td>\n",
       "      <td>Change Order</td>\n",
       "      <td>Closed Won</td>\n",
       "    </tr>\n",
       "  </tbody>\n",
       "</table>\n",
       "</div>"
      ],
      "text/plain": [
       "    SE Assigned                  Account Name  \\\n",
       "188  Greg Ryman  CrowdStrike Services - zColo   \n",
       "\n",
       "                                      Opportunity Name  Net Amount  \\\n",
       "188  Crowdstrike - Den 2 - Power Add 50/208-3P - a9...     2073.04   \n",
       "\n",
       "              Close Date Order Number Data Centers          Type       Stage  \n",
       "188  2022-08-25 00:00:00        64818         DEN2  Change Order  Closed Won  "
      ]
     },
     "execution_count": 138,
     "metadata": {},
     "output_type": "execute_result"
    }
   ],
   "source": [
    "greg_ryman.head(1)"
   ]
  },
  {
   "cell_type": "code",
   "execution_count": 139,
   "id": "97f589e6-218f-4305-b320-687962f1ce04",
   "metadata": {},
   "outputs": [],
   "source": [
    "ryman_indivdual = greg_ryman['Net Amount'].sum()"
   ]
  },
  {
   "cell_type": "code",
   "execution_count": 140,
   "id": "99020353-0bab-41aa-97ce-ba5e13eeabcc",
   "metadata": {},
   "outputs": [
    {
     "name": "stdout",
     "output_type": "stream",
     "text": [
      "4969.44\n"
     ]
    }
   ],
   "source": [
    "print(ryman_indivdual)"
   ]
  },
  {
   "cell_type": "code",
   "execution_count": 141,
   "id": "16f14990-563d-4930-83ad-4c5ca77ecce5",
   "metadata": {},
   "outputs": [],
   "source": [
    "ryman_regional = (west/170000)*500"
   ]
  },
  {
   "cell_type": "code",
   "execution_count": 142,
   "id": "081a711a-7b79-4762-a9be-8eac9d30784a",
   "metadata": {},
   "outputs": [],
   "source": [
    "ryman_1 = (greg_ryman['Net Amount'] * 0.0666).sum() + ryman_regional"
   ]
  },
  {
   "cell_type": "code",
   "execution_count": 143,
   "id": "2cf30d47-f536-4b0a-aee9-5d03bded46ca",
   "metadata": {},
   "outputs": [
    {
     "name": "stdout",
     "output_type": "stream",
     "text": [
      "807.3583804705884\n"
     ]
    }
   ],
   "source": [
    "print(ryman_1)"
   ]
  },
  {
   "cell_type": "code",
   "execution_count": 144,
   "id": "f08809b1-17c9-47ec-a8cd-743025104667",
   "metadata": {},
   "outputs": [],
   "source": [
    "greg_ryman.loc[11111] = ['Indivdual Bookings:', ryman_indivdual, '', '' ,'','','','','']"
   ]
  },
  {
   "cell_type": "code",
   "execution_count": 145,
   "id": "140a3e38-1ff0-49e5-9924-956b30098e74",
   "metadata": {},
   "outputs": [],
   "source": [
    "greg_ryman.loc[11112] = ['Regional Payment:', ryman_regional, '', '' ,'','','','','']"
   ]
  },
  {
   "cell_type": "code",
   "execution_count": 146,
   "id": "c03838e7-9ba5-4de5-9da8-df30c5b16422",
   "metadata": {},
   "outputs": [],
   "source": [
    "greg_ryman.loc[11113] = ['Total Payout:', ryman_1, '', '' ,'','','','','']"
   ]
  },
  {
   "cell_type": "code",
   "execution_count": 147,
   "id": "c849ef68-55fb-46c3-b31d-d7d3d43074f4",
   "metadata": {},
   "outputs": [],
   "source": [
    "greg_ryman.to_excel(os.path.join('../SE','ryman_September_2022.xlsx'), index=False)"
   ]
  },
  {
   "cell_type": "markdown",
   "id": "c2db8ce8-855c-42fe-bc6b-feccffefcd1e",
   "metadata": {},
   "source": [
    "#### End Greg Ryman"
   ]
  },
  {
   "cell_type": "markdown",
   "id": "a87ae777-910d-4b3f-884c-3a58f7fe6394",
   "metadata": {},
   "source": [
    "### Grady Vogt"
   ]
  },
  {
   "cell_type": "code",
   "execution_count": 148,
   "id": "2c81b792-e65b-41aa-b023-c5b3f4460bc7",
   "metadata": {},
   "outputs": [
    {
     "data": {
      "text/html": [
       "<div>\n",
       "<style scoped>\n",
       "    .dataframe tbody tr th:only-of-type {\n",
       "        vertical-align: middle;\n",
       "    }\n",
       "\n",
       "    .dataframe tbody tr th {\n",
       "        vertical-align: top;\n",
       "    }\n",
       "\n",
       "    .dataframe thead th {\n",
       "        text-align: right;\n",
       "    }\n",
       "</style>\n",
       "<table border=\"1\" class=\"dataframe\">\n",
       "  <thead>\n",
       "    <tr style=\"text-align: right;\">\n",
       "      <th></th>\n",
       "      <th>SE Assigned</th>\n",
       "      <th>Account Name</th>\n",
       "      <th>Opportunity Name</th>\n",
       "      <th>Net Amount</th>\n",
       "      <th>Close Date</th>\n",
       "      <th>Order Number</th>\n",
       "      <th>Data Centers</th>\n",
       "      <th>Type</th>\n",
       "      <th>Stage</th>\n",
       "    </tr>\n",
       "  </thead>\n",
       "  <tbody>\n",
       "    <tr>\n",
       "      <th>143</th>\n",
       "      <td>Grady Vogt</td>\n",
       "      <td>Comport</td>\n",
       "      <td>Comport - MSP3 - Comport Secure Expansion</td>\n",
       "      <td>4529.65</td>\n",
       "      <td>2022-08-12 00:00:00</td>\n",
       "      <td>65488</td>\n",
       "      <td>MSP3</td>\n",
       "      <td>New</td>\n",
       "      <td>Closed Won</td>\n",
       "    </tr>\n",
       "  </tbody>\n",
       "</table>\n",
       "</div>"
      ],
      "text/plain": [
       "    SE Assigned Account Name                           Opportunity Name  \\\n",
       "143  Grady Vogt      Comport  Comport - MSP3 - Comport Secure Expansion   \n",
       "\n",
       "     Net Amount           Close Date Order Number Data Centers Type  \\\n",
       "143     4529.65  2022-08-12 00:00:00        65488         MSP3  New   \n",
       "\n",
       "          Stage  \n",
       "143  Closed Won  "
      ]
     },
     "execution_count": 148,
     "metadata": {},
     "output_type": "execute_result"
    }
   ],
   "source": [
    "grady_vogt.head(1)"
   ]
  },
  {
   "cell_type": "code",
   "execution_count": 149,
   "id": "13b527fa-645f-4f56-bf7e-d1491dc1a165",
   "metadata": {},
   "outputs": [],
   "source": [
    "vogt_indivdual = grady_vogt['Net Amount'].sum()"
   ]
  },
  {
   "cell_type": "code",
   "execution_count": 150,
   "id": "0c01577c-ffe0-4381-88b4-eb009b3fc39f",
   "metadata": {},
   "outputs": [
    {
     "name": "stdout",
     "output_type": "stream",
     "text": [
      "22798.45\n"
     ]
    }
   ],
   "source": [
    "print(vogt_indivdual)"
   ]
  },
  {
   "cell_type": "code",
   "execution_count": 151,
   "id": "d9a44a32-19ef-4a20-91d8-7bc0bcda6286",
   "metadata": {},
   "outputs": [],
   "source": [
    "vogt_regional = (west/170000)*667"
   ]
  },
  {
   "cell_type": "code",
   "execution_count": 152,
   "id": "969979cf-d2e9-4867-a8bf-7bf59c51bd0e",
   "metadata": {},
   "outputs": [
    {
     "name": "stdout",
     "output_type": "stream",
     "text": [
      "635.5091644117648\n"
     ]
    }
   ],
   "source": [
    "print(vogt_regional)"
   ]
  },
  {
   "cell_type": "code",
   "execution_count": 153,
   "id": "464c9afe-4ced-4c94-8e60-989f79667ac6",
   "metadata": {},
   "outputs": [],
   "source": [
    "vogt_1 = (grady_vogt['Net Amount'] * 0.0888).sum() + vogt_regional"
   ]
  },
  {
   "cell_type": "code",
   "execution_count": 154,
   "id": "2412b0fb-adc0-4621-b9b0-2a97aab98b04",
   "metadata": {},
   "outputs": [
    {
     "name": "stdout",
     "output_type": "stream",
     "text": [
      "2660.0115244117646\n"
     ]
    }
   ],
   "source": [
    "print(vogt_1)"
   ]
  },
  {
   "cell_type": "code",
   "execution_count": 155,
   "id": "02d73c27-9418-4a35-b569-30b635a2efab",
   "metadata": {},
   "outputs": [],
   "source": [
    "grady_vogt.loc[11111] = ['Total Indivdual Bookings:', '', '', vogt_indivdual ,'','','','','']"
   ]
  },
  {
   "cell_type": "code",
   "execution_count": 156,
   "id": "e9ad2547-10d9-4fd5-aec3-1429656a7165",
   "metadata": {},
   "outputs": [],
   "source": [
    "grady_vogt.loc[11112] = ['Regional Payment:', '', '', vogt_regional ,'','','','','']"
   ]
  },
  {
   "cell_type": "code",
   "execution_count": 157,
   "id": "50922d94-4133-4454-907c-d7267ff61de1",
   "metadata": {},
   "outputs": [],
   "source": [
    "grady_vogt.loc[11113] = ['Total Payout:', '', '', vogt_1 ,'','','','','']"
   ]
  },
  {
   "cell_type": "code",
   "execution_count": 158,
   "id": "30eb87b5-f3c1-4c1c-b5e7-f716a865e508",
   "metadata": {},
   "outputs": [],
   "source": [
    "grady_vogt.to_excel(os.path.join('../SE','vogt_September_2022.xlsx'), index=False)"
   ]
  },
  {
   "cell_type": "markdown",
   "id": "ff284b87-b636-4b41-b685-3aecd3b0e3e2",
   "metadata": {},
   "source": [
    "#### End Grady Vogt"
   ]
  },
  {
   "cell_type": "markdown",
   "id": "f2aaa537-e8b6-4b57-920f-ea5a4e5f371c",
   "metadata": {
    "tags": []
   },
   "source": [
    "### Daniel Bartholomew"
   ]
  },
  {
   "cell_type": "code",
   "execution_count": 159,
   "id": "fcf493c8-543e-410b-96c8-10bcaee4a008",
   "metadata": {},
   "outputs": [
    {
     "data": {
      "text/html": [
       "<div>\n",
       "<style scoped>\n",
       "    .dataframe tbody tr th:only-of-type {\n",
       "        vertical-align: middle;\n",
       "    }\n",
       "\n",
       "    .dataframe tbody tr th {\n",
       "        vertical-align: top;\n",
       "    }\n",
       "\n",
       "    .dataframe thead th {\n",
       "        text-align: right;\n",
       "    }\n",
       "</style>\n",
       "<table border=\"1\" class=\"dataframe\">\n",
       "  <thead>\n",
       "    <tr style=\"text-align: right;\">\n",
       "      <th></th>\n",
       "      <th>SE Assigned</th>\n",
       "      <th>Account Name</th>\n",
       "      <th>Opportunity Name</th>\n",
       "      <th>Net Amount</th>\n",
       "      <th>Close Date</th>\n",
       "      <th>Order Number</th>\n",
       "      <th>Data Centers</th>\n",
       "      <th>Type</th>\n",
       "      <th>Stage</th>\n",
       "    </tr>\n",
       "  </thead>\n",
       "  <tbody>\n",
       "    <tr>\n",
       "      <th>90</th>\n",
       "      <td>Daniel Bartholomew</td>\n",
       "      <td>Pure Storage, Inc.</td>\n",
       "      <td>Pure Storage/renewalw/perann.increase/SLC3/020...</td>\n",
       "      <td>3810.0</td>\n",
       "      <td>2022-08-18 00:00:00</td>\n",
       "      <td>64649</td>\n",
       "      <td>SLC3</td>\n",
       "      <td>Renewal</td>\n",
       "      <td>Closed Won</td>\n",
       "    </tr>\n",
       "  </tbody>\n",
       "</table>\n",
       "</div>"
      ],
      "text/plain": [
       "           SE Assigned        Account Name  \\\n",
       "90  Daniel Bartholomew  Pure Storage, Inc.   \n",
       "\n",
       "                                     Opportunity Name  Net Amount  \\\n",
       "90  Pure Storage/renewalw/perann.increase/SLC3/020...      3810.0   \n",
       "\n",
       "             Close Date Order Number Data Centers     Type       Stage  \n",
       "90  2022-08-18 00:00:00        64649         SLC3  Renewal  Closed Won  "
      ]
     },
     "execution_count": 159,
     "metadata": {},
     "output_type": "execute_result"
    }
   ],
   "source": [
    "daniel_bartholomew.head(1)"
   ]
  },
  {
   "cell_type": "code",
   "execution_count": 160,
   "id": "90baf0d5-2bbe-4d43-bce9-cdeec28d4ca2",
   "metadata": {},
   "outputs": [],
   "source": [
    "bartholomew_indivdual = daniel_bartholomew['Net Amount'].sum()"
   ]
  },
  {
   "cell_type": "code",
   "execution_count": 161,
   "id": "cd3d350e-587e-4cb3-86d0-3d2397afc422",
   "metadata": {},
   "outputs": [
    {
     "name": "stdout",
     "output_type": "stream",
     "text": [
      "17707.37\n"
     ]
    }
   ],
   "source": [
    "print(bartholomew_indivdual)"
   ]
  },
  {
   "cell_type": "code",
   "execution_count": 162,
   "id": "23ce58d9-cb00-4e6d-95cc-a20060728a16",
   "metadata": {},
   "outputs": [],
   "source": [
    "bartholomew_regional = (west/170000)*667"
   ]
  },
  {
   "cell_type": "code",
   "execution_count": 163,
   "id": "8bceaeed-9d70-4c22-9513-cccbf828a890",
   "metadata": {},
   "outputs": [],
   "source": [
    "bartholomew_1 = (daniel_bartholomew['Net Amount'] * 0.0888).sum() + bartholomew_regional"
   ]
  },
  {
   "cell_type": "code",
   "execution_count": 164,
   "id": "3228aabc-50d9-4c6e-9759-300833fbb8c1",
   "metadata": {},
   "outputs": [
    {
     "name": "stdout",
     "output_type": "stream",
     "text": [
      "2207.9236204117647\n"
     ]
    }
   ],
   "source": [
    "print(bartholomew_1)"
   ]
  },
  {
   "cell_type": "code",
   "execution_count": 165,
   "id": "c469b6c2-d4b3-4f30-9fcc-6655a39fcf8c",
   "metadata": {},
   "outputs": [],
   "source": [
    "daniel_bartholomew.loc[11111] = ['Total Indivdual Bookings:', bartholomew_indivdual, '', '' ,'','','','','']"
   ]
  },
  {
   "cell_type": "code",
   "execution_count": 166,
   "id": "06510cf6-6c60-4bd4-a6fd-fe090fa3b3fc",
   "metadata": {},
   "outputs": [],
   "source": [
    "daniel_bartholomew.loc[11112] = ['Regional Payment:', bartholomew_regional, '', '' ,'','','','','']"
   ]
  },
  {
   "cell_type": "code",
   "execution_count": 167,
   "id": "431e994f-44ea-4384-8ea9-a5d4a91e5379",
   "metadata": {},
   "outputs": [],
   "source": [
    "daniel_bartholomew.loc[11113] = ['Total Payout:', bartholomew_1, '', '' ,'','','','','']"
   ]
  },
  {
   "cell_type": "code",
   "execution_count": 168,
   "id": "241d91d8-b10f-4cc4-aa79-895225395bac",
   "metadata": {},
   "outputs": [],
   "source": [
    "daniel_bartholomew.to_excel(os.path.join('../SE','Bartholomew_September_2022.xlsx'), index=False)"
   ]
  },
  {
   "cell_type": "markdown",
   "id": "b497f9c5-2c70-4ea0-8558-c96e4c679846",
   "metadata": {
    "jp-MarkdownHeadingCollapsed": true,
    "tags": []
   },
   "source": [
    "#### End Daniel Bartholomew"
   ]
  },
  {
   "cell_type": "markdown",
   "id": "beee20ca-758f-43c7-b725-225a33797782",
   "metadata": {
    "tags": []
   },
   "source": [
    "### End SEs"
   ]
  },
  {
   "cell_type": "markdown",
   "id": "4c327415-042c-45bf-bad7-f34c6e042ef2",
   "metadata": {
    "tags": []
   },
   "source": [
    "## Sheet For Payroll"
   ]
  },
  {
   "cell_type": "code",
   "execution_count": 169,
   "id": "a990ddf8-255d-4023-a49e-db20d3a22858",
   "metadata": {},
   "outputs": [],
   "source": [
    "se_by_period1 = pd.DataFrame(columns=['Name:', 'Payout:'])"
   ]
  },
  {
   "cell_type": "code",
   "execution_count": 170,
   "id": "6d5848c2-05c2-4199-a558-9589c07aa0d7",
   "metadata": {},
   "outputs": [],
   "source": [
    "se_by_period1.loc[0] = ['East:', '']"
   ]
  },
  {
   "cell_type": "code",
   "execution_count": 171,
   "id": "c38ef91c-2803-41db-b25b-08ea14247209",
   "metadata": {},
   "outputs": [],
   "source": [
    "se_by_period1.loc[1] = ['Brendon Yoder', yoder_1]"
   ]
  },
  {
   "cell_type": "code",
   "execution_count": 172,
   "id": "0d411ffe-a5a7-4ea9-b4ed-1c85f6999f50",
   "metadata": {},
   "outputs": [],
   "source": [
    "se_by_period1.loc[2] = ['Eric Wooster', wooster_1]"
   ]
  },
  {
   "cell_type": "code",
   "execution_count": 173,
   "id": "d42ef774-e2dc-485b-b9d3-4eb2b26ab22c",
   "metadata": {},
   "outputs": [],
   "source": [
    "se_by_period1.loc[3] = ['Greg Manning', manning_1]"
   ]
  },
  {
   "cell_type": "code",
   "execution_count": 174,
   "id": "7fe42070-6d6c-413d-9fc7-8befeca9ccd5",
   "metadata": {},
   "outputs": [],
   "source": [
    "se_by_period1.loc[4] = ['John Davis', davis_1 ]"
   ]
  },
  {
   "cell_type": "code",
   "execution_count": 175,
   "id": "43b221ea-cc72-4434-ad64-d3ccb9b42be2",
   "metadata": {},
   "outputs": [],
   "source": [
    "se_by_period1.loc[5] = ['Marshall Sapp', sapp_1 ]"
   ]
  },
  {
   "cell_type": "code",
   "execution_count": 176,
   "id": "cfc9476f-9779-4b41-a3eb-9eb4a80d171c",
   "metadata": {},
   "outputs": [],
   "source": [
    "se_by_period1.loc[6] = ['Michael Alvaro', alvaro_1]"
   ]
  },
  {
   "cell_type": "code",
   "execution_count": 177,
   "id": "12f4fd6f-0d01-48a8-8fd6-7a946001738a",
   "metadata": {},
   "outputs": [],
   "source": [
    "se_by_period1.loc[7] = ['Robert Zimmerman', robert_zimmerman_1 ]"
   ]
  },
  {
   "cell_type": "code",
   "execution_count": 178,
   "id": "4f5ef21e-00d7-4144-97d3-3ae20b6511ad",
   "metadata": {},
   "outputs": [],
   "source": [
    "#se_by_period.loc[8] = ['Greg Shamieh', shamieh_1 ]"
   ]
  },
  {
   "cell_type": "code",
   "execution_count": 179,
   "id": "a9e802df-9748-4006-a943-2629c896b75d",
   "metadata": {},
   "outputs": [],
   "source": [
    "se_by_period1.loc[9] = ['West:', '']"
   ]
  },
  {
   "cell_type": "code",
   "execution_count": 180,
   "id": "d5ebda8f-d2df-40d2-8a30-1126432c262c",
   "metadata": {},
   "outputs": [],
   "source": [
    "se_by_period1.loc[10] = ['Anthony McCloud', mccloud_1 ]"
   ]
  },
  {
   "cell_type": "code",
   "execution_count": 181,
   "id": "6a2645a8-1005-44d9-ac89-a4cb31ab2752",
   "metadata": {},
   "outputs": [],
   "source": [
    "se_by_period1.loc[11] = ['Chris Chandler', chandler_1 ]"
   ]
  },
  {
   "cell_type": "code",
   "execution_count": 182,
   "id": "128eda7e-781b-4327-a45b-56988f5499a0",
   "metadata": {},
   "outputs": [],
   "source": [
    "se_by_period1.loc[12] = ['Dan Bartholomew', bartholomew_1 ]"
   ]
  },
  {
   "cell_type": "code",
   "execution_count": 183,
   "id": "63d6a59f-81a9-4450-9b4e-2dc2e44e1993",
   "metadata": {},
   "outputs": [],
   "source": [
    "se_by_period1.loc[13] = ['Grady Vogt', vogt_1 ]"
   ]
  },
  {
   "cell_type": "code",
   "execution_count": 184,
   "id": "b5e09bd4-1b12-4934-abea-f8346ced9b65",
   "metadata": {},
   "outputs": [],
   "source": [
    "se_by_period1.loc[14] = ['Greg Ryman', ryman_1 ]"
   ]
  },
  {
   "cell_type": "code",
   "execution_count": 185,
   "id": "b712afb2-721b-433c-a8d4-03f96f385c39",
   "metadata": {},
   "outputs": [],
   "source": [
    "se_by_period1.loc[15] = ['Perry Allen', allen_1 ]"
   ]
  },
  {
   "cell_type": "code",
   "execution_count": 186,
   "id": "d9e1b092-ff54-4b44-89dc-3240e7639e8c",
   "metadata": {},
   "outputs": [],
   "source": [
    "se_by_period1.loc[16] = ['William Brucker', brucker_1 ]"
   ]
  },
  {
   "cell_type": "code",
   "execution_count": 187,
   "id": "36111b3e-da1b-4948-835a-968389f9eefc",
   "metadata": {},
   "outputs": [],
   "source": [
    "se_by_period1.loc[17] = ['Eric Carter', eric_carter_1 ]"
   ]
  },
  {
   "cell_type": "code",
   "execution_count": 188,
   "id": "bc551d61-9317-4fbd-aa69-b017544d7ba9",
   "metadata": {},
   "outputs": [
    {
     "data": {
      "text/html": [
       "<div>\n",
       "<style scoped>\n",
       "    .dataframe tbody tr th:only-of-type {\n",
       "        vertical-align: middle;\n",
       "    }\n",
       "\n",
       "    .dataframe tbody tr th {\n",
       "        vertical-align: top;\n",
       "    }\n",
       "\n",
       "    .dataframe thead th {\n",
       "        text-align: right;\n",
       "    }\n",
       "</style>\n",
       "<table border=\"1\" class=\"dataframe\">\n",
       "  <thead>\n",
       "    <tr style=\"text-align: right;\">\n",
       "      <th></th>\n",
       "      <th>Name:</th>\n",
       "      <th>Payout:</th>\n",
       "    </tr>\n",
       "  </thead>\n",
       "  <tbody>\n",
       "    <tr>\n",
       "      <th>0</th>\n",
       "      <td>East:</td>\n",
       "      <td></td>\n",
       "    </tr>\n",
       "    <tr>\n",
       "      <th>1</th>\n",
       "      <td>Brendon Yoder</td>\n",
       "      <td>1701.677239</td>\n",
       "    </tr>\n",
       "    <tr>\n",
       "      <th>2</th>\n",
       "      <td>Eric Wooster</td>\n",
       "      <td>2820.742699</td>\n",
       "    </tr>\n",
       "    <tr>\n",
       "      <th>3</th>\n",
       "      <td>Greg Manning</td>\n",
       "      <td>1589.79869</td>\n",
       "    </tr>\n",
       "    <tr>\n",
       "      <th>4</th>\n",
       "      <td>John Davis</td>\n",
       "      <td>1581.765721</td>\n",
       "    </tr>\n",
       "    <tr>\n",
       "      <th>5</th>\n",
       "      <td>Marshall Sapp</td>\n",
       "      <td>4300.853785</td>\n",
       "    </tr>\n",
       "    <tr>\n",
       "      <th>6</th>\n",
       "      <td>Michael Alvaro</td>\n",
       "      <td>5490.796195</td>\n",
       "    </tr>\n",
       "    <tr>\n",
       "      <th>7</th>\n",
       "      <td>Robert Zimmerman</td>\n",
       "      <td>2815.739243</td>\n",
       "    </tr>\n",
       "    <tr>\n",
       "      <th>9</th>\n",
       "      <td>West:</td>\n",
       "      <td></td>\n",
       "    </tr>\n",
       "    <tr>\n",
       "      <th>10</th>\n",
       "      <td>Anthony McCloud</td>\n",
       "      <td>1887.904752</td>\n",
       "    </tr>\n",
       "    <tr>\n",
       "      <th>11</th>\n",
       "      <td>Chris Chandler</td>\n",
       "      <td>692.639214</td>\n",
       "    </tr>\n",
       "    <tr>\n",
       "      <th>12</th>\n",
       "      <td>Dan Bartholomew</td>\n",
       "      <td>2207.92362</td>\n",
       "    </tr>\n",
       "    <tr>\n",
       "      <th>13</th>\n",
       "      <td>Grady Vogt</td>\n",
       "      <td>2660.011524</td>\n",
       "    </tr>\n",
       "    <tr>\n",
       "      <th>14</th>\n",
       "      <td>Greg Ryman</td>\n",
       "      <td>807.35838</td>\n",
       "    </tr>\n",
       "    <tr>\n",
       "      <th>15</th>\n",
       "      <td>Perry Allen</td>\n",
       "      <td>3357.229164</td>\n",
       "    </tr>\n",
       "    <tr>\n",
       "      <th>16</th>\n",
       "      <td>William Brucker</td>\n",
       "      <td>4566.153156</td>\n",
       "    </tr>\n",
       "    <tr>\n",
       "      <th>17</th>\n",
       "      <td>Eric Carter</td>\n",
       "      <td>3175.640247</td>\n",
       "    </tr>\n",
       "  </tbody>\n",
       "</table>\n",
       "</div>"
      ],
      "text/plain": [
       "               Name:      Payout:\n",
       "0              East:             \n",
       "1      Brendon Yoder  1701.677239\n",
       "2       Eric Wooster  2820.742699\n",
       "3       Greg Manning   1589.79869\n",
       "4         John Davis  1581.765721\n",
       "5      Marshall Sapp  4300.853785\n",
       "6     Michael Alvaro  5490.796195\n",
       "7   Robert Zimmerman  2815.739243\n",
       "9              West:             \n",
       "10   Anthony McCloud  1887.904752\n",
       "11    Chris Chandler   692.639214\n",
       "12   Dan Bartholomew   2207.92362\n",
       "13        Grady Vogt  2660.011524\n",
       "14        Greg Ryman    807.35838\n",
       "15       Perry Allen  3357.229164\n",
       "16   William Brucker  4566.153156\n",
       "17       Eric Carter  3175.640247"
      ]
     },
     "execution_count": 188,
     "metadata": {},
     "output_type": "execute_result"
    }
   ],
   "source": [
    "se_by_period1.head(100)"
   ]
  },
  {
   "cell_type": "code",
   "execution_count": 189,
   "id": "e7dd7e66-f823-4df3-b589-e91882350c48",
   "metadata": {},
   "outputs": [],
   "source": [
    "se_by_period1.to_excel(os.path.join('../SE','SE_September_2022.xlsx'), index=False)"
   ]
  },
  {
   "cell_type": "code",
   "execution_count": 190,
   "id": "c68929a9-c107-4b69-941b-0520b1f3cbc2",
   "metadata": {},
   "outputs": [],
   "source": [
    "#abc = se_by_period"
   ]
  },
  {
   "cell_type": "code",
   "execution_count": 191,
   "id": "605a2782-ebef-49e4-9926-1d3c30a60744",
   "metadata": {},
   "outputs": [],
   "source": [
    "#se_by_period.to_excel(os.path.join('excel_sheets','SED.xlsx'), index=False)"
   ]
  },
  {
   "cell_type": "markdown",
   "id": "98868c86-24e1-4cbf-9203-8c30f4878bdd",
   "metadata": {
    "tags": []
   },
   "source": [
    "### End"
   ]
  },
  {
   "cell_type": "markdown",
   "id": "852fcd2f-6b6b-45b5-8f6e-643eee9cf9f0",
   "metadata": {
    "tags": []
   },
   "source": [
    "# CB"
   ]
  },
  {
   "cell_type": "markdown",
   "id": "f117a054-c0f5-4125-820d-fa57af92d8f5",
   "metadata": {},
   "source": [
    "#### This section is for Channel bookings only "
   ]
  },
  {
   "cell_type": "markdown",
   "id": "7d55088b-106d-4ea5-93b9-8dbbc3088a85",
   "metadata": {
    "tags": []
   },
   "source": [
    "### All imports will be used / are needed"
   ]
  },
  {
   "cell_type": "markdown",
   "id": "44004543-21f8-4fc0-827d-baf85956a9a2",
   "metadata": {},
   "source": [
    "### Edit (Name)_payout if comp plans change"
   ]
  },
  {
   "cell_type": "code",
   "execution_count": 192,
   "id": "c69161f7-0123-45e5-a393-959f9717c943",
   "metadata": {},
   "outputs": [],
   "source": [
    "#import openpyxl as py\n",
    "#from openpyxl import *\n",
    "import pandas as pd\n",
    "from pandas import *\n",
    "import numpy as np\n",
    "import ast as ast\n",
    "import pdfkit\n",
    "import fpdf\n",
    "#from img2pdf import *\n",
    "pd.options.mode.chained_assignment = None\n",
    "import os.path\n",
    "import matplotlib as plt\n",
    "from matplotlib.backends.backend_pdf import PdfPages"
   ]
  },
  {
   "cell_type": "markdown",
   "id": "d9738482-c248-48e4-9956-ffc780fcde69",
   "metadata": {},
   "source": [
    "### Change to file name for current month for channel bookings. Must be within commishes file. "
   ]
  },
  {
   "cell_type": "code",
   "execution_count": 193,
   "id": "bbb03acf-fe8f-4854-9873-94b924796599",
   "metadata": {},
   "outputs": [],
   "source": [
    "names = pd.read_excel('../excel_sheets/CB.xlsx')\n"
   ]
  },
  {
   "cell_type": "code",
   "execution_count": 194,
   "id": "7123e609-dc7f-4f13-ae8f-e9bf94288a21",
   "metadata": {},
   "outputs": [
    {
     "data": {
      "text/html": [
       "<div>\n",
       "<style scoped>\n",
       "    .dataframe tbody tr th:only-of-type {\n",
       "        vertical-align: middle;\n",
       "    }\n",
       "\n",
       "    .dataframe tbody tr th {\n",
       "        vertical-align: top;\n",
       "    }\n",
       "\n",
       "    .dataframe thead th {\n",
       "        text-align: right;\n",
       "    }\n",
       "</style>\n",
       "<table border=\"1\" class=\"dataframe\">\n",
       "  <thead>\n",
       "    <tr style=\"text-align: right;\">\n",
       "      <th></th>\n",
       "      <th>Account Name</th>\n",
       "      <th>Opportunity Name</th>\n",
       "      <th>Order Number</th>\n",
       "      <th>Data Centers</th>\n",
       "      <th>Type</th>\n",
       "      <th>Amount</th>\n",
       "      <th>Close Date</th>\n",
       "      <th>Channel Rep</th>\n",
       "    </tr>\n",
       "  </thead>\n",
       "  <tbody>\n",
       "    <tr>\n",
       "      <th>0</th>\n",
       "      <td>Liberty Broadband Corp</td>\n",
       "      <td>Liberty Broadband - Lumen XC #2 - SLC1 - 08192022</td>\n",
       "      <td>65886</td>\n",
       "      <td>SLC1</td>\n",
       "      <td>Change Order</td>\n",
       "      <td>150.0</td>\n",
       "      <td>8/24/2022</td>\n",
       "      <td>Andersen</td>\n",
       "    </tr>\n",
       "  </tbody>\n",
       "</table>\n",
       "</div>"
      ],
      "text/plain": [
       "             Account Name                                   Opportunity Name  \\\n",
       "0  Liberty Broadband Corp  Liberty Broadband - Lumen XC #2 - SLC1 - 08192022   \n",
       "\n",
       "   Order Number Data Centers          Type  Amount Close Date Channel Rep  \n",
       "0         65886         SLC1  Change Order   150.0  8/24/2022    Andersen  "
      ]
     },
     "execution_count": 194,
     "metadata": {},
     "output_type": "execute_result"
    }
   ],
   "source": [
    "names.head(1)"
   ]
  },
  {
   "cell_type": "code",
   "execution_count": 195,
   "id": "a8434942-389e-4971-b3c1-f8192ead68a2",
   "metadata": {},
   "outputs": [
    {
     "data": {
      "text/plain": [
       "Index(['Account Name', 'Opportunity Name', 'Order Number', 'Data Centers',\n",
       "       'Type', 'Amount', 'Close Date', 'Channel Rep'],\n",
       "      dtype='object')"
      ]
     },
     "execution_count": 195,
     "metadata": {},
     "output_type": "execute_result"
    }
   ],
   "source": [
    "names.columns"
   ]
  },
  {
   "cell_type": "code",
   "execution_count": 196,
   "id": "b4aac606-a541-4666-95f2-68b531732e85",
   "metadata": {},
   "outputs": [
    {
     "data": {
      "text/plain": [
       "Account Name         object\n",
       "Opportunity Name     object\n",
       "Order Number          int64\n",
       "Data Centers         object\n",
       "Type                 object\n",
       "Amount              float64\n",
       "Close Date           object\n",
       "Channel Rep          object\n",
       "dtype: object"
      ]
     },
     "execution_count": 196,
     "metadata": {},
     "output_type": "execute_result"
    }
   ],
   "source": [
    "names.dtypes"
   ]
  },
  {
   "cell_type": "code",
   "execution_count": 197,
   "id": "56c90d47-e910-4037-aa08-d91112bfe195",
   "metadata": {},
   "outputs": [],
   "source": [
    "df = names.sort_values(by=['Channel Rep'])\n"
   ]
  },
  {
   "cell_type": "markdown",
   "id": "6b080ad4-38d9-4e52-9744-516578472fa5",
   "metadata": {
    "tags": []
   },
   "source": [
    "## Anyone new must be added below. "
   ]
  },
  {
   "cell_type": "code",
   "execution_count": 198,
   "id": "65623463-92f0-45eb-b59d-61c0e6591686",
   "metadata": {},
   "outputs": [],
   "source": [
    "Wilhelm = df[df['Channel Rep'] == 'Wilhelm']\n",
    "askinsvf = df\n",
    "Nelson = df[df['Channel Rep'] == 'Nelson']\n",
    "andersen = df[df['Channel Rep'] == 'Andersen']"
   ]
  },
  {
   "cell_type": "markdown",
   "id": "8e8f1c89-fed8-4f29-8425-8040d822b03c",
   "metadata": {
    "tags": []
   },
   "source": [
    "##### Wilhelm"
   ]
  },
  {
   "cell_type": "code",
   "execution_count": 199,
   "id": "fdb2582b-b10d-4e76-9473-f8242a8845f8",
   "metadata": {},
   "outputs": [],
   "source": [
    "wilhelm_indivdual = Wilhelm['Amount'].sum()"
   ]
  },
  {
   "cell_type": "code",
   "execution_count": 200,
   "id": "8c8c7e70-4f38-463e-9773-636ee29a56ac",
   "metadata": {},
   "outputs": [],
   "source": [
    "wilhelm_payout = wilhelm_indivdual * .33"
   ]
  },
  {
   "cell_type": "code",
   "execution_count": 201,
   "id": "233d6ef1-cc77-4045-a06a-87fc0de79ea6",
   "metadata": {},
   "outputs": [
    {
     "name": "stdout",
     "output_type": "stream",
     "text": [
      "33068.33\n"
     ]
    }
   ],
   "source": [
    "print(wilhelm_indivdual)"
   ]
  },
  {
   "cell_type": "code",
   "execution_count": 202,
   "id": "78b96ba2-4d62-42ca-a674-2aac05fac49e",
   "metadata": {},
   "outputs": [
    {
     "name": "stdout",
     "output_type": "stream",
     "text": [
      "10912.548900000002\n"
     ]
    }
   ],
   "source": [
    "print(wilhelm_payout)"
   ]
  },
  {
   "cell_type": "code",
   "execution_count": 203,
   "id": "d115b301-765a-4fd4-8130-cc7a46570059",
   "metadata": {},
   "outputs": [],
   "source": [
    "Wilhelm.loc[11111] = ['Total Bookings: ','','','', wilhelm_indivdual ,'','','']"
   ]
  },
  {
   "cell_type": "code",
   "execution_count": 204,
   "id": "fda9c081-51e6-4969-93aa-61643aa9abb7",
   "metadata": {},
   "outputs": [],
   "source": [
    "Wilhelm.loc[11112] = ['Total Payout: ','','','', wilhelm_payout ,'','','']"
   ]
  },
  {
   "cell_type": "markdown",
   "id": "b5a356a6-adc6-4586-a1a2-11a282dd1772",
   "metadata": {
    "tags": []
   },
   "source": [
    "#### Nelson"
   ]
  },
  {
   "cell_type": "code",
   "execution_count": 205,
   "id": "c510bcf1-4167-4f45-b4cd-0ba9fc13dbb9",
   "metadata": {},
   "outputs": [],
   "source": [
    "nelson_indivdual = Nelson['Amount'].sum()"
   ]
  },
  {
   "cell_type": "code",
   "execution_count": 206,
   "id": "047d235a-399c-4733-bcec-9bcdc1cc25fd",
   "metadata": {},
   "outputs": [],
   "source": [
    "nelson_payout = nelson_indivdual * .33"
   ]
  },
  {
   "cell_type": "code",
   "execution_count": 207,
   "id": "ed20cea5-e325-429d-8b63-6d75b0ff2f75",
   "metadata": {},
   "outputs": [
    {
     "name": "stdout",
     "output_type": "stream",
     "text": [
      "26868.02\n"
     ]
    }
   ],
   "source": [
    "print(nelson_indivdual)"
   ]
  },
  {
   "cell_type": "code",
   "execution_count": 208,
   "id": "dedcac7d-c3a9-48d0-842b-a29370a5ab8b",
   "metadata": {},
   "outputs": [
    {
     "name": "stdout",
     "output_type": "stream",
     "text": [
      "8866.446600000001\n"
     ]
    }
   ],
   "source": [
    "print(nelson_payout)"
   ]
  },
  {
   "cell_type": "code",
   "execution_count": 209,
   "id": "45a7507b-574a-4d84-a614-575f8d9ec4a0",
   "metadata": {},
   "outputs": [],
   "source": [
    "Nelson.loc[11111] = ['Total Bookings: ','','','', nelson_indivdual ,'','','']"
   ]
  },
  {
   "cell_type": "code",
   "execution_count": 210,
   "id": "1eb044f3-116c-44b2-80d6-2d6e1c2b2b58",
   "metadata": {},
   "outputs": [],
   "source": [
    "Nelson.loc[11112] = ['Total Payout: ','','','', nelson_payout ,'','','']"
   ]
  },
  {
   "cell_type": "markdown",
   "id": "0b224ecd-c6fb-4d62-b51e-466d39d92040",
   "metadata": {
    "tags": []
   },
   "source": [
    "#### Andersen"
   ]
  },
  {
   "cell_type": "code",
   "execution_count": 211,
   "id": "e4661fb2-85c4-4783-aeef-6a7a74dbf64b",
   "metadata": {},
   "outputs": [],
   "source": [
    "andersen_indivdual = andersen['Amount'].sum()"
   ]
  },
  {
   "cell_type": "code",
   "execution_count": 212,
   "id": "259e7b75-2c3c-465e-b8a3-c44bedfdff91",
   "metadata": {},
   "outputs": [],
   "source": [
    "andersen_payout = andersen_indivdual * .33"
   ]
  },
  {
   "cell_type": "code",
   "execution_count": 213,
   "id": "61e2bc5d-85f0-404c-ad64-d40354e7d8a2",
   "metadata": {},
   "outputs": [
    {
     "name": "stdout",
     "output_type": "stream",
     "text": [
      "6010.96\n"
     ]
    }
   ],
   "source": [
    "print(andersen_indivdual)"
   ]
  },
  {
   "cell_type": "code",
   "execution_count": 214,
   "id": "95c1a96c-7550-458b-9349-7df2984014f8",
   "metadata": {},
   "outputs": [
    {
     "name": "stdout",
     "output_type": "stream",
     "text": [
      "1983.6168\n"
     ]
    }
   ],
   "source": [
    "print(andersen_payout)"
   ]
  },
  {
   "cell_type": "code",
   "execution_count": 215,
   "id": "d6837da7-baad-487c-9e34-6348387b96b0",
   "metadata": {},
   "outputs": [],
   "source": [
    "andersen.loc[11111] = ['Total Bookings: ','','','', andersen_indivdual ,'','','']"
   ]
  },
  {
   "cell_type": "code",
   "execution_count": 216,
   "id": "0a6f6aef-cdc1-42e1-861e-1e25e0a585d7",
   "metadata": {},
   "outputs": [],
   "source": [
    "andersen.loc[11112] = ['Total Payout: ','','','', andersen_payout ,'','','']"
   ]
  },
  {
   "cell_type": "markdown",
   "id": "68b18b82-96a1-441b-9395-0d00a75b9ddd",
   "metadata": {
    "tags": []
   },
   "source": [
    "#### Askins"
   ]
  },
  {
   "cell_type": "code",
   "execution_count": 217,
   "id": "327c30e3-2bc3-4ea0-a494-d3e2dfb55285",
   "metadata": {},
   "outputs": [],
   "source": [
    "askins_payout = askinsvf['Amount'].sum()/70000*10000"
   ]
  },
  {
   "cell_type": "code",
   "execution_count": 218,
   "id": "5ee7c407-47f0-45f0-8bba-01a28b493799",
   "metadata": {},
   "outputs": [],
   "source": [
    "askins_1 = df[df['Channel Rep'] == 'Askins']"
   ]
  },
  {
   "cell_type": "code",
   "execution_count": 219,
   "id": "98613a86-8505-49d7-ace2-f58814697cff",
   "metadata": {},
   "outputs": [],
   "source": [
    "askins_indivdual = askinsvf['Amount'].sum()"
   ]
  },
  {
   "cell_type": "code",
   "execution_count": 220,
   "id": "ceafd828-7992-4813-acae-8cae3e197cbf",
   "metadata": {},
   "outputs": [
    {
     "name": "stdout",
     "output_type": "stream",
     "text": [
      "65947.31\n"
     ]
    }
   ],
   "source": [
    "print(askins_indivdual)"
   ]
  },
  {
   "cell_type": "code",
   "execution_count": 221,
   "id": "226ad847-a768-4d07-8d19-82642e65659a",
   "metadata": {},
   "outputs": [],
   "source": [
    "askinsvf.loc[1110] = ['Total Bookings:', '','','',askins_indivdual,'','','']"
   ]
  },
  {
   "cell_type": "code",
   "execution_count": 222,
   "id": "4143ade0-ce91-4bdc-852c-4c8d6928bda1",
   "metadata": {},
   "outputs": [],
   "source": [
    "askinsvf.loc[1111] = ['Comission Payout:', '', '','',askins_payout,'','','']"
   ]
  },
  {
   "cell_type": "code",
   "execution_count": 223,
   "id": "811e50ad-8950-4800-bdd8-28ddac594d75",
   "metadata": {},
   "outputs": [
    {
     "data": {
      "text/html": [
       "<div>\n",
       "<style scoped>\n",
       "    .dataframe tbody tr th:only-of-type {\n",
       "        vertical-align: middle;\n",
       "    }\n",
       "\n",
       "    .dataframe tbody tr th {\n",
       "        vertical-align: top;\n",
       "    }\n",
       "\n",
       "    .dataframe thead th {\n",
       "        text-align: right;\n",
       "    }\n",
       "</style>\n",
       "<table border=\"1\" class=\"dataframe\">\n",
       "  <thead>\n",
       "    <tr style=\"text-align: right;\">\n",
       "      <th></th>\n",
       "      <th>Account Name</th>\n",
       "      <th>Opportunity Name</th>\n",
       "      <th>Order Number</th>\n",
       "      <th>Data Centers</th>\n",
       "      <th>Type</th>\n",
       "      <th>Amount</th>\n",
       "      <th>Close Date</th>\n",
       "      <th>Channel Rep</th>\n",
       "    </tr>\n",
       "  </thead>\n",
       "  <tbody>\n",
       "    <tr>\n",
       "      <th>0</th>\n",
       "      <td>Liberty Broadband Corp</td>\n",
       "      <td>Liberty Broadband - Lumen XC #2 - SLC1 - 08192022</td>\n",
       "      <td>65886</td>\n",
       "      <td>SLC1</td>\n",
       "      <td>Change Order</td>\n",
       "      <td>150.0</td>\n",
       "      <td>8/24/2022</td>\n",
       "      <td>Andersen</td>\n",
       "    </tr>\n",
       "  </tbody>\n",
       "</table>\n",
       "</div>"
      ],
      "text/plain": [
       "             Account Name                                   Opportunity Name  \\\n",
       "0  Liberty Broadband Corp  Liberty Broadband - Lumen XC #2 - SLC1 - 08192022   \n",
       "\n",
       "  Order Number Data Centers          Type Amount Close Date Channel Rep  \n",
       "0        65886         SLC1  Change Order  150.0  8/24/2022    Andersen  "
      ]
     },
     "execution_count": 223,
     "metadata": {},
     "output_type": "execute_result"
    }
   ],
   "source": [
    "askinsvf.head(1)"
   ]
  },
  {
   "cell_type": "code",
   "execution_count": 224,
   "id": "d16e8a4b-12c3-47f6-894c-ad82c2c21b79",
   "metadata": {},
   "outputs": [],
   "source": [
    "Wilhelm.to_excel(os.path.join('../CB','wilhelm_September_2022.xlsx'), index=False)\n",
    "Nelson.to_excel(os.path.join('../CB','nelson_September_2022.xlsx'), index=False)\n",
    "askinsvf.to_excel(os.path.join('../CB','askins_September_2022.xlsx'), index=False)\n",
    "andersen.to_excel(os.path.join('../CB','andersen_September_2022.xlsx'), index=False)"
   ]
  },
  {
   "cell_type": "markdown",
   "id": "a16485f3-24e1-4a0a-8db2-a8557000aa7f",
   "metadata": {
    "tags": []
   },
   "source": [
    "## End Channel Bookings"
   ]
  },
  {
   "cell_type": "markdown",
   "id": "5d47337e-913f-4d8b-8a47-da1591a93911",
   "metadata": {},
   "source": [
    "## Commission by Period "
   ]
  },
  {
   "cell_type": "code",
   "execution_count": 225,
   "id": "f8257d32-3ca4-49c2-b4e8-0af4bb53a796",
   "metadata": {},
   "outputs": [],
   "source": [
    "payouts_by_period = pd.DataFrame(columns=['Name:', 'Payout:'])"
   ]
  },
  {
   "cell_type": "code",
   "execution_count": 226,
   "id": "b6e67f05-95e9-4109-ac6d-9c3839187e30",
   "metadata": {},
   "outputs": [
    {
     "data": {
      "text/html": [
       "<div>\n",
       "<style scoped>\n",
       "    .dataframe tbody tr th:only-of-type {\n",
       "        vertical-align: middle;\n",
       "    }\n",
       "\n",
       "    .dataframe tbody tr th {\n",
       "        vertical-align: top;\n",
       "    }\n",
       "\n",
       "    .dataframe thead th {\n",
       "        text-align: right;\n",
       "    }\n",
       "</style>\n",
       "<table border=\"1\" class=\"dataframe\">\n",
       "  <thead>\n",
       "    <tr style=\"text-align: right;\">\n",
       "      <th></th>\n",
       "      <th>Name:</th>\n",
       "      <th>Payout:</th>\n",
       "    </tr>\n",
       "  </thead>\n",
       "  <tbody>\n",
       "  </tbody>\n",
       "</table>\n",
       "</div>"
      ],
      "text/plain": [
       "Empty DataFrame\n",
       "Columns: [Name:, Payout:]\n",
       "Index: []"
      ]
     },
     "execution_count": 226,
     "metadata": {},
     "output_type": "execute_result"
    }
   ],
   "source": [
    "payouts_by_period.head()"
   ]
  },
  {
   "cell_type": "code",
   "execution_count": 227,
   "id": "f67e2199-6abf-4ef1-b072-024a822ab2b1",
   "metadata": {},
   "outputs": [],
   "source": [
    "payouts_by_period.loc[1] = ['Scott Askins', askins_payout] "
   ]
  },
  {
   "cell_type": "code",
   "execution_count": 228,
   "id": "b73ac0e7-9a4a-4cbe-9937-6f8a6cb37c11",
   "metadata": {},
   "outputs": [],
   "source": [
    "payouts_by_period.loc[2] = ['Keith Nelson', nelson_payout] "
   ]
  },
  {
   "cell_type": "code",
   "execution_count": 229,
   "id": "0a6107c7-fcf1-403a-966b-554c017269d2",
   "metadata": {},
   "outputs": [],
   "source": [
    "payouts_by_period.loc[3] = ['Joel Wilhelm', wilhelm_payout] "
   ]
  },
  {
   "cell_type": "code",
   "execution_count": 230,
   "id": "b9d0bdd1-65d0-4931-970f-f5d03dc298d6",
   "metadata": {},
   "outputs": [],
   "source": [
    "payouts_by_period.loc[4] = ['Joel Andersen', andersen_payout] "
   ]
  },
  {
   "cell_type": "code",
   "execution_count": 231,
   "id": "dd9bec38-0b63-46f8-9117-ce1d4b49ef82",
   "metadata": {},
   "outputs": [
    {
     "data": {
      "text/html": [
       "<div>\n",
       "<style scoped>\n",
       "    .dataframe tbody tr th:only-of-type {\n",
       "        vertical-align: middle;\n",
       "    }\n",
       "\n",
       "    .dataframe tbody tr th {\n",
       "        vertical-align: top;\n",
       "    }\n",
       "\n",
       "    .dataframe thead th {\n",
       "        text-align: right;\n",
       "    }\n",
       "</style>\n",
       "<table border=\"1\" class=\"dataframe\">\n",
       "  <thead>\n",
       "    <tr style=\"text-align: right;\">\n",
       "      <th></th>\n",
       "      <th>Name:</th>\n",
       "      <th>Payout:</th>\n",
       "    </tr>\n",
       "  </thead>\n",
       "  <tbody>\n",
       "    <tr>\n",
       "      <th>1</th>\n",
       "      <td>Scott Askins</td>\n",
       "      <td>9421.044286</td>\n",
       "    </tr>\n",
       "    <tr>\n",
       "      <th>2</th>\n",
       "      <td>Keith Nelson</td>\n",
       "      <td>8866.446600</td>\n",
       "    </tr>\n",
       "    <tr>\n",
       "      <th>3</th>\n",
       "      <td>Joel Wilhelm</td>\n",
       "      <td>10912.548900</td>\n",
       "    </tr>\n",
       "    <tr>\n",
       "      <th>4</th>\n",
       "      <td>Joel Andersen</td>\n",
       "      <td>1983.616800</td>\n",
       "    </tr>\n",
       "  </tbody>\n",
       "</table>\n",
       "</div>"
      ],
      "text/plain": [
       "           Name:       Payout:\n",
       "1   Scott Askins   9421.044286\n",
       "2   Keith Nelson   8866.446600\n",
       "3   Joel Wilhelm  10912.548900\n",
       "4  Joel Andersen   1983.616800"
      ]
     },
     "execution_count": 231,
     "metadata": {},
     "output_type": "execute_result"
    }
   ],
   "source": [
    "payouts_by_period.head(1000)"
   ]
  },
  {
   "cell_type": "code",
   "execution_count": 232,
   "id": "1093100e-de6c-4c35-91ee-dab47b653b4d",
   "metadata": {},
   "outputs": [],
   "source": [
    "payouts_by_period.to_excel(os.path.join('../CB','CB_September_2022.xlsx'), index=False)"
   ]
  },
  {
   "cell_type": "markdown",
   "id": "b79fbc89-e421-4b14-91e1-a5f8255e5c31",
   "metadata": {},
   "source": [
    "#### This section is for Channel bookings only "
   ]
  },
  {
   "cell_type": "markdown",
   "id": "c30250ec-a88e-408a-9b12-8def26bfb9d4",
   "metadata": {
    "tags": []
   },
   "source": [
    "### All imports will be used / are needed"
   ]
  },
  {
   "cell_type": "markdown",
   "id": "a16cede4-484b-480e-a0bd-636c24760e00",
   "metadata": {},
   "source": [
    "### Edit (Name)_payout if comp plans change"
   ]
  },
  {
   "cell_type": "code",
   "execution_count": 233,
   "id": "2dc720fd-f020-4f68-893c-7d994dfeb004",
   "metadata": {},
   "outputs": [],
   "source": [
    "pay_to_billings = pd.concat([se_by_period1, payouts_by_period], ignore_index=True, sort=False)"
   ]
  },
  {
   "cell_type": "markdown",
   "id": "66acd477-545b-462c-b501-f359b03d8e65",
   "metadata": {
    "tags": []
   },
   "source": [
    "# NS Expense"
   ]
  },
  {
   "cell_type": "code",
   "execution_count": 234,
   "id": "10997a49-5fe1-44ce-bcb8-6257c5e7e491",
   "metadata": {},
   "outputs": [],
   "source": [
    "import openpyxl as py\n",
    "from openpyxl import *\n",
    "import pandas as pd\n",
    "from pandas import *\n",
    "import numpy as np\n",
    "import ast as ast\n",
    "#import pdfkit\n",
    "pd.options.mode.chained_assignment = None"
   ]
  },
  {
   "cell_type": "code",
   "execution_count": 235,
   "id": "7c5835e3-d8ee-4c7e-8607-2da2d06c02d7",
   "metadata": {},
   "outputs": [],
   "source": [
    "cb = pd.read_excel('../excel_sheets/CB.xlsx')\n"
   ]
  },
  {
   "cell_type": "code",
   "execution_count": 236,
   "id": "0798fd17-c8bb-4ebc-be5a-794298bd8150",
   "metadata": {},
   "outputs": [],
   "source": [
    "ed = pd.read_excel('../excel_sheets/Epicor.xlsx')"
   ]
  },
  {
   "cell_type": "code",
   "execution_count": 237,
   "id": "81c6e1c7-d9e5-4fb8-ae9f-98ca0bec9596",
   "metadata": {},
   "outputs": [],
   "source": [
    "se = pd.read_excel('../excel_sheets/SE.xlsx')"
   ]
  },
  {
   "cell_type": "code",
   "execution_count": 238,
   "id": "197f0e3e-8068-4961-913f-f5fd2892b418",
   "metadata": {},
   "outputs": [
    {
     "data": {
      "text/html": [
       "<div>\n",
       "<style scoped>\n",
       "    .dataframe tbody tr th:only-of-type {\n",
       "        vertical-align: middle;\n",
       "    }\n",
       "\n",
       "    .dataframe tbody tr th {\n",
       "        vertical-align: top;\n",
       "    }\n",
       "\n",
       "    .dataframe thead th {\n",
       "        text-align: right;\n",
       "    }\n",
       "</style>\n",
       "<table border=\"1\" class=\"dataframe\">\n",
       "  <thead>\n",
       "    <tr style=\"text-align: right;\">\n",
       "      <th></th>\n",
       "      <th>Account Name</th>\n",
       "      <th>Opportunity Name</th>\n",
       "      <th>Order Number</th>\n",
       "      <th>Data Centers</th>\n",
       "      <th>Type</th>\n",
       "      <th>Amount</th>\n",
       "      <th>Close Date</th>\n",
       "      <th>Channel Rep</th>\n",
       "    </tr>\n",
       "  </thead>\n",
       "  <tbody>\n",
       "    <tr>\n",
       "      <th>0</th>\n",
       "      <td>Liberty Broadband Corp</td>\n",
       "      <td>Liberty Broadband - Lumen XC #2 - SLC1 - 08192022</td>\n",
       "      <td>65886</td>\n",
       "      <td>SLC1</td>\n",
       "      <td>Change Order</td>\n",
       "      <td>150.00</td>\n",
       "      <td>8/24/2022</td>\n",
       "      <td>Andersen</td>\n",
       "    </tr>\n",
       "    <tr>\n",
       "      <th>1</th>\n",
       "      <td>Bungie LLC</td>\n",
       "      <td>Online Order: Riser: SEA2: 08/24/2022: Chase C...</td>\n",
       "      <td>66151</td>\n",
       "      <td>SEA2</td>\n",
       "      <td>Existing</td>\n",
       "      <td>200.00</td>\n",
       "      <td>8/24/2022</td>\n",
       "      <td>Wilhelm</td>\n",
       "    </tr>\n",
       "    <tr>\n",
       "      <th>2</th>\n",
       "      <td>Bungie LLC</td>\n",
       "      <td>Online Order: Riser: SEA2: 08/24/2022: Chase C...</td>\n",
       "      <td>66150</td>\n",
       "      <td>SEA2</td>\n",
       "      <td>Existing</td>\n",
       "      <td>200.00</td>\n",
       "      <td>8/24/2022</td>\n",
       "      <td>Wilhelm</td>\n",
       "    </tr>\n",
       "    <tr>\n",
       "      <th>3</th>\n",
       "      <td>Bungie LLC</td>\n",
       "      <td>Online Order: Riser: SEA2: 08/24/2022: Chase C...</td>\n",
       "      <td>66148</td>\n",
       "      <td>SEA2</td>\n",
       "      <td>Existing</td>\n",
       "      <td>200.00</td>\n",
       "      <td>8/24/2022</td>\n",
       "      <td>Wilhelm</td>\n",
       "    </tr>\n",
       "    <tr>\n",
       "      <th>4</th>\n",
       "      <td>Bungie LLC</td>\n",
       "      <td>Online Order: Riser: SEA2: 08/24/2022: Chase C...</td>\n",
       "      <td>66147</td>\n",
       "      <td>SEA2</td>\n",
       "      <td>Existing</td>\n",
       "      <td>200.00</td>\n",
       "      <td>8/24/2022</td>\n",
       "      <td>Wilhelm</td>\n",
       "    </tr>\n",
       "    <tr>\n",
       "      <th>5</th>\n",
       "      <td>Bungie LLC</td>\n",
       "      <td>Online Order: Riser: SEA2: 08/24/2022: Chase C...</td>\n",
       "      <td>66149</td>\n",
       "      <td>SEA2</td>\n",
       "      <td>Existing</td>\n",
       "      <td>200.00</td>\n",
       "      <td>8/24/2022</td>\n",
       "      <td>Wilhelm</td>\n",
       "    </tr>\n",
       "    <tr>\n",
       "      <th>6</th>\n",
       "      <td>MX</td>\n",
       "      <td>MX SLC3 New Whips 08192022</td>\n",
       "      <td>66207</td>\n",
       "      <td>SLC3</td>\n",
       "      <td>New</td>\n",
       "      <td>825.00</td>\n",
       "      <td>8/30/2022</td>\n",
       "      <td>Wilhelm</td>\n",
       "    </tr>\n",
       "    <tr>\n",
       "      <th>7</th>\n",
       "      <td>Zift, LLC</td>\n",
       "      <td>Zift Tidy Pay Change Order 06272022</td>\n",
       "      <td>64460</td>\n",
       "      <td>MCI2</td>\n",
       "      <td>Change Order</td>\n",
       "      <td>1068.19</td>\n",
       "      <td>8/22/2022</td>\n",
       "      <td>Wilhelm</td>\n",
       "    </tr>\n",
       "    <tr>\n",
       "      <th>8</th>\n",
       "      <td>Zift, LLC</td>\n",
       "      <td>Zift CSI Change Order MCI2 06272022</td>\n",
       "      <td>64462</td>\n",
       "      <td>MCI2</td>\n",
       "      <td>Change Order</td>\n",
       "      <td>1460.63</td>\n",
       "      <td>8/22/2022</td>\n",
       "      <td>Wilhelm</td>\n",
       "    </tr>\n",
       "    <tr>\n",
       "      <th>9</th>\n",
       "      <td>Zift, LLC</td>\n",
       "      <td>Zift DFW3 CSI DR 07272022</td>\n",
       "      <td>64525</td>\n",
       "      <td>DFW3</td>\n",
       "      <td>Renewal</td>\n",
       "      <td>1478.56</td>\n",
       "      <td>8/22/2022</td>\n",
       "      <td>Wilhelm</td>\n",
       "    </tr>\n",
       "  </tbody>\n",
       "</table>\n",
       "</div>"
      ],
      "text/plain": [
       "             Account Name                                   Opportunity Name  \\\n",
       "0  Liberty Broadband Corp  Liberty Broadband - Lumen XC #2 - SLC1 - 08192022   \n",
       "1              Bungie LLC  Online Order: Riser: SEA2: 08/24/2022: Chase C...   \n",
       "2              Bungie LLC  Online Order: Riser: SEA2: 08/24/2022: Chase C...   \n",
       "3              Bungie LLC  Online Order: Riser: SEA2: 08/24/2022: Chase C...   \n",
       "4              Bungie LLC  Online Order: Riser: SEA2: 08/24/2022: Chase C...   \n",
       "5              Bungie LLC  Online Order: Riser: SEA2: 08/24/2022: Chase C...   \n",
       "6                      MX                         MX SLC3 New Whips 08192022   \n",
       "7               Zift, LLC                Zift Tidy Pay Change Order 06272022   \n",
       "8               Zift, LLC                Zift CSI Change Order MCI2 06272022   \n",
       "9               Zift, LLC                          Zift DFW3 CSI DR 07272022   \n",
       "\n",
       "   Order Number Data Centers          Type   Amount Close Date Channel Rep  \n",
       "0         65886         SLC1  Change Order   150.00  8/24/2022    Andersen  \n",
       "1         66151         SEA2      Existing   200.00  8/24/2022     Wilhelm  \n",
       "2         66150         SEA2      Existing   200.00  8/24/2022     Wilhelm  \n",
       "3         66148         SEA2      Existing   200.00  8/24/2022     Wilhelm  \n",
       "4         66147         SEA2      Existing   200.00  8/24/2022     Wilhelm  \n",
       "5         66149         SEA2      Existing   200.00  8/24/2022     Wilhelm  \n",
       "6         66207         SLC3           New   825.00  8/30/2022     Wilhelm  \n",
       "7         64460         MCI2  Change Order  1068.19  8/22/2022     Wilhelm  \n",
       "8         64462         MCI2  Change Order  1460.63  8/22/2022     Wilhelm  \n",
       "9         64525         DFW3       Renewal  1478.56  8/22/2022     Wilhelm  "
      ]
     },
     "execution_count": 238,
     "metadata": {},
     "output_type": "execute_result"
    }
   ],
   "source": [
    "cb.head(10)"
   ]
  },
  {
   "cell_type": "code",
   "execution_count": 239,
   "id": "97050ee6-c82a-4deb-a7fa-fbe7696ad0e9",
   "metadata": {},
   "outputs": [],
   "source": [
    "cdns = cb.drop(columns=['Account Name', 'Opportunity Name','Order Number','Type','Channel Rep','Close Date'])"
   ]
  },
  {
   "cell_type": "code",
   "execution_count": 240,
   "id": "fe3de37b-ccf0-47e5-8444-73b47a9aa396",
   "metadata": {},
   "outputs": [],
   "source": [
    "cdns['Amount']*=.33"
   ]
  },
  {
   "cell_type": "code",
   "execution_count": 241,
   "id": "12178831-8ed6-4fd3-8ee8-3c9ebe13aadd",
   "metadata": {
    "tags": []
   },
   "outputs": [
    {
     "data": {
      "text/html": [
       "<div>\n",
       "<style scoped>\n",
       "    .dataframe tbody tr th:only-of-type {\n",
       "        vertical-align: middle;\n",
       "    }\n",
       "\n",
       "    .dataframe tbody tr th {\n",
       "        vertical-align: top;\n",
       "    }\n",
       "\n",
       "    .dataframe thead th {\n",
       "        text-align: right;\n",
       "    }\n",
       "</style>\n",
       "<table border=\"1\" class=\"dataframe\">\n",
       "  <thead>\n",
       "    <tr style=\"text-align: right;\">\n",
       "      <th></th>\n",
       "      <th>Amount</th>\n",
       "    </tr>\n",
       "    <tr>\n",
       "      <th>Data Centers</th>\n",
       "      <th></th>\n",
       "    </tr>\n",
       "  </thead>\n",
       "  <tbody>\n",
       "    <tr>\n",
       "      <th>BWI1</th>\n",
       "      <td>129.4062</td>\n",
       "    </tr>\n",
       "    <tr>\n",
       "      <th>DEN4</th>\n",
       "      <td>395.5050</td>\n",
       "    </tr>\n",
       "    <tr>\n",
       "      <th>DFW1</th>\n",
       "      <td>847.1562</td>\n",
       "    </tr>\n",
       "    <tr>\n",
       "      <th>DFW2</th>\n",
       "      <td>49.5000</td>\n",
       "    </tr>\n",
       "    <tr>\n",
       "      <th>DFW3</th>\n",
       "      <td>11350.8846</td>\n",
       "    </tr>\n",
       "    <tr>\n",
       "      <th>DFW3-FedRAMP</th>\n",
       "      <td>20.0541</td>\n",
       "    </tr>\n",
       "    <tr>\n",
       "      <th>HOU2</th>\n",
       "      <td>4950.0000</td>\n",
       "    </tr>\n",
       "    <tr>\n",
       "      <th>LAX1</th>\n",
       "      <td>99.0000</td>\n",
       "    </tr>\n",
       "    <tr>\n",
       "      <th>LGA1</th>\n",
       "      <td>99.0000</td>\n",
       "    </tr>\n",
       "    <tr>\n",
       "      <th>MCI2</th>\n",
       "      <td>977.4006</td>\n",
       "    </tr>\n",
       "    <tr>\n",
       "      <th>MSP2</th>\n",
       "      <td>49.5000</td>\n",
       "    </tr>\n",
       "    <tr>\n",
       "      <th>ORD4</th>\n",
       "      <td>1676.0700</td>\n",
       "    </tr>\n",
       "    <tr>\n",
       "      <th>SEA2</th>\n",
       "      <td>330.0000</td>\n",
       "    </tr>\n",
       "    <tr>\n",
       "      <th>SLC1</th>\n",
       "      <td>49.5000</td>\n",
       "    </tr>\n",
       "    <tr>\n",
       "      <th>SLC2</th>\n",
       "      <td>393.1356</td>\n",
       "    </tr>\n",
       "    <tr>\n",
       "      <th>SLC3</th>\n",
       "      <td>272.2500</td>\n",
       "    </tr>\n",
       "    <tr>\n",
       "      <th>SLC5</th>\n",
       "      <td>74.2500</td>\n",
       "    </tr>\n",
       "  </tbody>\n",
       "</table>\n",
       "</div>"
      ],
      "text/plain": [
       "                  Amount\n",
       "Data Centers            \n",
       "BWI1            129.4062\n",
       "DEN4            395.5050\n",
       "DFW1            847.1562\n",
       "DFW2             49.5000\n",
       "DFW3          11350.8846\n",
       "DFW3-FedRAMP     20.0541\n",
       "HOU2           4950.0000\n",
       "LAX1             99.0000\n",
       "LGA1             99.0000\n",
       "MCI2            977.4006\n",
       "MSP2             49.5000\n",
       "ORD4           1676.0700\n",
       "SEA2            330.0000\n",
       "SLC1             49.5000\n",
       "SLC2            393.1356\n",
       "SLC3            272.2500\n",
       "SLC5             74.2500"
      ]
     },
     "execution_count": 241,
     "metadata": {},
     "output_type": "execute_result"
    }
   ],
   "source": [
    "cdns.groupby(['Data Centers']).sum()"
   ]
  },
  {
   "cell_type": "code",
   "execution_count": 242,
   "id": "31b16ed7-8ab3-47b9-8a99-2c3db510364c",
   "metadata": {},
   "outputs": [],
   "source": [
    "#---------------------------------------------------->>>>>>>>>>>>>>>>>>>>>>>>>>>>>>>>>>>>>>>>>>>>>>>>>>>>>>>>>>>>>>>>>>>>>>"
   ]
  },
  {
   "cell_type": "code",
   "execution_count": 243,
   "id": "8de0b264-50bc-4eb3-b061-3055a8d1192b",
   "metadata": {
    "tags": []
   },
   "outputs": [
    {
     "data": {
      "text/html": [
       "<div>\n",
       "<style scoped>\n",
       "    .dataframe tbody tr th:only-of-type {\n",
       "        vertical-align: middle;\n",
       "    }\n",
       "\n",
       "    .dataframe tbody tr th {\n",
       "        vertical-align: top;\n",
       "    }\n",
       "\n",
       "    .dataframe thead th {\n",
       "        text-align: right;\n",
       "    }\n",
       "</style>\n",
       "<table border=\"1\" class=\"dataframe\">\n",
       "  <thead>\n",
       "    <tr style=\"text-align: right;\">\n",
       "      <th></th>\n",
       "      <th>SE Assigned</th>\n",
       "      <th>Account Name</th>\n",
       "      <th>Opportunity Name</th>\n",
       "      <th>Net Amount</th>\n",
       "      <th>Close Date</th>\n",
       "      <th>Order Number</th>\n",
       "      <th>Data Centers</th>\n",
       "      <th>Type</th>\n",
       "      <th>Stage</th>\n",
       "    </tr>\n",
       "  </thead>\n",
       "  <tbody>\n",
       "    <tr>\n",
       "      <th>0</th>\n",
       "      <td>Anthony McCloud</td>\n",
       "      <td>Trading Technologies</td>\n",
       "      <td>Trading Technologies - 6Mo Renewal - ORD1 - 08...</td>\n",
       "      <td>5332.25</td>\n",
       "      <td>2022-08-31 00:00:00</td>\n",
       "      <td>66558</td>\n",
       "      <td>ORD1</td>\n",
       "      <td>Renewal</td>\n",
       "      <td>Closed Won</td>\n",
       "    </tr>\n",
       "    <tr>\n",
       "      <th>1</th>\n",
       "      <td>Anthony McCloud</td>\n",
       "      <td>AL Media Strategy</td>\n",
       "      <td>AL Media Strategy/Add 3 cabinets/ORD4</td>\n",
       "      <td>5079.00</td>\n",
       "      <td>2022-08-15 00:00:00</td>\n",
       "      <td>64614</td>\n",
       "      <td>ORD4</td>\n",
       "      <td>New</td>\n",
       "      <td>Closed Won</td>\n",
       "    </tr>\n",
       "    <tr>\n",
       "      <th>2</th>\n",
       "      <td>Anthony McCloud</td>\n",
       "      <td>Penguin Computing Inc.</td>\n",
       "      <td>Penguin Computing/15kW/SLC2/06/14/2022</td>\n",
       "      <td>2144.96</td>\n",
       "      <td>2022-08-10 00:00:00</td>\n",
       "      <td>62346</td>\n",
       "      <td>SLC2</td>\n",
       "      <td>New</td>\n",
       "      <td>Closed Won</td>\n",
       "    </tr>\n",
       "    <tr>\n",
       "      <th>3</th>\n",
       "      <td>Anthony McCloud</td>\n",
       "      <td>Technical Momentum LLC - zColo</td>\n",
       "      <td>Technical Momentum - Power switch &amp; Add/DEN2/0...</td>\n",
       "      <td>1700.00</td>\n",
       "      <td>2022-08-16 00:00:00</td>\n",
       "      <td>64847</td>\n",
       "      <td>DEN2</td>\n",
       "      <td>Change Order</td>\n",
       "      <td>Closed Won</td>\n",
       "    </tr>\n",
       "    <tr>\n",
       "      <th>4</th>\n",
       "      <td>Anthony McCloud</td>\n",
       "      <td>Recovery Data Connect, LLC</td>\n",
       "      <td>Recovery Data Connect - MCI1 to MCI3 Move - MC...</td>\n",
       "      <td>1189.50</td>\n",
       "      <td>2022-08-01 00:00:00</td>\n",
       "      <td>63663</td>\n",
       "      <td>MCI3</td>\n",
       "      <td>Change Order</td>\n",
       "      <td>Closed Won</td>\n",
       "    </tr>\n",
       "  </tbody>\n",
       "</table>\n",
       "</div>"
      ],
      "text/plain": [
       "       SE Assigned                    Account Name  \\\n",
       "0  Anthony McCloud            Trading Technologies   \n",
       "1  Anthony McCloud               AL Media Strategy   \n",
       "2  Anthony McCloud          Penguin Computing Inc.   \n",
       "3  Anthony McCloud  Technical Momentum LLC - zColo   \n",
       "4  Anthony McCloud      Recovery Data Connect, LLC   \n",
       "\n",
       "                                    Opportunity Name  Net Amount  \\\n",
       "0  Trading Technologies - 6Mo Renewal - ORD1 - 08...     5332.25   \n",
       "1              AL Media Strategy/Add 3 cabinets/ORD4     5079.00   \n",
       "2             Penguin Computing/15kW/SLC2/06/14/2022     2144.96   \n",
       "3  Technical Momentum - Power switch & Add/DEN2/0...     1700.00   \n",
       "4  Recovery Data Connect - MCI1 to MCI3 Move - MC...     1189.50   \n",
       "\n",
       "            Close Date Order Number Data Centers          Type       Stage  \n",
       "0  2022-08-31 00:00:00        66558         ORD1       Renewal  Closed Won  \n",
       "1  2022-08-15 00:00:00        64614         ORD4           New  Closed Won  \n",
       "2  2022-08-10 00:00:00        62346         SLC2           New  Closed Won  \n",
       "3  2022-08-16 00:00:00        64847         DEN2  Change Order  Closed Won  \n",
       "4  2022-08-01 00:00:00        63663         MCI3  Change Order  Closed Won  "
      ]
     },
     "execution_count": 243,
     "metadata": {},
     "output_type": "execute_result"
    }
   ],
   "source": [
    "se.head()"
   ]
  },
  {
   "cell_type": "code",
   "execution_count": null,
   "id": "be3cff3e-df44-48c0-b73d-17f1e21b41f3",
   "metadata": {},
   "outputs": [],
   "source": []
  },
  {
   "cell_type": "code",
   "execution_count": 244,
   "id": "e4f10d5f-897c-44fb-896f-b92277c0fcbb",
   "metadata": {},
   "outputs": [],
   "source": [
    "se1 = se[['Net Amount','Data Centers']].dropna()"
   ]
  },
  {
   "cell_type": "code",
   "execution_count": 245,
   "id": "ac928294-5bb6-4020-8d06-4ef616673fe0",
   "metadata": {},
   "outputs": [
    {
     "data": {
      "text/html": [
       "<div>\n",
       "<style scoped>\n",
       "    .dataframe tbody tr th:only-of-type {\n",
       "        vertical-align: middle;\n",
       "    }\n",
       "\n",
       "    .dataframe tbody tr th {\n",
       "        vertical-align: top;\n",
       "    }\n",
       "\n",
       "    .dataframe thead th {\n",
       "        text-align: right;\n",
       "    }\n",
       "</style>\n",
       "<table border=\"1\" class=\"dataframe\">\n",
       "  <thead>\n",
       "    <tr style=\"text-align: right;\">\n",
       "      <th></th>\n",
       "      <th>Net Amount</th>\n",
       "      <th>Data Centers</th>\n",
       "    </tr>\n",
       "  </thead>\n",
       "  <tbody>\n",
       "    <tr>\n",
       "      <th>0</th>\n",
       "      <td>5332.25</td>\n",
       "      <td>ORD1</td>\n",
       "    </tr>\n",
       "    <tr>\n",
       "      <th>1</th>\n",
       "      <td>5079.00</td>\n",
       "      <td>ORD4</td>\n",
       "    </tr>\n",
       "    <tr>\n",
       "      <th>2</th>\n",
       "      <td>2144.96</td>\n",
       "      <td>SLC2</td>\n",
       "    </tr>\n",
       "    <tr>\n",
       "      <th>3</th>\n",
       "      <td>1700.00</td>\n",
       "      <td>DEN2</td>\n",
       "    </tr>\n",
       "    <tr>\n",
       "      <th>4</th>\n",
       "      <td>1189.50</td>\n",
       "      <td>MCI3</td>\n",
       "    </tr>\n",
       "    <tr>\n",
       "      <th>...</th>\n",
       "      <td>...</td>\n",
       "      <td>...</td>\n",
       "    </tr>\n",
       "    <tr>\n",
       "      <th>381</th>\n",
       "      <td>45.00</td>\n",
       "      <td>SLC5</td>\n",
       "    </tr>\n",
       "    <tr>\n",
       "      <th>382</th>\n",
       "      <td>0.00</td>\n",
       "      <td>SLC3</td>\n",
       "    </tr>\n",
       "    <tr>\n",
       "      <th>383</th>\n",
       "      <td>0.00</td>\n",
       "      <td>ORD4</td>\n",
       "    </tr>\n",
       "    <tr>\n",
       "      <th>384</th>\n",
       "      <td>0.00</td>\n",
       "      <td>IAD1</td>\n",
       "    </tr>\n",
       "    <tr>\n",
       "      <th>385</th>\n",
       "      <td>0.00</td>\n",
       "      <td>SLC3</td>\n",
       "    </tr>\n",
       "  </tbody>\n",
       "</table>\n",
       "<p>363 rows × 2 columns</p>\n",
       "</div>"
      ],
      "text/plain": [
       "     Net Amount Data Centers\n",
       "0       5332.25         ORD1\n",
       "1       5079.00         ORD4\n",
       "2       2144.96         SLC2\n",
       "3       1700.00         DEN2\n",
       "4       1189.50         MCI3\n",
       "..          ...          ...\n",
       "381       45.00         SLC5\n",
       "382        0.00         SLC3\n",
       "383        0.00         ORD4\n",
       "384        0.00         IAD1\n",
       "385        0.00         SLC3\n",
       "\n",
       "[363 rows x 2 columns]"
      ]
     },
     "execution_count": 245,
     "metadata": {},
     "output_type": "execute_result"
    }
   ],
   "source": [
    "se1"
   ]
  },
  {
   "cell_type": "code",
   "execution_count": 246,
   "id": "71dc20e1-3123-4e92-9f6c-0e0b38d3706b",
   "metadata": {},
   "outputs": [
    {
     "name": "stdout",
     "output_type": "stream",
     "text": [
      "Done\n"
     ]
    }
   ],
   "source": [
    "print('Done')"
   ]
  },
  {
   "cell_type": "code",
   "execution_count": null,
   "id": "b0afeead-1012-455b-9ef9-8410aebb61c3",
   "metadata": {},
   "outputs": [],
   "source": []
  }
 ],
 "metadata": {
  "kernelspec": {
   "display_name": "Python 3 (ipykernel)",
   "language": "python",
   "name": "python3"
  },
  "language_info": {
   "codemirror_mode": {
    "name": "ipython",
    "version": 3
   },
   "file_extension": ".py",
   "mimetype": "text/x-python",
   "name": "python",
   "nbconvert_exporter": "python",
   "pygments_lexer": "ipython3",
   "version": "3.9.7"
  },
  "vscode": {
   "interpreter": {
    "hash": "93520e3b97abbf787051ab7b7f90e780b709a3c4bf21f048fe3840ad79373056"
   }
  }
 },
 "nbformat": 4,
 "nbformat_minor": 5
}
