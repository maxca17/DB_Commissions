{
 "cells": [
  {
   "cell_type": "code",
   "execution_count": 2,
   "id": "04999cec-cd66-4371-8b66-debfa56c61ce",
   "metadata": {},
   "outputs": [],
   "source": [
    "import openpyxl as py\n",
    "from openpyxl import *\n",
    "import pandas as pd\n",
    "from pandas import *\n",
    "import numpy as np\n",
    "import ast as ast\n",
    "import os.path\n",
    "#import pdfkit\n",
    "pd.options.mode.chained_assignment = None"
   ]
  },
  {
   "cell_type": "code",
   "execution_count": 3,
   "id": "66a57822-a28e-4bff-a0ce-85c78df10043",
   "metadata": {},
   "outputs": [],
   "source": [
    "#eoq = input('Is this the end of a quarter? (imput y or n)')"
   ]
  },
  {
   "cell_type": "code",
   "execution_count": 4,
   "id": "af592d31-534b-4cc6-86a0-a4fcb05485fb",
   "metadata": {},
   "outputs": [],
   "source": [
    "ep1 = pd.read_excel('../excel_sheets/Epicor.xlsx')"
   ]
  },
  {
   "cell_type": "code",
   "execution_count": 5,
   "id": "a523d12a-6a8a-46d9-af05-9b35434c1bc6",
   "metadata": {},
   "outputs": [
    {
     "data": {
      "text/html": [
       "<div>\n",
       "<style scoped>\n",
       "    .dataframe tbody tr th:only-of-type {\n",
       "        vertical-align: middle;\n",
       "    }\n",
       "\n",
       "    .dataframe tbody tr th {\n",
       "        vertical-align: top;\n",
       "    }\n",
       "\n",
       "    .dataframe thead th {\n",
       "        text-align: right;\n",
       "    }\n",
       "</style>\n",
       "<table border=\"1\" class=\"dataframe\">\n",
       "  <thead>\n",
       "    <tr style=\"text-align: right;\">\n",
       "      <th></th>\n",
       "      <th>Organization</th>\n",
       "      <th>Order #</th>\n",
       "      <th>Order Date</th>\n",
       "      <th>Salesman</th>\n",
       "      <th>Order Summary</th>\n",
       "      <th>Type</th>\n",
       "      <th>Term</th>\n",
       "      <th>Datacenter</th>\n",
       "      <th>payout</th>\n",
       "      <th>MRR</th>\n",
       "      <th>Service Type</th>\n",
       "    </tr>\n",
       "  </thead>\n",
       "  <tbody>\n",
       "    <tr>\n",
       "      <th>0</th>\n",
       "      <td>Accudata Systems Inc.- Triple S Steel</td>\n",
       "      <td>69092</td>\n",
       "      <td>2022-10-19</td>\n",
       "      <td>Ryan Popkin</td>\n",
       "      <td>Accudata / XC Triple S / Houston</td>\n",
       "      <td>Existing</td>\n",
       "      <td>36</td>\n",
       "      <td>HOU1</td>\n",
       "      <td>200.0</td>\n",
       "      <td>200.0</td>\n",
       "      <td>xConnect</td>\n",
       "    </tr>\n",
       "  </tbody>\n",
       "</table>\n",
       "</div>"
      ],
      "text/plain": [
       "                            Organization Order # Order Date     Salesman  \\\n",
       "0  Accudata Systems Inc.- Triple S Steel   69092 2022-10-19  Ryan Popkin   \n",
       "\n",
       "                      Order Summary      Type  Term Datacenter  payout    MRR  \\\n",
       "0  Accudata / XC Triple S / Houston  Existing    36       HOU1   200.0  200.0   \n",
       "\n",
       "  Service Type  \n",
       "0     xConnect  "
      ]
     },
     "execution_count": 5,
     "metadata": {},
     "output_type": "execute_result"
    }
   ],
   "source": [
    "ep1.head(1)"
   ]
  },
  {
   "cell_type": "code",
   "execution_count": 6,
   "id": "a57e197d-f175-4163-90f9-152fb826c36f",
   "metadata": {},
   "outputs": [
    {
     "data": {
      "text/plain": [
       "Index(['Organization', 'Order #', 'Order Date', 'Salesman', 'Order Summary',\n",
       "       'Type', 'Term', 'Datacenter', 'payout', 'MRR', 'Service Type'],\n",
       "      dtype='object')"
      ]
     },
     "execution_count": 6,
     "metadata": {},
     "output_type": "execute_result"
    }
   ],
   "source": [
    "ep1.columns"
   ]
  },
  {
   "cell_type": "code",
   "execution_count": 7,
   "id": "4a5ef1d1-6c04-4b21-aa8c-358d131a009b",
   "metadata": {},
   "outputs": [
    {
     "data": {
      "text/plain": [
       "Organization             object\n",
       "Order #                  object\n",
       "Order Date       datetime64[ns]\n",
       "Salesman                 object\n",
       "Order Summary            object\n",
       "Type                     object\n",
       "Term                      int64\n",
       "Datacenter               object\n",
       "payout                  float64\n",
       "MRR                     float64\n",
       "Service Type             object\n",
       "dtype: object"
      ]
     },
     "execution_count": 7,
     "metadata": {},
     "output_type": "execute_result"
    }
   ],
   "source": [
    "ep1.dtypes"
   ]
  },
  {
   "cell_type": "code",
   "execution_count": 8,
   "id": "a621d72c-4849-488d-b579-53dd39493eff",
   "metadata": {},
   "outputs": [],
   "source": [
    "samuel_mickler = ep1[ep1['Salesman'] == 'Samuel Mickler']\n",
    "trey_hardeman = ep1[ep1['Salesman'] == 'Trey Hardeman']\n",
    "odaine_hudson = ep1[ep1['Salesman'] == 'Odaine Hudson']\n",
    "andrew_ramirez = ep1[ep1['Salesman'] == 'Andrew Ramirez']\n",
    "carlie_matel = ep1[ep1['Salesman'] == 'Carlie Matel']\n",
    "jonathan_malcolm = ep1[ep1['Salesman'] == 'Jonathan Malcolm']\n",
    "mike_miceli = ep1[ep1['Salesman'] == 'Mike Miceli']\n",
    "tiffany_dunson = ep1[ep1['Salesman'] == 'Tiffany Dunson']\n",
    "natalie_farr = ep1[ep1['Salesman'] == 'Natalie Farr']\n",
    "shelby_locklear = ep1[ep1['Salesman'] == 'Shelby Locklear']\n",
    "kathy_geiser = ep1[ep1['Salesman'] == 'Kathy J Geiser']\n",
    "stephen_muoio = ep1[ep1['Salesman'] == 'Stephen Muoio']\n",
    "matt_horne = ep1[ep1['Salesman'] == 'Matt Horne']\n",
    "brandon_peccorolo = ep1[ep1['Salesman'] == 'Brandon Peccoralo']\n",
    "d_will = ep1[ep1['Salesman'] == 'Dennis Wilson']\n",
    "raymond_perry = ep1[ep1['Salesman'] == 'Raymond Perry']\n",
    "james_hartley = ep1[ep1['Salesman'] == 'James Hartley']\n",
    "james_reilly = ep1[ep1['Salesman'] == 'James Reilly']\n"
   ]
  },
  {
   "cell_type": "code",
   "execution_count": 14,
   "id": "218048ed-0778-47a3-a043-c33eefa0c29b",
   "metadata": {},
   "outputs": [
    {
     "ename": "NameError",
     "evalue": "name 'x' is not defined",
     "output_type": "error",
     "traceback": [
      "\u001b[1;31m---------------------------------------------------------------------------\u001b[0m",
      "\u001b[1;31mNameError\u001b[0m                                 Traceback (most recent call last)",
      "\u001b[1;32m~\\AppData\\Local\\Temp/ipykernel_23476/264161609.py\u001b[0m in \u001b[0;36m<module>\u001b[1;34m\u001b[0m\n\u001b[0;32m      5\u001b[0m     \u001b[0msamuel_mickler\u001b[0m\u001b[1;33m.\u001b[0m\u001b[0mloc\u001b[0m\u001b[1;33m[\u001b[0m\u001b[0msamuel_mickler\u001b[0m\u001b[1;33m[\u001b[0m\u001b[1;34m'Datacenter'\u001b[0m\u001b[1;33m]\u001b[0m\u001b[1;33m.\u001b[0m\u001b[0misin\u001b[0m\u001b[1;33m(\u001b[0m\u001b[1;33m[\u001b[0m\u001b[1;34m'ATL1'\u001b[0m\u001b[1;33m,\u001b[0m \u001b[1;34m'ATL3'\u001b[0m\u001b[1;33m,\u001b[0m \u001b[1;34m'BOS1'\u001b[0m\u001b[1;33m,\u001b[0m \u001b[1;34m'BWI1'\u001b[0m\u001b[1;33m,\u001b[0m \u001b[1;34m'DEN2'\u001b[0m\u001b[1;33m,\u001b[0m \u001b[1;34m'DEN3'\u001b[0m\u001b[1;33m,\u001b[0m \u001b[1;34m'DFW3'\u001b[0m\u001b[1;33m,\u001b[0m\u001b[1;34m'DFW4'\u001b[0m\u001b[1;33m,\u001b[0m \u001b[1;34m'DFW5'\u001b[0m\u001b[1;33m,\u001b[0m\u001b[1;34m'EWR1'\u001b[0m\u001b[1;33m,\u001b[0m\u001b[1;34m'IAD1'\u001b[0m\u001b[1;33m,\u001b[0m\u001b[1;34m'IND1'\u001b[0m\u001b[1;33m,\u001b[0m\u001b[1;34m'IND2'\u001b[0m\u001b[1;33m,\u001b[0m\u001b[1;34m'LAS1'\u001b[0m\u001b[1;33m,\u001b[0m\u001b[1;34m'LAX1'\u001b[0m\u001b[1;33m,\u001b[0m\u001b[1;34m'LGA1'\u001b[0m\u001b[1;33m,\u001b[0m\u001b[1;34m'LGA2'\u001b[0m\u001b[1;33m,\u001b[0m\u001b[1;34m'MCI1'\u001b[0m\u001b[1;33m,\u001b[0m\u001b[1;34m'MCI2'\u001b[0m\u001b[1;33m,\u001b[0m\u001b[1;34m'MCI3'\u001b[0m\u001b[1;33m,\u001b[0m\u001b[1;34m'MIA1'\u001b[0m\u001b[1;33m,\u001b[0m\u001b[1;34m'MSP2'\u001b[0m\u001b[1;33m,\u001b[0m\u001b[1;34m'MSP3'\u001b[0m\u001b[1;33m,\u001b[0m\u001b[1;34m'MSP4'\u001b[0m\u001b[1;33m,\u001b[0m\u001b[1;34m'ORD1'\u001b[0m\u001b[1;33m,\u001b[0m\u001b[1;34m'ORD4'\u001b[0m\u001b[1;33m,\u001b[0m\u001b[1;34m'PHL1'\u001b[0m\u001b[1;33m,\u001b[0m\u001b[1;34m'PHX2'\u001b[0m\u001b[1;33m,\u001b[0m\u001b[1;34m'PHX3'\u001b[0m\u001b[1;33m,\u001b[0m\u001b[1;34m'PIT1'\u001b[0m\u001b[1;33m,\u001b[0m\u001b[1;34m'PIT2'\u001b[0m\u001b[1;33m,\u001b[0m\u001b[1;34m'SAN1'\u001b[0m\u001b[1;33m,\u001b[0m\u001b[1;34m'SAN2'\u001b[0m\u001b[1;33m,\u001b[0m\u001b[1;34m'SEA1'\u001b[0m\u001b[1;33m,\u001b[0m\u001b[1;34m'SFO1'\u001b[0m\u001b[1;33m,\u001b[0m\u001b[1;34m'SLC3'\u001b[0m\u001b[1;33m,\u001b[0m\u001b[1;34m'SLC4'\u001b[0m\u001b[1;33m,\u001b[0m\u001b[1;34m'SLC5'\u001b[0m\u001b[1;33m,\u001b[0m\u001b[1;34m'SNA1'\u001b[0m\u001b[1;33m,\u001b[0m\u001b[1;34m'SNA2'\u001b[0m\u001b[1;33m,\u001b[0m\u001b[1;34m'PAR1'\u001b[0m\u001b[1;33m,\u001b[0m\u001b[1;34m'PAR2'\u001b[0m\u001b[1;33m,\u001b[0m\u001b[1;34m'PAR3'\u001b[0m\u001b[1;33m,\u001b[0m\u001b[1;34m'MPL1'\u001b[0m\u001b[1;33m,\u001b[0m\u001b[1;34m'TLS1'\u001b[0m\u001b[1;33m]\u001b[0m\u001b[1;33m)\u001b[0m\u001b[1;33m,\u001b[0m \u001b[1;34m'payout'\u001b[0m\u001b[1;33m]\u001b[0m \u001b[1;33m*=\u001b[0m \u001b[1;36m.5\u001b[0m\u001b[1;33m\u001b[0m\u001b[1;33m\u001b[0m\u001b[0m\n\u001b[0;32m      6\u001b[0m     \u001b[0mx\u001b[0m\u001b[1;33m.\u001b[0m\u001b[0mloc\u001b[0m\u001b[1;33m[\u001b[0m\u001b[0msamuel_mickler\u001b[0m\u001b[1;33m[\u001b[0m\u001b[1;34m'Service Type'\u001b[0m\u001b[1;33m]\u001b[0m\u001b[1;33m.\u001b[0m\u001b[0misin\u001b[0m\u001b[1;33m(\u001b[0m\u001b[1;33m[\u001b[0m\u001b[1;34m'Managed Services'\u001b[0m\u001b[1;33m]\u001b[0m\u001b[1;33m)\u001b[0m \u001b[1;33m&\u001b[0m \u001b[0msamuel_mickler\u001b[0m\u001b[1;33m[\u001b[0m\u001b[1;34m'Datacenter'\u001b[0m\u001b[1;33m]\u001b[0m\u001b[1;33m.\u001b[0m\u001b[0misin\u001b[0m\u001b[1;33m(\u001b[0m\u001b[1;33m[\u001b[0m\u001b[1;34m'ATL2'\u001b[0m\u001b[1;33m,\u001b[0m \u001b[1;34m'HOU1'\u001b[0m\u001b[1;33m,\u001b[0m \u001b[1;34m'HOU2'\u001b[0m\u001b[1;33m,\u001b[0m \u001b[1;34m'HOU3'\u001b[0m\u001b[1;33m,\u001b[0m \u001b[1;34m'HOU4'\u001b[0m\u001b[1;33m,\u001b[0m \u001b[1;34m'HOU5'\u001b[0m\u001b[1;33m,\u001b[0m\u001b[1;34m'ACT1'\u001b[0m\u001b[1;33m,\u001b[0m\u001b[1;34m'AUS1'\u001b[0m\u001b[1;33m,\u001b[0m\u001b[1;34m'CLE1'\u001b[0m\u001b[1;33m,\u001b[0m\u001b[1;34m'DEN1'\u001b[0m\u001b[1;33m,\u001b[0m\u001b[1;34m'DEN4'\u001b[0m\u001b[1;33m,\u001b[0m\u001b[1;34m'DFW1'\u001b[0m\u001b[1;33m,\u001b[0m\u001b[1;34m'DFW2'\u001b[0m\u001b[1;33m,\u001b[0m\u001b[1;34m'DFW6'\u001b[0m\u001b[1;33m,\u001b[0m\u001b[1;34m'DFW7'\u001b[0m\u001b[1;33m,\u001b[0m\u001b[1;34m'EWR2'\u001b[0m\u001b[1;33m,\u001b[0m\u001b[1;34m'IAD2'\u001b[0m\u001b[1;33m,\u001b[0m\u001b[1;34m'KC2'\u001b[0m\u001b[1;33m,\u001b[0m\u001b[1;34m'MEM1'\u001b[0m\u001b[1;33m,\u001b[0m\u001b[1;34m'MSP1'\u001b[0m\u001b[1;33m,\u001b[0m\u001b[1;34m'LHR1'\u001b[0m\u001b[1;33m,\u001b[0m\u001b[1;34m'ORD2'\u001b[0m\u001b[1;33m,\u001b[0m\u001b[1;34m'ORD3'\u001b[0m\u001b[1;33m,\u001b[0m\u001b[1;34m'PHX1'\u001b[0m\u001b[1;33m,\u001b[0m\u001b[1;34m'SEA2'\u001b[0m\u001b[1;33m,\u001b[0m\u001b[1;34m'SLC1'\u001b[0m\u001b[1;33m,\u001b[0m\u001b[1;34m'SLC2'\u001b[0m\u001b[1;33m]\u001b[0m\u001b[1;33m)\u001b[0m\u001b[1;33m,\u001b[0m \u001b[1;34m'payout'\u001b[0m\u001b[1;33m]\u001b[0m \u001b[1;33m*=\u001b[0m \u001b[1;36m.66666667\u001b[0m\u001b[1;33m\u001b[0m\u001b[1;33m\u001b[0m\u001b[0m\n\u001b[1;32m----> 7\u001b[1;33m \u001b[0mpecc\u001b[0m\u001b[1;33m(\u001b[0m\u001b[1;33m)\u001b[0m\u001b[1;33m\u001b[0m\u001b[1;33m\u001b[0m\u001b[0m\n\u001b[0m\u001b[0;32m      8\u001b[0m \u001b[1;33m\u001b[0m\u001b[0m\n",
      "\u001b[1;32m~\\AppData\\Local\\Temp/ipykernel_23476/264161609.py\u001b[0m in \u001b[0;36mpecc\u001b[1;34m()\u001b[0m\n\u001b[0;32m      4\u001b[0m     \u001b[0msamuel_mickler\u001b[0m\u001b[1;33m.\u001b[0m\u001b[0mloc\u001b[0m\u001b[1;33m[\u001b[0m\u001b[0msamuel_mickler\u001b[0m\u001b[1;33m[\u001b[0m\u001b[1;34m'Datacenter'\u001b[0m\u001b[1;33m]\u001b[0m\u001b[1;33m.\u001b[0m\u001b[0misin\u001b[0m\u001b[1;33m(\u001b[0m\u001b[1;33m[\u001b[0m\u001b[1;34m'ATL2'\u001b[0m\u001b[1;33m,\u001b[0m \u001b[1;34m'HOU1'\u001b[0m\u001b[1;33m,\u001b[0m \u001b[1;34m'HOU2'\u001b[0m\u001b[1;33m,\u001b[0m \u001b[1;34m'HOU3'\u001b[0m\u001b[1;33m,\u001b[0m \u001b[1;34m'HOU4'\u001b[0m\u001b[1;33m,\u001b[0m \u001b[1;34m'HOU5'\u001b[0m\u001b[1;33m,\u001b[0m\u001b[1;34m'ACT1'\u001b[0m\u001b[1;33m,\u001b[0m\u001b[1;34m'AUS1'\u001b[0m\u001b[1;33m,\u001b[0m\u001b[1;34m'CLE1'\u001b[0m\u001b[1;33m,\u001b[0m\u001b[1;34m'DEN1'\u001b[0m\u001b[1;33m,\u001b[0m\u001b[1;34m'DEN4'\u001b[0m\u001b[1;33m,\u001b[0m\u001b[1;34m'DFW1'\u001b[0m\u001b[1;33m,\u001b[0m\u001b[1;34m'DFW2'\u001b[0m\u001b[1;33m,\u001b[0m\u001b[1;34m'DFW6'\u001b[0m\u001b[1;33m,\u001b[0m\u001b[1;34m'DFW7'\u001b[0m\u001b[1;33m,\u001b[0m\u001b[1;34m'EWR2'\u001b[0m\u001b[1;33m,\u001b[0m\u001b[1;34m'IAD2'\u001b[0m\u001b[1;33m,\u001b[0m\u001b[1;34m'KC2'\u001b[0m\u001b[1;33m,\u001b[0m\u001b[1;34m'MEM1'\u001b[0m\u001b[1;33m,\u001b[0m\u001b[1;34m'MSP1'\u001b[0m\u001b[1;33m,\u001b[0m\u001b[1;34m'LHR1'\u001b[0m\u001b[1;33m,\u001b[0m\u001b[1;34m'ORD2'\u001b[0m\u001b[1;33m,\u001b[0m\u001b[1;34m'ORD3'\u001b[0m\u001b[1;33m,\u001b[0m\u001b[1;34m'PHX1'\u001b[0m\u001b[1;33m,\u001b[0m\u001b[1;34m'SEA2'\u001b[0m\u001b[1;33m,\u001b[0m\u001b[1;34m'SLC1'\u001b[0m\u001b[1;33m,\u001b[0m\u001b[1;34m'SLC2'\u001b[0m\u001b[1;33m]\u001b[0m\u001b[1;33m)\u001b[0m\u001b[1;33m,\u001b[0m \u001b[1;34m'payout'\u001b[0m\u001b[1;33m]\u001b[0m \u001b[1;33m*=\u001b[0m \u001b[1;36m.75\u001b[0m\u001b[1;33m\u001b[0m\u001b[1;33m\u001b[0m\u001b[0m\n\u001b[0;32m      5\u001b[0m     \u001b[0msamuel_mickler\u001b[0m\u001b[1;33m.\u001b[0m\u001b[0mloc\u001b[0m\u001b[1;33m[\u001b[0m\u001b[0msamuel_mickler\u001b[0m\u001b[1;33m[\u001b[0m\u001b[1;34m'Datacenter'\u001b[0m\u001b[1;33m]\u001b[0m\u001b[1;33m.\u001b[0m\u001b[0misin\u001b[0m\u001b[1;33m(\u001b[0m\u001b[1;33m[\u001b[0m\u001b[1;34m'ATL1'\u001b[0m\u001b[1;33m,\u001b[0m \u001b[1;34m'ATL3'\u001b[0m\u001b[1;33m,\u001b[0m \u001b[1;34m'BOS1'\u001b[0m\u001b[1;33m,\u001b[0m \u001b[1;34m'BWI1'\u001b[0m\u001b[1;33m,\u001b[0m \u001b[1;34m'DEN2'\u001b[0m\u001b[1;33m,\u001b[0m \u001b[1;34m'DEN3'\u001b[0m\u001b[1;33m,\u001b[0m \u001b[1;34m'DFW3'\u001b[0m\u001b[1;33m,\u001b[0m\u001b[1;34m'DFW4'\u001b[0m\u001b[1;33m,\u001b[0m \u001b[1;34m'DFW5'\u001b[0m\u001b[1;33m,\u001b[0m\u001b[1;34m'EWR1'\u001b[0m\u001b[1;33m,\u001b[0m\u001b[1;34m'IAD1'\u001b[0m\u001b[1;33m,\u001b[0m\u001b[1;34m'IND1'\u001b[0m\u001b[1;33m,\u001b[0m\u001b[1;34m'IND2'\u001b[0m\u001b[1;33m,\u001b[0m\u001b[1;34m'LAS1'\u001b[0m\u001b[1;33m,\u001b[0m\u001b[1;34m'LAX1'\u001b[0m\u001b[1;33m,\u001b[0m\u001b[1;34m'LGA1'\u001b[0m\u001b[1;33m,\u001b[0m\u001b[1;34m'LGA2'\u001b[0m\u001b[1;33m,\u001b[0m\u001b[1;34m'MCI1'\u001b[0m\u001b[1;33m,\u001b[0m\u001b[1;34m'MCI2'\u001b[0m\u001b[1;33m,\u001b[0m\u001b[1;34m'MCI3'\u001b[0m\u001b[1;33m,\u001b[0m\u001b[1;34m'MIA1'\u001b[0m\u001b[1;33m,\u001b[0m\u001b[1;34m'MSP2'\u001b[0m\u001b[1;33m,\u001b[0m\u001b[1;34m'MSP3'\u001b[0m\u001b[1;33m,\u001b[0m\u001b[1;34m'MSP4'\u001b[0m\u001b[1;33m,\u001b[0m\u001b[1;34m'ORD1'\u001b[0m\u001b[1;33m,\u001b[0m\u001b[1;34m'ORD4'\u001b[0m\u001b[1;33m,\u001b[0m\u001b[1;34m'PHL1'\u001b[0m\u001b[1;33m,\u001b[0m\u001b[1;34m'PHX2'\u001b[0m\u001b[1;33m,\u001b[0m\u001b[1;34m'PHX3'\u001b[0m\u001b[1;33m,\u001b[0m\u001b[1;34m'PIT1'\u001b[0m\u001b[1;33m,\u001b[0m\u001b[1;34m'PIT2'\u001b[0m\u001b[1;33m,\u001b[0m\u001b[1;34m'SAN1'\u001b[0m\u001b[1;33m,\u001b[0m\u001b[1;34m'SAN2'\u001b[0m\u001b[1;33m,\u001b[0m\u001b[1;34m'SEA1'\u001b[0m\u001b[1;33m,\u001b[0m\u001b[1;34m'SFO1'\u001b[0m\u001b[1;33m,\u001b[0m\u001b[1;34m'SLC3'\u001b[0m\u001b[1;33m,\u001b[0m\u001b[1;34m'SLC4'\u001b[0m\u001b[1;33m,\u001b[0m\u001b[1;34m'SLC5'\u001b[0m\u001b[1;33m,\u001b[0m\u001b[1;34m'SNA1'\u001b[0m\u001b[1;33m,\u001b[0m\u001b[1;34m'SNA2'\u001b[0m\u001b[1;33m,\u001b[0m\u001b[1;34m'PAR1'\u001b[0m\u001b[1;33m,\u001b[0m\u001b[1;34m'PAR2'\u001b[0m\u001b[1;33m,\u001b[0m\u001b[1;34m'PAR3'\u001b[0m\u001b[1;33m,\u001b[0m\u001b[1;34m'MPL1'\u001b[0m\u001b[1;33m,\u001b[0m\u001b[1;34m'TLS1'\u001b[0m\u001b[1;33m]\u001b[0m\u001b[1;33m)\u001b[0m\u001b[1;33m,\u001b[0m \u001b[1;34m'payout'\u001b[0m\u001b[1;33m]\u001b[0m \u001b[1;33m*=\u001b[0m \u001b[1;36m.5\u001b[0m\u001b[1;33m\u001b[0m\u001b[1;33m\u001b[0m\u001b[0m\n\u001b[1;32m----> 6\u001b[1;33m     \u001b[0mx\u001b[0m\u001b[1;33m.\u001b[0m\u001b[0mloc\u001b[0m\u001b[1;33m[\u001b[0m\u001b[0msamuel_mickler\u001b[0m\u001b[1;33m[\u001b[0m\u001b[1;34m'Service Type'\u001b[0m\u001b[1;33m]\u001b[0m\u001b[1;33m.\u001b[0m\u001b[0misin\u001b[0m\u001b[1;33m(\u001b[0m\u001b[1;33m[\u001b[0m\u001b[1;34m'Managed Services'\u001b[0m\u001b[1;33m]\u001b[0m\u001b[1;33m)\u001b[0m \u001b[1;33m&\u001b[0m \u001b[0msamuel_mickler\u001b[0m\u001b[1;33m[\u001b[0m\u001b[1;34m'Datacenter'\u001b[0m\u001b[1;33m]\u001b[0m\u001b[1;33m.\u001b[0m\u001b[0misin\u001b[0m\u001b[1;33m(\u001b[0m\u001b[1;33m[\u001b[0m\u001b[1;34m'ATL2'\u001b[0m\u001b[1;33m,\u001b[0m \u001b[1;34m'HOU1'\u001b[0m\u001b[1;33m,\u001b[0m \u001b[1;34m'HOU2'\u001b[0m\u001b[1;33m,\u001b[0m \u001b[1;34m'HOU3'\u001b[0m\u001b[1;33m,\u001b[0m \u001b[1;34m'HOU4'\u001b[0m\u001b[1;33m,\u001b[0m \u001b[1;34m'HOU5'\u001b[0m\u001b[1;33m,\u001b[0m\u001b[1;34m'ACT1'\u001b[0m\u001b[1;33m,\u001b[0m\u001b[1;34m'AUS1'\u001b[0m\u001b[1;33m,\u001b[0m\u001b[1;34m'CLE1'\u001b[0m\u001b[1;33m,\u001b[0m\u001b[1;34m'DEN1'\u001b[0m\u001b[1;33m,\u001b[0m\u001b[1;34m'DEN4'\u001b[0m\u001b[1;33m,\u001b[0m\u001b[1;34m'DFW1'\u001b[0m\u001b[1;33m,\u001b[0m\u001b[1;34m'DFW2'\u001b[0m\u001b[1;33m,\u001b[0m\u001b[1;34m'DFW6'\u001b[0m\u001b[1;33m,\u001b[0m\u001b[1;34m'DFW7'\u001b[0m\u001b[1;33m,\u001b[0m\u001b[1;34m'EWR2'\u001b[0m\u001b[1;33m,\u001b[0m\u001b[1;34m'IAD2'\u001b[0m\u001b[1;33m,\u001b[0m\u001b[1;34m'KC2'\u001b[0m\u001b[1;33m,\u001b[0m\u001b[1;34m'MEM1'\u001b[0m\u001b[1;33m,\u001b[0m\u001b[1;34m'MSP1'\u001b[0m\u001b[1;33m,\u001b[0m\u001b[1;34m'LHR1'\u001b[0m\u001b[1;33m,\u001b[0m\u001b[1;34m'ORD2'\u001b[0m\u001b[1;33m,\u001b[0m\u001b[1;34m'ORD3'\u001b[0m\u001b[1;33m,\u001b[0m\u001b[1;34m'PHX1'\u001b[0m\u001b[1;33m,\u001b[0m\u001b[1;34m'SEA2'\u001b[0m\u001b[1;33m,\u001b[0m\u001b[1;34m'SLC1'\u001b[0m\u001b[1;33m,\u001b[0m\u001b[1;34m'SLC2'\u001b[0m\u001b[1;33m]\u001b[0m\u001b[1;33m)\u001b[0m\u001b[1;33m,\u001b[0m \u001b[1;34m'payout'\u001b[0m\u001b[1;33m]\u001b[0m \u001b[1;33m*=\u001b[0m \u001b[1;36m.66666667\u001b[0m\u001b[1;33m\u001b[0m\u001b[1;33m\u001b[0m\u001b[0m\n\u001b[0m\u001b[0;32m      7\u001b[0m \u001b[0mpecc\u001b[0m\u001b[1;33m(\u001b[0m\u001b[1;33m)\u001b[0m\u001b[1;33m\u001b[0m\u001b[1;33m\u001b[0m\u001b[0m\n\u001b[0;32m      8\u001b[0m \u001b[1;33m\u001b[0m\u001b[0m\n",
      "\u001b[1;31mNameError\u001b[0m: name 'x' is not defined"
     ]
    }
   ],
   "source": [
    "def pecc():\n",
    "    samuel_mickler.head()\n",
    "    samuel_mickler.drop(samuel_mickler[samuel_mickler.MRR == 0.0].index, inplace=True)\n",
    "    samuel_mickler.loc[samuel_mickler['Datacenter'].isin(['ATL2', 'HOU1', 'HOU2', 'HOU3', 'HOU4', 'HOU5','ACT1','AUS1','CLE1','DEN1','DEN4','DFW1','DFW2','DFW6','DFW7','EWR2','IAD2','KC2','MEM1','MSP1','LHR1','ORD2','ORD3','PHX1','SEA2','SLC1','SLC2']), 'payout'] *= .75\n",
    "    samuel_mickler.loc[samuel_mickler['Datacenter'].isin(['ATL1', 'ATL3', 'BOS1', 'BWI1', 'DEN2', 'DEN3', 'DFW3','DFW4', 'DFW5','EWR1','IAD1','IND1','IND2','LAS1','LAX1','LGA1','LGA2','MCI1','MCI2','MCI3','MIA1','MSP2','MSP3','MSP4','ORD1','ORD4','PHL1','PHX2','PHX3','PIT1','PIT2','SAN1','SAN2','SEA1','SFO1','SLC3','SLC4','SLC5','SNA1','SNA2','PAR1','PAR2','PAR3','MPL1','TLS1']), 'payout'] *= .5\n",
    "    x.loc[samuel_mickler['Service Type'].isin(['Managed Services']) & samuel_mickler['Datacenter'].isin(['ATL2', 'HOU1', 'HOU2', 'HOU3', 'HOU4', 'HOU5','ACT1','AUS1','CLE1','DEN1','DEN4','DFW1','DFW2','DFW6','DFW7','EWR2','IAD2','KC2','MEM1','MSP1','LHR1','ORD2','ORD3','PHX1','SEA2','SLC1','SLC2']), 'payout'] *= .66666667\n",
    "pecc()\n",
    "    "
   ]
  },
  {
   "cell_type": "code",
   "execution_count": null,
   "id": "c8c658e9-e975-48ec-bfda-069142eced50",
   "metadata": {},
   "outputs": [],
   "source": [
    "samuel_mickler.head()"
   ]
  },
  {
   "cell_type": "code",
   "execution_count": null,
   "id": "83df021c-355d-402f-82b4-d986de75c16b",
   "metadata": {},
   "outputs": [],
   "source": [
    "samuel_mickler.loc[samuel_mickler['Datacenter'].isin(['ATL2', 'HOU1', 'HOU2', 'HOU3', 'HOU4', 'HOU5','ACT1','AUS1','CLE1','DEN1','DEN4','DFW1','DFW2','DFW6','DFW7','EWR2','IAD2','KC2','MEM1','MSP1','LHR1','ORD2','ORD3','PHX1','SEA2','SLC1','SLC2']), 'payout'] *= .75\n",
    "samuel_mickler.loc[samuel_mickler['Datacenter'].isin(['ATL1', 'ATL3', 'BOS1', 'BWI1', 'DEN2', 'DEN3', 'DFW3','DFW4', 'DFW5','EWR1','IAD1','IND1','IND2','LAS1','LAX1','LGA1','LGA2','MCI1','MCI2','MCI3','MIA1','MSP2','MSP3','MSP4','ORD1','ORD4','PHL1','PHX2','PHX3','PIT1','PIT2','SAN1','SAN2','SEA1','SFO1','SLC3','SLC4','SLC5','SNA1','SNA2','PAR1','PAR2','PAR3','MPL1','TLS1']), 'payout'] *= .5\n",
    "samuel_mickler.loc[samuel_mickler['Service Type'].isin(['Managed Services']) & samuel_mickler['Datacenter'].isin(['ATL2', 'HOU1', 'HOU2', 'HOU3', 'HOU4', 'HOU5','ACT1','AUS1','CLE1','DEN1','DEN4','DFW1','DFW2','DFW6','DFW7','EWR2','IAD2','KC2','MEM1','MSP1','LHR1','ORD2','ORD3','PHX1','SEA2','SLC1','SLC2']), 'payout'] *= .66666667"
   ]
  },
  {
   "cell_type": "code",
   "execution_count": null,
   "id": "c2d260b3-868c-4941-8a70-dbc2734164fd",
   "metadata": {},
   "outputs": [],
   "source": [
    "samuel_mickler['payout'].sum()"
   ]
  },
  {
   "cell_type": "code",
   "execution_count": null,
   "id": "b104b035-3862-42db-ae80-42f42c939a7c",
   "metadata": {},
   "outputs": [],
   "source": [
    "mick_bookings = samuel_mickler['MRR'].sum()"
   ]
  },
  {
   "cell_type": "code",
   "execution_count": null,
   "id": "701b8d86-6b58-4638-97fc-3f0343db9140",
   "metadata": {},
   "outputs": [],
   "source": [
    "mick_bookings"
   ]
  },
  {
   "cell_type": "code",
   "execution_count": null,
   "id": "5b8c14a5-eb07-4ab7-8351-18ae92c4c185",
   "metadata": {},
   "outputs": [],
   "source": [
    "mick_pay = samuel_mickler['payout'].sum()"
   ]
  },
  {
   "cell_type": "code",
   "execution_count": null,
   "id": "919293bc-a5b8-4fbe-a5fe-138c32f7326e",
   "metadata": {},
   "outputs": [],
   "source": [
    "samuel_mickler.loc[111111] = ['Total Bookings:', mick_bookings, '', '' ,'','','','','','','']"
   ]
  },
  {
   "cell_type": "code",
   "execution_count": null,
   "id": "98cca5ac-462e-49c2-90fb-53e147de7169",
   "metadata": {},
   "outputs": [],
   "source": [
    "samuel_mickler.loc[111112] = ['Total Payout:', mick_pay, '', '' ,'','','','','','','']"
   ]
  },
  {
   "cell_type": "code",
   "execution_count": null,
   "id": "af81212c-e574-4e13-9b2a-544e98d5d643",
   "metadata": {},
   "outputs": [],
   "source": []
  }
 ],
 "metadata": {
  "kernelspec": {
   "display_name": "Python 3 (ipykernel)",
   "language": "python",
   "name": "python3"
  },
  "language_info": {
   "codemirror_mode": {
    "name": "ipython",
    "version": 3
   },
   "file_extension": ".py",
   "mimetype": "text/x-python",
   "name": "python",
   "nbconvert_exporter": "python",
   "pygments_lexer": "ipython3",
   "version": "3.9.7"
  }
 },
 "nbformat": 4,
 "nbformat_minor": 5
}
