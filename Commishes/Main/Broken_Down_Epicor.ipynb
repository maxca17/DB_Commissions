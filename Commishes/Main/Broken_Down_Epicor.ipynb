{
 "cells": [
  {
   "cell_type": "markdown",
   "id": "840fb76c-0eb4-48dd-b165-40fd6f8cfd48",
   "metadata": {
    "tags": []
   },
   "source": [
    "### Data Clean & Setup"
   ]
  },
  {
   "cell_type": "code",
   "execution_count": 19,
   "id": "79d6c906-5e45-4299-a871-db3fc1499ab5",
   "metadata": {},
   "outputs": [],
   "source": [
    "import openpyxl as py\n",
    "from openpyxl import *\n",
    "import pandas as pd\n",
    "from pandas import *\n",
    "import numpy as np\n",
    "import ast as ast\n",
    "#import pdfkit\n",
    "pd.options.mode.chained_assignment = None"
   ]
  },
  {
   "cell_type": "code",
   "execution_count": 21,
   "id": "ad347f17-3dda-4355-8ac1-690d3e5a0e0d",
   "metadata": {},
   "outputs": [
    {
     "name": "stdin",
     "output_type": "stream",
     "text": [
      "Is this the end of a quarter? (imput y or n) n\n"
     ]
    }
   ],
   "source": [
    "#eoq = input('Is this the end of a quarter? (imput y or n)')"
   ]
  },
  {
   "cell_type": "code",
   "execution_count": 28,
   "id": "34045a76-3900-490e-b265-9922349262a2",
   "metadata": {},
   "outputs": [],
   "source": [
    "ep1 = pd.read_excel('epicor_datavf.xlsx')"
   ]
  },
  {
   "cell_type": "code",
   "execution_count": 23,
   "id": "a67a85d4-c465-495e-a676-f583ac632d44",
   "metadata": {},
   "outputs": [
    {
     "data": {
      "text/html": [
       "<div>\n",
       "<style scoped>\n",
       "    .dataframe tbody tr th:only-of-type {\n",
       "        vertical-align: middle;\n",
       "    }\n",
       "\n",
       "    .dataframe tbody tr th {\n",
       "        vertical-align: top;\n",
       "    }\n",
       "\n",
       "    .dataframe thead th {\n",
       "        text-align: right;\n",
       "    }\n",
       "</style>\n",
       "<table border=\"1\" class=\"dataframe\">\n",
       "  <thead>\n",
       "    <tr style=\"text-align: right;\">\n",
       "      <th></th>\n",
       "      <th>Organization</th>\n",
       "      <th>Order #</th>\n",
       "      <th>Order Date</th>\n",
       "      <th>Salesman</th>\n",
       "      <th>Opportunity Type</th>\n",
       "      <th>Order Summary</th>\n",
       "      <th>Item Code</th>\n",
       "      <th>Term</th>\n",
       "      <th>Datacenter</th>\n",
       "      <th>payout</th>\n",
       "      <th>MRR</th>\n",
       "      <th>Service Type</th>\n",
       "    </tr>\n",
       "  </thead>\n",
       "  <tbody>\n",
       "    <tr>\n",
       "      <th>0</th>\n",
       "      <td>Able IT Pros</td>\n",
       "      <td>44915</td>\n",
       "      <td>2022-05-11</td>\n",
       "      <td>Carlie Matel</td>\n",
       "      <td>Change Order</td>\n",
       "      <td>Able IT Pros- Increase Storage - DFW3 - 5/11/22</td>\n",
       "      <td>Managed Services : Cloud : IaaS/PaaS-1GB RAM</td>\n",
       "      <td>23.0</td>\n",
       "      <td>DFW3</td>\n",
       "      <td>26.27</td>\n",
       "      <td>26.27</td>\n",
       "      <td>Managed Services</td>\n",
       "    </tr>\n",
       "  </tbody>\n",
       "</table>\n",
       "</div>"
      ],
      "text/plain": [
       "   Organization Order # Order Date      Salesman Opportunity Type  \\\n",
       "0  Able IT Pros   44915 2022-05-11  Carlie Matel     Change Order   \n",
       "\n",
       "                                     Order Summary  \\\n",
       "0  Able IT Pros- Increase Storage - DFW3 - 5/11/22   \n",
       "\n",
       "                                      Item Code  Term Datacenter  payout  \\\n",
       "0  Managed Services : Cloud : IaaS/PaaS-1GB RAM  23.0       DFW3   26.27   \n",
       "\n",
       "     MRR      Service Type  \n",
       "0  26.27  Managed Services  "
      ]
     },
     "execution_count": 23,
     "metadata": {},
     "output_type": "execute_result"
    }
   ],
   "source": [
    "ep1.head(1)"
   ]
  },
  {
   "cell_type": "code",
   "execution_count": 24,
   "id": "9649a6cd-4603-4769-a831-afe79f745026",
   "metadata": {},
   "outputs": [
    {
     "data": {
      "text/plain": [
       "Index(['Organization', 'Order #', 'Order Date', 'Salesman', 'Opportunity Type',\n",
       "       'Order Summary', 'Item Code', 'Term', 'Datacenter', 'payout', 'MRR',\n",
       "       'Service Type'],\n",
       "      dtype='object')"
      ]
     },
     "execution_count": 24,
     "metadata": {},
     "output_type": "execute_result"
    }
   ],
   "source": [
    "ep1.columns"
   ]
  },
  {
   "cell_type": "code",
   "execution_count": 25,
   "id": "e121fa86-0785-4cf1-90ae-0fc5a2abe039",
   "metadata": {},
   "outputs": [
    {
     "data": {
      "text/plain": [
       "Organization                object\n",
       "Order #                     object\n",
       "Order Date          datetime64[ns]\n",
       "Salesman                    object\n",
       "Opportunity Type            object\n",
       "Order Summary               object\n",
       "Item Code                   object\n",
       "Term                       float64\n",
       "Datacenter                  object\n",
       "payout                     float64\n",
       "MRR                        float64\n",
       "Service Type                object\n",
       "dtype: object"
      ]
     },
     "execution_count": 25,
     "metadata": {},
     "output_type": "execute_result"
    }
   ],
   "source": [
    "ep1.dtypes"
   ]
  },
  {
   "cell_type": "markdown",
   "id": "815d4601-234c-47d6-b9e8-7f00a195b82e",
   "metadata": {
    "tags": []
   },
   "source": [
    "#### Clean Data"
   ]
  },
  {
   "cell_type": "code",
   "execution_count": 26,
   "id": "a4740fe4-8033-43cc-bc33-f9a2f70c640e",
   "metadata": {},
   "outputs": [
    {
     "data": {
      "text/html": [
       "<div>\n",
       "<style scoped>\n",
       "    .dataframe tbody tr th:only-of-type {\n",
       "        vertical-align: middle;\n",
       "    }\n",
       "\n",
       "    .dataframe tbody tr th {\n",
       "        vertical-align: top;\n",
       "    }\n",
       "\n",
       "    .dataframe thead th {\n",
       "        text-align: right;\n",
       "    }\n",
       "</style>\n",
       "<table border=\"1\" class=\"dataframe\">\n",
       "  <thead>\n",
       "    <tr style=\"text-align: right;\">\n",
       "      <th></th>\n",
       "      <th>Organization</th>\n",
       "      <th>Order #</th>\n",
       "      <th>Order Date</th>\n",
       "      <th>Salesman</th>\n",
       "      <th>Opportunity Type</th>\n",
       "      <th>Order Summary</th>\n",
       "      <th>Item Code</th>\n",
       "      <th>Term</th>\n",
       "      <th>Datacenter</th>\n",
       "      <th>payout</th>\n",
       "      <th>MRR</th>\n",
       "      <th>Service Type</th>\n",
       "    </tr>\n",
       "  </thead>\n",
       "  <tbody>\n",
       "    <tr>\n",
       "      <th>0</th>\n",
       "      <td>Able IT Pros</td>\n",
       "      <td>44915</td>\n",
       "      <td>2022-05-11</td>\n",
       "      <td>Carlie Matel</td>\n",
       "      <td>Change Order</td>\n",
       "      <td>Able IT Pros- Increase Storage - DFW3 - 5/11/22</td>\n",
       "      <td>Managed Services : Cloud : IaaS/PaaS-1GB RAM</td>\n",
       "      <td>23.0</td>\n",
       "      <td>DFW3</td>\n",
       "      <td>26.27</td>\n",
       "      <td>26.27</td>\n",
       "      <td>Managed Services</td>\n",
       "    </tr>\n",
       "    <tr>\n",
       "      <th>1</th>\n",
       "      <td>Able IT Pros</td>\n",
       "      <td>44915</td>\n",
       "      <td>2022-05-11</td>\n",
       "      <td>Carlie Matel</td>\n",
       "      <td>Change Order</td>\n",
       "      <td>Able IT Pros- Increase Storage - DFW3 - 5/11/22</td>\n",
       "      <td>Managed Services : Storage : Tier1 : Encrypted</td>\n",
       "      <td>23.0</td>\n",
       "      <td>DFW3</td>\n",
       "      <td>42.50</td>\n",
       "      <td>42.50</td>\n",
       "      <td>Managed Services</td>\n",
       "    </tr>\n",
       "    <tr>\n",
       "      <th>2</th>\n",
       "      <td>Agile Networks</td>\n",
       "      <td>45358</td>\n",
       "      <td>2022-05-31</td>\n",
       "      <td>Bernard Petfield</td>\n",
       "      <td>Change Order</td>\n",
       "      <td>Agile Networks / Cross Connect / IND1 /05272022</td>\n",
       "      <td>Cross Connect : SMF</td>\n",
       "      <td>36.0</td>\n",
       "      <td>IND1</td>\n",
       "      <td>200.00</td>\n",
       "      <td>200.00</td>\n",
       "      <td>Managed Services</td>\n",
       "    </tr>\n",
       "    <tr>\n",
       "      <th>3</th>\n",
       "      <td>Agile Networks</td>\n",
       "      <td>45358</td>\n",
       "      <td>2022-05-31</td>\n",
       "      <td>Bernard Petfield</td>\n",
       "      <td>Change Order</td>\n",
       "      <td>Agile Networks / Cross Connect / IND1 /05272022</td>\n",
       "      <td>3rd Party Cross Connect Other</td>\n",
       "      <td>36.0</td>\n",
       "      <td>IND1</td>\n",
       "      <td>250.00</td>\n",
       "      <td>250.00</td>\n",
       "      <td>Managed Services</td>\n",
       "    </tr>\n",
       "    <tr>\n",
       "      <th>4</th>\n",
       "      <td>All Information Services, Inc.</td>\n",
       "      <td>44809</td>\n",
       "      <td>2022-05-06</td>\n",
       "      <td>Jonathan Malcolm</td>\n",
       "      <td>Existing</td>\n",
       "      <td>All Information Services/Cross Connect/ORD4/05...</td>\n",
       "      <td>Cross Connect : SMF</td>\n",
       "      <td>12.0</td>\n",
       "      <td>ORD4</td>\n",
       "      <td>200.00</td>\n",
       "      <td>200.00</td>\n",
       "      <td>xConnect</td>\n",
       "    </tr>\n",
       "  </tbody>\n",
       "</table>\n",
       "</div>"
      ],
      "text/plain": [
       "                     Organization Order # Order Date          Salesman  \\\n",
       "0                    Able IT Pros   44915 2022-05-11      Carlie Matel   \n",
       "1                    Able IT Pros   44915 2022-05-11      Carlie Matel   \n",
       "2                  Agile Networks   45358 2022-05-31  Bernard Petfield   \n",
       "3                  Agile Networks   45358 2022-05-31  Bernard Petfield   \n",
       "4  All Information Services, Inc.   44809 2022-05-06  Jonathan Malcolm   \n",
       "\n",
       "  Opportunity Type                                      Order Summary  \\\n",
       "0     Change Order    Able IT Pros- Increase Storage - DFW3 - 5/11/22   \n",
       "1     Change Order    Able IT Pros- Increase Storage - DFW3 - 5/11/22   \n",
       "2     Change Order    Agile Networks / Cross Connect / IND1 /05272022   \n",
       "3     Change Order    Agile Networks / Cross Connect / IND1 /05272022   \n",
       "4         Existing  All Information Services/Cross Connect/ORD4/05...   \n",
       "\n",
       "                                        Item Code  Term Datacenter  payout  \\\n",
       "0    Managed Services : Cloud : IaaS/PaaS-1GB RAM  23.0       DFW3   26.27   \n",
       "1  Managed Services : Storage : Tier1 : Encrypted  23.0       DFW3   42.50   \n",
       "2                             Cross Connect : SMF  36.0       IND1  200.00   \n",
       "3                   3rd Party Cross Connect Other  36.0       IND1  250.00   \n",
       "4                             Cross Connect : SMF  12.0       ORD4  200.00   \n",
       "\n",
       "      MRR      Service Type  \n",
       "0   26.27  Managed Services  \n",
       "1   42.50  Managed Services  \n",
       "2  200.00  Managed Services  \n",
       "3  250.00  Managed Services  \n",
       "4  200.00          xConnect  "
      ]
     },
     "execution_count": 26,
     "metadata": {},
     "output_type": "execute_result"
    }
   ],
   "source": [
    "ep1.head()"
   ]
  },
  {
   "cell_type": "markdown",
   "id": "8fea979d-9c6b-4baf-8218-2a0c4053844c",
   "metadata": {
    "tags": []
   },
   "source": [
    "### AMW"
   ]
  },
  {
   "cell_type": "code",
   "execution_count": null,
   "id": "0f3074e1-4303-4e31-81ac-2091cfb3fe7d",
   "metadata": {},
   "outputs": [],
   "source": []
  },
  {
   "cell_type": "code",
   "execution_count": null,
   "id": "a992c943-9153-47ef-9505-007e2d99490b",
   "metadata": {},
   "outputs": [],
   "source": []
  },
  {
   "cell_type": "code",
   "execution_count": null,
   "id": "7bf7fe26-4dc9-4727-a9e0-91c15ac870e2",
   "metadata": {},
   "outputs": [],
   "source": []
  },
  {
   "cell_type": "code",
   "execution_count": null,
   "id": "9b43cf48-5f6c-4b26-84aa-579a8aad0c22",
   "metadata": {},
   "outputs": [],
   "source": []
  },
  {
   "cell_type": "code",
   "execution_count": null,
   "id": "dce5850c-874a-4f2f-9cf7-517e111a5b06",
   "metadata": {},
   "outputs": [],
   "source": []
  },
  {
   "cell_type": "code",
   "execution_count": null,
   "id": "9936ea65-e725-4482-8b8a-35445aa477d1",
   "metadata": {},
   "outputs": [],
   "source": []
  },
  {
   "cell_type": "markdown",
   "id": "46e63f3d-816b-476a-ba36-af2734c1437d",
   "metadata": {
    "tags": []
   },
   "source": [
    "#### Olidaine Hudson"
   ]
  },
  {
   "cell_type": "code",
   "execution_count": null,
   "id": "5e463bfb-bb51-45c8-92dc-3e7c7921621f",
   "metadata": {},
   "outputs": [],
   "source": [
    "odaine_hudson = ep1[ep1['Salesman'] == 'Odaine Hudson']"
   ]
  },
  {
   "cell_type": "code",
   "execution_count": null,
   "id": "a6d692d4-df68-4959-8414-6b37bf9615e6",
   "metadata": {},
   "outputs": [],
   "source": [
    "odaine_hudson.columns"
   ]
  },
  {
   "cell_type": "code",
   "execution_count": null,
   "id": "c967ef6d-c825-4a21-9716-feac29acb73a",
   "metadata": {},
   "outputs": [],
   "source": [
    "odaine_hudson.head(1)"
   ]
  },
  {
   "cell_type": "code",
   "execution_count": 22,
   "id": "5a781c3c-7558-4be2-bb6a-82ddfb88088a",
   "metadata": {},
   "outputs": [],
   "source": [
    "odaine_hudson.loc[odaine_hudson['Datacenter'].isin(['ATL2','ACT1','AUS1','CLE1','DEN1','DEN4','DFW1','DFW2','DFW6','DFW7','EWR2','IAD2','KC2','MEM1','MSP1','LHR1','ORD2','ORD3','PHX1','SEA2','SLC1','SLC2']), 'payout'] *= .75\n",
    "odaine_hudson.loc[odaine_hudson['Datacenter'].isin(['ATL1', 'ATL3', 'BOS1', 'BWI1', 'DEN2', 'DEN3', 'DFW3','DFW4', 'DFW5','EWR1','IAD1','IND1','IND2','LAS1','LAX1','LGA1','LGA2','MCI1','MCI2','MCI3','MIA1','MSP2','MSP3','MSP4','ORD1','ORD4','PHL1','PHX2','PHX3','PIT1','PIT2','SAN1','SAN2','SEA1','SFO1','SLC3','SLC4','SLC5','SNA1','SNA2','PAR1','PAR2','PAR3','MPL1','TLS1']), 'payout'] *= .5"
   ]
  },
  {
   "cell_type": "code",
   "execution_count": null,
   "id": "396474f3-c544-4fbc-a223-3ec3de40d2e0",
   "metadata": {},
   "outputs": [],
   "source": [
    "print(hudson)"
   ]
  },
  {
   "cell_type": "code",
   "execution_count": null,
   "id": "43876563-5d8f-4c6c-9a3a-ecb85374ad43",
   "metadata": {},
   "outputs": [],
   "source": [
    "odaine_hudson.loc[1111] = ['Comissions Payout:', hudson, '','','','','','','','',''.'']"
   ]
  },
  {
   "cell_type": "code",
   "execution_count": null,
   "id": "e3d30cdc-8656-467b-8df9-35dc08f8ddd6",
   "metadata": {},
   "outputs": [],
   "source": [
    "#odaine_hudson.to_excel('testing.xlsx')"
   ]
  },
  {
   "cell_type": "markdown",
   "id": "65ee630e-1848-4ed2-ba6e-c37e788ba416",
   "metadata": {},
   "source": [
    "##### End Olidane Hudson"
   ]
  },
  {
   "cell_type": "markdown",
   "id": "20c3d2c8-0815-48dc-9141-1df9cbd0e7ec",
   "metadata": {
    "tags": []
   },
   "source": [
    "#### Andrew Ramirez"
   ]
  },
  {
   "cell_type": "code",
   "execution_count": 7,
   "id": "dd89d78c-6938-4f75-97ec-42775afaf036",
   "metadata": {},
   "outputs": [],
   "source": [
    "andrew_ramirez= ep1[ep1['Salesman'] == 'Andrew Ramirez']"
   ]
  },
  {
   "cell_type": "code",
   "execution_count": 8,
   "id": "dca08d18-5101-4e6f-9580-80baac6d92ed",
   "metadata": {},
   "outputs": [
    {
     "data": {
      "text/plain": [
       "3029.68"
      ]
     },
     "execution_count": 8,
     "metadata": {},
     "output_type": "execute_result"
    }
   ],
   "source": [
    "(andrew_ramirez['payout'].sum())"
   ]
  },
  {
   "cell_type": "code",
   "execution_count": 9,
   "id": "9f9ca737-7748-4951-8db6-0f608506e284",
   "metadata": {},
   "outputs": [],
   "source": [
    "andrew_ramirez.loc[andrew_ramirez['Datacenter'].isin(['ATL2','ACT1','AUS1','CLE1','DEN1','DEN4','DFW1','DFW2','DFW6','DFW7','EWR2','IAD2','KC2','MEM1','MSP1','LHR1','ORD2','ORD3','PHX1','SEA2','SLC1','SLC2']), 'payout'] *= .75\n",
    "andrew_ramirez.loc[andrew_ramirez['Datacenter'].isin(['ATL1', 'ATL3', 'BOS1', 'BWI1', 'DEN2', 'DEN3', 'DFW3','DFW4', 'DFW5','EWR1','IAD1','IND1','IND2','LAS1','LAX1','LGA1','LGA2','MCI1','MCI2','MCI3','MIA1','MSP2','MSP3','MSP4','ORD1','ORD4','PHL1','PHX2','PHX3','PIT1','PIT2','SAN1','SAN2','SEA1','SFO1','SLC3','SLC4','SLC5','SNA1','SNA2','PAR1','PAR2','PAR3','MPL1','TLS1']), 'payout'] *= .5"
   ]
  },
  {
   "cell_type": "code",
   "execution_count": 1,
   "id": "744a2d22-6f77-462c-874e-bd667cbf4aea",
   "metadata": {},
   "outputs": [
    {
     "ename": "NameError",
     "evalue": "name 'andrew_ramirez' is not defined",
     "output_type": "error",
     "traceback": [
      "\u001b[1;31m---------------------------------------------------------------------------\u001b[0m",
      "\u001b[1;31mNameError\u001b[0m                                 Traceback (most recent call last)",
      "\u001b[1;32m~\\AppData\\Local\\Temp/ipykernel_9364/1858846786.py\u001b[0m in \u001b[0;36m<module>\u001b[1;34m\u001b[0m\n\u001b[1;32m----> 1\u001b[1;33m \u001b[0mandrew_ramirez\u001b[0m\u001b[1;33m.\u001b[0m\u001b[0mhead\u001b[0m\u001b[1;33m(\u001b[0m\u001b[1;36m1\u001b[0m\u001b[1;33m)\u001b[0m\u001b[1;33m\u001b[0m\u001b[1;33m\u001b[0m\u001b[0m\n\u001b[0m",
      "\u001b[1;31mNameError\u001b[0m: name 'andrew_ramirez' is not defined"
     ]
    }
   ],
   "source": [
    "andrew_ramirez.head(1)"
   ]
  },
  {
   "cell_type": "code",
   "execution_count": 11,
   "id": "bf6ee9f6-47b9-4256-845e-38669f7eccbe",
   "metadata": {},
   "outputs": [
    {
     "data": {
      "text/plain": [
       "2141.01"
      ]
     },
     "execution_count": 11,
     "metadata": {},
     "output_type": "execute_result"
    }
   ],
   "source": [
    "(andrew_ramirez['payout'].sum())"
   ]
  },
  {
   "cell_type": "code",
   "execution_count": null,
   "id": "3ce068cf-c2ff-4743-9c0c-e6943c2c719e",
   "metadata": {},
   "outputs": [],
   "source": []
  },
  {
   "cell_type": "code",
   "execution_count": null,
   "id": "e41cd9d3-f3fd-4514-9dca-19880890dd52",
   "metadata": {},
   "outputs": [],
   "source": [
    "andrew_ramirez.to_excel('yeeting.xlsx')"
   ]
  },
  {
   "cell_type": "code",
   "execution_count": null,
   "id": "1571bb92-39e5-4496-a912-19166339d2d5",
   "metadata": {},
   "outputs": [],
   "source": [
    "#ramirez = (andrew_ramirez['payout'].sum())"
   ]
  },
  {
   "cell_type": "code",
   "execution_count": null,
   "id": "8b4b89a3-e052-48d1-9316-8d864b4c7995",
   "metadata": {},
   "outputs": [],
   "source": [
    "#print(ramirez)"
   ]
  },
  {
   "cell_type": "code",
   "execution_count": null,
   "id": "808bfc80-fe4c-4069-88ba-097579745b05",
   "metadata": {},
   "outputs": [],
   "source": [
    "print(ramirez)"
   ]
  },
  {
   "cell_type": "code",
   "execution_count": null,
   "id": "d7f4e4ff-ab15-4c72-a7f1-7811974b360d",
   "metadata": {},
   "outputs": [],
   "source": [
    "### End "
   ]
  },
  {
   "cell_type": "code",
   "execution_count": null,
   "id": "644d8c28-5957-4dad-89a5-10e2e34ec0f6",
   "metadata": {},
   "outputs": [],
   "source": [
    "####MATELLLLLLL"
   ]
  },
  {
   "cell_type": "markdown",
   "id": "7e91f766-c124-4e85-b6e8-37768e682fef",
   "metadata": {
    "jp-MarkdownHeadingCollapsed": true,
    "tags": []
   },
   "source": [
    "#### Jonathan Malcolm"
   ]
  },
  {
   "cell_type": "code",
   "execution_count": 9,
   "id": "203888ea-8854-4fd5-a83d-1522e851606a",
   "metadata": {},
   "outputs": [],
   "source": [
    "jonathan_malcolm = ep1[ep1['Salesman'] == 'Jonathan Malcolm']"
   ]
  },
  {
   "cell_type": "code",
   "execution_count": 10,
   "id": "b31b09ae-df11-4869-8a32-607045b4aba9",
   "metadata": {},
   "outputs": [
    {
     "data": {
      "text/plain": [
       "1491.32"
      ]
     },
     "execution_count": 10,
     "metadata": {},
     "output_type": "execute_result"
    }
   ],
   "source": [
    "(jonathan_malcolm['payout'].sum())"
   ]
  },
  {
   "cell_type": "code",
   "execution_count": 22,
   "id": "409192a3-2fb7-46cc-b1b2-03825f230006",
   "metadata": {},
   "outputs": [],
   "source": [
    "jonathan_malcolm.loc[jonathan_malcolm['Datacenter'].isin(['ATL2','ACT1','AUS1','CLE1','DEN1','DEN4','DFW1','DFW2','DFW6','DFW7','EWR2','IAD2','KC2','MEM1','MSP1','LHR1','ORD2','ORD3','PHX1','SEA2','SLC1','SLC2']), 'payout'] *= .75\n",
    "jonathan_malcolm.loc[jonathan_malcolm['Datacenter'].isin(['ATL1', 'ATL3', 'BOS1', 'BWI1', 'DEN2', 'DEN3', 'DFW3','DFW4', 'DFW5','EWR1','IAD1','IND1','IND2','LAS1','LAX1','LGA1','LGA2','MCI1','MCI2','MCI3','MIA1','MSP2','MSP3','MSP4','ORD1','ORD4','PHL1','PHX2','PHX3','PIT1','PIT2','SAN1','SAN2','SEA1','SFO1','SLC3','SLC4','SLC5','SNA1','SNA2','PAR1','PAR2','PAR3','MPL1','TLS1']), 'payout'] *= .5"
   ]
  },
  {
   "cell_type": "code",
   "execution_count": 14,
   "id": "3bbfe220-e76b-4416-8982-c79e812ed583",
   "metadata": {},
   "outputs": [],
   "source": [
    "malcolm_payout = (jonathan_malcolm['payout'].sum())"
   ]
  },
  {
   "cell_type": "code",
   "execution_count": 15,
   "id": "adc62d4f-c3ff-4097-84c5-9b856e309dce",
   "metadata": {},
   "outputs": [],
   "source": [
    "jonathan_malcolm.loc[111111] = ['Payout:', malcolm_payout , '' , '' , '' , '' , '' , '' , '' , '' , '' , '']"
   ]
  },
  {
   "cell_type": "code",
   "execution_count": 16,
   "id": "c7627a1f-3f61-4553-aaa8-453e971578c4",
   "metadata": {},
   "outputs": [],
   "source": [
    "#jonathan_malcolm.to_excel('malc.xlsx', index=False)"
   ]
  },
  {
   "cell_type": "markdown",
   "id": "2a29ab45-639b-4120-a02b-625922a02350",
   "metadata": {},
   "source": [
    "##### End Jonathan Malcolm"
   ]
  },
  {
   "cell_type": "markdown",
   "id": "d8d7f559-8f05-4b4e-ae76-f481c7713fa3",
   "metadata": {
    "jp-MarkdownHeadingCollapsed": true,
    "tags": []
   },
   "source": [
    "#### Mike Miceli"
   ]
  },
  {
   "cell_type": "code",
   "execution_count": 19,
   "id": "ce27487b-4e1a-4c56-8044-0fe2ee7d88bc",
   "metadata": {},
   "outputs": [],
   "source": [
    "mike_miceli = ep1[ep1['Salesman'] == 'Mike Miceli']"
   ]
  },
  {
   "cell_type": "code",
   "execution_count": 21,
   "id": "983a4493-ceab-4c39-afe4-b663f874d36d",
   "metadata": {},
   "outputs": [
    {
     "data": {
      "text/plain": [
       "922.9"
      ]
     },
     "execution_count": 21,
     "metadata": {},
     "output_type": "execute_result"
    }
   ],
   "source": [
    "(mike_miceli['payout'].sum())"
   ]
  },
  {
   "cell_type": "code",
   "execution_count": 23,
   "id": "3287fcac-63e1-4873-a93d-01ab62b7e8fa",
   "metadata": {},
   "outputs": [],
   "source": [
    "mike_miceli.loc[mike_miceli['Datacenter'].isin(['ATL2','ACT1','AUS1','CLE1','DEN1','DEN4','DFW1','DFW2','DFW6','DFW7','EWR2','IAD2','KC2','MEM1','MSP1','LHR1','ORD2','ORD3','PHX1','SEA2','SLC1','SLC2']), 'payout'] *= .75\n",
    "mike_miceli.loc[mike_miceli['Datacenter'].isin(['ATL1', 'ATL3', 'BOS1', 'BWI1', 'DEN2', 'DEN3', 'DFW3','DFW4', 'DFW5','EWR1','IAD1','IND1','IND2','LAS1','LAX1','LGA1','LGA2','MCI1','MCI2','MCI3','MIA1','MSP2','MSP3','MSP4','ORD1','ORD4','PHL1','PHX2','PHX3','PIT1','PIT2','SAN1','SAN2','SEA1','SFO1','SLC3','SLC4','SLC5','SNA1','SNA2','PAR1','PAR2','PAR3','MPL1','TLS1']), 'payout'] *= .5"
   ]
  },
  {
   "cell_type": "code",
   "execution_count": null,
   "id": "6ec9b31f-3e6c-4dbc-873b-dbc972aa7605",
   "metadata": {},
   "outputs": [],
   "source": [
    "miceli_payout = (mike_miceli['payout'].sum())"
   ]
  },
  {
   "cell_type": "code",
   "execution_count": null,
   "id": "2c8939bf-dfce-4238-9472-1357dc67e7f2",
   "metadata": {},
   "outputs": [],
   "source": [
    "mike_miceli.loc[111111] = ['Payout:', miceli_payout , '' , '' , '' , '' , '' , '' , '' , '' , '' , '']"
   ]
  },
  {
   "cell_type": "code",
   "execution_count": null,
   "id": "5e8a9ba1-44a0-430f-a9bd-2d906887b0ba",
   "metadata": {},
   "outputs": [],
   "source": [
    "#mike_miceli.to_excel('malc.xlsx', index=False)"
   ]
  },
  {
   "cell_type": "markdown",
   "id": "0ca16a39-45a9-46e7-bddf-4361efafd2c9",
   "metadata": {},
   "source": [
    "##### End Mike Miceli"
   ]
  },
  {
   "cell_type": "markdown",
   "id": "e58caed8-f8a8-46f4-99b9-2817e93588be",
   "metadata": {
    "tags": []
   },
   "source": [
    "#### Tiffany Dunson"
   ]
  },
  {
   "cell_type": "code",
   "execution_count": 24,
   "id": "2c9031c8-3b5d-4297-9ae9-b30c75a65c1c",
   "metadata": {},
   "outputs": [],
   "source": [
    "tiffany_dunson = ep1[ep1['Salesman'] == 'Tiffany Dunson']"
   ]
  },
  {
   "cell_type": "code",
   "execution_count": 25,
   "id": "a0fd5941-ea92-49f6-9731-80c0f3436dbb",
   "metadata": {},
   "outputs": [
    {
     "data": {
      "text/plain": [
       "3875.0"
      ]
     },
     "execution_count": 25,
     "metadata": {},
     "output_type": "execute_result"
    }
   ],
   "source": [
    "(tiffany_dunson['payout'].sum())"
   ]
  },
  {
   "cell_type": "code",
   "execution_count": 26,
   "id": "32054b6d-e453-4ff3-b88a-7064381d2f01",
   "metadata": {},
   "outputs": [],
   "source": [
    "tiffany_dunson.loc[tiffany_dunson['Datacenter'].isin(['ATL2','ACT1','AUS1','CLE1','DEN1','DEN4','DFW1','DFW2','DFW6','DFW7','EWR2','IAD2','KC2','MEM1','MSP1','LHR1','ORD2','ORD3','PHX1','SEA2','SLC1','SLC2']), 'payout'] *= .75\n",
    "tiffany_dunson.loc[tiffany_dunson['Datacenter'].isin(['ATL1', 'ATL3', 'BOS1', 'BWI1', 'DEN2', 'DEN3', 'DFW3','DFW4', 'DFW5','EWR1','IAD1','IND1','IND2','LAS1','LAX1','LGA1','LGA2','MCI1','MCI2','MCI3','MIA1','MSP2','MSP3','MSP4','ORD1','ORD4','PHL1','PHX2','PHX3','PIT1','PIT2','SAN1','SAN2','SEA1','SFO1','SLC3','SLC4','SLC5','SNA1','SNA2','PAR1','PAR2','PAR3','MPL1','TLS1']), 'payout'] *= .5"
   ]
  },
  {
   "cell_type": "code",
   "execution_count": 27,
   "id": "9275c95e-830f-4de3-b1a0-9af905d7f008",
   "metadata": {},
   "outputs": [],
   "source": [
    "dunson_payout = (tiffany_dunson['payout'].sum())"
   ]
  },
  {
   "cell_type": "code",
   "execution_count": 28,
   "id": "e5df9156-3549-499e-b00b-b9baa267c864",
   "metadata": {},
   "outputs": [],
   "source": [
    "tiffany_dunson.loc[111111] = ['Payout:', dunson_payout , '' , '' , '' , '' , '' , '' , '' , '' , '' , '']"
   ]
  },
  {
   "cell_type": "code",
   "execution_count": null,
   "id": "1913f963-1b52-4fed-8d53-db97eac4905e",
   "metadata": {},
   "outputs": [],
   "source": [
    "#tiffany_dunson.to_excel('malc.xlsx', index=False)"
   ]
  },
  {
   "cell_type": "markdown",
   "id": "2a426201-dde8-4370-822b-3f99a0a1e875",
   "metadata": {},
   "source": [
    "##### End Tiffany Dunson"
   ]
  },
  {
   "cell_type": "markdown",
   "id": "36907c75-e747-400a-a981-8eea01063742",
   "metadata": {
    "jp-MarkdownHeadingCollapsed": true,
    "tags": []
   },
   "source": [
    "#### Pecooralo"
   ]
  },
  {
   "cell_type": "markdown",
   "id": "29ec820c-cff4-4be4-92f7-89806f9a47d1",
   "metadata": {
    "tags": []
   },
   "source": [
    "### Patrick Chapa"
   ]
  },
  {
   "cell_type": "code",
   "execution_count": 11,
   "id": "69bc6d17-244f-44d6-a423-bfcf0d464265",
   "metadata": {},
   "outputs": [],
   "source": [
    "patrick_chapa = ep1[ep1['Salesman'] == 'Patrick Chapa']"
   ]
  },
  {
   "cell_type": "code",
   "execution_count": 12,
   "id": "43bafb2b-73bf-4872-b7e3-ba84340b4b22",
   "metadata": {},
   "outputs": [
    {
     "data": {
      "text/html": [
       "<div>\n",
       "<style scoped>\n",
       "    .dataframe tbody tr th:only-of-type {\n",
       "        vertical-align: middle;\n",
       "    }\n",
       "\n",
       "    .dataframe tbody tr th {\n",
       "        vertical-align: top;\n",
       "    }\n",
       "\n",
       "    .dataframe thead th {\n",
       "        text-align: right;\n",
       "    }\n",
       "</style>\n",
       "<table border=\"1\" class=\"dataframe\">\n",
       "  <thead>\n",
       "    <tr style=\"text-align: right;\">\n",
       "      <th></th>\n",
       "      <th>Organization</th>\n",
       "      <th>Order #</th>\n",
       "      <th>Order Date</th>\n",
       "      <th>Salesman</th>\n",
       "      <th>Opportunity Type</th>\n",
       "      <th>Order Summary</th>\n",
       "      <th>Item Code</th>\n",
       "      <th>Item Name</th>\n",
       "      <th>Datacenter</th>\n",
       "      <th>payout</th>\n",
       "      <th>MRR</th>\n",
       "      <th>Service Type</th>\n",
       "    </tr>\n",
       "  </thead>\n",
       "  <tbody>\n",
       "    <tr>\n",
       "      <th>204</th>\n",
       "      <td>Comcast</td>\n",
       "      <td>45269</td>\n",
       "      <td>2022-05-26</td>\n",
       "      <td>Patrick Chapa</td>\n",
       "      <td>Existing</td>\n",
       "      <td>Online Order: Riser: EWR1: 05/26/2022: Mursal ...</td>\n",
       "      <td>Cross Connect : SMF</td>\n",
       "      <td>Cross Connect - Fiber - Single Mode (SMF)</td>\n",
       "      <td>EWR1</td>\n",
       "      <td>300.0</td>\n",
       "      <td>300.0</td>\n",
       "      <td>xConnect</td>\n",
       "    </tr>\n",
       "  </tbody>\n",
       "</table>\n",
       "</div>"
      ],
      "text/plain": [
       "    Organization Order # Order Date       Salesman Opportunity Type  \\\n",
       "204      Comcast   45269 2022-05-26  Patrick Chapa         Existing   \n",
       "\n",
       "                                         Order Summary            Item Code  \\\n",
       "204  Online Order: Riser: EWR1: 05/26/2022: Mursal ...  Cross Connect : SMF   \n",
       "\n",
       "                                     Item Name Datacenter  payout    MRR  \\\n",
       "204  Cross Connect - Fiber - Single Mode (SMF)       EWR1   300.0  300.0   \n",
       "\n",
       "    Service Type  \n",
       "204     xConnect  "
      ]
     },
     "execution_count": 12,
     "metadata": {},
     "output_type": "execute_result"
    }
   ],
   "source": [
    "patrick_chapa.head()"
   ]
  },
  {
   "cell_type": "code",
   "execution_count": 18,
   "id": "46cbf120-a45c-4f52-b3b5-771718737622",
   "metadata": {},
   "outputs": [],
   "source": [
    "if patrick_chapa['payout'].sum() < 400:\n",
    "    patrick_chapa['payout'] = 0\n",
    "else: \n",
    "    pass"
   ]
  },
  {
   "cell_type": "code",
   "execution_count": 41,
   "id": "8c54b4cf-3277-4307-acaf-0c59c3dc4614",
   "metadata": {},
   "outputs": [
    {
     "ename": "ValueError",
     "evalue": "The truth value of a Series is ambiguous. Use a.empty, a.bool(), a.item(), a.any() or a.all().",
     "output_type": "error",
     "traceback": [
      "\u001b[1;31m---------------------------------------------------------------------------\u001b[0m",
      "\u001b[1;31mValueError\u001b[0m                                Traceback (most recent call last)",
      "\u001b[1;32m~\\AppData\\Local\\Temp/ipykernel_9280/3129024412.py\u001b[0m in \u001b[0;36m<module>\u001b[1;34m\u001b[0m\n\u001b[1;32m----> 1\u001b[1;33m \u001b[1;32mif\u001b[0m \u001b[0mpatrick_chapa\u001b[0m\u001b[1;33m[\u001b[0m\u001b[1;34m'Service Type'\u001b[0m\u001b[1;33m]\u001b[0m \u001b[1;33m==\u001b[0m \u001b[1;34m'Managed Services'\u001b[0m \u001b[1;32mand\u001b[0m \u001b[0mpatrick_chapa\u001b[0m\u001b[1;33m[\u001b[0m\u001b[1;34m'Term'\u001b[0m\u001b[1;33m]\u001b[0m \u001b[1;33m==\u001b[0m \u001b[1;36m12\u001b[0m\u001b[1;33m:\u001b[0m\u001b[1;33m\u001b[0m\u001b[1;33m\u001b[0m\u001b[0m\n\u001b[0m\u001b[0;32m      2\u001b[0m     \u001b[0mprint\u001b[0m\u001b[1;33m(\u001b[0m\u001b[1;34m\"yeet\"\u001b[0m\u001b[1;33m)\u001b[0m\u001b[1;33m\u001b[0m\u001b[1;33m\u001b[0m\u001b[0m\n\u001b[0;32m      3\u001b[0m \u001b[1;32melse\u001b[0m\u001b[1;33m:\u001b[0m\u001b[1;33m\u001b[0m\u001b[1;33m\u001b[0m\u001b[0m\n\u001b[0;32m      4\u001b[0m     \u001b[1;32mpass\u001b[0m\u001b[1;33m\u001b[0m\u001b[1;33m\u001b[0m\u001b[0m\n",
      "\u001b[1;32m~\\Anaconda3\\lib\\site-packages\\pandas\\core\\generic.py\u001b[0m in \u001b[0;36m__nonzero__\u001b[1;34m(self)\u001b[0m\n\u001b[0;32m   1535\u001b[0m     \u001b[1;33m@\u001b[0m\u001b[0mfinal\u001b[0m\u001b[1;33m\u001b[0m\u001b[1;33m\u001b[0m\u001b[0m\n\u001b[0;32m   1536\u001b[0m     \u001b[1;32mdef\u001b[0m \u001b[0m__nonzero__\u001b[0m\u001b[1;33m(\u001b[0m\u001b[0mself\u001b[0m\u001b[1;33m)\u001b[0m\u001b[1;33m:\u001b[0m\u001b[1;33m\u001b[0m\u001b[1;33m\u001b[0m\u001b[0m\n\u001b[1;32m-> 1537\u001b[1;33m         raise ValueError(\n\u001b[0m\u001b[0;32m   1538\u001b[0m             \u001b[1;34mf\"The truth value of a {type(self).__name__} is ambiguous. \"\u001b[0m\u001b[1;33m\u001b[0m\u001b[1;33m\u001b[0m\u001b[0m\n\u001b[0;32m   1539\u001b[0m             \u001b[1;34m\"Use a.empty, a.bool(), a.item(), a.any() or a.all().\"\u001b[0m\u001b[1;33m\u001b[0m\u001b[1;33m\u001b[0m\u001b[0m\n",
      "\u001b[1;31mValueError\u001b[0m: The truth value of a Series is ambiguous. Use a.empty, a.bool(), a.item(), a.any() or a.all()."
     ]
    }
   ],
   "source": [
    "if patrick_chapa['Service Type'] == 'Managed Services' and patrick_chapa['Term'] == 12:\n",
    "    print(\"yeet\")\n",
    "else:\n",
    "    pass"
   ]
  },
  {
   "cell_type": "code",
   "execution_count": 39,
   "id": "e6092f6f-35f2-4d34-90bf-06363fb16e0e",
   "metadata": {},
   "outputs": [
    {
     "ename": "SyntaxError",
     "evalue": "invalid syntax (Temp/ipykernel_9280/3806780118.py, line 1)",
     "output_type": "error",
     "traceback": [
      "\u001b[1;36m  File \u001b[1;32m\"C:\\Users\\mcalvert\\AppData\\Local\\Temp/ipykernel_9280/3806780118.py\"\u001b[1;36m, line \u001b[1;32m1\u001b[0m\n\u001b[1;33m    patrick_chapa.loc[(patrick_chapa['Service Type'] == 'Managed Services') & (patrick_chapa['Term'] == 12), ['payout'] *= 1000\u001b[0m\n\u001b[1;37m                                                                                                                        ^\u001b[0m\n\u001b[1;31mSyntaxError\u001b[0m\u001b[1;31m:\u001b[0m invalid syntax\n"
     ]
    }
   ],
   "source": [
    "patrick_chapa.loc[(patrick_chapa['Service Type'] == 'Managed Services') & (patrick_chapa['Term'] == 12), ['payout'] *= 1000\n",
    "                  "
   ]
  },
  {
   "cell_type": "code",
   "execution_count": null,
   "id": "d4f550d6-5356-41a1-b901-d516e1abe628",
   "metadata": {},
   "outputs": [],
   "source": []
  }
 ],
 "metadata": {
  "kernelspec": {
   "display_name": "Python 3 (ipykernel)",
   "language": "python",
   "name": "python3"
  },
  "language_info": {
   "codemirror_mode": {
    "name": "ipython",
    "version": 3
   },
   "file_extension": ".py",
   "mimetype": "text/x-python",
   "name": "python",
   "nbconvert_exporter": "python",
   "pygments_lexer": "ipython3",
   "version": "3.9.7"
  }
 },
 "nbformat": 4,
 "nbformat_minor": 5
}
