{
 "cells": [
  {
   "cell_type": "markdown",
   "id": "ae0a89d6-3f3c-4f54-a5d3-ace709a23906",
   "metadata": {
    "tags": []
   },
   "source": [
    "## Sales Engineers"
   ]
  },
  {
   "cell_type": "markdown",
   "id": "91f6712b-6fcf-4fea-b6d8-8016a754b97a",
   "metadata": {
    "tags": []
   },
   "source": [
    "### All imports will be used / are needed"
   ]
  },
  {
   "cell_type": "code",
   "execution_count": 2,
   "id": "973ac0b7-ede6-4f38-b7da-9dcb3acb7cf0",
   "metadata": {},
   "outputs": [],
   "source": [
    "import openpyxl as py\n",
    "from openpyxl import *\n",
    "import pandas as pd\n",
    "from pandas import *\n",
    "import numpy as np\n",
    "import ast as ast\n",
    "import pdfkit\n",
    "pd.options.mode.chained_assignment = None\n",
    "import os.path\n"
   ]
  },
  {
   "cell_type": "markdown",
   "id": "ef97f531-5bf0-43c6-9823-e061ac94007f",
   "metadata": {
    "tags": []
   },
   "source": [
    "### Closed Won With SE"
   ]
  },
  {
   "cell_type": "code",
   "execution_count": 5,
   "id": "e4f173fb-e657-4552-97cb-96db632e7a28",
   "metadata": {},
   "outputs": [
    {
     "ename": "NameError",
     "evalue": "name 'excel_sheets' is not defined",
     "output_type": "error",
     "traceback": [
      "\u001b[1;31m---------------------------------------------------------------------------\u001b[0m",
      "\u001b[1;31mNameError\u001b[0m                                 Traceback (most recent call last)",
      "\u001b[1;32m~\\AppData\\Local\\Temp/ipykernel_8264/2244936834.py\u001b[0m in \u001b[0;36m<module>\u001b[1;34m\u001b[0m\n\u001b[1;32m----> 1\u001b[1;33m \u001b[0mse\u001b[0m \u001b[1;33m=\u001b[0m \u001b[0mpd\u001b[0m\u001b[1;33m.\u001b[0m\u001b[0mread_excel\u001b[0m\u001b[1;33m(\u001b[0m\u001b[0mexcel_sheets\u001b[0m\u001b[1;33m/\u001b[0m\u001b[1;34m'SE Booking July 2022.xlsx'\u001b[0m\u001b[1;33m)\u001b[0m\u001b[1;33m\u001b[0m\u001b[1;33m\u001b[0m\u001b[0m\n\u001b[0m",
      "\u001b[1;31mNameError\u001b[0m: name 'excel_sheets' is not defined"
     ]
    }
   ],
   "source": [
    "se = pd.read_excel('SE Booking July 2022.xlsx')"
   ]
  },
  {
   "cell_type": "code",
   "execution_count": 3,
   "id": "3c0fa8a8-e3f1-4fe2-8eaa-714041112494",
   "metadata": {},
   "outputs": [
    {
     "data": {
      "text/html": [
       "<div>\n",
       "<style scoped>\n",
       "    .dataframe tbody tr th:only-of-type {\n",
       "        vertical-align: middle;\n",
       "    }\n",
       "\n",
       "    .dataframe tbody tr th {\n",
       "        vertical-align: top;\n",
       "    }\n",
       "\n",
       "    .dataframe thead th {\n",
       "        text-align: right;\n",
       "    }\n",
       "</style>\n",
       "<table border=\"1\" class=\"dataframe\">\n",
       "  <thead>\n",
       "    <tr style=\"text-align: right;\">\n",
       "      <th></th>\n",
       "      <th>SE Assigned</th>\n",
       "      <th>Account Name</th>\n",
       "      <th>Opportunity Name</th>\n",
       "      <th>Net Amount</th>\n",
       "      <th>Close Date</th>\n",
       "      <th>Quote Number</th>\n",
       "      <th>Order Number</th>\n",
       "      <th>Data Centers</th>\n",
       "      <th>Type</th>\n",
       "      <th>Partner</th>\n",
       "      <th>Master Agent</th>\n",
       "      <th>Stage</th>\n",
       "      <th>Opportunity Owner</th>\n",
       "      <th>Secondary SE</th>\n",
       "      <th>SE Split Percentage</th>\n",
       "      <th>SE Split Notes</th>\n",
       "      <th>yes</th>\n",
       "    </tr>\n",
       "  </thead>\n",
       "  <tbody>\n",
       "    <tr>\n",
       "      <th>0</th>\n",
       "      <td>Anthony McCloud</td>\n",
       "      <td>EZ Links Golf, Inc.</td>\n",
       "      <td>EZLinks/New Cab and Power/ORD4/07052022</td>\n",
       "      <td>2060.0</td>\n",
       "      <td>2022-07-18 00:00:00</td>\n",
       "      <td>63442</td>\n",
       "      <td>63442</td>\n",
       "      <td>ORD4</td>\n",
       "      <td>Existing</td>\n",
       "      <td>NaN</td>\n",
       "      <td>NaN</td>\n",
       "      <td>Closed Won</td>\n",
       "      <td>Jonathan Malcolm</td>\n",
       "      <td>NaN</td>\n",
       "      <td>NaN</td>\n",
       "      <td>NaN</td>\n",
       "      <td>yes</td>\n",
       "    </tr>\n",
       "  </tbody>\n",
       "</table>\n",
       "</div>"
      ],
      "text/plain": [
       "       SE Assigned         Account Name  \\\n",
       "0  Anthony McCloud  EZ Links Golf, Inc.   \n",
       "\n",
       "                          Opportunity Name  Net Amount           Close Date  \\\n",
       "0  EZLinks/New Cab and Power/ORD4/07052022      2060.0  2022-07-18 00:00:00   \n",
       "\n",
       "  Quote Number Order Number Data Centers      Type Partner Master Agent  \\\n",
       "0        63442        63442         ORD4  Existing     NaN          NaN   \n",
       "\n",
       "        Stage Opportunity Owner Secondary SE  SE Split Percentage  \\\n",
       "0  Closed Won  Jonathan Malcolm          NaN                  NaN   \n",
       "\n",
       "  SE Split Notes  yes  \n",
       "0            NaN  yes  "
      ]
     },
     "execution_count": 3,
     "metadata": {},
     "output_type": "execute_result"
    }
   ],
   "source": [
    "se.head(1)"
   ]
  },
  {
   "cell_type": "code",
   "execution_count": 4,
   "id": "52d803d0-75fb-424b-b78a-4e27dcc4bbbb",
   "metadata": {},
   "outputs": [
    {
     "data": {
      "text/plain": [
       "Index(['SE Assigned', 'Account Name', 'Opportunity Name', 'Net Amount',\n",
       "       'Close Date', 'Quote Number', 'Order Number', 'Data Centers', 'Type',\n",
       "       'Partner', 'Master Agent', 'Stage', 'Opportunity Owner', 'Secondary SE',\n",
       "       'SE Split Percentage', 'SE Split Notes', 'yes'],\n",
       "      dtype='object')"
      ]
     },
     "execution_count": 4,
     "metadata": {},
     "output_type": "execute_result"
    }
   ],
   "source": [
    "se.columns"
   ]
  },
  {
   "cell_type": "code",
   "execution_count": 5,
   "id": "0835d644-8c54-48a4-a0c4-c6f224fc673e",
   "metadata": {},
   "outputs": [
    {
     "name": "stdout",
     "output_type": "stream",
     "text": [
      "Anthony McCloud\n",
      "Subtotal\n",
      "nan\n",
      "Brendon Yoder\n",
      "Christopher Chandler\n",
      "Daniel Bartholomew\n",
      "Eric Wooster\n",
      "Grady Vogt\n",
      "Gregory Manning\n",
      "Greg Ryman\n",
      "John Davis\n",
      "Marshall Sapp\n",
      "Michael Alvaro\n",
      "Perry Allen\n",
      "William Brucker\n",
      "Total\n"
     ]
    }
   ],
   "source": [
    "for names in se['SE Assigned'].drop_duplicates():\n",
    "    print(names)"
   ]
  },
  {
   "cell_type": "code",
   "execution_count": 6,
   "id": "1593f00c-11bf-42a2-bd29-daba06a867c3",
   "metadata": {},
   "outputs": [],
   "source": [
    "anthony_mccloud = se[se['SE Assigned'] == 'Anthony McCloud']\n",
    "brendon_yoder = se[se['SE Assigned'] == 'Brendon Yoder']\n",
    "christopher_chandler = se[se['SE Assigned'] == 'Christopher Chandler']\n",
    "daniel_bartholomew = se[se['SE Assigned'] == 'Daniel Bartholomew']\n",
    "eric_wooster = se[se['SE Assigned'] == 'Eric Wooster']\n",
    "grady_vogt = se[se['SE Assigned'] == 'Grady Vogt']\n",
    "greg_ryman = se[se['SE Assigned'] == 'Greg Ryman']\n",
    "greg_shamieh = se[se['SE Assigned'] == 'Greg Shamieh']\n",
    "marshall_sapp = se[se['SE Assigned'] == 'Marshall Sapp']\n",
    "michael_alvaro = se[se['SE Assigned'] == 'Michael Alvaro']\n",
    "perry_allen = se[se['SE Assigned'] == 'Perry Allen']\n",
    "william_brucker = se[se['SE Assigned'] == 'William Brucker']\n",
    "greg_manning = se[se['SE Assigned'] == 'Gregory Manning']\n",
    "john_davis = se[se['SE Assigned'] == 'John Davis']\n",
    "robert_zimmerman = se[se['SE Assigned'] == 'Robert Zimmerman']\n",
    "eric_carter = se[se['SE Assigned'] == 'Eric Carter']\n",
    "#East \n",
    "east = greg_shamieh['Net Amount'].sum() + brendon_yoder['Net Amount'].sum() + eric_wooster['Net Amount'].sum() + greg_manning['Net Amount'].sum() + john_davis['Net Amount'].sum() + marshall_sapp['Net Amount'].sum()+ michael_alvaro['Net Amount'].sum()\n",
    "#eastf = (east/177500)*667"
   ]
  },
  {
   "cell_type": "code",
   "execution_count": 7,
   "id": "94301369-cf6a-4fd1-ab04-d48ed7d074ec",
   "metadata": {},
   "outputs": [
    {
     "name": "stdout",
     "output_type": "stream",
     "text": [
      "193909.63\n"
     ]
    }
   ],
   "source": [
    "print(east)"
   ]
  },
  {
   "cell_type": "code",
   "execution_count": 8,
   "id": "abdf440a-3a89-4c8c-8352-d86062b087e5",
   "metadata": {},
   "outputs": [],
   "source": [
    "#West\n",
    "west = anthony_mccloud['Net Amount'].sum() + christopher_chandler['Net Amount'].sum() + daniel_bartholomew['Net Amount'].sum() + grady_vogt['Net Amount'].sum() + greg_ryman['Net Amount'].sum() + perry_allen['Net Amount'].sum() + william_brucker['Net Amount'].sum()\n",
    "westf = west/170000"
   ]
  },
  {
   "cell_type": "code",
   "execution_count": 9,
   "id": "9bcb5432-57c9-43fd-9188-fc3f9b6d14fc",
   "metadata": {},
   "outputs": [
    {
     "name": "stdout",
     "output_type": "stream",
     "text": [
      "0.8907459411764705\n"
     ]
    }
   ],
   "source": [
    "print(westf)"
   ]
  },
  {
   "cell_type": "code",
   "execution_count": 10,
   "id": "9aa0d06c-b9c5-4755-ab4b-d2b7fbde3e97",
   "metadata": {},
   "outputs": [],
   "source": [
    "eastf = (east/177500)"
   ]
  },
  {
   "cell_type": "code",
   "execution_count": 11,
   "id": "6bd1fe06-aac1-4c0c-97f5-b778fb1bab5c",
   "metadata": {},
   "outputs": [
    {
     "name": "stdout",
     "output_type": "stream",
     "text": [
      "1.0924486197183099\n"
     ]
    }
   ],
   "source": [
    "print(eastf)"
   ]
  },
  {
   "cell_type": "markdown",
   "id": "67f1a718-07db-46d7-89b2-b63a79563d19",
   "metadata": {
    "tags": []
   },
   "source": [
    "## Robert Zimmerman - East"
   ]
  },
  {
   "cell_type": "code",
   "execution_count": 12,
   "id": "a50c5728-1dd8-463f-8a93-eda088d9aa71",
   "metadata": {},
   "outputs": [],
   "source": [
    "robert_zimmerman_1  = (east/177500)*3333"
   ]
  },
  {
   "cell_type": "code",
   "execution_count": 13,
   "id": "07602144-4287-40c2-9c27-8f9fdab555c5",
   "metadata": {},
   "outputs": [],
   "source": [
    "zimmerman = pd.DataFrame(columns=['Name:', 'Payout:', 'East Quota %:' , 'Formula Used:'])"
   ]
  },
  {
   "cell_type": "code",
   "execution_count": 14,
   "id": "b1caa34c-ef0e-4ce1-ab47-26eb420da782",
   "metadata": {},
   "outputs": [],
   "source": [
    "zimmerman.loc[1111] = ['Robert Zimmerman', robert_zimmerman_1, eastf , '(east/177500)*3333' ]"
   ]
  },
  {
   "cell_type": "code",
   "execution_count": 15,
   "id": "2848e782-59bb-46f2-a1c7-364b8e2fdc71",
   "metadata": {},
   "outputs": [
    {
     "name": "stdout",
     "output_type": "stream",
     "text": [
      "                 Name:     Payout:  East Quota %:       Formula Used:\n",
      "1111  Robert Zimmerman  3641.13125       1.092449  (east/177500)*3333\n"
     ]
    }
   ],
   "source": [
    "print(zimmerman)"
   ]
  },
  {
   "cell_type": "code",
   "execution_count": 16,
   "id": "80f1b552-8c0e-406a-918e-2ce9fc7010e5",
   "metadata": {},
   "outputs": [],
   "source": [
    "zimmerman.to_excel(os.path.join('SE','zimmerman_july_2022.xlsx'), index=False)"
   ]
  },
  {
   "cell_type": "markdown",
   "id": "3eb307c4-42ff-4e12-a1da-cbb6edaf439d",
   "metadata": {
    "tags": []
   },
   "source": [
    "### End Zimmerman"
   ]
  },
  {
   "cell_type": "markdown",
   "id": "74c3efe0-3872-4261-8c0b-741dc3af21a2",
   "metadata": {
    "tags": []
   },
   "source": [
    "### Brendon Yoder - East"
   ]
  },
  {
   "cell_type": "code",
   "execution_count": 17,
   "id": "57f63d4a-e410-4932-903e-6297030d81db",
   "metadata": {},
   "outputs": [
    {
     "data": {
      "text/html": [
       "<div>\n",
       "<style scoped>\n",
       "    .dataframe tbody tr th:only-of-type {\n",
       "        vertical-align: middle;\n",
       "    }\n",
       "\n",
       "    .dataframe tbody tr th {\n",
       "        vertical-align: top;\n",
       "    }\n",
       "\n",
       "    .dataframe thead th {\n",
       "        text-align: right;\n",
       "    }\n",
       "</style>\n",
       "<table border=\"1\" class=\"dataframe\">\n",
       "  <thead>\n",
       "    <tr style=\"text-align: right;\">\n",
       "      <th></th>\n",
       "      <th>SE Assigned</th>\n",
       "      <th>Account Name</th>\n",
       "      <th>Opportunity Name</th>\n",
       "      <th>Net Amount</th>\n",
       "      <th>Close Date</th>\n",
       "      <th>Quote Number</th>\n",
       "      <th>Order Number</th>\n",
       "      <th>Data Centers</th>\n",
       "      <th>Type</th>\n",
       "      <th>Partner</th>\n",
       "      <th>Master Agent</th>\n",
       "      <th>Stage</th>\n",
       "      <th>Opportunity Owner</th>\n",
       "      <th>Secondary SE</th>\n",
       "      <th>SE Split Percentage</th>\n",
       "      <th>SE Split Notes</th>\n",
       "      <th>yes</th>\n",
       "    </tr>\n",
       "  </thead>\n",
       "  <tbody>\n",
       "    <tr>\n",
       "      <th>32</th>\n",
       "      <td>Brendon Yoder</td>\n",
       "      <td>Zayo Group LLC - TSMSA</td>\n",
       "      <td>Zayo.TSMSA.MIA1. 3 new cabs.ISO-0560575</td>\n",
       "      <td>8917.5</td>\n",
       "      <td>2022-07-06 00:00:00</td>\n",
       "      <td>63219</td>\n",
       "      <td>63219</td>\n",
       "      <td>MIA1</td>\n",
       "      <td>Existing</td>\n",
       "      <td>NaN</td>\n",
       "      <td>NaN</td>\n",
       "      <td>Closed Won</td>\n",
       "      <td>Susan Rossi</td>\n",
       "      <td>Michael Alvaro</td>\n",
       "      <td>NaN</td>\n",
       "      <td>NaN</td>\n",
       "      <td>yes</td>\n",
       "    </tr>\n",
       "  </tbody>\n",
       "</table>\n",
       "</div>"
      ],
      "text/plain": [
       "      SE Assigned            Account Name  \\\n",
       "32  Brendon Yoder  Zayo Group LLC - TSMSA   \n",
       "\n",
       "                           Opportunity Name  Net Amount           Close Date  \\\n",
       "32  Zayo.TSMSA.MIA1. 3 new cabs.ISO-0560575      8917.5  2022-07-06 00:00:00   \n",
       "\n",
       "   Quote Number Order Number Data Centers      Type Partner Master Agent  \\\n",
       "32        63219        63219         MIA1  Existing     NaN          NaN   \n",
       "\n",
       "         Stage Opportunity Owner    Secondary SE  SE Split Percentage  \\\n",
       "32  Closed Won       Susan Rossi  Michael Alvaro                  NaN   \n",
       "\n",
       "   SE Split Notes  yes  \n",
       "32            NaN  yes  "
      ]
     },
     "execution_count": 17,
     "metadata": {},
     "output_type": "execute_result"
    }
   ],
   "source": [
    "brendon_yoder.head(1)"
   ]
  },
  {
   "cell_type": "code",
   "execution_count": 18,
   "id": "9c6948f0-5d58-474f-b2b8-bee3a569fa19",
   "metadata": {},
   "outputs": [],
   "source": [
    "yoder_indivdual = brendon_yoder['Net Amount'].sum()"
   ]
  },
  {
   "cell_type": "code",
   "execution_count": 19,
   "id": "bfbd0dec-d106-46c7-9cdc-6b9011002e79",
   "metadata": {},
   "outputs": [
    {
     "name": "stdout",
     "output_type": "stream",
     "text": [
      "22835.48\n"
     ]
    }
   ],
   "source": [
    "print(yoder_indivdual)"
   ]
  },
  {
   "cell_type": "code",
   "execution_count": 20,
   "id": "cd8e0b29-423a-49c4-9dc2-515a74e67290",
   "metadata": {},
   "outputs": [],
   "source": [
    "yoder_regional = (east/177500)*500 "
   ]
  },
  {
   "cell_type": "code",
   "execution_count": 21,
   "id": "ffb8b87e-d526-48db-ad98-5588eb22dfb5",
   "metadata": {},
   "outputs": [
    {
     "name": "stdout",
     "output_type": "stream",
     "text": [
      "546.2243098591549\n"
     ]
    }
   ],
   "source": [
    "print(yoder_regional)"
   ]
  },
  {
   "cell_type": "code",
   "execution_count": 22,
   "id": "02ad455d-ecf1-43b7-bf15-08601de7cabf",
   "metadata": {},
   "outputs": [],
   "source": [
    "yoder_1 = (brendon_yoder['Net Amount'] * 0.0666).sum() + yoder_regional"
   ]
  },
  {
   "cell_type": "code",
   "execution_count": 23,
   "id": "2d4c27fc-77dd-4dd2-accf-4a005412eeed",
   "metadata": {},
   "outputs": [
    {
     "name": "stdout",
     "output_type": "stream",
     "text": [
      "2067.067277859155\n"
     ]
    }
   ],
   "source": [
    "print(yoder_1)"
   ]
  },
  {
   "cell_type": "code",
   "execution_count": 24,
   "id": "3566b166-0d34-47f8-8d17-f91d06e4ef27",
   "metadata": {},
   "outputs": [],
   "source": [
    "brendon_yoder.loc[11111] = ['Total Indivdual Bookings:', yoder_indivdual, '', '' ,'','','','','','','','','','','','','']"
   ]
  },
  {
   "cell_type": "code",
   "execution_count": 25,
   "id": "c3a6216a-23d7-4459-bb33-7f58f176f7f4",
   "metadata": {},
   "outputs": [],
   "source": [
    "brendon_yoder.loc[11112] = ['Regional Payment:', yoder_regional , '', '' ,'','','','','','','','','','','','','']"
   ]
  },
  {
   "cell_type": "code",
   "execution_count": 26,
   "id": "5c72a6b3-526a-4233-8451-7a233a07d9d0",
   "metadata": {},
   "outputs": [],
   "source": [
    "brendon_yoder.loc[11113] = ['Total Payout:', yoder_1, '', '' ,'','','','','','','','','','','','','']"
   ]
  },
  {
   "cell_type": "code",
   "execution_count": 27,
   "id": "4f7a9102-55f1-42a9-9125-c5f5278eb353",
   "metadata": {},
   "outputs": [],
   "source": [
    "brendon_yoder.to_excel(os.path.join('SE','yoder_july_2022.xlsx'), index=False)"
   ]
  },
  {
   "cell_type": "markdown",
   "id": "0685d567-e013-4243-a4c8-3c1b349d4ecf",
   "metadata": {},
   "source": [
    "#### End Brendon Yoder"
   ]
  },
  {
   "cell_type": "markdown",
   "id": "6d208c04-50c8-4752-af66-f3f7fe094488",
   "metadata": {
    "tags": []
   },
   "source": [
    "### Eric Wooster - East"
   ]
  },
  {
   "cell_type": "code",
   "execution_count": 28,
   "id": "ecab3497-5e7e-4e5e-8f73-41d323d174ba",
   "metadata": {},
   "outputs": [
    {
     "data": {
      "text/html": [
       "<div>\n",
       "<style scoped>\n",
       "    .dataframe tbody tr th:only-of-type {\n",
       "        vertical-align: middle;\n",
       "    }\n",
       "\n",
       "    .dataframe tbody tr th {\n",
       "        vertical-align: top;\n",
       "    }\n",
       "\n",
       "    .dataframe thead th {\n",
       "        text-align: right;\n",
       "    }\n",
       "</style>\n",
       "<table border=\"1\" class=\"dataframe\">\n",
       "  <thead>\n",
       "    <tr style=\"text-align: right;\">\n",
       "      <th></th>\n",
       "      <th>SE Assigned</th>\n",
       "      <th>Account Name</th>\n",
       "      <th>Opportunity Name</th>\n",
       "      <th>Net Amount</th>\n",
       "      <th>Close Date</th>\n",
       "      <th>Quote Number</th>\n",
       "      <th>Order Number</th>\n",
       "      <th>Data Centers</th>\n",
       "      <th>Type</th>\n",
       "      <th>Partner</th>\n",
       "      <th>Master Agent</th>\n",
       "      <th>Stage</th>\n",
       "      <th>Opportunity Owner</th>\n",
       "      <th>Secondary SE</th>\n",
       "      <th>SE Split Percentage</th>\n",
       "      <th>SE Split Notes</th>\n",
       "      <th>yes</th>\n",
       "    </tr>\n",
       "  </thead>\n",
       "  <tbody>\n",
       "    <tr>\n",
       "      <th>112</th>\n",
       "      <td>Eric Wooster</td>\n",
       "      <td>JUB Engineers Inc.</td>\n",
       "      <td>JUB - SLC2 - Additional Power 10kw - 7.28.22 -...</td>\n",
       "      <td>1270.0</td>\n",
       "      <td>2022-07-28 00:00:00</td>\n",
       "      <td>64600</td>\n",
       "      <td>64600</td>\n",
       "      <td>SLC2</td>\n",
       "      <td>Change Order</td>\n",
       "      <td>Carrier Sales</td>\n",
       "      <td>Carrier Sales</td>\n",
       "      <td>Closed Won</td>\n",
       "      <td>Samuel Mickler</td>\n",
       "      <td>NaN</td>\n",
       "      <td>NaN</td>\n",
       "      <td>NaN</td>\n",
       "      <td>yes</td>\n",
       "    </tr>\n",
       "  </tbody>\n",
       "</table>\n",
       "</div>"
      ],
      "text/plain": [
       "      SE Assigned        Account Name  \\\n",
       "112  Eric Wooster  JUB Engineers Inc.   \n",
       "\n",
       "                                      Opportunity Name  Net Amount  \\\n",
       "112  JUB - SLC2 - Additional Power 10kw - 7.28.22 -...      1270.0   \n",
       "\n",
       "              Close Date Quote Number Order Number Data Centers          Type  \\\n",
       "112  2022-07-28 00:00:00        64600        64600         SLC2  Change Order   \n",
       "\n",
       "           Partner   Master Agent       Stage Opportunity Owner Secondary SE  \\\n",
       "112  Carrier Sales  Carrier Sales  Closed Won    Samuel Mickler          NaN   \n",
       "\n",
       "     SE Split Percentage SE Split Notes  yes  \n",
       "112                  NaN            NaN  yes  "
      ]
     },
     "execution_count": 28,
     "metadata": {},
     "output_type": "execute_result"
    }
   ],
   "source": [
    "eric_wooster.head(1)"
   ]
  },
  {
   "cell_type": "code",
   "execution_count": 29,
   "id": "925766bf-bc9d-4fe6-b5e8-4154ce2adc20",
   "metadata": {},
   "outputs": [],
   "source": [
    "wooster_indivdual = eric_wooster['Net Amount'].sum()"
   ]
  },
  {
   "cell_type": "code",
   "execution_count": 30,
   "id": "a9cf01e2-1a7a-4428-999a-060ab6704273",
   "metadata": {},
   "outputs": [
    {
     "name": "stdout",
     "output_type": "stream",
     "text": [
      "4134.7300000000005\n"
     ]
    }
   ],
   "source": [
    "print(wooster_indivdual)"
   ]
  },
  {
   "cell_type": "code",
   "execution_count": 31,
   "id": "845f6a90-726e-4b86-b4a2-01ba34f24c24",
   "metadata": {},
   "outputs": [],
   "source": [
    "wooster_regional = (east/177500)*667"
   ]
  },
  {
   "cell_type": "code",
   "execution_count": 32,
   "id": "70e6b954-2f25-441d-a91d-d2a1f861cda7",
   "metadata": {},
   "outputs": [
    {
     "name": "stdout",
     "output_type": "stream",
     "text": [
      "728.6632293521127\n"
     ]
    }
   ],
   "source": [
    "print(wooster_regional)"
   ]
  },
  {
   "cell_type": "code",
   "execution_count": 33,
   "id": "511a8e7a-49ed-4f08-912a-01f9ceda2c7a",
   "metadata": {},
   "outputs": [],
   "source": [
    "wooster_1 = (eric_wooster['Net Amount'] * 0.0888).sum() + wooster_regional"
   ]
  },
  {
   "cell_type": "code",
   "execution_count": 34,
   "id": "4a5032f7-ef4c-46ba-9df4-4915e25b8cfc",
   "metadata": {},
   "outputs": [
    {
     "name": "stdout",
     "output_type": "stream",
     "text": [
      "1095.8272533521126\n"
     ]
    }
   ],
   "source": [
    "print(wooster_1)"
   ]
  },
  {
   "cell_type": "code",
   "execution_count": 35,
   "id": "ba20d062-f0a8-4d37-84c6-54bfc6ebdb46",
   "metadata": {},
   "outputs": [],
   "source": [
    "eric_wooster.loc[11111] = ['Total Indivdual Bookings:', wooster_indivdual, '', '' ,'','','','','','','','','','','','','']"
   ]
  },
  {
   "cell_type": "code",
   "execution_count": 36,
   "id": "fef7c867-f603-4587-a261-ad9ad7b15a35",
   "metadata": {},
   "outputs": [],
   "source": [
    "eric_wooster.loc[11112] = ['Regional Payment:', wooster_regional, '', '' ,'','','','','','','','','','','','','']"
   ]
  },
  {
   "cell_type": "code",
   "execution_count": 37,
   "id": "514d5277-e9c5-4dfa-969b-a320d8b74219",
   "metadata": {},
   "outputs": [],
   "source": [
    "eric_wooster.loc[11113] = ['Total Payout:', wooster_1, '', '' ,'','','','','','','','','','','','','']"
   ]
  },
  {
   "cell_type": "code",
   "execution_count": 38,
   "id": "308a8b7e-e97b-4b90-a463-6dd54a0f9797",
   "metadata": {},
   "outputs": [],
   "source": [
    "eric_wooster.to_excel(os.path.join('SE','wooster_july_2022.xlsx'), index=False)"
   ]
  },
  {
   "cell_type": "markdown",
   "id": "53495cc4-2980-42d3-92db-db228d9db93f",
   "metadata": {
    "tags": []
   },
   "source": [
    "#### End Eric Wooster"
   ]
  },
  {
   "cell_type": "markdown",
   "id": "84b106f1-f484-447a-bc80-150862ce7a58",
   "metadata": {
    "tags": []
   },
   "source": [
    "### Greg Manning - East"
   ]
  },
  {
   "cell_type": "code",
   "execution_count": 39,
   "id": "ee013921-a360-4106-a5e3-c5ad242dece4",
   "metadata": {},
   "outputs": [
    {
     "data": {
      "text/html": [
       "<div>\n",
       "<style scoped>\n",
       "    .dataframe tbody tr th:only-of-type {\n",
       "        vertical-align: middle;\n",
       "    }\n",
       "\n",
       "    .dataframe tbody tr th {\n",
       "        vertical-align: top;\n",
       "    }\n",
       "\n",
       "    .dataframe thead th {\n",
       "        text-align: right;\n",
       "    }\n",
       "</style>\n",
       "<table border=\"1\" class=\"dataframe\">\n",
       "  <thead>\n",
       "    <tr style=\"text-align: right;\">\n",
       "      <th></th>\n",
       "      <th>SE Assigned</th>\n",
       "      <th>Account Name</th>\n",
       "      <th>Opportunity Name</th>\n",
       "      <th>Net Amount</th>\n",
       "      <th>Close Date</th>\n",
       "      <th>Quote Number</th>\n",
       "      <th>Order Number</th>\n",
       "      <th>Data Centers</th>\n",
       "      <th>Type</th>\n",
       "      <th>Partner</th>\n",
       "      <th>Master Agent</th>\n",
       "      <th>Stage</th>\n",
       "      <th>Opportunity Owner</th>\n",
       "      <th>Secondary SE</th>\n",
       "      <th>SE Split Percentage</th>\n",
       "      <th>SE Split Notes</th>\n",
       "      <th>yes</th>\n",
       "    </tr>\n",
       "  </thead>\n",
       "  <tbody>\n",
       "    <tr>\n",
       "      <th>155</th>\n",
       "      <td>Gregory Manning</td>\n",
       "      <td>Rose IT</td>\n",
       "      <td>Rose IT/CageDFW3/DFW3/07152022</td>\n",
       "      <td>11067.0</td>\n",
       "      <td>2022-07-28 00:00:00</td>\n",
       "      <td>63967</td>\n",
       "      <td>63967</td>\n",
       "      <td>DFW3</td>\n",
       "      <td>New</td>\n",
       "      <td>NaN</td>\n",
       "      <td>NaN</td>\n",
       "      <td>Closed Won</td>\n",
       "      <td>Jeffrey Plank</td>\n",
       "      <td>NaN</td>\n",
       "      <td>NaN</td>\n",
       "      <td>NaN</td>\n",
       "      <td>yes</td>\n",
       "    </tr>\n",
       "  </tbody>\n",
       "</table>\n",
       "</div>"
      ],
      "text/plain": [
       "         SE Assigned Account Name                Opportunity Name  Net Amount  \\\n",
       "155  Gregory Manning      Rose IT  Rose IT/CageDFW3/DFW3/07152022     11067.0   \n",
       "\n",
       "              Close Date Quote Number Order Number Data Centers Type Partner  \\\n",
       "155  2022-07-28 00:00:00        63967        63967         DFW3  New     NaN   \n",
       "\n",
       "    Master Agent       Stage Opportunity Owner Secondary SE  \\\n",
       "155          NaN  Closed Won     Jeffrey Plank          NaN   \n",
       "\n",
       "     SE Split Percentage SE Split Notes  yes  \n",
       "155                  NaN            NaN  yes  "
      ]
     },
     "execution_count": 39,
     "metadata": {},
     "output_type": "execute_result"
    }
   ],
   "source": [
    "greg_manning.head(1)"
   ]
  },
  {
   "cell_type": "code",
   "execution_count": 40,
   "id": "c6f1fd75-5c2d-4161-bd4d-4d2c29bb830f",
   "metadata": {},
   "outputs": [],
   "source": [
    "manning_indivdual = greg_manning['Net Amount'].sum()"
   ]
  },
  {
   "cell_type": "code",
   "execution_count": 41,
   "id": "697c521e-6a39-47dd-867a-5e8f8cdefe63",
   "metadata": {},
   "outputs": [
    {
     "name": "stdout",
     "output_type": "stream",
     "text": [
      "22197.15\n"
     ]
    }
   ],
   "source": [
    "print(manning_indivdual)"
   ]
  },
  {
   "cell_type": "code",
   "execution_count": 42,
   "id": "7384b64d-c5d2-49e2-8664-57e95703e62d",
   "metadata": {},
   "outputs": [],
   "source": [
    "manning_regional = (east/177500)*750"
   ]
  },
  {
   "cell_type": "code",
   "execution_count": 43,
   "id": "2b27f6f2-c718-42e0-a0fd-b6b6fbfc65c0",
   "metadata": {},
   "outputs": [],
   "source": [
    "manning_1 = (greg_manning['Net Amount'] * 0.1).sum() + manning_regional"
   ]
  },
  {
   "cell_type": "code",
   "execution_count": 44,
   "id": "db84b73c-75ca-43f9-92c8-093f2079a87d",
   "metadata": {},
   "outputs": [
    {
     "name": "stdout",
     "output_type": "stream",
     "text": [
      "3039.0514647887326\n"
     ]
    }
   ],
   "source": [
    "print(manning_1)"
   ]
  },
  {
   "cell_type": "code",
   "execution_count": 45,
   "id": "e28676d1-ce67-4091-a441-de0404d31bba",
   "metadata": {},
   "outputs": [],
   "source": [
    "greg_manning.loc[11111] = ['Total Indivdual Bookings:', manning_indivdual, '', '' ,'','','','','','','','','','','','','']"
   ]
  },
  {
   "cell_type": "code",
   "execution_count": 46,
   "id": "147e399d-db45-4ec5-841c-c4f17dec0bff",
   "metadata": {},
   "outputs": [],
   "source": [
    "greg_manning.loc[11112] = ['Regional Payment:', manning_regional, '', '' ,'','','','','','','','','','','','','']"
   ]
  },
  {
   "cell_type": "code",
   "execution_count": 47,
   "id": "99947ac8-e47b-456c-af13-59b5617ba30a",
   "metadata": {},
   "outputs": [],
   "source": [
    "greg_manning.loc[11113] = ['Total Payout:', manning_1, '', '' ,'','','','','','','','','','','','','']"
   ]
  },
  {
   "cell_type": "code",
   "execution_count": 48,
   "id": "85d0815b-2403-4acc-b066-9331cd526232",
   "metadata": {},
   "outputs": [],
   "source": [
    "greg_manning.to_excel(os.path.join('SE','manning_july_2022.xlsx'), index=False)"
   ]
  },
  {
   "cell_type": "markdown",
   "id": "9478efff-90bc-4caf-b2f2-a9b5e9e43178",
   "metadata": {
    "tags": []
   },
   "source": [
    "#### End Greg Manning"
   ]
  },
  {
   "cell_type": "markdown",
   "id": "83848237-ff1b-4890-949e-617fbf7b691e",
   "metadata": {
    "tags": []
   },
   "source": [
    "### John Davis - East"
   ]
  },
  {
   "cell_type": "code",
   "execution_count": 49,
   "id": "248589d3-2b9b-4129-8510-bb4388658745",
   "metadata": {},
   "outputs": [
    {
     "data": {
      "text/html": [
       "<div>\n",
       "<style scoped>\n",
       "    .dataframe tbody tr th:only-of-type {\n",
       "        vertical-align: middle;\n",
       "    }\n",
       "\n",
       "    .dataframe tbody tr th {\n",
       "        vertical-align: top;\n",
       "    }\n",
       "\n",
       "    .dataframe thead th {\n",
       "        text-align: right;\n",
       "    }\n",
       "</style>\n",
       "<table border=\"1\" class=\"dataframe\">\n",
       "  <thead>\n",
       "    <tr style=\"text-align: right;\">\n",
       "      <th></th>\n",
       "      <th>SE Assigned</th>\n",
       "      <th>Account Name</th>\n",
       "      <th>Opportunity Name</th>\n",
       "      <th>Net Amount</th>\n",
       "      <th>Close Date</th>\n",
       "      <th>Quote Number</th>\n",
       "      <th>Order Number</th>\n",
       "      <th>Data Centers</th>\n",
       "      <th>Type</th>\n",
       "      <th>Partner</th>\n",
       "      <th>Master Agent</th>\n",
       "      <th>Stage</th>\n",
       "      <th>Opportunity Owner</th>\n",
       "      <th>Secondary SE</th>\n",
       "      <th>SE Split Percentage</th>\n",
       "      <th>SE Split Notes</th>\n",
       "      <th>yes</th>\n",
       "    </tr>\n",
       "  </thead>\n",
       "  <tbody>\n",
       "    <tr>\n",
       "      <th>172</th>\n",
       "      <td>John Davis</td>\n",
       "      <td>Vericast</td>\n",
       "      <td>Vericast / Short Term Renewal / 07072022</td>\n",
       "      <td>15038.33</td>\n",
       "      <td>2022-07-28 00:00:00</td>\n",
       "      <td>63572</td>\n",
       "      <td>63572</td>\n",
       "      <td>AUS1</td>\n",
       "      <td>Renewal</td>\n",
       "      <td>NaN</td>\n",
       "      <td>NaN</td>\n",
       "      <td>Closed Won</td>\n",
       "      <td>Jeffrey Reinis</td>\n",
       "      <td>NaN</td>\n",
       "      <td>NaN</td>\n",
       "      <td>NaN</td>\n",
       "      <td>yes</td>\n",
       "    </tr>\n",
       "    <tr>\n",
       "      <th>173</th>\n",
       "      <td>John Davis</td>\n",
       "      <td>Tyler Technologies</td>\n",
       "      <td>Tyler Tech / Colo DFW1 25KW - 07.08.22</td>\n",
       "      <td>6080.00</td>\n",
       "      <td>2022-07-28 00:00:00</td>\n",
       "      <td>64907</td>\n",
       "      <td>64907</td>\n",
       "      <td>DFW1</td>\n",
       "      <td>Existing</td>\n",
       "      <td>NaN</td>\n",
       "      <td>NaN</td>\n",
       "      <td>Closed Won</td>\n",
       "      <td>Ashley Waller</td>\n",
       "      <td>NaN</td>\n",
       "      <td>NaN</td>\n",
       "      <td>NaN</td>\n",
       "      <td>yes</td>\n",
       "    </tr>\n",
       "    <tr>\n",
       "      <th>174</th>\n",
       "      <td>John Davis</td>\n",
       "      <td>Kodiak Verizon</td>\n",
       "      <td>KodiakV-BW-DFW1-07262022</td>\n",
       "      <td>1478.04</td>\n",
       "      <td>2022-07-28 00:00:00</td>\n",
       "      <td>64444</td>\n",
       "      <td>64444</td>\n",
       "      <td>DFW1</td>\n",
       "      <td>Existing</td>\n",
       "      <td>NaN</td>\n",
       "      <td>NaN</td>\n",
       "      <td>Closed Won</td>\n",
       "      <td>RJ Thibodeau</td>\n",
       "      <td>NaN</td>\n",
       "      <td>NaN</td>\n",
       "      <td>NaN</td>\n",
       "      <td>yes</td>\n",
       "    </tr>\n",
       "    <tr>\n",
       "      <th>175</th>\n",
       "      <td>John Davis</td>\n",
       "      <td>Qickdata</td>\n",
       "      <td>QD-half cab-HOU5-06212022</td>\n",
       "      <td>1000.00</td>\n",
       "      <td>2022-07-20 00:00:00</td>\n",
       "      <td>63956</td>\n",
       "      <td>63956</td>\n",
       "      <td>HOU5</td>\n",
       "      <td>New</td>\n",
       "      <td>NaN</td>\n",
       "      <td>NaN</td>\n",
       "      <td>Closed Won</td>\n",
       "      <td>RJ Thibodeau</td>\n",
       "      <td>NaN</td>\n",
       "      <td>NaN</td>\n",
       "      <td>NaN</td>\n",
       "      <td>yes</td>\n",
       "    </tr>\n",
       "    <tr>\n",
       "      <th>176</th>\n",
       "      <td>John Davis</td>\n",
       "      <td>ROTM CONSULTING</td>\n",
       "      <td>ROTM/IP/DFW6/07252022</td>\n",
       "      <td>5.60</td>\n",
       "      <td>2022-07-25 00:00:00</td>\n",
       "      <td>64407</td>\n",
       "      <td>64407</td>\n",
       "      <td>DFW6</td>\n",
       "      <td>Existing</td>\n",
       "      <td>NaN</td>\n",
       "      <td>NaN</td>\n",
       "      <td>Closed Won</td>\n",
       "      <td>Jeffrey Reinis</td>\n",
       "      <td>NaN</td>\n",
       "      <td>NaN</td>\n",
       "      <td>NaN</td>\n",
       "      <td>yes</td>\n",
       "    </tr>\n",
       "  </tbody>\n",
       "</table>\n",
       "</div>"
      ],
      "text/plain": [
       "    SE Assigned        Account Name                          Opportunity Name  \\\n",
       "172  John Davis            Vericast  Vericast / Short Term Renewal / 07072022   \n",
       "173  John Davis  Tyler Technologies    Tyler Tech / Colo DFW1 25KW - 07.08.22   \n",
       "174  John Davis      Kodiak Verizon                  KodiakV-BW-DFW1-07262022   \n",
       "175  John Davis            Qickdata                 QD-half cab-HOU5-06212022   \n",
       "176  John Davis     ROTM CONSULTING                     ROTM/IP/DFW6/07252022   \n",
       "\n",
       "     Net Amount           Close Date Quote Number Order Number Data Centers  \\\n",
       "172    15038.33  2022-07-28 00:00:00        63572        63572         AUS1   \n",
       "173     6080.00  2022-07-28 00:00:00        64907        64907         DFW1   \n",
       "174     1478.04  2022-07-28 00:00:00        64444        64444         DFW1   \n",
       "175     1000.00  2022-07-20 00:00:00        63956        63956         HOU5   \n",
       "176        5.60  2022-07-25 00:00:00        64407        64407         DFW6   \n",
       "\n",
       "         Type Partner Master Agent       Stage Opportunity Owner Secondary SE  \\\n",
       "172   Renewal     NaN          NaN  Closed Won    Jeffrey Reinis          NaN   \n",
       "173  Existing     NaN          NaN  Closed Won     Ashley Waller          NaN   \n",
       "174  Existing     NaN          NaN  Closed Won      RJ Thibodeau          NaN   \n",
       "175       New     NaN          NaN  Closed Won      RJ Thibodeau          NaN   \n",
       "176  Existing     NaN          NaN  Closed Won    Jeffrey Reinis          NaN   \n",
       "\n",
       "     SE Split Percentage SE Split Notes  yes  \n",
       "172                  NaN            NaN  yes  \n",
       "173                  NaN            NaN  yes  \n",
       "174                  NaN            NaN  yes  \n",
       "175                  NaN            NaN  yes  \n",
       "176                  NaN            NaN  yes  "
      ]
     },
     "execution_count": 49,
     "metadata": {},
     "output_type": "execute_result"
    }
   ],
   "source": [
    "john_davis.head()"
   ]
  },
  {
   "cell_type": "code",
   "execution_count": 50,
   "id": "82322864-e3e6-44a3-bae4-d009ba02a434",
   "metadata": {},
   "outputs": [],
   "source": [
    "davis_indivdual = john_davis['Net Amount'].sum()"
   ]
  },
  {
   "cell_type": "code",
   "execution_count": 51,
   "id": "bcae7824-1c98-48d1-856a-dbd5e04ae659",
   "metadata": {},
   "outputs": [
    {
     "name": "stdout",
     "output_type": "stream",
     "text": [
      "23601.97\n"
     ]
    }
   ],
   "source": [
    "print(davis_indivdual)"
   ]
  },
  {
   "cell_type": "code",
   "execution_count": 52,
   "id": "21fac9e4-3553-4353-878c-292572e94299",
   "metadata": {},
   "outputs": [],
   "source": [
    "davis_regional = (east/177500)*833.33"
   ]
  },
  {
   "cell_type": "code",
   "execution_count": 53,
   "id": "156104c9-4965-43f9-89e5-aef23b49226e",
   "metadata": {},
   "outputs": [
    {
     "name": "stdout",
     "output_type": "stream",
     "text": [
      "910.3702082698592\n"
     ]
    }
   ],
   "source": [
    "print(davis_regional)"
   ]
  },
  {
   "cell_type": "code",
   "execution_count": 54,
   "id": "394bc70e-a541-488f-aef5-02a1c13ce851",
   "metadata": {},
   "outputs": [],
   "source": [
    "davis_1 = (john_davis['Net Amount'] * .1111).sum() + davis_regional "
   ]
  },
  {
   "cell_type": "code",
   "execution_count": 55,
   "id": "aeeac558-bece-4852-927c-d5c686da1a6c",
   "metadata": {},
   "outputs": [
    {
     "name": "stdout",
     "output_type": "stream",
     "text": [
      "3532.5490752698593\n"
     ]
    }
   ],
   "source": [
    "print(davis_1)"
   ]
  },
  {
   "cell_type": "code",
   "execution_count": 56,
   "id": "71f3921a-8175-4025-b7ee-b0f9c9c35119",
   "metadata": {},
   "outputs": [],
   "source": [
    "john_davis.loc[11111] = ['Total Indivdual Bookings:', davis_indivdual, '', '' ,'','','','','','','','','','','','','']"
   ]
  },
  {
   "cell_type": "code",
   "execution_count": 57,
   "id": "566dbcdd-14c2-4dab-85e8-068e8699c9b5",
   "metadata": {},
   "outputs": [],
   "source": [
    "john_davis.loc[11112] = ['Regional Payment:', davis_regional, '', '' ,'','','','','','','','','','','','','']"
   ]
  },
  {
   "cell_type": "code",
   "execution_count": 58,
   "id": "401ee526-f5ab-4035-9088-0adab001e9e6",
   "metadata": {},
   "outputs": [],
   "source": [
    "john_davis.loc[11113] = ['Total Payout:', davis_1, '', '' ,'','','','','','','','','','','','','']"
   ]
  },
  {
   "cell_type": "code",
   "execution_count": 59,
   "id": "4b44133f-cf69-4d2e-b35f-244af19aa83d",
   "metadata": {},
   "outputs": [],
   "source": [
    "john_davis.to_excel(os.path.join('SE','davis_july_2022.xlsx'), index=False)"
   ]
  },
  {
   "cell_type": "markdown",
   "id": "56a2110c-3a2b-4e89-9c76-3900a1b388be",
   "metadata": {},
   "source": [
    "#### End John Davis"
   ]
  },
  {
   "cell_type": "markdown",
   "id": "49979393-2ba9-4a39-9114-a1eaefed5167",
   "metadata": {
    "jp-MarkdownHeadingCollapsed": true,
    "tags": []
   },
   "source": [
    "### Marshall Sapp - East"
   ]
  },
  {
   "cell_type": "code",
   "execution_count": 60,
   "id": "bbd6b124-d084-446b-9972-a75bab0bf560",
   "metadata": {},
   "outputs": [
    {
     "data": {
      "text/html": [
       "<div>\n",
       "<style scoped>\n",
       "    .dataframe tbody tr th:only-of-type {\n",
       "        vertical-align: middle;\n",
       "    }\n",
       "\n",
       "    .dataframe tbody tr th {\n",
       "        vertical-align: top;\n",
       "    }\n",
       "\n",
       "    .dataframe thead th {\n",
       "        text-align: right;\n",
       "    }\n",
       "</style>\n",
       "<table border=\"1\" class=\"dataframe\">\n",
       "  <thead>\n",
       "    <tr style=\"text-align: right;\">\n",
       "      <th></th>\n",
       "      <th>SE Assigned</th>\n",
       "      <th>Account Name</th>\n",
       "      <th>Opportunity Name</th>\n",
       "      <th>Net Amount</th>\n",
       "      <th>Close Date</th>\n",
       "      <th>Quote Number</th>\n",
       "      <th>Order Number</th>\n",
       "      <th>Data Centers</th>\n",
       "      <th>Type</th>\n",
       "      <th>Partner</th>\n",
       "      <th>Master Agent</th>\n",
       "      <th>Stage</th>\n",
       "      <th>Opportunity Owner</th>\n",
       "      <th>Secondary SE</th>\n",
       "      <th>SE Split Percentage</th>\n",
       "      <th>SE Split Notes</th>\n",
       "      <th>yes</th>\n",
       "    </tr>\n",
       "  </thead>\n",
       "  <tbody>\n",
       "    <tr>\n",
       "      <th>179</th>\n",
       "      <td>Marshall Sapp</td>\n",
       "      <td>Focal Point Solutions Group</td>\n",
       "      <td>Focal Point / Colo Power Utility Commit / ATL2...</td>\n",
       "      <td>3175.0</td>\n",
       "      <td>2022-07-29 00:00:00</td>\n",
       "      <td>64521</td>\n",
       "      <td>64521</td>\n",
       "      <td>ATL2</td>\n",
       "      <td>Existing</td>\n",
       "      <td>NaN</td>\n",
       "      <td>NaN</td>\n",
       "      <td>Closed Won</td>\n",
       "      <td>Tim Langan</td>\n",
       "      <td>NaN</td>\n",
       "      <td>NaN</td>\n",
       "      <td>NaN</td>\n",
       "      <td>yes</td>\n",
       "    </tr>\n",
       "  </tbody>\n",
       "</table>\n",
       "</div>"
      ],
      "text/plain": [
       "       SE Assigned                 Account Name  \\\n",
       "179  Marshall Sapp  Focal Point Solutions Group   \n",
       "\n",
       "                                      Opportunity Name  Net Amount  \\\n",
       "179  Focal Point / Colo Power Utility Commit / ATL2...      3175.0   \n",
       "\n",
       "              Close Date Quote Number Order Number Data Centers      Type  \\\n",
       "179  2022-07-29 00:00:00        64521        64521         ATL2  Existing   \n",
       "\n",
       "    Partner Master Agent       Stage Opportunity Owner Secondary SE  \\\n",
       "179     NaN          NaN  Closed Won        Tim Langan          NaN   \n",
       "\n",
       "     SE Split Percentage SE Split Notes  yes  \n",
       "179                  NaN            NaN  yes  "
      ]
     },
     "execution_count": 60,
     "metadata": {},
     "output_type": "execute_result"
    }
   ],
   "source": [
    "marshall_sapp.head(1)"
   ]
  },
  {
   "cell_type": "code",
   "execution_count": 61,
   "id": "e1ec5824-e900-469c-9042-93ab6b987c4b",
   "metadata": {},
   "outputs": [],
   "source": [
    "sapp_indivdual = marshall_sapp['Net Amount'].sum()"
   ]
  },
  {
   "cell_type": "code",
   "execution_count": 62,
   "id": "c539ffa6-31f5-4642-a426-29d638e05a5a",
   "metadata": {},
   "outputs": [
    {
     "name": "stdout",
     "output_type": "stream",
     "text": [
      "20684.65\n"
     ]
    }
   ],
   "source": [
    "print(sapp_indivdual)"
   ]
  },
  {
   "cell_type": "code",
   "execution_count": 63,
   "id": "37fb9ada-7ddc-40db-b4ad-873b2e343f10",
   "metadata": {},
   "outputs": [],
   "source": [
    "sapp_regional = (east/177500)*833.33"
   ]
  },
  {
   "cell_type": "code",
   "execution_count": 64,
   "id": "0774e856-8b82-4e39-b5f7-03e140af1c56",
   "metadata": {},
   "outputs": [
    {
     "name": "stdout",
     "output_type": "stream",
     "text": [
      "910.3702082698592\n"
     ]
    }
   ],
   "source": [
    "print(sapp_regional)"
   ]
  },
  {
   "cell_type": "code",
   "execution_count": 65,
   "id": "6a1d575d-4eb6-4ad3-8110-bad2c878a99d",
   "metadata": {},
   "outputs": [],
   "source": [
    "sapp_1 = (marshall_sapp['Net Amount'] * 0.1111).sum() + sapp_regional"
   ]
  },
  {
   "cell_type": "code",
   "execution_count": 66,
   "id": "23f1f4c9-79f3-4ff4-9a3d-d77f22d7c3db",
   "metadata": {},
   "outputs": [
    {
     "name": "stdout",
     "output_type": "stream",
     "text": [
      "3208.4348232698594\n"
     ]
    }
   ],
   "source": [
    "print(sapp_1)"
   ]
  },
  {
   "cell_type": "code",
   "execution_count": 67,
   "id": "ee22dacc-b1de-4aea-8a8f-37ca21a3a109",
   "metadata": {},
   "outputs": [],
   "source": [
    "marshall_sapp.loc[11111] = ['Total Indivdual Bookings:', sapp_indivdual, '', '' ,'','','','','','','','','','','','','']"
   ]
  },
  {
   "cell_type": "code",
   "execution_count": 68,
   "id": "46249dcf-4550-4822-81cb-4eb1295c6e31",
   "metadata": {},
   "outputs": [],
   "source": [
    "marshall_sapp.loc[11112] = ['Regional Payment:', sapp_regional, '', '' ,'','','','','','','','','','','','','']"
   ]
  },
  {
   "cell_type": "code",
   "execution_count": 69,
   "id": "76a56e93-b6de-43f0-b214-1617349754a4",
   "metadata": {},
   "outputs": [],
   "source": [
    "marshall_sapp.loc[11113] = ['Total Payout:', sapp_1, '', '' ,'','','','','','','','','','','','','']"
   ]
  },
  {
   "cell_type": "code",
   "execution_count": 70,
   "id": "c957a611-978e-48ae-9ac7-0895843642eb",
   "metadata": {},
   "outputs": [],
   "source": [
    "marshall_sapp.to_excel(os.path.join('SE','sapp_july_2022.xlsx'), index=False)"
   ]
  },
  {
   "cell_type": "markdown",
   "id": "37d3dcf0-07ac-4a91-99d9-d997efbbbbdd",
   "metadata": {},
   "source": [
    "#### Marshall Sapp"
   ]
  },
  {
   "cell_type": "markdown",
   "id": "37761f7c-0abb-477d-8d6f-2b805fcfa1b1",
   "metadata": {},
   "source": [
    "### Mike Alvaro - East"
   ]
  },
  {
   "cell_type": "code",
   "execution_count": 71,
   "id": "67a1ab2b-c74d-4130-ae60-6c6794aceaf0",
   "metadata": {},
   "outputs": [
    {
     "data": {
      "text/html": [
       "<div>\n",
       "<style scoped>\n",
       "    .dataframe tbody tr th:only-of-type {\n",
       "        vertical-align: middle;\n",
       "    }\n",
       "\n",
       "    .dataframe tbody tr th {\n",
       "        vertical-align: top;\n",
       "    }\n",
       "\n",
       "    .dataframe thead th {\n",
       "        text-align: right;\n",
       "    }\n",
       "</style>\n",
       "<table border=\"1\" class=\"dataframe\">\n",
       "  <thead>\n",
       "    <tr style=\"text-align: right;\">\n",
       "      <th></th>\n",
       "      <th>SE Assigned</th>\n",
       "      <th>Account Name</th>\n",
       "      <th>Opportunity Name</th>\n",
       "      <th>Net Amount</th>\n",
       "      <th>Close Date</th>\n",
       "      <th>Quote Number</th>\n",
       "      <th>Order Number</th>\n",
       "      <th>Data Centers</th>\n",
       "      <th>Type</th>\n",
       "      <th>Partner</th>\n",
       "      <th>Master Agent</th>\n",
       "      <th>Stage</th>\n",
       "      <th>Opportunity Owner</th>\n",
       "      <th>Secondary SE</th>\n",
       "      <th>SE Split Percentage</th>\n",
       "      <th>SE Split Notes</th>\n",
       "      <th>yes</th>\n",
       "    </tr>\n",
       "  </thead>\n",
       "  <tbody>\n",
       "    <tr>\n",
       "      <th>231</th>\n",
       "      <td>Michael Alvaro</td>\n",
       "      <td>DISH Wireless L.L.C.</td>\n",
       "      <td>DISH - CAGE 136kW - LAX</td>\n",
       "      <td>41794.0</td>\n",
       "      <td>2022-07-14 00:00:00</td>\n",
       "      <td>63473</td>\n",
       "      <td>63473</td>\n",
       "      <td>LAX1</td>\n",
       "      <td>Existing</td>\n",
       "      <td>NaN</td>\n",
       "      <td>NaN</td>\n",
       "      <td>Closed Won</td>\n",
       "      <td>Scott Palsgrove</td>\n",
       "      <td>NaN</td>\n",
       "      <td>NaN</td>\n",
       "      <td>NaN</td>\n",
       "      <td>yes</td>\n",
       "    </tr>\n",
       "  </tbody>\n",
       "</table>\n",
       "</div>"
      ],
      "text/plain": [
       "        SE Assigned          Account Name         Opportunity Name  \\\n",
       "231  Michael Alvaro  DISH Wireless L.L.C.  DISH - CAGE 136kW - LAX   \n",
       "\n",
       "     Net Amount           Close Date Quote Number Order Number Data Centers  \\\n",
       "231     41794.0  2022-07-14 00:00:00        63473        63473         LAX1   \n",
       "\n",
       "         Type Partner Master Agent       Stage Opportunity Owner Secondary SE  \\\n",
       "231  Existing     NaN          NaN  Closed Won   Scott Palsgrove          NaN   \n",
       "\n",
       "     SE Split Percentage SE Split Notes  yes  \n",
       "231                  NaN            NaN  yes  "
      ]
     },
     "execution_count": 71,
     "metadata": {},
     "output_type": "execute_result"
    }
   ],
   "source": [
    "michael_alvaro.head(1)"
   ]
  },
  {
   "cell_type": "code",
   "execution_count": 72,
   "id": "d3779cb0-3cdc-4d0f-a75d-15889bc75a27",
   "metadata": {},
   "outputs": [],
   "source": [
    "alvaro_indivdual = michael_alvaro['Net Amount'].sum()"
   ]
  },
  {
   "cell_type": "code",
   "execution_count": 73,
   "id": "11880c42-dcef-4525-8fd4-b31d3301b296",
   "metadata": {},
   "outputs": [
    {
     "name": "stdout",
     "output_type": "stream",
     "text": [
      "100455.65\n"
     ]
    }
   ],
   "source": [
    "print(alvaro_indivdual)"
   ]
  },
  {
   "cell_type": "code",
   "execution_count": 74,
   "id": "47059039-d41f-4512-bea4-667a9ac37cc8",
   "metadata": {},
   "outputs": [],
   "source": [
    "alvaro_regional = (east/177500)*667"
   ]
  },
  {
   "cell_type": "code",
   "execution_count": 75,
   "id": "c0d06ab6-a630-4c6d-9391-5c884591f3c7",
   "metadata": {},
   "outputs": [],
   "source": [
    "alvaro_1 = (michael_alvaro['Net Amount'] * 0.0888).sum() + alvaro_regional"
   ]
  },
  {
   "cell_type": "code",
   "execution_count": 76,
   "id": "eaeeeab3-7d34-4a20-82e6-24395bc43d0f",
   "metadata": {},
   "outputs": [
    {
     "name": "stdout",
     "output_type": "stream",
     "text": [
      "9649.124949352114\n"
     ]
    }
   ],
   "source": [
    "print(alvaro_1)"
   ]
  },
  {
   "cell_type": "code",
   "execution_count": 77,
   "id": "ae6319ee-b5d1-43c1-8354-1b60f59c1c60",
   "metadata": {},
   "outputs": [],
   "source": [
    "michael_alvaro.loc[11111] = ['Total Indivdual Bookings:', alvaro_indivdual, '', '' ,'','','','','','','','','','','','','']"
   ]
  },
  {
   "cell_type": "code",
   "execution_count": 78,
   "id": "ae13365a-f8ea-4d8c-9526-04e7ab33ef79",
   "metadata": {},
   "outputs": [],
   "source": [
    "michael_alvaro.loc[11112] = ['Regional Payment:', alvaro_regional, '', '' ,'','','','','','','','','','','','','']"
   ]
  },
  {
   "cell_type": "code",
   "execution_count": 79,
   "id": "1f316c3d-d85b-459f-af89-d27fc9d74414",
   "metadata": {},
   "outputs": [],
   "source": [
    "michael_alvaro.loc[11113] = ['Total Payout:', alvaro_1, '', '' ,'','','','','','','','','','','','','']"
   ]
  },
  {
   "cell_type": "code",
   "execution_count": 80,
   "id": "ccec0e6b-56af-48ca-9c88-0ac43e14e527",
   "metadata": {},
   "outputs": [],
   "source": [
    "michael_alvaro.to_excel(os.path.join('SE','alvaro_july_2022.xlsx'), index=False)"
   ]
  },
  {
   "cell_type": "markdown",
   "id": "09ea8566-c10b-41c4-8b91-31d0d107afe9",
   "metadata": {},
   "source": [
    "#### End Michael Alvaro"
   ]
  },
  {
   "cell_type": "markdown",
   "id": "28f38be2-005f-440c-b19f-c1fef0d59a6d",
   "metadata": {
    "tags": []
   },
   "source": [
    "### Greg Shamieh - East"
   ]
  },
  {
   "cell_type": "code",
   "execution_count": 81,
   "id": "981263ed-44de-410d-88ba-fd74181b4196",
   "metadata": {},
   "outputs": [],
   "source": [
    "#greg_shamieh.head(1)"
   ]
  },
  {
   "cell_type": "code",
   "execution_count": 82,
   "id": "0fcdef58-b8f1-41fc-a2f4-f8d0f7ce195a",
   "metadata": {},
   "outputs": [],
   "source": [
    "#shamieh_indivdual = greg_shamieh['Net Amount'].sum()"
   ]
  },
  {
   "cell_type": "code",
   "execution_count": 83,
   "id": "8f966fda-9270-4ac7-a9c5-1f603f501709",
   "metadata": {},
   "outputs": [],
   "source": [
    "#print(shamieh_indivdual)"
   ]
  },
  {
   "cell_type": "code",
   "execution_count": 84,
   "id": "28b36e41-c3fc-433d-b61c-70f75e47eb66",
   "metadata": {},
   "outputs": [],
   "source": [
    "#shamieh_regional = (east/177500)*583"
   ]
  },
  {
   "cell_type": "code",
   "execution_count": 85,
   "id": "83f495be-f7d3-4763-b849-12969f873a64",
   "metadata": {},
   "outputs": [],
   "source": [
    "#shamieh_1 = (greg_shamieh['Net Amount'] * 0.0777).sum() + shamieh_regional "
   ]
  },
  {
   "cell_type": "code",
   "execution_count": 86,
   "id": "a56116a7-3200-4ef9-ad44-e6594901460b",
   "metadata": {},
   "outputs": [],
   "source": [
    "#print(shamieh_1)"
   ]
  },
  {
   "cell_type": "code",
   "execution_count": 87,
   "id": "393a5ccf-2abd-4114-868b-9fd03452bf3e",
   "metadata": {},
   "outputs": [],
   "source": [
    "#greg_shamieh.loc[11111] = ['Total Indivdual Bookings:', shamieh_indivdual, '', '' ,'','','','','','','','','','','','','']"
   ]
  },
  {
   "cell_type": "code",
   "execution_count": 88,
   "id": "41d49f1e-43b6-4e13-acd3-ee44e53bd851",
   "metadata": {},
   "outputs": [],
   "source": [
    "#greg_shamieh.loc[11112] = ['Regional Payment:', shamieh_regional, '', '' ,'','','','','','','','','','','','','']"
   ]
  },
  {
   "cell_type": "code",
   "execution_count": 89,
   "id": "1d87d266-b5b6-424b-88b3-14a962971d3f",
   "metadata": {},
   "outputs": [],
   "source": [
    "#greg_shamieh.loc[11113] = ['Total Payout:', shamieh_1, '', '' ,'','','','','','','','','','','','','']"
   ]
  },
  {
   "cell_type": "code",
   "execution_count": 90,
   "id": "5c257a67-0e53-4a73-a373-084561ac601f",
   "metadata": {},
   "outputs": [],
   "source": [
    "#greg_shamieh.to_excel(os.path.join('SE','shamieh_july_2022.xlsx'), index=False)"
   ]
  },
  {
   "cell_type": "markdown",
   "id": "586f135a-1483-421f-9758-2e7bf9b776d3",
   "metadata": {},
   "source": [
    "#### End Greg Shamieh"
   ]
  },
  {
   "cell_type": "markdown",
   "id": "b5056314-d923-4f7d-8c2f-8f4a2efb9555",
   "metadata": {
    "jp-MarkdownHeadingCollapsed": true,
    "tags": []
   },
   "source": [
    "## Eric Carter - West"
   ]
  },
  {
   "cell_type": "code",
   "execution_count": 91,
   "id": "a69ba14b-62f1-40cc-a2bf-e22235c3fd78",
   "metadata": {},
   "outputs": [],
   "source": [
    "eric_carter_1  = (west/170000)*3333"
   ]
  },
  {
   "cell_type": "code",
   "execution_count": 92,
   "id": "2bd14d09-461f-4725-b65d-aa4260ac36d7",
   "metadata": {},
   "outputs": [
    {
     "name": "stdout",
     "output_type": "stream",
     "text": [
      "2968.8562219411765\n"
     ]
    }
   ],
   "source": [
    "print(eric_carter_1)"
   ]
  },
  {
   "cell_type": "code",
   "execution_count": 93,
   "id": "caa2095d-91d2-4045-b9db-0488f378f9c8",
   "metadata": {},
   "outputs": [],
   "source": [
    "carter = pd.DataFrame(columns=['Name:', 'Payout:', 'East Quota %:' , 'Formula Used:'])"
   ]
  },
  {
   "cell_type": "code",
   "execution_count": 94,
   "id": "681ae6a0-0474-480e-96e0-94d538a23427",
   "metadata": {},
   "outputs": [],
   "source": [
    "carter.loc[1111] = ['Eric Carter', eric_carter_1, westf , '(west/170000)*3333' ]"
   ]
  },
  {
   "cell_type": "code",
   "execution_count": 95,
   "id": "fcf8ed6d-e4ce-4b49-ba7b-ce37afa8665f",
   "metadata": {},
   "outputs": [
    {
     "name": "stdout",
     "output_type": "stream",
     "text": [
      "            Name:      Payout:  East Quota %:       Formula Used:\n",
      "1111  Eric Carter  2968.856222       0.890746  (west/170000)*3333\n"
     ]
    }
   ],
   "source": [
    "print(carter)"
   ]
  },
  {
   "cell_type": "code",
   "execution_count": 96,
   "id": "a42bda7e-d843-483a-82ec-c1f91803e4e3",
   "metadata": {},
   "outputs": [],
   "source": [
    "carter.to_excel(os.path.join('SE','carter_july_2022.xlsx'), index=False)"
   ]
  },
  {
   "cell_type": "markdown",
   "id": "c43a2fc5-1d02-4621-b699-1489106ec94d",
   "metadata": {
    "jp-MarkdownHeadingCollapsed": true,
    "tags": []
   },
   "source": [
    "#### End Eric Carter"
   ]
  },
  {
   "cell_type": "markdown",
   "id": "48936de1-f1ae-486a-b9ce-4524aa2b3cfc",
   "metadata": {
    "tags": []
   },
   "source": [
    "### Anthony Mccloud - West"
   ]
  },
  {
   "cell_type": "code",
   "execution_count": 97,
   "id": "51691ed2-9ffe-48bb-89ba-6745a53f1dbd",
   "metadata": {},
   "outputs": [
    {
     "data": {
      "text/html": [
       "<div>\n",
       "<style scoped>\n",
       "    .dataframe tbody tr th:only-of-type {\n",
       "        vertical-align: middle;\n",
       "    }\n",
       "\n",
       "    .dataframe tbody tr th {\n",
       "        vertical-align: top;\n",
       "    }\n",
       "\n",
       "    .dataframe thead th {\n",
       "        text-align: right;\n",
       "    }\n",
       "</style>\n",
       "<table border=\"1\" class=\"dataframe\">\n",
       "  <thead>\n",
       "    <tr style=\"text-align: right;\">\n",
       "      <th></th>\n",
       "      <th>SE Assigned</th>\n",
       "      <th>Account Name</th>\n",
       "      <th>Opportunity Name</th>\n",
       "      <th>Net Amount</th>\n",
       "      <th>Close Date</th>\n",
       "      <th>Quote Number</th>\n",
       "      <th>Order Number</th>\n",
       "      <th>Data Centers</th>\n",
       "      <th>Type</th>\n",
       "      <th>Partner</th>\n",
       "      <th>Master Agent</th>\n",
       "      <th>Stage</th>\n",
       "      <th>Opportunity Owner</th>\n",
       "      <th>Secondary SE</th>\n",
       "      <th>SE Split Percentage</th>\n",
       "      <th>SE Split Notes</th>\n",
       "      <th>yes</th>\n",
       "    </tr>\n",
       "  </thead>\n",
       "  <tbody>\n",
       "    <tr>\n",
       "      <th>0</th>\n",
       "      <td>Anthony McCloud</td>\n",
       "      <td>EZ Links Golf, Inc.</td>\n",
       "      <td>EZLinks/New Cab and Power/ORD4/07052022</td>\n",
       "      <td>2060.0</td>\n",
       "      <td>2022-07-18 00:00:00</td>\n",
       "      <td>63442</td>\n",
       "      <td>63442</td>\n",
       "      <td>ORD4</td>\n",
       "      <td>Existing</td>\n",
       "      <td>NaN</td>\n",
       "      <td>NaN</td>\n",
       "      <td>Closed Won</td>\n",
       "      <td>Jonathan Malcolm</td>\n",
       "      <td>NaN</td>\n",
       "      <td>NaN</td>\n",
       "      <td>NaN</td>\n",
       "      <td>yes</td>\n",
       "    </tr>\n",
       "  </tbody>\n",
       "</table>\n",
       "</div>"
      ],
      "text/plain": [
       "       SE Assigned         Account Name  \\\n",
       "0  Anthony McCloud  EZ Links Golf, Inc.   \n",
       "\n",
       "                          Opportunity Name  Net Amount           Close Date  \\\n",
       "0  EZLinks/New Cab and Power/ORD4/07052022      2060.0  2022-07-18 00:00:00   \n",
       "\n",
       "  Quote Number Order Number Data Centers      Type Partner Master Agent  \\\n",
       "0        63442        63442         ORD4  Existing     NaN          NaN   \n",
       "\n",
       "        Stage Opportunity Owner Secondary SE  SE Split Percentage  \\\n",
       "0  Closed Won  Jonathan Malcolm          NaN                  NaN   \n",
       "\n",
       "  SE Split Notes  yes  \n",
       "0            NaN  yes  "
      ]
     },
     "execution_count": 97,
     "metadata": {},
     "output_type": "execute_result"
    }
   ],
   "source": [
    "anthony_mccloud.head(1)"
   ]
  },
  {
   "cell_type": "code",
   "execution_count": 98,
   "id": "de216b86-0892-4fc4-a52c-57cc6d82ee1c",
   "metadata": {},
   "outputs": [],
   "source": [
    "mccloud_indivdual = anthony_mccloud['Net Amount'].sum()"
   ]
  },
  {
   "cell_type": "code",
   "execution_count": 99,
   "id": "e6d1aead-2a96-4973-931e-35763bc96393",
   "metadata": {},
   "outputs": [
    {
     "name": "stdout",
     "output_type": "stream",
     "text": [
      "13177.990000000002\n"
     ]
    }
   ],
   "source": [
    "print(mccloud_indivdual)"
   ]
  },
  {
   "cell_type": "code",
   "execution_count": 100,
   "id": "1df5683f-129b-4efc-9972-9900f5dbdf12",
   "metadata": {},
   "outputs": [],
   "source": [
    "mccloud_regional = (west/170000)*500"
   ]
  },
  {
   "cell_type": "code",
   "execution_count": 101,
   "id": "5dcb95a0-673e-48e0-b0d8-c61cc66d2c97",
   "metadata": {},
   "outputs": [],
   "source": [
    "mccloud_1 = (anthony_mccloud['Net Amount'] * 0.0666).sum() + mccloud_regional"
   ]
  },
  {
   "cell_type": "code",
   "execution_count": 102,
   "id": "3bb7d2e7-ad74-468f-a284-6f80aed9ee95",
   "metadata": {},
   "outputs": [
    {
     "name": "stdout",
     "output_type": "stream",
     "text": [
      "1323.0271045882355\n"
     ]
    }
   ],
   "source": [
    "print(mccloud_1)"
   ]
  },
  {
   "cell_type": "code",
   "execution_count": 103,
   "id": "40d0f4da-8607-4827-84f8-96248bf5ed25",
   "metadata": {},
   "outputs": [],
   "source": [
    "anthony_mccloud.loc[11111] = ['Total Indivdual Bookings:', '', '', mccloud_indivdual ,'','','','','','','','','','','','','']"
   ]
  },
  {
   "cell_type": "code",
   "execution_count": 104,
   "id": "fa8cec46-8bb0-41b7-b800-fb2ea0b28363",
   "metadata": {},
   "outputs": [],
   "source": [
    "anthony_mccloud.loc[11112] = ['Regional Payment:', '', '', mccloud_regional ,'','','','','','','','','','','','','']"
   ]
  },
  {
   "cell_type": "code",
   "execution_count": 105,
   "id": "741a6354-171e-4489-820c-4f29447cad34",
   "metadata": {},
   "outputs": [],
   "source": [
    "anthony_mccloud.loc[11113] = ['Total Payout:', '', '', mccloud_1 ,'','','','','','','','','','','','','']"
   ]
  },
  {
   "cell_type": "code",
   "execution_count": 106,
   "id": "a0cc2abb-e0ef-4386-9060-018d4fc49d29",
   "metadata": {},
   "outputs": [],
   "source": [
    "anthony_mccloud.to_excel(os.path.join('SE','mccloud_july_2022.xlsx'), index=False)"
   ]
  },
  {
   "cell_type": "markdown",
   "id": "625564ad-6dd4-4566-beca-1e81cbec29bc",
   "metadata": {},
   "source": [
    "#### End Anthony Mccloud"
   ]
  },
  {
   "cell_type": "markdown",
   "id": "9f0ebcb7-ec61-4149-80ed-95d9fa410112",
   "metadata": {
    "tags": []
   },
   "source": [
    "### Christopher Chandler - West"
   ]
  },
  {
   "cell_type": "code",
   "execution_count": 107,
   "id": "203c3b2d-61fa-45c2-a0e0-0d08ffb28aaf",
   "metadata": {},
   "outputs": [
    {
     "data": {
      "text/html": [
       "<div>\n",
       "<style scoped>\n",
       "    .dataframe tbody tr th:only-of-type {\n",
       "        vertical-align: middle;\n",
       "    }\n",
       "\n",
       "    .dataframe tbody tr th {\n",
       "        vertical-align: top;\n",
       "    }\n",
       "\n",
       "    .dataframe thead th {\n",
       "        text-align: right;\n",
       "    }\n",
       "</style>\n",
       "<table border=\"1\" class=\"dataframe\">\n",
       "  <thead>\n",
       "    <tr style=\"text-align: right;\">\n",
       "      <th></th>\n",
       "      <th>SE Assigned</th>\n",
       "      <th>Account Name</th>\n",
       "      <th>Opportunity Name</th>\n",
       "      <th>Net Amount</th>\n",
       "      <th>Close Date</th>\n",
       "      <th>Quote Number</th>\n",
       "      <th>Order Number</th>\n",
       "      <th>Data Centers</th>\n",
       "      <th>Type</th>\n",
       "      <th>Partner</th>\n",
       "      <th>Master Agent</th>\n",
       "      <th>Stage</th>\n",
       "      <th>Opportunity Owner</th>\n",
       "      <th>Secondary SE</th>\n",
       "      <th>SE Split Percentage</th>\n",
       "      <th>SE Split Notes</th>\n",
       "      <th>yes</th>\n",
       "    </tr>\n",
       "  </thead>\n",
       "  <tbody>\n",
       "    <tr>\n",
       "      <th>76</th>\n",
       "      <td>Christopher Chandler</td>\n",
       "      <td>Prince Minerals LCC</td>\n",
       "      <td>Prince Minerals - Dedicated IaaS - DFW3 - 7/14...</td>\n",
       "      <td>20242.94</td>\n",
       "      <td>2022-07-28 00:00:00</td>\n",
       "      <td>64468</td>\n",
       "      <td>64468</td>\n",
       "      <td>DFW3</td>\n",
       "      <td>New</td>\n",
       "      <td>NaN</td>\n",
       "      <td>NaN</td>\n",
       "      <td>Closed Won</td>\n",
       "      <td>Carlie Matel</td>\n",
       "      <td>NaN</td>\n",
       "      <td>NaN</td>\n",
       "      <td>NaN</td>\n",
       "      <td>yes</td>\n",
       "    </tr>\n",
       "  </tbody>\n",
       "</table>\n",
       "</div>"
      ],
      "text/plain": [
       "             SE Assigned         Account Name  \\\n",
       "76  Christopher Chandler  Prince Minerals LCC   \n",
       "\n",
       "                                     Opportunity Name  Net Amount  \\\n",
       "76  Prince Minerals - Dedicated IaaS - DFW3 - 7/14...    20242.94   \n",
       "\n",
       "             Close Date Quote Number Order Number Data Centers Type Partner  \\\n",
       "76  2022-07-28 00:00:00        64468        64468         DFW3  New     NaN   \n",
       "\n",
       "   Master Agent       Stage Opportunity Owner Secondary SE  \\\n",
       "76          NaN  Closed Won      Carlie Matel          NaN   \n",
       "\n",
       "    SE Split Percentage SE Split Notes  yes  \n",
       "76                  NaN            NaN  yes  "
      ]
     },
     "execution_count": 107,
     "metadata": {},
     "output_type": "execute_result"
    }
   ],
   "source": [
    "christopher_chandler.head(1)"
   ]
  },
  {
   "cell_type": "code",
   "execution_count": 108,
   "id": "89339eb2-2020-4a23-9d56-60a03302da01",
   "metadata": {},
   "outputs": [],
   "source": [
    "chandler_indivdual = christopher_chandler['Net Amount'].sum()"
   ]
  },
  {
   "cell_type": "code",
   "execution_count": 109,
   "id": "732a8766-d071-4ad2-b347-0c827e964f15",
   "metadata": {},
   "outputs": [
    {
     "name": "stdout",
     "output_type": "stream",
     "text": [
      "45344.85\n"
     ]
    }
   ],
   "source": [
    "print(chandler_indivdual)"
   ]
  },
  {
   "cell_type": "code",
   "execution_count": 110,
   "id": "5c64abcd-478a-48b7-9d83-3f4874ca6b1c",
   "metadata": {},
   "outputs": [],
   "source": [
    "chandler_regional = (west/170000)*500"
   ]
  },
  {
   "cell_type": "code",
   "execution_count": 111,
   "id": "268d1dd5-a4a7-4dbc-9357-9e924638b45c",
   "metadata": {},
   "outputs": [
    {
     "name": "stdout",
     "output_type": "stream",
     "text": [
      "445.37297058823526\n"
     ]
    }
   ],
   "source": [
    "print(chandler_regional)"
   ]
  },
  {
   "cell_type": "code",
   "execution_count": 112,
   "id": "751446af-380c-473b-9df8-37ec94e2f265",
   "metadata": {},
   "outputs": [],
   "source": [
    "chandler_1 = (christopher_chandler['Net Amount'] * 0.0666).sum() + chandler_regional"
   ]
  },
  {
   "cell_type": "code",
   "execution_count": 113,
   "id": "5c8d400e-2fd4-4279-8fae-b72a5a255455",
   "metadata": {},
   "outputs": [
    {
     "name": "stdout",
     "output_type": "stream",
     "text": [
      "3465.3399805882354\n"
     ]
    }
   ],
   "source": [
    "print(chandler_1)"
   ]
  },
  {
   "cell_type": "code",
   "execution_count": 114,
   "id": "c0c6a5c1-bb48-4ca1-9990-83eba3a11104",
   "metadata": {},
   "outputs": [],
   "source": [
    "christopher_chandler.loc[11111] = ['Total Indivdual Bookings:', chandler_indivdual, '', '' ,'','','','','','','','','','','','','']"
   ]
  },
  {
   "cell_type": "code",
   "execution_count": 115,
   "id": "f98e535e-f973-4ef0-a383-23cd972f848c",
   "metadata": {},
   "outputs": [],
   "source": [
    "christopher_chandler.loc[11112] = ['Regional Payment:', chandler_regional, '', '' ,'','','','','','','','','','','','','']"
   ]
  },
  {
   "cell_type": "code",
   "execution_count": 116,
   "id": "d1918276-1985-49d6-9c31-7750ce30a5ae",
   "metadata": {},
   "outputs": [],
   "source": [
    "christopher_chandler.loc[11113] = ['Total Payout:', chandler_1, '', '' ,'','','','','','','','','','','','','']"
   ]
  },
  {
   "cell_type": "code",
   "execution_count": 117,
   "id": "962a1dff-28bd-4831-aa12-d70e33db6e39",
   "metadata": {},
   "outputs": [],
   "source": [
    "christopher_chandler.to_excel(os.path.join('SE','chandler_july_2022.xlsx'), index=False)"
   ]
  },
  {
   "cell_type": "markdown",
   "id": "fc083580-ed9c-41bd-915f-87cb06a3a7ef",
   "metadata": {},
   "source": [
    "#### End Christopher Chandler "
   ]
  },
  {
   "cell_type": "markdown",
   "id": "39541d8c-099a-4ad7-9801-58d1afcd9413",
   "metadata": {
    "tags": []
   },
   "source": [
    "### William Brucker - West"
   ]
  },
  {
   "cell_type": "code",
   "execution_count": 118,
   "id": "e01e5467-5ce2-4eed-8acf-5c0c9d70c827",
   "metadata": {},
   "outputs": [
    {
     "data": {
      "text/html": [
       "<div>\n",
       "<style scoped>\n",
       "    .dataframe tbody tr th:only-of-type {\n",
       "        vertical-align: middle;\n",
       "    }\n",
       "\n",
       "    .dataframe tbody tr th {\n",
       "        vertical-align: top;\n",
       "    }\n",
       "\n",
       "    .dataframe thead th {\n",
       "        text-align: right;\n",
       "    }\n",
       "</style>\n",
       "<table border=\"1\" class=\"dataframe\">\n",
       "  <thead>\n",
       "    <tr style=\"text-align: right;\">\n",
       "      <th></th>\n",
       "      <th>SE Assigned</th>\n",
       "      <th>Account Name</th>\n",
       "      <th>Opportunity Name</th>\n",
       "      <th>Net Amount</th>\n",
       "      <th>Close Date</th>\n",
       "      <th>Quote Number</th>\n",
       "      <th>Order Number</th>\n",
       "      <th>Data Centers</th>\n",
       "      <th>Type</th>\n",
       "      <th>Partner</th>\n",
       "      <th>Master Agent</th>\n",
       "      <th>Stage</th>\n",
       "      <th>Opportunity Owner</th>\n",
       "      <th>Secondary SE</th>\n",
       "      <th>SE Split Percentage</th>\n",
       "      <th>SE Split Notes</th>\n",
       "      <th>yes</th>\n",
       "    </tr>\n",
       "  </thead>\n",
       "  <tbody>\n",
       "    <tr>\n",
       "      <th>320</th>\n",
       "      <td>William Brucker</td>\n",
       "      <td>Pryor Learning Solutions Inc.</td>\n",
       "      <td>Pryor Learning/Colo/MCI2/06212022</td>\n",
       "      <td>3540.5</td>\n",
       "      <td>2022-07-20 00:00:00</td>\n",
       "      <td>64108</td>\n",
       "      <td>64108</td>\n",
       "      <td>MCI2</td>\n",
       "      <td>New</td>\n",
       "      <td>NaN</td>\n",
       "      <td>NaN</td>\n",
       "      <td>Closed Won</td>\n",
       "      <td>Odaine Hudson</td>\n",
       "      <td>NaN</td>\n",
       "      <td>NaN</td>\n",
       "      <td>NaN</td>\n",
       "      <td>yes</td>\n",
       "    </tr>\n",
       "  </tbody>\n",
       "</table>\n",
       "</div>"
      ],
      "text/plain": [
       "         SE Assigned                   Account Name  \\\n",
       "320  William Brucker  Pryor Learning Solutions Inc.   \n",
       "\n",
       "                      Opportunity Name  Net Amount           Close Date  \\\n",
       "320  Pryor Learning/Colo/MCI2/06212022      3540.5  2022-07-20 00:00:00   \n",
       "\n",
       "    Quote Number Order Number Data Centers Type Partner Master Agent  \\\n",
       "320        64108        64108         MCI2  New     NaN          NaN   \n",
       "\n",
       "          Stage Opportunity Owner Secondary SE  SE Split Percentage  \\\n",
       "320  Closed Won     Odaine Hudson          NaN                  NaN   \n",
       "\n",
       "    SE Split Notes  yes  \n",
       "320            NaN  yes  "
      ]
     },
     "execution_count": 118,
     "metadata": {},
     "output_type": "execute_result"
    }
   ],
   "source": [
    "william_brucker.head(1)"
   ]
  },
  {
   "cell_type": "code",
   "execution_count": 119,
   "id": "b07315f3-be0d-4564-bf48-b9266efe69d1",
   "metadata": {},
   "outputs": [],
   "source": [
    "brucker_indivdual = william_brucker['Net Amount'].sum()"
   ]
  },
  {
   "cell_type": "code",
   "execution_count": 120,
   "id": "d734d733-cff5-4bdf-a8aa-0d45ce96581a",
   "metadata": {},
   "outputs": [
    {
     "name": "stdout",
     "output_type": "stream",
     "text": [
      "9567.93\n"
     ]
    }
   ],
   "source": [
    "print(brucker_indivdual)"
   ]
  },
  {
   "cell_type": "code",
   "execution_count": 121,
   "id": "895a9748-a85e-472c-a357-9037cf388282",
   "metadata": {},
   "outputs": [],
   "source": [
    "brucker_regional = (west/170000)*500"
   ]
  },
  {
   "cell_type": "code",
   "execution_count": 122,
   "id": "bac25b94-0fc5-443f-92cc-9539e6e5404c",
   "metadata": {},
   "outputs": [],
   "source": [
    "brucker_1 = (william_brucker['Net Amount'] * 0.0666).sum() + brucker_regional"
   ]
  },
  {
   "cell_type": "code",
   "execution_count": 123,
   "id": "4e44aad6-a165-4bca-8e1c-5853e221f319",
   "metadata": {},
   "outputs": [
    {
     "name": "stdout",
     "output_type": "stream",
     "text": [
      "1082.5971085882352\n"
     ]
    }
   ],
   "source": [
    "print(brucker_1)"
   ]
  },
  {
   "cell_type": "code",
   "execution_count": 124,
   "id": "bba9d9b7-6678-4396-83fd-b2e4cd2d648f",
   "metadata": {},
   "outputs": [],
   "source": [
    "william_brucker.loc[11111] = ['Total Indivdual Bookings:', brucker_indivdual, '', '' ,'','','','','','','','','','','','','']"
   ]
  },
  {
   "cell_type": "code",
   "execution_count": 125,
   "id": "8e0b6afa-9830-464c-bbbc-7cec83a43284",
   "metadata": {},
   "outputs": [],
   "source": [
    "william_brucker.loc[11112] = ['Regional Payment:', brucker_regional, '', '' ,'','','','','','','','','','','','','']"
   ]
  },
  {
   "cell_type": "code",
   "execution_count": 126,
   "id": "b2c5e348-7566-4782-b6d8-e06487d522da",
   "metadata": {},
   "outputs": [],
   "source": [
    "william_brucker.loc[11113] = ['Total Payout:', brucker_1, '', '' ,'','','','','','','','','','','','','']"
   ]
  },
  {
   "cell_type": "code",
   "execution_count": 127,
   "id": "0dee11b2-6fa7-4e0f-935f-a47649a3199a",
   "metadata": {},
   "outputs": [],
   "source": [
    "william_brucker.to_excel(os.path.join('SE','brucker_july_2022.xlsx'), index=False)"
   ]
  },
  {
   "cell_type": "markdown",
   "id": "e4f672bf-2cd5-4752-a6ed-9d6a900a6fc8",
   "metadata": {},
   "source": [
    "#### End William Brucker"
   ]
  },
  {
   "cell_type": "markdown",
   "id": "a32d3942-aede-4943-8708-82571ac32aa4",
   "metadata": {},
   "source": [
    "### Perry Allen - West"
   ]
  },
  {
   "cell_type": "code",
   "execution_count": 128,
   "id": "1198f923-935c-49b8-a2f6-5eb5b5271e8c",
   "metadata": {},
   "outputs": [
    {
     "data": {
      "text/html": [
       "<div>\n",
       "<style scoped>\n",
       "    .dataframe tbody tr th:only-of-type {\n",
       "        vertical-align: middle;\n",
       "    }\n",
       "\n",
       "    .dataframe tbody tr th {\n",
       "        vertical-align: top;\n",
       "    }\n",
       "\n",
       "    .dataframe thead th {\n",
       "        text-align: right;\n",
       "    }\n",
       "</style>\n",
       "<table border=\"1\" class=\"dataframe\">\n",
       "  <thead>\n",
       "    <tr style=\"text-align: right;\">\n",
       "      <th></th>\n",
       "      <th>SE Assigned</th>\n",
       "      <th>Account Name</th>\n",
       "      <th>Opportunity Name</th>\n",
       "      <th>Net Amount</th>\n",
       "      <th>Close Date</th>\n",
       "      <th>Quote Number</th>\n",
       "      <th>Order Number</th>\n",
       "      <th>Data Centers</th>\n",
       "      <th>Type</th>\n",
       "      <th>Partner</th>\n",
       "      <th>Master Agent</th>\n",
       "      <th>Stage</th>\n",
       "      <th>Opportunity Owner</th>\n",
       "      <th>Secondary SE</th>\n",
       "      <th>SE Split Percentage</th>\n",
       "      <th>SE Split Notes</th>\n",
       "      <th>yes</th>\n",
       "    </tr>\n",
       "  </thead>\n",
       "  <tbody>\n",
       "    <tr>\n",
       "      <th>296</th>\n",
       "      <td>Perry Allen</td>\n",
       "      <td>Akamai Technologies</td>\n",
       "      <td>AKMI/Colocation/IAD1/16 Linode Racks - Phase 1</td>\n",
       "      <td>26400.0</td>\n",
       "      <td>2022-07-28 00:00:00</td>\n",
       "      <td>64944</td>\n",
       "      <td>64944</td>\n",
       "      <td>IAD1</td>\n",
       "      <td>New</td>\n",
       "      <td>NaN</td>\n",
       "      <td>NaN</td>\n",
       "      <td>Closed Won</td>\n",
       "      <td>Patrick Chapa</td>\n",
       "      <td>Michael Alvaro</td>\n",
       "      <td>NaN</td>\n",
       "      <td>50/50</td>\n",
       "      <td>yes</td>\n",
       "    </tr>\n",
       "  </tbody>\n",
       "</table>\n",
       "</div>"
      ],
      "text/plain": [
       "     SE Assigned         Account Name  \\\n",
       "296  Perry Allen  Akamai Technologies   \n",
       "\n",
       "                                   Opportunity Name  Net Amount  \\\n",
       "296  AKMI/Colocation/IAD1/16 Linode Racks - Phase 1     26400.0   \n",
       "\n",
       "              Close Date Quote Number Order Number Data Centers Type Partner  \\\n",
       "296  2022-07-28 00:00:00        64944        64944         IAD1  New     NaN   \n",
       "\n",
       "    Master Agent       Stage Opportunity Owner    Secondary SE  \\\n",
       "296          NaN  Closed Won     Patrick Chapa  Michael Alvaro   \n",
       "\n",
       "     SE Split Percentage SE Split Notes  yes  \n",
       "296                  NaN          50/50  yes  "
      ]
     },
     "execution_count": 128,
     "metadata": {},
     "output_type": "execute_result"
    }
   ],
   "source": [
    "perry_allen.head(1)"
   ]
  },
  {
   "cell_type": "code",
   "execution_count": 129,
   "id": "6db59f2b-747c-4edc-88d3-c995a4bcafe4",
   "metadata": {},
   "outputs": [],
   "source": [
    "allen_indivdual = perry_allen['Net Amount'].sum()"
   ]
  },
  {
   "cell_type": "code",
   "execution_count": 130,
   "id": "5d7b3fca-92af-4e74-b1df-32fc5662701e",
   "metadata": {},
   "outputs": [
    {
     "name": "stdout",
     "output_type": "stream",
     "text": [
      "52293.53999999999\n"
     ]
    }
   ],
   "source": [
    "print(allen_indivdual)"
   ]
  },
  {
   "cell_type": "code",
   "execution_count": 131,
   "id": "9344fcac-0e99-4905-bc8d-4907ecc7860a",
   "metadata": {},
   "outputs": [],
   "source": [
    "allen_regional = (west/170000)*667"
   ]
  },
  {
   "cell_type": "code",
   "execution_count": 132,
   "id": "aea25b1a-4c70-4b6d-8fa5-3ed21a50ceb0",
   "metadata": {},
   "outputs": [],
   "source": [
    "allen_1 = (perry_allen['Net Amount'] * 0.0888).sum() + allen_regional"
   ]
  },
  {
   "cell_type": "code",
   "execution_count": 133,
   "id": "b4c20234-02a6-4096-9553-30b45dd41f3a",
   "metadata": {},
   "outputs": [
    {
     "name": "stdout",
     "output_type": "stream",
     "text": [
      "5237.793894764707\n"
     ]
    }
   ],
   "source": [
    "print(allen_1)"
   ]
  },
  {
   "cell_type": "code",
   "execution_count": 134,
   "id": "195a7434-4264-4c88-a29d-9adc98bba05c",
   "metadata": {},
   "outputs": [],
   "source": [
    "perry_allen.loc[11111] = ['Total Indivdual Bookings:', allen_indivdual, '', '' ,'','','','','','','','','','','','','']"
   ]
  },
  {
   "cell_type": "code",
   "execution_count": 135,
   "id": "dd05183e-e8d2-45aa-9212-472a6b6a4ba7",
   "metadata": {},
   "outputs": [],
   "source": [
    "perry_allen.loc[11112] = ['Regional Payment:', allen_regional, '', '' ,'','','','','','','','','','','','','']"
   ]
  },
  {
   "cell_type": "code",
   "execution_count": 136,
   "id": "a50ede93-222c-4470-8e34-2f1f25547a5d",
   "metadata": {},
   "outputs": [],
   "source": [
    "perry_allen.loc[11113] = ['Total Payout:', allen_1, '', '' ,'','','','','','','','','','','','','']"
   ]
  },
  {
   "cell_type": "code",
   "execution_count": 137,
   "id": "5f2c2f27-805c-40a7-9173-ff3c7d82ec23",
   "metadata": {},
   "outputs": [],
   "source": [
    "perry_allen.to_excel(os.path.join('SE','allen_july_2022.xlsx'), index=False)"
   ]
  },
  {
   "cell_type": "markdown",
   "id": "8b00c25e-c6bb-4b44-80a3-2de299945f8b",
   "metadata": {},
   "source": [
    "#### End Perry Allen "
   ]
  },
  {
   "cell_type": "markdown",
   "id": "8f0bdb22-73f5-4cb5-8eee-1d3055b1b33d",
   "metadata": {},
   "source": [
    "### Greg Ryman - West"
   ]
  },
  {
   "cell_type": "code",
   "execution_count": 138,
   "id": "8fcf71ba-d721-456d-b453-0721b5643cec",
   "metadata": {},
   "outputs": [
    {
     "data": {
      "text/html": [
       "<div>\n",
       "<style scoped>\n",
       "    .dataframe tbody tr th:only-of-type {\n",
       "        vertical-align: middle;\n",
       "    }\n",
       "\n",
       "    .dataframe tbody tr th {\n",
       "        vertical-align: top;\n",
       "    }\n",
       "\n",
       "    .dataframe thead th {\n",
       "        text-align: right;\n",
       "    }\n",
       "</style>\n",
       "<table border=\"1\" class=\"dataframe\">\n",
       "  <thead>\n",
       "    <tr style=\"text-align: right;\">\n",
       "      <th></th>\n",
       "      <th>SE Assigned</th>\n",
       "      <th>Account Name</th>\n",
       "      <th>Opportunity Name</th>\n",
       "      <th>Net Amount</th>\n",
       "      <th>Close Date</th>\n",
       "      <th>Quote Number</th>\n",
       "      <th>Order Number</th>\n",
       "      <th>Data Centers</th>\n",
       "      <th>Type</th>\n",
       "      <th>Partner</th>\n",
       "      <th>Master Agent</th>\n",
       "      <th>Stage</th>\n",
       "      <th>Opportunity Owner</th>\n",
       "      <th>Secondary SE</th>\n",
       "      <th>SE Split Percentage</th>\n",
       "      <th>SE Split Notes</th>\n",
       "      <th>yes</th>\n",
       "    </tr>\n",
       "  </thead>\n",
       "  <tbody>\n",
       "    <tr>\n",
       "      <th>161</th>\n",
       "      <td>Greg Ryman</td>\n",
       "      <td>Axos Bank</td>\n",
       "      <td>AxosBank/Renewal/SAN1/07312022</td>\n",
       "      <td>5584.0</td>\n",
       "      <td>2022-07-28 00:00:00</td>\n",
       "      <td>62591</td>\n",
       "      <td>62591</td>\n",
       "      <td>SAN1</td>\n",
       "      <td>Renewal</td>\n",
       "      <td>DataCenterAndColocation</td>\n",
       "      <td>UpStack</td>\n",
       "      <td>Closed Won</td>\n",
       "      <td>Rebecca Shaffer</td>\n",
       "      <td>NaN</td>\n",
       "      <td>NaN</td>\n",
       "      <td>NaN</td>\n",
       "      <td>yes</td>\n",
       "    </tr>\n",
       "  </tbody>\n",
       "</table>\n",
       "</div>"
      ],
      "text/plain": [
       "    SE Assigned Account Name                Opportunity Name  Net Amount  \\\n",
       "161  Greg Ryman    Axos Bank  AxosBank/Renewal/SAN1/07312022      5584.0   \n",
       "\n",
       "              Close Date Quote Number Order Number Data Centers     Type  \\\n",
       "161  2022-07-28 00:00:00        62591        62591         SAN1  Renewal   \n",
       "\n",
       "                     Partner Master Agent       Stage Opportunity Owner  \\\n",
       "161  DataCenterAndColocation      UpStack  Closed Won   Rebecca Shaffer   \n",
       "\n",
       "    Secondary SE  SE Split Percentage SE Split Notes  yes  \n",
       "161          NaN                  NaN            NaN  yes  "
      ]
     },
     "execution_count": 138,
     "metadata": {},
     "output_type": "execute_result"
    }
   ],
   "source": [
    "greg_ryman.head(1)"
   ]
  },
  {
   "cell_type": "code",
   "execution_count": 139,
   "id": "97f589e6-218f-4305-b320-687962f1ce04",
   "metadata": {},
   "outputs": [],
   "source": [
    "ryman_indivdual = greg_ryman['Net Amount'].sum()"
   ]
  },
  {
   "cell_type": "code",
   "execution_count": 140,
   "id": "99020353-0bab-41aa-97ce-ba5e13eeabcc",
   "metadata": {},
   "outputs": [
    {
     "name": "stdout",
     "output_type": "stream",
     "text": [
      "11077.14\n"
     ]
    }
   ],
   "source": [
    "print(ryman_indivdual)"
   ]
  },
  {
   "cell_type": "code",
   "execution_count": 141,
   "id": "16f14990-563d-4930-83ad-4c5ca77ecce5",
   "metadata": {},
   "outputs": [],
   "source": [
    "ryman_regional = (west/170000)*500"
   ]
  },
  {
   "cell_type": "code",
   "execution_count": 142,
   "id": "081a711a-7b79-4762-a9be-8eac9d30784a",
   "metadata": {},
   "outputs": [],
   "source": [
    "ryman_1 = (greg_ryman['Net Amount'] * 0.0666).sum() + ryman_regional"
   ]
  },
  {
   "cell_type": "code",
   "execution_count": 143,
   "id": "2cf30d47-f536-4b0a-aee9-5d03bded46ca",
   "metadata": {},
   "outputs": [
    {
     "name": "stdout",
     "output_type": "stream",
     "text": [
      "1183.1104945882353\n"
     ]
    }
   ],
   "source": [
    "print(ryman_1)"
   ]
  },
  {
   "cell_type": "code",
   "execution_count": 144,
   "id": "f08809b1-17c9-47ec-a8cd-743025104667",
   "metadata": {},
   "outputs": [],
   "source": [
    "greg_ryman.loc[11111] = ['Indivdual Bookings:', ryman_indivdual, '', '' ,'','','','','','','','','','','','','']"
   ]
  },
  {
   "cell_type": "code",
   "execution_count": 145,
   "id": "140a3e38-1ff0-49e5-9924-956b30098e74",
   "metadata": {},
   "outputs": [],
   "source": [
    "greg_ryman.loc[11112] = ['Regional Payment:', ryman_regional, '', '' ,'','','','','','','','','','','','','']"
   ]
  },
  {
   "cell_type": "code",
   "execution_count": 146,
   "id": "c03838e7-9ba5-4de5-9da8-df30c5b16422",
   "metadata": {},
   "outputs": [],
   "source": [
    "greg_ryman.loc[11113] = ['Total Payout:', ryman_1, '', '' ,'','','','','','','','','','','','','']"
   ]
  },
  {
   "cell_type": "code",
   "execution_count": 147,
   "id": "c849ef68-55fb-46c3-b31d-d7d3d43074f4",
   "metadata": {},
   "outputs": [],
   "source": [
    "greg_ryman.to_excel(os.path.join('SE','ryman_july_2022.xlsx'), index=False)"
   ]
  },
  {
   "cell_type": "markdown",
   "id": "c2db8ce8-855c-42fe-bc6b-feccffefcd1e",
   "metadata": {},
   "source": [
    "#### End Greg Ryman"
   ]
  },
  {
   "cell_type": "markdown",
   "id": "a87ae777-910d-4b3f-884c-3a58f7fe6394",
   "metadata": {},
   "source": [
    "### Grady Vogt"
   ]
  },
  {
   "cell_type": "code",
   "execution_count": 148,
   "id": "2c81b792-e65b-41aa-b023-c5b3f4460bc7",
   "metadata": {},
   "outputs": [
    {
     "data": {
      "text/html": [
       "<div>\n",
       "<style scoped>\n",
       "    .dataframe tbody tr th:only-of-type {\n",
       "        vertical-align: middle;\n",
       "    }\n",
       "\n",
       "    .dataframe tbody tr th {\n",
       "        vertical-align: top;\n",
       "    }\n",
       "\n",
       "    .dataframe thead th {\n",
       "        text-align: right;\n",
       "    }\n",
       "</style>\n",
       "<table border=\"1\" class=\"dataframe\">\n",
       "  <thead>\n",
       "    <tr style=\"text-align: right;\">\n",
       "      <th></th>\n",
       "      <th>SE Assigned</th>\n",
       "      <th>Account Name</th>\n",
       "      <th>Opportunity Name</th>\n",
       "      <th>Net Amount</th>\n",
       "      <th>Close Date</th>\n",
       "      <th>Quote Number</th>\n",
       "      <th>Order Number</th>\n",
       "      <th>Data Centers</th>\n",
       "      <th>Type</th>\n",
       "      <th>Partner</th>\n",
       "      <th>Master Agent</th>\n",
       "      <th>Stage</th>\n",
       "      <th>Opportunity Owner</th>\n",
       "      <th>Secondary SE</th>\n",
       "      <th>SE Split Percentage</th>\n",
       "      <th>SE Split Notes</th>\n",
       "      <th>yes</th>\n",
       "    </tr>\n",
       "  </thead>\n",
       "  <tbody>\n",
       "    <tr>\n",
       "      <th>128</th>\n",
       "      <td>Grady Vogt</td>\n",
       "      <td>Target Corporation</td>\n",
       "      <td>Target - MSP4 - Cabinet and Power for Rectifier</td>\n",
       "      <td>1710.0</td>\n",
       "      <td>2022-07-19 00:00:00</td>\n",
       "      <td>63674</td>\n",
       "      <td>63674</td>\n",
       "      <td>MSP4</td>\n",
       "      <td>Existing</td>\n",
       "      <td>NaN</td>\n",
       "      <td>NaN</td>\n",
       "      <td>Closed Won</td>\n",
       "      <td>Ronald Heltemes</td>\n",
       "      <td>NaN</td>\n",
       "      <td>NaN</td>\n",
       "      <td>NaN</td>\n",
       "      <td>yes</td>\n",
       "    </tr>\n",
       "  </tbody>\n",
       "</table>\n",
       "</div>"
      ],
      "text/plain": [
       "    SE Assigned        Account Name  \\\n",
       "128  Grady Vogt  Target Corporation   \n",
       "\n",
       "                                    Opportunity Name  Net Amount  \\\n",
       "128  Target - MSP4 - Cabinet and Power for Rectifier      1710.0   \n",
       "\n",
       "              Close Date Quote Number Order Number Data Centers      Type  \\\n",
       "128  2022-07-19 00:00:00        63674        63674         MSP4  Existing   \n",
       "\n",
       "    Partner Master Agent       Stage Opportunity Owner Secondary SE  \\\n",
       "128     NaN          NaN  Closed Won   Ronald Heltemes          NaN   \n",
       "\n",
       "     SE Split Percentage SE Split Notes  yes  \n",
       "128                  NaN            NaN  yes  "
      ]
     },
     "execution_count": 148,
     "metadata": {},
     "output_type": "execute_result"
    }
   ],
   "source": [
    "grady_vogt.head(1)"
   ]
  },
  {
   "cell_type": "code",
   "execution_count": 149,
   "id": "13b527fa-645f-4f56-bf7e-d1491dc1a165",
   "metadata": {},
   "outputs": [],
   "source": [
    "vogt_indivdual = grady_vogt['Net Amount'].sum()"
   ]
  },
  {
   "cell_type": "code",
   "execution_count": 150,
   "id": "0c01577c-ffe0-4381-88b4-eb009b3fc39f",
   "metadata": {},
   "outputs": [
    {
     "name": "stdout",
     "output_type": "stream",
     "text": [
      "8309.16\n"
     ]
    }
   ],
   "source": [
    "print(vogt_indivdual)"
   ]
  },
  {
   "cell_type": "code",
   "execution_count": 151,
   "id": "d9a44a32-19ef-4a20-91d8-7bc0bcda6286",
   "metadata": {},
   "outputs": [],
   "source": [
    "vogt_regional = (west/170000)*667"
   ]
  },
  {
   "cell_type": "code",
   "execution_count": 152,
   "id": "969979cf-d2e9-4867-a8bf-7bf59c51bd0e",
   "metadata": {},
   "outputs": [
    {
     "name": "stdout",
     "output_type": "stream",
     "text": [
      "594.1275427647058\n"
     ]
    }
   ],
   "source": [
    "print(vogt_regional)"
   ]
  },
  {
   "cell_type": "code",
   "execution_count": 153,
   "id": "464c9afe-4ced-4c94-8e60-989f79667ac6",
   "metadata": {},
   "outputs": [],
   "source": [
    "vogt_1 = (grady_vogt['Net Amount'] * 0.0888).sum() + vogt_regional"
   ]
  },
  {
   "cell_type": "code",
   "execution_count": 154,
   "id": "2412b0fb-adc0-4621-b9b0-2a97aab98b04",
   "metadata": {},
   "outputs": [
    {
     "name": "stdout",
     "output_type": "stream",
     "text": [
      "1331.9809507647058\n"
     ]
    }
   ],
   "source": [
    "print(vogt_1)"
   ]
  },
  {
   "cell_type": "code",
   "execution_count": 155,
   "id": "02d73c27-9418-4a35-b569-30b635a2efab",
   "metadata": {},
   "outputs": [],
   "source": [
    "grady_vogt.loc[11111] = ['Total Indivdual Bookings:', '', '', vogt_indivdual ,'','','','','','','','','','','','','']"
   ]
  },
  {
   "cell_type": "code",
   "execution_count": 156,
   "id": "e9ad2547-10d9-4fd5-aec3-1429656a7165",
   "metadata": {},
   "outputs": [],
   "source": [
    "grady_vogt.loc[11112] = ['Regional Payment:', '', '', vogt_regional ,'','','','','','','','','','','','','']"
   ]
  },
  {
   "cell_type": "code",
   "execution_count": 157,
   "id": "50922d94-4133-4454-907c-d7267ff61de1",
   "metadata": {},
   "outputs": [],
   "source": [
    "grady_vogt.loc[11113] = ['Total Payout:', '', '', vogt_1 ,'','','','','','','','','','','','','']"
   ]
  },
  {
   "cell_type": "code",
   "execution_count": 158,
   "id": "30eb87b5-f3c1-4c1c-b5e7-f716a865e508",
   "metadata": {},
   "outputs": [],
   "source": [
    "grady_vogt.to_excel(os.path.join('SE','vogt_july_2022.xlsx'), index=False)"
   ]
  },
  {
   "cell_type": "markdown",
   "id": "ff284b87-b636-4b41-b685-3aecd3b0e3e2",
   "metadata": {},
   "source": [
    "#### End Grady Vogt"
   ]
  },
  {
   "cell_type": "markdown",
   "id": "f2aaa537-e8b6-4b57-920f-ea5a4e5f371c",
   "metadata": {
    "tags": []
   },
   "source": [
    "### Daniel Bartholomew"
   ]
  },
  {
   "cell_type": "code",
   "execution_count": 159,
   "id": "fcf493c8-543e-410b-96c8-10bcaee4a008",
   "metadata": {},
   "outputs": [
    {
     "data": {
      "text/html": [
       "<div>\n",
       "<style scoped>\n",
       "    .dataframe tbody tr th:only-of-type {\n",
       "        vertical-align: middle;\n",
       "    }\n",
       "\n",
       "    .dataframe tbody tr th {\n",
       "        vertical-align: top;\n",
       "    }\n",
       "\n",
       "    .dataframe thead th {\n",
       "        text-align: right;\n",
       "    }\n",
       "</style>\n",
       "<table border=\"1\" class=\"dataframe\">\n",
       "  <thead>\n",
       "    <tr style=\"text-align: right;\">\n",
       "      <th></th>\n",
       "      <th>SE Assigned</th>\n",
       "      <th>Account Name</th>\n",
       "      <th>Opportunity Name</th>\n",
       "      <th>Net Amount</th>\n",
       "      <th>Close Date</th>\n",
       "      <th>Quote Number</th>\n",
       "      <th>Order Number</th>\n",
       "      <th>Data Centers</th>\n",
       "      <th>Type</th>\n",
       "      <th>Partner</th>\n",
       "      <th>Master Agent</th>\n",
       "      <th>Stage</th>\n",
       "      <th>Opportunity Owner</th>\n",
       "      <th>Secondary SE</th>\n",
       "      <th>SE Split Percentage</th>\n",
       "      <th>SE Split Notes</th>\n",
       "      <th>yes</th>\n",
       "    </tr>\n",
       "  </thead>\n",
       "  <tbody>\n",
       "    <tr>\n",
       "      <th>99</th>\n",
       "      <td>Daniel Bartholomew</td>\n",
       "      <td>Survey Sampling International, LLC</td>\n",
       "      <td>Dynata SLC2 Power Whip Add 06212022</td>\n",
       "      <td>4998.0</td>\n",
       "      <td>2022-07-23 00:00:00</td>\n",
       "      <td>64089</td>\n",
       "      <td>64089</td>\n",
       "      <td>SLC2</td>\n",
       "      <td>New</td>\n",
       "      <td>Lightstream</td>\n",
       "      <td>Lightstream</td>\n",
       "      <td>Closed Won</td>\n",
       "      <td>Krystin Tagaris</td>\n",
       "      <td>NaN</td>\n",
       "      <td>NaN</td>\n",
       "      <td>NaN</td>\n",
       "      <td>yes</td>\n",
       "    </tr>\n",
       "  </tbody>\n",
       "</table>\n",
       "</div>"
      ],
      "text/plain": [
       "           SE Assigned                        Account Name  \\\n",
       "99  Daniel Bartholomew  Survey Sampling International, LLC   \n",
       "\n",
       "                       Opportunity Name  Net Amount           Close Date  \\\n",
       "99  Dynata SLC2 Power Whip Add 06212022      4998.0  2022-07-23 00:00:00   \n",
       "\n",
       "   Quote Number Order Number Data Centers Type      Partner Master Agent  \\\n",
       "99        64089        64089         SLC2  New  Lightstream  Lightstream   \n",
       "\n",
       "         Stage Opportunity Owner Secondary SE  SE Split Percentage  \\\n",
       "99  Closed Won   Krystin Tagaris          NaN                  NaN   \n",
       "\n",
       "   SE Split Notes  yes  \n",
       "99            NaN  yes  "
      ]
     },
     "execution_count": 159,
     "metadata": {},
     "output_type": "execute_result"
    }
   ],
   "source": [
    "daniel_bartholomew.head(1)"
   ]
  },
  {
   "cell_type": "code",
   "execution_count": 160,
   "id": "90baf0d5-2bbe-4d43-bce9-cdeec28d4ca2",
   "metadata": {},
   "outputs": [],
   "source": [
    "bartholomew_indivdual = daniel_bartholomew['Net Amount'].sum()"
   ]
  },
  {
   "cell_type": "code",
   "execution_count": 161,
   "id": "cd3d350e-587e-4cb3-86d0-3d2397afc422",
   "metadata": {},
   "outputs": [
    {
     "name": "stdout",
     "output_type": "stream",
     "text": [
      "11656.2\n"
     ]
    }
   ],
   "source": [
    "print(bartholomew_indivdual)"
   ]
  },
  {
   "cell_type": "code",
   "execution_count": 162,
   "id": "23ce58d9-cb00-4e6d-95cc-a20060728a16",
   "metadata": {},
   "outputs": [],
   "source": [
    "bartholomew_regional = (west/170000)*667"
   ]
  },
  {
   "cell_type": "code",
   "execution_count": 163,
   "id": "8bceaeed-9d70-4c22-9513-cccbf828a890",
   "metadata": {},
   "outputs": [],
   "source": [
    "bartholomew_1 = (daniel_bartholomew['Net Amount'] * 0.0888).sum() + bartholomew_regional"
   ]
  },
  {
   "cell_type": "code",
   "execution_count": 164,
   "id": "3228aabc-50d9-4c6e-9759-300833fbb8c1",
   "metadata": {},
   "outputs": [
    {
     "name": "stdout",
     "output_type": "stream",
     "text": [
      "1629.198102764706\n"
     ]
    }
   ],
   "source": [
    "print(bartholomew_1)"
   ]
  },
  {
   "cell_type": "code",
   "execution_count": 165,
   "id": "c469b6c2-d4b3-4f30-9fcc-6655a39fcf8c",
   "metadata": {},
   "outputs": [],
   "source": [
    "daniel_bartholomew.loc[11111] = ['Total Indivdual Bookings:', bartholomew_indivdual, '', '' ,'','','','','','','','','','','','','']"
   ]
  },
  {
   "cell_type": "code",
   "execution_count": 166,
   "id": "06510cf6-6c60-4bd4-a6fd-fe090fa3b3fc",
   "metadata": {},
   "outputs": [],
   "source": [
    "daniel_bartholomew.loc[11112] = ['Regional Payment:', bartholomew_regional, '', '' ,'','','','','','','','','','','','','']"
   ]
  },
  {
   "cell_type": "code",
   "execution_count": 167,
   "id": "431e994f-44ea-4384-8ea9-a5d4a91e5379",
   "metadata": {},
   "outputs": [],
   "source": [
    "daniel_bartholomew.loc[11113] = ['Total Payout:', bartholomew_1, '', '' ,'','','','','','','','','','','','','']"
   ]
  },
  {
   "cell_type": "code",
   "execution_count": 168,
   "id": "241d91d8-b10f-4cc4-aa79-895225395bac",
   "metadata": {},
   "outputs": [],
   "source": [
    "daniel_bartholomew.to_excel(os.path.join('SE','Bartholomew_july_2022.xlsx'), index=False)"
   ]
  },
  {
   "cell_type": "markdown",
   "id": "b497f9c5-2c70-4ea0-8558-c96e4c679846",
   "metadata": {
    "jp-MarkdownHeadingCollapsed": true,
    "tags": []
   },
   "source": [
    "#### End Daniel Bartholomew"
   ]
  },
  {
   "cell_type": "markdown",
   "id": "beee20ca-758f-43c7-b725-225a33797782",
   "metadata": {
    "tags": []
   },
   "source": [
    "### End SEs"
   ]
  },
  {
   "cell_type": "markdown",
   "id": "4c327415-042c-45bf-bad7-f34c6e042ef2",
   "metadata": {
    "tags": []
   },
   "source": [
    "## Sheet For Payroll"
   ]
  },
  {
   "cell_type": "code",
   "execution_count": 169,
   "id": "a990ddf8-255d-4023-a49e-db20d3a22858",
   "metadata": {},
   "outputs": [],
   "source": [
    "se_by_period = pd.DataFrame(columns=['Name:', 'Payout:'])"
   ]
  },
  {
   "cell_type": "code",
   "execution_count": 170,
   "id": "6d5848c2-05c2-4199-a558-9589c07aa0d7",
   "metadata": {},
   "outputs": [],
   "source": [
    "se_by_period.loc[0] = ['East:', '']"
   ]
  },
  {
   "cell_type": "code",
   "execution_count": 171,
   "id": "c38ef91c-2803-41db-b25b-08ea14247209",
   "metadata": {},
   "outputs": [],
   "source": [
    "se_by_period.loc[1] = ['Brendon Yoder', yoder_1]"
   ]
  },
  {
   "cell_type": "code",
   "execution_count": 172,
   "id": "0d411ffe-a5a7-4ea9-b4ed-1c85f6999f50",
   "metadata": {},
   "outputs": [],
   "source": [
    "se_by_period.loc[2] = ['Eric Wooster', wooster_1]"
   ]
  },
  {
   "cell_type": "code",
   "execution_count": 173,
   "id": "d42ef774-e2dc-485b-b9d3-4eb2b26ab22c",
   "metadata": {},
   "outputs": [],
   "source": [
    "se_by_period.loc[3] = ['Greg Manning', manning_1]"
   ]
  },
  {
   "cell_type": "code",
   "execution_count": 174,
   "id": "7fe42070-6d6c-413d-9fc7-8befeca9ccd5",
   "metadata": {},
   "outputs": [],
   "source": [
    "se_by_period.loc[4] = ['John Davis', davis_1 ]"
   ]
  },
  {
   "cell_type": "code",
   "execution_count": 175,
   "id": "43b221ea-cc72-4434-ad64-d3ccb9b42be2",
   "metadata": {},
   "outputs": [],
   "source": [
    "se_by_period.loc[5] = ['Marshall Sapp', sapp_1 ]"
   ]
  },
  {
   "cell_type": "code",
   "execution_count": 176,
   "id": "cfc9476f-9779-4b41-a3eb-9eb4a80d171c",
   "metadata": {},
   "outputs": [],
   "source": [
    "se_by_period.loc[6] = ['Michael Alvaro', alvaro_1]"
   ]
  },
  {
   "cell_type": "code",
   "execution_count": 177,
   "id": "12f4fd6f-0d01-48a8-8fd6-7a946001738a",
   "metadata": {},
   "outputs": [],
   "source": [
    "se_by_period.loc[7] = ['Robert Zimmerman', robert_zimmerman_1 ]"
   ]
  },
  {
   "cell_type": "code",
   "execution_count": 178,
   "id": "4f5ef21e-00d7-4144-97d3-3ae20b6511ad",
   "metadata": {},
   "outputs": [],
   "source": [
    "#se_by_period.loc[8] = ['Greg Shamieh', shamieh_1 ]"
   ]
  },
  {
   "cell_type": "code",
   "execution_count": 179,
   "id": "a9e802df-9748-4006-a943-2629c896b75d",
   "metadata": {},
   "outputs": [],
   "source": [
    "se_by_period.loc[9] = ['West:', '']"
   ]
  },
  {
   "cell_type": "code",
   "execution_count": 180,
   "id": "d5ebda8f-d2df-40d2-8a30-1126432c262c",
   "metadata": {},
   "outputs": [],
   "source": [
    "se_by_period.loc[10] = ['Anthony McCloud', mccloud_1 ]"
   ]
  },
  {
   "cell_type": "code",
   "execution_count": 181,
   "id": "6a2645a8-1005-44d9-ac89-a4cb31ab2752",
   "metadata": {},
   "outputs": [],
   "source": [
    "se_by_period.loc[11] = ['Chris Chandler', chandler_1 ]"
   ]
  },
  {
   "cell_type": "code",
   "execution_count": 182,
   "id": "128eda7e-781b-4327-a45b-56988f5499a0",
   "metadata": {},
   "outputs": [],
   "source": [
    "se_by_period.loc[12] = ['Dan Bartholomew', bartholomew_1 ]"
   ]
  },
  {
   "cell_type": "code",
   "execution_count": 183,
   "id": "63d6a59f-81a9-4450-9b4e-2dc2e44e1993",
   "metadata": {},
   "outputs": [],
   "source": [
    "se_by_period.loc[13] = ['Grady Vogt', vogt_1 ]"
   ]
  },
  {
   "cell_type": "code",
   "execution_count": 184,
   "id": "b5e09bd4-1b12-4934-abea-f8346ced9b65",
   "metadata": {},
   "outputs": [],
   "source": [
    "se_by_period.loc[14] = ['Greg Ryman', ryman_1 ]"
   ]
  },
  {
   "cell_type": "code",
   "execution_count": 185,
   "id": "b712afb2-721b-433c-a8d4-03f96f385c39",
   "metadata": {},
   "outputs": [],
   "source": [
    "se_by_period.loc[15] = ['Perry Allen', allen_1 ]"
   ]
  },
  {
   "cell_type": "code",
   "execution_count": 186,
   "id": "d9e1b092-ff54-4b44-89dc-3240e7639e8c",
   "metadata": {},
   "outputs": [],
   "source": [
    "se_by_period.loc[16] = ['William Brucker', brucker_1 ]"
   ]
  },
  {
   "cell_type": "code",
   "execution_count": 187,
   "id": "36111b3e-da1b-4948-835a-968389f9eefc",
   "metadata": {},
   "outputs": [],
   "source": [
    "se_by_period.loc[17] = ['Eric Carter', eric_carter_1 ]"
   ]
  },
  {
   "cell_type": "code",
   "execution_count": 188,
   "id": "bc551d61-9317-4fbd-aa69-b017544d7ba9",
   "metadata": {},
   "outputs": [
    {
     "data": {
      "text/html": [
       "<div>\n",
       "<style scoped>\n",
       "    .dataframe tbody tr th:only-of-type {\n",
       "        vertical-align: middle;\n",
       "    }\n",
       "\n",
       "    .dataframe tbody tr th {\n",
       "        vertical-align: top;\n",
       "    }\n",
       "\n",
       "    .dataframe thead th {\n",
       "        text-align: right;\n",
       "    }\n",
       "</style>\n",
       "<table border=\"1\" class=\"dataframe\">\n",
       "  <thead>\n",
       "    <tr style=\"text-align: right;\">\n",
       "      <th></th>\n",
       "      <th>Name:</th>\n",
       "      <th>Payout:</th>\n",
       "    </tr>\n",
       "  </thead>\n",
       "  <tbody>\n",
       "    <tr>\n",
       "      <th>0</th>\n",
       "      <td>East:</td>\n",
       "      <td></td>\n",
       "    </tr>\n",
       "    <tr>\n",
       "      <th>1</th>\n",
       "      <td>Brendon Yoder</td>\n",
       "      <td>2067.067278</td>\n",
       "    </tr>\n",
       "    <tr>\n",
       "      <th>2</th>\n",
       "      <td>Eric Wooster</td>\n",
       "      <td>1095.827253</td>\n",
       "    </tr>\n",
       "    <tr>\n",
       "      <th>3</th>\n",
       "      <td>Greg Manning</td>\n",
       "      <td>3039.051465</td>\n",
       "    </tr>\n",
       "    <tr>\n",
       "      <th>4</th>\n",
       "      <td>John Davis</td>\n",
       "      <td>3532.549075</td>\n",
       "    </tr>\n",
       "    <tr>\n",
       "      <th>5</th>\n",
       "      <td>Marshall Sapp</td>\n",
       "      <td>3208.434823</td>\n",
       "    </tr>\n",
       "    <tr>\n",
       "      <th>6</th>\n",
       "      <td>Michael Alvaro</td>\n",
       "      <td>9649.124949</td>\n",
       "    </tr>\n",
       "    <tr>\n",
       "      <th>7</th>\n",
       "      <td>Robert Zimmerman</td>\n",
       "      <td>3641.13125</td>\n",
       "    </tr>\n",
       "    <tr>\n",
       "      <th>9</th>\n",
       "      <td>West:</td>\n",
       "      <td></td>\n",
       "    </tr>\n",
       "    <tr>\n",
       "      <th>10</th>\n",
       "      <td>Anthony McCloud</td>\n",
       "      <td>1323.027105</td>\n",
       "    </tr>\n",
       "    <tr>\n",
       "      <th>11</th>\n",
       "      <td>Chris Chandler</td>\n",
       "      <td>3465.339981</td>\n",
       "    </tr>\n",
       "    <tr>\n",
       "      <th>12</th>\n",
       "      <td>Dan Bartholomew</td>\n",
       "      <td>1629.198103</td>\n",
       "    </tr>\n",
       "    <tr>\n",
       "      <th>13</th>\n",
       "      <td>Grady Vogt</td>\n",
       "      <td>1331.980951</td>\n",
       "    </tr>\n",
       "    <tr>\n",
       "      <th>14</th>\n",
       "      <td>Greg Ryman</td>\n",
       "      <td>1183.110495</td>\n",
       "    </tr>\n",
       "    <tr>\n",
       "      <th>15</th>\n",
       "      <td>Perry Allen</td>\n",
       "      <td>5237.793895</td>\n",
       "    </tr>\n",
       "    <tr>\n",
       "      <th>16</th>\n",
       "      <td>William Brucker</td>\n",
       "      <td>1082.597109</td>\n",
       "    </tr>\n",
       "    <tr>\n",
       "      <th>17</th>\n",
       "      <td>Eric Carter</td>\n",
       "      <td>2968.856222</td>\n",
       "    </tr>\n",
       "  </tbody>\n",
       "</table>\n",
       "</div>"
      ],
      "text/plain": [
       "               Name:      Payout:\n",
       "0              East:             \n",
       "1      Brendon Yoder  2067.067278\n",
       "2       Eric Wooster  1095.827253\n",
       "3       Greg Manning  3039.051465\n",
       "4         John Davis  3532.549075\n",
       "5      Marshall Sapp  3208.434823\n",
       "6     Michael Alvaro  9649.124949\n",
       "7   Robert Zimmerman   3641.13125\n",
       "9              West:             \n",
       "10   Anthony McCloud  1323.027105\n",
       "11    Chris Chandler  3465.339981\n",
       "12   Dan Bartholomew  1629.198103\n",
       "13        Grady Vogt  1331.980951\n",
       "14        Greg Ryman  1183.110495\n",
       "15       Perry Allen  5237.793895\n",
       "16   William Brucker  1082.597109\n",
       "17       Eric Carter  2968.856222"
      ]
     },
     "execution_count": 188,
     "metadata": {},
     "output_type": "execute_result"
    }
   ],
   "source": [
    "se_by_period.head(100)"
   ]
  },
  {
   "cell_type": "code",
   "execution_count": 189,
   "id": "e7dd7e66-f823-4df3-b589-e91882350c48",
   "metadata": {},
   "outputs": [],
   "source": [
    "se_by_period.to_excel(os.path.join('SE','SE_july_2022.xlsx'), index=False)"
   ]
  },
  {
   "cell_type": "markdown",
   "id": "98868c86-24e1-4cbf-9203-8c30f4878bdd",
   "metadata": {
    "tags": []
   },
   "source": [
    "### End"
   ]
  },
  {
   "cell_type": "code",
   "execution_count": null,
   "id": "23f1aa58-fbe3-49b7-bd20-4766d2a47d50",
   "metadata": {},
   "outputs": [],
   "source": []
  }
 ],
 "metadata": {
  "kernelspec": {
   "display_name": "Python 3 (ipykernel)",
   "language": "python",
   "name": "python3"
  },
  "language_info": {
   "codemirror_mode": {
    "name": "ipython",
    "version": 3
   },
   "file_extension": ".py",
   "mimetype": "text/x-python",
   "name": "python",
   "nbconvert_exporter": "python",
   "pygments_lexer": "ipython3",
   "version": "3.9.7"
  },
  "vscode": {
   "interpreter": {
    "hash": "93520e3b97abbf787051ab7b7f90e780b709a3c4bf21f048fe3840ad79373056"
   }
  }
 },
 "nbformat": 4,
 "nbformat_minor": 5
}
