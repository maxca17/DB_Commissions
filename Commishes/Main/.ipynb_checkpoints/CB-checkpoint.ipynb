{
 "cells": [
  {
   "cell_type": "markdown",
   "id": "69dcfd2f-05a0-49e1-ac83-c21007a35e71",
   "metadata": {},
   "source": [
    "#### This section is for Channel bookings only "
   ]
  },
  {
   "cell_type": "markdown",
   "id": "4dcc8d78-39d2-4763-85b8-9105c995e31c",
   "metadata": {
    "tags": []
   },
   "source": [
    "### All imports will be used / are needed"
   ]
  },
  {
   "cell_type": "markdown",
   "id": "bf1d3dd7-15d3-449e-bf50-dca9de78164b",
   "metadata": {},
   "source": [
    "### Edit (Name)_payout if comp plans change"
   ]
  },
  {
   "cell_type": "code",
   "execution_count": 1,
   "id": "cf8ecec3-73de-4bc0-8da4-a09c0f3ca0a7",
   "metadata": {},
   "outputs": [],
   "source": [
    "#import openpyxl as py\n",
    "#from openpyxl import *\n",
    "import pandas as pd\n",
    "from pandas import *\n",
    "import numpy as np\n",
    "import ast as ast\n",
    "import pdfkit\n",
    "import fpdf\n",
    "#from img2pdf import *\n",
    "pd.options.mode.chained_assignment = None\n",
    "import os.path\n",
    "import matplotlib as plt\n",
    "from matplotlib.backends.backend_pdf import PdfPages"
   ]
  },
  {
   "cell_type": "markdown",
   "id": "9b6b095a-0bc0-4392-9251-5559580b096e",
   "metadata": {},
   "source": [
    "### Change to file name for current month for channel bookings. Must be within commishes file. "
   ]
  },
  {
   "cell_type": "code",
   "execution_count": 2,
   "id": "a3a96f3e-6648-475a-8bb1-00616ae51657",
   "metadata": {},
   "outputs": [],
   "source": [
    "names = pd.read_excel('channel_bookingsVF.xlsx')\n"
   ]
  },
  {
   "cell_type": "code",
   "execution_count": 3,
   "id": "d6fdee7f-4e05-4872-8342-25f8c95a3b13",
   "metadata": {},
   "outputs": [
    {
     "data": {
      "text/html": [
       "<div>\n",
       "<style scoped>\n",
       "    .dataframe tbody tr th:only-of-type {\n",
       "        vertical-align: middle;\n",
       "    }\n",
       "\n",
       "    .dataframe tbody tr th {\n",
       "        vertical-align: top;\n",
       "    }\n",
       "\n",
       "    .dataframe thead th {\n",
       "        text-align: right;\n",
       "    }\n",
       "</style>\n",
       "<table border=\"1\" class=\"dataframe\">\n",
       "  <thead>\n",
       "    <tr style=\"text-align: right;\">\n",
       "      <th></th>\n",
       "      <th>Account Name</th>\n",
       "      <th>Opportunity Name</th>\n",
       "      <th>New Logo</th>\n",
       "      <th>Quote Number</th>\n",
       "      <th>Order Number</th>\n",
       "      <th>Data Centers</th>\n",
       "      <th>Type</th>\n",
       "      <th>Lead Source</th>\n",
       "      <th>Booking Amount</th>\n",
       "      <th>Amount</th>\n",
       "      <th>Close Date</th>\n",
       "      <th>Stage</th>\n",
       "      <th>Opportunity Owner</th>\n",
       "      <th>Channel Rep</th>\n",
       "    </tr>\n",
       "  </thead>\n",
       "  <tbody>\n",
       "    <tr>\n",
       "      <th>0</th>\n",
       "      <td>Axos Bank</td>\n",
       "      <td>AxosBank/Renewal/SAN1/07312022</td>\n",
       "      <td>False</td>\n",
       "      <td>62591</td>\n",
       "      <td>62591</td>\n",
       "      <td>SAN1</td>\n",
       "      <td>Renewal</td>\n",
       "      <td>Partner</td>\n",
       "      <td>5584.0</td>\n",
       "      <td>5584.0</td>\n",
       "      <td>7/28/2022</td>\n",
       "      <td>Closed Won</td>\n",
       "      <td>Rebecca Shaffer</td>\n",
       "      <td>Wilhelm</td>\n",
       "    </tr>\n",
       "  </tbody>\n",
       "</table>\n",
       "</div>"
      ],
      "text/plain": [
       "  Account Name                Opportunity Name  New Logo  Quote Number  \\\n",
       "0    Axos Bank  AxosBank/Renewal/SAN1/07312022     False         62591   \n",
       "\n",
       "   Order Number Data Centers     Type Lead Source  Booking Amount  Amount  \\\n",
       "0         62591         SAN1  Renewal     Partner          5584.0  5584.0   \n",
       "\n",
       "  Close Date       Stage Opportunity Owner Channel Rep  \n",
       "0  7/28/2022  Closed Won   Rebecca Shaffer     Wilhelm  "
      ]
     },
     "execution_count": 3,
     "metadata": {},
     "output_type": "execute_result"
    }
   ],
   "source": [
    "names.head(1)"
   ]
  },
  {
   "cell_type": "code",
   "execution_count": 4,
   "id": "c8eb07cb-a754-422c-b2da-298ae58740a5",
   "metadata": {},
   "outputs": [
    {
     "data": {
      "text/plain": [
       "Index(['Account Name', 'Opportunity Name', 'New Logo', 'Quote Number',\n",
       "       'Order Number', 'Data Centers', 'Type', 'Lead Source', 'Booking Amount',\n",
       "       'Amount', 'Close Date', 'Stage', 'Opportunity Owner', 'Channel Rep'],\n",
       "      dtype='object')"
      ]
     },
     "execution_count": 4,
     "metadata": {},
     "output_type": "execute_result"
    }
   ],
   "source": [
    "names.columns"
   ]
  },
  {
   "cell_type": "code",
   "execution_count": 5,
   "id": "4f41dbc3-5905-4e28-9522-7741c9b3f04e",
   "metadata": {},
   "outputs": [
    {
     "data": {
      "text/plain": [
       "Account Name          object\n",
       "Opportunity Name      object\n",
       "New Logo                bool\n",
       "Quote Number           int64\n",
       "Order Number           int64\n",
       "Data Centers          object\n",
       "Type                  object\n",
       "Lead Source           object\n",
       "Booking Amount       float64\n",
       "Amount               float64\n",
       "Close Date            object\n",
       "Stage                 object\n",
       "Opportunity Owner     object\n",
       "Channel Rep           object\n",
       "dtype: object"
      ]
     },
     "execution_count": 5,
     "metadata": {},
     "output_type": "execute_result"
    }
   ],
   "source": [
    "names.dtypes"
   ]
  },
  {
   "cell_type": "code",
   "execution_count": 6,
   "id": "7feacbaa-8a8f-4d49-a93c-e92ded864cbb",
   "metadata": {},
   "outputs": [],
   "source": [
    "df = names.sort_values(by=['Channel Rep'])\n"
   ]
  },
  {
   "cell_type": "markdown",
   "id": "8302b481-3b80-4c0e-8afc-79277a3d7c89",
   "metadata": {
    "tags": []
   },
   "source": [
    "## Anyone new must be added below. "
   ]
  },
  {
   "cell_type": "code",
   "execution_count": 7,
   "id": "aea3dacc-947b-4497-802d-68378b195a4c",
   "metadata": {},
   "outputs": [],
   "source": [
    "Wilhelm = df[df['Channel Rep'] == 'Wilhelm']\n",
    "askinsvf = df\n",
    "Nelson = df[df['Channel Rep'] == 'Nelson']\n",
    "andersen = df[df['Channel Rep'] == 'Andersen']"
   ]
  },
  {
   "cell_type": "markdown",
   "id": "34df1167-d80c-474c-a8b3-fcd7784a2514",
   "metadata": {},
   "source": [
    "##### Wilhelm"
   ]
  },
  {
   "cell_type": "code",
   "execution_count": 8,
   "id": "bb2c1098-a807-4b78-97c2-5532106d9add",
   "metadata": {},
   "outputs": [],
   "source": [
    "wilhelm_indivdual = Wilhelm['Amount'].sum()"
   ]
  },
  {
   "cell_type": "code",
   "execution_count": 9,
   "id": "c59f5d14-640a-4683-8c9f-8c7f88dabffb",
   "metadata": {},
   "outputs": [],
   "source": [
    "wilhelm_payout = wilhelm_indivdual * .33"
   ]
  },
  {
   "cell_type": "code",
   "execution_count": 10,
   "id": "a8f90244-fef4-45c3-927d-b4c162b0bf5d",
   "metadata": {},
   "outputs": [
    {
     "name": "stdout",
     "output_type": "stream",
     "text": [
      "27391.99\n"
     ]
    }
   ],
   "source": [
    "print(wilhelm_indivdual)"
   ]
  },
  {
   "cell_type": "code",
   "execution_count": 11,
   "id": "c4ea5801-76fa-48b8-8f5f-a16f1013c979",
   "metadata": {},
   "outputs": [
    {
     "name": "stdout",
     "output_type": "stream",
     "text": [
      "9039.3567\n"
     ]
    }
   ],
   "source": [
    "print(wilhelm_payout)"
   ]
  },
  {
   "cell_type": "code",
   "execution_count": 12,
   "id": "f404c9c6-5922-4762-9077-d687bb7bad82",
   "metadata": {},
   "outputs": [],
   "source": [
    "Wilhelm.loc[11111] = ['Total Bookings: ','','','','','','','','', wilhelm_indivdual ,'','','','']"
   ]
  },
  {
   "cell_type": "code",
   "execution_count": 13,
   "id": "5c1a3125-f867-49d6-b5f7-0be929fe63dc",
   "metadata": {},
   "outputs": [],
   "source": [
    "Wilhelm.loc[11112] = ['Total Payout: ','','','','','','','','', wilhelm_payout ,'','','','']"
   ]
  },
  {
   "cell_type": "markdown",
   "id": "7e59761b-2906-4633-9f89-458d6eec9dff",
   "metadata": {
    "tags": []
   },
   "source": [
    "#### Nelson"
   ]
  },
  {
   "cell_type": "code",
   "execution_count": 14,
   "id": "274ee88b-9759-47c9-86ed-18d2824004c4",
   "metadata": {},
   "outputs": [],
   "source": [
    "nelson_indivdual = Nelson['Amount'].sum()"
   ]
  },
  {
   "cell_type": "code",
   "execution_count": 15,
   "id": "482448cb-ad14-4e00-87fc-72b841250e6a",
   "metadata": {},
   "outputs": [],
   "source": [
    "nelson_payout = nelson_indivdual * .33"
   ]
  },
  {
   "cell_type": "code",
   "execution_count": 16,
   "id": "07b7e248-9dcd-4ac5-a770-8f8852a6d5e6",
   "metadata": {},
   "outputs": [
    {
     "name": "stdout",
     "output_type": "stream",
     "text": [
      "8024.51\n"
     ]
    }
   ],
   "source": [
    "print(nelson_indivdual)"
   ]
  },
  {
   "cell_type": "code",
   "execution_count": 17,
   "id": "9c15a5f7-91f4-40e1-9e36-1ccdc7a218b5",
   "metadata": {},
   "outputs": [
    {
     "name": "stdout",
     "output_type": "stream",
     "text": [
      "2648.0883000000003\n"
     ]
    }
   ],
   "source": [
    "print(nelson_payout)"
   ]
  },
  {
   "cell_type": "code",
   "execution_count": 18,
   "id": "fed86fe4-4534-4718-a1da-6a8af1013a77",
   "metadata": {},
   "outputs": [],
   "source": [
    "Nelson.loc[11111] = ['Total Bookings: ','','','','','','','','', nelson_indivdual ,'','','','']"
   ]
  },
  {
   "cell_type": "code",
   "execution_count": 19,
   "id": "573f76f2-96da-413d-bde4-956cf6414d18",
   "metadata": {},
   "outputs": [],
   "source": [
    "Nelson.loc[11112] = ['Total Payout: ','','','','','','','','', nelson_payout ,'','','','']"
   ]
  },
  {
   "cell_type": "markdown",
   "id": "faa8838a-3e71-48d6-b4ae-b3ce74c9c746",
   "metadata": {
    "tags": []
   },
   "source": [
    "#### Andersen"
   ]
  },
  {
   "cell_type": "code",
   "execution_count": 20,
   "id": "46885983-c240-45dd-89ba-a7f3269f9424",
   "metadata": {},
   "outputs": [],
   "source": [
    "andersen_indivdual = andersen['Amount'].sum()"
   ]
  },
  {
   "cell_type": "code",
   "execution_count": 21,
   "id": "75da278b-5213-460c-95b8-c55f1fe2aa79",
   "metadata": {},
   "outputs": [],
   "source": [
    "andersen_payout = andersen_indivdual * .33"
   ]
  },
  {
   "cell_type": "code",
   "execution_count": 22,
   "id": "bfec2c5d-6f70-4947-8584-475941ca4d2a",
   "metadata": {},
   "outputs": [
    {
     "name": "stdout",
     "output_type": "stream",
     "text": [
      "0.0\n"
     ]
    }
   ],
   "source": [
    "print(andersen_indivdual)"
   ]
  },
  {
   "cell_type": "code",
   "execution_count": 23,
   "id": "a5106211-463a-4d98-b18a-4612d818dae3",
   "metadata": {},
   "outputs": [
    {
     "name": "stdout",
     "output_type": "stream",
     "text": [
      "0.0\n"
     ]
    }
   ],
   "source": [
    "print(andersen_payout)"
   ]
  },
  {
   "cell_type": "code",
   "execution_count": 24,
   "id": "896aafdb-5ed1-4650-993b-fd0cb1573d7a",
   "metadata": {},
   "outputs": [],
   "source": [
    "andersen.loc[11111] = ['Total Bookings: ','','','','','','','','', andersen_indivdual ,'','','','']"
   ]
  },
  {
   "cell_type": "code",
   "execution_count": 25,
   "id": "c2371135-ede3-4ac1-bd0c-650d552f8661",
   "metadata": {},
   "outputs": [],
   "source": [
    "andersen.loc[11112] = ['Total Payout: ','','','','','','','','', andersen_payout ,'','','','']"
   ]
  },
  {
   "cell_type": "markdown",
   "id": "5c0be47a-76d8-4cb5-aceb-5a559a9729cd",
   "metadata": {},
   "source": [
    "#### Askins"
   ]
  },
  {
   "cell_type": "code",
   "execution_count": 26,
   "id": "e74ae826-9576-4e50-a273-63d3c6910078",
   "metadata": {},
   "outputs": [],
   "source": [
    "askins_payout = askinsvf['Amount'].sum()/70000*10000"
   ]
  },
  {
   "cell_type": "code",
   "execution_count": 27,
   "id": "b3757098-e853-4479-9d00-975a3295267d",
   "metadata": {},
   "outputs": [],
   "source": [
    "askins_1 = df[df['Channel Rep'] == 'Askins']"
   ]
  },
  {
   "cell_type": "code",
   "execution_count": 28,
   "id": "e768c1d6-eb8e-4a9c-91d5-eac954e89267",
   "metadata": {},
   "outputs": [],
   "source": [
    "askins_indivdual = askinsvf['Amount'].sum()"
   ]
  },
  {
   "cell_type": "code",
   "execution_count": 29,
   "id": "300120b0-11bc-4051-8bc0-c57b85f578e0",
   "metadata": {},
   "outputs": [
    {
     "name": "stdout",
     "output_type": "stream",
     "text": [
      "38336.5\n"
     ]
    }
   ],
   "source": [
    "print(askins_indivdual)"
   ]
  },
  {
   "cell_type": "code",
   "execution_count": 30,
   "id": "fd842b07-5d87-4a2a-a864-03d72e40f609",
   "metadata": {},
   "outputs": [],
   "source": [
    "askinsvf.loc[1110] = ['Total Bookings:', '', '', '','','','','','',askins_indivdual,'','','','']"
   ]
  },
  {
   "cell_type": "code",
   "execution_count": 31,
   "id": "a5a97230-ba80-4a1d-b2aa-3c5fda9a30f2",
   "metadata": {},
   "outputs": [],
   "source": [
    "askinsvf.loc[1111] = ['Comission Payout:', '', '', '','','','','','',askins_payout,'','','','']"
   ]
  },
  {
   "cell_type": "code",
   "execution_count": 32,
   "id": "7ec7d2db-cd82-4ad1-8470-fce7fb17ad2a",
   "metadata": {},
   "outputs": [
    {
     "data": {
      "text/html": [
       "<div>\n",
       "<style scoped>\n",
       "    .dataframe tbody tr th:only-of-type {\n",
       "        vertical-align: middle;\n",
       "    }\n",
       "\n",
       "    .dataframe tbody tr th {\n",
       "        vertical-align: top;\n",
       "    }\n",
       "\n",
       "    .dataframe thead th {\n",
       "        text-align: right;\n",
       "    }\n",
       "</style>\n",
       "<table border=\"1\" class=\"dataframe\">\n",
       "  <thead>\n",
       "    <tr style=\"text-align: right;\">\n",
       "      <th></th>\n",
       "      <th>Account Name</th>\n",
       "      <th>Opportunity Name</th>\n",
       "      <th>New Logo</th>\n",
       "      <th>Quote Number</th>\n",
       "      <th>Order Number</th>\n",
       "      <th>Data Centers</th>\n",
       "      <th>Type</th>\n",
       "      <th>Lead Source</th>\n",
       "      <th>Booking Amount</th>\n",
       "      <th>Amount</th>\n",
       "      <th>Close Date</th>\n",
       "      <th>Stage</th>\n",
       "      <th>Opportunity Owner</th>\n",
       "      <th>Channel Rep</th>\n",
       "    </tr>\n",
       "  </thead>\n",
       "  <tbody>\n",
       "    <tr>\n",
       "      <th>28</th>\n",
       "      <td>Ferrellgas Partners</td>\n",
       "      <td>FERRELLGAS PARTNERS // XCONN // MCI2 // COTERM</td>\n",
       "      <td>False</td>\n",
       "      <td>63558</td>\n",
       "      <td>63558</td>\n",
       "      <td>MCI2</td>\n",
       "      <td>New</td>\n",
       "      <td>Current Customer</td>\n",
       "      <td>200.0</td>\n",
       "      <td>200.0</td>\n",
       "      <td>7/11/2022</td>\n",
       "      <td>Closed Won</td>\n",
       "      <td>Morgan Martensen</td>\n",
       "      <td>Askins</td>\n",
       "    </tr>\n",
       "  </tbody>\n",
       "</table>\n",
       "</div>"
      ],
      "text/plain": [
       "           Account Name                                Opportunity Name  \\\n",
       "28  Ferrellgas Partners  FERRELLGAS PARTNERS // XCONN // MCI2 // COTERM   \n",
       "\n",
       "   New Logo Quote Number Order Number Data Centers Type       Lead Source  \\\n",
       "28    False        63558        63558         MCI2  New  Current Customer   \n",
       "\n",
       "   Booking Amount  Amount Close Date       Stage Opportunity Owner Channel Rep  \n",
       "28          200.0   200.0  7/11/2022  Closed Won  Morgan Martensen      Askins  "
      ]
     },
     "execution_count": 32,
     "metadata": {},
     "output_type": "execute_result"
    }
   ],
   "source": [
    "askinsvf.head(1)"
   ]
  },
  {
   "cell_type": "code",
   "execution_count": 33,
   "id": "d2557283-4ba7-4b3b-92c0-a9c82df08dc3",
   "metadata": {},
   "outputs": [],
   "source": [
    "Wilhelm.to_excel(os.path.join('CB','wilhelm_july_2022.xlsx'), index=False)\n",
    "Nelson.to_excel(os.path.join('CB','nelson_july_2022.xlsx'), index=False)\n",
    "askinsvf.to_excel(os.path.join('CB','askins_july_2022.xlsx'), index=False)\n",
    "andersen.to_excel(os.path.join('CB','andersen_july_2022.xlsx'), index=False)"
   ]
  },
  {
   "cell_type": "markdown",
   "id": "7fc6be70-004c-419d-851f-f72abd67740e",
   "metadata": {
    "tags": []
   },
   "source": [
    "# End Channel Bookings"
   ]
  },
  {
   "cell_type": "markdown",
   "id": "cdfd80ea-e5f7-4d7b-b39b-ebf85f542910",
   "metadata": {},
   "source": [
    "# Commission by Period "
   ]
  },
  {
   "cell_type": "code",
   "execution_count": 34,
   "id": "f1fc91f8-a2ac-478f-b12c-5e180ac3dc50",
   "metadata": {},
   "outputs": [],
   "source": [
    "payouts_by_period = pd.DataFrame(columns=['Name:', 'Payout:'])"
   ]
  },
  {
   "cell_type": "code",
   "execution_count": 35,
   "id": "780404cc-ae34-480f-8f2f-19a18c273009",
   "metadata": {},
   "outputs": [
    {
     "data": {
      "text/html": [
       "<div>\n",
       "<style scoped>\n",
       "    .dataframe tbody tr th:only-of-type {\n",
       "        vertical-align: middle;\n",
       "    }\n",
       "\n",
       "    .dataframe tbody tr th {\n",
       "        vertical-align: top;\n",
       "    }\n",
       "\n",
       "    .dataframe thead th {\n",
       "        text-align: right;\n",
       "    }\n",
       "</style>\n",
       "<table border=\"1\" class=\"dataframe\">\n",
       "  <thead>\n",
       "    <tr style=\"text-align: right;\">\n",
       "      <th></th>\n",
       "      <th>Name:</th>\n",
       "      <th>Payout:</th>\n",
       "    </tr>\n",
       "  </thead>\n",
       "  <tbody>\n",
       "  </tbody>\n",
       "</table>\n",
       "</div>"
      ],
      "text/plain": [
       "Empty DataFrame\n",
       "Columns: [Name:, Payout:]\n",
       "Index: []"
      ]
     },
     "execution_count": 35,
     "metadata": {},
     "output_type": "execute_result"
    }
   ],
   "source": [
    "payouts_by_period.head()"
   ]
  },
  {
   "cell_type": "code",
   "execution_count": 36,
   "id": "c8233a5b-9a74-41d7-b370-21a9cf03035f",
   "metadata": {},
   "outputs": [],
   "source": [
    "payouts_by_period.loc[1] = ['Scott Askins', askins_payout] "
   ]
  },
  {
   "cell_type": "code",
   "execution_count": 37,
   "id": "ce504b20-9ecb-42eb-b9db-216d5d95daf3",
   "metadata": {},
   "outputs": [],
   "source": [
    "payouts_by_period.loc[2] = ['Keith Nelson', nelson_payout] "
   ]
  },
  {
   "cell_type": "code",
   "execution_count": 38,
   "id": "9c0f1544-bd96-489e-8b79-a0d64d2704e8",
   "metadata": {},
   "outputs": [],
   "source": [
    "payouts_by_period.loc[3] = ['Joel Wilhelm', wilhelm_payout] "
   ]
  },
  {
   "cell_type": "code",
   "execution_count": 39,
   "id": "b863fe6e-270a-456a-beb6-a7040bb28999",
   "metadata": {},
   "outputs": [],
   "source": [
    "payouts_by_period.loc[4] = ['Joel Andersen', andersen_payout] "
   ]
  },
  {
   "cell_type": "code",
   "execution_count": 40,
   "id": "d12e36dc-6e79-4cc6-8304-dee45ed13b41",
   "metadata": {},
   "outputs": [
    {
     "data": {
      "text/html": [
       "<div>\n",
       "<style scoped>\n",
       "    .dataframe tbody tr th:only-of-type {\n",
       "        vertical-align: middle;\n",
       "    }\n",
       "\n",
       "    .dataframe tbody tr th {\n",
       "        vertical-align: top;\n",
       "    }\n",
       "\n",
       "    .dataframe thead th {\n",
       "        text-align: right;\n",
       "    }\n",
       "</style>\n",
       "<table border=\"1\" class=\"dataframe\">\n",
       "  <thead>\n",
       "    <tr style=\"text-align: right;\">\n",
       "      <th></th>\n",
       "      <th>Name:</th>\n",
       "      <th>Payout:</th>\n",
       "    </tr>\n",
       "  </thead>\n",
       "  <tbody>\n",
       "    <tr>\n",
       "      <th>1</th>\n",
       "      <td>Scott Askins</td>\n",
       "      <td>5476.642857</td>\n",
       "    </tr>\n",
       "    <tr>\n",
       "      <th>2</th>\n",
       "      <td>Keith Nelson</td>\n",
       "      <td>2648.088300</td>\n",
       "    </tr>\n",
       "    <tr>\n",
       "      <th>3</th>\n",
       "      <td>Joel Wilhelm</td>\n",
       "      <td>9039.356700</td>\n",
       "    </tr>\n",
       "    <tr>\n",
       "      <th>4</th>\n",
       "      <td>Joel Andersen</td>\n",
       "      <td>0.000000</td>\n",
       "    </tr>\n",
       "  </tbody>\n",
       "</table>\n",
       "</div>"
      ],
      "text/plain": [
       "           Name:      Payout:\n",
       "1   Scott Askins  5476.642857\n",
       "2   Keith Nelson  2648.088300\n",
       "3   Joel Wilhelm  9039.356700\n",
       "4  Joel Andersen     0.000000"
      ]
     },
     "execution_count": 40,
     "metadata": {},
     "output_type": "execute_result"
    }
   ],
   "source": [
    "payouts_by_period.head(1000)"
   ]
  },
  {
   "cell_type": "code",
   "execution_count": 41,
   "id": "64e08f71-c4c3-4ba7-84a6-e51a69fe2cd7",
   "metadata": {},
   "outputs": [],
   "source": [
    "payouts_by_period.to_excel(os.path.join('CB','CB_july_2022.xlsx'), index=False)"
   ]
  }
 ],
 "metadata": {
  "kernelspec": {
   "display_name": "Python 3 (ipykernel)",
   "language": "python",
   "name": "python3"
  },
  "language_info": {
   "codemirror_mode": {
    "name": "ipython",
    "version": 3
   },
   "file_extension": ".py",
   "mimetype": "text/x-python",
   "name": "python",
   "nbconvert_exporter": "python",
   "pygments_lexer": "ipython3",
   "version": "3.9.7"
  }
 },
 "nbformat": 4,
 "nbformat_minor": 5
}
