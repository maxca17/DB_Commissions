{
 "cells": [
  {
   "cell_type": "markdown",
   "id": "db277ad8-cdc0-4bdb-9623-0f968a7d302f",
   "metadata": {
    "tags": []
   },
   "source": [
    "### All imports will be used / are needed"
   ]
  },
  {
   "cell_type": "code",
   "execution_count": 2,
   "id": "91e32229-a1d2-4a34-a7ee-e6f76b50fd9a",
   "metadata": {},
   "outputs": [],
   "source": [
    "import openpyxl as py\n",
    "from openpyxl import *\n",
    "import pandas as pd\n",
    "from pandas import *\n",
    "import numpy as np\n",
    "import ast as ast\n",
    "#import pdfkit\n",
    "pd.options.mode.chained_assignment = None"
   ]
  },
  {
   "cell_type": "markdown",
   "id": "ec6fbca6-302b-4e65-80f2-da02dc739ff3",
   "metadata": {
    "tags": []
   },
   "source": [
    "# Epicor data starting now"
   ]
  },
  {
   "cell_type": "code",
   "execution_count": 3,
   "id": "609e3445-9abc-44df-abfe-12bb02c366c7",
   "metadata": {},
   "outputs": [],
   "source": [
    "ep1 = pd.read_excel('epicor_datavf.xlsx')"
   ]
  },
  {
   "cell_type": "code",
   "execution_count": 4,
   "id": "d9cd4285-55ca-4d82-94f0-ee828adecb1e",
   "metadata": {},
   "outputs": [
    {
     "data": {
      "text/html": [
       "<div>\n",
       "<style scoped>\n",
       "    .dataframe tbody tr th:only-of-type {\n",
       "        vertical-align: middle;\n",
       "    }\n",
       "\n",
       "    .dataframe tbody tr th {\n",
       "        vertical-align: top;\n",
       "    }\n",
       "\n",
       "    .dataframe thead th {\n",
       "        text-align: right;\n",
       "    }\n",
       "</style>\n",
       "<table border=\"1\" class=\"dataframe\">\n",
       "  <thead>\n",
       "    <tr style=\"text-align: right;\">\n",
       "      <th></th>\n",
       "      <th>Organization</th>\n",
       "      <th>Order #</th>\n",
       "      <th>Order Date</th>\n",
       "      <th>Salesman</th>\n",
       "      <th>Opportunity Type</th>\n",
       "      <th>Order Summary</th>\n",
       "      <th>Item Code</th>\n",
       "      <th>Item Name</th>\n",
       "      <th>Datacenter</th>\n",
       "      <th>payout</th>\n",
       "      <th>MRR</th>\n",
       "      <th>Multiplier</th>\n",
       "    </tr>\n",
       "  </thead>\n",
       "  <tbody>\n",
       "    <tr>\n",
       "      <th>0</th>\n",
       "      <td>Able IT Pros</td>\n",
       "      <td>44915</td>\n",
       "      <td>2022-05-11</td>\n",
       "      <td>Carlie Matel</td>\n",
       "      <td>Change Order</td>\n",
       "      <td>Able IT Pros- Increase Storage - DFW3 - 5/11/22</td>\n",
       "      <td>Managed Services : Cloud : IaaS/PaaS-1GB RAM</td>\n",
       "      <td>GB VPC RAM for IaaS/PaaS</td>\n",
       "      <td>DFW3</td>\n",
       "      <td>26.27</td>\n",
       "      <td>26.27</td>\n",
       "      <td>0.9</td>\n",
       "    </tr>\n",
       "  </tbody>\n",
       "</table>\n",
       "</div>"
      ],
      "text/plain": [
       "   Organization Order # Order Date      Salesman Opportunity Type  \\\n",
       "0  Able IT Pros   44915 2022-05-11  Carlie Matel     Change Order   \n",
       "\n",
       "                                     Order Summary  \\\n",
       "0  Able IT Pros- Increase Storage - DFW3 - 5/11/22   \n",
       "\n",
       "                                      Item Code                 Item Name  \\\n",
       "0  Managed Services : Cloud : IaaS/PaaS-1GB RAM  GB VPC RAM for IaaS/PaaS   \n",
       "\n",
       "  Datacenter  payout    MRR  Multiplier  \n",
       "0       DFW3   26.27  26.27         0.9  "
      ]
     },
     "execution_count": 4,
     "metadata": {},
     "output_type": "execute_result"
    }
   ],
   "source": [
    "ep1.head(1)"
   ]
  },
  {
   "cell_type": "code",
   "execution_count": 5,
   "id": "305f60a1-905e-4e75-b66a-309136d273e1",
   "metadata": {},
   "outputs": [
    {
     "data": {
      "text/plain": [
       "Index(['Organization', 'Order #', 'Order Date', 'Salesman', 'Opportunity Type',\n",
       "       'Order Summary', 'Item Code', 'Item Name', 'Datacenter', 'payout',\n",
       "       'MRR', 'Multiplier'],\n",
       "      dtype='object')"
      ]
     },
     "execution_count": 5,
     "metadata": {},
     "output_type": "execute_result"
    }
   ],
   "source": [
    "ep1.columns"
   ]
  },
  {
   "cell_type": "code",
   "execution_count": 6,
   "id": "c1be8ceb-ccd6-4171-9ee8-ac6f3b3621dd",
   "metadata": {},
   "outputs": [
    {
     "data": {
      "text/plain": [
       "Organization                object\n",
       "Order #                     object\n",
       "Order Date          datetime64[ns]\n",
       "Salesman                    object\n",
       "Opportunity Type            object\n",
       "Order Summary               object\n",
       "Item Code                   object\n",
       "Item Name                   object\n",
       "Datacenter                  object\n",
       "payout                     float64\n",
       "MRR                        float64\n",
       "Multiplier                 float64\n",
       "dtype: object"
      ]
     },
     "execution_count": 6,
     "metadata": {},
     "output_type": "execute_result"
    }
   ],
   "source": [
    "ep1.dtypes"
   ]
  },
  {
   "cell_type": "code",
   "execution_count": 7,
   "id": "fa8d62c5-2adf-4184-9e7b-5233a7271de7",
   "metadata": {},
   "outputs": [
    {
     "name": "stdout",
     "output_type": "stream",
     "text": [
      "Carlie Matel\n",
      "Bernard Petfield\n",
      "Jonathan Malcolm\n",
      "Robert Doretti\n",
      "Jacob Zupancic\n",
      "Michael DeBetta\n",
      "Natalie Farr\n",
      "Dan Ephraim\n",
      "Stephen Muoio\n",
      "Jeffrey Reinis\n",
      "Andrew Ramirez\n",
      "Ashley Waller\n",
      "Kathy J Geiser\n",
      "Daniel Smith\n",
      "Tim Langan\n",
      "Shelby Locklear\n",
      "Tiffany Dunson\n",
      "Patrick Chapa\n",
      "Mark McCants\n",
      "RJ Thibodeau\n",
      "Scott Palsgrove\n",
      "Odaine Hudson\n",
      "Rebecca Shaffer\n",
      "Morgan Martensen\n",
      "Krystin Tagaris\n",
      "Angela Rogalski\n",
      "Jennifer Bowman\n",
      "Matt Horne\n",
      "Michael Murray\n",
      "Samuel Mickler\n",
      "Michael Skalitzky\n",
      "Mike Miceli\n",
      "Phillip Berta\n",
      "Trey Hardeman\n",
      "Andrew Lewis\n",
      "Ronald Heltemes\n",
      "Stephanie Leyva\n",
      "Dennis Wilson Jr\n",
      "Smithwick, Keisha\n",
      "Peckham, Kim\n",
      "Padovano, Kathy\n",
      "Lachance, Laura\n",
      "Meyer, Catherine\n",
      "Knox, Chelsea\n",
      "Wallace, Denise\n",
      "Haley, Richard\n",
      "Glommen, Troy\n",
      "Perry, Ben\n",
      "Harter, Vicki\n",
      "Bond, Clint\n",
      "Knutson, Shawn\n",
      "Clary, Rob\n",
      "nan\n"
     ]
    }
   ],
   "source": [
    "for names in ep1['Salesman'].drop_duplicates():\n",
    "    print(names)\n",
    "    "
   ]
  },
  {
   "cell_type": "code",
   "execution_count": 8,
   "id": "0fd090ad-ecb6-4096-9567-bcbaa621117f",
   "metadata": {},
   "outputs": [],
   "source": [
    "andrew_lewis = ep1[ep1['Salesman'] == 'Andrew Lewis']\n",
    "andrew_ramirez= ep1[ep1['Salesman'] == 'Andrew Ramirez']\n",
    "angela_rogalski = ep1[ep1['Salesman'] == 'Angela Rogalski']\n",
    "ashley_waller = ep1[ep1['Salesman'] == 'Ashley Waller ']\n",
    "bernard_petfield = ep1[ep1['Salesman'] == 'Bernard Petfield']\n",
    "#Bond, Clint = ep1[ep1['Salesman'] == 'Andrew Lewis']\n",
    "carlie_matel = ep1[ep1['Salesman'] == 'Carlie Matel']\n",
    "#Clary, Rob = ep1[ep1['Salesman'] == 'Andrew Lewis']\n",
    "dan_ephraim= ep1[ep1['Salesman'] == 'Andrew Lewis']\n",
    "daniel_smith= ep1[ep1['Salesman'] == 'Andrew Lewis']\n",
    "dennis_wilson = ep1[ep1['Salesman'] == 'pancake']\n",
    "#Glommen, Troy= ep1[ep1['Salesman'] == 'Andrew Lewis']\n",
    "#Haley, Richard= ep1[ep1['Salesman'] == 'Andrew Lewis']\n",
    "#Harter, Vicki= ep1[ep1['Salesman'] == 'Andrew Lewis']\n",
    "jacob_zupancic= ep1[ep1['Salesman'] == 'Andrew Lewis']\n",
    "Jeffrey_Reinis= ep1[ep1['Salesman'] == 'Andrew Lewis']\n",
    "Jennifer_Bowman= ep1[ep1['Salesman'] == 'Andrew Lewis']\n",
    "Jonathan_Malcolm= ep1[ep1['Salesman'] == 'Jonathan Malcolm']\n",
    "Kathy_Geiser= ep1[ep1['Salesman'] == 'Andrew Lewis']\n",
    "#Knox, Chelsea= ep1[ep1['Salesman'] == 'Andrew Lewis']\n",
    "#Knutson, Shawn= ep1[ep1['Salesman'] == 'Andrew Lewis']\n",
    "Krystin_Tagaris= ep1[ep1['Salesman'] == 'Andrew Lewis']\n",
    "#Lachance, Laura= ep1[ep1['Salesman'] == 'Andrew Lewis']\n",
    "Mark_McCants= ep1[ep1['Salesman'] == 'Andrew Lewis']\n",
    "Matt_Horne= ep1[ep1['Salesman'] == 'Andrew Lewis']\n",
    "#Meyer, Catherine= ep1[ep1['Salesman'] == 'Andrew Lewis']\n",
    "Michael_DeBetta= ep1[ep1['Salesman'] == 'Andrew Lewis']\n",
    "Michael_Murray= ep1[ep1['Salesman'] == 'Andrew Lewis']\n",
    "Michael_Skalitzky= ep1[ep1['Salesman'] == 'Andrew Lewis']\n",
    "Morgan_Martensen= ep1[ep1['Salesman'] == 'Andrew Lewis']\n",
    "natalie_farr= ep1[ep1['Salesman'] == 'Natalie Farr']\n",
    "Odaine_Hudson= ep1[ep1['Salesman'] == 'Andrew Lewis']\n",
    "#Padovano, Kathy= ep1[ep1['Salesman'] == 'Andrew Lewis']\n",
    "Patrick_Chapa= ep1[ep1['Salesman'] == 'Andrew Lewis']\n",
    "#Peckham, Kim= ep1[ep1['Salesman'] == 'Andrew Lewis']\n",
    "#Perry, Ben= ep1[ep1['Salesman'] == 'Andrew Lewis']\n",
    "Phillip_Berta= ep1[ep1['Salesman'] == 'Andrew Lewis']\n",
    "RJ_Thibodeau= ep1[ep1['Salesman'] == 'Andrew Lewis']\n",
    "Rebecca_Shaffer= ep1[ep1['Salesman'] == 'Andrew Lewis']\n",
    "Robert_Doretti= ep1[ep1['Salesman'] == 'Andrew Lewis']\n",
    "Ronald_Heltemes= ep1[ep1['Salesman'] == 'Andrew Lewis']\n",
    "Samuel_Mickler= ep1[ep1['Salesman'] == 'Andrew Lewis']\n",
    "Scott_Palsgrove= ep1[ep1['Salesman'] == 'Andrew Lewis']\n",
    "Shelby_Locklear= ep1[ep1['Salesman'] == 'Andrew Lewis']\n",
    "#Smithwick, Keisha= ep1[ep1['Salesman'] == 'Andrew Lewis']\n",
    "Stephanie_Leyva= ep1[ep1['Salesman'] == 'Andrew Lewis']\n",
    "Stephen_Muoio = ep1[ep1['Salesman'] == 'Andrew Lewis']\n",
    "Tiffany_Dunson= ep1[ep1['Salesman'] == 'Andrew Lewis']\n",
    "Tim_Langan = ep1[ep1['Salesman'] == 'Andrew Lewis']\n",
    "Trey_Hardeman = ep1[ep1['Salesman'] == 'Andrew Lewis']\n",
    "#Wallace, Denise = ep1[ep1['Salesman'] == 'Andrew Lewis']\n",
    "\n",
    "\n",
    "\n",
    "\n",
    "\n",
    "\n",
    "\n",
    "\n",
    "\n",
    "\n"
   ]
  },
  {
   "cell_type": "markdown",
   "id": "235fd635-a31d-4142-82bd-2d08100f9448",
   "metadata": {
    "tags": []
   },
   "source": [
    "### Andrew Lewis"
   ]
  },
  {
   "cell_type": "code",
   "execution_count": 9,
   "id": "6f40b6f4-b58b-4dfb-bce1-ee664005e43d",
   "metadata": {},
   "outputs": [],
   "source": [
    "andrew_lewis['payout'] = andrew_lewis['MRR'] * andrew_lewis['Multiplier'] /2"
   ]
  },
  {
   "cell_type": "code",
   "execution_count": 10,
   "id": "d2be4418-031a-4496-9e12-3b266b3692f0",
   "metadata": {},
   "outputs": [
    {
     "data": {
      "text/html": [
       "<div>\n",
       "<style scoped>\n",
       "    .dataframe tbody tr th:only-of-type {\n",
       "        vertical-align: middle;\n",
       "    }\n",
       "\n",
       "    .dataframe tbody tr th {\n",
       "        vertical-align: top;\n",
       "    }\n",
       "\n",
       "    .dataframe thead th {\n",
       "        text-align: right;\n",
       "    }\n",
       "</style>\n",
       "<table border=\"1\" class=\"dataframe\">\n",
       "  <thead>\n",
       "    <tr style=\"text-align: right;\">\n",
       "      <th></th>\n",
       "      <th>Organization</th>\n",
       "      <th>Order #</th>\n",
       "      <th>Order Date</th>\n",
       "      <th>Salesman</th>\n",
       "      <th>Opportunity Type</th>\n",
       "      <th>Order Summary</th>\n",
       "      <th>Item Code</th>\n",
       "      <th>Item Name</th>\n",
       "      <th>Datacenter</th>\n",
       "      <th>payout</th>\n",
       "      <th>MRR</th>\n",
       "      <th>Multiplier</th>\n",
       "    </tr>\n",
       "  </thead>\n",
       "  <tbody>\n",
       "    <tr>\n",
       "      <th>1547</th>\n",
       "      <td>TTEC Services</td>\n",
       "      <td>45109</td>\n",
       "      <td>2022-05-19</td>\n",
       "      <td>Andrew Lewis</td>\n",
       "      <td>Existing</td>\n",
       "      <td>TTEC - Cross Connect/Den2/051822</td>\n",
       "      <td>Cross Connect : SMF</td>\n",
       "      <td>Cross Connect - Fiber - Single Mode (SMF)</td>\n",
       "      <td>DEN2</td>\n",
       "      <td>70.0</td>\n",
       "      <td>200.0</td>\n",
       "      <td>0.7</td>\n",
       "    </tr>\n",
       "  </tbody>\n",
       "</table>\n",
       "</div>"
      ],
      "text/plain": [
       "       Organization Order # Order Date      Salesman Opportunity Type  \\\n",
       "1547  TTEC Services   45109 2022-05-19  Andrew Lewis         Existing   \n",
       "\n",
       "                         Order Summary            Item Code  \\\n",
       "1547  TTEC - Cross Connect/Den2/051822  Cross Connect : SMF   \n",
       "\n",
       "                                      Item Name Datacenter  payout    MRR  \\\n",
       "1547  Cross Connect - Fiber - Single Mode (SMF)       DEN2    70.0  200.0   \n",
       "\n",
       "      Multiplier  \n",
       "1547         0.7  "
      ]
     },
     "execution_count": 10,
     "metadata": {},
     "output_type": "execute_result"
    }
   ],
   "source": [
    "andrew_lewis.head(1)"
   ]
  },
  {
   "cell_type": "code",
   "execution_count": 11,
   "id": "e456d305-60f1-4530-a9da-1d737ead9a2d",
   "metadata": {},
   "outputs": [],
   "source": [
    "lewis_payout = andrew_lewis['payout'].sum()"
   ]
  },
  {
   "cell_type": "code",
   "execution_count": 12,
   "id": "62382ce0-d36f-484c-8f75-57bb4fd07316",
   "metadata": {},
   "outputs": [
    {
     "name": "stdout",
     "output_type": "stream",
     "text": [
      "3027.5\n"
     ]
    }
   ],
   "source": [
    "print(lewis_payout)"
   ]
  },
  {
   "cell_type": "code",
   "execution_count": 13,
   "id": "82d4ed1f-db13-42c6-a619-14777b64f1b5",
   "metadata": {},
   "outputs": [
    {
     "data": {
      "text/plain": [
       "4180.0"
      ]
     },
     "execution_count": 13,
     "metadata": {},
     "output_type": "execute_result"
    }
   ],
   "source": [
    "andrew_lewis['MRR'].sum()"
   ]
  },
  {
   "cell_type": "code",
   "execution_count": 14,
   "id": "27e4d672-66bc-49a4-a4d9-29fef3441198",
   "metadata": {},
   "outputs": [],
   "source": [
    "andrew_lewis.loc[111111] = ['Indivdual Payout:', '' , '' , '' , '' , '' , '' , '' , '' , lewis_payout , '' , '']"
   ]
  },
  {
   "cell_type": "code",
   "execution_count": 15,
   "id": "c90995bd-9418-4d93-aaff-9cbce784abb1",
   "metadata": {},
   "outputs": [],
   "source": [
    "#print(lewis_booking)"
   ]
  },
  {
   "cell_type": "code",
   "execution_count": 18,
   "id": "4ea9f10f-7f6e-40e3-8e67-c06c7972f7fc",
   "metadata": {},
   "outputs": [
    {
     "data": {
      "text/html": [
       "<div>\n",
       "<style scoped>\n",
       "    .dataframe tbody tr th:only-of-type {\n",
       "        vertical-align: middle;\n",
       "    }\n",
       "\n",
       "    .dataframe tbody tr th {\n",
       "        vertical-align: top;\n",
       "    }\n",
       "\n",
       "    .dataframe thead th {\n",
       "        text-align: right;\n",
       "    }\n",
       "</style>\n",
       "<table border=\"1\" class=\"dataframe\">\n",
       "  <thead>\n",
       "    <tr style=\"text-align: right;\">\n",
       "      <th></th>\n",
       "      <th>Organization</th>\n",
       "      <th>Order #</th>\n",
       "      <th>Order Date</th>\n",
       "      <th>Salesman</th>\n",
       "      <th>Opportunity Type</th>\n",
       "      <th>Order Summary</th>\n",
       "      <th>Item Code</th>\n",
       "      <th>Item Name</th>\n",
       "      <th>Datacenter</th>\n",
       "      <th>payout</th>\n",
       "      <th>MRR</th>\n",
       "      <th>Multiplier</th>\n",
       "    </tr>\n",
       "  </thead>\n",
       "  <tbody>\n",
       "    <tr>\n",
       "      <th>1547</th>\n",
       "      <td>TTEC Services</td>\n",
       "      <td>45109</td>\n",
       "      <td>2022-05-19 00:00:00</td>\n",
       "      <td>Andrew Lewis</td>\n",
       "      <td>Existing</td>\n",
       "      <td>TTEC - Cross Connect/Den2/051822</td>\n",
       "      <td>Cross Connect : SMF</td>\n",
       "      <td>Cross Connect - Fiber - Single Mode (SMF)</td>\n",
       "      <td>DEN2</td>\n",
       "      <td>70.0</td>\n",
       "      <td>200.0</td>\n",
       "      <td>0.7</td>\n",
       "    </tr>\n",
       "  </tbody>\n",
       "</table>\n",
       "</div>"
      ],
      "text/plain": [
       "       Organization Order #           Order Date      Salesman  \\\n",
       "1547  TTEC Services   45109  2022-05-19 00:00:00  Andrew Lewis   \n",
       "\n",
       "     Opportunity Type                     Order Summary            Item Code  \\\n",
       "1547         Existing  TTEC - Cross Connect/Den2/051822  Cross Connect : SMF   \n",
       "\n",
       "                                      Item Name Datacenter  payout    MRR  \\\n",
       "1547  Cross Connect - Fiber - Single Mode (SMF)       DEN2    70.0  200.0   \n",
       "\n",
       "     Multiplier  \n",
       "1547        0.7  "
      ]
     },
     "execution_count": 18,
     "metadata": {},
     "output_type": "execute_result"
    }
   ],
   "source": [
    "andrew_lewis.head(1)"
   ]
  },
  {
   "cell_type": "raw",
   "id": "42e4a7ec-fba0-4555-bba7-44ac4b43e75a",
   "metadata": {},
   "source": [
    "for people in andrew_lewis:\n",
    "    if andrew_lewis[andrew_lewis['Datacenter'] == 'KC2']:\n",
    "        andrew_lewis['payout'] * 100\n",
    "    else:\n",
    "        print('dab')\n",
    "        "
   ]
  },
  {
   "cell_type": "raw",
   "id": "44f4ed77-0209-46fa-94b6-300d71a8b834",
   "metadata": {},
   "source": [
    "andy = andrew_lewis['payout'] = np.where(\n",
    "    andrew_lewis['MRR'] == 'KC2',\n",
    "    andrew_lewis['payout'] * 100,\n",
    "    andrew_lewis['payout'])      "
   ]
  },
  {
   "cell_type": "code",
   "execution_count": null,
   "id": "89743548-be05-4116-b5c7-c1c82968ab47",
   "metadata": {},
   "outputs": [],
   "source": [
    "andrew_lewis.to_excel('lewis_june_2022.xlsx',index=False)"
   ]
  },
  {
   "cell_type": "markdown",
   "id": "9781e918-8fcf-4c8a-83d6-cb544eb904b8",
   "metadata": {},
   "source": [
    "### End Andrew Lewis"
   ]
  },
  {
   "cell_type": "markdown",
   "id": "077faad2-62a0-4dc9-afe2-4c053d21bf3a",
   "metadata": {},
   "source": [
    "### Andrew Ramirez"
   ]
  },
  {
   "cell_type": "code",
   "execution_count": null,
   "id": "f244fc19-f46e-4c2e-be3b-6e732898b2d5",
   "metadata": {},
   "outputs": [],
   "source": [
    "try: \n",
    "    andrew_ramirez['payout'] = andrew_ramirez['MRR'] * andrew_ramirez['Multiplier'] /2\n",
    "except:\n",
    "    print('no')"
   ]
  },
  {
   "cell_type": "code",
   "execution_count": null,
   "id": "5017ff22-f83c-4d09-80de-5138823239c6",
   "metadata": {},
   "outputs": [],
   "source": [
    "andrew_ramirez.head(1)"
   ]
  },
  {
   "cell_type": "code",
   "execution_count": null,
   "id": "bc98f892-f8f5-4b86-bad5-fa44241d66b7",
   "metadata": {},
   "outputs": [],
   "source": [
    "ramirez_payout = andrew_ramirez['payout'].sum()"
   ]
  },
  {
   "cell_type": "code",
   "execution_count": null,
   "id": "46e1bcfc-ca3b-4df6-a862-e6a564c7ef8c",
   "metadata": {},
   "outputs": [],
   "source": [
    "print(ramirez_payout)"
   ]
  },
  {
   "cell_type": "code",
   "execution_count": null,
   "id": "5c5ee6fe-4089-48eb-886f-c36b396911aa",
   "metadata": {},
   "outputs": [],
   "source": [
    "andrew_ramirez['MRR'].sum()"
   ]
  },
  {
   "cell_type": "code",
   "execution_count": null,
   "id": "4efab0ac-5b60-4f05-a0b7-f71a8e335322",
   "metadata": {},
   "outputs": [],
   "source": [
    "andrew_ramirez.loc[111111] = ['Indivdual Payout:', '' , '' , '' , '' , '' , '' , '' , '' , ramirez_payout , '' , '']"
   ]
  },
  {
   "cell_type": "code",
   "execution_count": null,
   "id": "411bf7ae-bfdb-40ce-b682-2948cd64b271",
   "metadata": {},
   "outputs": [],
   "source": [
    "andrew_ramirez.to_excel('ramirez_june_2022.xlsx',index=False)"
   ]
  },
  {
   "cell_type": "markdown",
   "id": "abcffb09-f779-43c9-9119-77e53bdfc4e0",
   "metadata": {},
   "source": [
    "### End Andrew Ramirez"
   ]
  },
  {
   "cell_type": "markdown",
   "id": "88334804-5fe5-424f-9b4e-bc8a9e034a6e",
   "metadata": {
    "tags": []
   },
   "source": [
    "### Angela Rogalski"
   ]
  },
  {
   "cell_type": "code",
   "execution_count": null,
   "id": "cce5c8f0-fc89-40d9-9279-5dde6bacdd4b",
   "metadata": {},
   "outputs": [],
   "source": [
    "try: \n",
    "    angela_rogalski['payout'] = angela_rogalski['MRR'] * angela_rogalski['Multiplier'] / 2\n",
    "except:\n",
    "    print('no')"
   ]
  },
  {
   "cell_type": "code",
   "execution_count": null,
   "id": "8e1f9941-4b1d-444e-aab8-626b825a66a2",
   "metadata": {},
   "outputs": [],
   "source": [
    "angela_rogalski.head(1)"
   ]
  },
  {
   "cell_type": "code",
   "execution_count": null,
   "id": "465155de-8c30-4612-b17c-42480fa57193",
   "metadata": {},
   "outputs": [],
   "source": [
    "rogalski_payout = angela_rogalski['payout'].sum()"
   ]
  },
  {
   "cell_type": "code",
   "execution_count": null,
   "id": "2d04af3e-c906-4a4a-a1a0-25b6128f3a75",
   "metadata": {},
   "outputs": [],
   "source": [
    "print(rogalski_payout)"
   ]
  },
  {
   "cell_type": "code",
   "execution_count": null,
   "id": "5e9f1aa5-36b3-44cd-8c37-70faf3f51951",
   "metadata": {},
   "outputs": [],
   "source": [
    "angela_rogalski['MRR'].sum()"
   ]
  },
  {
   "cell_type": "code",
   "execution_count": null,
   "id": "2294beb9-8d47-4150-8474-48928ec48980",
   "metadata": {},
   "outputs": [],
   "source": [
    "angela_rogalski.loc[111111] = ['Indivdual Payout:', '' , '' , '' , '' , '' , '' , '' , '' , rogalski_payout , '' , '']"
   ]
  },
  {
   "cell_type": "code",
   "execution_count": null,
   "id": "cc68989f-e1c3-4066-a5ba-45b6455c4aa5",
   "metadata": {},
   "outputs": [],
   "source": [
    "angela_rogalski.to_excel('rogalski_june_2022.xlsx',index=False)"
   ]
  },
  {
   "cell_type": "markdown",
   "id": "524f4999-5760-4709-b44d-941ed29a9124",
   "metadata": {
    "tags": []
   },
   "source": [
    "### End Angela Rogalski"
   ]
  },
  {
   "cell_type": "markdown",
   "id": "f03b2c34-2ac4-405c-9a76-0cf8da5fb70f",
   "metadata": {
    "tags": []
   },
   "source": [
    "### Ashley Waller"
   ]
  },
  {
   "cell_type": "code",
   "execution_count": null,
   "id": "3c83f188-bbe3-425d-9784-01b755e52eee",
   "metadata": {},
   "outputs": [],
   "source": [
    "try: \n",
    "    ashley_waller['payout'] = ashley_waller['Gross MRR'] * ashley_waller['Multiplier'] /2\n",
    "except:\n",
    "    print('no')"
   ]
  },
  {
   "cell_type": "code",
   "execution_count": null,
   "id": "797f8e11-e2ec-4cdf-995c-e87ead58f024",
   "metadata": {},
   "outputs": [],
   "source": [
    "ashley_waller.head(1)                                          "
   ]
  },
  {
   "cell_type": "code",
   "execution_count": null,
   "id": "7e464e39-9b8e-493e-b1f7-e1502336009f",
   "metadata": {},
   "outputs": [],
   "source": [
    "waller_payout = ashley_waller['payout'].sum()"
   ]
  },
  {
   "cell_type": "code",
   "execution_count": null,
   "id": "7965f89b-17bd-4fd3-9567-e4cae6f5e8e2",
   "metadata": {},
   "outputs": [],
   "source": [
    "ashley_waller['MRR'].sum()"
   ]
  },
  {
   "cell_type": "code",
   "execution_count": null,
   "id": "59bd3eed-4b7b-40ec-a954-6da4a9e62486",
   "metadata": {},
   "outputs": [],
   "source": [
    "ashley_waller.loc[111111] = ['Indivdual Payout:', '' , '' , '' , '' , '' , '' , '' , '' , waller_payout , '' , '']"
   ]
  },
  {
   "cell_type": "code",
   "execution_count": null,
   "id": "6b542b1d-1f32-4765-b3ad-47fec6b3ee86",
   "metadata": {},
   "outputs": [],
   "source": [
    "ashley_waller.to_excel('waller_june_2022.xlsx',index=False)"
   ]
  },
  {
   "cell_type": "markdown",
   "id": "bc4c97cb-5d63-4c97-b804-72c07d9c185c",
   "metadata": {},
   "source": [
    "### End Ashley Waller"
   ]
  },
  {
   "cell_type": "markdown",
   "id": "5fdcc2ba-7086-4a1f-9f72-a1ffd96d0491",
   "metadata": {
    "jp-MarkdownHeadingCollapsed": true,
    "tags": []
   },
   "source": [
    "### Carlie Matel"
   ]
  },
  {
   "cell_type": "code",
   "execution_count": null,
   "id": "365000f3-4ae2-481a-9dad-6019d24182d3",
   "metadata": {},
   "outputs": [],
   "source": [
    "try: \n",
    "    carlie_matel['payout'] = carlie_matel['Gross MRR'] * carlie_matel['Multiplier'] /2\n",
    "except:\n",
    "    print('no')"
   ]
  },
  {
   "cell_type": "code",
   "execution_count": null,
   "id": "5b99a9f9-7fa8-40bf-b913-2dad55d63dfa",
   "metadata": {},
   "outputs": [],
   "source": [
    "carlie_matel.head(1)"
   ]
  },
  {
   "cell_type": "code",
   "execution_count": null,
   "id": "b7b4e24c-152e-4509-a3cb-07951b3f69ca",
   "metadata": {},
   "outputs": [],
   "source": [
    "matel_payout = ashley_waller['payout'].sum()"
   ]
  },
  {
   "cell_type": "code",
   "execution_count": null,
   "id": "5698cbf0-1cdf-4e58-a302-66b068a476a2",
   "metadata": {},
   "outputs": [],
   "source": [
    "carlie_matel['MRR'].sum()"
   ]
  },
  {
   "cell_type": "code",
   "execution_count": null,
   "id": "e0b6b9ec-aa16-48cc-ba32-566924b199e3",
   "metadata": {},
   "outputs": [],
   "source": [
    "carlie_matel.loc[111111] = ['Indivdual Payout:', '' , '' , '' , '' , '' , '' , '' , '' , matel_payout , '' , '']"
   ]
  },
  {
   "cell_type": "code",
   "execution_count": null,
   "id": "a356fc84-dd51-456f-9bc1-4c26c01fa3e9",
   "metadata": {},
   "outputs": [],
   "source": [
    "carlie_matel.to_excel('matel_june_2022.xlsx',index=False)"
   ]
  },
  {
   "cell_type": "markdown",
   "id": "19bc9806-80d3-4e33-8d9f-d6ab8abe1b90",
   "metadata": {},
   "source": [
    "### End Carlie Matel"
   ]
  },
  {
   "cell_type": "markdown",
   "id": "8ce068b4-5f18-4262-9dcb-db7813b5c121",
   "metadata": {
    "jp-MarkdownHeadingCollapsed": true,
    "tags": []
   },
   "source": [
    "### Bernard Petfield"
   ]
  },
  {
   "cell_type": "code",
   "execution_count": null,
   "id": "4793f126-d62e-41a6-bfea-949f1ee19283",
   "metadata": {},
   "outputs": [],
   "source": [
    "try: \n",
    "    bernard_petfield['payout'] = bernard_petfield['MRR'] * bernard_petfield['Multiplier'] /2\n",
    "except:\n",
    "    print('no')"
   ]
  },
  {
   "cell_type": "code",
   "execution_count": null,
   "id": "0aebfec1-b7f0-4949-b576-8da1d2673045",
   "metadata": {},
   "outputs": [],
   "source": [
    "bernard_petfield.head(1)"
   ]
  },
  {
   "cell_type": "code",
   "execution_count": null,
   "id": "eb0767ea-e293-4689-b0c8-c4450258a277",
   "metadata": {},
   "outputs": [],
   "source": [
    "petfield_payout = bernard_petfield['payout'].sum()"
   ]
  },
  {
   "cell_type": "code",
   "execution_count": null,
   "id": "27423ea9-7533-46e4-ade3-4ba8d1c87fff",
   "metadata": {},
   "outputs": [],
   "source": [
    "bernard_petfield['MRR'].sum()"
   ]
  },
  {
   "cell_type": "code",
   "execution_count": null,
   "id": "985810f4-e72d-4595-ab8e-0bc9609220a5",
   "metadata": {},
   "outputs": [],
   "source": [
    "bernard_petfield.loc[111111] = ['Indivdual Payout:', '' , '' , '' , '' , '' , '' , '' , '' , petfield_payout , '' , '']"
   ]
  },
  {
   "cell_type": "code",
   "execution_count": null,
   "id": "4497fc9c-1fa5-411a-85fc-f5cfa2772ef7",
   "metadata": {},
   "outputs": [],
   "source": [
    "bernard_petfield.to_excel('petfield_june_2022.xlsx',index=False)"
   ]
  },
  {
   "cell_type": "markdown",
   "id": "919077ea-cda7-4284-835a-2ddc984d45d8",
   "metadata": {},
   "source": [
    "### End Bernard Petfield"
   ]
  },
  {
   "cell_type": "markdown",
   "id": "fcf1c24e-ab42-48da-b3c2-3cc9b7531c0c",
   "metadata": {
    "tags": []
   },
   "source": [
    "### Jonathan Malcolm"
   ]
  },
  {
   "cell_type": "code",
   "execution_count": null,
   "id": "132e6b0a-e0cf-4cba-81ea-de6ea3c1a99a",
   "metadata": {},
   "outputs": [],
   "source": [
    "try: \n",
    "    jonathan_malcolm['payout'] = jonathan_malcolm['MRR'] * jonathan_malcolm['Multiplier'] /2\n",
    "except:\n",
    "    print('no')"
   ]
  },
  {
   "cell_type": "code",
   "execution_count": null,
   "id": "e13c2381-fa9d-403b-a577-6f60ca99adb7",
   "metadata": {},
   "outputs": [],
   "source": [
    "jonathan_malcolm.head(1)"
   ]
  },
  {
   "cell_type": "code",
   "execution_count": null,
   "id": "8f4a71e0-7f63-401c-84f5-e5d9d5371df5",
   "metadata": {},
   "outputs": [],
   "source": [
    "malcolm_payout = jonathan_malcolm['payout'].sum()"
   ]
  },
  {
   "cell_type": "code",
   "execution_count": null,
   "id": "022ce672-dbb5-48c2-a6a2-3526e2132b87",
   "metadata": {},
   "outputs": [],
   "source": [
    "jonathan_malcolm['MRR'].sum()"
   ]
  },
  {
   "cell_type": "code",
   "execution_count": null,
   "id": "bf9fc840-b320-47cc-9aa6-914d31d6c0ab",
   "metadata": {},
   "outputs": [],
   "source": [
    "jonathan_malcolm.loc[111111] = ['Indivdual Payout:', '' , '' , '' , '' , '' , '' , '' , '' , malcolm_payout , '0' , '']"
   ]
  },
  {
   "cell_type": "code",
   "execution_count": null,
   "id": "c0f0251d-7efa-4518-9807-a793aa1d236e",
   "metadata": {},
   "outputs": [],
   "source": [
    "jonathan_malcolm.to_excel('malcolm_june_2022.xlsx',index=False)"
   ]
  },
  {
   "cell_type": "markdown",
   "id": "7e3c3ef4-a00f-4875-9069-665bbf0bed56",
   "metadata": {
    "jp-MarkdownHeadingCollapsed": true,
    "tags": []
   },
   "source": [
    "### End Jonathan Malcolm"
   ]
  },
  {
   "cell_type": "markdown",
   "id": "c9a850a5-c106-4687-b998-522b90a87622",
   "metadata": {},
   "source": [
    "### Robert Doretti"
   ]
  },
  {
   "cell_type": "code",
   "execution_count": null,
   "id": "ecd2f111-eed0-4534-a4c5-83d5fb8bcc0d",
   "metadata": {},
   "outputs": [],
   "source": [
    "try: \n",
    "    robert_doretti['payout'] = robert_doretti['Gross MRR'] * robert_doretti['Multiplier'] /2\n",
    "except:\n",
    "    print('no')"
   ]
  },
  {
   "cell_type": "code",
   "execution_count": null,
   "id": "8cb438ef-602c-4487-85d6-2206c11743a0",
   "metadata": {},
   "outputs": [],
   "source": []
  },
  {
   "cell_type": "markdown",
   "id": "4d5bd462-7304-4f3f-997d-ca5d2b1ab187",
   "metadata": {},
   "source": [
    "### End Robert Doretti"
   ]
  },
  {
   "cell_type": "markdown",
   "id": "0a2e0c67-6afe-47b2-82bc-a6edb7cc598b",
   "metadata": {},
   "source": [
    "### Jacob Zupancic"
   ]
  },
  {
   "cell_type": "code",
   "execution_count": null,
   "id": "b576614d-6e36-4e0c-b1c6-0900736826ee",
   "metadata": {},
   "outputs": [],
   "source": [
    "try: \n",
    "    jacob_zupancic['payout'] = jacob_zupancic['MRR'] * jacob_zupancic['Multiplier'] /2\n",
    "except:\n",
    "    print('no')"
   ]
  },
  {
   "cell_type": "code",
   "execution_count": null,
   "id": "2b653595-14ef-42ee-806c-0569e26376bb",
   "metadata": {},
   "outputs": [],
   "source": [
    "jacob_zupancic.head(1)"
   ]
  },
  {
   "cell_type": "code",
   "execution_count": null,
   "id": "12a5e706-e759-4ecd-b4ac-34d9b4dd119e",
   "metadata": {},
   "outputs": [],
   "source": [
    "zupancic_payout = jacob_zupancic['payout'].sum()"
   ]
  },
  {
   "cell_type": "code",
   "execution_count": null,
   "id": "2ae80759-90aa-48fd-bbd0-61f225394e41",
   "metadata": {},
   "outputs": [],
   "source": [
    "#jacob_zupancic['MRR'].sum()"
   ]
  },
  {
   "cell_type": "code",
   "execution_count": null,
   "id": "da7ffd97-b3a6-4707-b719-a06a76493190",
   "metadata": {},
   "outputs": [],
   "source": [
    "jacob_zupancic.loc[111111] = ['Indivdual Payout:', '' , '' , '' , '' , '' , '' , '' , '' , zupancic_payout , '0' , '']"
   ]
  },
  {
   "cell_type": "code",
   "execution_count": null,
   "id": "e7e5bf0b-7a36-499b-b707-d8fa184e1063",
   "metadata": {},
   "outputs": [],
   "source": [
    "#jacob_zupancic.to_excel('candyman.xlsx')"
   ]
  },
  {
   "cell_type": "markdown",
   "id": "24dbdf97-7e26-433a-9a11-0f3f838667a4",
   "metadata": {},
   "source": [
    "### End Jacob Zupancic"
   ]
  },
  {
   "cell_type": "markdown",
   "id": "f5bffab0-2aa7-41ac-b9e9-a47228937b3e",
   "metadata": {
    "tags": []
   },
   "source": [
    "### Michael DeBetta"
   ]
  },
  {
   "cell_type": "code",
   "execution_count": null,
   "id": "448fa60c-2c9f-4162-a6ca-3340e8255502",
   "metadata": {},
   "outputs": [],
   "source": [
    "try: \n",
    "    michael_debetta['payout'] = michael_debetta['MRR'] * michael_debetta['Multiplier'] /2\n",
    "except:\n",
    "    print('no')"
   ]
  },
  {
   "cell_type": "code",
   "execution_count": null,
   "id": "abfb98fe-5fb1-4845-8087-08012166b67a",
   "metadata": {},
   "outputs": [],
   "source": [
    "michael_debetta.head(1)"
   ]
  },
  {
   "cell_type": "code",
   "execution_count": null,
   "id": "7e4d6b09-0c81-499c-9e89-1fe1c5dbb18f",
   "metadata": {},
   "outputs": [],
   "source": [
    "debetta_payout = michael_debetta['payout'].sum()"
   ]
  },
  {
   "cell_type": "code",
   "execution_count": null,
   "id": "93b4281e-918b-4e9e-af5b-d1f39d1e332e",
   "metadata": {},
   "outputs": [],
   "source": [
    "#michael_debetta['MRR'].sum()"
   ]
  },
  {
   "cell_type": "code",
   "execution_count": null,
   "id": "43cb3643-88ac-4368-863c-80d9a3bc8995",
   "metadata": {},
   "outputs": [],
   "source": [
    "michael_debetta.loc[111111] = ['Indivdual Payout:', '' , '' , '' , '' , '' , '' , '' , '' , debetta_payout , '0' , '']"
   ]
  },
  {
   "cell_type": "code",
   "execution_count": null,
   "id": "f5d7c87f-b00d-42c5-b595-dd86405144ee",
   "metadata": {},
   "outputs": [],
   "source": [
    "#michael_debetta.to_excel('candyman.xlsx')"
   ]
  },
  {
   "cell_type": "markdown",
   "id": "3cc7095b-d421-441f-b9f1-bc12689e1151",
   "metadata": {},
   "source": [
    "### End Michael DeBetta"
   ]
  },
  {
   "cell_type": "markdown",
   "id": "fc3c04c3-0fe0-43ea-809c-758f084d7f92",
   "metadata": {},
   "source": [
    "### Natalie Farr"
   ]
  },
  {
   "cell_type": "code",
   "execution_count": null,
   "id": "03aca390-f969-4a53-83a9-85ee524cb055",
   "metadata": {},
   "outputs": [],
   "source": [
    "try: \n",
    "    natalie_farr['payout'] = natalie_farr['MRR'] * natalie_farr['Multiplier'] /2\n",
    "except:\n",
    "    print('no')"
   ]
  },
  {
   "cell_type": "code",
   "execution_count": null,
   "id": "372c414b-46ae-4a6d-aac1-1b5115497021",
   "metadata": {},
   "outputs": [],
   "source": [
    "natalie_farr.head(1)"
   ]
  },
  {
   "cell_type": "code",
   "execution_count": null,
   "id": "59cadd14-9f84-4c81-8a34-4c09093d26c9",
   "metadata": {},
   "outputs": [],
   "source": [
    "farr_payout = natalie_farr['payout'].sum()"
   ]
  },
  {
   "cell_type": "code",
   "execution_count": null,
   "id": "ea994931-cf22-4de8-9480-809efc58a890",
   "metadata": {},
   "outputs": [],
   "source": [
    "#natalie_farr['MRR'].sum()"
   ]
  },
  {
   "cell_type": "code",
   "execution_count": null,
   "id": "e94431dd-f7cb-4200-a621-0c4f06585e5d",
   "metadata": {},
   "outputs": [],
   "source": [
    "natalie_farr.loc[111111] = ['Indivdual Payout:', '' , '' , '' , '' , '' , '' , '' , '' , farr_payout , '0' , '']"
   ]
  },
  {
   "cell_type": "code",
   "execution_count": null,
   "id": "f865556b-83bf-44c8-8e83-3039238e035a",
   "metadata": {},
   "outputs": [],
   "source": [
    "#natalie_farr.to_excel('candyman.xlsx')"
   ]
  },
  {
   "cell_type": "markdown",
   "id": "c8abd6ba-dad1-4b4e-b7dd-0ffd32642eeb",
   "metadata": {},
   "source": [
    "### End Natalie Farr"
   ]
  },
  {
   "cell_type": "markdown",
   "id": "22dbcdde-178f-4897-a9a1-835d4dab5c45",
   "metadata": {},
   "source": [
    "### Dan Ephraim"
   ]
  },
  {
   "cell_type": "code",
   "execution_count": null,
   "id": "2d5a1125-1393-4c1f-b7dd-6397ae064f10",
   "metadata": {},
   "outputs": [],
   "source": [
    "try: \n",
    "    dan_ephraim['payout'] = dan_ephraim['MRR'] * dan_ephraim['Multiplier'] /2\n",
    "except:\n",
    "    print('no')"
   ]
  },
  {
   "cell_type": "code",
   "execution_count": null,
   "id": "a5850414-bf9b-4073-a0b2-b02f7797aa31",
   "metadata": {},
   "outputs": [],
   "source": [
    "dan_ephraim.head(1)"
   ]
  },
  {
   "cell_type": "code",
   "execution_count": null,
   "id": "81f2a2fd-7025-405d-9af6-777e54fcf29b",
   "metadata": {},
   "outputs": [],
   "source": [
    "ephraim_payout = dan_ephraim['payout'].sum()"
   ]
  },
  {
   "cell_type": "code",
   "execution_count": null,
   "id": "3b265570-21b5-4d76-b818-e42a78da03dd",
   "metadata": {},
   "outputs": [],
   "source": [
    "#dan_ephraim['MRR'].sum()"
   ]
  },
  {
   "cell_type": "code",
   "execution_count": null,
   "id": "a3b0ff75-da82-41f1-95ca-da3481ebf4e3",
   "metadata": {},
   "outputs": [],
   "source": [
    "dan_ephraim.loc[111111] = ['Indivdual Payout:', '' , '' , '' , '' , '' , '' , '' , '' , ephraim_payout , '0' , '']"
   ]
  },
  {
   "cell_type": "code",
   "execution_count": null,
   "id": "1559458d-9baa-4273-9468-f4719839cc4c",
   "metadata": {},
   "outputs": [],
   "source": [
    "#dan_ephraim.to_excel('candyman.xlsx')"
   ]
  },
  {
   "cell_type": "markdown",
   "id": "94b184d6-8e88-4638-b42a-80d6f0548814",
   "metadata": {},
   "source": [
    "### End Dan Ephraim"
   ]
  },
  {
   "cell_type": "markdown",
   "id": "c15525bc-c481-4318-823d-22fa760144b8",
   "metadata": {},
   "source": [
    "### Stephen Muoio"
   ]
  },
  {
   "cell_type": "code",
   "execution_count": null,
   "id": "033cd707-cddc-46c6-9618-1dc8b849bd47",
   "metadata": {},
   "outputs": [],
   "source": [
    "try: \n",
    "    stephen_muoio['payout'] = stephen_muoio['MRR'] * stephen_muoio['Multiplier'] /2\n",
    "except:\n",
    "    print('no')"
   ]
  },
  {
   "cell_type": "code",
   "execution_count": null,
   "id": "9f006aa2-992c-445f-95a7-4c9127826b93",
   "metadata": {},
   "outputs": [],
   "source": [
    "stephen_muoio.head(1)"
   ]
  },
  {
   "cell_type": "code",
   "execution_count": null,
   "id": "0a76ad78-0e80-423c-a22e-fbc5c73e09c6",
   "metadata": {},
   "outputs": [],
   "source": [
    "muoio_payout = stephen_muoio['payout'].sum()"
   ]
  },
  {
   "cell_type": "code",
   "execution_count": null,
   "id": "932e8837-46fe-4cc0-bb88-9ea0c9ba86f7",
   "metadata": {},
   "outputs": [],
   "source": [
    "#stephen_muoio['MRR'].sum()"
   ]
  },
  {
   "cell_type": "code",
   "execution_count": null,
   "id": "fc727b99-2392-4e7d-8986-593af61a37f9",
   "metadata": {},
   "outputs": [],
   "source": [
    "stephen_muoio.loc[111111] = ['Indivdual Payout:', '' , '' , '' , '' , '' , '' , '' , '' , muoio_payout , '0' , '']"
   ]
  },
  {
   "cell_type": "code",
   "execution_count": null,
   "id": "12052977-dfd4-4eae-b6f0-3f2665176ddc",
   "metadata": {},
   "outputs": [],
   "source": [
    "#stephen_muoio.to_excel('candyman.xlsx')"
   ]
  },
  {
   "cell_type": "markdown",
   "id": "a9170388-4062-4746-8736-db04b231a7ff",
   "metadata": {},
   "source": [
    "### End Stephen Muoio"
   ]
  },
  {
   "cell_type": "markdown",
   "id": "02c35298-5f0f-450f-a243-d4c2f3ef3726",
   "metadata": {
    "tags": []
   },
   "source": [
    "### Jeffrey Reinis"
   ]
  },
  {
   "cell_type": "code",
   "execution_count": null,
   "id": "2b93dfb3-309a-4d27-944f-f60218aa7b1a",
   "metadata": {},
   "outputs": [],
   "source": [
    "try: \n",
    "    jeffrey_reinis['payout'] = jeffrey_reinis['MRR'] * jeffrey_reinis['Multiplier'] /2\n",
    "except:\n",
    "    print('no')"
   ]
  },
  {
   "cell_type": "code",
   "execution_count": null,
   "id": "f315e8c6-a198-4a8b-9553-9e1c788e0c6b",
   "metadata": {},
   "outputs": [],
   "source": [
    "jeffrey_reinis.head(1)"
   ]
  },
  {
   "cell_type": "code",
   "execution_count": null,
   "id": "b114e912-ad8d-4538-bd2a-bc8265cd2f85",
   "metadata": {},
   "outputs": [],
   "source": [
    "reinis_payout = jeffrey_reinis['payout'].sum()"
   ]
  },
  {
   "cell_type": "code",
   "execution_count": null,
   "id": "26b46709-4c44-4306-8290-7b0ca16766c3",
   "metadata": {},
   "outputs": [],
   "source": [
    "jeffrey_reinis['MRR'].sum()"
   ]
  },
  {
   "cell_type": "code",
   "execution_count": null,
   "id": "3f8353d8-ed24-4256-a8d7-6a6c186f38a8",
   "metadata": {},
   "outputs": [],
   "source": [
    "jeffrey_reinis.loc[111111] = ['Indivdual Payout:', '' , '' , '' , '' , '' , '' , '' , '' , reinis_payout , '0' , '']"
   ]
  },
  {
   "cell_type": "code",
   "execution_count": null,
   "id": "a393cafc-978c-4c32-866d-6b020c2338f3",
   "metadata": {},
   "outputs": [],
   "source": [
    "jeffrey_reinis.to_excel('reinis_june_2022.xlsx',index=False)"
   ]
  },
  {
   "cell_type": "markdown",
   "id": "bde64891-19b6-4e28-890c-fc8192c6c633",
   "metadata": {},
   "source": [
    "### End Jeffrey Reinis"
   ]
  },
  {
   "cell_type": "markdown",
   "id": "21d4703e-523e-4cce-b59e-6af674d5d4fd",
   "metadata": {
    "tags": []
   },
   "source": [
    "### Kathy J Geiser"
   ]
  },
  {
   "cell_type": "code",
   "execution_count": null,
   "id": "d93108b6-37ce-49b8-89f4-f3a3a877bae9",
   "metadata": {},
   "outputs": [],
   "source": [
    "try: \n",
    "    kathy_geiser['payout'] = kathy_geiser['MRR'] * kathy_geiser['Multiplier'] /2\n",
    "except:\n",
    "    print('no')"
   ]
  },
  {
   "cell_type": "code",
   "execution_count": null,
   "id": "8e083dc1-e5c9-4878-a8c0-b38c729a3f02",
   "metadata": {},
   "outputs": [],
   "source": [
    "kathy_geiser.head(1)"
   ]
  },
  {
   "cell_type": "code",
   "execution_count": null,
   "id": "4217d4ec-b9c7-40f4-9c49-d7ec6a39d23c",
   "metadata": {},
   "outputs": [],
   "source": [
    "geiser_payout = kathy_geiser['payout'].sum()"
   ]
  },
  {
   "cell_type": "code",
   "execution_count": null,
   "id": "e6dc2225-7c20-42ac-a568-8b5ed3611b9e",
   "metadata": {},
   "outputs": [],
   "source": [
    "kathy_geiser['MRR'].sum()"
   ]
  },
  {
   "cell_type": "code",
   "execution_count": null,
   "id": "957cbfbf-54d9-482c-99fe-b6ee0bb033a2",
   "metadata": {},
   "outputs": [],
   "source": [
    "kathy_geiser.loc[111111] = ['Indivdual Payout:', '' , '' , '' , '' , '' , '' , '' , '' , geiser_payout , '0' , '']"
   ]
  },
  {
   "cell_type": "code",
   "execution_count": null,
   "id": "fcb1ecdf-84a6-46cb-b4f6-f6b5ab6f9aca",
   "metadata": {},
   "outputs": [],
   "source": [
    "kathy_geiser.to_excel('geiser_june_2022.xlsx',index=False)"
   ]
  },
  {
   "cell_type": "markdown",
   "id": "0b613456-e28f-40d2-81ed-eaae548f3685",
   "metadata": {},
   "source": [
    "### End Kathy J Geiser"
   ]
  },
  {
   "cell_type": "markdown",
   "id": "2039282c-2aaf-45cb-a307-222bca5d6948",
   "metadata": {},
   "source": [
    "### Daniel Smith"
   ]
  },
  {
   "cell_type": "code",
   "execution_count": null,
   "id": "7b322ea8-75bd-4655-baa1-c7e7b23bae5d",
   "metadata": {},
   "outputs": [],
   "source": [
    "try: \n",
    "    daniel_smith['payout'] = daniel_smith['MRR'] * daniel_smith['Multiplier'] /2\n",
    "except:\n",
    "    print('no')"
   ]
  },
  {
   "cell_type": "code",
   "execution_count": null,
   "id": "64b84046-0370-401f-a7fa-4c64fa5d1470",
   "metadata": {},
   "outputs": [],
   "source": [
    "daniel_smith.head(1)"
   ]
  },
  {
   "cell_type": "code",
   "execution_count": null,
   "id": "80ff07f3-cb1b-4138-a0bf-60de1a48dd2e",
   "metadata": {},
   "outputs": [],
   "source": [
    "smith_payout = daniel_smith['payout'].sum()"
   ]
  },
  {
   "cell_type": "code",
   "execution_count": null,
   "id": "ce41b0d5-6777-428b-8c41-d6185d34aafb",
   "metadata": {},
   "outputs": [],
   "source": [
    "daniel_smith['MRR'].sum()"
   ]
  },
  {
   "cell_type": "code",
   "execution_count": null,
   "id": "68822ded-d4f6-49c1-aec5-dfaae3746428",
   "metadata": {},
   "outputs": [],
   "source": [
    "daniel_smith.loc[111111] = ['Indivdual Payout:', '' , '' , '' , '' , '' , '' , '' , '' , smith_payout , '0' , '']"
   ]
  },
  {
   "cell_type": "code",
   "execution_count": null,
   "id": "16d0a208-3c9f-4701-a2b0-bcde14df04e6",
   "metadata": {},
   "outputs": [],
   "source": [
    "daniel_smith.to_excel('smith_june_2022.xlsx',index=False)"
   ]
  },
  {
   "cell_type": "markdown",
   "id": "b25c5350-2d7d-45be-878f-1d32e5f62ad9",
   "metadata": {},
   "source": [
    "### End Daniel Smith"
   ]
  },
  {
   "cell_type": "markdown",
   "id": "060e81c4-3dd0-4a46-a5ad-363df51e65b2",
   "metadata": {},
   "source": [
    "### Tim Langan"
   ]
  },
  {
   "cell_type": "code",
   "execution_count": null,
   "id": "84c40349-c56f-4609-b7b7-4e5cc6135b18",
   "metadata": {},
   "outputs": [],
   "source": []
  },
  {
   "cell_type": "code",
   "execution_count": null,
   "id": "7ef23b89-5d3e-46df-ab90-24f44857c0d9",
   "metadata": {},
   "outputs": [],
   "source": []
  },
  {
   "cell_type": "markdown",
   "id": "be1c3718-6b91-4e43-895d-8dab65b2030c",
   "metadata": {},
   "source": [
    "### End Tim Langan"
   ]
  },
  {
   "cell_type": "markdown",
   "id": "ab4f86c4-547a-43b7-83a8-26f70c17eb73",
   "metadata": {},
   "source": [
    "### Shelby Locklear"
   ]
  },
  {
   "cell_type": "code",
   "execution_count": null,
   "id": "1eb800af-dc0e-4815-87ad-a78901e77768",
   "metadata": {},
   "outputs": [],
   "source": []
  },
  {
   "cell_type": "code",
   "execution_count": null,
   "id": "0ffcb7cd-7b3e-41c0-a823-425abb3acd3e",
   "metadata": {},
   "outputs": [],
   "source": []
  },
  {
   "cell_type": "markdown",
   "id": "d4c9f54c-123b-4261-95f7-c692c70ecc2d",
   "metadata": {},
   "source": [
    "### End Shelby Locklear"
   ]
  },
  {
   "cell_type": "markdown",
   "id": "7f97087c-d60d-4cd7-9f02-2f657222c960",
   "metadata": {},
   "source": [
    "### Tiffany Dunson"
   ]
  },
  {
   "cell_type": "code",
   "execution_count": null,
   "id": "e7a0dcd8-7c35-4f9b-8723-e3d4ef876bff",
   "metadata": {},
   "outputs": [],
   "source": []
  },
  {
   "cell_type": "code",
   "execution_count": null,
   "id": "3bc9613e-bc92-483a-9282-06af1afa6727",
   "metadata": {},
   "outputs": [],
   "source": []
  },
  {
   "cell_type": "markdown",
   "id": "2fb034d6-3aae-4d63-ad36-ad53259dd6c1",
   "metadata": {},
   "source": [
    "### End Tiffany Dunson"
   ]
  },
  {
   "cell_type": "markdown",
   "id": "2726e5d5-87b2-40f4-ade7-75a9f739ceef",
   "metadata": {},
   "source": [
    "### Patrick Chapa"
   ]
  },
  {
   "cell_type": "code",
   "execution_count": null,
   "id": "4d509df0-bbdd-41c0-9c93-6c40e35cad83",
   "metadata": {},
   "outputs": [],
   "source": []
  },
  {
   "cell_type": "code",
   "execution_count": null,
   "id": "07f85acc-b15f-4a97-afd3-9b7c9dc87f50",
   "metadata": {},
   "outputs": [],
   "source": []
  },
  {
   "cell_type": "markdown",
   "id": "70582bcb-df0f-43f8-8ad0-37101ddc811f",
   "metadata": {},
   "source": [
    "### End Patrick Chapa"
   ]
  },
  {
   "cell_type": "markdown",
   "id": "efd64794-c15b-44bd-b0f1-cfe542ea0856",
   "metadata": {},
   "source": [
    "### Mark McCants"
   ]
  },
  {
   "cell_type": "code",
   "execution_count": null,
   "id": "5a9d42e8-d591-45d0-a629-673ae7d83791",
   "metadata": {},
   "outputs": [],
   "source": []
  },
  {
   "cell_type": "code",
   "execution_count": null,
   "id": "6e9e4488-e335-47a2-88ae-74ba202dca4a",
   "metadata": {},
   "outputs": [],
   "source": []
  },
  {
   "cell_type": "markdown",
   "id": "35fabe80-f8b6-4a1e-9336-8d462e8072ee",
   "metadata": {},
   "source": [
    "### End Mark McCants"
   ]
  },
  {
   "cell_type": "markdown",
   "id": "dd61a327-d4ad-4569-8a00-ab1a8b18cf56",
   "metadata": {},
   "source": [
    "### RJ Thibodeau"
   ]
  },
  {
   "cell_type": "code",
   "execution_count": null,
   "id": "922c7e49-9506-4085-ab00-92bf9932bf52",
   "metadata": {},
   "outputs": [],
   "source": []
  },
  {
   "cell_type": "code",
   "execution_count": null,
   "id": "5297c607-4d98-4cb4-b005-ae987a834a62",
   "metadata": {},
   "outputs": [],
   "source": []
  },
  {
   "cell_type": "markdown",
   "id": "30177d4a-f9e3-471c-a1d4-4548b30b4c7e",
   "metadata": {},
   "source": [
    "### End RJ Thibodeau"
   ]
  },
  {
   "cell_type": "markdown",
   "id": "cb66779c-cec2-45f9-acc8-e0ac5982ab39",
   "metadata": {},
   "source": [
    "### Scott Palsgrove"
   ]
  },
  {
   "cell_type": "code",
   "execution_count": null,
   "id": "81793053-1fb9-4fef-aa29-05fe0b5a6b26",
   "metadata": {},
   "outputs": [],
   "source": []
  },
  {
   "cell_type": "code",
   "execution_count": null,
   "id": "492c04f0-eee7-49c1-8214-219a21602bcf",
   "metadata": {},
   "outputs": [],
   "source": []
  },
  {
   "cell_type": "markdown",
   "id": "5092de04-ccb1-4975-a12a-6f4c664b1d44",
   "metadata": {},
   "source": [
    "### End Scott Palsgrove"
   ]
  },
  {
   "cell_type": "markdown",
   "id": "dafe80f9-48ec-4788-9f39-2e1d21067670",
   "metadata": {},
   "source": [
    "### Odaine Hudson"
   ]
  },
  {
   "cell_type": "code",
   "execution_count": null,
   "id": "60a365c6-6dcc-460f-87e2-6e6fbdf1ba29",
   "metadata": {},
   "outputs": [],
   "source": []
  },
  {
   "cell_type": "code",
   "execution_count": null,
   "id": "ff97b70a-069e-42d8-abee-cc35ff7abcc5",
   "metadata": {},
   "outputs": [],
   "source": []
  },
  {
   "cell_type": "markdown",
   "id": "a10f24aa-e6cc-4162-ac55-5120aef97f05",
   "metadata": {},
   "source": [
    "### End Odaine Hudson"
   ]
  },
  {
   "cell_type": "markdown",
   "id": "4103162b-e35c-49e7-8678-d4bbddedda5f",
   "metadata": {},
   "source": [
    "### Rebecca Shaffer"
   ]
  },
  {
   "cell_type": "code",
   "execution_count": null,
   "id": "5242525d-932e-4410-8a06-31c2a4ba1f3c",
   "metadata": {},
   "outputs": [],
   "source": []
  },
  {
   "cell_type": "code",
   "execution_count": null,
   "id": "61d600a4-3ba4-4b27-8112-ac53f9e909b5",
   "metadata": {},
   "outputs": [],
   "source": []
  },
  {
   "cell_type": "markdown",
   "id": "e11d591b-d0ed-4bab-84d1-95368b5abf5f",
   "metadata": {},
   "source": [
    "### End Rebecca Shaffer"
   ]
  },
  {
   "cell_type": "markdown",
   "id": "000a3cae-1869-469e-98ac-17dd909d53af",
   "metadata": {},
   "source": [
    "### Morgan Martensen"
   ]
  },
  {
   "cell_type": "code",
   "execution_count": null,
   "id": "2138d8ec-ee53-4a1b-b40f-5de1bdaa4902",
   "metadata": {},
   "outputs": [],
   "source": []
  },
  {
   "cell_type": "code",
   "execution_count": null,
   "id": "781b6b04-6b4d-4afe-b8a6-409c49505625",
   "metadata": {},
   "outputs": [],
   "source": []
  },
  {
   "cell_type": "markdown",
   "id": "6b2c2edb-53db-4b9c-a9a6-c81a86e53759",
   "metadata": {},
   "source": [
    "### End Morgan Martensen"
   ]
  },
  {
   "cell_type": "markdown",
   "id": "bc1cbf26-97be-48bd-810a-6c7827263623",
   "metadata": {},
   "source": [
    "### Krystin Tagaris"
   ]
  },
  {
   "cell_type": "code",
   "execution_count": null,
   "id": "fb4b26fe-baf1-4114-a9da-3a696ba278bc",
   "metadata": {},
   "outputs": [],
   "source": []
  },
  {
   "cell_type": "code",
   "execution_count": null,
   "id": "f00d8df4-9ef3-4b26-8257-8b33e3564cec",
   "metadata": {},
   "outputs": [],
   "source": []
  },
  {
   "cell_type": "markdown",
   "id": "d632e45c-6d04-4c44-b3ce-4a8a1083a0b7",
   "metadata": {},
   "source": [
    "### End Krystin Tagaris"
   ]
  },
  {
   "cell_type": "markdown",
   "id": "1f73d027-4aa4-4c4d-a77c-6700d95ff116",
   "metadata": {},
   "source": [
    "### Angela Rogalski"
   ]
  },
  {
   "cell_type": "code",
   "execution_count": null,
   "id": "ff0f02f8-173b-416f-8097-aa778909fc88",
   "metadata": {},
   "outputs": [],
   "source": []
  },
  {
   "cell_type": "code",
   "execution_count": null,
   "id": "db6e5f79-16ac-4f54-862e-0fd47fd9879d",
   "metadata": {},
   "outputs": [],
   "source": []
  },
  {
   "cell_type": "markdown",
   "id": "eea5cc16-0873-4170-8b46-52b0ebce0597",
   "metadata": {},
   "source": [
    "### End Angela Rogalski"
   ]
  },
  {
   "cell_type": "markdown",
   "id": "dcc5d640-2645-4b5e-b082-fcdf591becfb",
   "metadata": {},
   "source": [
    "### Jennifer Bowman"
   ]
  },
  {
   "cell_type": "code",
   "execution_count": null,
   "id": "cac0ed23-7af2-46f4-afa0-a781d05edd8d",
   "metadata": {},
   "outputs": [],
   "source": []
  },
  {
   "cell_type": "code",
   "execution_count": null,
   "id": "b523fc2e-7b0d-4858-a8aa-a1b397024559",
   "metadata": {},
   "outputs": [],
   "source": []
  },
  {
   "cell_type": "markdown",
   "id": "97f50483-e82a-4fed-9ff3-11d274e985a6",
   "metadata": {},
   "source": [
    "### End Jennifer Bowman"
   ]
  },
  {
   "cell_type": "markdown",
   "id": "dca8cefc-75ea-4004-84b9-89d4e2ba6cd3",
   "metadata": {},
   "source": [
    "### Matt Horne"
   ]
  },
  {
   "cell_type": "code",
   "execution_count": null,
   "id": "259595e0-c640-451e-b528-f05ea4a60bb2",
   "metadata": {},
   "outputs": [],
   "source": []
  },
  {
   "cell_type": "code",
   "execution_count": null,
   "id": "1951aaa8-3961-49db-82e5-9affd946f724",
   "metadata": {},
   "outputs": [],
   "source": []
  },
  {
   "cell_type": "markdown",
   "id": "3b29a94d-7711-4bec-ab6c-7f3c6903e34d",
   "metadata": {},
   "source": [
    "### End Matt Horne"
   ]
  },
  {
   "cell_type": "markdown",
   "id": "e73ec904-cd9e-4b19-8dad-1814ad2912d6",
   "metadata": {},
   "source": [
    "### Michael Murray"
   ]
  },
  {
   "cell_type": "code",
   "execution_count": null,
   "id": "86c2b52f-1216-473b-a145-9ac883dbd047",
   "metadata": {},
   "outputs": [],
   "source": []
  },
  {
   "cell_type": "code",
   "execution_count": null,
   "id": "961be7bc-fdb6-4a17-a7a0-b99ecc65eb43",
   "metadata": {},
   "outputs": [],
   "source": []
  },
  {
   "cell_type": "markdown",
   "id": "e0a08700-daa0-4bee-a736-270729cbfaf3",
   "metadata": {},
   "source": [
    "### End Michael Murray"
   ]
  },
  {
   "cell_type": "markdown",
   "id": "68b65eeb-bb9a-4c7e-86c4-7c43a0f595e9",
   "metadata": {},
   "source": [
    "### Samuel Mickler"
   ]
  },
  {
   "cell_type": "code",
   "execution_count": null,
   "id": "62622609-882e-4eb8-926f-7a22e5ec90b9",
   "metadata": {},
   "outputs": [],
   "source": []
  },
  {
   "cell_type": "code",
   "execution_count": null,
   "id": "4dcaad48-f8e4-444f-b462-0b50b79a7b8d",
   "metadata": {},
   "outputs": [],
   "source": []
  },
  {
   "cell_type": "markdown",
   "id": "749ed2d4-8fa4-4f7b-9236-e622273eab2a",
   "metadata": {},
   "source": [
    "### End Samuel Mickler"
   ]
  },
  {
   "cell_type": "markdown",
   "id": "5ba157ea-3ab8-443d-b012-98f3c0b10af1",
   "metadata": {},
   "source": [
    "### Michael Skalitzky"
   ]
  },
  {
   "cell_type": "code",
   "execution_count": null,
   "id": "346e6f97-c3d6-49ad-85f0-06812b0255fc",
   "metadata": {},
   "outputs": [],
   "source": []
  },
  {
   "cell_type": "code",
   "execution_count": null,
   "id": "19112259-168e-40ed-9d53-fd8b8e317bb2",
   "metadata": {},
   "outputs": [],
   "source": []
  },
  {
   "cell_type": "markdown",
   "id": "e47632a3-5f71-438b-9a91-e0d3da9cd455",
   "metadata": {},
   "source": [
    "### End Michael Skalitzky"
   ]
  },
  {
   "cell_type": "markdown",
   "id": "998c8959-2081-400e-9354-5d273c7e6e6d",
   "metadata": {},
   "source": [
    "### Mike Miceli"
   ]
  },
  {
   "cell_type": "code",
   "execution_count": null,
   "id": "ff8ce65b-b589-4c6c-982f-6cdbbe6489b5",
   "metadata": {},
   "outputs": [],
   "source": []
  },
  {
   "cell_type": "code",
   "execution_count": null,
   "id": "ab24b6e7-7861-4541-80a4-4f9259a2712a",
   "metadata": {},
   "outputs": [],
   "source": []
  },
  {
   "cell_type": "markdown",
   "id": "7e5f7f4f-4e83-471a-aa7b-cde92746335d",
   "metadata": {},
   "source": [
    "### End Mike Miceli"
   ]
  },
  {
   "cell_type": "markdown",
   "id": "a5b3f0b6-f238-4386-92fa-c1638e846261",
   "metadata": {},
   "source": [
    "### Phillip Berta"
   ]
  },
  {
   "cell_type": "code",
   "execution_count": null,
   "id": "05f8f271-24e9-4c20-b777-5cd411b68fc2",
   "metadata": {},
   "outputs": [],
   "source": []
  },
  {
   "cell_type": "code",
   "execution_count": null,
   "id": "7d37709d-278a-4eae-b3a1-852a82ff4530",
   "metadata": {},
   "outputs": [],
   "source": []
  },
  {
   "cell_type": "markdown",
   "id": "4b36d377-3846-49d7-9a99-98997742e4f9",
   "metadata": {},
   "source": [
    "### End Phillip Berta"
   ]
  },
  {
   "cell_type": "markdown",
   "id": "0308d560-19cf-46be-9306-1d8582598525",
   "metadata": {},
   "source": [
    "### Trey Hardeman"
   ]
  },
  {
   "cell_type": "code",
   "execution_count": null,
   "id": "76b19fe9-5a27-4e07-b66b-84d9abf57132",
   "metadata": {},
   "outputs": [],
   "source": []
  },
  {
   "cell_type": "code",
   "execution_count": null,
   "id": "73a4fdd5-213d-40d4-98a6-97afcaf2d416",
   "metadata": {},
   "outputs": [],
   "source": []
  },
  {
   "cell_type": "markdown",
   "id": "b3ac8e08-8be4-4c56-8623-6dd343b59e5f",
   "metadata": {},
   "source": [
    "### End Trey Hardeman"
   ]
  },
  {
   "cell_type": "markdown",
   "id": "2b9f650f-27c9-4903-a927-4eafce318127",
   "metadata": {},
   "source": [
    "### Ronald Heltemes"
   ]
  },
  {
   "cell_type": "code",
   "execution_count": null,
   "id": "a522a849-ecd4-41ef-873d-b93b14d972d7",
   "metadata": {},
   "outputs": [],
   "source": []
  },
  {
   "cell_type": "code",
   "execution_count": null,
   "id": "1fce3830-ebd8-4e3c-bf90-380597ced45e",
   "metadata": {},
   "outputs": [],
   "source": []
  },
  {
   "cell_type": "markdown",
   "id": "520a9d08-ef26-4197-93ce-a75dcb98fd91",
   "metadata": {},
   "source": [
    "### End Ronald Heltemes"
   ]
  },
  {
   "cell_type": "markdown",
   "id": "be6abdd1-b3c7-4bd7-8c6e-0e01933d40df",
   "metadata": {},
   "source": [
    "### Stephanie Leyva"
   ]
  },
  {
   "cell_type": "code",
   "execution_count": null,
   "id": "a4992ce8-ef23-4caf-bf45-e13e624b5d69",
   "metadata": {},
   "outputs": [],
   "source": []
  },
  {
   "cell_type": "code",
   "execution_count": null,
   "id": "65eccb74-fb8e-4037-847b-86f57f6d8869",
   "metadata": {},
   "outputs": [],
   "source": []
  },
  {
   "cell_type": "markdown",
   "id": "c56b52bd-73e3-4674-aef5-7ef66d38b774",
   "metadata": {},
   "source": [
    "### End Stephanie Leyva"
   ]
  },
  {
   "cell_type": "markdown",
   "id": "6b843fe6-6f6d-487e-a915-27644e3ea6a7",
   "metadata": {
    "tags": []
   },
   "source": [
    "### Dennis Wilson Jr"
   ]
  },
  {
   "cell_type": "code",
   "execution_count": null,
   "id": "0bc11d5e-ff42-4eee-9808-27b6ba7e7b61",
   "metadata": {},
   "outputs": [],
   "source": []
  },
  {
   "cell_type": "code",
   "execution_count": null,
   "id": "af016293-e57b-46fc-9d9f-d5a9704b66bd",
   "metadata": {},
   "outputs": [],
   "source": []
  },
  {
   "cell_type": "markdown",
   "id": "de39a53e-8baa-41ea-a388-4fa1fd325e89",
   "metadata": {},
   "source": [
    "### End Dennis Wilson Jr"
   ]
  },
  {
   "cell_type": "code",
   "execution_count": null,
   "id": "0ca5d47c-50e2-4552-808e-579e105abd8c",
   "metadata": {},
   "outputs": [],
   "source": []
  },
  {
   "cell_type": "code",
   "execution_count": null,
   "id": "f66bc042-17bf-4da4-9f5b-d0be46965941",
   "metadata": {},
   "outputs": [],
   "source": []
  },
  {
   "cell_type": "code",
   "execution_count": null,
   "id": "3209497d-1261-4b35-bbf1-a2844475188a",
   "metadata": {},
   "outputs": [],
   "source": []
  },
  {
   "cell_type": "code",
   "execution_count": null,
   "id": "9b749b38-20b9-47bd-85d8-7174e91da220",
   "metadata": {},
   "outputs": [],
   "source": []
  },
  {
   "cell_type": "markdown",
   "id": "3872eebd-bc75-437f-9e2c-29177500f888",
   "metadata": {},
   "source": [
    "ftype = input('Put y for excel and put n for csv')\n",
    "if ftype == 'y':\n",
    "    fname = input('Please enter valid excel name: ')\n",
    "    try:\n",
    "        df = pd.read_excel(fname)\n",
    "    except:\n",
    "        print('File name incorrect or not within commishes folder')\n",
    "else:\n",
    "    fname = input('Please enter valid csv name: ')\n",
    "    try:\n",
    "        df = pd.read_csv(fname)\n",
    "    except:\n",
    "        print('File name incorrect or not within commishes folder')"
   ]
  },
  {
   "cell_type": "markdown",
   "id": "87de3d6b-28bb-4f68-88e3-bbebf434942c",
   "metadata": {},
   "source": [
    "for index, row in rick_sales.iterrows():\n",
    "    if row['Order description'] == 'Cross Connect':\n",
    "        row['amount'] = row['amount'] * 99.33\n",
    "    else:\n",
    "        row['amount'] = row['amount'] * 111.9"
   ]
  },
  {
   "cell_type": "code",
   "execution_count": null,
   "id": "a83e9679-f80a-49cd-af0d-9bde50d57d82",
   "metadata": {},
   "outputs": [],
   "source": []
  }
 ],
 "metadata": {
  "kernelspec": {
   "display_name": "Python 3 (ipykernel)",
   "language": "python",
   "name": "python3"
  },
  "language_info": {
   "codemirror_mode": {
    "name": "ipython",
    "version": 3
   },
   "file_extension": ".py",
   "mimetype": "text/x-python",
   "name": "python",
   "nbconvert_exporter": "python",
   "pygments_lexer": "ipython3",
   "version": "3.9.7"
  }
 },
 "nbformat": 4,
 "nbformat_minor": 5
}
