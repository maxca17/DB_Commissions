{
 "cells": [
  {
   "cell_type": "markdown",
   "id": "ae0a89d6-3f3c-4f54-a5d3-ace709a23906",
   "metadata": {
    "tags": []
   },
   "source": [
    "## Sales Engineers"
   ]
  },
  {
   "cell_type": "markdown",
   "id": "91f6712b-6fcf-4fea-b6d8-8016a754b97a",
   "metadata": {
    "tags": []
   },
   "source": [
    "### All imports will be used / are needed"
   ]
  },
  {
   "cell_type": "code",
   "execution_count": 9,
   "id": "973ac0b7-ede6-4f38-b7da-9dcb3acb7cf0",
   "metadata": {},
   "outputs": [],
   "source": [
    "import openpyxl as py\n",
    "from openpyxl import *\n",
    "import pandas as pd\n",
    "from pandas import *\n",
    "import numpy as np\n",
    "import ast as ast\n",
    "import pdfkit\n",
    "pd.options.mode.chained_assignment = None\n",
    "import os.path"
   ]
  },
  {
   "cell_type": "markdown",
   "id": "ef97f531-5bf0-43c6-9823-e061ac94007f",
   "metadata": {
    "tags": []
   },
   "source": [
    "### Closed Won With SE"
   ]
  },
  {
   "cell_type": "code",
   "execution_count": 10,
   "id": "e4f173fb-e657-4552-97cb-96db632e7a28",
   "metadata": {},
   "outputs": [],
   "source": [
    "se = pd.read_excel('../excel_sheets/SE.xlsx')"
   ]
  },
  {
   "cell_type": "code",
   "execution_count": 11,
   "id": "3c0fa8a8-e3f1-4fe2-8eaa-714041112494",
   "metadata": {},
   "outputs": [
    {
     "data": {
      "text/html": [
       "<div>\n",
       "<style scoped>\n",
       "    .dataframe tbody tr th:only-of-type {\n",
       "        vertical-align: middle;\n",
       "    }\n",
       "\n",
       "    .dataframe tbody tr th {\n",
       "        vertical-align: top;\n",
       "    }\n",
       "\n",
       "    .dataframe thead th {\n",
       "        text-align: right;\n",
       "    }\n",
       "</style>\n",
       "<table border=\"1\" class=\"dataframe\">\n",
       "  <thead>\n",
       "    <tr style=\"text-align: right;\">\n",
       "      <th></th>\n",
       "      <th>SE Assigned</th>\n",
       "      <th>Account Name</th>\n",
       "      <th>Opportunity Name</th>\n",
       "      <th>Net Amount</th>\n",
       "      <th>Close Date</th>\n",
       "      <th>Order Number</th>\n",
       "      <th>Data Centers</th>\n",
       "      <th>Type</th>\n",
       "      <th>Stage</th>\n",
       "    </tr>\n",
       "  </thead>\n",
       "  <tbody>\n",
       "    <tr>\n",
       "      <th>0</th>\n",
       "      <td>Anthony McCloud</td>\n",
       "      <td>Concerto Healthcare</td>\n",
       "      <td>Concerto Healthcare/DRaaS/SLC2/07142022</td>\n",
       "      <td>3518.78</td>\n",
       "      <td>9/14/2022</td>\n",
       "      <td>64040</td>\n",
       "      <td>SLC2</td>\n",
       "      <td>Change Order</td>\n",
       "      <td>Closed Won</td>\n",
       "    </tr>\n",
       "  </tbody>\n",
       "</table>\n",
       "</div>"
      ],
      "text/plain": [
       "       SE Assigned         Account Name  \\\n",
       "0  Anthony McCloud  Concerto Healthcare   \n",
       "\n",
       "                          Opportunity Name  Net Amount Close Date  \\\n",
       "0  Concerto Healthcare/DRaaS/SLC2/07142022     3518.78  9/14/2022   \n",
       "\n",
       "  Order Number Data Centers          Type       Stage  \n",
       "0        64040         SLC2  Change Order  Closed Won  "
      ]
     },
     "execution_count": 11,
     "metadata": {},
     "output_type": "execute_result"
    }
   ],
   "source": [
    "se.head(1)"
   ]
  },
  {
   "cell_type": "code",
   "execution_count": 12,
   "id": "52d803d0-75fb-424b-b78a-4e27dcc4bbbb",
   "metadata": {},
   "outputs": [
    {
     "data": {
      "text/plain": [
       "Index(['SE Assigned', 'Account Name', 'Opportunity Name', 'Net Amount',\n",
       "       'Close Date', 'Order Number', 'Data Centers', 'Type', 'Stage'],\n",
       "      dtype='object')"
      ]
     },
     "execution_count": 12,
     "metadata": {},
     "output_type": "execute_result"
    }
   ],
   "source": [
    "se.columns"
   ]
  },
  {
   "cell_type": "code",
   "execution_count": 13,
   "id": "0835d644-8c54-48a4-a0c4-c6f224fc673e",
   "metadata": {},
   "outputs": [
    {
     "name": "stdout",
     "output_type": "stream",
     "text": [
      "Anthony McCloud\n",
      "Subtotal\n",
      "nan\n",
      "Brendon Yoder\n",
      "Christopher Chandler\n",
      "Daniel Bartholomew\n",
      "Eric Wooster\n",
      "Grady Vogt\n",
      "Gregory Manning\n",
      "Greg Ryman\n",
      "John Davis\n",
      "Marshall Sapp\n",
      "Michael Alvaro\n",
      "Perry Allen\n",
      "William Brucker\n"
     ]
    }
   ],
   "source": [
    "for names in se['SE Assigned'].drop_duplicates():\n",
    "    print(names)"
   ]
  },
  {
   "cell_type": "code",
   "execution_count": 14,
   "id": "1593f00c-11bf-42a2-bd29-daba06a867c3",
   "metadata": {},
   "outputs": [],
   "source": [
    "anthony_mccloud = se[se['SE Assigned'] == 'Anthony McCloud']\n",
    "brendon_yoder = se[se['SE Assigned'] == 'Brendon Yoder']\n",
    "christopher_chandler = se[se['SE Assigned'] == 'Christopher Chandler']\n",
    "daniel_bartholomew = se[se['SE Assigned'] == 'Daniel Bartholomew']\n",
    "eric_wooster = se[se['SE Assigned'] == 'Eric Wooster']\n",
    "grady_vogt = se[se['SE Assigned'] == 'Grady Vogt']\n",
    "greg_ryman = se[se['SE Assigned'] == 'Greg Ryman']\n",
    "greg_shamieh = se[se['SE Assigned'] == 'Greg Shamieh']\n",
    "marshall_sapp = se[se['SE Assigned'] == 'Marshall Sapp']\n",
    "michael_alvaro = se[se['SE Assigned'] == 'Michael Alvaro']\n",
    "perry_allen = se[se['SE Assigned'] == 'Perry Allen']\n",
    "william_brucker = se[se['SE Assigned'] == 'William Brucker']\n",
    "greg_manning = se[se['SE Assigned'] == 'Gregory Manning']\n",
    "john_davis = se[se['SE Assigned'] == 'John Davis']\n",
    "robert_zimmerman = se[se['SE Assigned'] == 'Robert Zimmerman']\n",
    "eric_carter = se[se['SE Assigned'] == 'Eric Carter']\n",
    "east = greg_shamieh['Net Amount'].sum() + brendon_yoder['Net Amount'].sum() + eric_wooster['Net Amount'].sum() + greg_manning['Net Amount'].sum() + john_davis['Net Amount'].sum() + marshall_sapp['Net Amount'].sum()+ michael_alvaro['Net Amount'].sum()\n",
    "#eastf = (east/177500)*667"
   ]
  },
  {
   "cell_type": "code",
   "execution_count": 15,
   "id": "94301369-cf6a-4fd1-ab04-d48ed7d074ec",
   "metadata": {},
   "outputs": [
    {
     "name": "stdout",
     "output_type": "stream",
     "text": [
      "96625.98\n"
     ]
    }
   ],
   "source": [
    "print(east)"
   ]
  },
  {
   "cell_type": "code",
   "execution_count": 16,
   "id": "abdf440a-3a89-4c8c-8352-d86062b087e5",
   "metadata": {},
   "outputs": [],
   "source": [
    "\n",
    "west = anthony_mccloud['Net Amount'].sum() + christopher_chandler['Net Amount'].sum() + daniel_bartholomew['Net Amount'].sum() + grady_vogt['Net Amount'].sum() + greg_ryman['Net Amount'].sum() + perry_allen['Net Amount'].sum() + william_brucker['Net Amount'].sum()\n",
    "westf = west/170000"
   ]
  },
  {
   "cell_type": "code",
   "execution_count": 17,
   "id": "9bcb5432-57c9-43fd-9188-fc3f9b6d14fc",
   "metadata": {},
   "outputs": [
    {
     "name": "stdout",
     "output_type": "stream",
     "text": [
      "1.24\n"
     ]
    }
   ],
   "source": [
    "print(westf)"
   ]
  },
  {
   "cell_type": "code",
   "execution_count": 18,
   "id": "1b46a553-5f39-411b-9c8d-4de52583a4e2",
   "metadata": {},
   "outputs": [
    {
     "data": {
      "text/plain": [
       "290866.02"
      ]
     },
     "execution_count": 18,
     "metadata": {},
     "output_type": "execute_result"
    }
   ],
   "source": [
    "west"
   ]
  },
  {
   "cell_type": "code",
   "execution_count": 19,
   "id": "73ec28bb-6c4d-4eeb-ac40-0add098ae1fb",
   "metadata": {},
   "outputs": [
    {
     "data": {
      "text/plain": [
       "96625.98"
      ]
     },
     "execution_count": 19,
     "metadata": {},
     "output_type": "execute_result"
    }
   ],
   "source": [
    "east"
   ]
  },
  {
   "cell_type": "code",
   "execution_count": 20,
   "id": "9aa0d06c-b9c5-4755-ab4b-d2b7fbde3e97",
   "metadata": {},
   "outputs": [],
   "source": [
    "eastf = (east/177500)"
   ]
  },
  {
   "cell_type": "code",
   "execution_count": 21,
   "id": "6bd1fe06-aac1-4c0c-97f5-b778fb1bab5c",
   "metadata": {},
   "outputs": [
    {
     "name": "stdout",
     "output_type": "stream",
     "text": [
      "0.83\n"
     ]
    }
   ],
   "source": [
    "print(eastf)"
   ]
  },
  {
   "cell_type": "markdown",
   "id": "67f1a718-07db-46d7-89b2-b63a79563d19",
   "metadata": {
    "tags": []
   },
   "source": [
    "## Robert Zimmerman - East"
   ]
  },
  {
   "cell_type": "code",
   "execution_count": 22,
   "id": "a50c5728-1dd8-463f-8a93-eda088d9aa71",
   "metadata": {},
   "outputs": [],
   "source": [
    "robert_zimmerman_1  = (east/177500)*3333"
   ]
  },
  {
   "cell_type": "code",
   "execution_count": 23,
   "id": "07602144-4287-40c2-9c27-8f9fdab555c5",
   "metadata": {},
   "outputs": [],
   "source": [
    "zimmerman = pd.DataFrame(columns=['Name:', 'Payout:', 'East Quota %:' , 'Formula Used:'])"
   ]
  },
  {
   "cell_type": "code",
   "execution_count": 24,
   "id": "b1caa34c-ef0e-4ce1-ab47-26eb420da782",
   "metadata": {},
   "outputs": [],
   "source": [
    "zimmerman.loc[1111] = ['Robert Zimmerman', robert_zimmerman_1, eastf , '(east/177500)*3333' ]"
   ]
  },
  {
   "cell_type": "code",
   "execution_count": 25,
   "id": "2848e782-59bb-46f2-a1c7-364b8e2fdc71",
   "metadata": {},
   "outputs": [
    {
     "name": "stdout",
     "output_type": "stream",
     "text": [
      "                 Name:      Payout:  East Quota %:       Formula Used:\n",
      "1111  Robert Zimmerman  1814.390937           0.83  (east/177500)*3333\n"
     ]
    }
   ],
   "source": [
    "print(zimmerman)"
   ]
  },
  {
   "cell_type": "code",
   "execution_count": 26,
   "id": "80f1b552-8c0e-406a-918e-2ce9fc7010e5",
   "metadata": {},
   "outputs": [],
   "source": [
    "zimmerman.to_excel(os.path.join('../SE','zimmerman_September_2022.xlsx'), index=False)"
   ]
  },
  {
   "cell_type": "markdown",
   "id": "3eb307c4-42ff-4e12-a1da-cbb6edaf439d",
   "metadata": {
    "tags": []
   },
   "source": [
    "### End Zimmerman"
   ]
  },
  {
   "cell_type": "markdown",
   "id": "74c3efe0-3872-4261-8c0b-741dc3af21a2",
   "metadata": {
    "tags": []
   },
   "source": [
    "### Brendon Yoder - East"
   ]
  },
  {
   "cell_type": "code",
   "execution_count": 27,
   "id": "57f63d4a-e410-4932-903e-6297030d81db",
   "metadata": {},
   "outputs": [
    {
     "data": {
      "text/html": [
       "<div>\n",
       "<style scoped>\n",
       "    .dataframe tbody tr th:only-of-type {\n",
       "        vertical-align: middle;\n",
       "    }\n",
       "\n",
       "    .dataframe tbody tr th {\n",
       "        vertical-align: top;\n",
       "    }\n",
       "\n",
       "    .dataframe thead th {\n",
       "        text-align: right;\n",
       "    }\n",
       "</style>\n",
       "<table border=\"1\" class=\"dataframe\">\n",
       "  <thead>\n",
       "    <tr style=\"text-align: right;\">\n",
       "      <th></th>\n",
       "      <th>SE Assigned</th>\n",
       "      <th>Account Name</th>\n",
       "      <th>Opportunity Name</th>\n",
       "      <th>Net Amount</th>\n",
       "      <th>Close Date</th>\n",
       "      <th>Order Number</th>\n",
       "      <th>Data Centers</th>\n",
       "      <th>Type</th>\n",
       "      <th>Stage</th>\n",
       "    </tr>\n",
       "  </thead>\n",
       "  <tbody>\n",
       "    <tr>\n",
       "      <th>38</th>\n",
       "      <td>Brendon Yoder</td>\n",
       "      <td>Unitrends, Inc.</td>\n",
       "      <td>Unitrends / Increase Zayo IP / DEN2 / 8 22 2022.</td>\n",
       "      <td>6505.89</td>\n",
       "      <td>9/9/2022</td>\n",
       "      <td>66484</td>\n",
       "      <td>DEN2</td>\n",
       "      <td>Change Order</td>\n",
       "      <td>Closed Won</td>\n",
       "    </tr>\n",
       "  </tbody>\n",
       "</table>\n",
       "</div>"
      ],
      "text/plain": [
       "      SE Assigned     Account Name  \\\n",
       "38  Brendon Yoder  Unitrends, Inc.   \n",
       "\n",
       "                                    Opportunity Name  Net Amount Close Date  \\\n",
       "38  Unitrends / Increase Zayo IP / DEN2 / 8 22 2022.     6505.89   9/9/2022   \n",
       "\n",
       "   Order Number Data Centers          Type       Stage  \n",
       "38        66484         DEN2  Change Order  Closed Won  "
      ]
     },
     "execution_count": 27,
     "metadata": {},
     "output_type": "execute_result"
    }
   ],
   "source": [
    "brendon_yoder.head(1)"
   ]
  },
  {
   "cell_type": "code",
   "execution_count": 28,
   "id": "9c6948f0-5d58-474f-b2b8-bee3a569fa19",
   "metadata": {},
   "outputs": [],
   "source": [
    "yoder_indivdual = brendon_yoder['Net Amount'].sum()"
   ]
  },
  {
   "cell_type": "code",
   "execution_count": 29,
   "id": "bfbd0dec-d106-46c7-9cdc-6b9011002e79",
   "metadata": {},
   "outputs": [
    {
     "name": "stdout",
     "output_type": "stream",
     "text": [
      "22490.510000000002\n"
     ]
    }
   ],
   "source": [
    "print(yoder_indivdual)"
   ]
  },
  {
   "cell_type": "code",
   "execution_count": 30,
   "id": "cd8e0b29-423a-49c4-9dc2-515a74e67290",
   "metadata": {},
   "outputs": [],
   "source": [
    "yoder_regional = (east/177500)*500 "
   ]
  },
  {
   "cell_type": "code",
   "execution_count": 31,
   "id": "ffb8b87e-d526-48db-ad98-5588eb22dfb5",
   "metadata": {},
   "outputs": [
    {
     "name": "stdout",
     "output_type": "stream",
     "text": [
      "272.1858591549295\n"
     ]
    }
   ],
   "source": [
    "print(yoder_regional)"
   ]
  },
  {
   "cell_type": "code",
   "execution_count": 32,
   "id": "02ad455d-ecf1-43b7-bf15-08601de7cabf",
   "metadata": {},
   "outputs": [],
   "source": [
    "yoder_1 = (brendon_yoder['Net Amount'] * 0.0666).sum() + yoder_regional"
   ]
  },
  {
   "cell_type": "code",
   "execution_count": 33,
   "id": "2d4c27fc-77dd-4dd2-accf-4a005412eeed",
   "metadata": {},
   "outputs": [
    {
     "name": "stdout",
     "output_type": "stream",
     "text": [
      "1770.0538251549297\n"
     ]
    }
   ],
   "source": [
    "print(yoder_1)"
   ]
  },
  {
   "cell_type": "code",
   "execution_count": 34,
   "id": "3566b166-0d34-47f8-8d17-f91d06e4ef27",
   "metadata": {},
   "outputs": [],
   "source": [
    "brendon_yoder.loc[11111] = ['Total Indivdual Bookings:', yoder_indivdual, '', '' ,'','','','','']"
   ]
  },
  {
   "cell_type": "code",
   "execution_count": 35,
   "id": "c3a6216a-23d7-4459-bb33-7f58f176f7f4",
   "metadata": {},
   "outputs": [],
   "source": [
    "brendon_yoder.loc[11112] = ['Regional Payment:', yoder_regional , '', '' ,'','','','','']"
   ]
  },
  {
   "cell_type": "code",
   "execution_count": 36,
   "id": "5c72a6b3-526a-4233-8451-7a233a07d9d0",
   "metadata": {},
   "outputs": [],
   "source": [
    "brendon_yoder.loc[11113] = ['Total Payout:', yoder_1, '', '' ,'','','','','']"
   ]
  },
  {
   "cell_type": "code",
   "execution_count": 37,
   "id": "4f7a9102-55f1-42a9-9125-c5f5278eb353",
   "metadata": {},
   "outputs": [],
   "source": [
    "brendon_yoder.to_excel(os.path.join('../SE','yoder_September_2022.xlsx'), index=False)"
   ]
  },
  {
   "cell_type": "markdown",
   "id": "0685d567-e013-4243-a4c8-3c1b349d4ecf",
   "metadata": {},
   "source": [
    "#### End Brendon Yoder"
   ]
  },
  {
   "cell_type": "markdown",
   "id": "6d208c04-50c8-4752-af66-f3f7fe094488",
   "metadata": {
    "tags": []
   },
   "source": [
    "### Eric Wooster - East"
   ]
  },
  {
   "cell_type": "code",
   "execution_count": 38,
   "id": "ecab3497-5e7e-4e5e-8f73-41d323d174ba",
   "metadata": {},
   "outputs": [
    {
     "data": {
      "text/html": [
       "<div>\n",
       "<style scoped>\n",
       "    .dataframe tbody tr th:only-of-type {\n",
       "        vertical-align: middle;\n",
       "    }\n",
       "\n",
       "    .dataframe tbody tr th {\n",
       "        vertical-align: top;\n",
       "    }\n",
       "\n",
       "    .dataframe thead th {\n",
       "        text-align: right;\n",
       "    }\n",
       "</style>\n",
       "<table border=\"1\" class=\"dataframe\">\n",
       "  <thead>\n",
       "    <tr style=\"text-align: right;\">\n",
       "      <th></th>\n",
       "      <th>SE Assigned</th>\n",
       "      <th>Account Name</th>\n",
       "      <th>Opportunity Name</th>\n",
       "      <th>Net Amount</th>\n",
       "      <th>Close Date</th>\n",
       "      <th>Order Number</th>\n",
       "      <th>Data Centers</th>\n",
       "      <th>Type</th>\n",
       "      <th>Stage</th>\n",
       "    </tr>\n",
       "  </thead>\n",
       "  <tbody>\n",
       "    <tr>\n",
       "      <th>128</th>\n",
       "      <td>Eric Wooster</td>\n",
       "      <td>Computer Associates of NY</td>\n",
       "      <td>Computer Associates of NY /Tier2/DFW3/09012022</td>\n",
       "      <td>4096.0</td>\n",
       "      <td>9/7/2022</td>\n",
       "      <td>66813</td>\n",
       "      <td>DFW3</td>\n",
       "      <td>Change Order</td>\n",
       "      <td>Closed Won</td>\n",
       "    </tr>\n",
       "  </tbody>\n",
       "</table>\n",
       "</div>"
      ],
      "text/plain": [
       "      SE Assigned               Account Name  \\\n",
       "128  Eric Wooster  Computer Associates of NY   \n",
       "\n",
       "                                   Opportunity Name  Net Amount Close Date  \\\n",
       "128  Computer Associates of NY /Tier2/DFW3/09012022      4096.0   9/7/2022   \n",
       "\n",
       "    Order Number Data Centers          Type       Stage  \n",
       "128        66813         DFW3  Change Order  Closed Won  "
      ]
     },
     "execution_count": 38,
     "metadata": {},
     "output_type": "execute_result"
    }
   ],
   "source": [
    "eric_wooster.head(1)"
   ]
  },
  {
   "cell_type": "code",
   "execution_count": 39,
   "id": "925766bf-bc9d-4fe6-b5e8-4154ce2adc20",
   "metadata": {},
   "outputs": [],
   "source": [
    "wooster_indivdual = eric_wooster['Net Amount'].sum()"
   ]
  },
  {
   "cell_type": "code",
   "execution_count": 40,
   "id": "a9cf01e2-1a7a-4428-999a-060ab6704273",
   "metadata": {},
   "outputs": [
    {
     "name": "stdout",
     "output_type": "stream",
     "text": [
      "15665.300000000001\n"
     ]
    }
   ],
   "source": [
    "print(wooster_indivdual)"
   ]
  },
  {
   "cell_type": "code",
   "execution_count": 41,
   "id": "845f6a90-726e-4b86-b4a2-01ba34f24c24",
   "metadata": {},
   "outputs": [],
   "source": [
    "wooster_regional = (east/177500)*667"
   ]
  },
  {
   "cell_type": "code",
   "execution_count": 42,
   "id": "70e6b954-2f25-441d-a91d-d2a1f861cda7",
   "metadata": {},
   "outputs": [
    {
     "name": "stdout",
     "output_type": "stream",
     "text": [
      "363.095936112676\n"
     ]
    }
   ],
   "source": [
    "print(wooster_regional)"
   ]
  },
  {
   "cell_type": "code",
   "execution_count": 43,
   "id": "511a8e7a-49ed-4f08-912a-01f9ceda2c7a",
   "metadata": {},
   "outputs": [],
   "source": [
    "wooster_1 = (eric_wooster['Net Amount'] * 0.0888).sum() + wooster_regional"
   ]
  },
  {
   "cell_type": "code",
   "execution_count": 44,
   "id": "4a5032f7-ef4c-46ba-9df4-4915e25b8cfc",
   "metadata": {},
   "outputs": [
    {
     "name": "stdout",
     "output_type": "stream",
     "text": [
      "1754.1745761126763\n"
     ]
    }
   ],
   "source": [
    "print(wooster_1)"
   ]
  },
  {
   "cell_type": "code",
   "execution_count": 45,
   "id": "ba20d062-f0a8-4d37-84c6-54bfc6ebdb46",
   "metadata": {},
   "outputs": [],
   "source": [
    "eric_wooster.loc[11111] = ['Total Indivdual Bookings:', wooster_indivdual, '', '' ,'','','','','']"
   ]
  },
  {
   "cell_type": "code",
   "execution_count": 46,
   "id": "fef7c867-f603-4587-a261-ad9ad7b15a35",
   "metadata": {},
   "outputs": [],
   "source": [
    "eric_wooster.loc[11112] = ['Regional Payment:', wooster_regional, '', '' ,'','','','','']"
   ]
  },
  {
   "cell_type": "code",
   "execution_count": 47,
   "id": "514d5277-e9c5-4dfa-969b-a320d8b74219",
   "metadata": {},
   "outputs": [],
   "source": [
    "eric_wooster.loc[11113] = ['Total Payout:', wooster_1, '', '' ,'','','','','']"
   ]
  },
  {
   "cell_type": "code",
   "execution_count": 48,
   "id": "308a8b7e-e97b-4b90-a463-6dd54a0f9797",
   "metadata": {},
   "outputs": [],
   "source": [
    "eric_wooster.to_excel(os.path.join('../SE','wooster_September_2022.xlsx'), index=False)"
   ]
  },
  {
   "cell_type": "markdown",
   "id": "53495cc4-2980-42d3-92db-db228d9db93f",
   "metadata": {
    "tags": []
   },
   "source": [
    "#### End Eric Wooster"
   ]
  },
  {
   "cell_type": "markdown",
   "id": "84b106f1-f484-447a-bc80-150862ce7a58",
   "metadata": {
    "tags": []
   },
   "source": [
    "### Greg Manning - East"
   ]
  },
  {
   "cell_type": "code",
   "execution_count": 49,
   "id": "ee013921-a360-4106-a5e3-c5ad242dece4",
   "metadata": {},
   "outputs": [
    {
     "data": {
      "text/html": [
       "<div>\n",
       "<style scoped>\n",
       "    .dataframe tbody tr th:only-of-type {\n",
       "        vertical-align: middle;\n",
       "    }\n",
       "\n",
       "    .dataframe tbody tr th {\n",
       "        vertical-align: top;\n",
       "    }\n",
       "\n",
       "    .dataframe thead th {\n",
       "        text-align: right;\n",
       "    }\n",
       "</style>\n",
       "<table border=\"1\" class=\"dataframe\">\n",
       "  <thead>\n",
       "    <tr style=\"text-align: right;\">\n",
       "      <th></th>\n",
       "      <th>SE Assigned</th>\n",
       "      <th>Account Name</th>\n",
       "      <th>Opportunity Name</th>\n",
       "      <th>Net Amount</th>\n",
       "      <th>Close Date</th>\n",
       "      <th>Order Number</th>\n",
       "      <th>Data Centers</th>\n",
       "      <th>Type</th>\n",
       "      <th>Stage</th>\n",
       "    </tr>\n",
       "  </thead>\n",
       "  <tbody>\n",
       "    <tr>\n",
       "      <th>185</th>\n",
       "      <td>Gregory Manning</td>\n",
       "      <td>Parsec Labs</td>\n",
       "      <td>Parsec/ 1 Cab/MSP3/081522</td>\n",
       "      <td>2085.05</td>\n",
       "      <td>9/26/2022</td>\n",
       "      <td>67787</td>\n",
       "      <td>MSP3</td>\n",
       "      <td>New</td>\n",
       "      <td>Closed Won</td>\n",
       "    </tr>\n",
       "  </tbody>\n",
       "</table>\n",
       "</div>"
      ],
      "text/plain": [
       "         SE Assigned Account Name           Opportunity Name  Net Amount  \\\n",
       "185  Gregory Manning  Parsec Labs  Parsec/ 1 Cab/MSP3/081522     2085.05   \n",
       "\n",
       "    Close Date Order Number Data Centers Type       Stage  \n",
       "185  9/26/2022        67787         MSP3  New  Closed Won  "
      ]
     },
     "execution_count": 49,
     "metadata": {},
     "output_type": "execute_result"
    }
   ],
   "source": [
    "greg_manning.head(1)"
   ]
  },
  {
   "cell_type": "code",
   "execution_count": 50,
   "id": "c6f1fd75-5c2d-4161-bd4d-4d2c29bb830f",
   "metadata": {},
   "outputs": [],
   "source": [
    "manning_indivdual = greg_manning['Net Amount'].sum()"
   ]
  },
  {
   "cell_type": "code",
   "execution_count": 51,
   "id": "697c521e-6a39-47dd-867a-5e8f8cdefe63",
   "metadata": {},
   "outputs": [
    {
     "name": "stdout",
     "output_type": "stream",
     "text": [
      "4140.1\n"
     ]
    }
   ],
   "source": [
    "print(manning_indivdual)"
   ]
  },
  {
   "cell_type": "code",
   "execution_count": 52,
   "id": "7384b64d-c5d2-49e2-8664-57e95703e62d",
   "metadata": {},
   "outputs": [],
   "source": [
    "manning_regional = (east/177500)*750"
   ]
  },
  {
   "cell_type": "code",
   "execution_count": 53,
   "id": "2b27f6f2-c718-42e0-a0fd-b6b6fbfc65c0",
   "metadata": {},
   "outputs": [],
   "source": [
    "manning_1 = (greg_manning['Net Amount'] * 0.1).sum() + manning_regional"
   ]
  },
  {
   "cell_type": "code",
   "execution_count": 54,
   "id": "db84b73c-75ca-43f9-92c8-093f2079a87d",
   "metadata": {},
   "outputs": [
    {
     "name": "stdout",
     "output_type": "stream",
     "text": [
      "822.2887887323943\n"
     ]
    }
   ],
   "source": [
    "print(manning_1)"
   ]
  },
  {
   "cell_type": "code",
   "execution_count": 55,
   "id": "e28676d1-ce67-4091-a441-de0404d31bba",
   "metadata": {},
   "outputs": [],
   "source": [
    "greg_manning.loc[11111] = ['Total Indivdual Bookings:', manning_indivdual, '', '' ,'','','','','']"
   ]
  },
  {
   "cell_type": "code",
   "execution_count": 56,
   "id": "147e399d-db45-4ec5-841c-c4f17dec0bff",
   "metadata": {},
   "outputs": [],
   "source": [
    "greg_manning.loc[11112] = ['Regional Payment:', manning_regional, '', '' ,'','','','','']"
   ]
  },
  {
   "cell_type": "code",
   "execution_count": 57,
   "id": "99947ac8-e47b-456c-af13-59b5617ba30a",
   "metadata": {},
   "outputs": [],
   "source": [
    "greg_manning.loc[11113] = ['Total Payout:', manning_1, '', '' ,'','','','','']"
   ]
  },
  {
   "cell_type": "code",
   "execution_count": 58,
   "id": "85d0815b-2403-4acc-b066-9331cd526232",
   "metadata": {},
   "outputs": [],
   "source": [
    "greg_manning.to_excel(os.path.join('../SE','manning_September_2022.xlsx'), index=False)"
   ]
  },
  {
   "cell_type": "markdown",
   "id": "9478efff-90bc-4caf-b2f2-a9b5e9e43178",
   "metadata": {
    "tags": []
   },
   "source": [
    "#### End Greg Manning"
   ]
  },
  {
   "cell_type": "markdown",
   "id": "83848237-ff1b-4890-949e-617fbf7b691e",
   "metadata": {
    "tags": []
   },
   "source": [
    "### John Davis - East"
   ]
  },
  {
   "cell_type": "code",
   "execution_count": 59,
   "id": "248589d3-2b9b-4129-8510-bb4388658745",
   "metadata": {},
   "outputs": [
    {
     "data": {
      "text/html": [
       "<div>\n",
       "<style scoped>\n",
       "    .dataframe tbody tr th:only-of-type {\n",
       "        vertical-align: middle;\n",
       "    }\n",
       "\n",
       "    .dataframe tbody tr th {\n",
       "        vertical-align: top;\n",
       "    }\n",
       "\n",
       "    .dataframe thead th {\n",
       "        text-align: right;\n",
       "    }\n",
       "</style>\n",
       "<table border=\"1\" class=\"dataframe\">\n",
       "  <thead>\n",
       "    <tr style=\"text-align: right;\">\n",
       "      <th></th>\n",
       "      <th>SE Assigned</th>\n",
       "      <th>Account Name</th>\n",
       "      <th>Opportunity Name</th>\n",
       "      <th>Net Amount</th>\n",
       "      <th>Close Date</th>\n",
       "      <th>Order Number</th>\n",
       "      <th>Data Centers</th>\n",
       "      <th>Type</th>\n",
       "      <th>Stage</th>\n",
       "    </tr>\n",
       "  </thead>\n",
       "  <tbody>\n",
       "    <tr>\n",
       "      <th>218</th>\n",
       "      <td>John Davis</td>\n",
       "      <td>Digital Recognition Network Inc</td>\n",
       "      <td>DRN-2Cabs-DFW3-0/102022</td>\n",
       "      <td>1500.00</td>\n",
       "      <td>9/13/2022</td>\n",
       "      <td>65839</td>\n",
       "      <td>DFW3</td>\n",
       "      <td>Existing</td>\n",
       "      <td>Closed Won</td>\n",
       "    </tr>\n",
       "    <tr>\n",
       "      <th>219</th>\n",
       "      <td>John Davis</td>\n",
       "      <td>Toyon Associates, Inc</td>\n",
       "      <td>Toyon / PAAS PROD Server add SLC / 08.04.22</td>\n",
       "      <td>1401.44</td>\n",
       "      <td>9/29/2022</td>\n",
       "      <td>68422</td>\n",
       "      <td>SLC2</td>\n",
       "      <td>Agent - Existing</td>\n",
       "      <td>Closed Won</td>\n",
       "    </tr>\n",
       "    <tr>\n",
       "      <th>220</th>\n",
       "      <td>John Davis</td>\n",
       "      <td>Benchmark Bank</td>\n",
       "      <td>Benchmark Bank / Internet Upgrade / 10.05.22</td>\n",
       "      <td>1062.33</td>\n",
       "      <td>9/29/2022</td>\n",
       "      <td>68321</td>\n",
       "      <td>DFW3</td>\n",
       "      <td>Agent - Existing</td>\n",
       "      <td>Closed Won</td>\n",
       "    </tr>\n",
       "    <tr>\n",
       "      <th>221</th>\n",
       "      <td>John Davis</td>\n",
       "      <td>Currence, LLC (Member Access Processing)</td>\n",
       "      <td>MAP-Half CAB-SLC2-09092022</td>\n",
       "      <td>671.20</td>\n",
       "      <td>9/16/2022</td>\n",
       "      <td>67150</td>\n",
       "      <td>SLC2</td>\n",
       "      <td>Agent - New</td>\n",
       "      <td>Closed Won</td>\n",
       "    </tr>\n",
       "    <tr>\n",
       "      <th>222</th>\n",
       "      <td>John Davis</td>\n",
       "      <td>Currence, LLC (Member Access Processing)</td>\n",
       "      <td>MAP-Half CAB-ORD4-09092022</td>\n",
       "      <td>671.20</td>\n",
       "      <td>9/16/2022</td>\n",
       "      <td>67151</td>\n",
       "      <td>ORD4</td>\n",
       "      <td>Agent - New</td>\n",
       "      <td>Closed Won</td>\n",
       "    </tr>\n",
       "  </tbody>\n",
       "</table>\n",
       "</div>"
      ],
      "text/plain": [
       "    SE Assigned                              Account Name  \\\n",
       "218  John Davis           Digital Recognition Network Inc   \n",
       "219  John Davis                     Toyon Associates, Inc   \n",
       "220  John Davis                            Benchmark Bank   \n",
       "221  John Davis  Currence, LLC (Member Access Processing)   \n",
       "222  John Davis  Currence, LLC (Member Access Processing)   \n",
       "\n",
       "                                 Opportunity Name  Net Amount Close Date  \\\n",
       "218                       DRN-2Cabs-DFW3-0/102022     1500.00  9/13/2022   \n",
       "219   Toyon / PAAS PROD Server add SLC / 08.04.22     1401.44  9/29/2022   \n",
       "220  Benchmark Bank / Internet Upgrade / 10.05.22     1062.33  9/29/2022   \n",
       "221                    MAP-Half CAB-SLC2-09092022      671.20  9/16/2022   \n",
       "222                    MAP-Half CAB-ORD4-09092022      671.20  9/16/2022   \n",
       "\n",
       "    Order Number Data Centers              Type       Stage  \n",
       "218        65839         DFW3          Existing  Closed Won  \n",
       "219        68422         SLC2  Agent - Existing  Closed Won  \n",
       "220        68321         DFW3  Agent - Existing  Closed Won  \n",
       "221        67150         SLC2       Agent - New  Closed Won  \n",
       "222        67151         ORD4       Agent - New  Closed Won  "
      ]
     },
     "execution_count": 59,
     "metadata": {},
     "output_type": "execute_result"
    }
   ],
   "source": [
    "john_davis.head()"
   ]
  },
  {
   "cell_type": "code",
   "execution_count": 60,
   "id": "82322864-e3e6-44a3-bae4-d009ba02a434",
   "metadata": {},
   "outputs": [],
   "source": [
    "davis_indivdual = john_davis['Net Amount'].sum()"
   ]
  },
  {
   "cell_type": "code",
   "execution_count": 61,
   "id": "bcae7824-1c98-48d1-856a-dbd5e04ae659",
   "metadata": {},
   "outputs": [
    {
     "name": "stdout",
     "output_type": "stream",
     "text": [
      "7057.14\n"
     ]
    }
   ],
   "source": [
    "print(davis_indivdual)"
   ]
  },
  {
   "cell_type": "code",
   "execution_count": 62,
   "id": "21fac9e4-3553-4353-878c-292572e94299",
   "metadata": {},
   "outputs": [],
   "source": [
    "davis_regional = (east/177500)*833.33"
   ]
  },
  {
   "cell_type": "code",
   "execution_count": 63,
   "id": "156104c9-4965-43f9-89e5-aef23b49226e",
   "metadata": {},
   "outputs": [
    {
     "name": "stdout",
     "output_type": "stream",
     "text": [
      "453.6412840191549\n"
     ]
    }
   ],
   "source": [
    "print(davis_regional)"
   ]
  },
  {
   "cell_type": "code",
   "execution_count": 64,
   "id": "394bc70e-a541-488f-aef5-02a1c13ce851",
   "metadata": {},
   "outputs": [],
   "source": [
    "davis_1 = (john_davis['Net Amount'] * .1111).sum() + davis_regional "
   ]
  },
  {
   "cell_type": "code",
   "execution_count": 65,
   "id": "aeeac558-bece-4852-927c-d5c686da1a6c",
   "metadata": {},
   "outputs": [
    {
     "name": "stdout",
     "output_type": "stream",
     "text": [
      "1237.689538019155\n"
     ]
    }
   ],
   "source": [
    "print(davis_1)"
   ]
  },
  {
   "cell_type": "code",
   "execution_count": 66,
   "id": "71f3921a-8175-4025-b7ee-b0f9c9c35119",
   "metadata": {},
   "outputs": [],
   "source": [
    "john_davis.loc[11111] = ['Total Indivdual Bookings:', davis_indivdual, '', '' ,'','','','','']"
   ]
  },
  {
   "cell_type": "code",
   "execution_count": 67,
   "id": "566dbcdd-14c2-4dab-85e8-068e8699c9b5",
   "metadata": {},
   "outputs": [],
   "source": [
    "john_davis.loc[11112] = ['Regional Payment:', davis_regional, '', '' ,'','','','','']"
   ]
  },
  {
   "cell_type": "code",
   "execution_count": 68,
   "id": "401ee526-f5ab-4035-9088-0adab001e9e6",
   "metadata": {},
   "outputs": [],
   "source": [
    "john_davis.loc[11113] = ['Total Payout:', davis_1, '', '' ,'','','','','']"
   ]
  },
  {
   "cell_type": "code",
   "execution_count": 69,
   "id": "4b44133f-cf69-4d2e-b35f-244af19aa83d",
   "metadata": {},
   "outputs": [],
   "source": [
    "john_davis.to_excel(os.path.join('../SE','davis_September_2022.xlsx'), index=False)"
   ]
  },
  {
   "cell_type": "markdown",
   "id": "56a2110c-3a2b-4e89-9c76-3900a1b388be",
   "metadata": {},
   "source": [
    "#### End John Davis"
   ]
  },
  {
   "cell_type": "markdown",
   "id": "49979393-2ba9-4a39-9114-a1eaefed5167",
   "metadata": {
    "tags": []
   },
   "source": [
    "### Marshall Sapp - East"
   ]
  },
  {
   "cell_type": "code",
   "execution_count": 70,
   "id": "bbd6b124-d084-446b-9972-a75bab0bf560",
   "metadata": {},
   "outputs": [
    {
     "data": {
      "text/html": [
       "<div>\n",
       "<style scoped>\n",
       "    .dataframe tbody tr th:only-of-type {\n",
       "        vertical-align: middle;\n",
       "    }\n",
       "\n",
       "    .dataframe tbody tr th {\n",
       "        vertical-align: top;\n",
       "    }\n",
       "\n",
       "    .dataframe thead th {\n",
       "        text-align: right;\n",
       "    }\n",
       "</style>\n",
       "<table border=\"1\" class=\"dataframe\">\n",
       "  <thead>\n",
       "    <tr style=\"text-align: right;\">\n",
       "      <th></th>\n",
       "      <th>SE Assigned</th>\n",
       "      <th>Account Name</th>\n",
       "      <th>Opportunity Name</th>\n",
       "      <th>Net Amount</th>\n",
       "      <th>Close Date</th>\n",
       "      <th>Order Number</th>\n",
       "      <th>Data Centers</th>\n",
       "      <th>Type</th>\n",
       "      <th>Stage</th>\n",
       "    </tr>\n",
       "  </thead>\n",
       "  <tbody>\n",
       "    <tr>\n",
       "      <th>236</th>\n",
       "      <td>Marshall Sapp</td>\n",
       "      <td>DataSeers Inc</td>\n",
       "      <td>DataSeers / Colo  / DFW3 / 8.5.2022</td>\n",
       "      <td>4614.5</td>\n",
       "      <td>9/30/2022</td>\n",
       "      <td>68102</td>\n",
       "      <td>DFW3</td>\n",
       "      <td>New</td>\n",
       "      <td>Closed Won</td>\n",
       "    </tr>\n",
       "  </tbody>\n",
       "</table>\n",
       "</div>"
      ],
      "text/plain": [
       "       SE Assigned   Account Name                     Opportunity Name  \\\n",
       "236  Marshall Sapp  DataSeers Inc  DataSeers / Colo  / DFW3 / 8.5.2022   \n",
       "\n",
       "     Net Amount Close Date Order Number Data Centers Type       Stage  \n",
       "236      4614.5  9/30/2022        68102         DFW3  New  Closed Won  "
      ]
     },
     "execution_count": 70,
     "metadata": {},
     "output_type": "execute_result"
    }
   ],
   "source": [
    "marshall_sapp.head(1)"
   ]
  },
  {
   "cell_type": "code",
   "execution_count": 71,
   "id": "e1ec5824-e900-469c-9042-93ab6b987c4b",
   "metadata": {},
   "outputs": [],
   "source": [
    "sapp_indivdual = marshall_sapp['Net Amount'].sum()"
   ]
  },
  {
   "cell_type": "code",
   "execution_count": 72,
   "id": "c539ffa6-31f5-4642-a426-29d638e05a5a",
   "metadata": {},
   "outputs": [
    {
     "name": "stdout",
     "output_type": "stream",
     "text": [
      "21415.6\n"
     ]
    }
   ],
   "source": [
    "print(sapp_indivdual)"
   ]
  },
  {
   "cell_type": "code",
   "execution_count": 73,
   "id": "37fb9ada-7ddc-40db-b4ad-873b2e343f10",
   "metadata": {},
   "outputs": [],
   "source": [
    "sapp_regional = (east/177500)*833.33"
   ]
  },
  {
   "cell_type": "code",
   "execution_count": 74,
   "id": "0774e856-8b82-4e39-b5f7-03e140af1c56",
   "metadata": {},
   "outputs": [
    {
     "name": "stdout",
     "output_type": "stream",
     "text": [
      "453.6412840191549\n"
     ]
    }
   ],
   "source": [
    "print(sapp_regional)"
   ]
  },
  {
   "cell_type": "code",
   "execution_count": 75,
   "id": "6a1d575d-4eb6-4ad3-8110-bad2c878a99d",
   "metadata": {},
   "outputs": [],
   "source": [
    "sapp_1 = (marshall_sapp['Net Amount'] * 0.1111).sum() + sapp_regional"
   ]
  },
  {
   "cell_type": "code",
   "execution_count": 76,
   "id": "23f1f4c9-79f3-4ff4-9a3d-d77f22d7c3db",
   "metadata": {},
   "outputs": [
    {
     "name": "stdout",
     "output_type": "stream",
     "text": [
      "2832.914444019155\n"
     ]
    }
   ],
   "source": [
    "print(sapp_1)"
   ]
  },
  {
   "cell_type": "code",
   "execution_count": 77,
   "id": "ee22dacc-b1de-4aea-8a8f-37ca21a3a109",
   "metadata": {},
   "outputs": [],
   "source": [
    "marshall_sapp.loc[11111] = ['Total Indivdual Bookings:', sapp_indivdual, '', '' ,'','','','','']"
   ]
  },
  {
   "cell_type": "code",
   "execution_count": 78,
   "id": "46249dcf-4550-4822-81cb-4eb1295c6e31",
   "metadata": {},
   "outputs": [],
   "source": [
    "marshall_sapp.loc[11112] = ['Regional Payment:', sapp_regional, '', '' ,'','','','','']"
   ]
  },
  {
   "cell_type": "code",
   "execution_count": 79,
   "id": "76a56e93-b6de-43f0-b214-1617349754a4",
   "metadata": {},
   "outputs": [],
   "source": [
    "marshall_sapp.loc[11113] = ['Total Payout:', sapp_1, '', '' ,'','','','','']"
   ]
  },
  {
   "cell_type": "code",
   "execution_count": 80,
   "id": "c957a611-978e-48ae-9ac7-0895843642eb",
   "metadata": {},
   "outputs": [],
   "source": [
    "marshall_sapp.to_excel(os.path.join('../SE','sapp_September_2022.xlsx'), index=False)"
   ]
  },
  {
   "cell_type": "markdown",
   "id": "37d3dcf0-07ac-4a91-99d9-d997efbbbbdd",
   "metadata": {},
   "source": [
    "#### Marshall Sapp"
   ]
  },
  {
   "cell_type": "markdown",
   "id": "37761f7c-0abb-477d-8d6f-2b805fcfa1b1",
   "metadata": {},
   "source": [
    "### Mike Alvaro - East"
   ]
  },
  {
   "cell_type": "code",
   "execution_count": 81,
   "id": "67a1ab2b-c74d-4130-ae60-6c6794aceaf0",
   "metadata": {},
   "outputs": [
    {
     "data": {
      "text/html": [
       "<div>\n",
       "<style scoped>\n",
       "    .dataframe tbody tr th:only-of-type {\n",
       "        vertical-align: middle;\n",
       "    }\n",
       "\n",
       "    .dataframe tbody tr th {\n",
       "        vertical-align: top;\n",
       "    }\n",
       "\n",
       "    .dataframe thead th {\n",
       "        text-align: right;\n",
       "    }\n",
       "</style>\n",
       "<table border=\"1\" class=\"dataframe\">\n",
       "  <thead>\n",
       "    <tr style=\"text-align: right;\">\n",
       "      <th></th>\n",
       "      <th>SE Assigned</th>\n",
       "      <th>Account Name</th>\n",
       "      <th>Opportunity Name</th>\n",
       "      <th>Net Amount</th>\n",
       "      <th>Close Date</th>\n",
       "      <th>Order Number</th>\n",
       "      <th>Data Centers</th>\n",
       "      <th>Type</th>\n",
       "      <th>Stage</th>\n",
       "    </tr>\n",
       "  </thead>\n",
       "  <tbody>\n",
       "    <tr>\n",
       "      <th>285</th>\n",
       "      <td>Michael Alvaro</td>\n",
       "      <td>Continent 8 LLC</td>\n",
       "      <td>Continent 8 LLC/ Columbus Power Add/ IND1/0801...</td>\n",
       "      <td>6734.5</td>\n",
       "      <td>9/30/2022</td>\n",
       "      <td>67703</td>\n",
       "      <td>IND1</td>\n",
       "      <td>Change Order</td>\n",
       "      <td>Closed Won</td>\n",
       "    </tr>\n",
       "  </tbody>\n",
       "</table>\n",
       "</div>"
      ],
      "text/plain": [
       "        SE Assigned     Account Name  \\\n",
       "285  Michael Alvaro  Continent 8 LLC   \n",
       "\n",
       "                                      Opportunity Name  Net Amount Close Date  \\\n",
       "285  Continent 8 LLC/ Columbus Power Add/ IND1/0801...      6734.5  9/30/2022   \n",
       "\n",
       "    Order Number Data Centers          Type       Stage  \n",
       "285        67703         IND1  Change Order  Closed Won  "
      ]
     },
     "execution_count": 81,
     "metadata": {},
     "output_type": "execute_result"
    }
   ],
   "source": [
    "michael_alvaro.head(1)"
   ]
  },
  {
   "cell_type": "code",
   "execution_count": 82,
   "id": "d3779cb0-3cdc-4d0f-a75d-15889bc75a27",
   "metadata": {},
   "outputs": [],
   "source": [
    "alvaro_indivdual = michael_alvaro['Net Amount'].sum()"
   ]
  },
  {
   "cell_type": "code",
   "execution_count": 83,
   "id": "11880c42-dcef-4525-8fd4-b31d3301b296",
   "metadata": {},
   "outputs": [
    {
     "name": "stdout",
     "output_type": "stream",
     "text": [
      "25857.33\n"
     ]
    }
   ],
   "source": [
    "print(alvaro_indivdual)"
   ]
  },
  {
   "cell_type": "code",
   "execution_count": 84,
   "id": "47059039-d41f-4512-bea4-667a9ac37cc8",
   "metadata": {},
   "outputs": [],
   "source": [
    "alvaro_regional = (east/177500)*667"
   ]
  },
  {
   "cell_type": "code",
   "execution_count": 85,
   "id": "c0d06ab6-a630-4c6d-9391-5c884591f3c7",
   "metadata": {},
   "outputs": [],
   "source": [
    "alvaro_1 = (michael_alvaro['Net Amount'] * 0.0888).sum() + alvaro_regional"
   ]
  },
  {
   "cell_type": "code",
   "execution_count": 86,
   "id": "eaeeeab3-7d34-4a20-82e6-24395bc43d0f",
   "metadata": {},
   "outputs": [
    {
     "name": "stdout",
     "output_type": "stream",
     "text": [
      "2659.226840112676\n"
     ]
    }
   ],
   "source": [
    "print(alvaro_1)"
   ]
  },
  {
   "cell_type": "code",
   "execution_count": 87,
   "id": "ae6319ee-b5d1-43c1-8354-1b60f59c1c60",
   "metadata": {},
   "outputs": [],
   "source": [
    "michael_alvaro.loc[11111] = ['Total Indivdual Bookings:', alvaro_indivdual, '', '' ,'','','','','']"
   ]
  },
  {
   "cell_type": "code",
   "execution_count": 88,
   "id": "ae13365a-f8ea-4d8c-9526-04e7ab33ef79",
   "metadata": {},
   "outputs": [],
   "source": [
    "michael_alvaro.loc[11112] = ['Regional Payment:', alvaro_regional, '', '' ,'','','','','']"
   ]
  },
  {
   "cell_type": "code",
   "execution_count": 89,
   "id": "1f316c3d-d85b-459f-af89-d27fc9d74414",
   "metadata": {},
   "outputs": [],
   "source": [
    "michael_alvaro.loc[11113] = ['Total Payout:', alvaro_1, '', '' ,'','','','','']"
   ]
  },
  {
   "cell_type": "code",
   "execution_count": 90,
   "id": "ccec0e6b-56af-48ca-9c88-0ac43e14e527",
   "metadata": {},
   "outputs": [],
   "source": [
    "michael_alvaro.to_excel(os.path.join('../SE','alvaro_September_2022.xlsx'), index=False)"
   ]
  },
  {
   "cell_type": "markdown",
   "id": "09ea8566-c10b-41c4-8b91-31d0d107afe9",
   "metadata": {},
   "source": [
    "#### End Michael Alvaro"
   ]
  },
  {
   "cell_type": "markdown",
   "id": "28f38be2-005f-440c-b19f-c1fef0d59a6d",
   "metadata": {
    "tags": []
   },
   "source": [
    "### Greg Shamieh - East"
   ]
  },
  {
   "cell_type": "code",
   "execution_count": 91,
   "id": "981263ed-44de-410d-88ba-fd74181b4196",
   "metadata": {},
   "outputs": [],
   "source": [
    "#greg_shamieh.head(1)"
   ]
  },
  {
   "cell_type": "code",
   "execution_count": 92,
   "id": "0fcdef58-b8f1-41fc-a2f4-f8d0f7ce195a",
   "metadata": {},
   "outputs": [],
   "source": [
    "#shamieh_indivdual = greg_shamieh['Net Amount'].sum()"
   ]
  },
  {
   "cell_type": "code",
   "execution_count": 93,
   "id": "8f966fda-9270-4ac7-a9c5-1f603f501709",
   "metadata": {},
   "outputs": [],
   "source": [
    "#print(shamieh_indivdual)"
   ]
  },
  {
   "cell_type": "code",
   "execution_count": 94,
   "id": "28b36e41-c3fc-433d-b61c-70f75e47eb66",
   "metadata": {},
   "outputs": [],
   "source": [
    "#shamieh_regional = (east/177500)*583"
   ]
  },
  {
   "cell_type": "code",
   "execution_count": 95,
   "id": "83f495be-f7d3-4763-b849-12969f873a64",
   "metadata": {},
   "outputs": [],
   "source": [
    "#shamieh_1 = (greg_shamieh['Net Amount'] * 0.0777).sum() + shamieh_regional "
   ]
  },
  {
   "cell_type": "code",
   "execution_count": 96,
   "id": "a56116a7-3200-4ef9-ad44-e6594901460b",
   "metadata": {},
   "outputs": [],
   "source": [
    "#print(shamieh_1)"
   ]
  },
  {
   "cell_type": "code",
   "execution_count": 97,
   "id": "393a5ccf-2abd-4114-868b-9fd03452bf3e",
   "metadata": {},
   "outputs": [],
   "source": [
    "#greg_shamieh.loc[11111] = ['Total Indivdual Bookings:', shamieh_indivdual, '', '' ,'','','','','','','','','','','','','']"
   ]
  },
  {
   "cell_type": "code",
   "execution_count": 98,
   "id": "41d49f1e-43b6-4e13-acd3-ee44e53bd851",
   "metadata": {},
   "outputs": [],
   "source": [
    "#greg_shamieh.loc[11112] = ['Regional Payment:', shamieh_regional, '', '' ,'','','','','','','','','','','','','']"
   ]
  },
  {
   "cell_type": "code",
   "execution_count": 99,
   "id": "1d87d266-b5b6-424b-88b3-14a962971d3f",
   "metadata": {},
   "outputs": [],
   "source": [
    "#greg_shamieh.loc[11113] = ['Total Payout:', shamieh_1, '', '' ,'','','','','','','','','','','','','']"
   ]
  },
  {
   "cell_type": "code",
   "execution_count": 100,
   "id": "5c257a67-0e53-4a73-a373-084561ac601f",
   "metadata": {},
   "outputs": [],
   "source": [
    "#greg_shamieh.to_excel(os.path.join(../SE','shamieh_September_2022.xlsx'), index=False)"
   ]
  },
  {
   "cell_type": "markdown",
   "id": "586f135a-1483-421f-9758-2e7bf9b776d3",
   "metadata": {},
   "source": [
    "#### End Greg Shamieh"
   ]
  },
  {
   "cell_type": "markdown",
   "id": "b5056314-d923-4f7d-8c2f-8f4a2efb9555",
   "metadata": {
    "tags": []
   },
   "source": [
    "## Eric Carter - West"
   ]
  },
  {
   "cell_type": "code",
   "execution_count": 101,
   "id": "a69ba14b-62f1-40cc-a2bf-e22235c3fd78",
   "metadata": {},
   "outputs": [],
   "source": [
    "eric_carter_1  = (west/170000)*3333"
   ]
  },
  {
   "cell_type": "code",
   "execution_count": 102,
   "id": "2bd14d09-461f-4725-b65d-aa4260ac36d7",
   "metadata": {},
   "outputs": [
    {
     "name": "stdout",
     "output_type": "stream",
     "text": [
      "5702.684968588236\n"
     ]
    }
   ],
   "source": [
    "print(eric_carter_1)"
   ]
  },
  {
   "cell_type": "code",
   "execution_count": 103,
   "id": "caa2095d-91d2-4045-b9db-0488f378f9c8",
   "metadata": {},
   "outputs": [],
   "source": [
    "carter = pd.DataFrame(columns=['Name:', 'Payout:', 'East Quota %:' , 'Formula Used:'])"
   ]
  },
  {
   "cell_type": "code",
   "execution_count": 104,
   "id": "681ae6a0-0474-480e-96e0-94d538a23427",
   "metadata": {},
   "outputs": [],
   "source": [
    "carter.loc[1111] = ['Eric Carter', eric_carter_1, westf , '(west/170000)*3333' ]"
   ]
  },
  {
   "cell_type": "code",
   "execution_count": 105,
   "id": "fcf8ed6d-e4ce-4b49-ba7b-ce37afa8665f",
   "metadata": {},
   "outputs": [
    {
     "name": "stdout",
     "output_type": "stream",
     "text": [
      "            Name:      Payout:  East Quota %:       Formula Used:\n",
      "1111  Eric Carter  5702.684969           1.24  (west/170000)*3333\n"
     ]
    }
   ],
   "source": [
    "print(carter)"
   ]
  },
  {
   "cell_type": "code",
   "execution_count": 106,
   "id": "a42bda7e-d843-483a-82ec-c1f91803e4e3",
   "metadata": {},
   "outputs": [],
   "source": [
    "carter.to_excel(os.path.join('../SE','carter_September_2022.xlsx'), index=False)"
   ]
  },
  {
   "cell_type": "markdown",
   "id": "c43a2fc5-1d02-4621-b699-1489106ec94d",
   "metadata": {
    "jp-MarkdownHeadingCollapsed": true,
    "tags": []
   },
   "source": [
    "#### End Eric Carter"
   ]
  },
  {
   "cell_type": "markdown",
   "id": "48936de1-f1ae-486a-b9ce-4524aa2b3cfc",
   "metadata": {
    "tags": []
   },
   "source": [
    "### Anthony Mccloud - West"
   ]
  },
  {
   "cell_type": "code",
   "execution_count": 107,
   "id": "51691ed2-9ffe-48bb-89ba-6745a53f1dbd",
   "metadata": {},
   "outputs": [
    {
     "data": {
      "text/html": [
       "<div>\n",
       "<style scoped>\n",
       "    .dataframe tbody tr th:only-of-type {\n",
       "        vertical-align: middle;\n",
       "    }\n",
       "\n",
       "    .dataframe tbody tr th {\n",
       "        vertical-align: top;\n",
       "    }\n",
       "\n",
       "    .dataframe thead th {\n",
       "        text-align: right;\n",
       "    }\n",
       "</style>\n",
       "<table border=\"1\" class=\"dataframe\">\n",
       "  <thead>\n",
       "    <tr style=\"text-align: right;\">\n",
       "      <th></th>\n",
       "      <th>SE Assigned</th>\n",
       "      <th>Account Name</th>\n",
       "      <th>Opportunity Name</th>\n",
       "      <th>Net Amount</th>\n",
       "      <th>Close Date</th>\n",
       "      <th>Order Number</th>\n",
       "      <th>Data Centers</th>\n",
       "      <th>Type</th>\n",
       "      <th>Stage</th>\n",
       "    </tr>\n",
       "  </thead>\n",
       "  <tbody>\n",
       "    <tr>\n",
       "      <th>0</th>\n",
       "      <td>Anthony McCloud</td>\n",
       "      <td>Concerto Healthcare</td>\n",
       "      <td>Concerto Healthcare/DRaaS/SLC2/07142022</td>\n",
       "      <td>3518.78</td>\n",
       "      <td>9/14/2022</td>\n",
       "      <td>64040</td>\n",
       "      <td>SLC2</td>\n",
       "      <td>Change Order</td>\n",
       "      <td>Closed Won</td>\n",
       "    </tr>\n",
       "  </tbody>\n",
       "</table>\n",
       "</div>"
      ],
      "text/plain": [
       "       SE Assigned         Account Name  \\\n",
       "0  Anthony McCloud  Concerto Healthcare   \n",
       "\n",
       "                          Opportunity Name  Net Amount Close Date  \\\n",
       "0  Concerto Healthcare/DRaaS/SLC2/07142022     3518.78  9/14/2022   \n",
       "\n",
       "  Order Number Data Centers          Type       Stage  \n",
       "0        64040         SLC2  Change Order  Closed Won  "
      ]
     },
     "execution_count": 107,
     "metadata": {},
     "output_type": "execute_result"
    }
   ],
   "source": [
    "anthony_mccloud.head(1)"
   ]
  },
  {
   "cell_type": "code",
   "execution_count": 108,
   "id": "de216b86-0892-4fc4-a52c-57cc6d82ee1c",
   "metadata": {},
   "outputs": [],
   "source": [
    "mccloud_indivdual = anthony_mccloud['Net Amount'].sum()"
   ]
  },
  {
   "cell_type": "code",
   "execution_count": 109,
   "id": "e6d1aead-2a96-4973-931e-35763bc96393",
   "metadata": {},
   "outputs": [
    {
     "name": "stdout",
     "output_type": "stream",
     "text": [
      "9934.83\n"
     ]
    }
   ],
   "source": [
    "print(mccloud_indivdual)"
   ]
  },
  {
   "cell_type": "code",
   "execution_count": 110,
   "id": "1df5683f-129b-4efc-9972-9900f5dbdf12",
   "metadata": {},
   "outputs": [],
   "source": [
    "mccloud_regional = (west/170000)*500"
   ]
  },
  {
   "cell_type": "code",
   "execution_count": 111,
   "id": "5dcb95a0-673e-48e0-b0d8-c61cc66d2c97",
   "metadata": {},
   "outputs": [],
   "source": [
    "mccloud_1 = (anthony_mccloud['Net Amount'] * 0.0666).sum() + mccloud_regional"
   ]
  },
  {
   "cell_type": "code",
   "execution_count": 112,
   "id": "3bb7d2e7-ad74-468f-a284-6f80aed9ee95",
   "metadata": {},
   "outputs": [
    {
     "name": "stdout",
     "output_type": "stream",
     "text": [
      "1517.1479721176474\n"
     ]
    }
   ],
   "source": [
    "print(mccloud_1)"
   ]
  },
  {
   "cell_type": "code",
   "execution_count": 113,
   "id": "40d0f4da-8607-4827-84f8-96248bf5ed25",
   "metadata": {},
   "outputs": [],
   "source": [
    "anthony_mccloud.loc[11111] = ['Total Indivdual Bookings:', '', '', mccloud_indivdual ,'','','','','']"
   ]
  },
  {
   "cell_type": "code",
   "execution_count": 114,
   "id": "fa8cec46-8bb0-41b7-b800-fb2ea0b28363",
   "metadata": {},
   "outputs": [],
   "source": [
    "anthony_mccloud.loc[11112] = ['Regional Payment:', '', '', mccloud_regional ,'','','','','']"
   ]
  },
  {
   "cell_type": "code",
   "execution_count": 115,
   "id": "741a6354-171e-4489-820c-4f29447cad34",
   "metadata": {},
   "outputs": [],
   "source": [
    "anthony_mccloud.loc[11113] = ['Total Payout:', '', '', mccloud_1 ,'','','','','']"
   ]
  },
  {
   "cell_type": "code",
   "execution_count": 116,
   "id": "a0cc2abb-e0ef-4386-9060-018d4fc49d29",
   "metadata": {},
   "outputs": [],
   "source": [
    "anthony_mccloud.to_excel(os.path.join('../SE','mccloud_September_2022.xlsx'), index=False)"
   ]
  },
  {
   "cell_type": "markdown",
   "id": "625564ad-6dd4-4566-beca-1e81cbec29bc",
   "metadata": {},
   "source": [
    "#### End Anthony Mccloud"
   ]
  },
  {
   "cell_type": "markdown",
   "id": "9f0ebcb7-ec61-4149-80ed-95d9fa410112",
   "metadata": {
    "tags": []
   },
   "source": [
    "### Christopher Chandler - West"
   ]
  },
  {
   "cell_type": "code",
   "execution_count": 117,
   "id": "203c3b2d-61fa-45c2-a0e0-0d08ffb28aaf",
   "metadata": {},
   "outputs": [
    {
     "data": {
      "text/html": [
       "<div>\n",
       "<style scoped>\n",
       "    .dataframe tbody tr th:only-of-type {\n",
       "        vertical-align: middle;\n",
       "    }\n",
       "\n",
       "    .dataframe tbody tr th {\n",
       "        vertical-align: top;\n",
       "    }\n",
       "\n",
       "    .dataframe thead th {\n",
       "        text-align: right;\n",
       "    }\n",
       "</style>\n",
       "<table border=\"1\" class=\"dataframe\">\n",
       "  <thead>\n",
       "    <tr style=\"text-align: right;\">\n",
       "      <th></th>\n",
       "      <th>SE Assigned</th>\n",
       "      <th>Account Name</th>\n",
       "      <th>Opportunity Name</th>\n",
       "      <th>Net Amount</th>\n",
       "      <th>Close Date</th>\n",
       "      <th>Order Number</th>\n",
       "      <th>Data Centers</th>\n",
       "      <th>Type</th>\n",
       "      <th>Stage</th>\n",
       "    </tr>\n",
       "  </thead>\n",
       "  <tbody>\n",
       "    <tr>\n",
       "      <th>72</th>\n",
       "      <td>Christopher Chandler</td>\n",
       "      <td>ION Geophysical</td>\n",
       "      <td>ION / 2 cabs / Houston</td>\n",
       "      <td>3215.0</td>\n",
       "      <td>9/22/2022</td>\n",
       "      <td>67334</td>\n",
       "      <td>HOU5</td>\n",
       "      <td>New</td>\n",
       "      <td>Closed Won</td>\n",
       "    </tr>\n",
       "  </tbody>\n",
       "</table>\n",
       "</div>"
      ],
      "text/plain": [
       "             SE Assigned     Account Name        Opportunity Name  Net Amount  \\\n",
       "72  Christopher Chandler  ION Geophysical  ION / 2 cabs / Houston      3215.0   \n",
       "\n",
       "   Close Date Order Number Data Centers Type       Stage  \n",
       "72  9/22/2022        67334         HOU5  New  Closed Won  "
      ]
     },
     "execution_count": 117,
     "metadata": {},
     "output_type": "execute_result"
    }
   ],
   "source": [
    "christopher_chandler.head(1)"
   ]
  },
  {
   "cell_type": "code",
   "execution_count": 118,
   "id": "89339eb2-2020-4a23-9d56-60a03302da01",
   "metadata": {},
   "outputs": [],
   "source": [
    "chandler_indivdual = christopher_chandler['Net Amount'].sum()"
   ]
  },
  {
   "cell_type": "code",
   "execution_count": 119,
   "id": "732a8766-d071-4ad2-b347-0c827e964f15",
   "metadata": {},
   "outputs": [
    {
     "name": "stdout",
     "output_type": "stream",
     "text": [
      "12519.580000000002\n"
     ]
    }
   ],
   "source": [
    "print(chandler_indivdual)"
   ]
  },
  {
   "cell_type": "code",
   "execution_count": 120,
   "id": "5c64abcd-478a-48b7-9d83-3f4874ca6b1c",
   "metadata": {},
   "outputs": [],
   "source": [
    "chandler_regional = (west/170000)*500"
   ]
  },
  {
   "cell_type": "code",
   "execution_count": 121,
   "id": "268d1dd5-a4a7-4dbc-9357-9e924638b45c",
   "metadata": {},
   "outputs": [
    {
     "name": "stdout",
     "output_type": "stream",
     "text": [
      "855.4882941176471\n"
     ]
    }
   ],
   "source": [
    "print(chandler_regional)"
   ]
  },
  {
   "cell_type": "code",
   "execution_count": 122,
   "id": "751446af-380c-473b-9df8-37ec94e2f265",
   "metadata": {},
   "outputs": [],
   "source": [
    "chandler_1 = (christopher_chandler['Net Amount'] * 0.0666).sum() + chandler_regional"
   ]
  },
  {
   "cell_type": "code",
   "execution_count": 123,
   "id": "5c8d400e-2fd4-4279-8fae-b72a5a255455",
   "metadata": {},
   "outputs": [
    {
     "name": "stdout",
     "output_type": "stream",
     "text": [
      "1689.2923221176472\n"
     ]
    }
   ],
   "source": [
    "print(chandler_1)"
   ]
  },
  {
   "cell_type": "code",
   "execution_count": 124,
   "id": "c0c6a5c1-bb48-4ca1-9990-83eba3a11104",
   "metadata": {},
   "outputs": [],
   "source": [
    "christopher_chandler.loc[11111] = ['Total Indivdual Bookings:', chandler_indivdual, '', '' ,'','','','','']"
   ]
  },
  {
   "cell_type": "code",
   "execution_count": 125,
   "id": "f98e535e-f973-4ef0-a383-23cd972f848c",
   "metadata": {},
   "outputs": [],
   "source": [
    "christopher_chandler.loc[11112] = ['Regional Payment:', chandler_regional, '', '' ,'','','','','']"
   ]
  },
  {
   "cell_type": "code",
   "execution_count": 126,
   "id": "d1918276-1985-49d6-9c31-7750ce30a5ae",
   "metadata": {},
   "outputs": [],
   "source": [
    "christopher_chandler.loc[11113] = ['Total Payout:', chandler_1, '', '' ,'','','','','']"
   ]
  },
  {
   "cell_type": "code",
   "execution_count": 127,
   "id": "962a1dff-28bd-4831-aa12-d70e33db6e39",
   "metadata": {},
   "outputs": [],
   "source": [
    "christopher_chandler.to_excel(os.path.join('../SE','chandler_September_2022.xlsx'), index=False)"
   ]
  },
  {
   "cell_type": "markdown",
   "id": "fc083580-ed9c-41bd-915f-87cb06a3a7ef",
   "metadata": {},
   "source": [
    "#### End Christopher Chandler "
   ]
  },
  {
   "cell_type": "markdown",
   "id": "39541d8c-099a-4ad7-9801-58d1afcd9413",
   "metadata": {
    "tags": []
   },
   "source": [
    "### William Brucker - West"
   ]
  },
  {
   "cell_type": "code",
   "execution_count": 128,
   "id": "e01e5467-5ce2-4eed-8acf-5c0c9d70c827",
   "metadata": {},
   "outputs": [
    {
     "data": {
      "text/html": [
       "<div>\n",
       "<style scoped>\n",
       "    .dataframe tbody tr th:only-of-type {\n",
       "        vertical-align: middle;\n",
       "    }\n",
       "\n",
       "    .dataframe tbody tr th {\n",
       "        vertical-align: top;\n",
       "    }\n",
       "\n",
       "    .dataframe thead th {\n",
       "        text-align: right;\n",
       "    }\n",
       "</style>\n",
       "<table border=\"1\" class=\"dataframe\">\n",
       "  <thead>\n",
       "    <tr style=\"text-align: right;\">\n",
       "      <th></th>\n",
       "      <th>SE Assigned</th>\n",
       "      <th>Account Name</th>\n",
       "      <th>Opportunity Name</th>\n",
       "      <th>Net Amount</th>\n",
       "      <th>Close Date</th>\n",
       "      <th>Order Number</th>\n",
       "      <th>Data Centers</th>\n",
       "      <th>Type</th>\n",
       "      <th>Stage</th>\n",
       "    </tr>\n",
       "  </thead>\n",
       "  <tbody>\n",
       "    <tr>\n",
       "      <th>340</th>\n",
       "      <td>William Brucker</td>\n",
       "      <td>Sikaras Technology Group</td>\n",
       "      <td>Sikaras/Colo/ORD4/07052022</td>\n",
       "      <td>2322.0</td>\n",
       "      <td>9/2/2022</td>\n",
       "      <td>65040</td>\n",
       "      <td>ORD4</td>\n",
       "      <td>New</td>\n",
       "      <td>Closed Won</td>\n",
       "    </tr>\n",
       "  </tbody>\n",
       "</table>\n",
       "</div>"
      ],
      "text/plain": [
       "         SE Assigned              Account Name            Opportunity Name  \\\n",
       "340  William Brucker  Sikaras Technology Group  Sikaras/Colo/ORD4/07052022   \n",
       "\n",
       "     Net Amount Close Date Order Number Data Centers Type       Stage  \n",
       "340      2322.0   9/2/2022        65040         ORD4  New  Closed Won  "
      ]
     },
     "execution_count": 128,
     "metadata": {},
     "output_type": "execute_result"
    }
   ],
   "source": [
    "william_brucker.head(1)"
   ]
  },
  {
   "cell_type": "code",
   "execution_count": 129,
   "id": "b07315f3-be0d-4564-bf48-b9266efe69d1",
   "metadata": {},
   "outputs": [],
   "source": [
    "brucker_indivdual = william_brucker['Net Amount'].sum()"
   ]
  },
  {
   "cell_type": "code",
   "execution_count": 130,
   "id": "d734d733-cff5-4bdf-a8aa-0d45ce96581a",
   "metadata": {},
   "outputs": [
    {
     "name": "stdout",
     "output_type": "stream",
     "text": [
      "8147.74\n"
     ]
    }
   ],
   "source": [
    "print(brucker_indivdual)"
   ]
  },
  {
   "cell_type": "code",
   "execution_count": 131,
   "id": "895a9748-a85e-472c-a357-9037cf388282",
   "metadata": {},
   "outputs": [],
   "source": [
    "brucker_regional = (west/170000)*500"
   ]
  },
  {
   "cell_type": "code",
   "execution_count": 132,
   "id": "bac25b94-0fc5-443f-92cc-9539e6e5404c",
   "metadata": {},
   "outputs": [],
   "source": [
    "brucker_1 = (william_brucker['Net Amount'] * 0.0666).sum() + brucker_regional"
   ]
  },
  {
   "cell_type": "code",
   "execution_count": 133,
   "id": "4e44aad6-a165-4bca-8e1c-5853e221f319",
   "metadata": {},
   "outputs": [
    {
     "name": "stdout",
     "output_type": "stream",
     "text": [
      "1398.1277781176473\n"
     ]
    }
   ],
   "source": [
    "print(brucker_1)"
   ]
  },
  {
   "cell_type": "code",
   "execution_count": 134,
   "id": "bba9d9b7-6678-4396-83fd-b2e4cd2d648f",
   "metadata": {},
   "outputs": [],
   "source": [
    "william_brucker.loc[11111] = ['Total Indivdual Bookings:', brucker_indivdual, '', '' ,'','','','','']"
   ]
  },
  {
   "cell_type": "code",
   "execution_count": 135,
   "id": "8e0b6afa-9830-464c-bbbc-7cec83a43284",
   "metadata": {},
   "outputs": [],
   "source": [
    "william_brucker.loc[11112] = ['Regional Payment:', brucker_regional, '', '' ,'','','','','']"
   ]
  },
  {
   "cell_type": "code",
   "execution_count": 136,
   "id": "b2c5e348-7566-4782-b6d8-e06487d522da",
   "metadata": {},
   "outputs": [],
   "source": [
    "william_brucker.loc[11113] = ['Total Payout:', brucker_1, '', '' ,'','','','','']"
   ]
  },
  {
   "cell_type": "code",
   "execution_count": 137,
   "id": "0dee11b2-6fa7-4e0f-935f-a47649a3199a",
   "metadata": {},
   "outputs": [],
   "source": [
    "william_brucker.to_excel(os.path.join('../SE','brucker_September_2022.xlsx'), index=False)"
   ]
  },
  {
   "cell_type": "markdown",
   "id": "e4f672bf-2cd5-4752-a6ed-9d6a900a6fc8",
   "metadata": {},
   "source": [
    "#### End William Brucker"
   ]
  },
  {
   "cell_type": "markdown",
   "id": "a32d3942-aede-4943-8708-82571ac32aa4",
   "metadata": {},
   "source": [
    "### Perry Allen - West"
   ]
  },
  {
   "cell_type": "code",
   "execution_count": 138,
   "id": "1198f923-935c-49b8-a2f6-5eb5b5271e8c",
   "metadata": {},
   "outputs": [
    {
     "data": {
      "text/html": [
       "<div>\n",
       "<style scoped>\n",
       "    .dataframe tbody tr th:only-of-type {\n",
       "        vertical-align: middle;\n",
       "    }\n",
       "\n",
       "    .dataframe tbody tr th {\n",
       "        vertical-align: top;\n",
       "    }\n",
       "\n",
       "    .dataframe thead th {\n",
       "        text-align: right;\n",
       "    }\n",
       "</style>\n",
       "<table border=\"1\" class=\"dataframe\">\n",
       "  <thead>\n",
       "    <tr style=\"text-align: right;\">\n",
       "      <th></th>\n",
       "      <th>SE Assigned</th>\n",
       "      <th>Account Name</th>\n",
       "      <th>Opportunity Name</th>\n",
       "      <th>Net Amount</th>\n",
       "      <th>Close Date</th>\n",
       "      <th>Order Number</th>\n",
       "      <th>Data Centers</th>\n",
       "      <th>Type</th>\n",
       "      <th>Stage</th>\n",
       "    </tr>\n",
       "  </thead>\n",
       "  <tbody>\n",
       "    <tr>\n",
       "      <th>325</th>\n",
       "      <td>Perry Allen</td>\n",
       "      <td>Akamai Technologies</td>\n",
       "      <td>AKMI/Split/Colocation/IAD1/DC03/1MW</td>\n",
       "      <td>52800.0</td>\n",
       "      <td>9/29/2022</td>\n",
       "      <td>68322</td>\n",
       "      <td>IAD1</td>\n",
       "      <td>New</td>\n",
       "      <td>Closed Won</td>\n",
       "    </tr>\n",
       "  </tbody>\n",
       "</table>\n",
       "</div>"
      ],
      "text/plain": [
       "     SE Assigned         Account Name                     Opportunity Name  \\\n",
       "325  Perry Allen  Akamai Technologies  AKMI/Split/Colocation/IAD1/DC03/1MW   \n",
       "\n",
       "     Net Amount Close Date Order Number Data Centers Type       Stage  \n",
       "325     52800.0  9/29/2022        68322         IAD1  New  Closed Won  "
      ]
     },
     "execution_count": 138,
     "metadata": {},
     "output_type": "execute_result"
    }
   ],
   "source": [
    "perry_allen.head(1)"
   ]
  },
  {
   "cell_type": "code",
   "execution_count": 139,
   "id": "6db59f2b-747c-4edc-88d3-c995a4bcafe4",
   "metadata": {},
   "outputs": [],
   "source": [
    "allen_indivdual = perry_allen['Net Amount'].sum()"
   ]
  },
  {
   "cell_type": "code",
   "execution_count": 140,
   "id": "5d7b3fca-92af-4e74-b1df-32fc5662701e",
   "metadata": {},
   "outputs": [
    {
     "name": "stdout",
     "output_type": "stream",
     "text": [
      "108000.0\n"
     ]
    }
   ],
   "source": [
    "print(allen_indivdual)"
   ]
  },
  {
   "cell_type": "code",
   "execution_count": 141,
   "id": "9344fcac-0e99-4905-bc8d-4907ecc7860a",
   "metadata": {},
   "outputs": [],
   "source": [
    "allen_regional = (west/170000)*667"
   ]
  },
  {
   "cell_type": "code",
   "execution_count": 142,
   "id": "aea25b1a-4c70-4b6d-8fa5-3ed21a50ceb0",
   "metadata": {},
   "outputs": [],
   "source": [
    "allen_1 = (perry_allen['Net Amount'] * 0.0888).sum() + allen_regional"
   ]
  },
  {
   "cell_type": "code",
   "execution_count": 143,
   "id": "b4c20234-02a6-4096-9553-30b45dd41f3a",
   "metadata": {},
   "outputs": [
    {
     "name": "stdout",
     "output_type": "stream",
     "text": [
      "10731.621384352942\n"
     ]
    }
   ],
   "source": [
    "print(allen_1)"
   ]
  },
  {
   "cell_type": "code",
   "execution_count": 144,
   "id": "195a7434-4264-4c88-a29d-9adc98bba05c",
   "metadata": {},
   "outputs": [],
   "source": [
    "perry_allen.loc[11111] = ['Total Indivdual Bookings:', allen_indivdual, '', '' ,'','','','','']"
   ]
  },
  {
   "cell_type": "code",
   "execution_count": 145,
   "id": "dd05183e-e8d2-45aa-9212-472a6b6a4ba7",
   "metadata": {},
   "outputs": [],
   "source": [
    "perry_allen.loc[11112] = ['Regional Payment:', allen_regional, '', '' ,'','','','','']"
   ]
  },
  {
   "cell_type": "code",
   "execution_count": 146,
   "id": "a50ede93-222c-4470-8e34-2f1f25547a5d",
   "metadata": {},
   "outputs": [],
   "source": [
    "perry_allen.loc[11113] = ['Total Payout:', allen_1, '', '' ,'','','','','']"
   ]
  },
  {
   "cell_type": "code",
   "execution_count": 147,
   "id": "5f2c2f27-805c-40a7-9173-ff3c7d82ec23",
   "metadata": {},
   "outputs": [],
   "source": [
    "perry_allen.to_excel(os.path.join('../SE','allen_September_2022.xlsx'), index=False)"
   ]
  },
  {
   "cell_type": "markdown",
   "id": "8b00c25e-c6bb-4b44-80a3-2de299945f8b",
   "metadata": {},
   "source": [
    "#### End Perry Allen "
   ]
  },
  {
   "cell_type": "markdown",
   "id": "8f0bdb22-73f5-4cb5-8eee-1d3055b1b33d",
   "metadata": {},
   "source": [
    "### Greg Ryman - West"
   ]
  },
  {
   "cell_type": "code",
   "execution_count": 148,
   "id": "8fcf71ba-d721-456d-b453-0721b5643cec",
   "metadata": {},
   "outputs": [
    {
     "data": {
      "text/html": [
       "<div>\n",
       "<style scoped>\n",
       "    .dataframe tbody tr th:only-of-type {\n",
       "        vertical-align: middle;\n",
       "    }\n",
       "\n",
       "    .dataframe tbody tr th {\n",
       "        vertical-align: top;\n",
       "    }\n",
       "\n",
       "    .dataframe thead th {\n",
       "        text-align: right;\n",
       "    }\n",
       "</style>\n",
       "<table border=\"1\" class=\"dataframe\">\n",
       "  <thead>\n",
       "    <tr style=\"text-align: right;\">\n",
       "      <th></th>\n",
       "      <th>SE Assigned</th>\n",
       "      <th>Account Name</th>\n",
       "      <th>Opportunity Name</th>\n",
       "      <th>Net Amount</th>\n",
       "      <th>Close Date</th>\n",
       "      <th>Order Number</th>\n",
       "      <th>Data Centers</th>\n",
       "      <th>Type</th>\n",
       "      <th>Stage</th>\n",
       "    </tr>\n",
       "  </thead>\n",
       "  <tbody>\n",
       "    <tr>\n",
       "      <th>198</th>\n",
       "      <td>Greg Ryman</td>\n",
       "      <td>Skyworks Solutions</td>\n",
       "      <td>Skyworks - Colo Ashburn - Aug 1 2022 - MRR Only</td>\n",
       "      <td>46069.0</td>\n",
       "      <td>9/19/2022</td>\n",
       "      <td>67387</td>\n",
       "      <td>IAD1</td>\n",
       "      <td>Agent - New</td>\n",
       "      <td>Closed Won</td>\n",
       "    </tr>\n",
       "  </tbody>\n",
       "</table>\n",
       "</div>"
      ],
      "text/plain": [
       "    SE Assigned        Account Name  \\\n",
       "198  Greg Ryman  Skyworks Solutions   \n",
       "\n",
       "                                    Opportunity Name  Net Amount Close Date  \\\n",
       "198  Skyworks - Colo Ashburn - Aug 1 2022 - MRR Only     46069.0  9/19/2022   \n",
       "\n",
       "    Order Number Data Centers         Type       Stage  \n",
       "198        67387         IAD1  Agent - New  Closed Won  "
      ]
     },
     "execution_count": 148,
     "metadata": {},
     "output_type": "execute_result"
    }
   ],
   "source": [
    "greg_ryman.head(1)"
   ]
  },
  {
   "cell_type": "code",
   "execution_count": 149,
   "id": "97f589e6-218f-4305-b320-687962f1ce04",
   "metadata": {},
   "outputs": [],
   "source": [
    "ryman_indivdual = greg_ryman['Net Amount'].sum()"
   ]
  },
  {
   "cell_type": "code",
   "execution_count": 150,
   "id": "99020353-0bab-41aa-97ce-ba5e13eeabcc",
   "metadata": {},
   "outputs": [
    {
     "name": "stdout",
     "output_type": "stream",
     "text": [
      "54133.72\n"
     ]
    }
   ],
   "source": [
    "print(ryman_indivdual)"
   ]
  },
  {
   "cell_type": "code",
   "execution_count": 151,
   "id": "16f14990-563d-4930-83ad-4c5ca77ecce5",
   "metadata": {},
   "outputs": [],
   "source": [
    "ryman_regional = (west/170000)*500"
   ]
  },
  {
   "cell_type": "code",
   "execution_count": 152,
   "id": "081a711a-7b79-4762-a9be-8eac9d30784a",
   "metadata": {},
   "outputs": [],
   "source": [
    "ryman_1 = (greg_ryman['Net Amount'] * 0.0666).sum() + ryman_regional"
   ]
  },
  {
   "cell_type": "code",
   "execution_count": 153,
   "id": "2cf30d47-f536-4b0a-aee9-5d03bded46ca",
   "metadata": {},
   "outputs": [
    {
     "name": "stdout",
     "output_type": "stream",
     "text": [
      "4460.794046117649\n"
     ]
    }
   ],
   "source": [
    "print(ryman_1)"
   ]
  },
  {
   "cell_type": "code",
   "execution_count": 154,
   "id": "f08809b1-17c9-47ec-a8cd-743025104667",
   "metadata": {},
   "outputs": [],
   "source": [
    "greg_ryman.loc[11111] = ['Indivdual Bookings:', ryman_indivdual, '', '' ,'','','','','']"
   ]
  },
  {
   "cell_type": "code",
   "execution_count": 155,
   "id": "140a3e38-1ff0-49e5-9924-956b30098e74",
   "metadata": {},
   "outputs": [],
   "source": [
    "greg_ryman.loc[11112] = ['Regional Payment:', ryman_regional, '', '' ,'','','','','']"
   ]
  },
  {
   "cell_type": "code",
   "execution_count": 156,
   "id": "c03838e7-9ba5-4de5-9da8-df30c5b16422",
   "metadata": {},
   "outputs": [],
   "source": [
    "greg_ryman.loc[11113] = ['Total Payout:', ryman_1, '', '' ,'','','','','']"
   ]
  },
  {
   "cell_type": "code",
   "execution_count": 157,
   "id": "c849ef68-55fb-46c3-b31d-d7d3d43074f4",
   "metadata": {},
   "outputs": [],
   "source": [
    "greg_ryman.to_excel(os.path.join('../SE','ryman_September_2022.xlsx'), index=False)"
   ]
  },
  {
   "cell_type": "markdown",
   "id": "c2db8ce8-855c-42fe-bc6b-feccffefcd1e",
   "metadata": {},
   "source": [
    "#### End Greg Ryman"
   ]
  },
  {
   "cell_type": "markdown",
   "id": "a87ae777-910d-4b3f-884c-3a58f7fe6394",
   "metadata": {},
   "source": [
    "### Grady Vogt"
   ]
  },
  {
   "cell_type": "code",
   "execution_count": 158,
   "id": "2c81b792-e65b-41aa-b023-c5b3f4460bc7",
   "metadata": {},
   "outputs": [
    {
     "data": {
      "text/html": [
       "<div>\n",
       "<style scoped>\n",
       "    .dataframe tbody tr th:only-of-type {\n",
       "        vertical-align: middle;\n",
       "    }\n",
       "\n",
       "    .dataframe tbody tr th {\n",
       "        vertical-align: top;\n",
       "    }\n",
       "\n",
       "    .dataframe thead th {\n",
       "        text-align: right;\n",
       "    }\n",
       "</style>\n",
       "<table border=\"1\" class=\"dataframe\">\n",
       "  <thead>\n",
       "    <tr style=\"text-align: right;\">\n",
       "      <th></th>\n",
       "      <th>SE Assigned</th>\n",
       "      <th>Account Name</th>\n",
       "      <th>Opportunity Name</th>\n",
       "      <th>Net Amount</th>\n",
       "      <th>Close Date</th>\n",
       "      <th>Order Number</th>\n",
       "      <th>Data Centers</th>\n",
       "      <th>Type</th>\n",
       "      <th>Stage</th>\n",
       "    </tr>\n",
       "  </thead>\n",
       "  <tbody>\n",
       "    <tr>\n",
       "      <th>158</th>\n",
       "      <td>Grady Vogt</td>\n",
       "      <td>CCI/Bell Bank</td>\n",
       "      <td>CCI/Bell - MSP2 - Transform Power and Expansio...</td>\n",
       "      <td>18149.5</td>\n",
       "      <td>9/20/2022</td>\n",
       "      <td>65408</td>\n",
       "      <td>MSP2</td>\n",
       "      <td>Renewal</td>\n",
       "      <td>Closed Won</td>\n",
       "    </tr>\n",
       "  </tbody>\n",
       "</table>\n",
       "</div>"
      ],
      "text/plain": [
       "    SE Assigned   Account Name  \\\n",
       "158  Grady Vogt  CCI/Bell Bank   \n",
       "\n",
       "                                      Opportunity Name  Net Amount Close Date  \\\n",
       "158  CCI/Bell - MSP2 - Transform Power and Expansio...     18149.5  9/20/2022   \n",
       "\n",
       "    Order Number Data Centers     Type       Stage  \n",
       "158        65408         MSP2  Renewal  Closed Won  "
      ]
     },
     "execution_count": 158,
     "metadata": {},
     "output_type": "execute_result"
    }
   ],
   "source": [
    "grady_vogt.head(1)"
   ]
  },
  {
   "cell_type": "code",
   "execution_count": 159,
   "id": "13b527fa-645f-4f56-bf7e-d1491dc1a165",
   "metadata": {},
   "outputs": [],
   "source": [
    "vogt_indivdual = grady_vogt['Net Amount'].sum()"
   ]
  },
  {
   "cell_type": "code",
   "execution_count": 160,
   "id": "0c01577c-ffe0-4381-88b4-eb009b3fc39f",
   "metadata": {},
   "outputs": [
    {
     "name": "stdout",
     "output_type": "stream",
     "text": [
      "35889.10999999999\n"
     ]
    }
   ],
   "source": [
    "print(vogt_indivdual)"
   ]
  },
  {
   "cell_type": "code",
   "execution_count": 161,
   "id": "d9a44a32-19ef-4a20-91d8-7bc0bcda6286",
   "metadata": {},
   "outputs": [],
   "source": [
    "vogt_regional = (west/170000)*667"
   ]
  },
  {
   "cell_type": "code",
   "execution_count": 162,
   "id": "969979cf-d2e9-4867-a8bf-7bf59c51bd0e",
   "metadata": {},
   "outputs": [
    {
     "name": "stdout",
     "output_type": "stream",
     "text": [
      "1141.2213843529414\n"
     ]
    }
   ],
   "source": [
    "print(vogt_regional)"
   ]
  },
  {
   "cell_type": "code",
   "execution_count": 163,
   "id": "464c9afe-4ced-4c94-8e60-989f79667ac6",
   "metadata": {},
   "outputs": [],
   "source": [
    "vogt_1 = (grady_vogt['Net Amount'] * 0.0888).sum() + vogt_regional"
   ]
  },
  {
   "cell_type": "code",
   "execution_count": 164,
   "id": "2412b0fb-adc0-4621-b9b0-2a97aab98b04",
   "metadata": {},
   "outputs": [
    {
     "name": "stdout",
     "output_type": "stream",
     "text": [
      "4328.174352352941\n"
     ]
    }
   ],
   "source": [
    "print(vogt_1)"
   ]
  },
  {
   "cell_type": "code",
   "execution_count": 165,
   "id": "02d73c27-9418-4a35-b569-30b635a2efab",
   "metadata": {},
   "outputs": [],
   "source": [
    "grady_vogt.loc[11111] = ['Total Indivdual Bookings:', '', '', vogt_indivdual ,'','','','','']"
   ]
  },
  {
   "cell_type": "code",
   "execution_count": 166,
   "id": "e9ad2547-10d9-4fd5-aec3-1429656a7165",
   "metadata": {},
   "outputs": [],
   "source": [
    "grady_vogt.loc[11112] = ['Regional Payment:', '', '', vogt_regional ,'','','','','']"
   ]
  },
  {
   "cell_type": "code",
   "execution_count": 167,
   "id": "50922d94-4133-4454-907c-d7267ff61de1",
   "metadata": {},
   "outputs": [],
   "source": [
    "grady_vogt.loc[11113] = ['Total Payout:', '', '', vogt_1 ,'','','','','']"
   ]
  },
  {
   "cell_type": "code",
   "execution_count": 168,
   "id": "30eb87b5-f3c1-4c1c-b5e7-f716a865e508",
   "metadata": {},
   "outputs": [],
   "source": [
    "grady_vogt.to_excel(os.path.join('../SE','vogt_September_2022.xlsx'), index=False)"
   ]
  },
  {
   "cell_type": "markdown",
   "id": "ff284b87-b636-4b41-b685-3aecd3b0e3e2",
   "metadata": {},
   "source": [
    "#### End Grady Vogt"
   ]
  },
  {
   "cell_type": "markdown",
   "id": "f2aaa537-e8b6-4b57-920f-ea5a4e5f371c",
   "metadata": {
    "tags": []
   },
   "source": [
    "### Daniel Bartholomew"
   ]
  },
  {
   "cell_type": "code",
   "execution_count": 169,
   "id": "fcf493c8-543e-410b-96c8-10bcaee4a008",
   "metadata": {},
   "outputs": [
    {
     "data": {
      "text/html": [
       "<div>\n",
       "<style scoped>\n",
       "    .dataframe tbody tr th:only-of-type {\n",
       "        vertical-align: middle;\n",
       "    }\n",
       "\n",
       "    .dataframe tbody tr th {\n",
       "        vertical-align: top;\n",
       "    }\n",
       "\n",
       "    .dataframe thead th {\n",
       "        text-align: right;\n",
       "    }\n",
       "</style>\n",
       "<table border=\"1\" class=\"dataframe\">\n",
       "  <thead>\n",
       "    <tr style=\"text-align: right;\">\n",
       "      <th></th>\n",
       "      <th>SE Assigned</th>\n",
       "      <th>Account Name</th>\n",
       "      <th>Opportunity Name</th>\n",
       "      <th>Net Amount</th>\n",
       "      <th>Close Date</th>\n",
       "      <th>Order Number</th>\n",
       "      <th>Data Centers</th>\n",
       "      <th>Type</th>\n",
       "      <th>Stage</th>\n",
       "    </tr>\n",
       "  </thead>\n",
       "  <tbody>\n",
       "    <tr>\n",
       "      <th>101</th>\n",
       "      <td>Daniel Bartholomew</td>\n",
       "      <td>Pure Storage, Inc.</td>\n",
       "      <td>Pure Storage/remotehandsbundle/SLC5/08172022</td>\n",
       "      <td>11250.0</td>\n",
       "      <td>9/16/2022</td>\n",
       "      <td>67319</td>\n",
       "      <td>SLC5</td>\n",
       "      <td>Existing</td>\n",
       "      <td>Closed Won</td>\n",
       "    </tr>\n",
       "  </tbody>\n",
       "</table>\n",
       "</div>"
      ],
      "text/plain": [
       "            SE Assigned        Account Name  \\\n",
       "101  Daniel Bartholomew  Pure Storage, Inc.   \n",
       "\n",
       "                                 Opportunity Name  Net Amount Close Date  \\\n",
       "101  Pure Storage/remotehandsbundle/SLC5/08172022     11250.0  9/16/2022   \n",
       "\n",
       "    Order Number Data Centers      Type       Stage  \n",
       "101        67319         SLC5  Existing  Closed Won  "
      ]
     },
     "execution_count": 169,
     "metadata": {},
     "output_type": "execute_result"
    }
   ],
   "source": [
    "daniel_bartholomew.head(1)"
   ]
  },
  {
   "cell_type": "code",
   "execution_count": 170,
   "id": "90baf0d5-2bbe-4d43-bce9-cdeec28d4ca2",
   "metadata": {},
   "outputs": [],
   "source": [
    "bartholomew_indivdual = daniel_bartholomew['Net Amount'].sum()"
   ]
  },
  {
   "cell_type": "code",
   "execution_count": 171,
   "id": "cd3d350e-587e-4cb3-86d0-3d2397afc422",
   "metadata": {},
   "outputs": [
    {
     "name": "stdout",
     "output_type": "stream",
     "text": [
      "62241.03999999999\n"
     ]
    }
   ],
   "source": [
    "print(bartholomew_indivdual)"
   ]
  },
  {
   "cell_type": "code",
   "execution_count": 172,
   "id": "23ce58d9-cb00-4e6d-95cc-a20060728a16",
   "metadata": {},
   "outputs": [],
   "source": [
    "bartholomew_regional = (west/170000)*667"
   ]
  },
  {
   "cell_type": "code",
   "execution_count": 173,
   "id": "8bceaeed-9d70-4c22-9513-cccbf828a890",
   "metadata": {},
   "outputs": [],
   "source": [
    "bartholomew_1 = (daniel_bartholomew['Net Amount'] * 0.0888).sum() + bartholomew_regional"
   ]
  },
  {
   "cell_type": "code",
   "execution_count": 174,
   "id": "3228aabc-50d9-4c6e-9759-300833fbb8c1",
   "metadata": {},
   "outputs": [
    {
     "name": "stdout",
     "output_type": "stream",
     "text": [
      "6668.225736352942\n"
     ]
    }
   ],
   "source": [
    "print(bartholomew_1)"
   ]
  },
  {
   "cell_type": "code",
   "execution_count": 175,
   "id": "c469b6c2-d4b3-4f30-9fcc-6655a39fcf8c",
   "metadata": {},
   "outputs": [],
   "source": [
    "daniel_bartholomew.loc[11111] = ['Total Indivdual Bookings:', bartholomew_indivdual, '', '' ,'','','','','']"
   ]
  },
  {
   "cell_type": "code",
   "execution_count": 176,
   "id": "06510cf6-6c60-4bd4-a6fd-fe090fa3b3fc",
   "metadata": {},
   "outputs": [],
   "source": [
    "daniel_bartholomew.loc[11112] = ['Regional Payment:', bartholomew_regional, '', '' ,'','','','','']"
   ]
  },
  {
   "cell_type": "code",
   "execution_count": 177,
   "id": "431e994f-44ea-4384-8ea9-a5d4a91e5379",
   "metadata": {},
   "outputs": [],
   "source": [
    "daniel_bartholomew.loc[11113] = ['Total Payout:', bartholomew_1, '', '' ,'','','','','']"
   ]
  },
  {
   "cell_type": "code",
   "execution_count": 178,
   "id": "241d91d8-b10f-4cc4-aa79-895225395bac",
   "metadata": {},
   "outputs": [],
   "source": [
    "daniel_bartholomew.to_excel(os.path.join('../SE','Bartholomew_September_2022.xlsx'), index=False)"
   ]
  },
  {
   "cell_type": "markdown",
   "id": "b497f9c5-2c70-4ea0-8558-c96e4c679846",
   "metadata": {
    "jp-MarkdownHeadingCollapsed": true,
    "tags": []
   },
   "source": [
    "#### End Daniel Bartholomew"
   ]
  },
  {
   "cell_type": "markdown",
   "id": "beee20ca-758f-43c7-b725-225a33797782",
   "metadata": {
    "tags": []
   },
   "source": [
    "### End SEs"
   ]
  },
  {
   "cell_type": "markdown",
   "id": "4c327415-042c-45bf-bad7-f34c6e042ef2",
   "metadata": {
    "tags": []
   },
   "source": [
    "## Sheet For Payroll"
   ]
  },
  {
   "cell_type": "code",
   "execution_count": 179,
   "id": "a990ddf8-255d-4023-a49e-db20d3a22858",
   "metadata": {},
   "outputs": [],
   "source": [
    "se_by_period1 = pd.DataFrame(columns=['Name:', 'Payout:'])"
   ]
  },
  {
   "cell_type": "code",
   "execution_count": 180,
   "id": "6d5848c2-05c2-4199-a558-9589c07aa0d7",
   "metadata": {},
   "outputs": [],
   "source": [
    "se_by_period1.loc[0] = ['East:', '']"
   ]
  },
  {
   "cell_type": "code",
   "execution_count": 181,
   "id": "c38ef91c-2803-41db-b25b-08ea14247209",
   "metadata": {},
   "outputs": [],
   "source": [
    "se_by_period1.loc[1] = ['Brendon Yoder', yoder_1]"
   ]
  },
  {
   "cell_type": "code",
   "execution_count": 182,
   "id": "0d411ffe-a5a7-4ea9-b4ed-1c85f6999f50",
   "metadata": {},
   "outputs": [],
   "source": [
    "se_by_period1.loc[2] = ['Eric Wooster', wooster_1]"
   ]
  },
  {
   "cell_type": "code",
   "execution_count": 183,
   "id": "d42ef774-e2dc-485b-b9d3-4eb2b26ab22c",
   "metadata": {},
   "outputs": [],
   "source": [
    "se_by_period1.loc[3] = ['Greg Manning', manning_1]"
   ]
  },
  {
   "cell_type": "code",
   "execution_count": 184,
   "id": "7fe42070-6d6c-413d-9fc7-8befeca9ccd5",
   "metadata": {},
   "outputs": [],
   "source": [
    "se_by_period1.loc[4] = ['John Davis', davis_1 ]"
   ]
  },
  {
   "cell_type": "code",
   "execution_count": 185,
   "id": "43b221ea-cc72-4434-ad64-d3ccb9b42be2",
   "metadata": {},
   "outputs": [],
   "source": [
    "se_by_period1.loc[5] = ['Marshall Sapp', sapp_1 ]"
   ]
  },
  {
   "cell_type": "code",
   "execution_count": 186,
   "id": "cfc9476f-9779-4b41-a3eb-9eb4a80d171c",
   "metadata": {},
   "outputs": [],
   "source": [
    "se_by_period1.loc[6] = ['Michael Alvaro', alvaro_1]"
   ]
  },
  {
   "cell_type": "code",
   "execution_count": 187,
   "id": "12f4fd6f-0d01-48a8-8fd6-7a946001738a",
   "metadata": {},
   "outputs": [],
   "source": [
    "se_by_period1.loc[7] = ['Robert Zimmerman', robert_zimmerman_1 ]"
   ]
  },
  {
   "cell_type": "code",
   "execution_count": 188,
   "id": "4f5ef21e-00d7-4144-97d3-3ae20b6511ad",
   "metadata": {},
   "outputs": [],
   "source": [
    "#se_by_period.loc[8] = ['Greg Shamieh', shamieh_1 ]"
   ]
  },
  {
   "cell_type": "code",
   "execution_count": 189,
   "id": "a9e802df-9748-4006-a943-2629c896b75d",
   "metadata": {},
   "outputs": [],
   "source": [
    "se_by_period1.loc[9] = ['West:', '']"
   ]
  },
  {
   "cell_type": "code",
   "execution_count": 190,
   "id": "d5ebda8f-d2df-40d2-8a30-1126432c262c",
   "metadata": {},
   "outputs": [],
   "source": [
    "se_by_period1.loc[10] = ['Anthony McCloud', mccloud_1 ]"
   ]
  },
  {
   "cell_type": "code",
   "execution_count": 191,
   "id": "6a2645a8-1005-44d9-ac89-a4cb31ab2752",
   "metadata": {},
   "outputs": [],
   "source": [
    "se_by_period1.loc[11] = ['Chris Chandler', chandler_1 ]"
   ]
  },
  {
   "cell_type": "code",
   "execution_count": 192,
   "id": "128eda7e-781b-4327-a45b-56988f5499a0",
   "metadata": {},
   "outputs": [],
   "source": [
    "se_by_period1.loc[12] = ['Dan Bartholomew', bartholomew_1 ]"
   ]
  },
  {
   "cell_type": "code",
   "execution_count": 193,
   "id": "63d6a59f-81a9-4450-9b4e-2dc2e44e1993",
   "metadata": {},
   "outputs": [],
   "source": [
    "se_by_period1.loc[13] = ['Grady Vogt', vogt_1 ]"
   ]
  },
  {
   "cell_type": "code",
   "execution_count": 194,
   "id": "b5e09bd4-1b12-4934-abea-f8346ced9b65",
   "metadata": {},
   "outputs": [],
   "source": [
    "se_by_period1.loc[14] = ['Greg Ryman', ryman_1 ]"
   ]
  },
  {
   "cell_type": "code",
   "execution_count": 195,
   "id": "b712afb2-721b-433c-a8d4-03f96f385c39",
   "metadata": {},
   "outputs": [],
   "source": [
    "se_by_period1.loc[15] = ['Perry Allen', allen_1 ]"
   ]
  },
  {
   "cell_type": "code",
   "execution_count": 196,
   "id": "d9e1b092-ff54-4b44-89dc-3240e7639e8c",
   "metadata": {},
   "outputs": [],
   "source": [
    "se_by_period1.loc[16] = ['William Brucker', brucker_1 ]"
   ]
  },
  {
   "cell_type": "code",
   "execution_count": 197,
   "id": "36111b3e-da1b-4948-835a-968389f9eefc",
   "metadata": {},
   "outputs": [],
   "source": [
    "se_by_period1.loc[17] = ['Eric Carter', eric_carter_1 ]"
   ]
  },
  {
   "cell_type": "code",
   "execution_count": 198,
   "id": "bc551d61-9317-4fbd-aa69-b017544d7ba9",
   "metadata": {},
   "outputs": [
    {
     "data": {
      "text/html": [
       "<div>\n",
       "<style scoped>\n",
       "    .dataframe tbody tr th:only-of-type {\n",
       "        vertical-align: middle;\n",
       "    }\n",
       "\n",
       "    .dataframe tbody tr th {\n",
       "        vertical-align: top;\n",
       "    }\n",
       "\n",
       "    .dataframe thead th {\n",
       "        text-align: right;\n",
       "    }\n",
       "</style>\n",
       "<table border=\"1\" class=\"dataframe\">\n",
       "  <thead>\n",
       "    <tr style=\"text-align: right;\">\n",
       "      <th></th>\n",
       "      <th>Name:</th>\n",
       "      <th>Payout:</th>\n",
       "    </tr>\n",
       "  </thead>\n",
       "  <tbody>\n",
       "    <tr>\n",
       "      <th>0</th>\n",
       "      <td>East:</td>\n",
       "      <td></td>\n",
       "    </tr>\n",
       "    <tr>\n",
       "      <th>1</th>\n",
       "      <td>Brendon Yoder</td>\n",
       "      <td>1770.053825</td>\n",
       "    </tr>\n",
       "    <tr>\n",
       "      <th>2</th>\n",
       "      <td>Eric Wooster</td>\n",
       "      <td>1754.174576</td>\n",
       "    </tr>\n",
       "    <tr>\n",
       "      <th>3</th>\n",
       "      <td>Greg Manning</td>\n",
       "      <td>822.288789</td>\n",
       "    </tr>\n",
       "    <tr>\n",
       "      <th>4</th>\n",
       "      <td>John Davis</td>\n",
       "      <td>1237.689538</td>\n",
       "    </tr>\n",
       "    <tr>\n",
       "      <th>5</th>\n",
       "      <td>Marshall Sapp</td>\n",
       "      <td>2832.914444</td>\n",
       "    </tr>\n",
       "    <tr>\n",
       "      <th>6</th>\n",
       "      <td>Michael Alvaro</td>\n",
       "      <td>2659.22684</td>\n",
       "    </tr>\n",
       "    <tr>\n",
       "      <th>7</th>\n",
       "      <td>Robert Zimmerman</td>\n",
       "      <td>1814.390937</td>\n",
       "    </tr>\n",
       "    <tr>\n",
       "      <th>9</th>\n",
       "      <td>West:</td>\n",
       "      <td></td>\n",
       "    </tr>\n",
       "    <tr>\n",
       "      <th>10</th>\n",
       "      <td>Anthony McCloud</td>\n",
       "      <td>1517.147972</td>\n",
       "    </tr>\n",
       "    <tr>\n",
       "      <th>11</th>\n",
       "      <td>Chris Chandler</td>\n",
       "      <td>1689.292322</td>\n",
       "    </tr>\n",
       "    <tr>\n",
       "      <th>12</th>\n",
       "      <td>Dan Bartholomew</td>\n",
       "      <td>6668.225736</td>\n",
       "    </tr>\n",
       "    <tr>\n",
       "      <th>13</th>\n",
       "      <td>Grady Vogt</td>\n",
       "      <td>4328.174352</td>\n",
       "    </tr>\n",
       "    <tr>\n",
       "      <th>14</th>\n",
       "      <td>Greg Ryman</td>\n",
       "      <td>4460.794046</td>\n",
       "    </tr>\n",
       "    <tr>\n",
       "      <th>15</th>\n",
       "      <td>Perry Allen</td>\n",
       "      <td>10731.621384</td>\n",
       "    </tr>\n",
       "    <tr>\n",
       "      <th>16</th>\n",
       "      <td>William Brucker</td>\n",
       "      <td>1398.127778</td>\n",
       "    </tr>\n",
       "    <tr>\n",
       "      <th>17</th>\n",
       "      <td>Eric Carter</td>\n",
       "      <td>5702.684969</td>\n",
       "    </tr>\n",
       "  </tbody>\n",
       "</table>\n",
       "</div>"
      ],
      "text/plain": [
       "               Name:       Payout:\n",
       "0              East:              \n",
       "1      Brendon Yoder   1770.053825\n",
       "2       Eric Wooster   1754.174576\n",
       "3       Greg Manning    822.288789\n",
       "4         John Davis   1237.689538\n",
       "5      Marshall Sapp   2832.914444\n",
       "6     Michael Alvaro    2659.22684\n",
       "7   Robert Zimmerman   1814.390937\n",
       "9              West:              \n",
       "10   Anthony McCloud   1517.147972\n",
       "11    Chris Chandler   1689.292322\n",
       "12   Dan Bartholomew   6668.225736\n",
       "13        Grady Vogt   4328.174352\n",
       "14        Greg Ryman   4460.794046\n",
       "15       Perry Allen  10731.621384\n",
       "16   William Brucker   1398.127778\n",
       "17       Eric Carter   5702.684969"
      ]
     },
     "execution_count": 198,
     "metadata": {},
     "output_type": "execute_result"
    }
   ],
   "source": [
    "se_by_period1.head(100)"
   ]
  },
  {
   "cell_type": "code",
   "execution_count": 199,
   "id": "e7dd7e66-f823-4df3-b589-e91882350c48",
   "metadata": {},
   "outputs": [],
   "source": [
    "se_by_period1.to_excel(os.path.join('../SE','SE_September_2022.xlsx'), index=False)"
   ]
  },
  {
   "cell_type": "code",
   "execution_count": 200,
   "id": "c68929a9-c107-4b69-941b-0520b1f3cbc2",
   "metadata": {},
   "outputs": [],
   "source": [
    "#abc = se_by_period"
   ]
  },
  {
   "cell_type": "code",
   "execution_count": 201,
   "id": "605a2782-ebef-49e4-9926-1d3c30a60744",
   "metadata": {},
   "outputs": [],
   "source": [
    "#se_by_period.to_excel(os.path.join('excel_sheets','SED.xlsx'), index=False)"
   ]
  },
  {
   "cell_type": "markdown",
   "id": "98868c86-24e1-4cbf-9203-8c30f4878bdd",
   "metadata": {
    "tags": []
   },
   "source": [
    "### End"
   ]
  },
  {
   "cell_type": "markdown",
   "id": "852fcd2f-6b6b-45b5-8f6e-643eee9cf9f0",
   "metadata": {
    "tags": []
   },
   "source": [
    "# CB"
   ]
  },
  {
   "cell_type": "markdown",
   "id": "f117a054-c0f5-4125-820d-fa57af92d8f5",
   "metadata": {},
   "source": [
    "#### This section is for Channel bookings only "
   ]
  },
  {
   "cell_type": "markdown",
   "id": "7d55088b-106d-4ea5-93b9-8dbbc3088a85",
   "metadata": {
    "tags": []
   },
   "source": [
    "### All imports will be used / are needed"
   ]
  },
  {
   "cell_type": "markdown",
   "id": "44004543-21f8-4fc0-827d-baf85956a9a2",
   "metadata": {},
   "source": [
    "### Edit (Name)_payout if comp plans change"
   ]
  },
  {
   "cell_type": "markdown",
   "id": "d9738482-c248-48e4-9956-ffc780fcde69",
   "metadata": {},
   "source": [
    "### Change to file name for current month for channel bookings. Must be within commishes file. "
   ]
  },
  {
   "cell_type": "code",
   "execution_count": 202,
   "id": "bbb03acf-fe8f-4854-9873-94b924796599",
   "metadata": {},
   "outputs": [],
   "source": [
    "names = pd.read_excel('../excel_sheets/CB.xlsx')\n"
   ]
  },
  {
   "cell_type": "code",
   "execution_count": 203,
   "id": "7123e609-dc7f-4f13-ae8f-e9bf94288a21",
   "metadata": {},
   "outputs": [
    {
     "data": {
      "text/html": [
       "<div>\n",
       "<style scoped>\n",
       "    .dataframe tbody tr th:only-of-type {\n",
       "        vertical-align: middle;\n",
       "    }\n",
       "\n",
       "    .dataframe tbody tr th {\n",
       "        vertical-align: top;\n",
       "    }\n",
       "\n",
       "    .dataframe thead th {\n",
       "        text-align: right;\n",
       "    }\n",
       "</style>\n",
       "<table border=\"1\" class=\"dataframe\">\n",
       "  <thead>\n",
       "    <tr style=\"text-align: right;\">\n",
       "      <th></th>\n",
       "      <th>Account Name</th>\n",
       "      <th>Opportunity Name</th>\n",
       "      <th>Order Number</th>\n",
       "      <th>Data Centers</th>\n",
       "      <th>Type</th>\n",
       "      <th>Amount</th>\n",
       "      <th>Close Date</th>\n",
       "      <th>Channel Rep</th>\n",
       "    </tr>\n",
       "  </thead>\n",
       "  <tbody>\n",
       "    <tr>\n",
       "      <th>0</th>\n",
       "      <td>Abatix</td>\n",
       "      <td>Abatix / DFW1 / IaaS Change Order / 10-04-2022</td>\n",
       "      <td>68229</td>\n",
       "      <td>DFW1</td>\n",
       "      <td>Change Order</td>\n",
       "      <td>914.13</td>\n",
       "      <td>9/29/2022</td>\n",
       "      <td>Andersen</td>\n",
       "    </tr>\n",
       "  </tbody>\n",
       "</table>\n",
       "</div>"
      ],
      "text/plain": [
       "  Account Name                                Opportunity Name  Order Number  \\\n",
       "0       Abatix  Abatix / DFW1 / IaaS Change Order / 10-04-2022         68229   \n",
       "\n",
       "  Data Centers          Type  Amount Close Date Channel Rep  \n",
       "0         DFW1  Change Order  914.13  9/29/2022    Andersen  "
      ]
     },
     "execution_count": 203,
     "metadata": {},
     "output_type": "execute_result"
    }
   ],
   "source": [
    "names.head(1)"
   ]
  },
  {
   "cell_type": "code",
   "execution_count": 204,
   "id": "a8434942-389e-4971-b3c1-f8192ead68a2",
   "metadata": {},
   "outputs": [
    {
     "data": {
      "text/plain": [
       "Index(['Account Name', 'Opportunity Name', 'Order Number', 'Data Centers',\n",
       "       'Type', 'Amount', 'Close Date', 'Channel Rep'],\n",
       "      dtype='object')"
      ]
     },
     "execution_count": 204,
     "metadata": {},
     "output_type": "execute_result"
    }
   ],
   "source": [
    "names.columns"
   ]
  },
  {
   "cell_type": "code",
   "execution_count": 205,
   "id": "b4aac606-a541-4666-95f2-68b531732e85",
   "metadata": {},
   "outputs": [
    {
     "data": {
      "text/plain": [
       "Account Name         object\n",
       "Opportunity Name     object\n",
       "Order Number          int64\n",
       "Data Centers         object\n",
       "Type                 object\n",
       "Amount              float64\n",
       "Close Date           object\n",
       "Channel Rep          object\n",
       "dtype: object"
      ]
     },
     "execution_count": 205,
     "metadata": {},
     "output_type": "execute_result"
    }
   ],
   "source": [
    "names.dtypes"
   ]
  },
  {
   "cell_type": "code",
   "execution_count": 206,
   "id": "56c90d47-e910-4037-aa08-d91112bfe195",
   "metadata": {},
   "outputs": [],
   "source": [
    "df = names.sort_values(by=['Channel Rep'])\n"
   ]
  },
  {
   "cell_type": "markdown",
   "id": "6b080ad4-38d9-4e52-9744-516578472fa5",
   "metadata": {
    "tags": []
   },
   "source": [
    "## Anyone new must be added below. "
   ]
  },
  {
   "cell_type": "code",
   "execution_count": 207,
   "id": "65623463-92f0-45eb-b59d-61c0e6591686",
   "metadata": {},
   "outputs": [],
   "source": [
    "Wilhelm = df[df['Channel Rep'] == 'Wilhelm']\n",
    "askinsvf = df\n",
    "Nelson = df[df['Channel Rep'] == 'Nelson']\n",
    "andersen = df[df['Channel Rep'] == 'Andersen']"
   ]
  },
  {
   "cell_type": "markdown",
   "id": "8e8f1c89-fed8-4f29-8425-8040d822b03c",
   "metadata": {
    "tags": []
   },
   "source": [
    "##### Wilhelm"
   ]
  },
  {
   "cell_type": "code",
   "execution_count": 208,
   "id": "fdb2582b-b10d-4e76-9473-f8242a8845f8",
   "metadata": {},
   "outputs": [],
   "source": [
    "wilhelm_indivdual = Wilhelm['Amount'].sum()"
   ]
  },
  {
   "cell_type": "code",
   "execution_count": 209,
   "id": "8c8c7e70-4f38-463e-9773-636ee29a56ac",
   "metadata": {},
   "outputs": [],
   "source": [
    "wilhelm_payout = wilhelm_indivdual * .33"
   ]
  },
  {
   "cell_type": "code",
   "execution_count": 210,
   "id": "233d6ef1-cc77-4045-a06a-87fc0de79ea6",
   "metadata": {},
   "outputs": [
    {
     "name": "stdout",
     "output_type": "stream",
     "text": [
      "68564.54\n"
     ]
    }
   ],
   "source": [
    "print(wilhelm_indivdual)"
   ]
  },
  {
   "cell_type": "code",
   "execution_count": 211,
   "id": "78b96ba2-4d62-42ca-a674-2aac05fac49e",
   "metadata": {},
   "outputs": [
    {
     "name": "stdout",
     "output_type": "stream",
     "text": [
      "22626.298199999997\n"
     ]
    }
   ],
   "source": [
    "print(wilhelm_payout)"
   ]
  },
  {
   "cell_type": "code",
   "execution_count": 212,
   "id": "d115b301-765a-4fd4-8130-cc7a46570059",
   "metadata": {},
   "outputs": [],
   "source": [
    "Wilhelm.loc[11111] = ['Total Bookings: ','','','', wilhelm_indivdual ,'','','']"
   ]
  },
  {
   "cell_type": "code",
   "execution_count": 213,
   "id": "fda9c081-51e6-4969-93aa-61643aa9abb7",
   "metadata": {},
   "outputs": [],
   "source": [
    "Wilhelm.loc[11112] = ['Total Payout: ','','','', wilhelm_payout ,'','','']"
   ]
  },
  {
   "cell_type": "markdown",
   "id": "b5a356a6-adc6-4586-a1a2-11a282dd1772",
   "metadata": {
    "tags": []
   },
   "source": [
    "#### Nelson"
   ]
  },
  {
   "cell_type": "code",
   "execution_count": 214,
   "id": "c510bcf1-4167-4f45-b4cd-0ba9fc13dbb9",
   "metadata": {},
   "outputs": [],
   "source": [
    "nelson_indivdual = Nelson['Amount'].sum()"
   ]
  },
  {
   "cell_type": "code",
   "execution_count": 215,
   "id": "047d235a-399c-4733-bcec-9bcdc1cc25fd",
   "metadata": {},
   "outputs": [],
   "source": [
    "nelson_payout = nelson_indivdual * .33"
   ]
  },
  {
   "cell_type": "code",
   "execution_count": 216,
   "id": "ed20cea5-e325-429d-8b63-6d75b0ff2f75",
   "metadata": {},
   "outputs": [
    {
     "name": "stdout",
     "output_type": "stream",
     "text": [
      "19739.730000000003\n"
     ]
    }
   ],
   "source": [
    "print(nelson_indivdual)"
   ]
  },
  {
   "cell_type": "code",
   "execution_count": 217,
   "id": "dedcac7d-c3a9-48d0-842b-a29370a5ab8b",
   "metadata": {},
   "outputs": [
    {
     "name": "stdout",
     "output_type": "stream",
     "text": [
      "6514.1109000000015\n"
     ]
    }
   ],
   "source": [
    "print(nelson_payout)"
   ]
  },
  {
   "cell_type": "code",
   "execution_count": 218,
   "id": "45a7507b-574a-4d84-a614-575f8d9ec4a0",
   "metadata": {},
   "outputs": [],
   "source": [
    "Nelson.loc[11111] = ['Total Bookings: ','','','', nelson_indivdual ,'','','']"
   ]
  },
  {
   "cell_type": "code",
   "execution_count": 219,
   "id": "1eb044f3-116c-44b2-80d6-2d6e1c2b2b58",
   "metadata": {},
   "outputs": [],
   "source": [
    "Nelson.loc[11112] = ['Total Payout: ','','','', nelson_payout ,'','','']"
   ]
  },
  {
   "cell_type": "markdown",
   "id": "0b224ecd-c6fb-4d62-b51e-466d39d92040",
   "metadata": {
    "tags": []
   },
   "source": [
    "#### Andersen"
   ]
  },
  {
   "cell_type": "code",
   "execution_count": 220,
   "id": "e4661fb2-85c4-4783-aeef-6a7a74dbf64b",
   "metadata": {},
   "outputs": [],
   "source": [
    "andersen_indivdual = andersen['Amount'].sum()"
   ]
  },
  {
   "cell_type": "code",
   "execution_count": 221,
   "id": "259e7b75-2c3c-465e-b8a3-c44bedfdff91",
   "metadata": {},
   "outputs": [],
   "source": [
    "andersen_payout = andersen_indivdual * .33"
   ]
  },
  {
   "cell_type": "code",
   "execution_count": 222,
   "id": "61e2bc5d-85f0-404c-ad64-d40354e7d8a2",
   "metadata": {},
   "outputs": [
    {
     "name": "stdout",
     "output_type": "stream",
     "text": [
      "15512.78\n"
     ]
    }
   ],
   "source": [
    "print(andersen_indivdual)"
   ]
  },
  {
   "cell_type": "code",
   "execution_count": 223,
   "id": "95c1a96c-7550-458b-9349-7df2984014f8",
   "metadata": {},
   "outputs": [
    {
     "name": "stdout",
     "output_type": "stream",
     "text": [
      "5119.2174\n"
     ]
    }
   ],
   "source": [
    "print(andersen_payout)"
   ]
  },
  {
   "cell_type": "code",
   "execution_count": 224,
   "id": "d6837da7-baad-487c-9e34-6348387b96b0",
   "metadata": {},
   "outputs": [],
   "source": [
    "andersen.loc[11111] = ['Total Bookings: ','','','', andersen_indivdual ,'','','']"
   ]
  },
  {
   "cell_type": "code",
   "execution_count": 225,
   "id": "0a6f6aef-cdc1-42e1-861e-1e25e0a585d7",
   "metadata": {},
   "outputs": [],
   "source": [
    "andersen.loc[11112] = ['Total Payout: ','','','', andersen_payout ,'','','']"
   ]
  },
  {
   "cell_type": "markdown",
   "id": "68b18b82-96a1-441b-9395-0d00a75b9ddd",
   "metadata": {
    "tags": []
   },
   "source": [
    "#### Askins"
   ]
  },
  {
   "cell_type": "code",
   "execution_count": 226,
   "id": "327c30e3-2bc3-4ea0-a494-d3e2dfb55285",
   "metadata": {},
   "outputs": [],
   "source": [
    "askins_payout = askinsvf['Amount'].sum()/70000*10000"
   ]
  },
  {
   "cell_type": "code",
   "execution_count": 227,
   "id": "5ee7c407-47f0-45f0-8bba-01a28b493799",
   "metadata": {},
   "outputs": [],
   "source": [
    "askins_1 = df[df['Channel Rep'] == 'Askins']"
   ]
  },
  {
   "cell_type": "code",
   "execution_count": 228,
   "id": "98613a86-8505-49d7-ace2-f58814697cff",
   "metadata": {},
   "outputs": [],
   "source": [
    "askins_indivdual = askinsvf['Amount'].sum()"
   ]
  },
  {
   "cell_type": "code",
   "execution_count": 229,
   "id": "ceafd828-7992-4813-acae-8cae3e197cbf",
   "metadata": {},
   "outputs": [
    {
     "name": "stdout",
     "output_type": "stream",
     "text": [
      "103817.04999999999\n"
     ]
    }
   ],
   "source": [
    "print(askins_indivdual)"
   ]
  },
  {
   "cell_type": "code",
   "execution_count": 230,
   "id": "226ad847-a768-4d07-8d19-82642e65659a",
   "metadata": {},
   "outputs": [],
   "source": [
    "askinsvf.loc[1110] = ['Total Bookings:', '','','',askins_indivdual,'','','']"
   ]
  },
  {
   "cell_type": "code",
   "execution_count": 231,
   "id": "4143ade0-ce91-4bdc-852c-4c8d6928bda1",
   "metadata": {},
   "outputs": [],
   "source": [
    "askinsvf.loc[1111] = ['Comission Payout:', '', '','',askins_payout,'','','']"
   ]
  },
  {
   "cell_type": "code",
   "execution_count": 232,
   "id": "811e50ad-8950-4800-bdd8-28ddac594d75",
   "metadata": {},
   "outputs": [
    {
     "data": {
      "text/html": [
       "<div>\n",
       "<style scoped>\n",
       "    .dataframe tbody tr th:only-of-type {\n",
       "        vertical-align: middle;\n",
       "    }\n",
       "\n",
       "    .dataframe tbody tr th {\n",
       "        vertical-align: top;\n",
       "    }\n",
       "\n",
       "    .dataframe thead th {\n",
       "        text-align: right;\n",
       "    }\n",
       "</style>\n",
       "<table border=\"1\" class=\"dataframe\">\n",
       "  <thead>\n",
       "    <tr style=\"text-align: right;\">\n",
       "      <th></th>\n",
       "      <th>Account Name</th>\n",
       "      <th>Opportunity Name</th>\n",
       "      <th>Order Number</th>\n",
       "      <th>Data Centers</th>\n",
       "      <th>Type</th>\n",
       "      <th>Amount</th>\n",
       "      <th>Close Date</th>\n",
       "      <th>Channel Rep</th>\n",
       "    </tr>\n",
       "  </thead>\n",
       "  <tbody>\n",
       "    <tr>\n",
       "      <th>0</th>\n",
       "      <td>Abatix</td>\n",
       "      <td>Abatix / DFW1 / IaaS Change Order / 10-04-2022</td>\n",
       "      <td>68229</td>\n",
       "      <td>DFW1</td>\n",
       "      <td>Change Order</td>\n",
       "      <td>914.13</td>\n",
       "      <td>9/29/2022</td>\n",
       "      <td>Andersen</td>\n",
       "    </tr>\n",
       "  </tbody>\n",
       "</table>\n",
       "</div>"
      ],
      "text/plain": [
       "  Account Name                                Opportunity Name Order Number  \\\n",
       "0       Abatix  Abatix / DFW1 / IaaS Change Order / 10-04-2022        68229   \n",
       "\n",
       "  Data Centers          Type  Amount Close Date Channel Rep  \n",
       "0         DFW1  Change Order  914.13  9/29/2022    Andersen  "
      ]
     },
     "execution_count": 232,
     "metadata": {},
     "output_type": "execute_result"
    }
   ],
   "source": [
    "askinsvf.head(1)"
   ]
  },
  {
   "cell_type": "code",
   "execution_count": 233,
   "id": "d16e8a4b-12c3-47f6-894c-ad82c2c21b79",
   "metadata": {},
   "outputs": [],
   "source": [
    "Wilhelm.to_excel(os.path.join('../CB','wilhelm_September_2022.xlsx'), index=False)\n",
    "Nelson.to_excel(os.path.join('../CB','nelson_September_2022.xlsx'), index=False)\n",
    "askinsvf.to_excel(os.path.join('../CB','askins_September_2022.xlsx'), index=False)\n",
    "andersen.to_excel(os.path.join('../CB','andersen_September_2022.xlsx'), index=False)"
   ]
  },
  {
   "cell_type": "markdown",
   "id": "a16485f3-24e1-4a0a-8db2-a8557000aa7f",
   "metadata": {
    "tags": []
   },
   "source": [
    "## End Channel Bookings"
   ]
  },
  {
   "cell_type": "markdown",
   "id": "5d47337e-913f-4d8b-8a47-da1591a93911",
   "metadata": {},
   "source": [
    "## Commission by Period "
   ]
  },
  {
   "cell_type": "code",
   "execution_count": 234,
   "id": "f8257d32-3ca4-49c2-b4e8-0af4bb53a796",
   "metadata": {},
   "outputs": [],
   "source": [
    "payouts_by_period = pd.DataFrame(columns=['Name:', 'Payout:'])"
   ]
  },
  {
   "cell_type": "code",
   "execution_count": 235,
   "id": "b6e67f05-95e9-4109-ac6d-9c3839187e30",
   "metadata": {},
   "outputs": [
    {
     "data": {
      "text/html": [
       "<div>\n",
       "<style scoped>\n",
       "    .dataframe tbody tr th:only-of-type {\n",
       "        vertical-align: middle;\n",
       "    }\n",
       "\n",
       "    .dataframe tbody tr th {\n",
       "        vertical-align: top;\n",
       "    }\n",
       "\n",
       "    .dataframe thead th {\n",
       "        text-align: right;\n",
       "    }\n",
       "</style>\n",
       "<table border=\"1\" class=\"dataframe\">\n",
       "  <thead>\n",
       "    <tr style=\"text-align: right;\">\n",
       "      <th></th>\n",
       "      <th>Name:</th>\n",
       "      <th>Payout:</th>\n",
       "    </tr>\n",
       "  </thead>\n",
       "  <tbody>\n",
       "  </tbody>\n",
       "</table>\n",
       "</div>"
      ],
      "text/plain": [
       "Empty DataFrame\n",
       "Columns: [Name:, Payout:]\n",
       "Index: []"
      ]
     },
     "execution_count": 235,
     "metadata": {},
     "output_type": "execute_result"
    }
   ],
   "source": [
    "payouts_by_period.head()"
   ]
  },
  {
   "cell_type": "code",
   "execution_count": 236,
   "id": "f67e2199-6abf-4ef1-b072-024a822ab2b1",
   "metadata": {},
   "outputs": [],
   "source": [
    "payouts_by_period.loc[1] = ['Scott Askins', askins_payout] "
   ]
  },
  {
   "cell_type": "code",
   "execution_count": 237,
   "id": "b73ac0e7-9a4a-4cbe-9937-6f8a6cb37c11",
   "metadata": {},
   "outputs": [],
   "source": [
    "payouts_by_period.loc[2] = ['Keith Nelson', nelson_payout] "
   ]
  },
  {
   "cell_type": "code",
   "execution_count": 238,
   "id": "0a6107c7-fcf1-403a-966b-554c017269d2",
   "metadata": {},
   "outputs": [],
   "source": [
    "payouts_by_period.loc[3] = ['Joel Wilhelm', wilhelm_payout] "
   ]
  },
  {
   "cell_type": "code",
   "execution_count": 239,
   "id": "b9d0bdd1-65d0-4931-970f-f5d03dc298d6",
   "metadata": {},
   "outputs": [],
   "source": [
    "payouts_by_period.loc[4] = ['Joel Andersen', andersen_payout] "
   ]
  },
  {
   "cell_type": "code",
   "execution_count": 240,
   "id": "dd9bec38-0b63-46f8-9117-ce1d4b49ef82",
   "metadata": {},
   "outputs": [
    {
     "data": {
      "text/html": [
       "<div>\n",
       "<style scoped>\n",
       "    .dataframe tbody tr th:only-of-type {\n",
       "        vertical-align: middle;\n",
       "    }\n",
       "\n",
       "    .dataframe tbody tr th {\n",
       "        vertical-align: top;\n",
       "    }\n",
       "\n",
       "    .dataframe thead th {\n",
       "        text-align: right;\n",
       "    }\n",
       "</style>\n",
       "<table border=\"1\" class=\"dataframe\">\n",
       "  <thead>\n",
       "    <tr style=\"text-align: right;\">\n",
       "      <th></th>\n",
       "      <th>Name:</th>\n",
       "      <th>Payout:</th>\n",
       "    </tr>\n",
       "  </thead>\n",
       "  <tbody>\n",
       "    <tr>\n",
       "      <th>1</th>\n",
       "      <td>Scott Askins</td>\n",
       "      <td>14831.007143</td>\n",
       "    </tr>\n",
       "    <tr>\n",
       "      <th>2</th>\n",
       "      <td>Keith Nelson</td>\n",
       "      <td>6514.110900</td>\n",
       "    </tr>\n",
       "    <tr>\n",
       "      <th>3</th>\n",
       "      <td>Joel Wilhelm</td>\n",
       "      <td>22626.298200</td>\n",
       "    </tr>\n",
       "    <tr>\n",
       "      <th>4</th>\n",
       "      <td>Joel Andersen</td>\n",
       "      <td>5119.217400</td>\n",
       "    </tr>\n",
       "  </tbody>\n",
       "</table>\n",
       "</div>"
      ],
      "text/plain": [
       "           Name:       Payout:\n",
       "1   Scott Askins  14831.007143\n",
       "2   Keith Nelson   6514.110900\n",
       "3   Joel Wilhelm  22626.298200\n",
       "4  Joel Andersen   5119.217400"
      ]
     },
     "execution_count": 240,
     "metadata": {},
     "output_type": "execute_result"
    }
   ],
   "source": [
    "payouts_by_period.head(1000)"
   ]
  },
  {
   "cell_type": "code",
   "execution_count": 241,
   "id": "1093100e-de6c-4c35-91ee-dab47b653b4d",
   "metadata": {},
   "outputs": [],
   "source": [
    "payouts_by_period.to_excel(os.path.join('../CB','CB_September_2022.xlsx'), index=False)"
   ]
  },
  {
   "cell_type": "markdown",
   "id": "b79fbc89-e421-4b14-91e1-a5f8255e5c31",
   "metadata": {},
   "source": [
    "#### This section is for Channel bookings only "
   ]
  },
  {
   "cell_type": "markdown",
   "id": "c30250ec-a88e-408a-9b12-8def26bfb9d4",
   "metadata": {
    "tags": []
   },
   "source": [
    "### All imports will be used / are needed"
   ]
  },
  {
   "cell_type": "markdown",
   "id": "a16cede4-484b-480e-a0bd-636c24760e00",
   "metadata": {},
   "source": [
    "### Edit (Name)_payout if comp plans change"
   ]
  },
  {
   "cell_type": "code",
   "execution_count": 242,
   "id": "2dc720fd-f020-4f68-893c-7d994dfeb004",
   "metadata": {},
   "outputs": [],
   "source": [
    "pay_to_billings = pd.concat([se_by_period1, payouts_by_period], ignore_index=True, sort=False)"
   ]
  },
  {
   "cell_type": "markdown",
   "id": "66acd477-545b-462c-b501-f359b03d8e65",
   "metadata": {
    "tags": []
   },
   "source": [
    "# NS Expense"
   ]
  },
  {
   "cell_type": "code",
   "execution_count": 243,
   "id": "10997a49-5fe1-44ce-bcb8-6257c5e7e491",
   "metadata": {},
   "outputs": [],
   "source": [
    "import openpyxl as py\n",
    "from openpyxl import *\n",
    "import pandas as pd\n",
    "from pandas import *\n",
    "import numpy as np\n",
    "import ast as ast\n",
    "#import pdfkit\n",
    "pd.options.mode.chained_assignment = None"
   ]
  },
  {
   "cell_type": "code",
   "execution_count": 244,
   "id": "7c5835e3-d8ee-4c7e-8607-2da2d06c02d7",
   "metadata": {},
   "outputs": [],
   "source": [
    "cb = pd.read_excel('../excel_sheets/CB.xlsx')\n"
   ]
  },
  {
   "cell_type": "code",
   "execution_count": 245,
   "id": "0798fd17-c8bb-4ebc-be5a-794298bd8150",
   "metadata": {},
   "outputs": [],
   "source": [
    "ed = pd.read_excel('../excel_sheets/Epicor.xlsx')"
   ]
  },
  {
   "cell_type": "code",
   "execution_count": 246,
   "id": "81c6e1c7-d9e5-4fb8-ae9f-98ca0bec9596",
   "metadata": {},
   "outputs": [],
   "source": [
    "se = pd.read_excel('../excel_sheets/SE.xlsx')"
   ]
  },
  {
   "cell_type": "code",
   "execution_count": 247,
   "id": "197f0e3e-8068-4961-913f-f5fd2892b418",
   "metadata": {},
   "outputs": [
    {
     "data": {
      "text/html": [
       "<div>\n",
       "<style scoped>\n",
       "    .dataframe tbody tr th:only-of-type {\n",
       "        vertical-align: middle;\n",
       "    }\n",
       "\n",
       "    .dataframe tbody tr th {\n",
       "        vertical-align: top;\n",
       "    }\n",
       "\n",
       "    .dataframe thead th {\n",
       "        text-align: right;\n",
       "    }\n",
       "</style>\n",
       "<table border=\"1\" class=\"dataframe\">\n",
       "  <thead>\n",
       "    <tr style=\"text-align: right;\">\n",
       "      <th></th>\n",
       "      <th>Account Name</th>\n",
       "      <th>Opportunity Name</th>\n",
       "      <th>Order Number</th>\n",
       "      <th>Data Centers</th>\n",
       "      <th>Type</th>\n",
       "      <th>Amount</th>\n",
       "      <th>Close Date</th>\n",
       "      <th>Channel Rep</th>\n",
       "    </tr>\n",
       "  </thead>\n",
       "  <tbody>\n",
       "    <tr>\n",
       "      <th>0</th>\n",
       "      <td>Abatix</td>\n",
       "      <td>Abatix / DFW1 / IaaS Change Order / 10-04-2022</td>\n",
       "      <td>68229</td>\n",
       "      <td>DFW1</td>\n",
       "      <td>Change Order</td>\n",
       "      <td>914.13</td>\n",
       "      <td>9/29/2022</td>\n",
       "      <td>Andersen</td>\n",
       "    </tr>\n",
       "    <tr>\n",
       "      <th>1</th>\n",
       "      <td>Currence, LLC (Member Access Processing)</td>\n",
       "      <td>MAP-Half CAB-SLC2-09092022</td>\n",
       "      <td>67150</td>\n",
       "      <td>SLC2</td>\n",
       "      <td>Agent - New</td>\n",
       "      <td>671.20</td>\n",
       "      <td>9/16/2022</td>\n",
       "      <td>Andersen</td>\n",
       "    </tr>\n",
       "    <tr>\n",
       "      <th>2</th>\n",
       "      <td>Currence, LLC (Member Access Processing)</td>\n",
       "      <td>MAP-Half CAB-ORD4-09092022</td>\n",
       "      <td>67151</td>\n",
       "      <td>ORD4</td>\n",
       "      <td>Agent - New</td>\n",
       "      <td>671.20</td>\n",
       "      <td>9/16/2022</td>\n",
       "      <td>Andersen</td>\n",
       "    </tr>\n",
       "    <tr>\n",
       "      <th>3</th>\n",
       "      <td>Boondocks Fun Center</td>\n",
       "      <td>Boondocks/HalfCab/SLC2/03222022</td>\n",
       "      <td>66645</td>\n",
       "      <td>SLC2</td>\n",
       "      <td>Agent - New</td>\n",
       "      <td>535.37</td>\n",
       "      <td>9/7/2022</td>\n",
       "      <td>Wilhelm</td>\n",
       "    </tr>\n",
       "    <tr>\n",
       "      <th>4</th>\n",
       "      <td>Benchmark Bank</td>\n",
       "      <td>Benchmark Bank / Internet Upgrade / 10.05.22</td>\n",
       "      <td>68321</td>\n",
       "      <td>DFW3</td>\n",
       "      <td>Agent - Existing</td>\n",
       "      <td>1062.33</td>\n",
       "      <td>9/29/2022</td>\n",
       "      <td>Andersen</td>\n",
       "    </tr>\n",
       "    <tr>\n",
       "      <th>5</th>\n",
       "      <td>Skyworks Solutions</td>\n",
       "      <td>Skyworks - Colo Ashburn - Aug 1 2022 - MRR Only</td>\n",
       "      <td>67387</td>\n",
       "      <td>IAD1</td>\n",
       "      <td>Agent - New</td>\n",
       "      <td>46069.00</td>\n",
       "      <td>9/19/2022</td>\n",
       "      <td>Wilhelm</td>\n",
       "    </tr>\n",
       "    <tr>\n",
       "      <th>6</th>\n",
       "      <td>Bourns Inc.</td>\n",
       "      <td>Bourns/SNA2/Cage/03092022</td>\n",
       "      <td>67055</td>\n",
       "      <td>SNA2</td>\n",
       "      <td>Existing</td>\n",
       "      <td>5410.25</td>\n",
       "      <td>9/22/2022</td>\n",
       "      <td>Nelson</td>\n",
       "    </tr>\n",
       "    <tr>\n",
       "      <th>7</th>\n",
       "      <td>Survey Sampling International, LLC</td>\n",
       "      <td>Survey Sampling CC SLC2 09082022</td>\n",
       "      <td>66907</td>\n",
       "      <td>SLC2</td>\n",
       "      <td>New</td>\n",
       "      <td>150.00</td>\n",
       "      <td>9/13/2022</td>\n",
       "      <td>Wilhelm</td>\n",
       "    </tr>\n",
       "    <tr>\n",
       "      <th>8</th>\n",
       "      <td>CHG Management, Inc.</td>\n",
       "      <td>CHG Management/SLC3- Megaport Xconn/ 08312022</td>\n",
       "      <td>66568</td>\n",
       "      <td>SLC3</td>\n",
       "      <td>Existing</td>\n",
       "      <td>200.00</td>\n",
       "      <td>9/23/2022</td>\n",
       "      <td>Wilhelm</td>\n",
       "    </tr>\n",
       "    <tr>\n",
       "      <th>9</th>\n",
       "      <td>Rackspace US, Inc.</td>\n",
       "      <td>rackspace/ New power 03E / DFW1/ 08082022</td>\n",
       "      <td>65213</td>\n",
       "      <td>DFW1</td>\n",
       "      <td>Change Order</td>\n",
       "      <td>790.00</td>\n",
       "      <td>9/30/2022</td>\n",
       "      <td>Andersen</td>\n",
       "    </tr>\n",
       "  </tbody>\n",
       "</table>\n",
       "</div>"
      ],
      "text/plain": [
       "                               Account Name  \\\n",
       "0                                    Abatix   \n",
       "1  Currence, LLC (Member Access Processing)   \n",
       "2  Currence, LLC (Member Access Processing)   \n",
       "3                      Boondocks Fun Center   \n",
       "4                            Benchmark Bank   \n",
       "5                        Skyworks Solutions   \n",
       "6                               Bourns Inc.   \n",
       "7        Survey Sampling International, LLC   \n",
       "8                      CHG Management, Inc.   \n",
       "9                        Rackspace US, Inc.   \n",
       "\n",
       "                                  Opportunity Name  Order Number Data Centers  \\\n",
       "0   Abatix / DFW1 / IaaS Change Order / 10-04-2022         68229         DFW1   \n",
       "1                       MAP-Half CAB-SLC2-09092022         67150         SLC2   \n",
       "2                       MAP-Half CAB-ORD4-09092022         67151         ORD4   \n",
       "3                  Boondocks/HalfCab/SLC2/03222022         66645         SLC2   \n",
       "4     Benchmark Bank / Internet Upgrade / 10.05.22         68321         DFW3   \n",
       "5  Skyworks - Colo Ashburn - Aug 1 2022 - MRR Only         67387         IAD1   \n",
       "6                        Bourns/SNA2/Cage/03092022         67055         SNA2   \n",
       "7                 Survey Sampling CC SLC2 09082022         66907         SLC2   \n",
       "8    CHG Management/SLC3- Megaport Xconn/ 08312022         66568         SLC3   \n",
       "9        rackspace/ New power 03E / DFW1/ 08082022         65213         DFW1   \n",
       "\n",
       "               Type    Amount Close Date Channel Rep  \n",
       "0      Change Order    914.13  9/29/2022    Andersen  \n",
       "1       Agent - New    671.20  9/16/2022    Andersen  \n",
       "2       Agent - New    671.20  9/16/2022    Andersen  \n",
       "3       Agent - New    535.37   9/7/2022     Wilhelm  \n",
       "4  Agent - Existing   1062.33  9/29/2022    Andersen  \n",
       "5       Agent - New  46069.00  9/19/2022     Wilhelm  \n",
       "6          Existing   5410.25  9/22/2022      Nelson  \n",
       "7               New    150.00  9/13/2022     Wilhelm  \n",
       "8          Existing    200.00  9/23/2022     Wilhelm  \n",
       "9      Change Order    790.00  9/30/2022    Andersen  "
      ]
     },
     "execution_count": 247,
     "metadata": {},
     "output_type": "execute_result"
    }
   ],
   "source": [
    "cb.head(10)"
   ]
  },
  {
   "cell_type": "code",
   "execution_count": 248,
   "id": "97050ee6-c82a-4deb-a7fa-fbe7696ad0e9",
   "metadata": {},
   "outputs": [],
   "source": [
    "cdns = cb.drop(columns=['Account Name', 'Opportunity Name','Order Number','Type','Channel Rep','Close Date'])"
   ]
  },
  {
   "cell_type": "code",
   "execution_count": 249,
   "id": "fe3de37b-ccf0-47e5-8444-73b47a9aa396",
   "metadata": {},
   "outputs": [],
   "source": [
    "cdns['Amount']*=.33"
   ]
  },
  {
   "cell_type": "code",
   "execution_count": 250,
   "id": "12178831-8ed6-4fd3-8ee8-3c9ebe13aadd",
   "metadata": {
    "tags": []
   },
   "outputs": [
    {
     "data": {
      "text/html": [
       "<div>\n",
       "<style scoped>\n",
       "    .dataframe tbody tr th:only-of-type {\n",
       "        vertical-align: middle;\n",
       "    }\n",
       "\n",
       "    .dataframe tbody tr th {\n",
       "        vertical-align: top;\n",
       "    }\n",
       "\n",
       "    .dataframe thead th {\n",
       "        text-align: right;\n",
       "    }\n",
       "</style>\n",
       "<table border=\"1\" class=\"dataframe\">\n",
       "  <thead>\n",
       "    <tr style=\"text-align: right;\">\n",
       "      <th></th>\n",
       "      <th>Amount</th>\n",
       "    </tr>\n",
       "    <tr>\n",
       "      <th>Data Centers</th>\n",
       "      <th></th>\n",
       "    </tr>\n",
       "  </thead>\n",
       "  <tbody>\n",
       "    <tr>\n",
       "      <th>ATL1</th>\n",
       "      <td>976.3050</td>\n",
       "    </tr>\n",
       "    <tr>\n",
       "      <th>BWI1</th>\n",
       "      <td>822.3237</td>\n",
       "    </tr>\n",
       "    <tr>\n",
       "      <th>DEN1</th>\n",
       "      <td>4512.9150</td>\n",
       "    </tr>\n",
       "    <tr>\n",
       "      <th>DFW1</th>\n",
       "      <td>562.3629</td>\n",
       "    </tr>\n",
       "    <tr>\n",
       "      <th>DFW2</th>\n",
       "      <td>49.5000</td>\n",
       "    </tr>\n",
       "    <tr>\n",
       "      <th>DFW3</th>\n",
       "      <td>4302.5301</td>\n",
       "    </tr>\n",
       "    <tr>\n",
       "      <th>EWR1</th>\n",
       "      <td>85.8000</td>\n",
       "    </tr>\n",
       "    <tr>\n",
       "      <th>HOU5</th>\n",
       "      <td>1060.9500</td>\n",
       "    </tr>\n",
       "    <tr>\n",
       "      <th>IAD1</th>\n",
       "      <td>15202.7700</td>\n",
       "    </tr>\n",
       "    <tr>\n",
       "      <th>LAS1</th>\n",
       "      <td>1322.5245</td>\n",
       "    </tr>\n",
       "    <tr>\n",
       "      <th>LGA1</th>\n",
       "      <td>544.5000</td>\n",
       "    </tr>\n",
       "    <tr>\n",
       "      <th>ORD4</th>\n",
       "      <td>776.5560</td>\n",
       "    </tr>\n",
       "    <tr>\n",
       "      <th>PHX1</th>\n",
       "      <td>135.6960</td>\n",
       "    </tr>\n",
       "    <tr>\n",
       "      <th>SAN1</th>\n",
       "      <td>66.0000</td>\n",
       "    </tr>\n",
       "    <tr>\n",
       "      <th>SLC2</th>\n",
       "      <td>1987.5108</td>\n",
       "    </tr>\n",
       "    <tr>\n",
       "      <th>SLC3</th>\n",
       "      <td>66.0000</td>\n",
       "    </tr>\n",
       "    <tr>\n",
       "      <th>SNA2</th>\n",
       "      <td>1785.3825</td>\n",
       "    </tr>\n",
       "  </tbody>\n",
       "</table>\n",
       "</div>"
      ],
      "text/plain": [
       "                  Amount\n",
       "Data Centers            \n",
       "ATL1            976.3050\n",
       "BWI1            822.3237\n",
       "DEN1           4512.9150\n",
       "DFW1            562.3629\n",
       "DFW2             49.5000\n",
       "DFW3           4302.5301\n",
       "EWR1             85.8000\n",
       "HOU5           1060.9500\n",
       "IAD1          15202.7700\n",
       "LAS1           1322.5245\n",
       "LGA1            544.5000\n",
       "ORD4            776.5560\n",
       "PHX1            135.6960\n",
       "SAN1             66.0000\n",
       "SLC2           1987.5108\n",
       "SLC3             66.0000\n",
       "SNA2           1785.3825"
      ]
     },
     "execution_count": 250,
     "metadata": {},
     "output_type": "execute_result"
    }
   ],
   "source": [
    "cdns.groupby(['Data Centers']).sum()"
   ]
  },
  {
   "cell_type": "code",
   "execution_count": 251,
   "id": "31b16ed7-8ab3-47b9-8a99-2c3db510364c",
   "metadata": {},
   "outputs": [],
   "source": [
    "#---------------------------------------------------->>>>>>>>>>>>>>>>>>>>>>>>>>>>>>>>>>>>>>>>>>>>>>>>>>>>>>>>>>>>>>>>>>>>>>"
   ]
  },
  {
   "cell_type": "code",
   "execution_count": 252,
   "id": "8de0b264-50bc-4eb3-b061-3055a8d1192b",
   "metadata": {
    "tags": []
   },
   "outputs": [
    {
     "data": {
      "text/html": [
       "<div>\n",
       "<style scoped>\n",
       "    .dataframe tbody tr th:only-of-type {\n",
       "        vertical-align: middle;\n",
       "    }\n",
       "\n",
       "    .dataframe tbody tr th {\n",
       "        vertical-align: top;\n",
       "    }\n",
       "\n",
       "    .dataframe thead th {\n",
       "        text-align: right;\n",
       "    }\n",
       "</style>\n",
       "<table border=\"1\" class=\"dataframe\">\n",
       "  <thead>\n",
       "    <tr style=\"text-align: right;\">\n",
       "      <th></th>\n",
       "      <th>SE Assigned</th>\n",
       "      <th>Account Name</th>\n",
       "      <th>Opportunity Name</th>\n",
       "      <th>Net Amount</th>\n",
       "      <th>Close Date</th>\n",
       "      <th>Order Number</th>\n",
       "      <th>Data Centers</th>\n",
       "      <th>Type</th>\n",
       "      <th>Stage</th>\n",
       "    </tr>\n",
       "  </thead>\n",
       "  <tbody>\n",
       "    <tr>\n",
       "      <th>0</th>\n",
       "      <td>Anthony McCloud</td>\n",
       "      <td>Concerto Healthcare</td>\n",
       "      <td>Concerto Healthcare/DRaaS/SLC2/07142022</td>\n",
       "      <td>3518.78</td>\n",
       "      <td>9/14/2022</td>\n",
       "      <td>64040</td>\n",
       "      <td>SLC2</td>\n",
       "      <td>Change Order</td>\n",
       "      <td>Closed Won</td>\n",
       "    </tr>\n",
       "    <tr>\n",
       "      <th>1</th>\n",
       "      <td>Anthony McCloud</td>\n",
       "      <td>Established Brands, Inc</td>\n",
       "      <td>Established Brands/ DataBank DR Site/SLC2/0616...</td>\n",
       "      <td>2085.90</td>\n",
       "      <td>9/26/2022</td>\n",
       "      <td>62459</td>\n",
       "      <td>SLC2</td>\n",
       "      <td>New</td>\n",
       "      <td>Closed Won</td>\n",
       "    </tr>\n",
       "    <tr>\n",
       "      <th>2</th>\n",
       "      <td>Anthony McCloud</td>\n",
       "      <td>Larson &amp; Company</td>\n",
       "      <td>Larson &amp; Company - Power Upgrade - SLC3 - 0831...</td>\n",
       "      <td>553.50</td>\n",
       "      <td>9/9/2022</td>\n",
       "      <td>66495</td>\n",
       "      <td>SLC3</td>\n",
       "      <td>Change Order</td>\n",
       "      <td>Closed Won</td>\n",
       "    </tr>\n",
       "    <tr>\n",
       "      <th>3</th>\n",
       "      <td>Anthony McCloud</td>\n",
       "      <td>CU Prodigy, LLC</td>\n",
       "      <td>CU Prodigy, LLC/Colocation (Managed Internet T...</td>\n",
       "      <td>353.01</td>\n",
       "      <td>9/7/2022</td>\n",
       "      <td>65931</td>\n",
       "      <td>SLC1</td>\n",
       "      <td>Change Order</td>\n",
       "      <td>Closed Won</td>\n",
       "    </tr>\n",
       "    <tr>\n",
       "      <th>4</th>\n",
       "      <td>Anthony McCloud</td>\n",
       "      <td>Escalante Golf, Inc.</td>\n",
       "      <td>Escalante Golf, Inc./Managed Services (Golden ...</td>\n",
       "      <td>254.49</td>\n",
       "      <td>9/30/2022</td>\n",
       "      <td>67710</td>\n",
       "      <td>DFW3</td>\n",
       "      <td>Change Order</td>\n",
       "      <td>Closed Won</td>\n",
       "    </tr>\n",
       "  </tbody>\n",
       "</table>\n",
       "</div>"
      ],
      "text/plain": [
       "       SE Assigned             Account Name  \\\n",
       "0  Anthony McCloud      Concerto Healthcare   \n",
       "1  Anthony McCloud  Established Brands, Inc   \n",
       "2  Anthony McCloud         Larson & Company   \n",
       "3  Anthony McCloud          CU Prodigy, LLC   \n",
       "4  Anthony McCloud     Escalante Golf, Inc.   \n",
       "\n",
       "                                    Opportunity Name  Net Amount Close Date  \\\n",
       "0            Concerto Healthcare/DRaaS/SLC2/07142022     3518.78  9/14/2022   \n",
       "1  Established Brands/ DataBank DR Site/SLC2/0616...     2085.90  9/26/2022   \n",
       "2  Larson & Company - Power Upgrade - SLC3 - 0831...      553.50   9/9/2022   \n",
       "3  CU Prodigy, LLC/Colocation (Managed Internet T...      353.01   9/7/2022   \n",
       "4  Escalante Golf, Inc./Managed Services (Golden ...      254.49  9/30/2022   \n",
       "\n",
       "  Order Number Data Centers          Type       Stage  \n",
       "0        64040         SLC2  Change Order  Closed Won  \n",
       "1        62459         SLC2           New  Closed Won  \n",
       "2        66495         SLC3  Change Order  Closed Won  \n",
       "3        65931         SLC1  Change Order  Closed Won  \n",
       "4        67710         DFW3  Change Order  Closed Won  "
      ]
     },
     "execution_count": 252,
     "metadata": {},
     "output_type": "execute_result"
    }
   ],
   "source": [
    "se.head()"
   ]
  },
  {
   "cell_type": "code",
   "execution_count": null,
   "id": "be3cff3e-df44-48c0-b73d-17f1e21b41f3",
   "metadata": {},
   "outputs": [],
   "source": []
  },
  {
   "cell_type": "code",
   "execution_count": 253,
   "id": "e4f10d5f-897c-44fb-896f-b92277c0fcbb",
   "metadata": {},
   "outputs": [],
   "source": [
    "se1 = se[['Net Amount','Data Centers']].dropna()"
   ]
  },
  {
   "cell_type": "code",
   "execution_count": 254,
   "id": "ac928294-5bb6-4020-8d06-4ef616673fe0",
   "metadata": {},
   "outputs": [
    {
     "data": {
      "text/html": [
       "<div>\n",
       "<style scoped>\n",
       "    .dataframe tbody tr th:only-of-type {\n",
       "        vertical-align: middle;\n",
       "    }\n",
       "\n",
       "    .dataframe tbody tr th {\n",
       "        vertical-align: top;\n",
       "    }\n",
       "\n",
       "    .dataframe thead th {\n",
       "        text-align: right;\n",
       "    }\n",
       "</style>\n",
       "<table border=\"1\" class=\"dataframe\">\n",
       "  <thead>\n",
       "    <tr style=\"text-align: right;\">\n",
       "      <th></th>\n",
       "      <th>Net Amount</th>\n",
       "      <th>Data Centers</th>\n",
       "    </tr>\n",
       "  </thead>\n",
       "  <tbody>\n",
       "    <tr>\n",
       "      <th>0</th>\n",
       "      <td>3518.78</td>\n",
       "      <td>SLC2</td>\n",
       "    </tr>\n",
       "    <tr>\n",
       "      <th>1</th>\n",
       "      <td>2085.90</td>\n",
       "      <td>SLC2</td>\n",
       "    </tr>\n",
       "    <tr>\n",
       "      <th>2</th>\n",
       "      <td>553.50</td>\n",
       "      <td>SLC3</td>\n",
       "    </tr>\n",
       "    <tr>\n",
       "      <th>3</th>\n",
       "      <td>353.01</td>\n",
       "      <td>SLC1</td>\n",
       "    </tr>\n",
       "    <tr>\n",
       "      <th>4</th>\n",
       "      <td>254.49</td>\n",
       "      <td>DFW3</td>\n",
       "    </tr>\n",
       "    <tr>\n",
       "      <th>...</th>\n",
       "      <td>...</td>\n",
       "      <td>...</td>\n",
       "    </tr>\n",
       "    <tr>\n",
       "      <th>351</th>\n",
       "      <td>0.00</td>\n",
       "      <td>IAD1</td>\n",
       "    </tr>\n",
       "    <tr>\n",
       "      <th>352</th>\n",
       "      <td>0.00</td>\n",
       "      <td>ORD4</td>\n",
       "    </tr>\n",
       "    <tr>\n",
       "      <th>353</th>\n",
       "      <td>0.00</td>\n",
       "      <td>IAD1</td>\n",
       "    </tr>\n",
       "    <tr>\n",
       "      <th>354</th>\n",
       "      <td>0.00</td>\n",
       "      <td>SLC3</td>\n",
       "    </tr>\n",
       "    <tr>\n",
       "      <th>355</th>\n",
       "      <td>0.00</td>\n",
       "      <td>IAD1</td>\n",
       "    </tr>\n",
       "  </tbody>\n",
       "</table>\n",
       "<p>331 rows × 2 columns</p>\n",
       "</div>"
      ],
      "text/plain": [
       "     Net Amount Data Centers\n",
       "0       3518.78         SLC2\n",
       "1       2085.90         SLC2\n",
       "2        553.50         SLC3\n",
       "3        353.01         SLC1\n",
       "4        254.49         DFW3\n",
       "..          ...          ...\n",
       "351        0.00         IAD1\n",
       "352        0.00         ORD4\n",
       "353        0.00         IAD1\n",
       "354        0.00         SLC3\n",
       "355        0.00         IAD1\n",
       "\n",
       "[331 rows x 2 columns]"
      ]
     },
     "execution_count": 254,
     "metadata": {},
     "output_type": "execute_result"
    }
   ],
   "source": [
    "se1"
   ]
  },
  {
   "cell_type": "code",
   "execution_count": 255,
   "id": "71dc20e1-3123-4e92-9f6c-0e0b38d3706b",
   "metadata": {},
   "outputs": [
    {
     "name": "stdout",
     "output_type": "stream",
     "text": [
      "Done\n"
     ]
    }
   ],
   "source": [
    "print('Done')"
   ]
  },
  {
   "cell_type": "code",
   "execution_count": null,
   "id": "b0afeead-1012-455b-9ef9-8410aebb61c3",
   "metadata": {},
   "outputs": [],
   "source": []
  }
 ],
 "metadata": {
  "kernelspec": {
   "display_name": "Python 3 (ipykernel)",
   "language": "python",
   "name": "python3"
  },
  "language_info": {
   "codemirror_mode": {
    "name": "ipython",
    "version": 3
   },
   "file_extension": ".py",
   "mimetype": "text/x-python",
   "name": "python",
   "nbconvert_exporter": "python",
   "pygments_lexer": "ipython3",
   "version": "3.9.7"
  },
  "vscode": {
   "interpreter": {
    "hash": "93520e3b97abbf787051ab7b7f90e780b709a3c4bf21f048fe3840ad79373056"
   }
  }
 },
 "nbformat": 4,
 "nbformat_minor": 5
}
