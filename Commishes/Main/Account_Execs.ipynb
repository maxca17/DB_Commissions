{
 "cells": [
  {
   "cell_type": "markdown",
   "id": "0d38a8e0-c4c2-4841-a1a6-8c79685366a1",
   "metadata": {
    "tags": []
   },
   "source": [
    "# Overview "
   ]
  },
  {
   "cell_type": "code",
   "execution_count": 26,
   "id": "d3732d8b-2aac-4bd2-be07-21c8db42e3af",
   "metadata": {},
   "outputs": [],
   "source": [
    "import openpyxl as py\n",
    "from openpyxl import *\n",
    "import pandas as pd\n",
    "from pandas import *\n",
    "import numpy as np\n",
    "import ast as ast\n",
    "import os.path\n",
    "#import pdfkit\n",
    "pd.options.mode.chained_assignment = None"
   ]
  },
  {
   "cell_type": "code",
   "execution_count": 27,
   "id": "e31a3953-82fa-4463-a48c-86b02163cc13",
   "metadata": {},
   "outputs": [],
   "source": [
    "#eoq = input('Is this the end of a quarter? (imput y or n)')"
   ]
  },
  {
   "cell_type": "code",
   "execution_count": 28,
   "id": "3e42afb5-e849-4242-bd0a-807035760987",
   "metadata": {},
   "outputs": [],
   "source": [
    "ep1 = pd.read_excel('../excel_sheets/Epicor.xlsx')"
   ]
  },
  {
   "cell_type": "code",
   "execution_count": 29,
   "id": "cf126da1-b4a2-4efa-bbae-643eb4d66f2f",
   "metadata": {},
   "outputs": [
    {
     "data": {
      "text/html": [
       "<div>\n",
       "<style scoped>\n",
       "    .dataframe tbody tr th:only-of-type {\n",
       "        vertical-align: middle;\n",
       "    }\n",
       "\n",
       "    .dataframe tbody tr th {\n",
       "        vertical-align: top;\n",
       "    }\n",
       "\n",
       "    .dataframe thead th {\n",
       "        text-align: right;\n",
       "    }\n",
       "</style>\n",
       "<table border=\"1\" class=\"dataframe\">\n",
       "  <thead>\n",
       "    <tr style=\"text-align: right;\">\n",
       "      <th></th>\n",
       "      <th>Organization</th>\n",
       "      <th>Order #</th>\n",
       "      <th>Order Date</th>\n",
       "      <th>Salesman</th>\n",
       "      <th>Order Summary</th>\n",
       "      <th>Type</th>\n",
       "      <th>Term</th>\n",
       "      <th>Datacenter</th>\n",
       "      <th>payout</th>\n",
       "      <th>MRR</th>\n",
       "      <th>Service Type</th>\n",
       "    </tr>\n",
       "  </thead>\n",
       "  <tbody>\n",
       "    <tr>\n",
       "      <th>0</th>\n",
       "      <td>Accudata Systems Inc.- Triple S Steel</td>\n",
       "      <td>69092</td>\n",
       "      <td>2022-10-19</td>\n",
       "      <td>Ryan Popkin</td>\n",
       "      <td>Accudata / XC Triple S / Houston</td>\n",
       "      <td>Existing</td>\n",
       "      <td>36</td>\n",
       "      <td>HOU1</td>\n",
       "      <td>200.0</td>\n",
       "      <td>200.0</td>\n",
       "      <td>xConnect</td>\n",
       "    </tr>\n",
       "  </tbody>\n",
       "</table>\n",
       "</div>"
      ],
      "text/plain": [
       "                            Organization Order # Order Date     Salesman  \\\n",
       "0  Accudata Systems Inc.- Triple S Steel   69092 2022-10-19  Ryan Popkin   \n",
       "\n",
       "                      Order Summary      Type  Term Datacenter  payout    MRR  \\\n",
       "0  Accudata / XC Triple S / Houston  Existing    36       HOU1   200.0  200.0   \n",
       "\n",
       "  Service Type  \n",
       "0     xConnect  "
      ]
     },
     "execution_count": 29,
     "metadata": {},
     "output_type": "execute_result"
    }
   ],
   "source": [
    "ep1.head(1)"
   ]
  },
  {
   "cell_type": "code",
   "execution_count": 30,
   "id": "c3f1a039-573a-4e32-b6cf-858244f68b0d",
   "metadata": {},
   "outputs": [
    {
     "data": {
      "text/plain": [
       "Index(['Organization', 'Order #', 'Order Date', 'Salesman', 'Order Summary',\n",
       "       'Type', 'Term', 'Datacenter', 'payout', 'MRR', 'Service Type'],\n",
       "      dtype='object')"
      ]
     },
     "execution_count": 30,
     "metadata": {},
     "output_type": "execute_result"
    }
   ],
   "source": [
    "ep1.columns"
   ]
  },
  {
   "cell_type": "code",
   "execution_count": 31,
   "id": "23d6124e-1c3b-4fd4-9e00-ad85f5445934",
   "metadata": {},
   "outputs": [
    {
     "data": {
      "text/plain": [
       "Organization             object\n",
       "Order #                  object\n",
       "Order Date       datetime64[ns]\n",
       "Salesman                 object\n",
       "Order Summary            object\n",
       "Type                     object\n",
       "Term                      int64\n",
       "Datacenter               object\n",
       "payout                  float64\n",
       "MRR                     float64\n",
       "Service Type             object\n",
       "dtype: object"
      ]
     },
     "execution_count": 31,
     "metadata": {},
     "output_type": "execute_result"
    }
   ],
   "source": [
    "ep1.dtypes"
   ]
  },
  {
   "cell_type": "code",
   "execution_count": 151,
   "id": "49b95b86-18e7-48aa-a1c8-d5d8e5ac08ec",
   "metadata": {},
   "outputs": [],
   "source": [
    "samuel_mickler = ep1[ep1['Salesman'] == 'Samuel Mickler']\n",
    "trey_hardeman = ep1[ep1['Salesman'] == 'Trey Hardeman']\n",
    "odaine_hudson = ep1[ep1['Salesman'] == 'Odaine Hudson']\n",
    "andrew_ramirez = ep1[ep1['Salesman'] == 'Andrew Ramirez']\n",
    "carlie_matel = ep1[ep1['Salesman'] == 'Carlie Matel']\n",
    "jonathan_malcolm = ep1[ep1['Salesman'] == 'Jonathan Malcolm']\n",
    "mike_miceli = ep1[ep1['Salesman'] == 'Mike Miceli']\n",
    "tiffany_dunson = ep1[ep1['Salesman'] == 'Tiffany Dunson']\n",
    "natalie_farr = ep1[ep1['Salesman'] == 'Natalie Farr']\n",
    "shelby_locklear = ep1[ep1['Salesman'] == 'Shelby Locklear']\n",
    "kathy_geiser = ep1[ep1['Salesman'] == 'Kathy J Geiser']\n",
    "stephen_muoio = ep1[ep1['Salesman'] == 'Stephen Muoio']\n",
    "matt_horne = ep1[ep1['Salesman'] == 'Matt Horne']\n",
    "brandon_peccorolo = ep1[ep1['Salesman'] == 'Brandon Peccoralo']"
   ]
  },
  {
   "cell_type": "markdown",
   "id": "df70c935-4f77-48ea-ac0f-474ac8cb05c2",
   "metadata": {
    "tags": []
   },
   "source": [
    "## AME - Wilson"
   ]
  },
  {
   "cell_type": "markdown",
   "id": "fb11f95d-c50c-481b-9547-4b030281f069",
   "metadata": {
    "tags": []
   },
   "source": [
    "### Sam Mickler"
   ]
  },
  {
   "cell_type": "code",
   "execution_count": 33,
   "id": "6e57c9b9-1a22-4bb4-a12a-38411325f96f",
   "metadata": {},
   "outputs": [
    {
     "data": {
      "text/html": [
       "<div>\n",
       "<style scoped>\n",
       "    .dataframe tbody tr th:only-of-type {\n",
       "        vertical-align: middle;\n",
       "    }\n",
       "\n",
       "    .dataframe tbody tr th {\n",
       "        vertical-align: top;\n",
       "    }\n",
       "\n",
       "    .dataframe thead th {\n",
       "        text-align: right;\n",
       "    }\n",
       "</style>\n",
       "<table border=\"1\" class=\"dataframe\">\n",
       "  <thead>\n",
       "    <tr style=\"text-align: right;\">\n",
       "      <th></th>\n",
       "      <th>Organization</th>\n",
       "      <th>Order #</th>\n",
       "      <th>Order Date</th>\n",
       "      <th>Salesman</th>\n",
       "      <th>Order Summary</th>\n",
       "      <th>Type</th>\n",
       "      <th>Term</th>\n",
       "      <th>Datacenter</th>\n",
       "      <th>payout</th>\n",
       "      <th>MRR</th>\n",
       "      <th>Service Type</th>\n",
       "    </tr>\n",
       "  </thead>\n",
       "  <tbody>\n",
       "    <tr>\n",
       "      <th>643</th>\n",
       "      <td>DQE Communications</td>\n",
       "      <td>68796</td>\n",
       "      <td>2022-10-13</td>\n",
       "      <td>Samuel Mickler</td>\n",
       "      <td>Copy of DQE - PIT1 - XC to Zayo - 10.13.22</td>\n",
       "      <td>Change Order</td>\n",
       "      <td>12</td>\n",
       "      <td>PIT1</td>\n",
       "      <td>250.0</td>\n",
       "      <td>250.0</td>\n",
       "      <td>xConnect</td>\n",
       "    </tr>\n",
       "    <tr>\n",
       "      <th>644</th>\n",
       "      <td>DQE Communications</td>\n",
       "      <td>68796</td>\n",
       "      <td>2022-10-13</td>\n",
       "      <td>Samuel Mickler</td>\n",
       "      <td>Copy of DQE - PIT1 - XC to Zayo - 10.13.22</td>\n",
       "      <td>Change Order</td>\n",
       "      <td>12</td>\n",
       "      <td>PIT1</td>\n",
       "      <td>250.0</td>\n",
       "      <td>250.0</td>\n",
       "      <td>xConnect</td>\n",
       "    </tr>\n",
       "    <tr>\n",
       "      <th>1726</th>\n",
       "      <td>Redcard Systems, LLC</td>\n",
       "      <td>68785</td>\n",
       "      <td>2022-10-31</td>\n",
       "      <td>Samuel Mickler</td>\n",
       "      <td>Copy of RedCard - MCI2 - New 5kw Cabinet - 10....</td>\n",
       "      <td>Change Order</td>\n",
       "      <td>12</td>\n",
       "      <td>MCI2</td>\n",
       "      <td>0.0</td>\n",
       "      <td>0.0</td>\n",
       "      <td>Space</td>\n",
       "    </tr>\n",
       "    <tr>\n",
       "      <th>1727</th>\n",
       "      <td>Redcard Systems, LLC</td>\n",
       "      <td>68785</td>\n",
       "      <td>2022-10-31</td>\n",
       "      <td>Samuel Mickler</td>\n",
       "      <td>Copy of RedCard - MCI2 - New 5kw Cabinet - 10....</td>\n",
       "      <td>Change Order</td>\n",
       "      <td>12</td>\n",
       "      <td>MCI2</td>\n",
       "      <td>390.0</td>\n",
       "      <td>390.0</td>\n",
       "      <td>Space</td>\n",
       "    </tr>\n",
       "    <tr>\n",
       "      <th>1728</th>\n",
       "      <td>Redcard Systems, LLC</td>\n",
       "      <td>68785</td>\n",
       "      <td>2022-10-31</td>\n",
       "      <td>Samuel Mickler</td>\n",
       "      <td>Copy of RedCard - MCI2 - New 5kw Cabinet - 10....</td>\n",
       "      <td>Change Order</td>\n",
       "      <td>12</td>\n",
       "      <td>MCI2</td>\n",
       "      <td>0.0</td>\n",
       "      <td>0.0</td>\n",
       "      <td>xConnect</td>\n",
       "    </tr>\n",
       "  </tbody>\n",
       "</table>\n",
       "</div>"
      ],
      "text/plain": [
       "              Organization Order # Order Date        Salesman  \\\n",
       "643     DQE Communications   68796 2022-10-13  Samuel Mickler   \n",
       "644     DQE Communications   68796 2022-10-13  Samuel Mickler   \n",
       "1726  Redcard Systems, LLC   68785 2022-10-31  Samuel Mickler   \n",
       "1727  Redcard Systems, LLC   68785 2022-10-31  Samuel Mickler   \n",
       "1728  Redcard Systems, LLC   68785 2022-10-31  Samuel Mickler   \n",
       "\n",
       "                                          Order Summary          Type  Term  \\\n",
       "643          Copy of DQE - PIT1 - XC to Zayo - 10.13.22  Change Order    12   \n",
       "644          Copy of DQE - PIT1 - XC to Zayo - 10.13.22  Change Order    12   \n",
       "1726  Copy of RedCard - MCI2 - New 5kw Cabinet - 10....  Change Order    12   \n",
       "1727  Copy of RedCard - MCI2 - New 5kw Cabinet - 10....  Change Order    12   \n",
       "1728  Copy of RedCard - MCI2 - New 5kw Cabinet - 10....  Change Order    12   \n",
       "\n",
       "     Datacenter  payout    MRR Service Type  \n",
       "643        PIT1   250.0  250.0     xConnect  \n",
       "644        PIT1   250.0  250.0     xConnect  \n",
       "1726       MCI2     0.0    0.0        Space  \n",
       "1727       MCI2   390.0  390.0        Space  \n",
       "1728       MCI2     0.0    0.0     xConnect  "
      ]
     },
     "execution_count": 33,
     "metadata": {},
     "output_type": "execute_result"
    }
   ],
   "source": [
    "samuel_mickler.head()"
   ]
  },
  {
   "cell_type": "code",
   "execution_count": 34,
   "id": "af71094f-f993-4e8d-b48b-6fa7697d362a",
   "metadata": {},
   "outputs": [],
   "source": [
    "samuel_mickler.drop(samuel_mickler[samuel_mickler.MRR == 0.0].index, inplace=True)"
   ]
  },
  {
   "cell_type": "code",
   "execution_count": 35,
   "id": "c8c658e9-e975-48ec-bfda-069142eced50",
   "metadata": {},
   "outputs": [
    {
     "data": {
      "text/html": [
       "<div>\n",
       "<style scoped>\n",
       "    .dataframe tbody tr th:only-of-type {\n",
       "        vertical-align: middle;\n",
       "    }\n",
       "\n",
       "    .dataframe tbody tr th {\n",
       "        vertical-align: top;\n",
       "    }\n",
       "\n",
       "    .dataframe thead th {\n",
       "        text-align: right;\n",
       "    }\n",
       "</style>\n",
       "<table border=\"1\" class=\"dataframe\">\n",
       "  <thead>\n",
       "    <tr style=\"text-align: right;\">\n",
       "      <th></th>\n",
       "      <th>Organization</th>\n",
       "      <th>Order #</th>\n",
       "      <th>Order Date</th>\n",
       "      <th>Salesman</th>\n",
       "      <th>Order Summary</th>\n",
       "      <th>Type</th>\n",
       "      <th>Term</th>\n",
       "      <th>Datacenter</th>\n",
       "      <th>payout</th>\n",
       "      <th>MRR</th>\n",
       "      <th>Service Type</th>\n",
       "    </tr>\n",
       "  </thead>\n",
       "  <tbody>\n",
       "    <tr>\n",
       "      <th>643</th>\n",
       "      <td>DQE Communications</td>\n",
       "      <td>68796</td>\n",
       "      <td>2022-10-13</td>\n",
       "      <td>Samuel Mickler</td>\n",
       "      <td>Copy of DQE - PIT1 - XC to Zayo - 10.13.22</td>\n",
       "      <td>Change Order</td>\n",
       "      <td>12</td>\n",
       "      <td>PIT1</td>\n",
       "      <td>250.0</td>\n",
       "      <td>250.0</td>\n",
       "      <td>xConnect</td>\n",
       "    </tr>\n",
       "    <tr>\n",
       "      <th>644</th>\n",
       "      <td>DQE Communications</td>\n",
       "      <td>68796</td>\n",
       "      <td>2022-10-13</td>\n",
       "      <td>Samuel Mickler</td>\n",
       "      <td>Copy of DQE - PIT1 - XC to Zayo - 10.13.22</td>\n",
       "      <td>Change Order</td>\n",
       "      <td>12</td>\n",
       "      <td>PIT1</td>\n",
       "      <td>250.0</td>\n",
       "      <td>250.0</td>\n",
       "      <td>xConnect</td>\n",
       "    </tr>\n",
       "    <tr>\n",
       "      <th>1727</th>\n",
       "      <td>Redcard Systems, LLC</td>\n",
       "      <td>68785</td>\n",
       "      <td>2022-10-31</td>\n",
       "      <td>Samuel Mickler</td>\n",
       "      <td>Copy of RedCard - MCI2 - New 5kw Cabinet - 10....</td>\n",
       "      <td>Change Order</td>\n",
       "      <td>12</td>\n",
       "      <td>MCI2</td>\n",
       "      <td>390.0</td>\n",
       "      <td>390.0</td>\n",
       "      <td>Space</td>\n",
       "    </tr>\n",
       "    <tr>\n",
       "      <th>1729</th>\n",
       "      <td>Redcard Systems, LLC</td>\n",
       "      <td>68785</td>\n",
       "      <td>2022-10-31</td>\n",
       "      <td>Samuel Mickler</td>\n",
       "      <td>Copy of RedCard - MCI2 - New 5kw Cabinet - 10....</td>\n",
       "      <td>Change Order</td>\n",
       "      <td>12</td>\n",
       "      <td>MCI2</td>\n",
       "      <td>575.0</td>\n",
       "      <td>575.0</td>\n",
       "      <td>Power</td>\n",
       "    </tr>\n",
       "    <tr>\n",
       "      <th>1731</th>\n",
       "      <td>Redcard Systems, LLC</td>\n",
       "      <td>68785</td>\n",
       "      <td>2022-10-31</td>\n",
       "      <td>Samuel Mickler</td>\n",
       "      <td>Copy of RedCard - MCI2 - New 5kw Cabinet - 10....</td>\n",
       "      <td>Change Order</td>\n",
       "      <td>12</td>\n",
       "      <td>MCI2</td>\n",
       "      <td>285.0</td>\n",
       "      <td>285.0</td>\n",
       "      <td>Power</td>\n",
       "    </tr>\n",
       "  </tbody>\n",
       "</table>\n",
       "</div>"
      ],
      "text/plain": [
       "              Organization Order # Order Date        Salesman  \\\n",
       "643     DQE Communications   68796 2022-10-13  Samuel Mickler   \n",
       "644     DQE Communications   68796 2022-10-13  Samuel Mickler   \n",
       "1727  Redcard Systems, LLC   68785 2022-10-31  Samuel Mickler   \n",
       "1729  Redcard Systems, LLC   68785 2022-10-31  Samuel Mickler   \n",
       "1731  Redcard Systems, LLC   68785 2022-10-31  Samuel Mickler   \n",
       "\n",
       "                                          Order Summary          Type  Term  \\\n",
       "643          Copy of DQE - PIT1 - XC to Zayo - 10.13.22  Change Order    12   \n",
       "644          Copy of DQE - PIT1 - XC to Zayo - 10.13.22  Change Order    12   \n",
       "1727  Copy of RedCard - MCI2 - New 5kw Cabinet - 10....  Change Order    12   \n",
       "1729  Copy of RedCard - MCI2 - New 5kw Cabinet - 10....  Change Order    12   \n",
       "1731  Copy of RedCard - MCI2 - New 5kw Cabinet - 10....  Change Order    12   \n",
       "\n",
       "     Datacenter  payout    MRR Service Type  \n",
       "643        PIT1   250.0  250.0     xConnect  \n",
       "644        PIT1   250.0  250.0     xConnect  \n",
       "1727       MCI2   390.0  390.0        Space  \n",
       "1729       MCI2   575.0  575.0        Power  \n",
       "1731       MCI2   285.0  285.0        Power  "
      ]
     },
     "execution_count": 35,
     "metadata": {},
     "output_type": "execute_result"
    }
   ],
   "source": [
    "samuel_mickler.head(100000000)"
   ]
  },
  {
   "cell_type": "code",
   "execution_count": 36,
   "id": "83df021c-355d-402f-82b4-d986de75c16b",
   "metadata": {},
   "outputs": [],
   "source": [
    "samuel_mickler.loc[samuel_mickler['Datacenter'].isin(['ATL2','ACT1','AUS1','CLE1','DEN1','DEN4','DFW1','DFW2','DFW6','DFW7','EWR2','IAD2','KC2','MEM1','MSP1','LHR1','ORD2','ORD3','PHX1','SEA2','SLC1','SLC2']), 'payout'] *= .75\n",
    "samuel_mickler.loc[samuel_mickler['Datacenter'].isin(['ATL1', 'ATL3', 'BOS1', 'BWI1', 'DEN2', 'DEN3', 'DFW3','DFW4', 'DFW5','EWR1','IAD1','IND1','IND2','LAS1','LAX1','LGA1','LGA2','MCI1','MCI2','MCI3','MIA1','MSP2','MSP3','MSP4','ORD1','ORD4','PHL1','PHX2','PHX3','PIT1','PIT2','SAN1','SAN2','SEA1','SFO1','SLC3','SLC4','SLC5','SNA1','SNA2','PAR1','PAR2','PAR3','MPL1','TLS1']), 'payout'] *= .5\n",
    "samuel_mickler.loc[samuel_mickler['Service Type'].isin(['Managed Services']) & samuel_mickler['Datacenter'].isin(['ATL2','ACT1','AUS1','CLE1','DEN1','DEN4','DFW1','DFW2','DFW6','DFW7','EWR2','IAD2','KC2','MEM1','MSP1','LHR1','ORD2','ORD3','PHX1','SEA2','SLC1','SLC2']), 'payout'] *= .66666667"
   ]
  },
  {
   "cell_type": "code",
   "execution_count": 37,
   "id": "c2d260b3-868c-4941-8a70-dbc2734164fd",
   "metadata": {},
   "outputs": [
    {
     "data": {
      "text/plain": [
       "875.0"
      ]
     },
     "execution_count": 37,
     "metadata": {},
     "output_type": "execute_result"
    }
   ],
   "source": [
    "samuel_mickler['payout'].sum()"
   ]
  },
  {
   "cell_type": "code",
   "execution_count": 38,
   "id": "b104b035-3862-42db-ae80-42f42c939a7c",
   "metadata": {},
   "outputs": [],
   "source": [
    "mick_bookings = samuel_mickler['MRR'].sum()"
   ]
  },
  {
   "cell_type": "code",
   "execution_count": 39,
   "id": "5b8c14a5-eb07-4ab7-8351-18ae92c4c185",
   "metadata": {},
   "outputs": [],
   "source": [
    "mick_pay = samuel_mickler['payout'].sum()"
   ]
  },
  {
   "cell_type": "code",
   "execution_count": 40,
   "id": "919293bc-a5b8-4fbe-a5fe-138c32f7326e",
   "metadata": {},
   "outputs": [],
   "source": [
    "samuel_mickler.loc[111111] = ['Total Bookings:', mick_bookings, '', '' ,'','','','','','','']"
   ]
  },
  {
   "cell_type": "code",
   "execution_count": 41,
   "id": "98cca5ac-462e-49c2-90fb-53e147de7169",
   "metadata": {},
   "outputs": [],
   "source": [
    "samuel_mickler.loc[111112] = ['Total Payout:', mick_pay, '', '' ,'','','','','','','']"
   ]
  },
  {
   "cell_type": "code",
   "execution_count": 42,
   "id": "42269cec-a8a3-4d33-99f4-082b88617f1b",
   "metadata": {},
   "outputs": [],
   "source": [
    "samuel_mickler.to_excel(os.path.join('../Output','Mickler_October_2022.xlsx'), index=False)"
   ]
  },
  {
   "cell_type": "markdown",
   "id": "158122e6-5ad3-46de-909f-20db1e049200",
   "metadata": {},
   "source": [
    "#### End Sam Mickler"
   ]
  },
  {
   "cell_type": "markdown",
   "id": "c241261c-119a-4e08-88c2-02b080cf4592",
   "metadata": {
    "tags": []
   },
   "source": [
    "### Trey Hardeman"
   ]
  },
  {
   "cell_type": "code",
   "execution_count": 43,
   "id": "0405837c-b08c-47c0-8060-794339cebb69",
   "metadata": {},
   "outputs": [],
   "source": [
    "trey_hardeman.loc[trey_hardeman['Datacenter'].isin(['ATL2','ACT1','AUS1','CLE1','DEN1','DEN4','DFW1','DFW2','DFW6','DFW7','EWR2','IAD2','KC2','MEM1','MSP1','LHR1','ORD2','ORD3','PHX1','SEA2','SLC1','SLC2']), 'payout'] *= .75\n",
    "trey_hardeman.loc[trey_hardeman['Datacenter'].isin(['ATL1', 'ATL3', 'BOS1', 'BWI1', 'DEN2', 'DEN3', 'DFW3','DFW4', 'DFW5','EWR1','IAD1','IND1','IND2','LAS1','LAX1','LGA1','LGA2','MCI1','MCI2','MCI3','MIA1','MSP2','MSP3','MSP4','ORD1','ORD4','PHL1','PHX2','PHX3','PIT1','PIT2','SAN1','SAN2','SEA1','SFO1','SLC3','SLC4','SLC5','SNA1','SNA2','PAR1','PAR2','PAR3','MPL1','TLS1']), 'payout'] *= .5\n",
    "trey_hardeman.loc[trey_hardeman['Service Type'].isin(['Managed Services']) & trey_hardeman['Datacenter'].isin(['ATL2','ACT1','AUS1','CLE1','DEN1','DEN4','DFW1','DFW2','DFW6','DFW7','EWR2','IAD2','KC2','MEM1','MSP1','LHR1','ORD2','ORD3','PHX1','SEA2','SLC1','SLC2']), 'payout'] *= .66666667"
   ]
  },
  {
   "cell_type": "code",
   "execution_count": 44,
   "id": "02104643-2987-4f50-a94a-e3a932632e38",
   "metadata": {},
   "outputs": [],
   "source": [
    "trey_hardeman.drop(trey_hardeman[trey_hardeman.MRR == 0.0].index, inplace=True)"
   ]
  },
  {
   "cell_type": "code",
   "execution_count": 45,
   "id": "fb4049b1-e3e4-41fa-8878-eb45819faa00",
   "metadata": {},
   "outputs": [
    {
     "data": {
      "text/plain": [
       "162.04"
      ]
     },
     "execution_count": 45,
     "metadata": {},
     "output_type": "execute_result"
    }
   ],
   "source": [
    "trey_hardeman['payout'].sum()"
   ]
  },
  {
   "cell_type": "code",
   "execution_count": 46,
   "id": "955cd776-a24a-4260-b002-0d626aaba678",
   "metadata": {},
   "outputs": [],
   "source": [
    "hard_bookings = trey_hardeman['MRR'].sum()"
   ]
  },
  {
   "cell_type": "code",
   "execution_count": 47,
   "id": "b5a63d3c-f1c2-4f9e-a621-9279e680f887",
   "metadata": {},
   "outputs": [],
   "source": [
    "hard_pay = trey_hardeman['payout'].sum()"
   ]
  },
  {
   "cell_type": "code",
   "execution_count": 48,
   "id": "307c418b-1725-4e49-afa3-01560483477a",
   "metadata": {},
   "outputs": [
    {
     "data": {
      "text/plain": [
       "224.07999999999998"
      ]
     },
     "execution_count": 48,
     "metadata": {},
     "output_type": "execute_result"
    }
   ],
   "source": [
    "hard_bookings"
   ]
  },
  {
   "cell_type": "code",
   "execution_count": 49,
   "id": "da2e237a-ab2b-4d4f-a574-04b1a3f31a4b",
   "metadata": {},
   "outputs": [],
   "source": [
    "trey_hardeman.loc[111111] = ['Total Bookings:', hard_bookings, '', '' ,'','','','','','','']"
   ]
  },
  {
   "cell_type": "code",
   "execution_count": 50,
   "id": "b745a5c8-359f-4133-a333-991f04a9d74f",
   "metadata": {},
   "outputs": [],
   "source": [
    "trey_hardeman.loc[111112] = ['Total Payout:', hard_pay, '', '' ,'','','','','','','']"
   ]
  },
  {
   "cell_type": "code",
   "execution_count": 51,
   "id": "7a32f93c-fad3-44b1-b3c6-43a29171782c",
   "metadata": {},
   "outputs": [],
   "source": [
    "trey_hardeman.to_excel(os.path.join('../Output','Hardeman_October_2022.xlsx'), index=False)"
   ]
  },
  {
   "cell_type": "markdown",
   "id": "c040c2a2-5b3c-4a69-a08d-f470021179cd",
   "metadata": {},
   "source": [
    "#### End Trey Hardeman"
   ]
  },
  {
   "cell_type": "markdown",
   "id": "4ed41909-1f4a-4da1-aa0d-854a558128f9",
   "metadata": {
    "tags": []
   },
   "source": [
    "### Natalie Farr"
   ]
  },
  {
   "cell_type": "code",
   "execution_count": 52,
   "id": "d7e01848-6430-4a46-bc37-a976aa21e0a6",
   "metadata": {},
   "outputs": [],
   "source": [
    "natalie_farr.loc[natalie_farr['Datacenter'].isin(['ATL2','ACT1','AUS1','CLE1','DEN1','DEN4','DFW1','DFW2','DFW6','DFW7','EWR2','IAD2','KC2','MEM1','MSP1','LHR1','ORD2','ORD3','PHX1','SEA2','SLC1','SLC2']), 'payout'] *= .75\n",
    "natalie_farr.loc[natalie_farr['Datacenter'].isin(['ATL1', 'ATL3', 'BOS1', 'BWI1', 'DEN2', 'DEN3', 'DFW3','DFW4', 'DFW5','EWR1','IAD1','IND1','IND2','LAS1','LAX1','LGA1','LGA2','MCI1','MCI2','MCI3','MIA1','MSP2','MSP3','MSP4','ORD1','ORD4','PHL1','PHX2','PHX3','PIT1','PIT2','SAN1','SAN2','SEA1','SFO1','SLC3','SLC4','SLC5','SNA1','SNA2','PAR1','PAR2','PAR3','MPL1','TLS1']), 'payout'] *= .5\n",
    "natalie_farr.loc[natalie_farr['Service Type'].isin(['Managed Services']) & natalie_farr['Datacenter'].isin(['ATL2','ACT1','AUS1','CLE1','DEN1','DEN4','DFW1','DFW2','DFW6','DFW7','EWR2','IAD2','KC2','MEM1','MSP1','LHR1','ORD2','ORD3','PHX1','SEA2','SLC1','SLC2']), 'payout'] *= .66666667"
   ]
  },
  {
   "cell_type": "code",
   "execution_count": 53,
   "id": "e6f2bb5c-29c4-409f-a634-e91e0dd5e9bf",
   "metadata": {},
   "outputs": [],
   "source": [
    "natalie_farr.drop(natalie_farr[natalie_farr.MRR == 0.0].index, inplace=True)"
   ]
  },
  {
   "cell_type": "code",
   "execution_count": 54,
   "id": "3c8ac35e-49cd-4612-9455-bba2be114550",
   "metadata": {},
   "outputs": [
    {
     "data": {
      "text/plain": [
       "1177.24000455125"
      ]
     },
     "execution_count": 54,
     "metadata": {},
     "output_type": "execute_result"
    }
   ],
   "source": [
    "natalie_farr['payout'].sum()"
   ]
  },
  {
   "cell_type": "code",
   "execution_count": 55,
   "id": "01a7d0a6-3040-4d89-ad8d-0062336c8850",
   "metadata": {},
   "outputs": [],
   "source": [
    "farr_bookings = natalie_farr['MRR'].sum()"
   ]
  },
  {
   "cell_type": "code",
   "execution_count": 56,
   "id": "d4fdf5c4-edfe-4df3-bca7-d41ceca790b0",
   "metadata": {},
   "outputs": [],
   "source": [
    "farr_pay = natalie_farr['payout'].sum()"
   ]
  },
  {
   "cell_type": "code",
   "execution_count": 57,
   "id": "5929dc21-e443-4cc3-b666-24fe4d3f88de",
   "metadata": {},
   "outputs": [
    {
     "data": {
      "text/plain": [
       "2179.48"
      ]
     },
     "execution_count": 57,
     "metadata": {},
     "output_type": "execute_result"
    }
   ],
   "source": [
    "farr_bookings"
   ]
  },
  {
   "cell_type": "code",
   "execution_count": 58,
   "id": "da8062aa-19e8-4539-adfa-ea9c7810d5a7",
   "metadata": {},
   "outputs": [],
   "source": [
    "natalie_farr.loc[111111] = ['Total Bookings:', farr_bookings, '', '' ,'','','','','','','']"
   ]
  },
  {
   "cell_type": "code",
   "execution_count": 59,
   "id": "62a3e21d-fafe-4edb-a4b3-1044420333c8",
   "metadata": {},
   "outputs": [],
   "source": [
    "natalie_farr.loc[111112] = ['Total Payout:', farr_pay, '', '' ,'','','','','','','']"
   ]
  },
  {
   "cell_type": "code",
   "execution_count": 60,
   "id": "3ad39177-96f7-4959-9153-aaca41544348",
   "metadata": {},
   "outputs": [],
   "source": [
    "natalie_farr.to_excel(os.path.join('../Output','Farr_October_2022.xlsx'), index=False)"
   ]
  },
  {
   "cell_type": "markdown",
   "id": "792e921c-a4a7-4ab4-b59a-77f7184f6397",
   "metadata": {},
   "source": [
    "#### End Natalie Farr"
   ]
  },
  {
   "cell_type": "markdown",
   "id": "c51d9af1-b585-4fb8-9a7f-cfb4e7e27797",
   "metadata": {
    "tags": []
   },
   "source": [
    "### Shelby Locklear "
   ]
  },
  {
   "cell_type": "code",
   "execution_count": 61,
   "id": "196a2054-648f-4b61-bf3b-5dd2cf52d5fb",
   "metadata": {},
   "outputs": [],
   "source": [
    "shelby_locklear.loc[shelby_locklear['Datacenter'].isin(['ATL2','ACT1','AUS1','CLE1','DEN1','DEN4','DFW1','DFW2','DFW6','DFW7','EWR2','IAD2','KC2','MEM1','MSP1','LHR1','ORD2','ORD3','PHX1','SEA2','SLC1','SLC2']), 'payout'] *= .75\n",
    "shelby_locklear.loc[shelby_locklear['Datacenter'].isin(['ATL1', 'ATL3', 'BOS1', 'BWI1', 'DEN2', 'DEN3', 'DFW3','DFW4', 'DFW5','EWR1','IAD1','IND1','IND2','LAS1','LAX1','LGA1','LGA2','MCI1','MCI2','MCI3','MIA1','MSP2','MSP3','MSP4','ORD1','ORD4','PHL1','PHX2','PHX3','PIT1','PIT2','SAN1','SAN2','SEA1','SFO1','SLC3','SLC4','SLC5','SNA1','SNA2','PAR1','PAR2','PAR3','MPL1','TLS1']), 'payout'] *= .5\n",
    "shelby_locklear.loc[shelby_locklear['Service Type'].isin(['Managed Services']) & shelby_locklear['Datacenter'].isin(['ATL2','ACT1','AUS1','CLE1','DEN1','DEN4','DFW1','DFW2','DFW6','DFW7','EWR2','IAD2','KC2','MEM1','MSP1','LHR1','ORD2','ORD3','PHX1','SEA2','SLC1','SLC2']), 'payout'] *= .66666667"
   ]
  },
  {
   "cell_type": "code",
   "execution_count": 62,
   "id": "735ee1dc-de2e-456d-b957-6750d2526e8d",
   "metadata": {},
   "outputs": [],
   "source": [
    "shelby_locklear.drop(shelby_locklear[shelby_locklear.MRR == 0.0].index, inplace=True)"
   ]
  },
  {
   "cell_type": "code",
   "execution_count": 63,
   "id": "5b1b998b-c1da-4e06-a851-fbfa9f30018b",
   "metadata": {},
   "outputs": [
    {
     "data": {
      "text/plain": [
       "3390.3849999999993"
      ]
     },
     "execution_count": 63,
     "metadata": {},
     "output_type": "execute_result"
    }
   ],
   "source": [
    "shelby_locklear['payout'].sum()"
   ]
  },
  {
   "cell_type": "code",
   "execution_count": 64,
   "id": "3180a32c-623b-47eb-afb5-b4d6d435cc9a",
   "metadata": {},
   "outputs": [],
   "source": [
    "lock_bookings = shelby_locklear['MRR'].sum()"
   ]
  },
  {
   "cell_type": "code",
   "execution_count": 65,
   "id": "aaa64225-dd6a-4988-9e86-57db16690fdb",
   "metadata": {},
   "outputs": [],
   "source": [
    "lock_pay = shelby_locklear['payout'].sum()"
   ]
  },
  {
   "cell_type": "code",
   "execution_count": 66,
   "id": "6f8762bd-915e-49f6-ac9f-106b42a61c22",
   "metadata": {},
   "outputs": [
    {
     "data": {
      "text/plain": [
       "5321.27"
      ]
     },
     "execution_count": 66,
     "metadata": {},
     "output_type": "execute_result"
    }
   ],
   "source": [
    "lock_bookings"
   ]
  },
  {
   "cell_type": "code",
   "execution_count": 67,
   "id": "b3f2e12d-ad27-4911-b349-fdea2a4cdb09",
   "metadata": {},
   "outputs": [],
   "source": [
    "shelby_locklear.loc[111111] = ['Total Bookings:', lock_bookings, '', '' ,'','','','','','','']"
   ]
  },
  {
   "cell_type": "code",
   "execution_count": 68,
   "id": "4f5dc885-040b-44e5-bd6b-5405b85354e2",
   "metadata": {},
   "outputs": [],
   "source": [
    "shelby_locklear.loc[111112] = ['Total Payout:', lock_pay, '', '' ,'','','','','','','']"
   ]
  },
  {
   "cell_type": "code",
   "execution_count": 69,
   "id": "b274c145-de1b-4cc2-be09-783d457c1fd0",
   "metadata": {},
   "outputs": [],
   "source": [
    "shelby_locklear.to_excel(os.path.join('../Output','Locklear_October_2022.xlsx'), index=False)"
   ]
  },
  {
   "cell_type": "markdown",
   "id": "a3af1f73-788f-474b-8434-7843e7c04048",
   "metadata": {},
   "source": [
    "#### End Shelby Locklear"
   ]
  },
  {
   "cell_type": "markdown",
   "id": "47b6ebd2-8387-4aac-8820-0bf50cecd69e",
   "metadata": {
    "tags": []
   },
   "source": [
    "### Kathy Geiser "
   ]
  },
  {
   "cell_type": "code",
   "execution_count": 70,
   "id": "bb2369f9-63de-4598-87d9-fa0564a50f1e",
   "metadata": {},
   "outputs": [],
   "source": [
    "kathy_geiser.loc[kathy_geiser['Datacenter'].isin(['ATL2','ACT1','AUS1','CLE1','DEN1','DEN4','DFW1','DFW2','DFW6','DFW7','EWR2','IAD2','KC2','MEM1','MSP1','LHR1','ORD2','ORD3','PHX1','SEA2','SLC1','SLC2']), 'payout'] *= .75\n",
    "kathy_geiser.loc[kathy_geiser['Datacenter'].isin(['ATL1', 'ATL3', 'BOS1', 'BWI1', 'DEN2', 'DEN3', 'DFW3','DFW4', 'DFW5','EWR1','IAD1','IND1','IND2','LAS1','LAX1','LGA1','LGA2','MCI1','MCI2','MCI3','MIA1','MSP2','MSP3','MSP4','ORD1','ORD4','PHL1','PHX2','PHX3','PIT1','PIT2','SAN1','SAN2','SEA1','SFO1','SLC3','SLC4','SLC5','SNA1','SNA2','PAR1','PAR2','PAR3','MPL1','TLS1']), 'payout'] *= .5\n",
    "kathy_geiser.loc[kathy_geiser['Service Type'].isin(['Managed Services']) & kathy_geiser['Datacenter'].isin(['ATL2','ACT1','AUS1','CLE1','DEN1','DEN4','DFW1','DFW2','DFW6','DFW7','EWR2','IAD2','KC2','MEM1','MSP1','LHR1','ORD2','ORD3','PHX1','SEA2','SLC1','SLC2']), 'payout'] *= .66666667"
   ]
  },
  {
   "cell_type": "code",
   "execution_count": 71,
   "id": "5c1a7cad-82a3-4d0c-9c2c-7ad471bb7faf",
   "metadata": {},
   "outputs": [],
   "source": [
    "kathy_geiser.drop(kathy_geiser[kathy_geiser.MRR == 0.0].index, inplace=True)"
   ]
  },
  {
   "cell_type": "code",
   "execution_count": 72,
   "id": "dc1c5392-233b-428b-b47e-b5ecf56a6c76",
   "metadata": {},
   "outputs": [
    {
     "data": {
      "text/plain": [
       "4417.295"
      ]
     },
     "execution_count": 72,
     "metadata": {},
     "output_type": "execute_result"
    }
   ],
   "source": [
    "kathy_geiser['payout'].sum()"
   ]
  },
  {
   "cell_type": "code",
   "execution_count": 73,
   "id": "2dc59f56-4a29-4416-b950-e38e9f5d0d0e",
   "metadata": {},
   "outputs": [],
   "source": [
    "kath_bookings = kathy_geiser['MRR'].sum()"
   ]
  },
  {
   "cell_type": "code",
   "execution_count": 74,
   "id": "a2d87e20-5a37-4890-bb7b-db822fe2c896",
   "metadata": {},
   "outputs": [],
   "source": [
    "kath_pay = kathy_geiser['payout'].sum()"
   ]
  },
  {
   "cell_type": "code",
   "execution_count": 75,
   "id": "b5d80577-6f18-46ff-9620-a220ff79b1c4",
   "metadata": {},
   "outputs": [
    {
     "data": {
      "text/plain": [
       "7534.589999999999"
      ]
     },
     "execution_count": 75,
     "metadata": {},
     "output_type": "execute_result"
    }
   ],
   "source": [
    "kath_bookings"
   ]
  },
  {
   "cell_type": "code",
   "execution_count": 76,
   "id": "e6fc22a7-0fd0-4a4d-9ec2-16bb7541a9a0",
   "metadata": {},
   "outputs": [],
   "source": [
    "kathy_geiser.loc[111111] = ['Total Bookings:', kath_bookings, '', '' ,'','','','','','','']"
   ]
  },
  {
   "cell_type": "code",
   "execution_count": 77,
   "id": "2565b46f-5a55-446d-92ab-3562016bc018",
   "metadata": {},
   "outputs": [],
   "source": [
    "kathy_geiser.loc[111112] = ['Total Payout:', kath_pay, '', '' ,'','','','','','','']"
   ]
  },
  {
   "cell_type": "code",
   "execution_count": 78,
   "id": "095cbf46-b6da-4ef8-b213-eb4cec962144",
   "metadata": {},
   "outputs": [],
   "source": [
    "kathy_geiser.to_excel(os.path.join('../Output','Geiser_October_2022.xlsx'), index=False)"
   ]
  },
  {
   "cell_type": "markdown",
   "id": "f6470996-cd0c-48c9-92b5-d417799e7917",
   "metadata": {},
   "source": [
    "#### End Kathy Geiser "
   ]
  },
  {
   "cell_type": "markdown",
   "id": "e4bfb44a-ffaa-472d-b428-74b6baaba6b6",
   "metadata": {
    "tags": []
   },
   "source": [
    "### Stephen Muoio"
   ]
  },
  {
   "cell_type": "code",
   "execution_count": 79,
   "id": "dc97d829-8551-4b36-9333-0ac3dbee4613",
   "metadata": {},
   "outputs": [],
   "source": [
    "stephen_muoio.loc[stephen_muoio['Datacenter'].isin(['ATL2','ACT1','AUS1','CLE1','DEN1','DEN4','DFW1','DFW2','DFW6','DFW7','EWR2','IAD2','KC2','MEM1','MSP1','LHR1','ORD2','ORD3','PHX1','SEA2','SLC1','SLC2']), 'payout'] *= .75\n",
    "stephen_muoio.loc[stephen_muoio['Datacenter'].isin(['ATL1', 'ATL3', 'BOS1', 'BWI1', 'DEN2', 'DEN3', 'DFW3','DFW4', 'DFW5','EWR1','IAD1','IND1','IND2','LAS1','LAX1','LGA1','LGA2','MCI1','MCI2','MCI3','MIA1','MSP2','MSP3','MSP4','ORD1','ORD4','PHL1','PHX2','PHX3','PIT1','PIT2','SAN1','SAN2','SEA1','SFO1','SLC3','SLC4','SLC5','SNA1','SNA2','PAR1','PAR2','PAR3','MPL1','TLS1']), 'payout'] *= .5\n",
    "stephen_muoio.loc[stephen_muoio['Service Type'].isin(['Managed Services']) & stephen_muoio['Datacenter'].isin(['ATL2','ACT1','AUS1','CLE1','DEN1','DEN4','DFW1','DFW2','DFW6','DFW7','EWR2','IAD2','KC2','MEM1','MSP1','LHR1','ORD2','ORD3','PHX1','SEA2','SLC1','SLC2']), 'payout'] *= .66666667"
   ]
  },
  {
   "cell_type": "code",
   "execution_count": 80,
   "id": "a71e32f9-35a0-4220-8c2f-6b5f3acfd02c",
   "metadata": {},
   "outputs": [],
   "source": [
    "stephen_muoio.drop(stephen_muoio[stephen_muoio.MRR == 0.0].index, inplace=True)"
   ]
  },
  {
   "cell_type": "code",
   "execution_count": 81,
   "id": "5fe484ab-dc46-47f4-8d97-3fb703f901a7",
   "metadata": {},
   "outputs": [
    {
     "data": {
      "text/plain": [
       "6874.4800000000005"
      ]
     },
     "execution_count": 81,
     "metadata": {},
     "output_type": "execute_result"
    }
   ],
   "source": [
    "stephen_muoio['payout'].sum()"
   ]
  },
  {
   "cell_type": "code",
   "execution_count": 82,
   "id": "5eddb38f-3e59-4c53-82ef-9d2426f80516",
   "metadata": {},
   "outputs": [],
   "source": [
    "muo_bookings = stephen_muoio['MRR'].sum()"
   ]
  },
  {
   "cell_type": "code",
   "execution_count": 83,
   "id": "332c2db8-e51d-4359-81b4-1f2b3e61b81b",
   "metadata": {},
   "outputs": [],
   "source": [
    "muo_pay = stephen_muoio['payout'].sum()"
   ]
  },
  {
   "cell_type": "code",
   "execution_count": 84,
   "id": "39d17ac1-f3f5-4f35-a4e2-addc61911095",
   "metadata": {},
   "outputs": [
    {
     "data": {
      "text/plain": [
       "10280.599999999999"
      ]
     },
     "execution_count": 84,
     "metadata": {},
     "output_type": "execute_result"
    }
   ],
   "source": [
    "muo_bookings"
   ]
  },
  {
   "cell_type": "code",
   "execution_count": 85,
   "id": "717c8621-44df-4d5f-b2ff-792f7d12bace",
   "metadata": {},
   "outputs": [],
   "source": [
    "stephen_muoio.loc[111111] = ['Total Bookings:', muo_bookings, '', '' ,'','','','','','','']"
   ]
  },
  {
   "cell_type": "code",
   "execution_count": 86,
   "id": "c1910cec-0c8b-449c-b766-d3944058c76a",
   "metadata": {},
   "outputs": [],
   "source": [
    "stephen_muoio.loc[111112] = ['Total Payout:', muo_pay, '', '' ,'','','','','','','']"
   ]
  },
  {
   "cell_type": "code",
   "execution_count": 87,
   "id": "7575c486-6523-4acd-af2f-d90400b6ded0",
   "metadata": {},
   "outputs": [],
   "source": [
    "stephen_muoio.to_excel(os.path.join('../Output','Muoio_October_2022.xlsx'), index=False)"
   ]
  },
  {
   "cell_type": "markdown",
   "id": "cd6a0718-d2a6-4a4a-b029-67ed6ca1761d",
   "metadata": {},
   "source": [
    "#### End Stephen Muoio"
   ]
  },
  {
   "cell_type": "markdown",
   "id": "7fa377a9-9cbe-4bdb-85e5-b7fae57d351d",
   "metadata": {},
   "source": [
    "### Wilson"
   ]
  },
  {
   "cell_type": "code",
   "execution_count": 144,
   "id": "663a69c9-75e0-43a9-a9b3-e5b44d7384a7",
   "metadata": {},
   "outputs": [],
   "source": [
    "horne_bookings = matt_horne['MRR'].sum()"
   ]
  },
  {
   "cell_type": "code",
   "execution_count": 148,
   "id": "e2bf1cc6-c040-4811-93c5-443c858ab53f",
   "metadata": {},
   "outputs": [
    {
     "data": {
      "text/plain": [
       "35189.64"
      ]
     },
     "execution_count": 148,
     "metadata": {},
     "output_type": "execute_result"
    }
   ],
   "source": [
    "wil = mick_bookings + hard_bookings + farr_bookings + lock_bookings + kath_bookings + muo_bookings + horne_bookings\n",
    "wil"
   ]
  },
  {
   "cell_type": "markdown",
   "id": "8511d103-d9d9-45aa-a18a-a456f0c29a88",
   "metadata": {
    "tags": []
   },
   "source": [
    "## AMW - Peccoralo"
   ]
  },
  {
   "cell_type": "markdown",
   "id": "641819a6-8672-4618-8239-7dfb2610ba82",
   "metadata": {
    "tags": []
   },
   "source": [
    "### Olidane Hudson "
   ]
  },
  {
   "cell_type": "code",
   "execution_count": 88,
   "id": "277d4135-8172-42c0-aa04-b6496ab6eb01",
   "metadata": {},
   "outputs": [],
   "source": [
    "odaine_hudson.loc[odaine_hudson['Datacenter'].isin(['ATL2','ACT1','AUS1','CLE1','DEN1','DEN4','DFW1','DFW2','DFW6','DFW7','EWR2','IAD2','KC2','MEM1','MSP1','LHR1','ORD2','ORD3','PHX1','SEA2','SLC1','SLC2']), 'payout'] *= .75\n",
    "odaine_hudson.loc[odaine_hudson['Datacenter'].isin(['ATL1', 'ATL3', 'BOS1', 'BWI1', 'DEN2', 'DEN3', 'DFW3','DFW4', 'DFW5','EWR1','IAD1','IND1','IND2','LAS1','LAX1','LGA1','LGA2','MCI1','MCI2','MCI3','MIA1','MSP2','MSP3','MSP4','ORD1','ORD4','PHL1','PHX2','PHX3','PIT1','PIT2','SAN1','SAN2','SEA1','SFO1','SLC3','SLC4','SLC5','SNA1','SNA2','PAR1','PAR2','PAR3','MPL1','TLS1']), 'payout'] *= .5\n",
    "odaine_hudson.loc[odaine_hudson['Service Type'].isin(['Managed Services']) & odaine_hudson['Datacenter'].isin(['ATL2','ACT1','AUS1','CLE1','DEN1','DEN4','DFW1','DFW2','DFW6','DFW7','EWR2','IAD2','KC2','MEM1','MSP1','LHR1','ORD2','ORD3','PHX1','SEA2','SLC1','SLC2']), 'payout'] *= .66666667"
   ]
  },
  {
   "cell_type": "code",
   "execution_count": 89,
   "id": "850e1242-2baa-4d0f-bb82-ba2b3ac2a6cc",
   "metadata": {},
   "outputs": [],
   "source": [
    "odaine_hudson.drop(odaine_hudson[odaine_hudson.MRR == 0.0].index, inplace=True)"
   ]
  },
  {
   "cell_type": "code",
   "execution_count": 90,
   "id": "1ffef211-d925-4128-8598-2cbd105f06eb",
   "metadata": {},
   "outputs": [
    {
     "data": {
      "text/plain": [
       "4009.5"
      ]
     },
     "execution_count": 90,
     "metadata": {},
     "output_type": "execute_result"
    }
   ],
   "source": [
    "odaine_hudson['payout'].sum()"
   ]
  },
  {
   "cell_type": "code",
   "execution_count": 91,
   "id": "bbda7040-2313-4751-bc60-c27e4f280be0",
   "metadata": {},
   "outputs": [],
   "source": [
    "hud_bookings = odaine_hudson['MRR'].sum()"
   ]
  },
  {
   "cell_type": "code",
   "execution_count": 92,
   "id": "c5bd0634-8160-481f-921c-401be3d1a2e1",
   "metadata": {},
   "outputs": [],
   "source": [
    "hud_pay = odaine_hudson['payout'].sum()"
   ]
  },
  {
   "cell_type": "code",
   "execution_count": 93,
   "id": "9120e8cd-305f-47a8-beef-1d7a1a928707",
   "metadata": {},
   "outputs": [],
   "source": [
    "odaine_hudson.loc[111111] = ['Total Bookings:', hud_bookings, '', '' ,'','','','','','','']"
   ]
  },
  {
   "cell_type": "code",
   "execution_count": 94,
   "id": "9e52958e-6945-452a-9c9d-5be850d9953a",
   "metadata": {},
   "outputs": [],
   "source": [
    "odaine_hudson.loc[111112] = ['Total Payout:', hud_pay, '', '' ,'','','','','','','']"
   ]
  },
  {
   "cell_type": "code",
   "execution_count": 95,
   "id": "e0852af8-dd7b-419b-aa53-160b8ad3a1b4",
   "metadata": {},
   "outputs": [
    {
     "data": {
      "text/html": [
       "<div>\n",
       "<style scoped>\n",
       "    .dataframe tbody tr th:only-of-type {\n",
       "        vertical-align: middle;\n",
       "    }\n",
       "\n",
       "    .dataframe tbody tr th {\n",
       "        vertical-align: top;\n",
       "    }\n",
       "\n",
       "    .dataframe thead th {\n",
       "        text-align: right;\n",
       "    }\n",
       "</style>\n",
       "<table border=\"1\" class=\"dataframe\">\n",
       "  <thead>\n",
       "    <tr style=\"text-align: right;\">\n",
       "      <th></th>\n",
       "      <th>Organization</th>\n",
       "      <th>Order #</th>\n",
       "      <th>Order Date</th>\n",
       "      <th>Salesman</th>\n",
       "      <th>Order Summary</th>\n",
       "      <th>Type</th>\n",
       "      <th>Term</th>\n",
       "      <th>Datacenter</th>\n",
       "      <th>payout</th>\n",
       "      <th>MRR</th>\n",
       "      <th>Service Type</th>\n",
       "    </tr>\n",
       "  </thead>\n",
       "  <tbody>\n",
       "    <tr>\n",
       "      <th>111</th>\n",
       "      <td>Allstream Inc. - BAN DATABANKALLSTREAM</td>\n",
       "      <td>68548</td>\n",
       "      <td>2022-10-11 00:00:00</td>\n",
       "      <td>Odaine Hudson</td>\n",
       "      <td>Allstream/Cross Connection/MSP2/10102022</td>\n",
       "      <td>New</td>\n",
       "      <td>12</td>\n",
       "      <td>MSP2</td>\n",
       "      <td>100.0</td>\n",
       "      <td>200.0</td>\n",
       "      <td>xConnect</td>\n",
       "    </tr>\n",
       "    <tr>\n",
       "      <th>414</th>\n",
       "      <td>Boldend</td>\n",
       "      <td>69372</td>\n",
       "      <td>2022-10-24 00:00:00</td>\n",
       "      <td>Odaine Hudson</td>\n",
       "      <td>Bolden/DIA/SNA1/09062022 [v2]</td>\n",
       "      <td>New</td>\n",
       "      <td>32</td>\n",
       "      <td>SNA1</td>\n",
       "      <td>645.0</td>\n",
       "      <td>1290.0</td>\n",
       "      <td>Internet</td>\n",
       "    </tr>\n",
       "    <tr>\n",
       "      <th>416</th>\n",
       "      <td>Boldend</td>\n",
       "      <td>69372</td>\n",
       "      <td>2022-10-24 00:00:00</td>\n",
       "      <td>Odaine Hudson</td>\n",
       "      <td>Bolden/DIA/SNA1/09062022 [v2]</td>\n",
       "      <td>New</td>\n",
       "      <td>32</td>\n",
       "      <td>SNA1</td>\n",
       "      <td>14.5</td>\n",
       "      <td>29.0</td>\n",
       "      <td>Internet</td>\n",
       "    </tr>\n",
       "    <tr>\n",
       "      <th>1024</th>\n",
       "      <td>Magnum Insurance Agency Co, Inc</td>\n",
       "      <td>68401</td>\n",
       "      <td>2022-10-21 00:00:00</td>\n",
       "      <td>Odaine Hudson</td>\n",
       "      <td>Magnum Insurance/Cross Connection/ORD4/10062022</td>\n",
       "      <td>New</td>\n",
       "      <td>14</td>\n",
       "      <td>ORD4</td>\n",
       "      <td>100.0</td>\n",
       "      <td>200.0</td>\n",
       "      <td>xConnect</td>\n",
       "    </tr>\n",
       "    <tr>\n",
       "      <th>2070</th>\n",
       "      <td>Stats</td>\n",
       "      <td>68850</td>\n",
       "      <td>2022-10-17 00:00:00</td>\n",
       "      <td>Odaine Hudson</td>\n",
       "      <td>Stats/Renewal/ORD2/07062022 [v2]</td>\n",
       "      <td>Renewal</td>\n",
       "      <td>12</td>\n",
       "      <td>ORD2</td>\n",
       "      <td>2529.75</td>\n",
       "      <td>3373.0</td>\n",
       "      <td>Power</td>\n",
       "    </tr>\n",
       "    <tr>\n",
       "      <th>2105</th>\n",
       "      <td>Stats</td>\n",
       "      <td>68850</td>\n",
       "      <td>2022-10-17 00:00:00</td>\n",
       "      <td>Odaine Hudson</td>\n",
       "      <td>Stats/Renewal/ORD2/07062022 [v2]</td>\n",
       "      <td>Renewal</td>\n",
       "      <td>12</td>\n",
       "      <td>ORD2</td>\n",
       "      <td>-9900.0</td>\n",
       "      <td>-13200.0</td>\n",
       "      <td>Space</td>\n",
       "    </tr>\n",
       "    <tr>\n",
       "      <th>2107</th>\n",
       "      <td>Stats</td>\n",
       "      <td>68850</td>\n",
       "      <td>2022-10-17 00:00:00</td>\n",
       "      <td>Odaine Hudson</td>\n",
       "      <td>Stats/Renewal/ORD2/07062022 [v2]</td>\n",
       "      <td>Renewal</td>\n",
       "      <td>12</td>\n",
       "      <td>ORD2</td>\n",
       "      <td>-1686.0</td>\n",
       "      <td>-2248.0</td>\n",
       "      <td>Power</td>\n",
       "    </tr>\n",
       "    <tr>\n",
       "      <th>2117</th>\n",
       "      <td>Stats</td>\n",
       "      <td>68850</td>\n",
       "      <td>2022-10-17 00:00:00</td>\n",
       "      <td>Odaine Hudson</td>\n",
       "      <td>Stats/Renewal/ORD2/07062022 [v2]</td>\n",
       "      <td>Renewal</td>\n",
       "      <td>12</td>\n",
       "      <td>ORD2</td>\n",
       "      <td>-225.0</td>\n",
       "      <td>-300.0</td>\n",
       "      <td>xConnect</td>\n",
       "    </tr>\n",
       "    <tr>\n",
       "      <th>2120</th>\n",
       "      <td>Stats</td>\n",
       "      <td>68850</td>\n",
       "      <td>2022-10-17 00:00:00</td>\n",
       "      <td>Odaine Hudson</td>\n",
       "      <td>Stats/Renewal/ORD2/07062022 [v2]</td>\n",
       "      <td>Renewal</td>\n",
       "      <td>12</td>\n",
       "      <td>ORD2</td>\n",
       "      <td>8625.0</td>\n",
       "      <td>11500.0</td>\n",
       "      <td>Space</td>\n",
       "    </tr>\n",
       "    <tr>\n",
       "      <th>2121</th>\n",
       "      <td>Stats</td>\n",
       "      <td>68850</td>\n",
       "      <td>2022-10-17 00:00:00</td>\n",
       "      <td>Odaine Hudson</td>\n",
       "      <td>Stats/Renewal/ORD2/07062022 [v2]</td>\n",
       "      <td>Renewal</td>\n",
       "      <td>12</td>\n",
       "      <td>ORD2</td>\n",
       "      <td>3750.0</td>\n",
       "      <td>5000.0</td>\n",
       "      <td>Space</td>\n",
       "    </tr>\n",
       "    <tr>\n",
       "      <th>2165</th>\n",
       "      <td>Stats</td>\n",
       "      <td>68850</td>\n",
       "      <td>2022-10-17 00:00:00</td>\n",
       "      <td>Odaine Hudson</td>\n",
       "      <td>Stats/Renewal/ORD2/07062022 [v2]</td>\n",
       "      <td>Renewal</td>\n",
       "      <td>12</td>\n",
       "      <td>ORD2</td>\n",
       "      <td>56.25</td>\n",
       "      <td>75.0</td>\n",
       "      <td>xConnect</td>\n",
       "    </tr>\n",
       "    <tr>\n",
       "      <th>111111</th>\n",
       "      <td>Total Bookings:</td>\n",
       "      <td>5919.0</td>\n",
       "      <td></td>\n",
       "      <td></td>\n",
       "      <td></td>\n",
       "      <td></td>\n",
       "      <td></td>\n",
       "      <td></td>\n",
       "      <td></td>\n",
       "      <td></td>\n",
       "      <td></td>\n",
       "    </tr>\n",
       "    <tr>\n",
       "      <th>111112</th>\n",
       "      <td>Total Payout:</td>\n",
       "      <td>4009.5</td>\n",
       "      <td></td>\n",
       "      <td></td>\n",
       "      <td></td>\n",
       "      <td></td>\n",
       "      <td></td>\n",
       "      <td></td>\n",
       "      <td></td>\n",
       "      <td></td>\n",
       "      <td></td>\n",
       "    </tr>\n",
       "  </tbody>\n",
       "</table>\n",
       "</div>"
      ],
      "text/plain": [
       "                                  Organization Order #           Order Date  \\\n",
       "111     Allstream Inc. - BAN DATABANKALLSTREAM   68548  2022-10-11 00:00:00   \n",
       "414                                    Boldend   69372  2022-10-24 00:00:00   \n",
       "416                                    Boldend   69372  2022-10-24 00:00:00   \n",
       "1024           Magnum Insurance Agency Co, Inc   68401  2022-10-21 00:00:00   \n",
       "2070                                     Stats   68850  2022-10-17 00:00:00   \n",
       "2105                                     Stats   68850  2022-10-17 00:00:00   \n",
       "2107                                     Stats   68850  2022-10-17 00:00:00   \n",
       "2117                                     Stats   68850  2022-10-17 00:00:00   \n",
       "2120                                     Stats   68850  2022-10-17 00:00:00   \n",
       "2121                                     Stats   68850  2022-10-17 00:00:00   \n",
       "2165                                     Stats   68850  2022-10-17 00:00:00   \n",
       "111111                         Total Bookings:  5919.0                        \n",
       "111112                           Total Payout:  4009.5                        \n",
       "\n",
       "             Salesman                                    Order Summary  \\\n",
       "111     Odaine Hudson         Allstream/Cross Connection/MSP2/10102022   \n",
       "414     Odaine Hudson                    Bolden/DIA/SNA1/09062022 [v2]   \n",
       "416     Odaine Hudson                    Bolden/DIA/SNA1/09062022 [v2]   \n",
       "1024    Odaine Hudson  Magnum Insurance/Cross Connection/ORD4/10062022   \n",
       "2070    Odaine Hudson                 Stats/Renewal/ORD2/07062022 [v2]   \n",
       "2105    Odaine Hudson                 Stats/Renewal/ORD2/07062022 [v2]   \n",
       "2107    Odaine Hudson                 Stats/Renewal/ORD2/07062022 [v2]   \n",
       "2117    Odaine Hudson                 Stats/Renewal/ORD2/07062022 [v2]   \n",
       "2120    Odaine Hudson                 Stats/Renewal/ORD2/07062022 [v2]   \n",
       "2121    Odaine Hudson                 Stats/Renewal/ORD2/07062022 [v2]   \n",
       "2165    Odaine Hudson                 Stats/Renewal/ORD2/07062022 [v2]   \n",
       "111111                                                                   \n",
       "111112                                                                   \n",
       "\n",
       "           Type Term Datacenter   payout      MRR Service Type  \n",
       "111         New   12       MSP2    100.0    200.0     xConnect  \n",
       "414         New   32       SNA1    645.0   1290.0     Internet  \n",
       "416         New   32       SNA1     14.5     29.0     Internet  \n",
       "1024        New   14       ORD4    100.0    200.0     xConnect  \n",
       "2070    Renewal   12       ORD2  2529.75   3373.0        Power  \n",
       "2105    Renewal   12       ORD2  -9900.0 -13200.0        Space  \n",
       "2107    Renewal   12       ORD2  -1686.0  -2248.0        Power  \n",
       "2117    Renewal   12       ORD2   -225.0   -300.0     xConnect  \n",
       "2120    Renewal   12       ORD2   8625.0  11500.0        Space  \n",
       "2121    Renewal   12       ORD2   3750.0   5000.0        Space  \n",
       "2165    Renewal   12       ORD2    56.25     75.0     xConnect  \n",
       "111111                                                          \n",
       "111112                                                          "
      ]
     },
     "execution_count": 95,
     "metadata": {},
     "output_type": "execute_result"
    }
   ],
   "source": [
    "odaine_hudson"
   ]
  },
  {
   "cell_type": "code",
   "execution_count": 96,
   "id": "9bcbb9f0-c9f1-4893-8bea-0e49de3684d6",
   "metadata": {},
   "outputs": [],
   "source": [
    "odaine_hudson.to_excel(os.path.join('../Output','Hudson_October_2022.xlsx'), index=False)"
   ]
  },
  {
   "cell_type": "markdown",
   "id": "ee8ce3aa-ec8a-42ab-93f5-7fbf8e15ef20",
   "metadata": {},
   "source": [
    "#### End Odaine Hudson"
   ]
  },
  {
   "cell_type": "markdown",
   "id": "5f538532-a696-4ea8-aeeb-857b0203a310",
   "metadata": {
    "tags": []
   },
   "source": [
    "### Andrew Ramirez"
   ]
  },
  {
   "cell_type": "code",
   "execution_count": 97,
   "id": "bfa57725-35d1-4909-a560-80bfee924469",
   "metadata": {},
   "outputs": [],
   "source": [
    "andrew_ramirez.loc[andrew_ramirez['Datacenter'].isin(['ATL2','ACT1','AUS1','CLE1','DEN1','DEN4','DFW1','DFW2','DFW6','DFW7','EWR2','IAD2','KC2','MEM1','MSP1','LHR1','ORD2','ORD3','PHX1','SEA2','SLC1','SLC2']), 'payout'] *= .75\n",
    "andrew_ramirez.loc[andrew_ramirez['Datacenter'].isin(['ATL1', 'ATL3', 'BOS1', 'BWI1', 'DEN2', 'DEN3', 'DFW3','DFW4', 'DFW5','EWR1','IAD1','IND1','IND2','LAS1','LAX1','LGA1','LGA2','MCI1','MCI2','MCI3','MIA1','MSP2','MSP3','MSP4','ORD1','ORD4','PHL1','PHX2','PHX3','PIT1','PIT2','SAN1','SAN2','SEA1','SFO1','SLC3','SLC4','SLC5','SNA1','SNA2','PAR1','PAR2','PAR3','MPL1','TLS1']), 'payout'] *= .5\n",
    "andrew_ramirez.loc[andrew_ramirez['Service Type'].isin(['Managed Services']) & andrew_ramirez['Datacenter'].isin(['ATL2','ACT1','AUS1','CLE1','DEN1','DEN4','DFW1','DFW2','DFW6','DFW7','EWR2','IAD2','KC2','MEM1','MSP1','LHR1','ORD2','ORD3','PHX1','SEA2','SLC1','SLC2']), 'payout'] *= .66666667"
   ]
  },
  {
   "cell_type": "code",
   "execution_count": 98,
   "id": "bf804526-2264-4b8a-a240-41945b230d29",
   "metadata": {},
   "outputs": [],
   "source": [
    "andrew_ramirez.drop(andrew_ramirez[andrew_ramirez.MRR == 0.0].index, inplace=True)"
   ]
  },
  {
   "cell_type": "code",
   "execution_count": 99,
   "id": "91970645-5838-4382-abf8-c36676e5b0cb",
   "metadata": {},
   "outputs": [
    {
     "data": {
      "text/plain": [
       "10917.075"
      ]
     },
     "execution_count": 99,
     "metadata": {},
     "output_type": "execute_result"
    }
   ],
   "source": [
    "andrew_ramirez['payout'].sum()"
   ]
  },
  {
   "cell_type": "code",
   "execution_count": 100,
   "id": "ec93f864-37d3-40e9-9fe7-646cb3565dbd",
   "metadata": {},
   "outputs": [],
   "source": [
    "ram_bookings = andrew_ramirez['MRR'].sum()"
   ]
  },
  {
   "cell_type": "code",
   "execution_count": 101,
   "id": "9460ea15-c9b5-4992-a1c3-569ed884552b",
   "metadata": {},
   "outputs": [],
   "source": [
    "ram_pay = andrew_ramirez['payout'].sum()"
   ]
  },
  {
   "cell_type": "code",
   "execution_count": 102,
   "id": "630f6e23-e0bf-447d-bb9e-23028fde8bda",
   "metadata": {},
   "outputs": [
    {
     "data": {
      "text/html": [
       "<div>\n",
       "<style scoped>\n",
       "    .dataframe tbody tr th:only-of-type {\n",
       "        vertical-align: middle;\n",
       "    }\n",
       "\n",
       "    .dataframe tbody tr th {\n",
       "        vertical-align: top;\n",
       "    }\n",
       "\n",
       "    .dataframe thead th {\n",
       "        text-align: right;\n",
       "    }\n",
       "</style>\n",
       "<table border=\"1\" class=\"dataframe\">\n",
       "  <thead>\n",
       "    <tr style=\"text-align: right;\">\n",
       "      <th></th>\n",
       "      <th>Organization</th>\n",
       "      <th>Order #</th>\n",
       "      <th>Order Date</th>\n",
       "      <th>Salesman</th>\n",
       "      <th>Order Summary</th>\n",
       "      <th>Type</th>\n",
       "      <th>Term</th>\n",
       "      <th>Datacenter</th>\n",
       "      <th>payout</th>\n",
       "      <th>MRR</th>\n",
       "      <th>Service Type</th>\n",
       "    </tr>\n",
       "  </thead>\n",
       "  <tbody>\n",
       "    <tr>\n",
       "      <th>149</th>\n",
       "      <td>Axcient</td>\n",
       "      <td>66827</td>\n",
       "      <td>2022-10-25</td>\n",
       "      <td>Andrew Ramirez</td>\n",
       "      <td>Axcient/Renewal/ATL2/04082022</td>\n",
       "      <td>Renewal</td>\n",
       "      <td>38</td>\n",
       "      <td>ATL2</td>\n",
       "      <td>37819.5000</td>\n",
       "      <td>50426.00</td>\n",
       "      <td>Space</td>\n",
       "    </tr>\n",
       "    <tr>\n",
       "      <th>254</th>\n",
       "      <td>Axcient</td>\n",
       "      <td>66827</td>\n",
       "      <td>2022-10-25</td>\n",
       "      <td>Andrew Ramirez</td>\n",
       "      <td>Axcient/Renewal/ATL2/04082022</td>\n",
       "      <td>Renewal</td>\n",
       "      <td>38</td>\n",
       "      <td>ATL2</td>\n",
       "      <td>-17737.5000</td>\n",
       "      <td>-23650.00</td>\n",
       "      <td>Space</td>\n",
       "    </tr>\n",
       "    <tr>\n",
       "      <th>309</th>\n",
       "      <td>Axcient</td>\n",
       "      <td>66827</td>\n",
       "      <td>2022-10-25</td>\n",
       "      <td>Andrew Ramirez</td>\n",
       "      <td>Axcient/Renewal/ATL2/04082022</td>\n",
       "      <td>Renewal</td>\n",
       "      <td>38</td>\n",
       "      <td>ATL2</td>\n",
       "      <td>-12093.7500</td>\n",
       "      <td>-16125.00</td>\n",
       "      <td>Space</td>\n",
       "    </tr>\n",
       "    <tr>\n",
       "      <th>332</th>\n",
       "      <td>Axess Americas Inc</td>\n",
       "      <td>65093</td>\n",
       "      <td>2022-10-18</td>\n",
       "      <td>Andrew Ramirez</td>\n",
       "      <td>Axess Americas - Cab Upgrade - SLC2 - 08052022</td>\n",
       "      <td>Change Order</td>\n",
       "      <td>23</td>\n",
       "      <td>SLC2</td>\n",
       "      <td>-163.9125</td>\n",
       "      <td>-218.55</td>\n",
       "      <td>Space</td>\n",
       "    </tr>\n",
       "    <tr>\n",
       "      <th>334</th>\n",
       "      <td>Axess Americas Inc</td>\n",
       "      <td>65093</td>\n",
       "      <td>2022-10-18</td>\n",
       "      <td>Andrew Ramirez</td>\n",
       "      <td>Axess Americas - Cab Upgrade - SLC2 - 08052022</td>\n",
       "      <td>Change Order</td>\n",
       "      <td>23</td>\n",
       "      <td>SLC2</td>\n",
       "      <td>-245.8650</td>\n",
       "      <td>-327.82</td>\n",
       "      <td>Power</td>\n",
       "    </tr>\n",
       "    <tr>\n",
       "      <th>335</th>\n",
       "      <td>Axess Americas Inc</td>\n",
       "      <td>65093</td>\n",
       "      <td>2022-10-18</td>\n",
       "      <td>Andrew Ramirez</td>\n",
       "      <td>Axess Americas - Cab Upgrade - SLC2 - 08052022</td>\n",
       "      <td>Change Order</td>\n",
       "      <td>23</td>\n",
       "      <td>SLC2</td>\n",
       "      <td>-122.9325</td>\n",
       "      <td>-163.91</td>\n",
       "      <td>Power</td>\n",
       "    </tr>\n",
       "    <tr>\n",
       "      <th>337</th>\n",
       "      <td>Axess Americas Inc</td>\n",
       "      <td>65093</td>\n",
       "      <td>2022-10-18</td>\n",
       "      <td>Andrew Ramirez</td>\n",
       "      <td>Axess Americas - Cab Upgrade - SLC2 - 08052022</td>\n",
       "      <td>Change Order</td>\n",
       "      <td>23</td>\n",
       "      <td>SLC2</td>\n",
       "      <td>255.0000</td>\n",
       "      <td>340.00</td>\n",
       "      <td>Space</td>\n",
       "    </tr>\n",
       "    <tr>\n",
       "      <th>339</th>\n",
       "      <td>Axess Americas Inc</td>\n",
       "      <td>65093</td>\n",
       "      <td>2022-10-18</td>\n",
       "      <td>Andrew Ramirez</td>\n",
       "      <td>Axess Americas - Cab Upgrade - SLC2 - 08052022</td>\n",
       "      <td>Change Order</td>\n",
       "      <td>23</td>\n",
       "      <td>SLC2</td>\n",
       "      <td>431.2500</td>\n",
       "      <td>575.00</td>\n",
       "      <td>Power</td>\n",
       "    </tr>\n",
       "    <tr>\n",
       "      <th>340</th>\n",
       "      <td>Axess Americas Inc</td>\n",
       "      <td>65093</td>\n",
       "      <td>2022-10-18</td>\n",
       "      <td>Andrew Ramirez</td>\n",
       "      <td>Axess Americas - Cab Upgrade - SLC2 - 08052022</td>\n",
       "      <td>Change Order</td>\n",
       "      <td>23</td>\n",
       "      <td>SLC2</td>\n",
       "      <td>213.7500</td>\n",
       "      <td>285.00</td>\n",
       "      <td>Power</td>\n",
       "    </tr>\n",
       "    <tr>\n",
       "      <th>426</th>\n",
       "      <td>Bulk Loads Now, LLC</td>\n",
       "      <td>68009</td>\n",
       "      <td>2022-10-14</td>\n",
       "      <td>Andrew Ramirez</td>\n",
       "      <td>Bulk Loads - DRaaS - MCI2 - 09292022</td>\n",
       "      <td>New</td>\n",
       "      <td>24</td>\n",
       "      <td>MCI2</td>\n",
       "      <td>12.7500</td>\n",
       "      <td>25.50</td>\n",
       "      <td>Managed Services</td>\n",
       "    </tr>\n",
       "    <tr>\n",
       "      <th>427</th>\n",
       "      <td>Bulk Loads Now, LLC</td>\n",
       "      <td>68009</td>\n",
       "      <td>2022-10-14</td>\n",
       "      <td>Andrew Ramirez</td>\n",
       "      <td>Bulk Loads - DRaaS - MCI2 - 09292022</td>\n",
       "      <td>New</td>\n",
       "      <td>24</td>\n",
       "      <td>MCI2</td>\n",
       "      <td>40.8000</td>\n",
       "      <td>81.60</td>\n",
       "      <td>Managed Services</td>\n",
       "    </tr>\n",
       "    <tr>\n",
       "      <th>428</th>\n",
       "      <td>Bulk Loads Now, LLC</td>\n",
       "      <td>68009</td>\n",
       "      <td>2022-10-14</td>\n",
       "      <td>Andrew Ramirez</td>\n",
       "      <td>Bulk Loads - DRaaS - MCI2 - 09292022</td>\n",
       "      <td>New</td>\n",
       "      <td>24</td>\n",
       "      <td>MCI2</td>\n",
       "      <td>43.5200</td>\n",
       "      <td>87.04</td>\n",
       "      <td>Managed Services</td>\n",
       "    </tr>\n",
       "    <tr>\n",
       "      <th>431</th>\n",
       "      <td>Bulk Loads Now, LLC</td>\n",
       "      <td>68009</td>\n",
       "      <td>2022-10-14</td>\n",
       "      <td>Andrew Ramirez</td>\n",
       "      <td>Bulk Loads - DRaaS - MCI2 - 09292022</td>\n",
       "      <td>New</td>\n",
       "      <td>24</td>\n",
       "      <td>MCI2</td>\n",
       "      <td>78.0000</td>\n",
       "      <td>156.00</td>\n",
       "      <td>Managed Services</td>\n",
       "    </tr>\n",
       "    <tr>\n",
       "      <th>432</th>\n",
       "      <td>Bulk Loads Now, LLC</td>\n",
       "      <td>68009</td>\n",
       "      <td>2022-10-14</td>\n",
       "      <td>Andrew Ramirez</td>\n",
       "      <td>Bulk Loads - DRaaS - MCI2 - 09292022</td>\n",
       "      <td>New</td>\n",
       "      <td>24</td>\n",
       "      <td>MCI2</td>\n",
       "      <td>106.2500</td>\n",
       "      <td>212.50</td>\n",
       "      <td>Managed Services</td>\n",
       "    </tr>\n",
       "    <tr>\n",
       "      <th>435</th>\n",
       "      <td>Bulk Loads Now, LLC</td>\n",
       "      <td>68009</td>\n",
       "      <td>2022-10-14</td>\n",
       "      <td>Andrew Ramirez</td>\n",
       "      <td>Bulk Loads - DRaaS - MCI2 - 09292022</td>\n",
       "      <td>New</td>\n",
       "      <td>24</td>\n",
       "      <td>MCI2</td>\n",
       "      <td>10.2000</td>\n",
       "      <td>20.40</td>\n",
       "      <td>Managed Services</td>\n",
       "    </tr>\n",
       "    <tr>\n",
       "      <th>436</th>\n",
       "      <td>Bulk Loads Now, LLC</td>\n",
       "      <td>68009</td>\n",
       "      <td>2022-10-14</td>\n",
       "      <td>Andrew Ramirez</td>\n",
       "      <td>Bulk Loads - DRaaS - MCI2 - 09292022</td>\n",
       "      <td>New</td>\n",
       "      <td>24</td>\n",
       "      <td>MCI2</td>\n",
       "      <td>6.3750</td>\n",
       "      <td>12.75</td>\n",
       "      <td>Managed Services</td>\n",
       "    </tr>\n",
       "    <tr>\n",
       "      <th>437</th>\n",
       "      <td>Bulk Loads Now, LLC</td>\n",
       "      <td>68009</td>\n",
       "      <td>2022-10-14</td>\n",
       "      <td>Andrew Ramirez</td>\n",
       "      <td>Bulk Loads - DRaaS - MCI2 - 09292022</td>\n",
       "      <td>New</td>\n",
       "      <td>24</td>\n",
       "      <td>MCI2</td>\n",
       "      <td>4.2500</td>\n",
       "      <td>8.50</td>\n",
       "      <td>Managed Services</td>\n",
       "    </tr>\n",
       "    <tr>\n",
       "      <th>440</th>\n",
       "      <td>Bulk Loads Now, LLC</td>\n",
       "      <td>68009</td>\n",
       "      <td>2022-10-14</td>\n",
       "      <td>Andrew Ramirez</td>\n",
       "      <td>Bulk Loads - DRaaS - MCI2 - 09292022</td>\n",
       "      <td>New</td>\n",
       "      <td>24</td>\n",
       "      <td>MCI2</td>\n",
       "      <td>42.0750</td>\n",
       "      <td>84.15</td>\n",
       "      <td>Managed Services</td>\n",
       "    </tr>\n",
       "    <tr>\n",
       "      <th>442</th>\n",
       "      <td>Bulk Loads Now, LLC</td>\n",
       "      <td>68009</td>\n",
       "      <td>2022-10-14</td>\n",
       "      <td>Andrew Ramirez</td>\n",
       "      <td>Bulk Loads - DRaaS - MCI2 - 09292022</td>\n",
       "      <td>New</td>\n",
       "      <td>24</td>\n",
       "      <td>MCI2</td>\n",
       "      <td>4.4900</td>\n",
       "      <td>8.98</td>\n",
       "      <td>Managed Services</td>\n",
       "    </tr>\n",
       "    <tr>\n",
       "      <th>449</th>\n",
       "      <td>Bulk Loads Now, LLC</td>\n",
       "      <td>68009</td>\n",
       "      <td>2022-10-14</td>\n",
       "      <td>Andrew Ramirez</td>\n",
       "      <td>Bulk Loads - DRaaS - MCI2 - 09292022</td>\n",
       "      <td>New</td>\n",
       "      <td>24</td>\n",
       "      <td>MCI2</td>\n",
       "      <td>21.2500</td>\n",
       "      <td>42.50</td>\n",
       "      <td>Internet</td>\n",
       "    </tr>\n",
       "    <tr>\n",
       "      <th>451</th>\n",
       "      <td>Bulk Loads Now, LLC</td>\n",
       "      <td>68009</td>\n",
       "      <td>2022-10-14</td>\n",
       "      <td>Andrew Ramirez</td>\n",
       "      <td>Bulk Loads - DRaaS - MCI2 - 09292022</td>\n",
       "      <td>New</td>\n",
       "      <td>24</td>\n",
       "      <td>MCI2</td>\n",
       "      <td>12.3250</td>\n",
       "      <td>24.65</td>\n",
       "      <td>Internet</td>\n",
       "    </tr>\n",
       "    <tr>\n",
       "      <th>453</th>\n",
       "      <td>Bulk Loads Now, LLC</td>\n",
       "      <td>68009</td>\n",
       "      <td>2022-10-14</td>\n",
       "      <td>Andrew Ramirez</td>\n",
       "      <td>Bulk Loads - DRaaS - MCI2 - 09292022</td>\n",
       "      <td>New</td>\n",
       "      <td>24</td>\n",
       "      <td>MCI2</td>\n",
       "      <td>148.7500</td>\n",
       "      <td>297.50</td>\n",
       "      <td>xConnect</td>\n",
       "    </tr>\n",
       "    <tr>\n",
       "      <th>456</th>\n",
       "      <td>Bulk Loads Now, LLC</td>\n",
       "      <td>68009</td>\n",
       "      <td>2022-10-14</td>\n",
       "      <td>Andrew Ramirez</td>\n",
       "      <td>Bulk Loads - DRaaS - MCI2 - 09292022</td>\n",
       "      <td>New</td>\n",
       "      <td>24</td>\n",
       "      <td>MCI2</td>\n",
       "      <td>85.0000</td>\n",
       "      <td>170.00</td>\n",
       "      <td>xConnect</td>\n",
       "    </tr>\n",
       "    <tr>\n",
       "      <th>464</th>\n",
       "      <td>CATO Networks DataBank</td>\n",
       "      <td>59115</td>\n",
       "      <td>2022-10-31</td>\n",
       "      <td>Andrew Ramirez</td>\n",
       "      <td>Cato - DataBank Colocation - SLC2 - 06032022</td>\n",
       "      <td>New</td>\n",
       "      <td>26</td>\n",
       "      <td>SLC2</td>\n",
       "      <td>255.0000</td>\n",
       "      <td>340.00</td>\n",
       "      <td>Space</td>\n",
       "    </tr>\n",
       "    <tr>\n",
       "      <th>466</th>\n",
       "      <td>CATO Networks DataBank</td>\n",
       "      <td>59115</td>\n",
       "      <td>2022-10-31</td>\n",
       "      <td>Andrew Ramirez</td>\n",
       "      <td>Cato - DataBank Colocation - SLC2 - 06032022</td>\n",
       "      <td>New</td>\n",
       "      <td>26</td>\n",
       "      <td>SLC2</td>\n",
       "      <td>225.0000</td>\n",
       "      <td>300.00</td>\n",
       "      <td>Power</td>\n",
       "    </tr>\n",
       "    <tr>\n",
       "      <th>467</th>\n",
       "      <td>CATO Networks DataBank</td>\n",
       "      <td>59115</td>\n",
       "      <td>2022-10-31</td>\n",
       "      <td>Andrew Ramirez</td>\n",
       "      <td>Cato - DataBank Colocation - SLC2 - 06032022</td>\n",
       "      <td>New</td>\n",
       "      <td>26</td>\n",
       "      <td>SLC2</td>\n",
       "      <td>112.5000</td>\n",
       "      <td>150.00</td>\n",
       "      <td>Power</td>\n",
       "    </tr>\n",
       "    <tr>\n",
       "      <th>468</th>\n",
       "      <td>CATO Networks DataBank</td>\n",
       "      <td>59115</td>\n",
       "      <td>2022-10-31</td>\n",
       "      <td>Andrew Ramirez</td>\n",
       "      <td>Cato - DataBank Colocation - SLC2 - 06032022</td>\n",
       "      <td>New</td>\n",
       "      <td>26</td>\n",
       "      <td>SLC2</td>\n",
       "      <td>75.0000</td>\n",
       "      <td>100.00</td>\n",
       "      <td>xConnect</td>\n",
       "    </tr>\n",
       "    <tr>\n",
       "      <th>469</th>\n",
       "      <td>CATO Networks DataBank</td>\n",
       "      <td>59115</td>\n",
       "      <td>2022-10-31</td>\n",
       "      <td>Andrew Ramirez</td>\n",
       "      <td>Cato - DataBank Colocation - SLC2 - 06032022</td>\n",
       "      <td>New</td>\n",
       "      <td>26</td>\n",
       "      <td>SLC2</td>\n",
       "      <td>75.0000</td>\n",
       "      <td>100.00</td>\n",
       "      <td>xConnect</td>\n",
       "    </tr>\n",
       "    <tr>\n",
       "      <th>470</th>\n",
       "      <td>CATO Networks DataBank</td>\n",
       "      <td>59115</td>\n",
       "      <td>2022-10-31</td>\n",
       "      <td>Andrew Ramirez</td>\n",
       "      <td>Cato - DataBank Colocation - SLC2 - 06032022</td>\n",
       "      <td>New</td>\n",
       "      <td>26</td>\n",
       "      <td>SLC2</td>\n",
       "      <td>93.7500</td>\n",
       "      <td>125.00</td>\n",
       "      <td>Internet</td>\n",
       "    </tr>\n",
       "    <tr>\n",
       "      <th>472</th>\n",
       "      <td>CATO Networks DataBank</td>\n",
       "      <td>59115</td>\n",
       "      <td>2022-10-31</td>\n",
       "      <td>Andrew Ramirez</td>\n",
       "      <td>Cato - DataBank Colocation - SLC2 - 06032022</td>\n",
       "      <td>New</td>\n",
       "      <td>26</td>\n",
       "      <td>SLC2</td>\n",
       "      <td>9.7500</td>\n",
       "      <td>13.00</td>\n",
       "      <td>Internet</td>\n",
       "    </tr>\n",
       "    <tr>\n",
       "      <th>1872</th>\n",
       "      <td>Ritter Communications</td>\n",
       "      <td>66725</td>\n",
       "      <td>2022-10-30</td>\n",
       "      <td>Andrew Ramirez</td>\n",
       "      <td>Ritter Communications/Fiber Run West Side Inne...</td>\n",
       "      <td>Change Order</td>\n",
       "      <td>118</td>\n",
       "      <td>MEM1</td>\n",
       "      <td>562.5000</td>\n",
       "      <td>750.00</td>\n",
       "      <td>xConnect</td>\n",
       "    </tr>\n",
       "    <tr>\n",
       "      <th>2053</th>\n",
       "      <td>State Of Illinois</td>\n",
       "      <td>69730</td>\n",
       "      <td>2022-10-30</td>\n",
       "      <td>Andrew Ramirez</td>\n",
       "      <td>State of Illinois- Cage 217 - Order 59082 Revi...</td>\n",
       "      <td>Change Order</td>\n",
       "      <td>18</td>\n",
       "      <td>ORD4</td>\n",
       "      <td>2800.0000</td>\n",
       "      <td>5600.00</td>\n",
       "      <td>Space</td>\n",
       "    </tr>\n",
       "    <tr>\n",
       "      <th>2054</th>\n",
       "      <td>State Of Illinois</td>\n",
       "      <td>69730</td>\n",
       "      <td>2022-10-30</td>\n",
       "      <td>Andrew Ramirez</td>\n",
       "      <td>State of Illinois- Cage 217 - Order 59082 Revi...</td>\n",
       "      <td>Change Order</td>\n",
       "      <td>18</td>\n",
       "      <td>ORD4</td>\n",
       "      <td>287.0000</td>\n",
       "      <td>574.00</td>\n",
       "      <td>Space</td>\n",
       "    </tr>\n",
       "    <tr>\n",
       "      <th>2065</th>\n",
       "      <td>State Of Illinois</td>\n",
       "      <td>69730</td>\n",
       "      <td>2022-10-30</td>\n",
       "      <td>Andrew Ramirez</td>\n",
       "      <td>State of Illinois- Cage 217 - Order 59082 Revi...</td>\n",
       "      <td>Change Order</td>\n",
       "      <td>18</td>\n",
       "      <td>ORD4</td>\n",
       "      <td>-2800.0000</td>\n",
       "      <td>-5600.00</td>\n",
       "      <td>Space</td>\n",
       "    </tr>\n",
       "    <tr>\n",
       "      <th>2346</th>\n",
       "      <td>UBX Cloud</td>\n",
       "      <td>69748</td>\n",
       "      <td>2022-10-31</td>\n",
       "      <td>Andrew Ramirez</td>\n",
       "      <td>UBX Cloud - Lumen XC - DEN2 - 10312022</td>\n",
       "      <td>Change Order</td>\n",
       "      <td>21</td>\n",
       "      <td>DEN2</td>\n",
       "      <td>25.0000</td>\n",
       "      <td>50.00</td>\n",
       "      <td>xConnect</td>\n",
       "    </tr>\n",
       "    <tr>\n",
       "      <th>2356</th>\n",
       "      <td>Utah Broadband</td>\n",
       "      <td>69656</td>\n",
       "      <td>2022-10-31</td>\n",
       "      <td>Andrew Ramirez</td>\n",
       "      <td>Utah Broadband - Megaport Port Upgrade/HE XC -...</td>\n",
       "      <td>Change Order</td>\n",
       "      <td>12</td>\n",
       "      <td>SLC2</td>\n",
       "      <td>112.5000</td>\n",
       "      <td>150.00</td>\n",
       "      <td>Internet</td>\n",
       "    </tr>\n",
       "    <tr>\n",
       "      <th>2357</th>\n",
       "      <td>Utah Broadband</td>\n",
       "      <td>69656</td>\n",
       "      <td>2022-10-31</td>\n",
       "      <td>Andrew Ramirez</td>\n",
       "      <td>Utah Broadband - Megaport Port Upgrade/HE XC -...</td>\n",
       "      <td>Change Order</td>\n",
       "      <td>12</td>\n",
       "      <td>SLC2</td>\n",
       "      <td>112.5000</td>\n",
       "      <td>150.00</td>\n",
       "      <td>xConnect</td>\n",
       "    </tr>\n",
       "  </tbody>\n",
       "</table>\n",
       "</div>"
      ],
      "text/plain": [
       "                Organization Order # Order Date        Salesman  \\\n",
       "149                  Axcient   66827 2022-10-25  Andrew Ramirez   \n",
       "254                  Axcient   66827 2022-10-25  Andrew Ramirez   \n",
       "309                  Axcient   66827 2022-10-25  Andrew Ramirez   \n",
       "332       Axess Americas Inc   65093 2022-10-18  Andrew Ramirez   \n",
       "334       Axess Americas Inc   65093 2022-10-18  Andrew Ramirez   \n",
       "335       Axess Americas Inc   65093 2022-10-18  Andrew Ramirez   \n",
       "337       Axess Americas Inc   65093 2022-10-18  Andrew Ramirez   \n",
       "339       Axess Americas Inc   65093 2022-10-18  Andrew Ramirez   \n",
       "340       Axess Americas Inc   65093 2022-10-18  Andrew Ramirez   \n",
       "426      Bulk Loads Now, LLC   68009 2022-10-14  Andrew Ramirez   \n",
       "427      Bulk Loads Now, LLC   68009 2022-10-14  Andrew Ramirez   \n",
       "428      Bulk Loads Now, LLC   68009 2022-10-14  Andrew Ramirez   \n",
       "431      Bulk Loads Now, LLC   68009 2022-10-14  Andrew Ramirez   \n",
       "432      Bulk Loads Now, LLC   68009 2022-10-14  Andrew Ramirez   \n",
       "435      Bulk Loads Now, LLC   68009 2022-10-14  Andrew Ramirez   \n",
       "436      Bulk Loads Now, LLC   68009 2022-10-14  Andrew Ramirez   \n",
       "437      Bulk Loads Now, LLC   68009 2022-10-14  Andrew Ramirez   \n",
       "440      Bulk Loads Now, LLC   68009 2022-10-14  Andrew Ramirez   \n",
       "442      Bulk Loads Now, LLC   68009 2022-10-14  Andrew Ramirez   \n",
       "449      Bulk Loads Now, LLC   68009 2022-10-14  Andrew Ramirez   \n",
       "451      Bulk Loads Now, LLC   68009 2022-10-14  Andrew Ramirez   \n",
       "453      Bulk Loads Now, LLC   68009 2022-10-14  Andrew Ramirez   \n",
       "456      Bulk Loads Now, LLC   68009 2022-10-14  Andrew Ramirez   \n",
       "464   CATO Networks DataBank   59115 2022-10-31  Andrew Ramirez   \n",
       "466   CATO Networks DataBank   59115 2022-10-31  Andrew Ramirez   \n",
       "467   CATO Networks DataBank   59115 2022-10-31  Andrew Ramirez   \n",
       "468   CATO Networks DataBank   59115 2022-10-31  Andrew Ramirez   \n",
       "469   CATO Networks DataBank   59115 2022-10-31  Andrew Ramirez   \n",
       "470   CATO Networks DataBank   59115 2022-10-31  Andrew Ramirez   \n",
       "472   CATO Networks DataBank   59115 2022-10-31  Andrew Ramirez   \n",
       "1872   Ritter Communications   66725 2022-10-30  Andrew Ramirez   \n",
       "2053       State Of Illinois   69730 2022-10-30  Andrew Ramirez   \n",
       "2054       State Of Illinois   69730 2022-10-30  Andrew Ramirez   \n",
       "2065       State Of Illinois   69730 2022-10-30  Andrew Ramirez   \n",
       "2346               UBX Cloud   69748 2022-10-31  Andrew Ramirez   \n",
       "2356          Utah Broadband   69656 2022-10-31  Andrew Ramirez   \n",
       "2357          Utah Broadband   69656 2022-10-31  Andrew Ramirez   \n",
       "\n",
       "                                          Order Summary          Type  Term  \\\n",
       "149                       Axcient/Renewal/ATL2/04082022       Renewal    38   \n",
       "254                       Axcient/Renewal/ATL2/04082022       Renewal    38   \n",
       "309                       Axcient/Renewal/ATL2/04082022       Renewal    38   \n",
       "332      Axess Americas - Cab Upgrade - SLC2 - 08052022  Change Order    23   \n",
       "334      Axess Americas - Cab Upgrade - SLC2 - 08052022  Change Order    23   \n",
       "335      Axess Americas - Cab Upgrade - SLC2 - 08052022  Change Order    23   \n",
       "337      Axess Americas - Cab Upgrade - SLC2 - 08052022  Change Order    23   \n",
       "339      Axess Americas - Cab Upgrade - SLC2 - 08052022  Change Order    23   \n",
       "340      Axess Americas - Cab Upgrade - SLC2 - 08052022  Change Order    23   \n",
       "426                Bulk Loads - DRaaS - MCI2 - 09292022           New    24   \n",
       "427                Bulk Loads - DRaaS - MCI2 - 09292022           New    24   \n",
       "428                Bulk Loads - DRaaS - MCI2 - 09292022           New    24   \n",
       "431                Bulk Loads - DRaaS - MCI2 - 09292022           New    24   \n",
       "432                Bulk Loads - DRaaS - MCI2 - 09292022           New    24   \n",
       "435                Bulk Loads - DRaaS - MCI2 - 09292022           New    24   \n",
       "436                Bulk Loads - DRaaS - MCI2 - 09292022           New    24   \n",
       "437                Bulk Loads - DRaaS - MCI2 - 09292022           New    24   \n",
       "440                Bulk Loads - DRaaS - MCI2 - 09292022           New    24   \n",
       "442                Bulk Loads - DRaaS - MCI2 - 09292022           New    24   \n",
       "449                Bulk Loads - DRaaS - MCI2 - 09292022           New    24   \n",
       "451                Bulk Loads - DRaaS - MCI2 - 09292022           New    24   \n",
       "453                Bulk Loads - DRaaS - MCI2 - 09292022           New    24   \n",
       "456                Bulk Loads - DRaaS - MCI2 - 09292022           New    24   \n",
       "464        Cato - DataBank Colocation - SLC2 - 06032022           New    26   \n",
       "466        Cato - DataBank Colocation - SLC2 - 06032022           New    26   \n",
       "467        Cato - DataBank Colocation - SLC2 - 06032022           New    26   \n",
       "468        Cato - DataBank Colocation - SLC2 - 06032022           New    26   \n",
       "469        Cato - DataBank Colocation - SLC2 - 06032022           New    26   \n",
       "470        Cato - DataBank Colocation - SLC2 - 06032022           New    26   \n",
       "472        Cato - DataBank Colocation - SLC2 - 06032022           New    26   \n",
       "1872  Ritter Communications/Fiber Run West Side Inne...  Change Order   118   \n",
       "2053  State of Illinois- Cage 217 - Order 59082 Revi...  Change Order    18   \n",
       "2054  State of Illinois- Cage 217 - Order 59082 Revi...  Change Order    18   \n",
       "2065  State of Illinois- Cage 217 - Order 59082 Revi...  Change Order    18   \n",
       "2346             UBX Cloud - Lumen XC - DEN2 - 10312022  Change Order    21   \n",
       "2356  Utah Broadband - Megaport Port Upgrade/HE XC -...  Change Order    12   \n",
       "2357  Utah Broadband - Megaport Port Upgrade/HE XC -...  Change Order    12   \n",
       "\n",
       "     Datacenter      payout       MRR      Service Type  \n",
       "149        ATL2  37819.5000  50426.00             Space  \n",
       "254        ATL2 -17737.5000 -23650.00             Space  \n",
       "309        ATL2 -12093.7500 -16125.00             Space  \n",
       "332        SLC2   -163.9125   -218.55             Space  \n",
       "334        SLC2   -245.8650   -327.82             Power  \n",
       "335        SLC2   -122.9325   -163.91             Power  \n",
       "337        SLC2    255.0000    340.00             Space  \n",
       "339        SLC2    431.2500    575.00             Power  \n",
       "340        SLC2    213.7500    285.00             Power  \n",
       "426        MCI2     12.7500     25.50  Managed Services  \n",
       "427        MCI2     40.8000     81.60  Managed Services  \n",
       "428        MCI2     43.5200     87.04  Managed Services  \n",
       "431        MCI2     78.0000    156.00  Managed Services  \n",
       "432        MCI2    106.2500    212.50  Managed Services  \n",
       "435        MCI2     10.2000     20.40  Managed Services  \n",
       "436        MCI2      6.3750     12.75  Managed Services  \n",
       "437        MCI2      4.2500      8.50  Managed Services  \n",
       "440        MCI2     42.0750     84.15  Managed Services  \n",
       "442        MCI2      4.4900      8.98  Managed Services  \n",
       "449        MCI2     21.2500     42.50          Internet  \n",
       "451        MCI2     12.3250     24.65          Internet  \n",
       "453        MCI2    148.7500    297.50          xConnect  \n",
       "456        MCI2     85.0000    170.00          xConnect  \n",
       "464        SLC2    255.0000    340.00             Space  \n",
       "466        SLC2    225.0000    300.00             Power  \n",
       "467        SLC2    112.5000    150.00             Power  \n",
       "468        SLC2     75.0000    100.00          xConnect  \n",
       "469        SLC2     75.0000    100.00          xConnect  \n",
       "470        SLC2     93.7500    125.00          Internet  \n",
       "472        SLC2      9.7500     13.00          Internet  \n",
       "1872       MEM1    562.5000    750.00          xConnect  \n",
       "2053       ORD4   2800.0000   5600.00             Space  \n",
       "2054       ORD4    287.0000    574.00             Space  \n",
       "2065       ORD4  -2800.0000  -5600.00             Space  \n",
       "2346       DEN2     25.0000     50.00          xConnect  \n",
       "2356       SLC2    112.5000    150.00          Internet  \n",
       "2357       SLC2    112.5000    150.00          xConnect  "
      ]
     },
     "execution_count": 102,
     "metadata": {},
     "output_type": "execute_result"
    }
   ],
   "source": [
    "andrew_ramirez"
   ]
  },
  {
   "cell_type": "code",
   "execution_count": 103,
   "id": "78963248-ec0b-4bca-9976-e7c692dcfb81",
   "metadata": {},
   "outputs": [],
   "source": [
    "andrew_ramirez.loc[111111] = ['Total Bookings:', ram_bookings, '', '' ,'','','','','','','']"
   ]
  },
  {
   "cell_type": "code",
   "execution_count": 104,
   "id": "b6c15fad-cc1f-44e6-8400-19ed276364c9",
   "metadata": {},
   "outputs": [],
   "source": [
    "andrew_ramirez.loc[111112] = ['Total Payout:', ram_pay, '', '' ,'','','','','','','']"
   ]
  },
  {
   "cell_type": "code",
   "execution_count": 105,
   "id": "0aa0e438-2e33-4321-aa71-be369fc7efe9",
   "metadata": {},
   "outputs": [],
   "source": [
    "andrew_ramirez.to_excel(os.path.join('../Output','Ramirez_October_2022.xlsx'), index=False)"
   ]
  },
  {
   "cell_type": "markdown",
   "id": "0f238645-53d4-474b-94f0-d2c8f8beda1b",
   "metadata": {},
   "source": [
    "#### End Andrew Ramirez"
   ]
  },
  {
   "cell_type": "markdown",
   "id": "d5203793-7c10-4569-a1e4-56b69daf7dd2",
   "metadata": {
    "tags": []
   },
   "source": [
    "### Carlie Matel"
   ]
  },
  {
   "cell_type": "code",
   "execution_count": 106,
   "id": "1d1111d7-d8ff-4232-ad1e-fd07aa76f5c0",
   "metadata": {},
   "outputs": [],
   "source": [
    "carlie_matel.loc[carlie_matel['Datacenter'].isin(['ATL2','ACT1','AUS1','CLE1','DEN1','DEN4','DFW1','DFW2','DFW6','DFW7','EWR2','IAD2','KC2','MEM1','MSP1','LHR1','ORD2','ORD3','PHX1','SEA2','SLC1','SLC2']), 'payout'] *= .75\n",
    "carlie_matel.loc[carlie_matel['Datacenter'].isin(['ATL1', 'ATL3', 'BOS1', 'BWI1', 'DEN2', 'DEN3', 'DFW3','DFW4', 'DFW5','EWR1','IAD1','IND1','IND2','LAS1','LAX1','LGA1','LGA2','MCI1','MCI2','MCI3','MIA1','MSP2','MSP3','MSP4','ORD1','ORD4','PHL1','PHX2','PHX3','PIT1','PIT2','SAN1','SAN2','SEA1','SFO1','SLC3','SLC4','SLC5','SNA1','SNA2','PAR1','PAR2','PAR3','MPL1','TLS1']), 'payout'] *= .5\n",
    "carlie_matel.loc[carlie_matel['Service Type'].isin(['Managed Services']) & carlie_matel['Datacenter'].isin(['ATL2','ACT1','AUS1','CLE1','DEN1','DEN4','DFW1','DFW2','DFW6','DFW7','EWR2','IAD2','KC2','MEM1','MSP1','LHR1','ORD2','ORD3','PHX1','SEA2','SLC1','SLC2']), 'payout'] *= .66666667"
   ]
  },
  {
   "cell_type": "code",
   "execution_count": 107,
   "id": "ad44baf6-8051-41c2-9c16-6527f25977d7",
   "metadata": {},
   "outputs": [],
   "source": [
    "carlie_matel.drop(carlie_matel[carlie_matel.MRR == 0.0].index, inplace=True)"
   ]
  },
  {
   "cell_type": "code",
   "execution_count": 108,
   "id": "156b2d89-1abb-4579-9423-d9b10bf4247c",
   "metadata": {},
   "outputs": [
    {
     "data": {
      "text/plain": [
       "592.3999999999999"
      ]
     },
     "execution_count": 108,
     "metadata": {},
     "output_type": "execute_result"
    }
   ],
   "source": [
    "carlie_matel['payout'].sum()"
   ]
  },
  {
   "cell_type": "code",
   "execution_count": 109,
   "id": "5568e69a-dd84-43f9-8607-8d27a3adaf98",
   "metadata": {},
   "outputs": [],
   "source": [
    "mat_bookings = carlie_matel['MRR'].sum()"
   ]
  },
  {
   "cell_type": "code",
   "execution_count": 110,
   "id": "efdb5258-acc5-406d-89f1-c009adf2a6a5",
   "metadata": {},
   "outputs": [],
   "source": [
    "mat_pay = carlie_matel['payout'].sum()"
   ]
  },
  {
   "cell_type": "code",
   "execution_count": 111,
   "id": "03c5619f-9ca8-4d3e-bc8a-60de2a9ad1f5",
   "metadata": {},
   "outputs": [],
   "source": [
    "carlie_matel.loc[111111] = ['Total Bookings:', mat_bookings, '', '' ,'','','','','','','']"
   ]
  },
  {
   "cell_type": "code",
   "execution_count": 112,
   "id": "1c1d6a56-a062-4344-8502-a34c799d1c97",
   "metadata": {},
   "outputs": [],
   "source": [
    "carlie_matel.loc[111112] = ['Total Payout:', mat_pay, '', '' ,'','','','','','','']"
   ]
  },
  {
   "cell_type": "code",
   "execution_count": 113,
   "id": "cec64613-ab48-4ca8-b4b1-d370b1981cad",
   "metadata": {},
   "outputs": [],
   "source": [
    "carlie_matel.to_excel(os.path.join('../Output','Matel_October_2022.xlsx'), index=False)"
   ]
  },
  {
   "cell_type": "markdown",
   "id": "4bebe11b-41df-4ff3-8aed-21a6111bb1e3",
   "metadata": {},
   "source": [
    "#### End Carlie Matel "
   ]
  },
  {
   "cell_type": "markdown",
   "id": "36ae0f60-c114-40f0-b71a-0064212c5ef9",
   "metadata": {
    "tags": []
   },
   "source": [
    "### Jonathan Malcolm"
   ]
  },
  {
   "cell_type": "code",
   "execution_count": 114,
   "id": "a7ec02c4-9116-42cd-af96-80d3de84ef01",
   "metadata": {},
   "outputs": [],
   "source": [
    "jonathan_malcolm.loc[jonathan_malcolm['Datacenter'].isin(['ATL2','ACT1','AUS1','CLE1','DEN1','DEN4','DFW1','DFW2','DFW6','DFW7','EWR2','IAD2','KC2','MEM1','MSP1','LHR1','ORD2','ORD3','PHX1','SEA2','SLC1','SLC2']), 'payout'] *= .75\n",
    "jonathan_malcolm.loc[jonathan_malcolm['Datacenter'].isin(['ATL1', 'ATL3', 'BOS1', 'BWI1', 'DEN2', 'DEN3', 'DFW3','DFW4', 'DFW5','EWR1','IAD1','IND1','IND2','LAS1','LAX1','LGA1','LGA2','MCI1','MCI2','MCI3','MIA1','MSP2','MSP3','MSP4','ORD1','ORD4','PHL1','PHX2','PHX3','PIT1','PIT2','SAN1','SAN2','SEA1','SFO1','SLC3','SLC4','SLC5','SNA1','SNA2','PAR1','PAR2','PAR3','MPL1','TLS1']), 'payout'] *= .5\n",
    "jonathan_malcolm.loc[jonathan_malcolm['Service Type'].isin(['Managed Services']) & jonathan_malcolm['Datacenter'].isin(['ATL2','ACT1','AUS1','CLE1','DEN1','DEN4','DFW1','DFW2','DFW6','DFW7','EWR2','IAD2','KC2','MEM1','MSP1','LHR1','ORD2','ORD3','PHX1','SEA2','SLC1','SLC2']), 'payout'] *= .66666667"
   ]
  },
  {
   "cell_type": "code",
   "execution_count": 115,
   "id": "e22dac9c-801b-41b2-b68c-41fd13a56abc",
   "metadata": {},
   "outputs": [],
   "source": [
    "jonathan_malcolm.drop(jonathan_malcolm[jonathan_malcolm.MRR == 0.0].index, inplace=True)"
   ]
  },
  {
   "cell_type": "code",
   "execution_count": 116,
   "id": "7aef05c5-82da-4490-84f9-38dde164a32f",
   "metadata": {},
   "outputs": [
    {
     "data": {
      "text/plain": [
       "185.9899999999998"
      ]
     },
     "execution_count": 116,
     "metadata": {},
     "output_type": "execute_result"
    }
   ],
   "source": [
    "jonathan_malcolm['payout'].sum()"
   ]
  },
  {
   "cell_type": "code",
   "execution_count": 117,
   "id": "8a2e92d6-304b-430f-880d-d5befe3b4729",
   "metadata": {},
   "outputs": [],
   "source": [
    "mal_bookings = jonathan_malcolm['MRR'].sum()"
   ]
  },
  {
   "cell_type": "code",
   "execution_count": 118,
   "id": "cf95b13f-3a8e-4d33-b2f6-df5eb3bd4bab",
   "metadata": {},
   "outputs": [],
   "source": [
    "mal_pay = jonathan_malcolm['payout'].sum()"
   ]
  },
  {
   "cell_type": "code",
   "execution_count": 119,
   "id": "31c4e49c-3ff7-4e11-9eec-b7e03c3c5c52",
   "metadata": {},
   "outputs": [],
   "source": [
    "jonathan_malcolm.loc[111111] = ['Total Bookings:', mal_bookings, '', '' ,'','','','','','','']"
   ]
  },
  {
   "cell_type": "code",
   "execution_count": 120,
   "id": "8992473b-a313-4912-a208-9a54f84d8e0b",
   "metadata": {},
   "outputs": [],
   "source": [
    "jonathan_malcolm.loc[111112] = ['Total Payout:', mal_pay, '', '' ,'','','','','','','']"
   ]
  },
  {
   "cell_type": "code",
   "execution_count": 121,
   "id": "a3cfaa2b-979f-46c5-b915-b7a26e930335",
   "metadata": {},
   "outputs": [],
   "source": [
    "jonathan_malcolm.to_excel(os.path.join('../Output','Malcolm_October_2022.xlsx'), index=False)"
   ]
  },
  {
   "cell_type": "markdown",
   "id": "a5924f64-0f93-4d5a-8f6d-e8fa49c94cf3",
   "metadata": {},
   "source": [
    "#### End Jonathan Malcolm"
   ]
  },
  {
   "cell_type": "markdown",
   "id": "f0bf2325-e56f-4bcd-970e-c5e3f4027eef",
   "metadata": {
    "tags": []
   },
   "source": [
    "### Mike Miceli"
   ]
  },
  {
   "cell_type": "code",
   "execution_count": 122,
   "id": "28a52f59-33c3-4068-ae72-f552c5f2b9a5",
   "metadata": {},
   "outputs": [],
   "source": [
    "mike_miceli.loc[mike_miceli['Datacenter'].isin(['ATL2','ACT1','AUS1','CLE1','DEN1','DEN4','DFW1','DFW2','DFW6','DFW7','EWR2','IAD2','KC2','MEM1','MSP1','LHR1','ORD2','ORD3','PHX1','SEA2','SLC1','SLC2']), 'payout'] *= .75\n",
    "mike_miceli.loc[mike_miceli['Datacenter'].isin(['ATL1', 'ATL3', 'BOS1', 'BWI1', 'DEN2', 'DEN3', 'DFW3','DFW4', 'DFW5','EWR1','IAD1','IND1','IND2','LAS1','LAX1','LGA1','LGA2','MCI1','MCI2','MCI3','MIA1','MSP2','MSP3','MSP4','ORD1','ORD4','PHL1','PHX2','PHX3','PIT1','PIT2','SAN1','SAN2','SEA1','SFO1','SLC3','SLC4','SLC5','SNA1','SNA2','PAR1','PAR2','PAR3','MPL1','TLS1']), 'payout'] *= .5\n",
    "mike_miceli.loc[mike_miceli['Service Type'].isin(['Managed Services']) & mike_miceli['Datacenter'].isin(['ATL2','ACT1','AUS1','CLE1','DEN1','DEN4','DFW1','DFW2','DFW6','DFW7','EWR2','IAD2','KC2','MEM1','MSP1','LHR1','ORD2','ORD3','PHX1','SEA2','SLC1','SLC2']), 'payout'] *= .66666667"
   ]
  },
  {
   "cell_type": "code",
   "execution_count": 123,
   "id": "7340e7dd-1361-4254-a73c-7c232dd51d90",
   "metadata": {},
   "outputs": [],
   "source": [
    "mike_miceli.drop(mike_miceli[mike_miceli.MRR == 0.0].index, inplace=True)"
   ]
  },
  {
   "cell_type": "code",
   "execution_count": 124,
   "id": "34af587e-f883-46da-980f-ad04b2ed8c7d",
   "metadata": {},
   "outputs": [
    {
     "data": {
      "text/plain": [
       "780.75"
      ]
     },
     "execution_count": 124,
     "metadata": {},
     "output_type": "execute_result"
    }
   ],
   "source": [
    "mike_miceli['payout'].sum()"
   ]
  },
  {
   "cell_type": "code",
   "execution_count": 125,
   "id": "7a9c2267-46db-455e-8204-993c7608a447",
   "metadata": {},
   "outputs": [],
   "source": [
    "mike_bookings = mike_miceli['MRR'].sum()"
   ]
  },
  {
   "cell_type": "code",
   "execution_count": 126,
   "id": "5d3f22f9-eaa4-4e42-b7a2-47a874306314",
   "metadata": {},
   "outputs": [],
   "source": [
    "mike_pay = mike_miceli['payout'].sum()"
   ]
  },
  {
   "cell_type": "code",
   "execution_count": 127,
   "id": "e7015e4e-2c2f-4635-9b35-2fed70397de6",
   "metadata": {},
   "outputs": [],
   "source": [
    "mike_miceli.loc[111111] = ['Total Bookings:', mike_bookings, '', '' ,'','','','','','','']"
   ]
  },
  {
   "cell_type": "code",
   "execution_count": 128,
   "id": "c2a6869f-c39d-4611-8def-5f1af8150598",
   "metadata": {},
   "outputs": [],
   "source": [
    "mike_miceli.loc[111112] = ['Total Payout:', mike_pay, '', '' ,'','','','','','','']"
   ]
  },
  {
   "cell_type": "code",
   "execution_count": 129,
   "id": "9a14380e-1dcb-4595-a374-ffc35dfc87b4",
   "metadata": {},
   "outputs": [],
   "source": [
    "mike_miceli.to_excel(os.path.join('../Output','Miceli_October_2022.xlsx'), index=False)"
   ]
  },
  {
   "cell_type": "markdown",
   "id": "339f2576-f3c5-4b20-876f-39852324d53f",
   "metadata": {},
   "source": [
    "#### End Mike Miceli"
   ]
  },
  {
   "cell_type": "markdown",
   "id": "75b39e8e-c975-439c-a9bc-2b5257f94186",
   "metadata": {
    "tags": []
   },
   "source": [
    "### Tiffany Dunson"
   ]
  },
  {
   "cell_type": "code",
   "execution_count": 130,
   "id": "7051ffa3-ede5-4cc3-b3fd-6390cf97d902",
   "metadata": {},
   "outputs": [],
   "source": [
    "tiffany_dunson.loc[tiffany_dunson['Datacenter'].isin(['ATL2','ACT1','AUS1','CLE1','DEN1','DEN4','DFW1','DFW2','DFW6','DFW7','EWR2','IAD2','KC2','MEM1','MSP1','LHR1','ORD2','ORD3','PHX1','SEA2','SLC1','SLC2']), 'payout'] *= .75\n",
    "tiffany_dunson.loc[tiffany_dunson['Datacenter'].isin(['ATL1', 'ATL3', 'BOS1', 'BWI1', 'DEN2', 'DEN3', 'DFW3','DFW4', 'DFW5','EWR1','IAD1','IND1','IND2','LAS1','LAX1','LGA1','LGA2','MCI1','MCI2','MCI3','MIA1','MSP2','MSP3','MSP4','ORD1','ORD4','PHL1','PHX2','PHX3','PIT1','PIT2','SAN1','SAN2','SEA1','SFO1','SLC3','SLC4','SLC5','SNA1','SNA2','PAR1','PAR2','PAR3','MPL1','TLS1']), 'payout'] *= .5\n",
    "tiffany_dunson.loc[tiffany_dunson['Service Type'].isin(['Managed Services']) & tiffany_dunson['Datacenter'].isin(['ATL2','ACT1','AUS1','CLE1','DEN1','DEN4','DFW1','DFW2','DFW6','DFW7','EWR2','IAD2','KC2','MEM1','MSP1','LHR1','ORD2','ORD3','PHX1','SEA2','SLC1','SLC2']), 'payout'] *= .66666667"
   ]
  },
  {
   "cell_type": "code",
   "execution_count": 131,
   "id": "d09d910f-907a-4e99-8a30-d153eb86f613",
   "metadata": {},
   "outputs": [],
   "source": [
    "tiffany_dunson.drop(tiffany_dunson[tiffany_dunson.MRR == 0.0].index, inplace=True)"
   ]
  },
  {
   "cell_type": "code",
   "execution_count": 132,
   "id": "3ed00da5-2ec1-427c-bb72-7d75a621d809",
   "metadata": {},
   "outputs": [
    {
     "data": {
      "text/plain": [
       "1621.1999999999998"
      ]
     },
     "execution_count": 132,
     "metadata": {},
     "output_type": "execute_result"
    }
   ],
   "source": [
    "tiffany_dunson['payout'].sum()"
   ]
  },
  {
   "cell_type": "code",
   "execution_count": 133,
   "id": "bea1ddcc-88ed-4e38-a018-3a3bb2375793",
   "metadata": {},
   "outputs": [],
   "source": [
    "tiff_bookings = tiffany_dunson['MRR'].sum()"
   ]
  },
  {
   "cell_type": "code",
   "execution_count": 134,
   "id": "fe798c4e-9118-42ed-b5ea-e85c1b529fd0",
   "metadata": {},
   "outputs": [],
   "source": [
    "tiff_pay = tiffany_dunson['payout'].sum()"
   ]
  },
  {
   "cell_type": "code",
   "execution_count": 135,
   "id": "fffc9c9b-9383-46ed-ad03-ec9f31e3664c",
   "metadata": {},
   "outputs": [],
   "source": [
    "tiffany_dunson.loc[111111] = ['Total Bookings:', tiff_bookings, '', '' ,'','','','','','','']"
   ]
  },
  {
   "cell_type": "code",
   "execution_count": 136,
   "id": "af499711-fe14-4354-bd82-093556c177db",
   "metadata": {},
   "outputs": [],
   "source": [
    "tiffany_dunson.loc[111112] = ['Total Payout:', tiff_pay, '', '' ,'','','','','','','']"
   ]
  },
  {
   "cell_type": "code",
   "execution_count": 137,
   "id": "15dd239f-b94d-473c-b138-e1179a203266",
   "metadata": {},
   "outputs": [],
   "source": [
    "tiffany_dunson.to_excel(os.path.join('../Output','Dunson_October_2022.xlsx'), index=False)"
   ]
  },
  {
   "cell_type": "markdown",
   "id": "4161e6f6-e0a1-423e-b32b-ce4d8b0f3b34",
   "metadata": {},
   "source": [
    "#### End Tiffany Dunson"
   ]
  },
  {
   "cell_type": "markdown",
   "id": "2e14c502-fbf8-457a-8e10-ada65b6cf143",
   "metadata": {},
   "source": [
    "### Brandon Peccorolo "
   ]
  },
  {
   "cell_type": "code",
   "execution_count": 138,
   "id": "43c62322-a473-42b7-a03a-3b22cc2cf0bf",
   "metadata": {},
   "outputs": [],
   "source": [
    "pecc = hud_bookings + ram_bookings + mat_bookings + mal_bookings + mike_bookings + tiff_bookings"
   ]
  },
  {
   "cell_type": "code",
   "execution_count": 139,
   "id": "b4c34a7d-959b-4b2a-9898-5d3da7c63390",
   "metadata": {},
   "outputs": [
    {
     "data": {
      "text/plain": [
       "26531.92"
      ]
     },
     "execution_count": 139,
     "metadata": {},
     "output_type": "execute_result"
    }
   ],
   "source": [
    "pecc"
   ]
  },
  {
   "cell_type": "code",
   "execution_count": 149,
   "id": "93aeab85-076d-43b1-8283-064066d66948",
   "metadata": {},
   "outputs": [],
   "source": [
    "pecc_pay = (pecc/30000)*6000"
   ]
  },
  {
   "cell_type": "code",
   "execution_count": 167,
   "id": "ab3e5d33-87dc-4563-b8bd-264666907ead",
   "metadata": {},
   "outputs": [],
   "source": [
    "pecc_percent = (pecc/30000)"
   ]
  },
  {
   "cell_type": "code",
   "execution_count": 150,
   "id": "8457cd72-8d0e-401f-a6ff-59ff28093c27",
   "metadata": {},
   "outputs": [
    {
     "data": {
      "text/plain": [
       "5306.383999999999"
      ]
     },
     "execution_count": 150,
     "metadata": {},
     "output_type": "execute_result"
    }
   ],
   "source": [
    "pecc_pay"
   ]
  },
  {
   "cell_type": "code",
   "execution_count": 174,
   "id": "ceee3df6-1057-44e3-9a24-9168a710fbb8",
   "metadata": {},
   "outputs": [],
   "source": [
    "brandon_peccorolo.loc[100] = ['Monthly Team Commission','Formula Used: (X/30000)*6000 ', 'Quota %', pecc_percent, 'Payout:' , pecc_pay,'','','','','']"
   ]
  },
  {
   "cell_type": "code",
   "execution_count": 175,
   "id": "d11f565b-88fa-419f-a9e2-d9cab0d2121b",
   "metadata": {},
   "outputs": [
    {
     "data": {
      "text/html": [
       "<div>\n",
       "<style scoped>\n",
       "    .dataframe tbody tr th:only-of-type {\n",
       "        vertical-align: middle;\n",
       "    }\n",
       "\n",
       "    .dataframe tbody tr th {\n",
       "        vertical-align: top;\n",
       "    }\n",
       "\n",
       "    .dataframe thead th {\n",
       "        text-align: right;\n",
       "    }\n",
       "</style>\n",
       "<table border=\"1\" class=\"dataframe\">\n",
       "  <thead>\n",
       "    <tr style=\"text-align: right;\">\n",
       "      <th></th>\n",
       "      <th>Organization</th>\n",
       "      <th>Order #</th>\n",
       "      <th>Order Date</th>\n",
       "      <th>Salesman</th>\n",
       "      <th>Order Summary</th>\n",
       "      <th>Type</th>\n",
       "      <th>Term</th>\n",
       "      <th>Datacenter</th>\n",
       "      <th>payout</th>\n",
       "      <th>MRR</th>\n",
       "      <th>Service Type</th>\n",
       "    </tr>\n",
       "  </thead>\n",
       "  <tbody>\n",
       "    <tr>\n",
       "      <th>100</th>\n",
       "      <td>Monthly Team Commission</td>\n",
       "      <td>Formula Used: (X/30000)*6000</td>\n",
       "      <td>Quota %</td>\n",
       "      <td>0.884397</td>\n",
       "      <td>Payout:</td>\n",
       "      <td>5306.384</td>\n",
       "      <td></td>\n",
       "      <td></td>\n",
       "      <td></td>\n",
       "      <td></td>\n",
       "      <td></td>\n",
       "    </tr>\n",
       "  </tbody>\n",
       "</table>\n",
       "</div>"
      ],
      "text/plain": [
       "                Organization                        Order # Order Date  \\\n",
       "100  Monthly Team Commission  Formula Used: (X/30000)*6000     Quota %   \n",
       "\n",
       "     Salesman Order Summary      Type Term Datacenter payout MRR Service Type  \n",
       "100  0.884397       Payout:  5306.384                                          "
      ]
     },
     "execution_count": 175,
     "metadata": {},
     "output_type": "execute_result"
    }
   ],
   "source": [
    "brandon_peccorolo"
   ]
  },
  {
   "cell_type": "code",
   "execution_count": null,
   "id": "223ee930-a0f9-4739-9e04-2a1a7bf93281",
   "metadata": {},
   "outputs": [],
   "source": []
  },
  {
   "cell_type": "code",
   "execution_count": null,
   "id": "51cb8356-123f-4249-b748-7358cf992aed",
   "metadata": {},
   "outputs": [],
   "source": []
  },
  {
   "cell_type": "code",
   "execution_count": null,
   "id": "ab64531f-d8da-4714-a6a7-1eb0b34a0f5c",
   "metadata": {},
   "outputs": [],
   "source": [
    "print('Done')        "
   ]
  },
  {
   "cell_type": "code",
   "execution_count": null,
   "id": "4cd1d0d9-a68e-4696-bda2-adb865a3013f",
   "metadata": {},
   "outputs": [],
   "source": []
  },
  {
   "cell_type": "code",
   "execution_count": null,
   "id": "0073a58e-e06c-438b-a8ef-2789b0d95474",
   "metadata": {},
   "outputs": [],
   "source": []
  },
  {
   "cell_type": "code",
   "execution_count": null,
   "id": "37788c73-51c8-4395-b39b-3b48a3c1dd97",
   "metadata": {},
   "outputs": [],
   "source": []
  },
  {
   "cell_type": "code",
   "execution_count": null,
   "id": "c097440c-5568-4e1d-8b90-c1dbac53997c",
   "metadata": {},
   "outputs": [],
   "source": []
  }
 ],
 "metadata": {
  "kernelspec": {
   "display_name": "Python 3 (ipykernel)",
   "language": "python",
   "name": "python3"
  },
  "language_info": {
   "codemirror_mode": {
    "name": "ipython",
    "version": 3
   },
   "file_extension": ".py",
   "mimetype": "text/x-python",
   "name": "python",
   "nbconvert_exporter": "python",
   "pygments_lexer": "ipython3",
   "version": "3.9.7"
  }
 },
 "nbformat": 4,
 "nbformat_minor": 5
}
