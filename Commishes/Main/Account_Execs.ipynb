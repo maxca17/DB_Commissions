{
 "cells": [
  {
   "cell_type": "markdown",
   "id": "0d38a8e0-c4c2-4841-a1a6-8c79685366a1",
   "metadata": {
    "tags": []
   },
   "source": [
    "# Overview "
   ]
  },
  {
   "cell_type": "code",
   "execution_count": 1,
   "id": "d3732d8b-2aac-4bd2-be07-21c8db42e3af",
   "metadata": {},
   "outputs": [],
   "source": [
    "import openpyxl as py\n",
    "from openpyxl import *\n",
    "import pandas as pd\n",
    "from pandas import *\n",
    "import numpy as np\n",
    "import ast as ast\n",
    "\n",
    "#import pdfkit\n",
    "pd.options.mode.chained_assignment = None"
   ]
  },
  {
   "cell_type": "code",
   "execution_count": 2,
   "id": "e31a3953-82fa-4463-a48c-86b02163cc13",
   "metadata": {},
   "outputs": [],
   "source": [
    "#eoq = input('Is this the end of a quarter? (imput y or n)')"
   ]
  },
  {
   "cell_type": "code",
   "execution_count": 3,
   "id": "3e42afb5-e849-4242-bd0a-807035760987",
   "metadata": {},
   "outputs": [],
   "source": [
    "ep1 = pd.read_excel('../excel_sheets/Epicor.xlsx')"
   ]
  },
  {
   "cell_type": "code",
   "execution_count": 4,
   "id": "cf126da1-b4a2-4efa-bbae-643eb4d66f2f",
   "metadata": {},
   "outputs": [
    {
     "data": {
      "text/html": [
       "<div>\n",
       "<style scoped>\n",
       "    .dataframe tbody tr th:only-of-type {\n",
       "        vertical-align: middle;\n",
       "    }\n",
       "\n",
       "    .dataframe tbody tr th {\n",
       "        vertical-align: top;\n",
       "    }\n",
       "\n",
       "    .dataframe thead th {\n",
       "        text-align: right;\n",
       "    }\n",
       "</style>\n",
       "<table border=\"1\" class=\"dataframe\">\n",
       "  <thead>\n",
       "    <tr style=\"text-align: right;\">\n",
       "      <th></th>\n",
       "      <th>Organization</th>\n",
       "      <th>Order #</th>\n",
       "      <th>Order Date</th>\n",
       "      <th>Salesman</th>\n",
       "      <th>Order Summary</th>\n",
       "      <th>Type</th>\n",
       "      <th>Term</th>\n",
       "      <th>Datacenter</th>\n",
       "      <th>payout</th>\n",
       "      <th>MRR</th>\n",
       "      <th>Service Type</th>\n",
       "    </tr>\n",
       "  </thead>\n",
       "  <tbody>\n",
       "    <tr>\n",
       "      <th>0</th>\n",
       "      <td>ADP</td>\n",
       "      <td>62450</td>\n",
       "      <td>2022-08-02 18:25:06.877</td>\n",
       "      <td>Paul Attallah</td>\n",
       "      <td>Cross Connect : CAT6E</td>\n",
       "      <td>New</td>\n",
       "      <td>12</td>\n",
       "      <td>SAN1</td>\n",
       "      <td>100.0</td>\n",
       "      <td>100.0</td>\n",
       "      <td>xConnect</td>\n",
       "    </tr>\n",
       "  </tbody>\n",
       "</table>\n",
       "</div>"
      ],
      "text/plain": [
       "  Organization Order #              Order Date        Salesman  \\\n",
       "0          ADP   62450 2022-08-02 18:25:06.877  Paul Attallah    \n",
       "\n",
       "           Order Summary Type  Term Datacenter  payout    MRR Service Type  \n",
       "0  Cross Connect : CAT6E  New    12       SAN1   100.0  100.0     xConnect  "
      ]
     },
     "execution_count": 4,
     "metadata": {},
     "output_type": "execute_result"
    }
   ],
   "source": [
    "ep1.head(1)"
   ]
  },
  {
   "cell_type": "code",
   "execution_count": 5,
   "id": "c3f1a039-573a-4e32-b6cf-858244f68b0d",
   "metadata": {},
   "outputs": [
    {
     "data": {
      "text/plain": [
       "Index(['Organization', 'Order #', 'Order Date', 'Salesman', 'Order Summary',\n",
       "       'Type', 'Term', 'Datacenter', 'payout', 'MRR', 'Service Type'],\n",
       "      dtype='object')"
      ]
     },
     "execution_count": 5,
     "metadata": {},
     "output_type": "execute_result"
    }
   ],
   "source": [
    "ep1.columns"
   ]
  },
  {
   "cell_type": "code",
   "execution_count": 6,
   "id": "23d6124e-1c3b-4fd4-9e00-ad85f5445934",
   "metadata": {},
   "outputs": [
    {
     "data": {
      "text/plain": [
       "Organization             object\n",
       "Order #                  object\n",
       "Order Date       datetime64[ns]\n",
       "Salesman                 object\n",
       "Order Summary            object\n",
       "Type                     object\n",
       "Term                      int64\n",
       "Datacenter               object\n",
       "payout                  float64\n",
       "MRR                     float64\n",
       "Service Type             object\n",
       "dtype: object"
      ]
     },
     "execution_count": 6,
     "metadata": {},
     "output_type": "execute_result"
    }
   ],
   "source": [
    "ep1.dtypes"
   ]
  },
  {
   "cell_type": "code",
   "execution_count": 7,
   "id": "49b95b86-18e7-48aa-a1c8-d5d8e5ac08ec",
   "metadata": {},
   "outputs": [],
   "source": [
    "samuel_mickler = ep1[ep1['Salesman'] == 'Samuel Mickler']\n",
    "trey_hardeman = ep1[ep1['Salesman'] == 'Trey Hardeman']\n",
    "odaine_hudson = ep1[ep1['Salesman'] == 'Odaine Hudson']\n",
    "andrew_ramirez = ep1[ep1['Salesman'] == 'Andrew Ramirez']\n",
    "carlie_matel = ep1[ep1['Salesman'] == 'Carlie Matel']\n",
    "jonathan_malcolm = ep1[ep1['Salesman'] == 'Jonathan Malcolm']\n",
    "mike_miceli = ep1[ep1['Salesman'] == 'Mike Miceli']\n",
    "tiffany_dunson = ep1[ep1['Salesman'] == 'Tiffany Dunson']\n",
    "natalie_farr = ep1[ep1['Salesman'] == 'Natalie Farr']\n",
    "shelby_locklear = ep1[ep1['Salesman'] == 'Shelby Locklear']\n",
    "kathy_geiser = ep1[ep1['Salesman'] == 'Kathy J Geiser']\n",
    "stephen_muoio = ep1[ep1['Salesman'] == 'Stephen Muoio']"
   ]
  },
  {
   "cell_type": "markdown",
   "id": "fb11f95d-c50c-481b-9547-4b030281f069",
   "metadata": {
    "jp-MarkdownHeadingCollapsed": true,
    "tags": []
   },
   "source": [
    "### Sam Mickler"
   ]
  },
  {
   "cell_type": "code",
   "execution_count": null,
   "id": "6e57c9b9-1a22-4bb4-a12a-38411325f96f",
   "metadata": {},
   "outputs": [],
   "source": [
    "samuel_mickler.head()"
   ]
  },
  {
   "cell_type": "code",
   "execution_count": null,
   "id": "83df021c-355d-402f-82b4-d986de75c16b",
   "metadata": {},
   "outputs": [],
   "source": [
    "samuel_mickler.loc[samuel_mickler['Datacenter'].isin(['ATL2','ACT1','AUS1','CLE1','DEN1','DEN4','DFW1','DFW2','DFW6','DFW7','EWR2','IAD2','KC2','MEM1','MSP1','LHR1','ORD2','ORD3','PHX1','SEA2','SLC1','SLC2']), 'payout'] *= .75\n",
    "samuel_mickler.loc[samuel_mickler['Datacenter'].isin(['ATL1', 'ATL3', 'BOS1', 'BWI1', 'DEN2', 'DEN3', 'DFW3','DFW4', 'DFW5','EWR1','IAD1','IND1','IND2','LAS1','LAX1','LGA1','LGA2','MCI1','MCI2','MCI3','MIA1','MSP2','MSP3','MSP4','ORD1','ORD4','PHL1','PHX2','PHX3','PIT1','PIT2','SAN1','SAN2','SEA1','SFO1','SLC3','SLC4','SLC5','SNA1','SNA2','PAR1','PAR2','PAR3','MPL1','TLS1']), 'payout'] *= .5"
   ]
  },
  {
   "cell_type": "code",
   "execution_count": null,
   "id": "c2d260b3-868c-4941-8a70-dbc2734164fd",
   "metadata": {},
   "outputs": [],
   "source": [
    "samuel_mickler['payout'].sum()"
   ]
  },
  {
   "cell_type": "code",
   "execution_count": null,
   "id": "b104b035-3862-42db-ae80-42f42c939a7c",
   "metadata": {},
   "outputs": [],
   "source": [
    "mick_bookings = samuel_mickler['MRR'].sum()"
   ]
  },
  {
   "cell_type": "code",
   "execution_count": null,
   "id": "5b8c14a5-eb07-4ab7-8351-18ae92c4c185",
   "metadata": {},
   "outputs": [],
   "source": [
    "mick_pay = samuel_mickler['payout'].sum()"
   ]
  },
  {
   "cell_type": "code",
   "execution_count": null,
   "id": "919293bc-a5b8-4fbe-a5fe-138c32f7326e",
   "metadata": {},
   "outputs": [],
   "source": [
    "samuel_mickler.loc[111111] = ['Total Bookings:', mick_bookings, '', '' ,'','','','','','','']"
   ]
  },
  {
   "cell_type": "code",
   "execution_count": null,
   "id": "98cca5ac-462e-49c2-90fb-53e147de7169",
   "metadata": {},
   "outputs": [],
   "source": [
    "samuel_mickler.loc[111112] = ['Total Payout:', mick_pay, '', '' ,'','','','','','','']"
   ]
  },
  {
   "cell_type": "code",
   "execution_count": null,
   "id": "42269cec-a8a3-4d33-99f4-082b88617f1b",
   "metadata": {},
   "outputs": [],
   "source": [
    "samuel_mickler"
   ]
  },
  {
   "cell_type": "markdown",
   "id": "158122e6-5ad3-46de-909f-20db1e049200",
   "metadata": {},
   "source": [
    "#### End Sam Mickler"
   ]
  },
  {
   "cell_type": "markdown",
   "id": "c241261c-119a-4e08-88c2-02b080cf4592",
   "metadata": {
    "jp-MarkdownHeadingCollapsed": true,
    "tags": []
   },
   "source": [
    "### Trey Hardeman"
   ]
  },
  {
   "cell_type": "code",
   "execution_count": null,
   "id": "0405837c-b08c-47c0-8060-794339cebb69",
   "metadata": {},
   "outputs": [],
   "source": [
    "trey_hardeman.loc[trey_hardeman['Datacenter'].isin(['ATL2','ACT1','AUS1','CLE1','DEN1','DEN4','DFW1','DFW2','DFW6','DFW7','EWR2','IAD2','KC2','MEM1','MSP1','LHR1','ORD2','ORD3','PHX1','SEA2','SLC1','SLC2']), 'payout'] *= .75\n",
    "trey_hardeman.loc[trey_hardeman['Datacenter'].isin(['ATL1', 'ATL3', 'BOS1', 'BWI1', 'DEN2', 'DEN3', 'DFW3','DFW4', 'DFW5','EWR1','IAD1','IND1','IND2','LAS1','LAX1','LGA1','LGA2','MCI1','MCI2','MCI3','MIA1','MSP2','MSP3','MSP4','ORD1','ORD4','PHL1','PHX2','PHX3','PIT1','PIT2','SAN1','SAN2','SEA1','SFO1','SLC3','SLC4','SLC5','SNA1','SNA2','PAR1','PAR2','PAR3','MPL1','TLS1']), 'payout'] *= .5"
   ]
  },
  {
   "cell_type": "code",
   "execution_count": null,
   "id": "fb4049b1-e3e4-41fa-8878-eb45819faa00",
   "metadata": {},
   "outputs": [],
   "source": [
    "trey_hardeman['payout'].sum()"
   ]
  },
  {
   "cell_type": "code",
   "execution_count": null,
   "id": "955cd776-a24a-4260-b002-0d626aaba678",
   "metadata": {},
   "outputs": [],
   "source": [
    "hard_bookings = trey_hardeman['MRR'].sum()"
   ]
  },
  {
   "cell_type": "code",
   "execution_count": null,
   "id": "b5a63d3c-f1c2-4f9e-a621-9279e680f887",
   "metadata": {},
   "outputs": [],
   "source": [
    "hard_pay = trey_hardeman['payout'].sum()"
   ]
  },
  {
   "cell_type": "code",
   "execution_count": null,
   "id": "307c418b-1725-4e49-afa3-01560483477a",
   "metadata": {},
   "outputs": [],
   "source": [
    "hard_bookings"
   ]
  },
  {
   "cell_type": "code",
   "execution_count": null,
   "id": "da2e237a-ab2b-4d4f-a574-04b1a3f31a4b",
   "metadata": {},
   "outputs": [],
   "source": [
    "trey_hardeman.loc[111111] = ['Total Bookings:', hard_bookings, '', '' ,'','','','','','','']"
   ]
  },
  {
   "cell_type": "code",
   "execution_count": null,
   "id": "b745a5c8-359f-4133-a333-991f04a9d74f",
   "metadata": {},
   "outputs": [],
   "source": [
    "trey_hardeman.loc[111112] = ['Total Payout:', hard_pay, '', '' ,'','','','','','','']"
   ]
  },
  {
   "cell_type": "code",
   "execution_count": null,
   "id": "7a32f93c-fad3-44b1-b3c6-43a29171782c",
   "metadata": {},
   "outputs": [],
   "source": [
    "trey_hardeman.to_excel('')"
   ]
  },
  {
   "cell_type": "markdown",
   "id": "c040c2a2-5b3c-4a69-a08d-f470021179cd",
   "metadata": {},
   "source": [
    "#### End Trey Hardeman"
   ]
  },
  {
   "cell_type": "markdown",
   "id": "4ed41909-1f4a-4da1-aa0d-854a558128f9",
   "metadata": {
    "jp-MarkdownHeadingCollapsed": true,
    "tags": []
   },
   "source": [
    "### Natalie Farr"
   ]
  },
  {
   "cell_type": "code",
   "execution_count": null,
   "id": "d7e01848-6430-4a46-bc37-a976aa21e0a6",
   "metadata": {},
   "outputs": [],
   "source": [
    "natalie_farr.loc[natalie_farr['Datacenter'].isin(['ATL2','ACT1','AUS1','CLE1','DEN1','DEN4','DFW1','DFW2','DFW6','DFW7','EWR2','IAD2','KC2','MEM1','MSP1','LHR1','ORD2','ORD3','PHX1','SEA2','SLC1','SLC2']), 'payout'] *= .75\n",
    "natalie_farr.loc[natalie_farr['Datacenter'].isin(['ATL1', 'ATL3', 'BOS1', 'BWI1', 'DEN2', 'DEN3', 'DFW3','DFW4', 'DFW5','EWR1','IAD1','IND1','IND2','LAS1','LAX1','LGA1','LGA2','MCI1','MCI2','MCI3','MIA1','MSP2','MSP3','MSP4','ORD1','ORD4','PHL1','PHX2','PHX3','PIT1','PIT2','SAN1','SAN2','SEA1','SFO1','SLC3','SLC4','SLC5','SNA1','SNA2','PAR1','PAR2','PAR3','MPL1','TLS1']), 'payout'] *= .5"
   ]
  },
  {
   "cell_type": "code",
   "execution_count": null,
   "id": "3c8ac35e-49cd-4612-9455-bba2be114550",
   "metadata": {},
   "outputs": [],
   "source": [
    "natalie_farr['payout'].sum()"
   ]
  },
  {
   "cell_type": "code",
   "execution_count": null,
   "id": "01a7d0a6-3040-4d89-ad8d-0062336c8850",
   "metadata": {},
   "outputs": [],
   "source": [
    "farr_bookings = natalie_farr['MRR'].sum()"
   ]
  },
  {
   "cell_type": "code",
   "execution_count": null,
   "id": "d4fdf5c4-edfe-4df3-bca7-d41ceca790b0",
   "metadata": {},
   "outputs": [],
   "source": [
    "farr_pay = natalie_farr['payout'].sum()"
   ]
  },
  {
   "cell_type": "code",
   "execution_count": null,
   "id": "5929dc21-e443-4cc3-b666-24fe4d3f88de",
   "metadata": {},
   "outputs": [],
   "source": [
    "farr_bookings"
   ]
  },
  {
   "cell_type": "code",
   "execution_count": null,
   "id": "da8062aa-19e8-4539-adfa-ea9c7810d5a7",
   "metadata": {},
   "outputs": [],
   "source": [
    "natalie_farr.loc[111111] = ['Total Bookings:', farr_bookings, '', '' ,'','','','','','','']"
   ]
  },
  {
   "cell_type": "code",
   "execution_count": null,
   "id": "62a3e21d-fafe-4edb-a4b3-1044420333c8",
   "metadata": {},
   "outputs": [],
   "source": [
    "natalie_farr.loc[111112] = ['Total Payout:', farr_pay, '', '' ,'','','','','','','']"
   ]
  },
  {
   "cell_type": "markdown",
   "id": "792e921c-a4a7-4ab4-b59a-77f7184f6397",
   "metadata": {},
   "source": [
    "#### End Natalie Farr"
   ]
  },
  {
   "cell_type": "markdown",
   "id": "c51d9af1-b585-4fb8-9a7f-cfb4e7e27797",
   "metadata": {
    "jp-MarkdownHeadingCollapsed": true,
    "tags": []
   },
   "source": [
    "### Shelby Locklear "
   ]
  },
  {
   "cell_type": "code",
   "execution_count": null,
   "id": "196a2054-648f-4b61-bf3b-5dd2cf52d5fb",
   "metadata": {},
   "outputs": [],
   "source": [
    "shelby_locklear.loc[shelby_locklear['Datacenter'].isin(['ATL2','ACT1','AUS1','CLE1','DEN1','DEN4','DFW1','DFW2','DFW6','DFW7','EWR2','IAD2','KC2','MEM1','MSP1','LHR1','ORD2','ORD3','PHX1','SEA2','SLC1','SLC2']), 'payout'] *= .75\n",
    "shelby_locklear.loc[shelby_locklear['Datacenter'].isin(['ATL1', 'ATL3', 'BOS1', 'BWI1', 'DEN2', 'DEN3', 'DFW3','DFW4', 'DFW5','EWR1','IAD1','IND1','IND2','LAS1','LAX1','LGA1','LGA2','MCI1','MCI2','MCI3','MIA1','MSP2','MSP3','MSP4','ORD1','ORD4','PHL1','PHX2','PHX3','PIT1','PIT2','SAN1','SAN2','SEA1','SFO1','SLC3','SLC4','SLC5','SNA1','SNA2','PAR1','PAR2','PAR3','MPL1','TLS1']), 'payout'] *= .5"
   ]
  },
  {
   "cell_type": "code",
   "execution_count": null,
   "id": "5b1b998b-c1da-4e06-a851-fbfa9f30018b",
   "metadata": {},
   "outputs": [],
   "source": [
    "shelby_locklear['payout'].sum()"
   ]
  },
  {
   "cell_type": "code",
   "execution_count": null,
   "id": "3180a32c-623b-47eb-afb5-b4d6d435cc9a",
   "metadata": {},
   "outputs": [],
   "source": [
    "lock_bookings = shelby_locklear['MRR'].sum()"
   ]
  },
  {
   "cell_type": "code",
   "execution_count": null,
   "id": "aaa64225-dd6a-4988-9e86-57db16690fdb",
   "metadata": {},
   "outputs": [],
   "source": [
    "lock_pay = shelby_locklear['payout'].sum()"
   ]
  },
  {
   "cell_type": "code",
   "execution_count": null,
   "id": "6f8762bd-915e-49f6-ac9f-106b42a61c22",
   "metadata": {},
   "outputs": [],
   "source": [
    "lock_bookings"
   ]
  },
  {
   "cell_type": "code",
   "execution_count": null,
   "id": "b3f2e12d-ad27-4911-b349-fdea2a4cdb09",
   "metadata": {},
   "outputs": [],
   "source": [
    "shelby_locklear.loc[111111] = ['Total Bookings:', lock_bookings, '', '' ,'','','','','','','']"
   ]
  },
  {
   "cell_type": "code",
   "execution_count": null,
   "id": "4f5dc885-040b-44e5-bd6b-5405b85354e2",
   "metadata": {},
   "outputs": [],
   "source": [
    "shelby_locklear.loc[111112] = ['Total Payout:', lock_pay, '', '' ,'','','','','','','']"
   ]
  },
  {
   "cell_type": "markdown",
   "id": "a3af1f73-788f-474b-8434-7843e7c04048",
   "metadata": {},
   "source": [
    "#### End Shelby Locklear"
   ]
  },
  {
   "cell_type": "markdown",
   "id": "47b6ebd2-8387-4aac-8820-0bf50cecd69e",
   "metadata": {
    "jp-MarkdownHeadingCollapsed": true,
    "tags": []
   },
   "source": [
    "### Kathy Geiser "
   ]
  },
  {
   "cell_type": "code",
   "execution_count": null,
   "id": "bb2369f9-63de-4598-87d9-fa0564a50f1e",
   "metadata": {},
   "outputs": [],
   "source": [
    "kathy_geiser.loc[kathy_geiser['Datacenter'].isin(['ATL2','ACT1','AUS1','CLE1','DEN1','DEN4','DFW1','DFW2','DFW6','DFW7','EWR2','IAD2','KC2','MEM1','MSP1','LHR1','ORD2','ORD3','PHX1','SEA2','SLC1','SLC2']), 'payout'] *= .75\n",
    "kathy_geiser.loc[kathy_geiser['Datacenter'].isin(['ATL1', 'ATL3', 'BOS1', 'BWI1', 'DEN2', 'DEN3', 'DFW3','DFW4', 'DFW5','EWR1','IAD1','IND1','IND2','LAS1','LAX1','LGA1','LGA2','MCI1','MCI2','MCI3','MIA1','MSP2','MSP3','MSP4','ORD1','ORD4','PHL1','PHX2','PHX3','PIT1','PIT2','SAN1','SAN2','SEA1','SFO1','SLC3','SLC4','SLC5','SNA1','SNA2','PAR1','PAR2','PAR3','MPL1','TLS1']), 'payout'] *= .5"
   ]
  },
  {
   "cell_type": "code",
   "execution_count": null,
   "id": "dc1c5392-233b-428b-b47e-b5ecf56a6c76",
   "metadata": {},
   "outputs": [],
   "source": [
    "kathy_geiser['payout'].sum()"
   ]
  },
  {
   "cell_type": "code",
   "execution_count": null,
   "id": "2dc59f56-4a29-4416-b950-e38e9f5d0d0e",
   "metadata": {},
   "outputs": [],
   "source": [
    "kath_bookings = kathy_geiser['MRR'].sum()"
   ]
  },
  {
   "cell_type": "code",
   "execution_count": null,
   "id": "a2d87e20-5a37-4890-bb7b-db822fe2c896",
   "metadata": {},
   "outputs": [],
   "source": [
    "kath_pay = kathy_geiser['payout'].sum()"
   ]
  },
  {
   "cell_type": "code",
   "execution_count": null,
   "id": "b5d80577-6f18-46ff-9620-a220ff79b1c4",
   "metadata": {},
   "outputs": [],
   "source": [
    "kath_bookings"
   ]
  },
  {
   "cell_type": "code",
   "execution_count": null,
   "id": "e6fc22a7-0fd0-4a4d-9ec2-16bb7541a9a0",
   "metadata": {},
   "outputs": [],
   "source": [
    "kathy_geiser.loc[111111] = ['Total Bookings:', kath_bookings, '', '' ,'','','','','','','']"
   ]
  },
  {
   "cell_type": "code",
   "execution_count": null,
   "id": "2565b46f-5a55-446d-92ab-3562016bc018",
   "metadata": {},
   "outputs": [],
   "source": [
    "kathy_geiser.loc[111112] = ['Total Payout:', kath_pay, '', '' ,'','','','','','','']"
   ]
  },
  {
   "cell_type": "markdown",
   "id": "f6470996-cd0c-48c9-92b5-d417799e7917",
   "metadata": {},
   "source": [
    "#### End Kathy Geiser "
   ]
  },
  {
   "cell_type": "markdown",
   "id": "e4bfb44a-ffaa-472d-b428-74b6baaba6b6",
   "metadata": {
    "jp-MarkdownHeadingCollapsed": true,
    "tags": []
   },
   "source": [
    "### Stephen Muoio"
   ]
  },
  {
   "cell_type": "code",
   "execution_count": null,
   "id": "dc97d829-8551-4b36-9333-0ac3dbee4613",
   "metadata": {},
   "outputs": [],
   "source": [
    "stephen_muoio.loc[stephen_muoio['Datacenter'].isin(['ATL2','ACT1','AUS1','CLE1','DEN1','DEN4','DFW1','DFW2','DFW6','DFW7','EWR2','IAD2','KC2','MEM1','MSP1','LHR1','ORD2','ORD3','PHX1','SEA2','SLC1','SLC2']), 'payout'] *= .75\n",
    "stephen_muoio.loc[stephen_muoio['Datacenter'].isin(['ATL1', 'ATL3', 'BOS1', 'BWI1', 'DEN2', 'DEN3', 'DFW3','DFW4', 'DFW5','EWR1','IAD1','IND1','IND2','LAS1','LAX1','LGA1','LGA2','MCI1','MCI2','MCI3','MIA1','MSP2','MSP3','MSP4','ORD1','ORD4','PHL1','PHX2','PHX3','PIT1','PIT2','SAN1','SAN2','SEA1','SFO1','SLC3','SLC4','SLC5','SNA1','SNA2','PAR1','PAR2','PAR3','MPL1','TLS1']), 'payout'] *= .5"
   ]
  },
  {
   "cell_type": "code",
   "execution_count": null,
   "id": "5fe484ab-dc46-47f4-8d97-3fb703f901a7",
   "metadata": {},
   "outputs": [],
   "source": [
    "stephen_muoio['payout'].sum()"
   ]
  },
  {
   "cell_type": "code",
   "execution_count": null,
   "id": "5eddb38f-3e59-4c53-82ef-9d2426f80516",
   "metadata": {},
   "outputs": [],
   "source": [
    "muo_bookings = stephen_muoio['MRR'].sum()"
   ]
  },
  {
   "cell_type": "code",
   "execution_count": null,
   "id": "332c2db8-e51d-4359-81b4-1f2b3e61b81b",
   "metadata": {},
   "outputs": [],
   "source": [
    "muo_pay = stephen_muoio['payout'].sum()"
   ]
  },
  {
   "cell_type": "code",
   "execution_count": null,
   "id": "39d17ac1-f3f5-4f35-a4e2-addc61911095",
   "metadata": {},
   "outputs": [],
   "source": [
    "muo_bookings"
   ]
  },
  {
   "cell_type": "code",
   "execution_count": null,
   "id": "717c8621-44df-4d5f-b2ff-792f7d12bace",
   "metadata": {},
   "outputs": [],
   "source": [
    "stephen_muoio.loc[111111] = ['Total Bookings:', muo_bookings, '', '' ,'','','','','','','']"
   ]
  },
  {
   "cell_type": "code",
   "execution_count": null,
   "id": "c1910cec-0c8b-449c-b766-d3944058c76a",
   "metadata": {},
   "outputs": [],
   "source": [
    "stephen_muoio.loc[111112] = ['Total Payout:', muo_pay, '', '' ,'','','','','','','']"
   ]
  },
  {
   "cell_type": "markdown",
   "id": "cd6a0718-d2a6-4a4a-b029-67ed6ca1761d",
   "metadata": {},
   "source": [
    "#### End Stephen Muoio"
   ]
  },
  {
   "cell_type": "markdown",
   "id": "8511d103-d9d9-45aa-a18a-a456f0c29a88",
   "metadata": {
    "tags": []
   },
   "source": [
    "## AMW - Peccoralo"
   ]
  },
  {
   "cell_type": "markdown",
   "id": "641819a6-8672-4618-8239-7dfb2610ba82",
   "metadata": {
    "tags": []
   },
   "source": [
    "### Olidane Hudson "
   ]
  },
  {
   "cell_type": "code",
   "execution_count": 8,
   "id": "277d4135-8172-42c0-aa04-b6496ab6eb01",
   "metadata": {},
   "outputs": [],
   "source": [
    "odaine_hudson.loc[odaine_hudson['Datacenter'].isin(['ATL2','ACT1','AUS1','CLE1','DEN1','DEN4','DFW1','DFW2','DFW6','DFW7','EWR2','IAD2','KC2','MEM1','MSP1','LHR1','ORD2','ORD3','PHX1','SEA2','SLC1','SLC2']), 'payout'] *= .75\n",
    "odaine_hudson.loc[odaine_hudson['Datacenter'].isin(['ATL1', 'ATL3', 'BOS1', 'BWI1', 'DEN2', 'DEN3', 'DFW3','DFW4', 'DFW5','EWR1','IAD1','IND1','IND2','LAS1','LAX1','LGA1','LGA2','MCI1','MCI2','MCI3','MIA1','MSP2','MSP3','MSP4','ORD1','ORD4','PHL1','PHX2','PHX3','PIT1','PIT2','SAN1','SAN2','SEA1','SFO1','SLC3','SLC4','SLC5','SNA1','SNA2','PAR1','PAR2','PAR3','MPL1','TLS1']), 'payout'] *= .5\n",
    "odaine_hudson.loc[odaine_hudson['Service Type'].isin(['Managed Services']) & odaine_hudson['Datacenter'].isin(['ATL2','ACT1','AUS1','CLE1','DEN1','DEN4','DFW1','DFW2','DFW6','DFW7','EWR2','IAD2','KC2','MEM1','MSP1','LHR1','ORD2','ORD3','PHX1','SEA2','SLC1','SLC2']), 'payout'] *= .66666667"
   ]
  },
  {
   "cell_type": "code",
   "execution_count": 9,
   "id": "1ffef211-d925-4128-8598-2cbd105f06eb",
   "metadata": {},
   "outputs": [
    {
     "data": {
      "text/plain": [
       "389.99625"
      ]
     },
     "execution_count": 9,
     "metadata": {},
     "output_type": "execute_result"
    }
   ],
   "source": [
    "odaine_hudson['payout'].sum()"
   ]
  },
  {
   "cell_type": "code",
   "execution_count": 10,
   "id": "bbda7040-2313-4751-bc60-c27e4f280be0",
   "metadata": {},
   "outputs": [],
   "source": [
    "hud_bookings = odaine_hudson['MRR'].sum()"
   ]
  },
  {
   "cell_type": "code",
   "execution_count": 11,
   "id": "c5bd0634-8160-481f-921c-401be3d1a2e1",
   "metadata": {},
   "outputs": [],
   "source": [
    "hud_pay = odaine_hudson['payout'].sum()"
   ]
  },
  {
   "cell_type": "code",
   "execution_count": 12,
   "id": "9120e8cd-305f-47a8-beef-1d7a1a928707",
   "metadata": {},
   "outputs": [],
   "source": [
    "odaine_hudson.loc[111111] = ['Total Bookings:', hud_bookings, '', '' ,'','','','','','','']"
   ]
  },
  {
   "cell_type": "code",
   "execution_count": 13,
   "id": "9e52958e-6945-452a-9c9d-5be850d9953a",
   "metadata": {},
   "outputs": [],
   "source": [
    "odaine_hudson.loc[111112] = ['Total Payout:', hud_pay, '', '' ,'','','','','','','']"
   ]
  },
  {
   "cell_type": "code",
   "execution_count": 14,
   "id": "e0852af8-dd7b-419b-aa53-160b8ad3a1b4",
   "metadata": {},
   "outputs": [
    {
     "data": {
      "text/html": [
       "<div>\n",
       "<style scoped>\n",
       "    .dataframe tbody tr th:only-of-type {\n",
       "        vertical-align: middle;\n",
       "    }\n",
       "\n",
       "    .dataframe tbody tr th {\n",
       "        vertical-align: top;\n",
       "    }\n",
       "\n",
       "    .dataframe thead th {\n",
       "        text-align: right;\n",
       "    }\n",
       "</style>\n",
       "<table border=\"1\" class=\"dataframe\">\n",
       "  <thead>\n",
       "    <tr style=\"text-align: right;\">\n",
       "      <th></th>\n",
       "      <th>Organization</th>\n",
       "      <th>Order #</th>\n",
       "      <th>Order Date</th>\n",
       "      <th>Salesman</th>\n",
       "      <th>Order Summary</th>\n",
       "      <th>Type</th>\n",
       "      <th>Term</th>\n",
       "      <th>Datacenter</th>\n",
       "      <th>payout</th>\n",
       "      <th>MRR</th>\n",
       "      <th>Service Type</th>\n",
       "    </tr>\n",
       "  </thead>\n",
       "  <tbody>\n",
       "    <tr>\n",
       "      <th>630</th>\n",
       "      <td>Cobius Healthcare Solutions</td>\n",
       "      <td>66502</td>\n",
       "      <td>2022-08-31 12:00:10.417000</td>\n",
       "      <td>Odaine Hudson</td>\n",
       "      <td>Cross Connect : CAT6E</td>\n",
       "      <td>New</td>\n",
       "      <td>19</td>\n",
       "      <td>ORD4</td>\n",
       "      <td>82.5</td>\n",
       "      <td>165.0</td>\n",
       "      <td>xConnect</td>\n",
       "    </tr>\n",
       "    <tr>\n",
       "      <th>631</th>\n",
       "      <td>Cobius Healthcare Solutions</td>\n",
       "      <td>66502</td>\n",
       "      <td>2022-08-31 12:00:10.417000</td>\n",
       "      <td>Odaine Hudson</td>\n",
       "      <td>Cross Connect : CAT6E</td>\n",
       "      <td>New</td>\n",
       "      <td>19</td>\n",
       "      <td>ORD4</td>\n",
       "      <td>82.5</td>\n",
       "      <td>165.0</td>\n",
       "      <td>xConnect</td>\n",
       "    </tr>\n",
       "    <tr>\n",
       "      <th>1846</th>\n",
       "      <td>Kaiser Permanente - zColo</td>\n",
       "      <td>65733</td>\n",
       "      <td>2022-08-18 13:36:50.387000</td>\n",
       "      <td>Odaine Hudson</td>\n",
       "      <td>Cross Connect : SMF</td>\n",
       "      <td>Change Order</td>\n",
       "      <td>12</td>\n",
       "      <td>ATL2</td>\n",
       "      <td>150.0</td>\n",
       "      <td>200.0</td>\n",
       "      <td>xConnect</td>\n",
       "    </tr>\n",
       "    <tr>\n",
       "      <th>2530</th>\n",
       "      <td>Protera Technologies</td>\n",
       "      <td>65328</td>\n",
       "      <td>2022-08-25 08:53:32.070000</td>\n",
       "      <td>Odaine Hudson</td>\n",
       "      <td>Cross Connect : SMF</td>\n",
       "      <td>New</td>\n",
       "      <td>12</td>\n",
       "      <td>ORD4</td>\n",
       "      <td>37.5</td>\n",
       "      <td>75.0</td>\n",
       "      <td>xConnect</td>\n",
       "    </tr>\n",
       "    <tr>\n",
       "      <th>2531</th>\n",
       "      <td>Protera Technologies</td>\n",
       "      <td>65328</td>\n",
       "      <td>2022-08-25 08:53:32.070000</td>\n",
       "      <td>Odaine Hudson</td>\n",
       "      <td>Cross Connect : SMF</td>\n",
       "      <td>New</td>\n",
       "      <td>12</td>\n",
       "      <td>AUS1</td>\n",
       "      <td>37.49625</td>\n",
       "      <td>75.0</td>\n",
       "      <td>Managed Services</td>\n",
       "    </tr>\n",
       "    <tr>\n",
       "      <th>111111</th>\n",
       "      <td>Total Bookings:</td>\n",
       "      <td>680.0</td>\n",
       "      <td></td>\n",
       "      <td></td>\n",
       "      <td></td>\n",
       "      <td></td>\n",
       "      <td></td>\n",
       "      <td></td>\n",
       "      <td></td>\n",
       "      <td></td>\n",
       "      <td></td>\n",
       "    </tr>\n",
       "    <tr>\n",
       "      <th>111112</th>\n",
       "      <td>Total Payout:</td>\n",
       "      <td>389.99625</td>\n",
       "      <td></td>\n",
       "      <td></td>\n",
       "      <td></td>\n",
       "      <td></td>\n",
       "      <td></td>\n",
       "      <td></td>\n",
       "      <td></td>\n",
       "      <td></td>\n",
       "      <td></td>\n",
       "    </tr>\n",
       "  </tbody>\n",
       "</table>\n",
       "</div>"
      ],
      "text/plain": [
       "                       Organization    Order #                  Order Date  \\\n",
       "630     Cobius Healthcare Solutions      66502  2022-08-31 12:00:10.417000   \n",
       "631     Cobius Healthcare Solutions      66502  2022-08-31 12:00:10.417000   \n",
       "1846      Kaiser Permanente - zColo      65733  2022-08-18 13:36:50.387000   \n",
       "2530           Protera Technologies      65328  2022-08-25 08:53:32.070000   \n",
       "2531           Protera Technologies      65328  2022-08-25 08:53:32.070000   \n",
       "111111              Total Bookings:      680.0                               \n",
       "111112                Total Payout:  389.99625                               \n",
       "\n",
       "             Salesman          Order Summary          Type Term Datacenter  \\\n",
       "630     Odaine Hudson  Cross Connect : CAT6E           New   19       ORD4   \n",
       "631     Odaine Hudson  Cross Connect : CAT6E           New   19       ORD4   \n",
       "1846    Odaine Hudson    Cross Connect : SMF  Change Order   12       ATL2   \n",
       "2530    Odaine Hudson    Cross Connect : SMF           New   12       ORD4   \n",
       "2531    Odaine Hudson    Cross Connect : SMF           New   12       AUS1   \n",
       "111111                                                                       \n",
       "111112                                                                       \n",
       "\n",
       "          payout    MRR      Service Type  \n",
       "630         82.5  165.0          xConnect  \n",
       "631         82.5  165.0          xConnect  \n",
       "1846       150.0  200.0          xConnect  \n",
       "2530        37.5   75.0          xConnect  \n",
       "2531    37.49625   75.0  Managed Services  \n",
       "111111                                     \n",
       "111112                                     "
      ]
     },
     "execution_count": 14,
     "metadata": {},
     "output_type": "execute_result"
    }
   ],
   "source": [
    "odaine_hudson"
   ]
  },
  {
   "cell_type": "code",
   "execution_count": null,
   "id": "9bcbb9f0-c9f1-4893-8bea-0e49de3684d6",
   "metadata": {},
   "outputs": [],
   "source": [
    "odaine_hudson.to_excel('test.xlsx')"
   ]
  },
  {
   "cell_type": "markdown",
   "id": "ee8ce3aa-ec8a-42ab-93f5-7fbf8e15ef20",
   "metadata": {},
   "source": [
    "#### End Odaine Hudson"
   ]
  },
  {
   "cell_type": "markdown",
   "id": "5f538532-a696-4ea8-aeeb-857b0203a310",
   "metadata": {
    "tags": []
   },
   "source": [
    "### Andrew Ramirez"
   ]
  },
  {
   "cell_type": "code",
   "execution_count": null,
   "id": "bfa57725-35d1-4909-a560-80bfee924469",
   "metadata": {},
   "outputs": [],
   "source": [
    "andrew_ramirez.loc[andrew_ramirez['Datacenter'].isin(['ATL2','ACT1','AUS1','CLE1','DEN1','DEN4','DFW1','DFW2','DFW6','DFW7','EWR2','IAD2','KC2','MEM1','MSP1','LHR1','ORD2','ORD3','PHX1','SEA2','SLC1','SLC2']), 'payout'] *= .75\n",
    "andrew_ramirez.loc[andrew_ramirez['Datacenter'].isin(['ATL1', 'ATL3', 'BOS1', 'BWI1', 'DEN2', 'DEN3', 'DFW3','DFW4', 'DFW5','EWR1','IAD1','IND1','IND2','LAS1','LAX1','LGA1','LGA2','MCI1','MCI2','MCI3','MIA1','MSP2','MSP3','MSP4','ORD1','ORD4','PHL1','PHX2','PHX3','PIT1','PIT2','SAN1','SAN2','SEA1','SFO1','SLC3','SLC4','SLC5','SNA1','SNA2','PAR1','PAR2','PAR3','MPL1','TLS1']), 'payout'] *= .5\n",
    "andrew_ramirez.loc[andrew_ramirez['Service Type'].isin(['Managed Services']) & andrew_ramirez['Datacenter'].isin(['ATL2','ACT1','AUS1','CLE1','DEN1','DEN4','DFW1','DFW2','DFW6','DFW7','EWR2','IAD2','KC2','MEM1','MSP1','LHR1','ORD2','ORD3','PHX1','SEA2','SLC1','SLC2']), 'payout'] *= .66666667"
   ]
  },
  {
   "cell_type": "code",
   "execution_count": null,
   "id": "91970645-5838-4382-abf8-c36676e5b0cb",
   "metadata": {},
   "outputs": [],
   "source": [
    "andrew_ramirez['payout'].sum()"
   ]
  },
  {
   "cell_type": "code",
   "execution_count": null,
   "id": "ec93f864-37d3-40e9-9fe7-646cb3565dbd",
   "metadata": {},
   "outputs": [],
   "source": [
    "ram_bookings = andrew_ramirez['MRR'].sum()"
   ]
  },
  {
   "cell_type": "code",
   "execution_count": null,
   "id": "9460ea15-c9b5-4992-a1c3-569ed884552b",
   "metadata": {},
   "outputs": [],
   "source": [
    "ram_pay = andrew_ramirez['payout'].sum()"
   ]
  },
  {
   "cell_type": "code",
   "execution_count": null,
   "id": "630f6e23-e0bf-447d-bb9e-23028fde8bda",
   "metadata": {},
   "outputs": [],
   "source": [
    "andrew_ramirez"
   ]
  },
  {
   "cell_type": "code",
   "execution_count": null,
   "id": "78963248-ec0b-4bca-9976-e7c692dcfb81",
   "metadata": {},
   "outputs": [],
   "source": [
    "andrew_ramirez.loc[111111] = ['Total Bookings:', ram_bookings, '', '' ,'','','','','','','']"
   ]
  },
  {
   "cell_type": "code",
   "execution_count": null,
   "id": "b6c15fad-cc1f-44e6-8400-19ed276364c9",
   "metadata": {},
   "outputs": [],
   "source": [
    "andrew_ramirez.loc[111112] = ['Total Payout:', ram_pay, '', '' ,'','','','','','','']"
   ]
  },
  {
   "cell_type": "markdown",
   "id": "0f238645-53d4-474b-94f0-d2c8f8beda1b",
   "metadata": {},
   "source": [
    "#### End Andrew Ramirez"
   ]
  },
  {
   "cell_type": "markdown",
   "id": "d5203793-7c10-4569-a1e4-56b69daf7dd2",
   "metadata": {
    "tags": []
   },
   "source": [
    "### Carlie Matel"
   ]
  },
  {
   "cell_type": "code",
   "execution_count": null,
   "id": "1d1111d7-d8ff-4232-ad1e-fd07aa76f5c0",
   "metadata": {},
   "outputs": [],
   "source": [
    "carlie_matel.loc[carlie_matel['Datacenter'].isin(['ATL2','ACT1','AUS1','CLE1','DEN1','DEN4','DFW1','DFW2','DFW6','DFW7','EWR2','IAD2','KC2','MEM1','MSP1','LHR1','ORD2','ORD3','PHX1','SEA2','SLC1','SLC2']), 'payout'] *= .75\n",
    "carlie_matel.loc[carlie_matel['Datacenter'].isin(['ATL1', 'ATL3', 'BOS1', 'BWI1', 'DEN2', 'DEN3', 'DFW3','DFW4', 'DFW5','EWR1','IAD1','IND1','IND2','LAS1','LAX1','LGA1','LGA2','MCI1','MCI2','MCI3','MIA1','MSP2','MSP3','MSP4','ORD1','ORD4','PHL1','PHX2','PHX3','PIT1','PIT2','SAN1','SAN2','SEA1','SFO1','SLC3','SLC4','SLC5','SNA1','SNA2','PAR1','PAR2','PAR3','MPL1','TLS1']), 'payout'] *= .5\n",
    "carlie_matel.loc[carlie_matel['Service Type'].isin(['Managed Services']) & carlie_matel['Datacenter'].isin(['ATL2','ACT1','AUS1','CLE1','DEN1','DEN4','DFW1','DFW2','DFW6','DFW7','EWR2','IAD2','KC2','MEM1','MSP1','LHR1','ORD2','ORD3','PHX1','SEA2','SLC1','SLC2']), 'payout'] *= .66666667"
   ]
  },
  {
   "cell_type": "code",
   "execution_count": null,
   "id": "156b2d89-1abb-4579-9423-d9b10bf4247c",
   "metadata": {},
   "outputs": [],
   "source": [
    "carlie_matel['payout'].sum()"
   ]
  },
  {
   "cell_type": "code",
   "execution_count": null,
   "id": "5568e69a-dd84-43f9-8607-8d27a3adaf98",
   "metadata": {},
   "outputs": [],
   "source": [
    "mat_bookings = carlie_matel['MRR'].sum()"
   ]
  },
  {
   "cell_type": "code",
   "execution_count": null,
   "id": "efdb5258-acc5-406d-89f1-c009adf2a6a5",
   "metadata": {},
   "outputs": [],
   "source": [
    "mat_pay = carlie_matel['payout'].sum()"
   ]
  },
  {
   "cell_type": "code",
   "execution_count": null,
   "id": "03c5619f-9ca8-4d3e-bc8a-60de2a9ad1f5",
   "metadata": {},
   "outputs": [],
   "source": [
    "carlie_matel.loc[111111] = ['Total Bookings:', mat_bookings, '', '' ,'','','','','','','']"
   ]
  },
  {
   "cell_type": "code",
   "execution_count": null,
   "id": "1c1d6a56-a062-4344-8502-a34c799d1c97",
   "metadata": {},
   "outputs": [],
   "source": [
    "carlie_matel.loc[111112] = ['Total Payout:', mat_pay, '', '' ,'','','','','','','']"
   ]
  },
  {
   "cell_type": "markdown",
   "id": "4bebe11b-41df-4ff3-8aed-21a6111bb1e3",
   "metadata": {},
   "source": [
    "#### End Carlie Matel "
   ]
  },
  {
   "cell_type": "markdown",
   "id": "36ae0f60-c114-40f0-b71a-0064212c5ef9",
   "metadata": {
    "tags": []
   },
   "source": [
    "### Jonathan Malcolm"
   ]
  },
  {
   "cell_type": "code",
   "execution_count": null,
   "id": "a7ec02c4-9116-42cd-af96-80d3de84ef01",
   "metadata": {},
   "outputs": [],
   "source": [
    "jonathan_malcolm.loc[jonathan_malcolm['Datacenter'].isin(['ATL2','ACT1','AUS1','CLE1','DEN1','DEN4','DFW1','DFW2','DFW6','DFW7','EWR2','IAD2','KC2','MEM1','MSP1','LHR1','ORD2','ORD3','PHX1','SEA2','SLC1','SLC2']), 'payout'] *= .75\n",
    "jonathan_malcolm.loc[jonathan_malcolm['Datacenter'].isin(['ATL1', 'ATL3', 'BOS1', 'BWI1', 'DEN2', 'DEN3', 'DFW3','DFW4', 'DFW5','EWR1','IAD1','IND1','IND2','LAS1','LAX1','LGA1','LGA2','MCI1','MCI2','MCI3','MIA1','MSP2','MSP3','MSP4','ORD1','ORD4','PHL1','PHX2','PHX3','PIT1','PIT2','SAN1','SAN2','SEA1','SFO1','SLC3','SLC4','SLC5','SNA1','SNA2','PAR1','PAR2','PAR3','MPL1','TLS1']), 'payout'] *= .5\n",
    "jonathan_malcolm.loc[jonathan_malcolm['Service Type'].isin(['Managed Services']) & jonathan_malcolm['Datacenter'].isin(['ATL2','ACT1','AUS1','CLE1','DEN1','DEN4','DFW1','DFW2','DFW6','DFW7','EWR2','IAD2','KC2','MEM1','MSP1','LHR1','ORD2','ORD3','PHX1','SEA2','SLC1','SLC2']), 'payout'] *= .66666667"
   ]
  },
  {
   "cell_type": "code",
   "execution_count": null,
   "id": "7aef05c5-82da-4490-84f9-38dde164a32f",
   "metadata": {},
   "outputs": [],
   "source": [
    "jonathan_malcolm['payout'].sum()"
   ]
  },
  {
   "cell_type": "code",
   "execution_count": null,
   "id": "8a2e92d6-304b-430f-880d-d5befe3b4729",
   "metadata": {},
   "outputs": [],
   "source": [
    "mal_bookings = jonathan_malcolm['MRR'].sum()"
   ]
  },
  {
   "cell_type": "code",
   "execution_count": null,
   "id": "cf95b13f-3a8e-4d33-b2f6-df5eb3bd4bab",
   "metadata": {},
   "outputs": [],
   "source": [
    "mal_pay = jonathan_malcolm['payout'].sum()"
   ]
  },
  {
   "cell_type": "code",
   "execution_count": null,
   "id": "31c4e49c-3ff7-4e11-9eec-b7e03c3c5c52",
   "metadata": {},
   "outputs": [],
   "source": [
    "jonathan_malcolm.loc[111111] = ['Total Bookings:', mal_bookings, '', '' ,'','','','','','','']"
   ]
  },
  {
   "cell_type": "code",
   "execution_count": null,
   "id": "8992473b-a313-4912-a208-9a54f84d8e0b",
   "metadata": {},
   "outputs": [],
   "source": [
    "jonathan_malcolm.loc[111112] = ['Total Payout:', mal_pay, '', '' ,'','','','','','','']"
   ]
  },
  {
   "cell_type": "markdown",
   "id": "a5924f64-0f93-4d5a-8f6d-e8fa49c94cf3",
   "metadata": {},
   "source": [
    "#### End Jonathan Malcolm"
   ]
  },
  {
   "cell_type": "markdown",
   "id": "f0bf2325-e56f-4bcd-970e-c5e3f4027eef",
   "metadata": {
    "tags": []
   },
   "source": [
    "### Mike Miceli"
   ]
  },
  {
   "cell_type": "code",
   "execution_count": null,
   "id": "28a52f59-33c3-4068-ae72-f552c5f2b9a5",
   "metadata": {},
   "outputs": [],
   "source": [
    "mike_miceli.loc[mike_miceli['Datacenter'].isin(['ATL2','ACT1','AUS1','CLE1','DEN1','DEN4','DFW1','DFW2','DFW6','DFW7','EWR2','IAD2','KC2','MEM1','MSP1','LHR1','ORD2','ORD3','PHX1','SEA2','SLC1','SLC2']), 'payout'] *= .75\n",
    "mike_miceli.loc[mike_miceli['Datacenter'].isin(['ATL1', 'ATL3', 'BOS1', 'BWI1', 'DEN2', 'DEN3', 'DFW3','DFW4', 'DFW5','EWR1','IAD1','IND1','IND2','LAS1','LAX1','LGA1','LGA2','MCI1','MCI2','MCI3','MIA1','MSP2','MSP3','MSP4','ORD1','ORD4','PHL1','PHX2','PHX3','PIT1','PIT2','SAN1','SAN2','SEA1','SFO1','SLC3','SLC4','SLC5','SNA1','SNA2','PAR1','PAR2','PAR3','MPL1','TLS1']), 'payout'] *= .5\n",
    "mike_miceli.loc[mike_miceli['Service Type'].isin(['Managed Services']) & mike_miceli['Datacenter'].isin(['ATL2','ACT1','AUS1','CLE1','DEN1','DEN4','DFW1','DFW2','DFW6','DFW7','EWR2','IAD2','KC2','MEM1','MSP1','LHR1','ORD2','ORD3','PHX1','SEA2','SLC1','SLC2']), 'payout'] *= .66666667"
   ]
  },
  {
   "cell_type": "code",
   "execution_count": null,
   "id": "34af587e-f883-46da-980f-ad04b2ed8c7d",
   "metadata": {},
   "outputs": [],
   "source": [
    "mike_miceli['payout'].sum()"
   ]
  },
  {
   "cell_type": "code",
   "execution_count": null,
   "id": "7a9c2267-46db-455e-8204-993c7608a447",
   "metadata": {},
   "outputs": [],
   "source": [
    "mike_bookings = mike_miceli['MRR'].sum()"
   ]
  },
  {
   "cell_type": "code",
   "execution_count": null,
   "id": "5d3f22f9-eaa4-4e42-b7a2-47a874306314",
   "metadata": {},
   "outputs": [],
   "source": [
    "mike_pay = mike_miceli['payout'].sum()"
   ]
  },
  {
   "cell_type": "code",
   "execution_count": null,
   "id": "e7015e4e-2c2f-4635-9b35-2fed70397de6",
   "metadata": {},
   "outputs": [],
   "source": [
    "mike_miceli.loc[111111] = ['Total Bookings:', mike_bookings, '', '' ,'','','','','','','']"
   ]
  },
  {
   "cell_type": "code",
   "execution_count": null,
   "id": "c2a6869f-c39d-4611-8def-5f1af8150598",
   "metadata": {},
   "outputs": [],
   "source": [
    "mike_miceli.loc[111112] = ['Total Payout:', mike_pay, '', '' ,'','','','','','','']"
   ]
  },
  {
   "cell_type": "markdown",
   "id": "339f2576-f3c5-4b20-876f-39852324d53f",
   "metadata": {},
   "source": [
    "#### End Mike Miceli"
   ]
  },
  {
   "cell_type": "markdown",
   "id": "75b39e8e-c975-439c-a9bc-2b5257f94186",
   "metadata": {
    "tags": []
   },
   "source": [
    "### Tiffany Dunson"
   ]
  },
  {
   "cell_type": "code",
   "execution_count": null,
   "id": "7051ffa3-ede5-4cc3-b3fd-6390cf97d902",
   "metadata": {},
   "outputs": [],
   "source": [
    "tiffany_dunson.loc[tiffany_dunson['Datacenter'].isin(['ATL2','ACT1','AUS1','CLE1','DEN1','DEN4','DFW1','DFW2','DFW6','DFW7','EWR2','IAD2','KC2','MEM1','MSP1','LHR1','ORD2','ORD3','PHX1','SEA2','SLC1','SLC2']), 'payout'] *= .75\n",
    "tiffany_dunson.loc[tiffany_dunson['Datacenter'].isin(['ATL1', 'ATL3', 'BOS1', 'BWI1', 'DEN2', 'DEN3', 'DFW3','DFW4', 'DFW5','EWR1','IAD1','IND1','IND2','LAS1','LAX1','LGA1','LGA2','MCI1','MCI2','MCI3','MIA1','MSP2','MSP3','MSP4','ORD1','ORD4','PHL1','PHX2','PHX3','PIT1','PIT2','SAN1','SAN2','SEA1','SFO1','SLC3','SLC4','SLC5','SNA1','SNA2','PAR1','PAR2','PAR3','MPL1','TLS1']), 'payout'] *= .5\n",
    "tiffany_dunson.loc[tiffany_dunson['Service Type'].isin(['Managed Services']) & tiffany_dunson['Datacenter'].isin(['ATL2','ACT1','AUS1','CLE1','DEN1','DEN4','DFW1','DFW2','DFW6','DFW7','EWR2','IAD2','KC2','MEM1','MSP1','LHR1','ORD2','ORD3','PHX1','SEA2','SLC1','SLC2']), 'payout'] *= .66666667"
   ]
  },
  {
   "cell_type": "code",
   "execution_count": null,
   "id": "3ed00da5-2ec1-427c-bb72-7d75a621d809",
   "metadata": {},
   "outputs": [],
   "source": [
    "tiffany_dunson['payout'].sum()"
   ]
  },
  {
   "cell_type": "code",
   "execution_count": null,
   "id": "bea1ddcc-88ed-4e38-a018-3a3bb2375793",
   "metadata": {},
   "outputs": [],
   "source": [
    "tiff_bookings = tiffany_dunson['MRR'].sum()"
   ]
  },
  {
   "cell_type": "code",
   "execution_count": null,
   "id": "fe798c4e-9118-42ed-b5ea-e85c1b529fd0",
   "metadata": {},
   "outputs": [],
   "source": [
    "tiff_pay = tiffany_dunson['payout'].sum()"
   ]
  },
  {
   "cell_type": "code",
   "execution_count": null,
   "id": "fffc9c9b-9383-46ed-ad03-ec9f31e3664c",
   "metadata": {},
   "outputs": [],
   "source": [
    "tiffany_dunson.loc[111111] = ['Total Bookings:', tiff_bookings, '', '' ,'','','','','','','']"
   ]
  },
  {
   "cell_type": "code",
   "execution_count": null,
   "id": "af499711-fe14-4354-bd82-093556c177db",
   "metadata": {},
   "outputs": [],
   "source": [
    "tiffany_dunson.loc[111112] = ['Total Payout:', tiff_pay, '', '' ,'','','','','','','']"
   ]
  },
  {
   "cell_type": "markdown",
   "id": "4161e6f6-e0a1-423e-b32b-ce4d8b0f3b34",
   "metadata": {},
   "source": [
    "#### End Tiffany Dunson"
   ]
  },
  {
   "cell_type": "markdown",
   "id": "2e14c502-fbf8-457a-8e10-ada65b6cf143",
   "metadata": {},
   "source": [
    "### Brandon Peccorolo "
   ]
  },
  {
   "cell_type": "code",
   "execution_count": null,
   "id": "43c62322-a473-42b7-a03a-3b22cc2cf0bf",
   "metadata": {},
   "outputs": [],
   "source": [
    "pecc = hud_bookings + ram_bookings + mat_bookings + mal_bookings + mike_bookings + tiff_bookings"
   ]
  },
  {
   "cell_type": "code",
   "execution_count": null,
   "id": "b4c34a7d-959b-4b2a-9898-5d3da7c63390",
   "metadata": {},
   "outputs": [],
   "source": [
    "pecc"
   ]
  },
  {
   "cell_type": "code",
   "execution_count": null,
   "id": "77c12ded-c3f8-4825-b064-fa6dd1c92147",
   "metadata": {},
   "outputs": [],
   "source": [
    "pecc.loc[11] = ['Monthly Team Commission']"
   ]
  },
  {
   "cell_type": "code",
   "execution_count": null,
   "id": "ab64531f-d8da-4714-a6a7-1eb0b34a0f5c",
   "metadata": {},
   "outputs": [],
   "source": []
  },
  {
   "cell_type": "code",
   "execution_count": null,
   "id": "4cd1d0d9-a68e-4696-bda2-adb865a3013f",
   "metadata": {},
   "outputs": [],
   "source": []
  },
  {
   "cell_type": "code",
   "execution_count": null,
   "id": "0073a58e-e06c-438b-a8ef-2789b0d95474",
   "metadata": {},
   "outputs": [],
   "source": []
  },
  {
   "cell_type": "code",
   "execution_count": null,
   "id": "37788c73-51c8-4395-b39b-3b48a3c1dd97",
   "metadata": {},
   "outputs": [],
   "source": []
  },
  {
   "cell_type": "code",
   "execution_count": null,
   "id": "c097440c-5568-4e1d-8b90-c1dbac53997c",
   "metadata": {},
   "outputs": [],
   "source": []
  }
 ],
 "metadata": {
  "kernelspec": {
   "display_name": "Python 3 (ipykernel)",
   "language": "python",
   "name": "python3"
  },
  "language_info": {
   "codemirror_mode": {
    "name": "ipython",
    "version": 3
   },
   "file_extension": ".py",
   "mimetype": "text/x-python",
   "name": "python",
   "nbconvert_exporter": "python",
   "pygments_lexer": "ipython3",
   "version": "3.9.7"
  }
 },
 "nbformat": 4,
 "nbformat_minor": 5
}
